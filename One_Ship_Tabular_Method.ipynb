{
 "cells": [
  {
   "cell_type": "code",
   "execution_count": 1,
   "metadata": {},
   "outputs": [],
   "source": [
    "import gym\n",
    "from Environment import halite_env as Env"
   ]
  },
  {
   "cell_type": "code",
   "execution_count": 2,
   "metadata": {
    "scrolled": false
   },
   "outputs": [
    {
     "name": "stdout",
     "output_type": "stream",
     "text": [
      "Help on module Environment.halite_env in Environment:\n",
      "\n",
      "NAME\n",
      "    Environment.halite_env\n",
      "\n",
      "CLASSES\n",
      "    builtins.object\n",
      "        MapGenerator\n",
      "    gym.core.Env(builtins.object)\n",
      "        HaliteEnv\n",
      "    \n",
      "    class HaliteEnv(gym.core.Env)\n",
      "     |  HaliteEnv(num_players, map_type, map_size, regen_map_on_reset=False)\n",
      "     |  \n",
      "     |  Stores the Halite III OpenAI gym environment.\n",
      "     |  \n",
      "     |  [Original, to change]\n",
      "     |  This environment does not use Halite III's actual game engine\n",
      "     |  (which analyzes input from terminal and is slow for RL) but instead is\n",
      "     |  a replica in Python.\n",
      "     |  \n",
      "     |  Attributes:\n",
      "     |  -----------\n",
      "     |  self.map : np.ndarray\n",
      "     |      Map of game as a 3D array. Stores different information on each \"layer\"\n",
      "     |      of the array.\n",
      "     |  Layer 0: The Halite currently on the sea floor\n",
      "     |  Layer 1: The Halite currently on ships/factory/dropoff\n",
      "     |  Layer 2: Whether a Factory or Dropoff exists at the layer (Factory is 1, Dropoff is -1)\n",
      "     |  Layer 3: Whether a Ship exists at the layer\n",
      "     |  Layer 4: Ownership\n",
      "     |  Layer 5: Inspiration (not given as part of observation by default)\n",
      "     |  \n",
      "     |  self.mapSize : int\n",
      "     |      Size of map (for x and y)\n",
      "     |  \n",
      "     |  self.numPlayers : int\n",
      "     |      Number of players\n",
      "     |  \n",
      "     |  self.playerHalite : np.ndarray\n",
      "     |      Stores the total halite a player with ownership id <index + 1> has. self.map also\n",
      "     |      stores the total halite with the halite under factories/dropoffs, but doesn't\n",
      "     |      include the 5000 initial.\n",
      "     |  \n",
      "     |  Method resolution order:\n",
      "     |      HaliteEnv\n",
      "     |      gym.core.Env\n",
      "     |      builtins.object\n",
      "     |  \n",
      "     |  Methods defined here:\n",
      "     |  \n",
      "     |  __init__(self, num_players, map_type, map_size, regen_map_on_reset=False)\n",
      "     |      Every environment should be derived from gym.Env and at least contain the\n",
      "     |      variables observation_space and action_space specifying the type of possible\n",
      "     |      observations and actions using spaces.Box or spaces.Discrete.\n",
      "     |      \n",
      "     |      Example:\n",
      "     |      >>> EnvTest = FooEnv()\n",
      "     |      >>> EnvTest.observation_space=spaces.Box(low=-1, high=1, shape=(3,4))\n",
      "     |      >>> EnvTest.action_space=spaces.Discrete(2)\n",
      "     |      \n",
      "     |      HaliteEnv initialization function.\n",
      "     |  \n",
      "     |  render(self, mode='human', close=False)\n",
      "     |      This methods provides the option to render the environment's behavior to a window\n",
      "     |      which should be readable to the human eye if mode is set to 'human'.\n",
      "     |  \n",
      "     |  reset(self)\n",
      "     |      This method resets the environment to its initial values.\n",
      "     |      \n",
      "     |      Returns:\n",
      "     |          observation:    array\n",
      "     |                          the initial state of the environment\n",
      "     |  \n",
      "     |  step(self, action, debug=False)\n",
      "     |      Primary interface between environment and agent.\n",
      "     |      \n",
      "     |      Paramters:\n",
      "     |          action: int\n",
      "     |                  the index of the respective action (if action space is discrete)\n",
      "     |      \n",
      "     |      Returns:\n",
      "     |          output: (array, float, bool)\n",
      "     |                  information provided by the environment about its current state:\n",
      "     |                  (observation, reward, done)\n",
      "     |  \n",
      "     |  ----------------------------------------------------------------------\n",
      "     |  Data and other attributes defined here:\n",
      "     |  \n",
      "     |  metadata = {'map_size': 0, 'num_players': 0, 'render_modes': ['human']...\n",
      "     |  \n",
      "     |  ----------------------------------------------------------------------\n",
      "     |  Methods inherited from gym.core.Env:\n",
      "     |  \n",
      "     |  __enter__(self)\n",
      "     |  \n",
      "     |  __exit__(self, *args)\n",
      "     |  \n",
      "     |  __str__(self)\n",
      "     |      Return str(self).\n",
      "     |  \n",
      "     |  close(self)\n",
      "     |      Override _close in your subclass to perform any necessary cleanup.\n",
      "     |      \n",
      "     |      Environments will automatically close() themselves when\n",
      "     |      garbage collected or when the program exits.\n",
      "     |  \n",
      "     |  seed(self, seed=None)\n",
      "     |      Sets the seed for this env's random number generator(s).\n",
      "     |      \n",
      "     |      Note:\n",
      "     |          Some environments use multiple pseudorandom number generators.\n",
      "     |          We want to capture all such seeds used in order to ensure that\n",
      "     |          there aren't accidental correlations between multiple generators.\n",
      "     |      \n",
      "     |      Returns:\n",
      "     |          list<bigint>: Returns the list of seeds used in this env's random\n",
      "     |            number generators. The first value in the list should be the\n",
      "     |            \"main\" seed, or the value which a reproducer should pass to\n",
      "     |            'seed'. Often, the main seed equals the provided 'seed', but\n",
      "     |            this won't be true if seed=None, for example.\n",
      "     |  \n",
      "     |  ----------------------------------------------------------------------\n",
      "     |  Data descriptors inherited from gym.core.Env:\n",
      "     |  \n",
      "     |  __dict__\n",
      "     |      dictionary for instance variables (if defined)\n",
      "     |  \n",
      "     |  __weakref__\n",
      "     |      list of weak references to the object (if defined)\n",
      "     |  \n",
      "     |  unwrapped\n",
      "     |      Completely unwrap this env.\n",
      "     |      \n",
      "     |      Returns:\n",
      "     |          gym.Env: The base non-wrapped gym.Env instance\n",
      "     |  \n",
      "     |  ----------------------------------------------------------------------\n",
      "     |  Data and other attributes inherited from gym.core.Env:\n",
      "     |  \n",
      "     |  action_space = None\n",
      "     |  \n",
      "     |  observation_space = None\n",
      "     |  \n",
      "     |  reward_range = (-inf, inf)\n",
      "     |  \n",
      "     |  spec = None\n",
      "    \n",
      "    class MapGenerator(builtins.object)\n",
      "     |  Methods defined here:\n",
      "     |  \n",
      "     |  __init__(self)\n",
      "     |      Initialize self.  See help(type(self)) for accurate signature.\n",
      "     |  \n",
      "     |  dummy_map(self, map_size, num_ships)\n",
      "     |  \n",
      "     |  generate_fractal_map(self, map_size, num_players)\n",
      "     |  \n",
      "     |  generate_map(self, map_size, num_players)\n",
      "     |  \n",
      "     |  initialize_shipyard_location(self, map_size, num_players, mapp)\n",
      "     |  \n",
      "     |  ----------------------------------------------------------------------\n",
      "     |  Data descriptors defined here:\n",
      "     |  \n",
      "     |  __dict__\n",
      "     |      dictionary for instance variables (if defined)\n",
      "     |  \n",
      "     |  __weakref__\n",
      "     |      list of weak references to the object (if defined)\n",
      "\n",
      "FUNCTIONS\n",
      "    MapSize(size)\n",
      "        Enum of the different possible map sizes\n",
      "    \n",
      "    dummy_action(state, num_ships)\n",
      "    \n",
      "    roll_state(state, action)\n",
      "\n",
      "FILE\n",
      "    /home/nicola/Nicola_unipd/QuartoAnno/TODO/Baiesi/RL/haliteRL/Environment/halite_env.py\n",
      "\n",
      "\n"
     ]
    }
   ],
   "source": [
    "help(Env)"
   ]
  },
  {
   "cell_type": "code",
   "execution_count": 3,
   "metadata": {},
   "outputs": [
    {
     "name": "stdout",
     "output_type": "stream",
     "text": [
      "Initializing Halite Environment\n"
     ]
    }
   ],
   "source": [
    "env = Env.HaliteEnv(1, None, 6) #remove None once fetched the update from upstream"
   ]
  },
  {
   "cell_type": "code",
   "execution_count": 4,
   "metadata": {},
   "outputs": [
    {
     "data": {
      "text/plain": [
       "array([[9947, 9373, 5035, 8025,   40,  668],\n",
       "       [7054, 3024, 9908, 7287, 2641, 2959],\n",
       "       [ 415, 6382, 1927, 5282, 6980,  754],\n",
       "       [5567, 4358, 4021,    0, 7720, 5974],\n",
       "       [ 975, 6982,  700, 7289, 7204, 4040],\n",
       "       [2934, 2029, 7908, 1429, 2472, 3992]])"
      ]
     },
     "execution_count": 4,
     "metadata": {},
     "output_type": "execute_result"
    }
   ],
   "source": [
    "env.map[:,:,0] #halite in the map"
   ]
  },
  {
   "cell_type": "code",
   "execution_count": 5,
   "metadata": {},
   "outputs": [
    {
     "data": {
      "text/plain": [
       "array([[0, 0, 0, 0, 0, 0],\n",
       "       [0, 0, 0, 0, 0, 0],\n",
       "       [0, 0, 0, 0, 0, 0],\n",
       "       [0, 0, 0, 0, 0, 0],\n",
       "       [0, 0, 0, 0, 0, 0],\n",
       "       [0, 0, 0, 0, 0, 0]])"
      ]
     },
     "execution_count": 5,
     "metadata": {},
     "output_type": "execute_result"
    }
   ],
   "source": [
    "env.map[:,:,1] #halite carried from each ship"
   ]
  },
  {
   "cell_type": "code",
   "execution_count": 6,
   "metadata": {},
   "outputs": [
    {
     "data": {
      "text/plain": [
       "array([[0, 0, 0, 0, 0, 0],\n",
       "       [0, 0, 0, 0, 0, 0],\n",
       "       [0, 0, 0, 0, 0, 0],\n",
       "       [0, 0, 0, 1, 0, 0],\n",
       "       [0, 0, 0, 0, 0, 0],\n",
       "       [0, 0, 0, 0, 0, 0]])"
      ]
     },
     "execution_count": 6,
     "metadata": {},
     "output_type": "execute_result"
    }
   ],
   "source": [
    "env.map[:,:,2] #shipyard position"
   ]
  },
  {
   "cell_type": "code",
   "execution_count": 10,
   "metadata": {},
   "outputs": [
    {
     "data": {
      "text/plain": [
       "array([[0, 0, 0, 0, 0, 0],\n",
       "       [0, 0, 0, 0, 0, 0],\n",
       "       [0, 0, 0, 0, 0, 0],\n",
       "       [0, 0, 0, 1, 0, 0],\n",
       "       [0, 0, 0, 0, 0, 0],\n",
       "       [0, 0, 0, 0, 0, 0]])"
      ]
     },
     "execution_count": 10,
     "metadata": {},
     "output_type": "execute_result"
    }
   ],
   "source": [
    "env.map[:,:,3] #ship position"
   ]
  },
  {
   "cell_type": "code",
   "execution_count": 9,
   "metadata": {},
   "outputs": [],
   "source": [
    "env.map[:,:,3][env.map[:,:,2].astype(bool)] = 1"
   ]
  },
  {
   "cell_type": "code",
   "execution_count": 8,
   "metadata": {},
   "outputs": [
    {
     "ename": "TypeError",
     "evalue": "step() missing 1 required positional argument: 'action'",
     "output_type": "error",
     "traceback": [
      "\u001b[0;31m---------------------------------------------------------------------------\u001b[0m",
      "\u001b[0;31mTypeError\u001b[0m                                 Traceback (most recent call last)",
      "\u001b[0;32m<ipython-input-8-110042b28e3a>\u001b[0m in \u001b[0;36m<module>\u001b[0;34m()\u001b[0m\n\u001b[0;32m----> 1\u001b[0;31m \u001b[0menv\u001b[0m\u001b[0;34m.\u001b[0m\u001b[0mstep\u001b[0m\u001b[0;34m(\u001b[0m\u001b[0;34m)\u001b[0m\u001b[0;34m\u001b[0m\u001b[0;34m\u001b[0m\u001b[0m\n\u001b[0m",
      "\u001b[0;31mTypeError\u001b[0m: step() missing 1 required positional argument: 'action'"
     ]
    }
   ],
   "source": [
    "env.step()"
   ]
  },
  {
   "cell_type": "code",
   "execution_count": null,
   "metadata": {},
   "outputs": [],
   "source": []
  }
 ],
 "metadata": {
  "kernelspec": {
   "display_name": "Python 3",
   "language": "python",
   "name": "python3"
  },
  "language_info": {
   "codemirror_mode": {
    "name": "ipython",
    "version": 3
   },
   "file_extension": ".py",
   "mimetype": "text/x-python",
   "name": "python",
   "nbconvert_exporter": "python",
   "pygments_lexer": "ipython3",
   "version": "3.7.2"
  }
 },
 "nbformat": 4,
 "nbformat_minor": 2
}

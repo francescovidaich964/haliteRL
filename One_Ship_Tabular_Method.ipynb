{
 "cells": [
  {
   "cell_type": "markdown",
   "metadata": {},
   "source": [
    "# Halite challenge - basics"
   ]
  },
  {
   "cell_type": "code",
   "execution_count": 21,
   "metadata": {},
   "outputs": [],
   "source": [
    "import gym\n",
    "import numpy as np\n",
    "import matplotlib.pyplot as plt\n",
    "from Environment import halite_env as Env"
   ]
  },
  {
   "cell_type": "code",
   "execution_count": 22,
   "metadata": {},
   "outputs": [
    {
     "data": {
      "text/plain": [
       "<module 'Environment.halite_env' from '/home/nicola/Nicola_unipd/QuartoAnno/TODO/Baiesi/RL/haliteRL/Environment/halite_env.py'>"
      ]
     },
     "execution_count": 22,
     "metadata": {},
     "output_type": "execute_result"
    }
   ],
   "source": [
    "from importlib import reload\n",
    "reload(Env)"
   ]
  },
  {
   "cell_type": "markdown",
   "metadata": {},
   "source": [
    "## Setup of the environment"
   ]
  },
  {
   "cell_type": "code",
   "execution_count": 23,
   "metadata": {},
   "outputs": [],
   "source": [
    "num_players = 1\n",
    "n_actions = 5 # no dropoffs, 1 action for staying still, 4 for moving in the cardinal directions\n",
    "map_size = 7 # 7 x 7 map"
   ]
  },
  {
   "cell_type": "code",
   "execution_count": 24,
   "metadata": {},
   "outputs": [
    {
     "name": "stdout",
     "output_type": "stream",
     "text": [
      "Initializing Halite Environment\n"
     ]
    }
   ],
   "source": [
    "env = Env.HaliteEnv(num_players, map_size)"
   ]
  },
  {
   "cell_type": "code",
   "execution_count": 25,
   "metadata": {},
   "outputs": [
    {
     "data": {
      "text/plain": [
       "array([[ 49, 338, 222, 605, 366, 544, 335],\n",
       "       [473, 863, 981, 465, 797, 118, 441],\n",
       "       [386, 763, 257, 514, 280, 199, 554],\n",
       "       [985, 718, 155,   0, 273, 348, 562],\n",
       "       [364, 444, 456, 728, 700,  70, 936],\n",
       "       [838, 153,  63, 344, 209, 247, 660],\n",
       "       [980, 664, 962, 572, 693, 389, 152]])"
      ]
     },
     "execution_count": 25,
     "metadata": {},
     "output_type": "execute_result"
    }
   ],
   "source": [
    "# halite in the map, min = 0, max = 1000\n",
    "env.map[:,:,0]"
   ]
  },
  {
   "cell_type": "code",
   "execution_count": 26,
   "metadata": {},
   "outputs": [
    {
     "data": {
      "text/plain": [
       "array([[0, 0, 0, 0, 0, 0, 0],\n",
       "       [0, 0, 0, 0, 0, 0, 0],\n",
       "       [0, 0, 0, 0, 0, 0, 0],\n",
       "       [0, 0, 0, 0, 0, 0, 0],\n",
       "       [0, 0, 0, 0, 0, 0, 0],\n",
       "       [0, 0, 0, 0, 0, 0, 0],\n",
       "       [0, 0, 0, 0, 0, 0, 0]])"
      ]
     },
     "execution_count": 26,
     "metadata": {},
     "output_type": "execute_result"
    }
   ],
   "source": [
    "# ship position\n",
    "env.map[:,:,1] "
   ]
  },
  {
   "cell_type": "code",
   "execution_count": 27,
   "metadata": {},
   "outputs": [
    {
     "data": {
      "text/plain": [
       "array([[0, 0, 0, 0, 0, 0, 0],\n",
       "       [0, 0, 0, 0, 0, 0, 0],\n",
       "       [0, 0, 0, 0, 0, 0, 0],\n",
       "       [0, 0, 0, 0, 0, 0, 0],\n",
       "       [0, 0, 0, 0, 0, 0, 0],\n",
       "       [0, 0, 0, 0, 0, 0, 0],\n",
       "       [0, 0, 0, 0, 0, 0, 0]])"
      ]
     },
     "execution_count": 27,
     "metadata": {},
     "output_type": "execute_result"
    }
   ],
   "source": [
    "# shows the halite carried from each ship in the position corresponding to the ship\n",
    "# initially there is no ship, hence no halite carried either\n",
    "\n",
    "env.map[:,:,2] "
   ]
  },
  {
   "cell_type": "code",
   "execution_count": 28,
   "metadata": {},
   "outputs": [
    {
     "data": {
      "text/plain": [
       "array([[0, 0, 0, 0, 0, 0, 0],\n",
       "       [0, 0, 0, 0, 0, 0, 0],\n",
       "       [0, 0, 0, 0, 0, 0, 0],\n",
       "       [0, 0, 0, 1, 0, 0, 0],\n",
       "       [0, 0, 0, 0, 0, 0, 0],\n",
       "       [0, 0, 0, 0, 0, 0, 0],\n",
       "       [0, 0, 0, 0, 0, 0, 0]])"
      ]
     },
     "execution_count": 28,
     "metadata": {},
     "output_type": "execute_result"
    }
   ],
   "source": [
    "# shipyard position\n",
    "env.map[:,:,3] "
   ]
  },
  {
   "cell_type": "code",
   "execution_count": 29,
   "metadata": {},
   "outputs": [
    {
     "name": "stdout",
     "output_type": "stream",
     "text": [
      "Initial halite:  [5000.]\n"
     ]
    }
   ],
   "source": [
    "print(\"Initial halite: \", env.player_halite[0])"
   ]
  },
  {
   "cell_type": "code",
   "execution_count": 30,
   "metadata": {},
   "outputs": [],
   "source": [
    "# actions are represented as a matrix whose entries are -1 if no ship is in that position, \n",
    "#'a_i' if ship i is present in that position \n",
    "action_matrix = np.full((map_size,map_size), -1) # no ship, no action"
   ]
  },
  {
   "cell_type": "code",
   "execution_count": 31,
   "metadata": {},
   "outputs": [],
   "source": [
    "# the environment already has in memory the last state, thus we don't need to resubmit it\n",
    "# the only things that we submit are the action matrix and the shipyard action (1 or True to spawn a ship, 0 otherwise)\n",
    "shipyard_action = 1 # initially always choose to create a ship\n",
    "# returns the state, i.e. env.map\n",
    "s, h, finish, _ = env.step(action_matrix, makeship = shipyard_action)\n",
    "# s_0 -> map_halite, s_1 -> cargo_halite, s_2 -> shipyard_position (not used), s_3 -> ship_position\n",
    "map_halite = s[:,:,0]\n",
    "ship_pos_matrix = s[:,:,1]\n",
    "shipy_pos_matrix = s[:,:,3]"
   ]
  },
  {
   "cell_type": "code",
   "execution_count": 32,
   "metadata": {},
   "outputs": [],
   "source": [
    "def encode(v_dec, L):\n",
    "    # v_two = [v1,v2]\n",
    "    # returns the encoded version V[v1,v2] of V = np.arange(0,L)\n",
    "    # L = length(all_possible_v)\n",
    "    V = np.arange(0,L**2).reshape((L,L))\n",
    "    v_enc = V[v_dec[0],v_dec[1]] \n",
    "    return v_enc\n",
    "\n",
    "def decode(v_enc, L):\n",
    "    V = np.arange(0,L**2).reshape((L,L))\n",
    "    v_dec = np.array([np.where(v_enc == V)[0][0],np.where(v_enc == V)[1][0]])\n",
    "    return v_dec\n",
    "\n",
    "def one_to_index(V,L):\n",
    "    # matrix V with one entry = 1 and the others 0\n",
    "    return np.arange(L**2).reshape((L, L))[V.astype(bool)]\n",
    "\n",
    "# ship positions x (n_cells + 1) x halite levels -> tensor\n",
    "# we will need a 3D encoding, like the 2D seen above\n",
    "def encode3D(v_dec, L1, L2, L3):\n",
    "    # v_dec = [v1,v2,v3]\n",
    "    # returns the encoded version V[v1,v2,v3] of V = np.arange(0,L1*L2*L3)\n",
    "    V = np.arange(0,L1*L2*L3).reshape((L1,L2,L3))\n",
    "    v_enc = V[v_dec[0],v_dec[1], v_dec[2]] \n",
    "    return v_enc\n",
    "\n",
    "def decode3D(v_enc, L1, L2, L3):\n",
    "    # v_enc = V[v1,v2,v3] \n",
    "    # V = np.arange(0,L1*L2*L3)\n",
    "    # returns the decoded version v_dec = [v1,v2,v3] of V[v1,v2,v3] \n",
    "    V = np.arange(0,L1*L2*L3).reshape((L1,L2,L3))\n",
    "    v_dec = np.array([np.where(v_enc == V)[0][0],np.where(v_enc == V)[1][0], np.where(v_enc == V)[2][0]])\n",
    "    return v_dec"
   ]
  },
  {
   "cell_type": "code",
   "execution_count": 33,
   "metadata": {},
   "outputs": [
    {
     "name": "stdout",
     "output_type": "stream",
     "text": [
      "Encoded position of the ship:  [24]\n",
      "Decoded position of the ship:  [3 3]\n",
      "Encoded position of the shipyard:  [24]\n",
      "Decoded position of the shipyard:  [3 3]\n"
     ]
    }
   ],
   "source": [
    "#position_encoded of the ship\n",
    "pos_enc = one_to_index(ship_pos_matrix, map_size)\n",
    "print(\"Encoded position of the ship: \", pos_enc)\n",
    "#position_decoded of the ship\n",
    "pos_dec = decode(pos_enc, map_size)\n",
    "print(\"Decoded position of the ship: \", pos_dec)\n",
    "\n",
    "#position_encoded of the ship\n",
    "shipy_enc = one_to_index(shipy_pos_matrix, map_size)\n",
    "print(\"Encoded position of the shipyard: \", shipy_enc)\n",
    "#position_decoded of the ship\n",
    "shipy_dec = decode(shipy_enc, map_size)\n",
    "print(\"Decoded position of the shipyard: \", shipy_dec)"
   ]
  },
  {
   "cell_type": "code",
   "execution_count": 34,
   "metadata": {},
   "outputs": [
    {
     "name": "stdout",
     "output_type": "stream",
     "text": [
      "Initial ship cargo:  0\n"
     ]
    }
   ],
   "source": [
    "ship_cargo = s[pos_dec[0],pos_dec[1],2]\n",
    "print(\"Initial ship cargo: \", ship_cargo)"
   ]
  },
  {
   "cell_type": "code",
   "execution_count": 63,
   "metadata": {},
   "outputs": [
    {
     "name": "stdout",
     "output_type": "stream",
     "text": [
      "This is what we should get: \n",
      " [[152 980 664 962 572 693 389]\n",
      " [335  49 338 222 605 366 544]\n",
      " [441 473 863 981 465 797 118]\n",
      " [554 386 763 257 514 280 199]\n",
      " [562 985 718 155   0 273 348]\n",
      " [936 364 444 456 728 700  70]\n",
      " [660 838 153  63 344 209 247]]\n",
      "Result: \n",
      " [[152 980 664 962 572 693 389]\n",
      " [335  49 338 222 605 366 544]\n",
      " [441 473 863 981 465 797 118]\n",
      " [554 386 763 257 514 280 199]\n",
      " [562 985 718 155   0 273 348]\n",
      " [936 364 444 456 728 700  70]\n",
      " [660 838 153  63 344 209 247]]\n",
      "Neighborhood of the ship: \n",
      " [[863 981 465]\n",
      " [763 257 514]\n",
      " [718 155   0]] \n",
      "\n",
      "Map shifted in direction: (-2,0)\n",
      " [[718 155   0]\n",
      " [444 456 728]\n",
      " [153  63 344]]\n",
      "Mean halite in direction: (-2,0) 340.1111111111111 \n",
      "\n",
      "Map shifted in direction: (2,0)\n",
      " [[664 962 572]\n",
      " [338 222 605]\n",
      " [863 981 465]]\n",
      "Mean halite in direction: (2,0) 630.2222222222222 \n",
      "\n",
      "Map shifted in direction: (-2,1)\n",
      " [[465 797 118]\n",
      " [514 280 199]\n",
      " [  0 273 348]]\n",
      "Mean halite in direction: (-2,1) 332.6666666666667 \n",
      "\n",
      "Map shifted in direction: (2,1)\n",
      " [[441 473 863]\n",
      " [554 386 763]\n",
      " [562 985 718]]\n",
      "Mean halite in direction: (2,1) 638.3333333333334 \n",
      "\n",
      "Action suggested to reach the nearest and richest halite deposit:  4\n"
     ]
    }
   ],
   "source": [
    "search_range = 3\n",
    "# now suppose that the ship is in [2,2], whereas the shipyard is at the center of the map, i.e. [3,3]\n",
    "example = np.roll(map_halite, shift = (1,1) , axis =  (0,1)) #in this way we simulate the ship to be in (2,2)\n",
    "print(\"This is what we should get: \\n\", example)\n",
    "pos_dec = [2,2]\n",
    "shift = (shipy_dec[0]-pos_dec[0],shipy_dec[1]-pos_dec[1])\n",
    "centered_h = np.roll(map_halite, shift = shift, axis = (0,1))\n",
    "print(\"Result: \\n\",centered_h)\n",
    "\n",
    "def roll_and_cut(M, shift, axis, border = 1, center = (3,3)):\n",
    "    M_temp = np.roll(M, shift = shift, axis = axis)\n",
    "    M_cut = M_temp[center[0]-border:center[0]+border+1, center[1]-border:center[1]+border+1]\n",
    "    return M_cut\n",
    "\n",
    "# try to return just the 3x3 area around the ship\n",
    "around_ship = roll_and_cut(centered_h, shift = 0, axis = 0)\n",
    "print(\"Neighborhood of the ship: \\n\", around_ship, '\\n')\n",
    "# we actually need to do this shifting by two in all cardinal directions w.r.t. the map centered around the ship\n",
    "mean_cardinal_h = []\n",
    "perm = [(a,s) for a in [0,1] for s in [-2,2]]\n",
    "for a,s in perm:\n",
    "    print(\"Map shifted in direction: (%d,%d)\\n\"%(s,a), roll_and_cut(centered_h, shift = s, axis = a))\n",
    "    mean_h = np.mean(roll_and_cut(centered_h, shift = s, axis = a), axis = (0,1))\n",
    "    print(\"Mean halite in direction: (%d,%d)\"%(s,a), mean_h, '\\n')\n",
    "    mean_cardinal_h.append(mean_h)\n",
    "\n",
    "mean_cardinal_h = np.array(mean_cardinal_h)\n",
    "halite_direction = np.argmax(mean_cardinal_h) + 1\n",
    "print(\"Action suggested to reach the nearest and richest halite deposit: \", halite_direction)"
   ]
  },
  {
   "cell_type": "code",
   "execution_count": null,
   "metadata": {},
   "outputs": [],
   "source": [
    "# functions for the agent\n",
    "def greedy_policy(s, q_values):\n",
    "    return np.argmax(q_values[s])\n",
    "\n",
    "def e_greedy_policy(s, q_values, eps = 0.01):\n",
    "    # s is encoded in input, a is encoded in output\n",
    "    u = np.random.rand()\n",
    "    if u > eps:\n",
    "        return np.argmax(q_values[s])\n",
    "    else:\n",
    "        return np.random.randint(0, len(q_values[s]))\n",
    "    \n",
    "def update_q(s, a, r, sp, ap, q_values, gamma = 1):\n",
    "    q_values[s,a] = r + gamma*q_values[sp,ap]\n",
    "    return q_values"
   ]
  },
  {
   "cell_type": "markdown",
   "metadata": {},
   "source": [
    "## State complexity and state approximation\n",
    "\n",
    "We have:\n",
    "- $(map\\_size)^2$ positions ($49$ in this case, up to $64^2 = 4096$ for the largest map);\n",
    "- $1000$ values of halite for each position ($h\\_lev$);\n",
    "- $1000$ values of carried halite ($h\\_lev$).\n",
    "\n",
    "The state of the system is defined by the position of the ship + the halite in EACH cell + the halite carried by the ship. We can have almost all the possible combinations of the values that those variables can assume, thus we have the combinations of $1000$ values of halite for $50$ cells ($49$ of the map + the one carried by the ship) all multiplied by $49$ possible positions of the ship, for a total of $49\\times 10^{147}$ possible states. If instead we consider the largest map of $64 \\times 64$ we arrive at $4096\\times 10^{12288}$ possible states.\n",
    "\n",
    "The general formula can be written as: \n",
    "$$\\# states = (map\\_size)^2 \\times (h\\_lev)^{map\\_size^2+1}$$\n",
    "\n",
    "where we consider the map always centered on the shipyard, hence in this framework its position is fixed and not considered as a variable.\n",
    "Of course this state representation is totally uncontrollable, because it scales exponentially in the number of cells of the map.\n",
    "\n",
    "To tackle this issue we choose to drastically reduce the amount of information that is observed by the ship through two processes: partial observation and state abstraction.\n",
    "\n",
    "\n",
    "\n",
    "### Partial observation: depth of field\n",
    "\n",
    "The most expensive dependence in the formula about the number of states of the system is the exponent at which is elevated $h\\_lev$. This is obtained considering all possible combinations of halite for all the cells of the map and the halite carried by the ship. A different approach is to consider only the halite inside the field of view of the agent and restrict the depth of field to the minimal possible quantity, i.e. nearest neighbors. In this way, independently from the $map\\_size$ we get an exponent that in 2D is equal to 6 (4 for the neighbors, 1 for the state in which the ship stands and 1 for the halite it carries).\n",
    "\n",
    "In other words, we get: \n",
    "\n",
    "$$\\# states = (map\\_size)^2 \\times (h\\_lev)^{6}$$\n",
    "\n",
    "that yields $4.9 \\times 10^{19}$ for the $7 \\times 7$ map, that is still not manageable, but considerably smaller ( of order $ \\approx 10^{120}$).\n",
    "\n",
    "### State abstraction: halite quantization\n",
    "\n",
    "Differently from the restriction on the observation space, that are somewhat straightforward, the state abstraction must involve some hypothesis about the environment that involve knowing the model of the environment. For example, if we were in the situation on not knowing how the halite is collected we probably would have done a different choice.\n",
    "Since we know that the ship collects an amount of halite proportional to the halite in the cell (25% of it, to be more exact) and pays a fee of 10% of the halite contained in a cell to leave it, we are more interested in having encoded the notions of \"low\" and \"high\" halite levels, instead of sampling with precision the middle-high half of the halite scale. \n",
    "To be more specific, we choose to approximate the information about the halite using for $h_lev = 3$ halite levels and the following encoding:\n",
    "- $h = 0$ if $halite \\le 10$; \n",
    "- $h = 1$ if $10 < halite \\le 100$; \n",
    "- $h = 2$ if $100 < halite \\le 1000$.\n",
    "\n",
    "The important part is that the halite is quantized in intervals that grow of a decade each, but we could also test adding a fourth level.\n",
    "In this way the number of states of the system becomes:\n",
    "\n",
    "$$\\# states = (map\\_size)^2 \\times 3^{6}$$\n",
    "\n",
    "yielding for a $7 \\times 7$ map $35.721$ states, that is reachable with our resources. \n",
    "\n",
    "### State abstraction: meta-informations\n",
    "\n",
    "The problem of these manipulations is that now the ship has access only to local informations and lacks of the knowledge about the position of the shipyard (but again, being the latter fixed, only the ship position is needed) and of that of distant halite deposits. In order to enhance the ability of the ship to find those deposits, we encode in a 4-states additional information the direction that the ship should take to go towards the nearest and richest deposit.\n",
    "In this final formulation, the total number of states that needs to be experienced by the ship is:\n",
    "\n",
    "$$\\# states = (map\\_size)^2 \\times 3^{6} * 4$$\n",
    "\n",
    "yielding for a $7 \\times 7$ map the final result of $142.884$ states. Considering that each of these states requires 64 bits, i.e. 8 bytes, to be stored, the memory required to store the Q-value table is 1.143.072 bytes = 1.143 Mb.\n",
    "\n"
   ]
  },
  {
   "cell_type": "code",
   "execution_count": 64,
   "metadata": {},
   "outputs": [
    {
     "name": "stdout",
     "output_type": "stream",
     "text": [
      "This is what we should get: \n",
      " [[152 980 664 962 572 693 389]\n",
      " [335  49 338 222 605 366 544]\n",
      " [441 473 863 981 465 797 118]\n",
      " [554 386 763 257 514 280 199]\n",
      " [562 985 718 155   0 273 348]\n",
      " [936 364 444 456 728 700  70]\n",
      " [660 838 153  63 344 209 247]]\n",
      "Result: \n",
      " [[152 980 664 962 572 693 389]\n",
      " [335  49 338 222 605 366 544]\n",
      " [441 473 863 981 465 797 118]\n",
      " [554 386 763 257 514 280 199]\n",
      " [562 985 718 155   0 273 348]\n",
      " [936 364 444 456 728 700  70]\n",
      " [660 838 153  63 344 209 247]]\n",
      "Neighborhood of the ship: \n",
      " [[863 981 465]\n",
      " [763 257 514]\n",
      " [718 155   0]] \n",
      "\n",
      "Map shifted in direction: (-2,0)\n",
      " [[718 155   0]\n",
      " [444 456 728]\n",
      " [153  63 344]]\n",
      "Mean halite in direction: (-2,0) 340.1111111111111 \n",
      "\n",
      "Map shifted in direction: (2,0)\n",
      " [[664 962 572]\n",
      " [338 222 605]\n",
      " [863 981 465]]\n",
      "Mean halite in direction: (2,0) 630.2222222222222 \n",
      "\n",
      "Map shifted in direction: (-2,1)\n",
      " [[465 797 118]\n",
      " [514 280 199]\n",
      " [  0 273 348]]\n",
      "Mean halite in direction: (-2,1) 332.6666666666667 \n",
      "\n",
      "Map shifted in direction: (2,1)\n",
      " [[441 473 863]\n",
      " [554 386 763]\n",
      " [562 985 718]]\n",
      "Mean halite in direction: (2,1) 638.3333333333334 \n",
      "\n",
      "Action suggested to reach the nearest and richest halite deposit:  4\n"
     ]
    }
   ],
   "source": [
    "search_range = 3\n",
    "# now suppose that the ship is in [2,2], whereas the shipyard is at the center of the map, i.e. [3,3]\n",
    "example = np.roll(map_halite, shift = (1,1) , axis =  (0,1)) #in this way we simulate the ship to be in (2,2)\n",
    "print(\"This is what we should get: \\n\", example)\n",
    "pos_dec = [2,2]\n",
    "shift = (shipy_dec[0]-pos_dec[0],shipy_dec[1]-pos_dec[1])\n",
    "centered_h = np.roll(map_halite, shift = shift, axis = (0,1))\n",
    "print(\"Result: \\n\",centered_h)\n",
    "\n",
    "def roll_and_cut(M, shift, axis, border = 1, center = (3,3)):\n",
    "    M_temp = np.roll(M, shift = shift, axis = axis)\n",
    "    M_cut = M_temp[center[0]-border:center[0]+border+1, center[1]-border:center[1]+border+1]\n",
    "    return M_cut\n",
    "\n",
    "# try to return just the 3x3 area around the ship\n",
    "around_ship = roll_and_cut(centered_h, shift = 0, axis = 0)\n",
    "print(\"Neighborhood of the ship: \\n\", around_ship, '\\n')\n",
    "# we actually need to do this shifting by two in all cardinal directions w.r.t. the map centered around the ship\n",
    "mean_cardinal_h = []\n",
    "perm = [(a,s) for a in [0,1] for s in [-2,2]]\n",
    "for a,s in perm:\n",
    "    print(\"Map shifted in direction: (%d,%d)\\n\"%(s,a), roll_and_cut(centered_h, shift = s, axis = a))\n",
    "    mean_h = np.mean(roll_and_cut(centered_h, shift = s, axis = a), axis = (0,1))\n",
    "    print(\"Mean halite in direction: (%d,%d)\"%(s,a), mean_h, '\\n')\n",
    "    mean_cardinal_h.append(mean_h)\n",
    "\n",
    "mean_cardinal_h = np.array(mean_cardinal_h)\n",
    "halite_direction = np.argmax(mean_cardinal_h) + 1\n",
    "print(\"Action suggested to reach the nearest and richest halite deposit: \", halite_direction)"
   ]
  },
  {
   "cell_type": "code",
   "execution_count": null,
   "metadata": {},
   "outputs": [],
   "source": [
    "def halite_quantization(h, q_number = 4):\n",
    "    # h can either be a scalar or a matrix \n",
    "    tresholds = np.logspace(0,3,4) # [1, 10, 100, 1000] = [10^0, 10^1, 10^2, 10^3]\n",
    "    h_shape = h.shape\n",
    "    h_temp = h.flatten()\n",
    "    mask = (h_temp[:,np.newaxis] < tresholds).astype(int)\n",
    "    level = np.argmax(mask, axis = 1)\n",
    "    return level.reshape(h_shape)"
   ]
  },
  {
   "cell_type": "code",
   "execution_count": null,
   "metadata": {},
   "outputs": [],
   "source": [
    "# how to use it\n",
    "q_h = halite_quantization(map_halite)\n",
    "c_h = halite_quantization(ship_cargo)"
   ]
  },
  {
   "cell_type": "code",
   "execution_count": null,
   "metadata": {},
   "outputs": [],
   "source": [
    "# Now we need to write a function that is able to get the decoded state from the output of the environment\n",
    "# ship positions x (n_cells + 1) -> ship positions x (n_cells + 1) x halite levels\n",
    "\n",
    "pos_enc = one_to_index(ship_pos_matrix, map_size) #this is the first entry\n",
    "\n",
    "# Now we compose an array of the halite values of the n cells and the ship \n",
    "# and encode it through the matrix [(n_cells + 1) x halite levels]\n"
   ]
  },
  {
   "cell_type": "code",
   "execution_count": null,
   "metadata": {},
   "outputs": [],
   "source": [
    "h_lev = 4 # halite levels\n",
    "n_cells = map_size**2\n",
    "n_states = n_cells*(n_cells+1)*h_lev\n",
    "print(\"Total number of states to be experienced: \", n_states)\n",
    "n_actions = 5\n",
    "tot_turns = 400\n",
    "# to account the fact that the ships can't know the number of turns elapsed we train them as if there was\n",
    "# a uniform probability of 1/tot_turns of ending the game at each turn\n",
    "discount_factor = 1 - 1/tot_turns \n",
    "n_batch = 100 # number of episodes in an epoch\n",
    "epochs = 0\n",
    "q_values = np.zeros((n_states,n_actions)) #initialize to zero\n",
    "max_epochs = 1000\n",
    "reward_score = np.zeros(max_epochs)"
   ]
  },
  {
   "cell_type": "code",
   "execution_count": null,
   "metadata": {},
   "outputs": [],
   "source": [
    "s_dec = np.array([0,0,1])\n",
    "print(\"Original decoded state: \", s_dec)\n",
    "s_enc = encode3D(s_dec, L1 = n_cells, L2 = n_cells+1, L3 = h_lev)\n",
    "print(\"Encoded state: \", s_enc)\n",
    "s_dec_2 = decode3D(s_enc, L1 = n_cells, L2 = n_cells+1, L3 = h_lev)\n",
    "print(\"New decoded state: \", s_dec)"
   ]
  },
  {
   "cell_type": "code",
   "execution_count": null,
   "metadata": {},
   "outputs": [],
   "source": [
    "while True:\n",
    "    #@@@@@@@@@@@@@@@@@@@@@@\n",
    "    # here starts an epoch\n",
    "    #@@@@@@@@@@@@@@@@@@@@@@\n",
    "    epochs = epochs + 1\n",
    "    reward_progress = np.zeros(n_batch) # bunch of 100 episodes\n",
    "    eps = 0.5 # starting value of epsilon\n",
    "    # generate an adaptive epsilon greedy algorithm, has to be calibrated\n",
    "    epsilons = np.array(list(map(lambda i : eps*np.exp(-i/100), np.arange(0,max_epochs+1))))\n",
    "    \n",
    "    for i in range(n_batch):\n",
    "        #@@@@@@@@@@@@@@@@@@@@@@@@\n",
    "        # here starts an episode\n",
    "        #@@@@@@@@@@@@@@@@@@@@@@@@\n",
    "        s_dec = [0,4] # init state: top corners\n",
    "        s_enc = encode(s_dec, 25) # encoded state used to have a scalar index to access the states; 25 singular states\n",
    "        steps = 0\n",
    "        reward = 0\n",
    "        \n",
    "        while True:\n",
    "            steps = steps + 1\n",
    "            \n",
    "            a_enc = e_greedy_pol_v1(s_enc, q_values, eps = epsilons[epochs])\n",
    "            a_dec = decode(a_enc, 4) # 4 singular actions\n",
    "            \n",
    "            sp_dec, r = turn_v2(s_dec, a_dec) # interacts with the environment \n",
    "            sp_enc = encode(sp_dec, 25) # encode to scalar state\n",
    "            reward = reward + r\n",
    "            \n",
    "            a_temp_enc = greedy_pol_v0(sp_enc, q_values)\n",
    "            a_temp_dec = decode(a_temp_enc, 4)\n",
    "\n",
    "            q_values = update_q_v0(s_enc, a_enc, r, sp_enc, a_temp_enc, q_values, gamma = discount_factor)\n",
    "            \n",
    "            # update states\n",
    "            s_enc = sp_enc\n",
    "            s_dec = sp_dec\n",
    "            \n",
    "            \n",
    "            # terminal states are 2 and 24\n",
    "            if (s_dec[0] == 2 and s_dec[1] == 24) or (s_dec[1] == 2 and s_dec[0] == 24):\n",
    "                #print(\"Terminal state reached at step %d.\"%steps)\n",
    "                reward_progress[i] = reward\n",
    "                game_progress[i] = steps\n",
    "                terminal_states[:,i] = s_dec\n",
    "                break\n",
    "            \"\"\"if (s_dec[0] == s_dec[1]):\n",
    "                #print(\"Agent crushed one on each other.\") \n",
    "                #game_progress[i] = 100 # assign 100 equals to failure (and the -100 reward accounts for the accident)\n",
    "                #break\"\"\"\n",
    "            if steps >= 100:\n",
    "                #print(\"Too much time has passed. Game Over.\")\n",
    "                reward_progress[i] = reward\n",
    "                game_progress[i] = steps\n",
    "                terminal_states[:,i] = s_dec\n",
    "                break\n",
    "    \n",
    "    print(\"Average reward per episode in epoch %d: \"%epochs, reward_progress.mean())\n",
    "    reward_score[epochs-1] = reward_progress.mean()\n",
    "\n",
    "    if epochs >= max_epochs:\n",
    "        print(\"Hey, I think you've had enough! Let's stop here.\")\n",
    "        break"
   ]
  },
  {
   "cell_type": "code",
   "execution_count": null,
   "metadata": {},
   "outputs": [],
   "source": []
  }
 ],
 "metadata": {
  "kernelspec": {
   "display_name": "Python 3",
   "language": "python",
   "name": "python3"
  },
  "language_info": {
   "codemirror_mode": {
    "name": "ipython",
    "version": 3
   },
   "file_extension": ".py",
   "mimetype": "text/x-python",
   "name": "python",
   "nbconvert_exporter": "python",
   "pygments_lexer": "ipython3",
   "version": "3.7.2"
  }
 },
 "nbformat": 4,
 "nbformat_minor": 2
}

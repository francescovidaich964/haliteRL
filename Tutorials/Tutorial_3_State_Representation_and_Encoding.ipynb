{
 "cells": [
  {
   "cell_type": "markdown",
   "metadata": {},
   "source": [
    "# Tutorial 3: State Representation and Encoding\n",
    "\n",
    "We have seen in tutorial 2 how we can reduce the state complexity of the game by restricting the depth of field of the agent, quantizing the halite levels and providing some high-level meta informations.\n",
    "\n",
    "The goal of this third tutorial is to explain how to concretely built this representation. This will be achieved in two steps:\n",
    "1. Extract from the game engine the features that represent our state;\n",
    "2. Encode this features in a single scalar, that will be used as index to access the rows of the matrix of the Q-values Q(s,a).\n",
    "\n",
    "To make it simpler, we will always refer to the case of a $7 \\times 7$ map, but the result will hold for every reasonable size."
   ]
  },
  {
   "cell_type": "markdown",
   "metadata": {},
   "source": [
    "## Feature extraction\n",
    "\n",
    "The features we want to extract are:\n",
    "1. ship position;\n",
    "2. halite carried by the ship;\n",
    "3. halite in the cell occupied by the ship;\n",
    "4. halite in each of the adjacent cells w.r.t. the ship position;\n",
    "5. direction richest in halite.\n",
    "\n",
    "To see if the implementation is working, we will initialize the environment and create a single ship."
   ]
  },
  {
   "cell_type": "code",
   "execution_count": 3,
   "metadata": {},
   "outputs": [],
   "source": [
    "import sys\n",
    "sys.path.insert(0, \"../Environment/\")\n",
    "import halite_env as Env"
   ]
  },
  {
   "cell_type": "code",
   "execution_count": 4,
   "metadata": {},
   "outputs": [],
   "source": [
    "import numpy as np\n",
    "import matplotlib.pyplot as plt"
   ]
  },
  {
   "cell_type": "code",
   "execution_count": 6,
   "metadata": {},
   "outputs": [],
   "source": [
    "# parameters for a single player in a 7x7 map\n",
    "NUM_PLAYERS = 1\n",
    "MAP_SIZE = 7\n",
    "\n",
    "# instantiate class\n",
    "env = Env.HaliteEnv(num_players=NUM_PLAYERS, map_size=MAP_SIZE)"
   ]
  },
  {
   "cell_type": "code",
   "execution_count": 7,
   "metadata": {},
   "outputs": [],
   "source": [
    "action_matrix = np.full((MAP_SIZE,MAP_SIZE), -1)\n",
    "shipyard_action = True\n",
    "state, halite, finish_flag, _ = env.step(action_matrix, makeship = shipyard_action)\n",
    "map_halite = state[:,:,0]\n",
    "ship_pos_matrix = state[:,:,1]\n",
    "shipy_pos_matrix = state[:,:,3]"
   ]
  },
  {
   "cell_type": "markdown",
   "metadata": {},
   "source": [
    "### Ship position\n",
    "\n",
    "The idea is that the second layer of the state is a matrix whose indexes are the x and y coordinates of the map. In the case of a single ship, there is only one element different from zero and we want to retrieve its indexes."
   ]
  },
  {
   "cell_type": "code",
   "execution_count": 82,
   "metadata": {},
   "outputs": [],
   "source": [
    "# matrix to scalar encoding\n",
    "\n",
    "def one_to_index(V,L):\n",
    "    \"\"\"\n",
    "    Parameters\n",
    "    ----------\n",
    "    V: LxL matrix with one entry = 1 and the others = 0\n",
    "    L: linear dimension of the square matrix\n",
    "    \n",
    "    Assign increasing integers starting from 0 up to L**2 to an LxL matrix row by row.\n",
    "    \n",
    "    Returns\n",
    "    -------\n",
    "    integer corresponding to the non-zero element of V.\n",
    "    \"\"\"\n",
    "    \n",
    "    return np.arange(L**2).reshape((L, L))[V.astype(bool)]"
   ]
  },
  {
   "cell_type": "code",
   "execution_count": 29,
   "metadata": {},
   "outputs": [
    {
     "data": {
      "text/plain": [
       "array([[ 0,  1,  2,  3,  4,  5,  6],\n",
       "       [ 7,  8,  9, 10, 11, 12, 13],\n",
       "       [14, 15, 16, 17, 18, 19, 20],\n",
       "       [21, 22, 23, 24, 25, 26, 27],\n",
       "       [28, 29, 30, 31, 32, 33, 34],\n",
       "       [35, 36, 37, 38, 39, 40, 41],\n",
       "       [42, 43, 44, 45, 46, 47, 48]])"
      ]
     },
     "execution_count": 29,
     "metadata": {},
     "output_type": "execute_result"
    }
   ],
   "source": [
    "# just to show how the encoding of the position works\n",
    "np.arange(7**2).reshape((7, 7))"
   ]
  },
  {
   "cell_type": "code",
   "execution_count": 28,
   "metadata": {},
   "outputs": [
    {
     "name": "stdout",
     "output_type": "stream",
     "text": [
      "Encoded position of the ship:  [24]\n"
     ]
    }
   ],
   "source": [
    "#position_encoded of the ship\n",
    "pos_enc = one_to_index(ship_pos_matrix, MAP_SIZE)\n",
    "print(\"Encoded position of the ship: \", pos_enc)"
   ]
  },
  {
   "cell_type": "markdown",
   "metadata": {},
   "source": [
    "What if instead we want to access to a 7x7 matrix using this encoded position? First we need to obtain the x and y indexes and then use them to access the matrix."
   ]
  },
  {
   "cell_type": "code",
   "execution_count": 83,
   "metadata": {},
   "outputs": [],
   "source": [
    "# 2D decoding\n",
    "\n",
    "def decode(v_enc, L):\n",
    "    \"\"\"\n",
    "    Parameters\n",
    "    ----------\n",
    "    v_enc: scalar between 0 and L**2 - 1, is the encoding of a position (x,y)\n",
    "    L    : linear dimension of the square matrix\n",
    "    \n",
    "    Assign increasing integers starting from 0 up to L**2 to an LxL matrix row by row.\n",
    "    \n",
    "    Returns\n",
    "    -------\n",
    "    numpy array containg the row and the column corresponding to the matrix element of value v_enc.\n",
    "    \"\"\"\n",
    "    V = np.arange(0,L**2).reshape((L,L))\n",
    "    v_dec = np.array([np.where(v_enc == V)[0][0],np.where(v_enc == V)[1][0]])\n",
    "    return v_dec"
   ]
  },
  {
   "cell_type": "code",
   "execution_count": 33,
   "metadata": {},
   "outputs": [
    {
     "data": {
      "text/plain": [
       "array([3, 3])"
      ]
     },
     "execution_count": 33,
     "metadata": {},
     "output_type": "execute_result"
    }
   ],
   "source": [
    "decode(pos_enc, MAP_SIZE) # remember that starts counting from 0"
   ]
  },
  {
   "cell_type": "markdown",
   "metadata": {},
   "source": [
    "And what if I need to encode an (x,y) position? This is easier than before, since we first create the matrix V with the entries enumerated (we shall call V the \"encoding matrix\"), than return the value V[x,y]."
   ]
  },
  {
   "cell_type": "code",
   "execution_count": 77,
   "metadata": {},
   "outputs": [],
   "source": [
    "# 2D encoding\n",
    "\n",
    "def encode(v_dec, L):\n",
    "    \"\"\"\n",
    "    Parameters\n",
    "    ----------\n",
    "    v_dec: list or numpy array of two integers between 0 and L\n",
    "    L    : linear dimension of the square matrix\n",
    "    \n",
    "    Assign increasing integers starting from 0 up to L**2 to an LxL matrix row by row.\n",
    "    \n",
    "    Returns\n",
    "    -------\n",
    "    integer corresponding to the element (v_dec[0],v_dec[1]) of the encoding matrix.\n",
    "    \"\"\"\n",
    "    V = np.arange(0,L**2).reshape((L,L))\n",
    "    v_enc = V[v_dec[0],v_dec[1]] \n",
    "    return v_enc"
   ]
  },
  {
   "cell_type": "code",
   "execution_count": 41,
   "metadata": {},
   "outputs": [
    {
     "name": "stdout",
     "output_type": "stream",
     "text": [
      "Encoded position of the ship:  [24]\n",
      "Decoded position of the ship:  [3 3]\n",
      "Encoded position of the shipyard:  [24]\n",
      "Decoded position of the shipyard:  [3 3]\n"
     ]
    }
   ],
   "source": [
    "# stacking all this together\n",
    "\n",
    "#position_encoded of the ship\n",
    "pos_enc = one_to_index(ship_pos_matrix, MAP_SIZE)\n",
    "print(\"Encoded position of the ship: \", pos_enc)\n",
    "#position_decoded of the ship\n",
    "pos_dec = decode(pos_enc, MAP_SIZE)\n",
    "print(\"Decoded position of the ship: \", pos_dec)\n",
    "\n",
    "#position_encoded of the ship\n",
    "shipy_enc = one_to_index(shipy_pos_matrix, MAP_SIZE)\n",
    "print(\"Encoded position of the shipyard: \", shipy_enc)\n",
    "#position_decoded of the ship\n",
    "shipy_dec = decode(shipy_enc, MAP_SIZE)\n",
    "print(\"Decoded position of the shipyard: \", shipy_dec)"
   ]
  },
  {
   "cell_type": "markdown",
   "metadata": {},
   "source": [
    "### Halite informations\n",
    "\n",
    "We can use the decoded position of the ship to access layers 0 (map_halite) and 2 (halite carried) and retireve the information about the halite. Then we quantize those values choosing three intervals, that will correspond to what the learning agent will effectively observe.\n",
    "\n",
    "We shall call the combination of all this information halite vector:\n",
    "$halite\\_vector = (C, O, S, N, E, W)$ halite (where C stands for the halite carried by the ship and O for the cell occupied by the ship );"
   ]
  },
  {
   "cell_type": "code",
   "execution_count": 95,
   "metadata": {},
   "outputs": [],
   "source": [
    "def halite_quantization(halite_vec, q_number = 3):\n",
    "    \"\"\"\n",
    "    Creates q_number thresholds [t0,t1,t2] equispaced in the log space.\n",
    "    Maps each entry of halite_vec to the corresponding level:\n",
    "    if h <= t0 -> level = 0\n",
    "    if t0 < h <= t1 -> level = 1\n",
    "    else level = 2\n",
    "\n",
    "    Parameters\n",
    "    ----------\n",
    "    halite_vec : numpy array which elements are numbers between 0 and 1000\n",
    "    q_number : number of quantization levels\n",
    "\n",
    "    Returns\n",
    "    -------\n",
    "    level : quantized halite_vec according to the q_number thresholds\n",
    "    \"\"\"\n",
    "    # h can either be a scalar or a matrix \n",
    "    tresholds = np.logspace(1,3,q_number) # [10, 100, 1000] = [10^1, 10^2, 10^3]\n",
    "    h_shape = halite_vec.shape\n",
    "    h_temp = halite_vec.flatten()\n",
    "    mask = (h_temp[:,np.newaxis] <= tresholds).astype(int)\n",
    "    level = np.argmax(mask, axis = 1)\n",
    "    return level.reshape(h_shape)"
   ]
  },
  {
   "cell_type": "code",
   "execution_count": 61,
   "metadata": {},
   "outputs": [
    {
     "data": {
      "text/plain": [
       "array([0, 0, 0, 0, 1, 1, 1, 2, 2])"
      ]
     },
     "execution_count": 61,
     "metadata": {},
     "output_type": "execute_result"
    }
   ],
   "source": [
    "halite_example = np.array([0,1,9,10,11,99,100,101,1000])\n",
    "halite_quantization(halite_example)"
   ]
  },
  {
   "cell_type": "markdown",
   "metadata": {},
   "source": [
    "We now present the fuction that takes as input the state from the game engine and returns a vector of 6 elements, each between 0 and 2, representing the quantized halite vector."
   ]
  },
  {
   "cell_type": "code",
   "execution_count": 94,
   "metadata": {},
   "outputs": [],
   "source": [
    "def get_halite_vec_dec(state, q_number = 3, map_size = 7):\n",
    "    \"\"\"\n",
    "    Parameters\n",
    "    ----------\n",
    "    state: [map_size,map_size,>=3] numpy array, which layers are:\n",
    "            Layer 0: map halite, \n",
    "            Layer 1: ship position, \n",
    "            Layer 2: halite carried by the ships (a.k.a. cargo)\n",
    "    q_number : number of quantization levels\n",
    "    map_size : linear size of the squared map\n",
    "    \n",
    "    Returns\n",
    "    -------\n",
    "    quantized halite vector [𝐶,𝑂,𝑆,𝑁,𝐸,𝑊], numpy array of shape (6,)\n",
    "    (where C stands for the halite carried by the ship and O for the cell occupied by the ship)\n",
    "    \"\"\"\n",
    "    def halite_quantization(halite_vec, q_number = 3):\n",
    "        \"\"\"\n",
    "        Creates q_number thresholds [t0,t1,t2] equispaced in the log space.\n",
    "        Maps each entry of halite_vec to the corresponding level:\n",
    "        if h <= t0 -> level = 0\n",
    "        if t0 < h <= t1 -> level = 1\n",
    "        else level = 2\n",
    "        \n",
    "        Parameters\n",
    "        ----------\n",
    "        halite_vec : numpy array which elements are numbers between 0 and 1000\n",
    "        q_number : number of quantization levels\n",
    "\n",
    "        Returns\n",
    "        -------\n",
    "        level : quantized halite_vec according to the q_number thresholds\n",
    "        \"\"\"\n",
    "        # h can either be a scalar or a matrix \n",
    "        tresholds = np.logspace(1,3,q_number) # [10, 100, 1000] = [10^1, 10^2, 10^3]\n",
    "        h_shape = halite_vec.shape\n",
    "        h_temp = halite_vec.flatten()\n",
    "        mask = (h_temp[:,np.newaxis] <= tresholds).astype(int)\n",
    "        level = np.argmax(mask, axis = 1)\n",
    "        return level.reshape(h_shape)\n",
    "\n",
    "    pos_enc = one_to_index(state[:,:,1], map_size)\n",
    "    pos_dec = decode(pos_enc, map_size) # decode position to access matrix by two indices\n",
    "    \n",
    "    ship_cargo = state[pos_dec[0],pos_dec[1],2]\n",
    "    cargo_quant = halite_quantization(ship_cargo).reshape(1)[0] # quantize halite\n",
    "    \n",
    "    map_halite = state[:,:,0]\n",
    "    halite_quant = halite_quantization(map_halite) # quantize halite\n",
    "    \n",
    "    halite_vector = []\n",
    "    halite_vector.append(cargo_quant)\n",
    "    halite_vector.append(halite_quant[pos_dec[0], pos_dec[1]])\n",
    "    halite_vector.append(halite_quant[(pos_dec[0]+1)%map_size, pos_dec[1]])\n",
    "    halite_vector.append(halite_quant[(pos_dec[0]-1)%map_size, pos_dec[1]])\n",
    "    halite_vector.append(halite_quant[pos_dec[0], (pos_dec[1]+1)%map_size])\n",
    "    halite_vector.append(halite_quant[pos_dec[0], (pos_dec[1]-1)%map_size])\n",
    "\n",
    "    return np.array(halite_vector)"
   ]
  },
  {
   "cell_type": "code",
   "execution_count": 98,
   "metadata": {},
   "outputs": [
    {
     "data": {
      "text/plain": [
       "array([0, 0, 2, 2, 2, 2])"
      ]
     },
     "execution_count": 98,
     "metadata": {},
     "output_type": "execute_result"
    }
   ],
   "source": [
    "# Example of output\n",
    "hal_vec_dec = get_halite_vec_dec(state)\n",
    "hal_vec_dec"
   ]
  },
  {
   "cell_type": "markdown",
   "metadata": {},
   "source": [
    "### Direction richest in halite\n",
    "\n",
    "Basically we have to implement what is represented in this image:\n",
    "<img src=\"Support_material/high-level-features.png\">\n",
    "\n",
    "The only variable is how far to seek for halite, that is the linear dimension of the squares. In our case it is fixed to 3, but with some effort every other odd number could work."
   ]
  },
  {
   "cell_type": "code",
   "execution_count": 76,
   "metadata": {
    "scrolled": true
   },
   "outputs": [
    {
     "name": "stdout",
     "output_type": "stream",
     "text": [
      "Help on function roll in module numpy:\n",
      "\n",
      "roll(a, shift, axis=None)\n",
      "    Roll array elements along a given axis.\n",
      "    \n",
      "    Elements that roll beyond the last position are re-introduced at\n",
      "    the first.\n",
      "    \n",
      "    Parameters\n",
      "    ----------\n",
      "    a : array_like\n",
      "        Input array.\n",
      "    shift : int or tuple of ints\n",
      "        The number of places by which elements are shifted.  If a tuple,\n",
      "        then `axis` must be a tuple of the same size, and each of the\n",
      "        given axes is shifted by the corresponding number.  If an int\n",
      "        while `axis` is a tuple of ints, then the same value is used for\n",
      "        all given axes.\n",
      "    axis : int or tuple of ints, optional\n",
      "        Axis or axes along which elements are shifted.  By default, the\n",
      "        array is flattened before shifting, after which the original\n",
      "        shape is restored.\n",
      "    \n",
      "    Returns\n",
      "    -------\n",
      "    res : ndarray\n",
      "        Output array, with the same shape as `a`.\n",
      "    \n",
      "    See Also\n",
      "    --------\n",
      "    rollaxis : Roll the specified axis backwards, until it lies in a\n",
      "               given position.\n",
      "    \n",
      "    Notes\n",
      "    -----\n",
      "    .. versionadded:: 1.12.0\n",
      "    \n",
      "    Supports rolling over multiple dimensions simultaneously.\n",
      "    \n",
      "    Examples\n",
      "    --------\n",
      "    >>> x = np.arange(10)\n",
      "    >>> np.roll(x, 2)\n",
      "    array([8, 9, 0, 1, 2, 3, 4, 5, 6, 7])\n",
      "    >>> np.roll(x, -2)\n",
      "    array([2, 3, 4, 5, 6, 7, 8, 9, 0, 1])\n",
      "    \n",
      "    >>> x2 = np.reshape(x, (2,5))\n",
      "    >>> x2\n",
      "    array([[0, 1, 2, 3, 4],\n",
      "           [5, 6, 7, 8, 9]])\n",
      "    >>> np.roll(x2, 1)\n",
      "    array([[9, 0, 1, 2, 3],\n",
      "           [4, 5, 6, 7, 8]])\n",
      "    >>> np.roll(x2, -1)\n",
      "    array([[1, 2, 3, 4, 5],\n",
      "           [6, 7, 8, 9, 0]])\n",
      "    >>> np.roll(x2, 1, axis=0)\n",
      "    array([[5, 6, 7, 8, 9],\n",
      "           [0, 1, 2, 3, 4]])\n",
      "    >>> np.roll(x2, -1, axis=0)\n",
      "    array([[5, 6, 7, 8, 9],\n",
      "           [0, 1, 2, 3, 4]])\n",
      "    >>> np.roll(x2, 1, axis=1)\n",
      "    array([[4, 0, 1, 2, 3],\n",
      "           [9, 5, 6, 7, 8]])\n",
      "    >>> np.roll(x2, -1, axis=1)\n",
      "    array([[1, 2, 3, 4, 0],\n",
      "           [6, 7, 8, 9, 5]])\n",
      "\n"
     ]
    }
   ],
   "source": [
    "# we will use this function\n",
    "help(np.roll)"
   ]
  },
  {
   "cell_type": "code",
   "execution_count": 68,
   "metadata": {},
   "outputs": [
    {
     "name": "stdout",
     "output_type": "stream",
     "text": [
      "This is what we should get: \n",
      " [[258 185 480 169 860 945 189]\n",
      " [445 325 479 544 560  37 993]\n",
      " [380  86  74 514 397 324 635]\n",
      " [638 617 705 490 780 618 626]\n",
      " [551 385 567 166   0 223 447]\n",
      " [ 25 809 953 414 576 775  76]\n",
      " [988 785 101 311 153 506 880]]\n"
     ]
    }
   ],
   "source": [
    "# now suppose that the ship is in [2,2], whereas the shipyard is at the center of the map, i.e. [3,3]\n",
    "example = np.roll(map_halite, shift = (1,1) , axis =  (0,1)) #in this way we simulate the ship to be in (2,2)\n",
    "print(\"This is what we should get: \\n\", example)"
   ]
  },
  {
   "cell_type": "code",
   "execution_count": 69,
   "metadata": {},
   "outputs": [
    {
     "name": "stdout",
     "output_type": "stream",
     "text": [
      "Result: \n",
      " [[258 185 480 169 860 945 189]\n",
      " [445 325 479 544 560  37 993]\n",
      " [380  86  74 514 397 324 635]\n",
      " [638 617 705 490 780 618 626]\n",
      " [551 385 567 166   0 223 447]\n",
      " [ 25 809 953 414 576 775  76]\n",
      " [988 785 101 311 153 506 880]]\n"
     ]
    }
   ],
   "source": [
    "pos_dec = [2,2]\n",
    "shift = (shipy_dec[0]-pos_dec[0],shipy_dec[1]-pos_dec[1])\n",
    "centered_h = np.roll(map_halite, shift = shift, axis = (0,1))\n",
    "print(\"Result: \\n\",centered_h)"
   ]
  },
  {
   "cell_type": "code",
   "execution_count": 93,
   "metadata": {},
   "outputs": [],
   "source": [
    "def roll_and_crop_v0(M, shift, axis, border = 1, center = (3,3)):\n",
    "    \"\"\"\n",
    "    Shift matrix and then crops it around the center keeping a border.\n",
    "    \n",
    "    Inputs\n",
    "    ------\n",
    "    M : squared matrix in numpy array\n",
    "        Matrix to be rolled and cropped\n",
    "    shift : int or tuple of ints\n",
    "        The number of places by which elements are shifted.  If a tuple,\n",
    "        then `axis` must be a tuple of the same size, and each of the\n",
    "        given axes is shifted by the corresponding number.  If an int\n",
    "        while `axis` is a tuple of ints, then the same value is used for\n",
    "        all given axes.\n",
    "    axis : int or tuple of ints, optional\n",
    "        Axis or axes along which elements are shifted.  By default, the\n",
    "        array is flattened before shifting, after which the original\n",
    "        shape is restored.\n",
    "    border : int\n",
    "        Border around central cell (after the shift) to be cropped.\n",
    "        The resulting area is of 2*border+1 x 2*border+1\n",
    "        \n",
    "    Parameters\n",
    "    ----------\n",
    "    M_cut : numpy matrix of shape (2*border+1,2*border+1)\n",
    "    \"\"\"\n",
    "    M_temp = np.roll(M, shift = shift, axis = axis)\n",
    "    M_crop = M_temp[center[0]-border:center[0]+border+1, center[1]-border:center[1]+border+1]\n",
    "    return M_crop\n"
   ]
  },
  {
   "cell_type": "code",
   "execution_count": 91,
   "metadata": {},
   "outputs": [
    {
     "name": "stdout",
     "output_type": "stream",
     "text": [
      "3x3 neighborhood of the ship: \n",
      " [[ 74 514 397]\n",
      " [705 490 780]\n",
      " [567 166   0]] \n",
      "\n",
      "5x5 neighborhood of the ship: \n",
      " [[325 479 544 560  37]\n",
      " [ 86  74 514 397 324]\n",
      " [617 705 490 780 618]\n",
      " [385 567 166   0 223]\n",
      " [809 953 414 576 775]] \n",
      "\n"
     ]
    }
   ],
   "source": [
    "# try to return just the 3x3 area around the ship\n",
    "around_ship = roll_and_crop_v0(centered_h, shift = 0, axis = 0, border=1)\n",
    "print(\"3x3 neighborhood of the ship: \\n\", around_ship, '\\n')\n",
    "\n",
    "# whereas if we wanted to get a 5x5 area, we just increase the border\n",
    "around_ship2 = roll_and_crop_v0(centered_h, shift = 0, axis = 0, border=2)\n",
    "print(\"5x5 neighborhood of the ship: \\n\", around_ship2, '\\n')"
   ]
  },
  {
   "cell_type": "code",
   "execution_count": 67,
   "metadata": {
    "scrolled": true
   },
   "outputs": [
    {
     "name": "stdout",
     "output_type": "stream",
     "text": [
      "This is what we should get: \n",
      " [[258 185 480 169 860 945 189]\n",
      " [445 325 479 544 560  37 993]\n",
      " [380  86  74 514 397 324 635]\n",
      " [638 617 705 490 780 618 626]\n",
      " [551 385 567 166   0 223 447]\n",
      " [ 25 809 953 414 576 775  76]\n",
      " [988 785 101 311 153 506 880]]\n",
      "Result: \n",
      " [[258 185 480 169 860 945 189]\n",
      " [445 325 479 544 560  37 993]\n",
      " [380  86  74 514 397 324 635]\n",
      " [638 617 705 490 780 618 626]\n",
      " [551 385 567 166   0 223 447]\n",
      " [ 25 809 953 414 576 775  76]\n",
      " [988 785 101 311 153 506 880]]\n",
      "Neighborhood of the ship: \n",
      " [[ 74 514 397]\n",
      " [705 490 780]\n",
      " [567 166   0]] \n",
      "\n",
      "Map shifted in direction: (-2,0)\n",
      " [[567 166   0]\n",
      " [953 414 576]\n",
      " [101 311 153]]\n",
      "Mean halite in direction: (-2,0) 360.1111111111111 \n",
      "\n",
      "Map shifted in direction: (2,0)\n",
      " [[480 169 860]\n",
      " [479 544 560]\n",
      " [ 74 514 397]]\n",
      "Mean halite in direction: (2,0) 453.0 \n",
      "\n",
      "Map shifted in direction: (-2,1)\n",
      " [[397 324 635]\n",
      " [780 618 626]\n",
      " [  0 223 447]]\n",
      "Mean halite in direction: (-2,1) 450.0 \n",
      "\n",
      "Map shifted in direction: (2,1)\n",
      " [[380  86  74]\n",
      " [638 617 705]\n",
      " [551 385 567]]\n",
      "Mean halite in direction: (2,1) 444.77777777777777 \n",
      "\n",
      "Action suggested to reach the nearest and richest halite deposit:  1\n"
     ]
    }
   ],
   "source": [
    "# we actually need to do this shifting by two in all cardinal directions w.r.t. the map centered around the ship\n",
    "mean_cardinal_h = []\n",
    "perm = [(a,sh) for a in [0,1] for sh in [-2,2]]\n",
    "for a,sh in perm:\n",
    "    print(\"Map shifted in direction: (%d,%d)\\n\"%(sh,a), roll_and_cut_v0(centered_h, shift = sh, axis = a))\n",
    "    mean_h = np.mean(roll_and_cut_v0(centered_h, shift = sh, axis = a), axis = (0,1))\n",
    "    print(\"Mean halite in direction: (%d,%d)\"%(sh,a), mean_h, '\\n')\n",
    "    mean_cardinal_h.append(mean_h)\n",
    "\n",
    "mean_cardinal_h = np.array(mean_cardinal_h)\n",
    "halite_direction = np.argmax(mean_cardinal_h) #+ 1\n",
    "print(\"Action suggested to reach the nearest and richest halite deposit: \", halite_direction)"
   ]
  },
  {
   "cell_type": "markdown",
   "metadata": {},
   "source": [
    "In this way we obtain this high level function that outputs a number between 0 and 3."
   ]
  },
  {
   "cell_type": "code",
   "execution_count": 96,
   "metadata": {},
   "outputs": [],
   "source": [
    "def get_halite_direction(state, map_size = 7):\n",
    "    \"\"\"\n",
    "    Returns the direction richest in halite given the ship position.\n",
    "    Works only for a single ship.\n",
    "    \n",
    "    Parameters\n",
    "    ----------\n",
    "    state: [map_size,map_size,>=3] numpy array\n",
    "        Layer 0: map halite\n",
    "        Layer 1: ship position \n",
    "        Layer 2: halite carried by the ships (a.k.a. cargo)\n",
    "    map_size : linear size of the squared map\n",
    "    \n",
    "    Returns\n",
    "    -------\n",
    "    h_dir : int\n",
    "        Dictionary to interpret the output:\n",
    "        {0:'S', 1:'N', 2:'E', 3:'W'}\n",
    "        \n",
    "    \"\"\"\n",
    "    def roll_and_crop(M, shift, axis, border = 1, center = (3,3)):\n",
    "        \"\"\"\n",
    "        Shift matrix and then crops it around the center keeping a border.\n",
    "\n",
    "        Inputs\n",
    "        ------\n",
    "        M : squared matrix in numpy array\n",
    "            Matrix to be rolled and cropped\n",
    "        shift : int or tuple of ints\n",
    "            The number of places by which elements are shifted.  If a tuple,\n",
    "            then `axis` must be a tuple of the same size, and each of the\n",
    "            given axes is shifted by the corresponding number.  If an int\n",
    "            while `axis` is a tuple of ints, then the same value is used for\n",
    "            all given axes.\n",
    "        axis : int or tuple of ints, optional\n",
    "            Axis or axes along which elements are shifted.  By default, the\n",
    "            array is flattened before shifting, after which the original\n",
    "            shape is restored.\n",
    "        border : int\n",
    "            Border around central cell (after the shift) to be cropped.\n",
    "            The resulting area is of 2*border+1 x 2*border+1\n",
    "\n",
    "        Parameters\n",
    "        ----------\n",
    "        M_cut : numpy matrix of shape (2*border+1,2*border+1)\n",
    "        \"\"\"\n",
    "        M_temp = np.roll(M, shift = shift, axis = axis)\n",
    "        M_crop = M_temp[center[0]-border:center[0]+border+1, center[1]-border:center[1]+border+1]\n",
    "        return M_crop\n",
    "\n",
    "    map_halite = state[:,:,0] # matrix with halite of each cell of the map\n",
    "    \n",
    "    pos_enc = one_to_index(state[:,:,1], map_size) # ship position\n",
    "    pos_dec = decode(pos_enc, map_size) # decode position to access matrix by two indices\n",
    "    \n",
    "    shipy_enc = one_to_index(shipy_pos_matrix, map_size) # shipyard position\n",
    "    shipy_dec = decode(shipy_enc, map_size) #position_decoded \n",
    "    \n",
    "    shift = (shipy_dec[0]-pos_dec[0],shipy_dec[1]-pos_dec[1])\n",
    "    centered_h = np.roll(map_halite, shift = shift, axis = (0,1)) #centers map_halite on the ship\n",
    "    \n",
    "    mean_cardinal_h = []\n",
    "    # this could be generalized to wider areas, like 5x5, but 3x3 it's enough for a 7x7 map\n",
    "    perm = [(a,sh) for a in [0,1] for sh in [-2,2]] # permutations of shifts and axis to get the 4 cardinal directions\n",
    "    for a,sh in perm:\n",
    "        mean_h = np.mean(roll_and_crop(centered_h, shift = sh, axis = a), axis = (0,1))\n",
    "        mean_cardinal_h.append(mean_h)\n",
    "\n",
    "    mean_cardinal_h = np.array(mean_cardinal_h)\n",
    "    halite_direction = np.argmax(mean_cardinal_h) #+ 1 # take the direction of the 3x3 most rich zone\n",
    "    \n",
    "    return halite_direction"
   ]
  },
  {
   "cell_type": "markdown",
   "metadata": {},
   "source": [
    "## Encoding state\n",
    "\n",
    "We now are in possess of the following features:\n",
    "\n",
    "- $pos\\_enc \\in [0,48]$ (ship position encoded);\n",
    "- $halite\\_vector = (C, O, S, N, E, W)$ halite (where C stands for the halite carried by the ship and O for the cell occupied by the ship );\n",
    "- $halite\\_direction \\in [0,3]$ (action to take to go towards the nearest and richest halite deposit).\n",
    "\n",
    "The idea is to first encode the vector of halite, then to form a 3D tensor of $pos\\_enc \\times halvec\\_enc \\times haldir$ and encode it in a 1D array. This final array $s\\_enc$ will form the rows of the Q(s,a) table and should assume values between 0 and 142.883."
   ]
  },
  {
   "cell_type": "code",
   "execution_count": 99,
   "metadata": {},
   "outputs": [
    {
     "data": {
      "text/plain": [
       "array([0, 0, 2, 2, 2, 2])"
      ]
     },
     "execution_count": 99,
     "metadata": {},
     "output_type": "execute_result"
    }
   ],
   "source": [
    "# Encoding halite vector\n",
    "hal_vec_dec = get_halite_vec_dec(state)\n",
    "hal_vec_dec"
   ]
  },
  {
   "cell_type": "code",
   "execution_count": 100,
   "metadata": {},
   "outputs": [],
   "source": [
    "# valid for encoding and decoding an array of length L whose entries can all assume only \n",
    "# the same integer values from 0 to m\n",
    "def encode_vector(v_dec, L = 6, m = 3):\n",
    "    \"\"\"\n",
    "    Encodes a vector of L integers ranging from 0 to m-1.\n",
    "    \n",
    "    Parameters\n",
    "    ----------\n",
    "    v_dec: list or numpy array of L integers between 0 and m\n",
    "    L    : length of the vector\n",
    "    \n",
    "    Assign increasing integers starting from 0 up to m**L to an m-dimensional matrix \"row by row\".\n",
    "    \n",
    "    Returns\n",
    "    -------\n",
    "    integer corresponding to the element (v_dec[0],v_dec[1],...,v_dec[L-1]) of the encoding tensor.\n",
    "    \"\"\"\n",
    "    T = np.arange(m**L).reshape(tuple([m for i in range(L)]))\n",
    "    return T[tuple(v_dec)]\n",
    "\n",
    "def decode_vector(v_enc, L = 6, m = 3):\n",
    "    \"\"\"\n",
    "    Decodes an encoding for a vector of L integers ranging from 0 to m-1.\n",
    "    \n",
    "    Parameters\n",
    "    ----------\n",
    "    v_enc: scalar between 0 and m**L - 1, is the encoding of a position (x1,x2,...,xL)\n",
    "    L    : length of the vector\n",
    "    \n",
    "    Assign increasing integers starting from 0 up to m**L to an m-dimensional matrix \"row by row\".\n",
    "    \n",
    "    Returns\n",
    "    -------\n",
    "    numpy array containg the indexes corresponding to the tensor element of value v_enc.\n",
    "    \"\"\"\n",
    "    T = np.arange(m**L).reshape(tuple([m for i in range(L)]))\n",
    "    return np.array([np.where(v_enc == T)[i][0] for i in range(L)])"
   ]
  },
  {
   "cell_type": "code",
   "execution_count": 102,
   "metadata": {},
   "outputs": [
    {
     "name": "stdout",
     "output_type": "stream",
     "text": [
      "Original vector:  [0 0 2 2 2 2]\n",
      "Encoded vector:  80\n",
      "Decoded vector:  [0 0 2 2 2 2]\n"
     ]
    }
   ],
   "source": [
    "# This is a simple check to see if the encoding and decoding procedure works\n",
    "print(\"Original vector: \", halvec_dec)\n",
    "v_enc = encode_vector(halvec_dec)\n",
    "print(\"Encoded vector: \", v_enc)\n",
    "v_dec = decode_vector(v_enc)\n",
    "print(\"Decoded vector: \", v_dec)"
   ]
  },
  {
   "cell_type": "markdown",
   "metadata": {},
   "source": [
    "Now we have again a different case: we have to encode a vector with 3 integer entries, each of them with different (but known) ranges. \n",
    "\n",
    "The solution is a simple hybrid of those seen before."
   ]
  },
  {
   "cell_type": "code",
   "execution_count": 103,
   "metadata": {},
   "outputs": [],
   "source": [
    "# 3D encoding and decoding for arbitrary lengths of the three axis\n",
    "\n",
    "def encode3D(v_dec, L1, L2, L3):\n",
    "    \"\"\"\n",
    "    Encodes a vector of 3 integers of ranges respectively L1, L2 and L3,\n",
    "    e.g. the first entry must be an integer between 0 and L1-1.\n",
    "     \n",
    "    Parameters\n",
    "    ----------\n",
    "    v_dec: list or numpy array of two integers between 0 and L\n",
    "    L1   : range od the first dimension\n",
    "    L2   : range od the second dimension\n",
    "    L3   : range od the third dimension\n",
    "    \n",
    "    Assign increasing integers starting from 0 up to L1*L2*L3 to an L1xL2xL3 3D-matrix \"row by row\".\n",
    "    \n",
    "    Returns\n",
    "    -------\n",
    "    integer corresponding to the element (v_dec[0],v_dec[1],v_dec[2]) of the encoding 3D-matrix.\n",
    "    \"\"\"\n",
    "    V = np.arange(0,L1*L2*L3).reshape((L1,L2,L3))\n",
    "    v_enc = V[tuple(v_dec)] \n",
    "    return v_enc\n",
    "\n",
    "def decode3D(v_enc, L1, L2, L3):\n",
    "    \"\"\"\n",
    "    Decodes an encoding for a vector of 3 integers of ranges respectively L1, L2 and L3.\n",
    "    \n",
    "    Parameters\n",
    "    ----------\n",
    "    v_enc: scalar between 0 and L**2 - 1, is the encoding of a position (x,y)\n",
    "    L    : linear dimension of the square matrix\n",
    "    \n",
    "    Assign increasing integers starting from 0 up to L**2 to an LxL matrix row by row.\n",
    "    \n",
    "    Returns\n",
    "    -------\n",
    "    numpy array containg the row and the column corresponding to the matrix element of value v_enc.\n",
    "    \"\"\"\n",
    "    V = np.arange(0,L1*L2*L3).reshape((L1,L2,L3))\n",
    "    v_dec = np.array([np.where(v_enc == V)[0][0],np.where(v_enc == V)[1][0], np.where(v_enc == V)[2][0]])\n",
    "    return v_dec"
   ]
  },
  {
   "cell_type": "code",
   "execution_count": 105,
   "metadata": {},
   "outputs": [
    {
     "name": "stdout",
     "output_type": "stream",
     "text": [
      "Ship position encoded:  24\n",
      "Halite vector encoded:  80\n",
      "Halite direction:  1\n"
     ]
    }
   ],
   "source": [
    "print(\"Ship position encoded: \",pos_enc[0])\n",
    "hal_vec_enc = encode_vector(hal_vec_dec)\n",
    "print(\"Halite vector encoded: \",hal_vec_enc)\n",
    "print(\"Halite direction: \", halite_direction)\n",
    "s_dec = np.array([pos_enc[0], hal_vec_enc, halite_direction] )"
   ]
  },
  {
   "cell_type": "code",
   "execution_count": 106,
   "metadata": {},
   "outputs": [
    {
     "name": "stdout",
     "output_type": "stream",
     "text": [
      "Total number of states to be experienced:  142884\n",
      "Original decoded state:  [24 80  1]\n",
      "Encoded state:  70305\n",
      "New decoded state:  [24 80  1]\n"
     ]
    }
   ],
   "source": [
    "# How to use encode3D\n",
    "\n",
    "H_LEV = 3 # halite levels\n",
    "N_CELLS = MAP_SIZE**2 # number of cells in a square map\n",
    "N_STATES = N_CELLS*H_LEV**6*4\n",
    "N_ACTIONS = 5 # no dropoffs, 1 action for staying still, 4 for moving in the cardinal directions\n",
    "print(\"Total number of states to be experienced: \", N_STATES)\n",
    "\n",
    "print(\"Original decoded state: \", s_dec)\n",
    "s_enc = encode3D(s_dec, L1 = N_CELLS, L2 = H_LEV**6, L3 = N_ACTIONS-1)\n",
    "print(\"Encoded state: \", s_enc)\n",
    "s_dec_2 = decode3D(s_enc, L1 = N_CELLS, L2 = H_LEV**6, L3 = N_ACTIONS-1)\n",
    "print(\"New decoded state: \", s_dec)"
   ]
  },
  {
   "cell_type": "markdown",
   "metadata": {},
   "source": [
    "For sake of concision, we will condense all this functions in a single one, at least for encoding the state that the game engine outputs at each step."
   ]
  },
  {
   "cell_type": "code",
   "execution_count": 107,
   "metadata": {},
   "outputs": [],
   "source": [
    "def encode_state(state, map_size = 7, h_lev = 3, n_actions = 5, debug = False):\n",
    "    \"\"\"\n",
    "    Encode a state of the game in a unique scalar.\n",
    "    \n",
    "    Parameters\n",
    "    ----------\n",
    "     state   : [map_size,map_size,>=3] numpy array\n",
    "        Layer 0: map halite\n",
    "        Layer 1: ship position \n",
    "        Layer 2: halite carried by the ships (a.k.a. cargo)\n",
    "    map_size : int, linear size of the squared map\n",
    "    h_lev    : int, number of quantization levels of halite\n",
    "    n_actions: int, number of actions that the agent can perform \n",
    "    deubg    : bool, verbose mode to debug\n",
    "    \n",
    "    Returns\n",
    "    -------\n",
    "    s_enc : int, unique encoding of the partial observation of the game state\n",
    "    \"\"\"\n",
    "    pos_enc = one_to_index(state[:,:,1], map_size)[0] # ship position\n",
    "    if debug:\n",
    "        print(\"Ship position encoded in [0,%d]: \"%(map_size**2-1), pos_enc)\n",
    "    \n",
    "    halvec_dec = get_halite_vec_dec(state, q_number = 3, map_size = map_size) \n",
    "    halvec_enc = encode_vector(halvec_dec) # halite vector\n",
    "    if debug:\n",
    "        print(\"Halite vector encoded in [0,%d]: \"%(h_lev**6 -1), halvec_enc)\n",
    "    \n",
    "    haldir = get_halite_direction(state, map_size = map_size) # halite direction\n",
    "    if debug:\n",
    "        print(\"Halite direction in [0,3]: \", haldir)\n",
    "    \n",
    "    s_dec = np.array([pos_enc, halvec_enc, haldir])\n",
    "    if debug:\n",
    "        print(\"Decoded state: \", s_dec)\n",
    "    s_enc = encode3D(s_dec, L1 = map_size**2, L2 = h_lev**6, L3 = n_actions-1)\n",
    "    if debug:\n",
    "        print(\"State encoded in [0, %d]: \"%(map_size**2*h_lev**6*(n_actions-1)), s_enc, '\\n')\n",
    "    \n",
    "    return s_enc"
   ]
  },
  {
   "cell_type": "code",
   "execution_count": 108,
   "metadata": {},
   "outputs": [
    {
     "name": "stdout",
     "output_type": "stream",
     "text": [
      "Ship position encoded in [0,48]:  24\n",
      "Halite vector encoded in [0,728]:  80\n",
      "Halite direction in [0,3]:  3\n",
      "Decoded state:  [24 80  3]\n",
      "State encoded in [0, 142884]:  70307 \n",
      "\n"
     ]
    },
    {
     "data": {
      "text/plain": [
       "70307"
      ]
     },
     "execution_count": 108,
     "metadata": {},
     "output_type": "execute_result"
    }
   ],
   "source": [
    "encode_state(state, map_size = 7, h_lev = H_LEV, n_actions = N_ACTIONS, debug = True)"
   ]
  },
  {
   "cell_type": "markdown",
   "metadata": {},
   "source": [
    "*Congratulations!* You've made it through the toughest tutorial of the series.\n",
    "\n",
    "In the next one we will see the implementation of the Q-learning with tabular methods for the Halite challenge."
   ]
  }
 ],
 "metadata": {
  "kernelspec": {
   "display_name": "python3_halite",
   "language": "python",
   "name": "python3_halite"
  },
  "language_info": {
   "codemirror_mode": {
    "name": "ipython",
    "version": 3
   },
   "file_extension": ".py",
   "mimetype": "text/x-python",
   "name": "python",
   "nbconvert_exporter": "python",
   "pygments_lexer": "ipython3",
   "version": "3.7.4"
  }
 },
 "nbformat": 4,
 "nbformat_minor": 2
}

{
 "cells": [
  {
   "cell_type": "markdown",
   "metadata": {},
   "source": [
    "# Tutorial 1: Halite Environment\n",
    "\n",
    "In this first tutorial we will see how to use the game engine that we implemented.\n",
    "\n",
    "If you did not have a look at the game basics before, now is the time!\n",
    "\n",
    "https://2018.halite.io/learn-programming-challenge/game-overview"
   ]
  },
  {
   "cell_type": "markdown",
   "metadata": {},
   "source": [
    "First of all we import the basic libraries that we need"
   ]
  },
  {
   "cell_type": "code",
   "execution_count": 1,
   "metadata": {},
   "outputs": [],
   "source": [
    "import sys\n",
    "sys.path.insert(0, \"../Environment/\")\n",
    "import halite_env as Env"
   ]
  },
  {
   "cell_type": "code",
   "execution_count": 2,
   "metadata": {},
   "outputs": [],
   "source": [
    "import numpy as np\n",
    "import matplotlib.pyplot as plt"
   ]
  },
  {
   "cell_type": "markdown",
   "metadata": {},
   "source": [
    "The halite environment is implemented as a class (that inherits from gym.core.Env) called HaliteEnv. \n",
    "\n",
    "As can be seen by calling the help function, the minimal arguments required to instantiate the environment are the number of players and the map size (the map is a square, thus it takes as input just the length of the side of the map)."
   ]
  },
  {
   "cell_type": "code",
   "execution_count": 3,
   "metadata": {},
   "outputs": [
    {
     "name": "stdout",
     "output_type": "stream",
     "text": [
      "Help on class HaliteEnv in module halite_env:\n",
      "\n",
      "class HaliteEnv(gym.core.Env)\n",
      " |  HaliteEnv(num_players, map_size, episode_lenght=400, regen_map_on_reset=False, map_type=None)\n",
      " |  \n",
      " |  Stores the Halite III OpenAI gym environment.\n",
      " |  \n",
      " |  [Original, to change]\n",
      " |  This environment does not use Halite III's actual game engine\n",
      " |  (which analyzes input from terminal and is slow for RL) but instead is\n",
      " |  a replica in Python.\n",
      " |  \n",
      " |  Attributes:\n",
      " |  -----------\n",
      " |  self.map : np.ndarray\n",
      " |      Map of game as a 3D array. Stores different information on each \"layer\"\n",
      " |      of the array.\n",
      " |  Layer 0: The Halite currently on the sea floor\n",
      " |  Layer 1: The Halite currently on ships/factory/dropoff\n",
      " |  Layer 2: Whether a Factory or Dropoff exists at the layer (Factory is 1, Dropoff is -1)\n",
      " |  Layer 3: Whether a Ship exists at the layer\n",
      " |  Layer 4: Ownership\n",
      " |  Layer 5: Inspiration (not given as part of observation by default)\n",
      " |  \n",
      " |  self.mapSize : int\n",
      " |      Size of map (for x and y)\n",
      " |  \n",
      " |  self.numPlayers : int\n",
      " |      Number of players\n",
      " |  \n",
      " |  self.playerHalite : np.ndarray\n",
      " |      Stores the total halite a player with ownership id <index + 1> has. self.map also\n",
      " |      stores the total halite with the halite under factories/dropoffs, but doesn't\n",
      " |      include the 5000 initial.\n",
      " |  \n",
      " |  Method resolution order:\n",
      " |      HaliteEnv\n",
      " |      gym.core.Env\n",
      " |      builtins.object\n",
      " |  \n",
      " |  Methods defined here:\n",
      " |  \n",
      " |  __init__(self, num_players, map_size, episode_lenght=400, regen_map_on_reset=False, map_type=None)\n",
      " |      Every environment should be derived from gym.Env and at least contain the\n",
      " |      variables observation_space and action_space specifying the type of possible\n",
      " |      observations and actions using spaces.Box or spaces.Discrete.\n",
      " |      \n",
      " |      Example:\n",
      " |      >>> EnvTest = FooEnv()\n",
      " |      >>> EnvTest.observation_space=spaces.Box(low=-1, high=1, shape=(3,4))\n",
      " |      >>> EnvTest.action_space=spaces.Discrete(2)\n",
      " |      \n",
      " |      HaliteEnv initialization function.\n",
      " |  \n",
      " |  render(self, mode='human', close=False)\n",
      " |      This methods provides the option to render the environment's behavior to a window\n",
      " |      which should be readable to the human eye if mode is set to 'human'.\n",
      " |  \n",
      " |  reset(self)\n",
      " |      This method resets the environment to its initial values.\n",
      " |      \n",
      " |      Returns:\n",
      " |          observation:    array\n",
      " |                          the initial state of the environment\n",
      " |  \n",
      " |  step(self, action, makeship=False, debug=False)\n",
      " |      Primary interface between environment and agent.\n",
      " |      \n",
      " |      Paramters:\n",
      " |          action: int\n",
      " |                  the index of the respective action (if action space is discrete)\n",
      " |      \n",
      " |      Returns:\n",
      " |          output: (array, float, bool)\n",
      " |                  information provided by the environment about its current state:\n",
      " |                  (observation, reward, done)\n",
      " |  \n",
      " |  ----------------------------------------------------------------------\n",
      " |  Data and other attributes defined here:\n",
      " |  \n",
      " |  metadata = {'map_size': 0, 'num_players': 0, 'render_modes': ['human']...\n",
      " |  \n",
      " |  ----------------------------------------------------------------------\n",
      " |  Methods inherited from gym.core.Env:\n",
      " |  \n",
      " |  __enter__(self)\n",
      " |  \n",
      " |  __exit__(self, *args)\n",
      " |  \n",
      " |  __str__(self)\n",
      " |      Return str(self).\n",
      " |  \n",
      " |  close(self)\n",
      " |      Override close in your subclass to perform any necessary cleanup.\n",
      " |      \n",
      " |      Environments will automatically close() themselves when\n",
      " |      garbage collected or when the program exits.\n",
      " |  \n",
      " |  seed(self, seed=None)\n",
      " |      Sets the seed for this env's random number generator(s).\n",
      " |      \n",
      " |      Note:\n",
      " |          Some environments use multiple pseudorandom number generators.\n",
      " |          We want to capture all such seeds used in order to ensure that\n",
      " |          there aren't accidental correlations between multiple generators.\n",
      " |      \n",
      " |      Returns:\n",
      " |          list<bigint>: Returns the list of seeds used in this env's random\n",
      " |            number generators. The first value in the list should be the\n",
      " |            \"main\" seed, or the value which a reproducer should pass to\n",
      " |            'seed'. Often, the main seed equals the provided 'seed', but\n",
      " |            this won't be true if seed=None, for example.\n",
      " |  \n",
      " |  ----------------------------------------------------------------------\n",
      " |  Data descriptors inherited from gym.core.Env:\n",
      " |  \n",
      " |  __dict__\n",
      " |      dictionary for instance variables (if defined)\n",
      " |  \n",
      " |  __weakref__\n",
      " |      list of weak references to the object (if defined)\n",
      " |  \n",
      " |  unwrapped\n",
      " |      Completely unwrap this env.\n",
      " |      \n",
      " |      Returns:\n",
      " |          gym.Env: The base non-wrapped gym.Env instance\n",
      " |  \n",
      " |  ----------------------------------------------------------------------\n",
      " |  Data and other attributes inherited from gym.core.Env:\n",
      " |  \n",
      " |  action_space = None\n",
      " |  \n",
      " |  observation_space = None\n",
      " |  \n",
      " |  reward_range = (-inf, inf)\n",
      " |  \n",
      " |  spec = None\n",
      "\n"
     ]
    }
   ],
   "source": [
    "help(Env.HaliteEnv)"
   ]
  },
  {
   "cell_type": "code",
   "execution_count": 6,
   "metadata": {},
   "outputs": [],
   "source": [
    "# parameters for a single player in a 7x7 map\n",
    "NUM_PLAYERS = 1\n",
    "MAP_SIZE = 7\n",
    "\n",
    "# instantiate class\n",
    "env = Env.HaliteEnv(num_players=NUM_PLAYERS, map_size=MAP_SIZE)"
   ]
  },
  {
   "cell_type": "markdown",
   "metadata": {},
   "source": [
    "## Environment layers\n",
    "\n",
    "Each environment instance has an attribute called map, where are represented all the informations related to the map and the entities that can be found on the map (Ships, Shipyards and Dropoffs).\n",
    "\n",
    "The map is a multi-layer (3 dimensional) matrix: the first 2 coordinates represent the cells of the map, the third gives access to different layers:\n",
    "\n",
    "Layer 0: The Halite currently on the sea floor <br>\n",
    "Layer 1: Whether a Ship exists at the layer <br>\n",
    "Layer 2: The Halite currently on ships/shipyard/dropoff <br>\n",
    "Layer 3: Whether a Shipyard or a Dropoff exists at the layer (Shipyard is 1, Dropoff is -1) <br>\n",
    "Layer 4: Ownership of Ships, Shipyards and Dropoffs (always 1 for your entities, is used only in multiplayer)<br>\n",
    "\n",
    "All halite values are integers that range between 0 and 1000."
   ]
  },
  {
   "cell_type": "code",
   "execution_count": 7,
   "metadata": {},
   "outputs": [
    {
     "data": {
      "text/plain": [
       "(7, 7, 5)"
      ]
     },
     "execution_count": 7,
     "metadata": {},
     "output_type": "execute_result"
    }
   ],
   "source": [
    "# since the MAP_SIZE is 7, we have a 7x7x5 numpy array\n",
    "env.map.shape"
   ]
  },
  {
   "cell_type": "markdown",
   "metadata": {},
   "source": [
    "Now we look at all the layers for the turn zero (since we have not made any move yet, no ship is present and the whole thing is a bit boring, but we will return on that...)"
   ]
  },
  {
   "cell_type": "code",
   "execution_count": 12,
   "metadata": {},
   "outputs": [
    {
     "data": {
      "text/plain": [
       "array([[274, 826, 324, 362, 872, 274, 487],\n",
       "       [ 99, 970, 889, 241, 811, 581, 283],\n",
       "       [189, 828, 765, 191,  61,  17, 380],\n",
       "       [964, 876, 312,   0, 871, 597, 202],\n",
       "       [700, 544, 290, 576, 636, 487, 383],\n",
       "       [793, 188, 176, 796,  48, 880,  77],\n",
       "       [714, 334, 597, 698, 816, 228, 569]])"
      ]
     },
     "execution_count": 12,
     "metadata": {},
     "output_type": "execute_result"
    }
   ],
   "source": [
    "# halite in the map, min = 0, max = 1000\n",
    "env.map[:,:,0]\n",
    "\n",
    "# NOTE: the values in which is present a shipyard (the central cell in the single player case) are always zero"
   ]
  },
  {
   "cell_type": "code",
   "execution_count": 13,
   "metadata": {},
   "outputs": [
    {
     "data": {
      "text/plain": [
       "array([[0, 0, 0, 0, 0, 0, 0],\n",
       "       [0, 0, 0, 0, 0, 0, 0],\n",
       "       [0, 0, 0, 0, 0, 0, 0],\n",
       "       [0, 0, 0, 0, 0, 0, 0],\n",
       "       [0, 0, 0, 0, 0, 0, 0],\n",
       "       [0, 0, 0, 0, 0, 0, 0],\n",
       "       [0, 0, 0, 0, 0, 0, 0]])"
      ]
     },
     "execution_count": 13,
     "metadata": {},
     "output_type": "execute_result"
    }
   ],
   "source": [
    "# ships' positions (1 where a ship is present, 0 otherwise)\n",
    "env.map[:,:,1] "
   ]
  },
  {
   "cell_type": "code",
   "execution_count": 14,
   "metadata": {},
   "outputs": [
    {
     "data": {
      "text/plain": [
       "array([[0, 0, 0, 0, 0, 0, 0],\n",
       "       [0, 0, 0, 0, 0, 0, 0],\n",
       "       [0, 0, 0, 0, 0, 0, 0],\n",
       "       [0, 0, 0, 0, 0, 0, 0],\n",
       "       [0, 0, 0, 0, 0, 0, 0],\n",
       "       [0, 0, 0, 0, 0, 0, 0],\n",
       "       [0, 0, 0, 0, 0, 0, 0]])"
      ]
     },
     "execution_count": 14,
     "metadata": {},
     "output_type": "execute_result"
    }
   ],
   "source": [
    "# shows the halite carried from each ship in the position corresponding to the ship\n",
    "# initially there is no ship, hence no halite carried either\n",
    "env.map[:,:,2] "
   ]
  },
  {
   "cell_type": "code",
   "execution_count": 15,
   "metadata": {},
   "outputs": [
    {
     "data": {
      "text/plain": [
       "array([[0, 0, 0, 0, 0, 0, 0],\n",
       "       [0, 0, 0, 0, 0, 0, 0],\n",
       "       [0, 0, 0, 0, 0, 0, 0],\n",
       "       [0, 0, 0, 1, 0, 0, 0],\n",
       "       [0, 0, 0, 0, 0, 0, 0],\n",
       "       [0, 0, 0, 0, 0, 0, 0],\n",
       "       [0, 0, 0, 0, 0, 0, 0]])"
      ]
     },
     "execution_count": 15,
     "metadata": {},
     "output_type": "execute_result"
    }
   ],
   "source": [
    "# shipyard position (1 in the center)\n",
    "env.map[:,:,3] "
   ]
  },
  {
   "cell_type": "markdown",
   "metadata": {},
   "source": [
    "The last layer is not implemented in the case of one player because is useless."
   ]
  },
  {
   "cell_type": "code",
   "execution_count": 17,
   "metadata": {},
   "outputs": [
    {
     "name": "stdout",
     "output_type": "stream",
     "text": [
      "Initial halite:  [5000.]\n"
     ]
    }
   ],
   "source": [
    "# finally we can print our current halite stored\n",
    "# we are represented as player #0 in a list of players (of length 1 in this case)\n",
    "print(\"Initial halite: \", env.player_halite[0])"
   ]
  },
  {
   "cell_type": "markdown",
   "metadata": {},
   "source": [
    "## Submitting actions\n",
    "\n",
    "Being Halite a turn-based game, we need to submit to the game engine actions for all the entites that we control, that are the shipyard and maybe some ships. We call this submission `step` and it is implemented as a method of the environment class.\n",
    "\n",
    "The shipyard has a binary choice: it either builds a ship (for 1000 halite) or it doesn't. This choice must be passed as an argument of the method with the keyword `makeship`.\n",
    "\n",
    "Regarding the ships instead we must provide a matrix with the same shape of the map, containing in the positions where the ships are located the corresponding actions for that turn and -1 in all other cells.\n",
    "\n",
    "The space action for the ships is composed by all integers between 0 and 4:\n",
    "* **0**: stay still;\n",
    "* **1**: move South;\n",
    "* **2**: move North;\n",
    "* **3**: move Est;\n",
    "* **4**: move West."
   ]
  },
  {
   "cell_type": "code",
   "execution_count": 19,
   "metadata": {},
   "outputs": [
    {
     "name": "stdout",
     "output_type": "stream",
     "text": [
      "Halite of the player:v [4000.]\n",
      "Is the episode finished?  False\n"
     ]
    }
   ],
   "source": [
    "# actions are represented as a matrix whose entries are -1 if no ship is in that position, \n",
    "#'a_i' if ship i is present in that position \n",
    "action_matrix = np.full((MAP_SIZE,MAP_SIZE), -1) # no ship, no action\n",
    "\n",
    "# the environment already has in memory the last state, thus we don't need to resubmit it\n",
    "# the only things that we submit are the action matrix and the shipyard action (1 or True to spawn a ship, 0 otherwise)\n",
    "shipyard_action = True # initially always choose to create a ship\n",
    "\n",
    "# Turn #1\n",
    "# NOTE: state is equivalent to env.map\n",
    "state, halite, finish_flag, _ = env.step(action_matrix, makeship = shipyard_action)\n",
    "\n",
    "print(\"Halite of the player:\", halite[0]) # 1000 less than previous turn, since a ship was built\n",
    "print(\"Is the episode finished? \", finish_flag)\n",
    "\n",
    "# state_0 -> map_halite, state_1 -> ship_position, state_2 -> cargo_halite, state_3 -> shipyard_position\n",
    "map_halite = state[:,:,0]\n",
    "ship_pos_matrix = state[:,:,1]\n",
    "shipy_pos_matrix = state[:,:,3]"
   ]
  },
  {
   "cell_type": "markdown",
   "metadata": {},
   "source": [
    "Now we can see that a ship has appeared in the layer 1 of the state:"
   ]
  },
  {
   "cell_type": "code",
   "execution_count": 20,
   "metadata": {},
   "outputs": [
    {
     "data": {
      "text/plain": [
       "array([[0, 0, 0, 0, 0, 0, 0],\n",
       "       [0, 0, 0, 0, 0, 0, 0],\n",
       "       [0, 0, 0, 0, 0, 0, 0],\n",
       "       [0, 0, 0, 1, 0, 0, 0],\n",
       "       [0, 0, 0, 0, 0, 0, 0],\n",
       "       [0, 0, 0, 0, 0, 0, 0],\n",
       "       [0, 0, 0, 0, 0, 0, 0]])"
      ]
     },
     "execution_count": 20,
     "metadata": {},
     "output_type": "execute_result"
    }
   ],
   "source": [
    "ship_pos_matrix"
   ]
  },
  {
   "cell_type": "markdown",
   "metadata": {},
   "source": [
    "Now we can make some moves to test all the actions and their effects"
   ]
  },
  {
   "cell_type": "code",
   "execution_count": 22,
   "metadata": {},
   "outputs": [],
   "source": [
    "# turn #2\n",
    "shipyard_action = False\n",
    "\n",
    "action_matrix = np.full((MAP_SIZE,MAP_SIZE), -1)\n",
    "\n",
    "ship_mask = ship_pos_matrix.astype(\"bool\") # works just fine for one ship\n",
    "\n",
    "move = 1 # move south\n",
    "\n",
    "action_matrix[ship_mask] = move"
   ]
  },
  {
   "cell_type": "code",
   "execution_count": 23,
   "metadata": {},
   "outputs": [
    {
     "data": {
      "text/plain": [
       "array([[-1, -1, -1, -1, -1, -1, -1],\n",
       "       [-1, -1, -1, -1, -1, -1, -1],\n",
       "       [-1, -1, -1, -1, -1, -1, -1],\n",
       "       [-1, -1, -1,  1, -1, -1, -1],\n",
       "       [-1, -1, -1, -1, -1, -1, -1],\n",
       "       [-1, -1, -1, -1, -1, -1, -1],\n",
       "       [-1, -1, -1, -1, -1, -1, -1]])"
      ]
     },
     "execution_count": 23,
     "metadata": {},
     "output_type": "execute_result"
    }
   ],
   "source": [
    "action_matrix"
   ]
  },
  {
   "cell_type": "code",
   "execution_count": 24,
   "metadata": {},
   "outputs": [
    {
     "name": "stdout",
     "output_type": "stream",
     "text": [
      "Halite of the player: [4000.]\n",
      "Is the episode finished?  False\n"
     ]
    }
   ],
   "source": [
    "state, halite, finish_flag, _ = env.step(action_matrix, makeship = shipyard_action)\n",
    "\n",
    "map_halite = state[:,:,0]\n",
    "ship_pos_matrix = state[:,:,1]\n",
    "ship_cargo_matrix = state[:,:,2]\n",
    "shipy_pos_matrix = state[:,:,3]\n",
    "\n",
    "print(\"Halite of the player:\", halite[0]) # same halite amount\n",
    "print(\"Is the episode finished? \", finish_flag)"
   ]
  },
  {
   "cell_type": "code",
   "execution_count": 26,
   "metadata": {},
   "outputs": [
    {
     "data": {
      "text/plain": [
       "array([[0, 0, 0, 0, 0, 0, 0],\n",
       "       [0, 0, 0, 0, 0, 0, 0],\n",
       "       [0, 0, 0, 0, 0, 0, 0],\n",
       "       [0, 0, 0, 0, 0, 0, 0],\n",
       "       [0, 0, 0, 1, 0, 0, 0],\n",
       "       [0, 0, 0, 0, 0, 0, 0],\n",
       "       [0, 0, 0, 0, 0, 0, 0]])"
      ]
     },
     "execution_count": 26,
     "metadata": {},
     "output_type": "execute_result"
    }
   ],
   "source": [
    "ship_pos_matrix # ship has moved south of 1 cell"
   ]
  },
  {
   "cell_type": "code",
   "execution_count": 27,
   "metadata": {},
   "outputs": [
    {
     "data": {
      "text/plain": [
       "array([[0, 0, 0, 0, 0, 0, 0],\n",
       "       [0, 0, 0, 0, 0, 0, 0],\n",
       "       [0, 0, 0, 0, 0, 0, 0],\n",
       "       [0, 0, 0, 0, 0, 0, 0],\n",
       "       [0, 0, 0, 0, 0, 0, 0],\n",
       "       [0, 0, 0, 0, 0, 0, 0],\n",
       "       [0, 0, 0, 0, 0, 0, 0]])"
      ]
     },
     "execution_count": 27,
     "metadata": {},
     "output_type": "execute_result"
    }
   ],
   "source": [
    "ship_cargo_matrix # no halite carried by the ship "
   ]
  },
  {
   "cell_type": "markdown",
   "metadata": {},
   "source": [
    "Before moving let's have a look at the halite in the neighborhood"
   ]
  },
  {
   "cell_type": "code",
   "execution_count": 28,
   "metadata": {},
   "outputs": [
    {
     "data": {
      "text/plain": [
       "array([[274, 826, 324, 362, 872, 274, 487],\n",
       "       [ 99, 970, 889, 241, 811, 581, 283],\n",
       "       [189, 828, 765, 191,  61,  17, 380],\n",
       "       [964, 876, 312,   0, 871, 597, 202],\n",
       "       [700, 544, 290, 576, 636, 487, 383],\n",
       "       [793, 188, 176, 796,  48, 880,  77],\n",
       "       [714, 334, 597, 698, 816, 228, 569]])"
      ]
     },
     "execution_count": 28,
     "metadata": {},
     "output_type": "execute_result"
    }
   ],
   "source": [
    "map_halite"
   ]
  },
  {
   "cell_type": "markdown",
   "metadata": {},
   "source": [
    "The level of halite in each cell is initialized randomly and since we didn't fixed any seed in the generator each of us will see a different result. In my case there is a rich cell one position est w.r.t. the shipyard and I can get there in 2 moves (e.g. right and then up); in this way we will also see all the possible actions."
   ]
  },
  {
   "cell_type": "code",
   "execution_count": 29,
   "metadata": {},
   "outputs": [],
   "source": [
    "# Turn #3\n",
    "shipyard_action = False\n",
    "\n",
    "action_matrix = np.full((MAP_SIZE,MAP_SIZE), -1)\n",
    "\n",
    "ship_mask = ship_pos_matrix.astype(\"bool\") \n",
    "\n",
    "move = 3 # move east\n",
    "\n",
    "action_matrix[ship_mask] = move"
   ]
  },
  {
   "cell_type": "code",
   "execution_count": 30,
   "metadata": {},
   "outputs": [
    {
     "name": "stdout",
     "output_type": "stream",
     "text": [
      "Halite of the player: [4000.]\n",
      "Is the episode finished?  False\n"
     ]
    }
   ],
   "source": [
    "state, halite, finish_flag, _ = env.step(action_matrix, makeship = shipyard_action)\n",
    "\n",
    "map_halite = state[:,:,0]\n",
    "ship_pos_matrix = state[:,:,1]\n",
    "ship_cargo_matrix = state[:,:,2]\n",
    "shipy_pos_matrix = state[:,:,3]\n",
    "\n",
    "print(\"Halite of the player:\", halite[0]) # same halite amount\n",
    "print(\"Is the episode finished? \", finish_flag)"
   ]
  },
  {
   "cell_type": "code",
   "execution_count": 31,
   "metadata": {},
   "outputs": [
    {
     "data": {
      "text/plain": [
       "array([[0, 0, 0, 0, 0, 0, 0],\n",
       "       [0, 0, 0, 0, 0, 0, 0],\n",
       "       [0, 0, 0, 0, 0, 0, 0],\n",
       "       [0, 0, 0, 0, 0, 0, 0],\n",
       "       [0, 0, 0, 0, 1, 0, 0],\n",
       "       [0, 0, 0, 0, 0, 0, 0],\n",
       "       [0, 0, 0, 0, 0, 0, 0]])"
      ]
     },
     "execution_count": 31,
     "metadata": {},
     "output_type": "execute_result"
    }
   ],
   "source": [
    "ship_pos_matrix # ship has moved east of 1 cell"
   ]
  },
  {
   "cell_type": "code",
   "execution_count": 32,
   "metadata": {},
   "outputs": [
    {
     "data": {
      "text/plain": [
       "array([[0, 0, 0, 0, 0, 0, 0],\n",
       "       [0, 0, 0, 0, 0, 0, 0],\n",
       "       [0, 0, 0, 0, 0, 0, 0],\n",
       "       [0, 0, 0, 0, 0, 0, 0],\n",
       "       [0, 0, 0, 0, 0, 0, 0],\n",
       "       [0, 0, 0, 0, 0, 0, 0],\n",
       "       [0, 0, 0, 0, 0, 0, 0]])"
      ]
     },
     "execution_count": 32,
     "metadata": {},
     "output_type": "execute_result"
    }
   ],
   "source": [
    "ship_cargo_matrix # still no halite carried by the ship "
   ]
  },
  {
   "cell_type": "code",
   "execution_count": 33,
   "metadata": {},
   "outputs": [],
   "source": [
    "# Turn #4\n",
    "shipyard_action = False\n",
    "\n",
    "action_matrix = np.full((MAP_SIZE,MAP_SIZE), -1)\n",
    "\n",
    "ship_mask = ship_pos_matrix.astype(\"bool\") \n",
    "\n",
    "move = 2 # move north\n",
    "\n",
    "action_matrix[ship_mask] = move"
   ]
  },
  {
   "cell_type": "code",
   "execution_count": 34,
   "metadata": {},
   "outputs": [
    {
     "name": "stdout",
     "output_type": "stream",
     "text": [
      "Halite of the player: [4000.]\n",
      "Is the episode finished?  False\n"
     ]
    }
   ],
   "source": [
    "state, halite, finish_flag, _ = env.step(action_matrix, makeship = shipyard_action)\n",
    "\n",
    "map_halite = state[:,:,0]\n",
    "ship_pos_matrix = state[:,:,1]\n",
    "ship_cargo_matrix = state[:,:,2]\n",
    "shipy_pos_matrix = state[:,:,3]\n",
    "\n",
    "print(\"Halite of the player:\", halite[0]) # same halite amount\n",
    "print(\"Is the episode finished? \", finish_flag)"
   ]
  },
  {
   "cell_type": "code",
   "execution_count": 35,
   "metadata": {},
   "outputs": [
    {
     "data": {
      "text/plain": [
       "array([[0, 0, 0, 0, 0, 0, 0],\n",
       "       [0, 0, 0, 0, 0, 0, 0],\n",
       "       [0, 0, 0, 0, 0, 0, 0],\n",
       "       [0, 0, 0, 0, 1, 0, 0],\n",
       "       [0, 0, 0, 0, 0, 0, 0],\n",
       "       [0, 0, 0, 0, 0, 0, 0],\n",
       "       [0, 0, 0, 0, 0, 0, 0]])"
      ]
     },
     "execution_count": 35,
     "metadata": {},
     "output_type": "execute_result"
    }
   ],
   "source": [
    "ship_pos_matrix # now we are in position to gather some halite"
   ]
  },
  {
   "cell_type": "code",
   "execution_count": 36,
   "metadata": {},
   "outputs": [],
   "source": [
    "# Turn #5\n",
    "shipyard_action = False\n",
    "\n",
    "action_matrix = np.full((MAP_SIZE,MAP_SIZE), -1)\n",
    "\n",
    "ship_mask = ship_pos_matrix.astype(\"bool\") \n",
    "\n",
    "move = 0 # stay still\n",
    "\n",
    "action_matrix[ship_mask] = move"
   ]
  },
  {
   "cell_type": "code",
   "execution_count": 37,
   "metadata": {},
   "outputs": [
    {
     "name": "stdout",
     "output_type": "stream",
     "text": [
      "Halite of the player: [4000.]\n",
      "Is the episode finished?  False\n"
     ]
    }
   ],
   "source": [
    "state, halite, finish_flag, _ = env.step(action_matrix, makeship = shipyard_action)\n",
    "\n",
    "map_halite = state[:,:,0]\n",
    "ship_pos_matrix = state[:,:,1]\n",
    "ship_cargo_matrix = state[:,:,2]\n",
    "shipy_pos_matrix = state[:,:,3]\n",
    "\n",
    "print(\"Halite of the player:\", halite[0]) # same halite amount\n",
    "print(\"Is the episode finished? \", finish_flag)"
   ]
  },
  {
   "cell_type": "code",
   "execution_count": 38,
   "metadata": {},
   "outputs": [
    {
     "data": {
      "text/plain": [
       "array([[  0,   0,   0,   0,   0,   0,   0],\n",
       "       [  0,   0,   0,   0,   0,   0,   0],\n",
       "       [  0,   0,   0,   0,   0,   0,   0],\n",
       "       [  0,   0,   0,   0, 218,   0,   0],\n",
       "       [  0,   0,   0,   0,   0,   0,   0],\n",
       "       [  0,   0,   0,   0,   0,   0,   0],\n",
       "       [  0,   0,   0,   0,   0,   0,   0]])"
      ]
     },
     "execution_count": 38,
     "metadata": {},
     "output_type": "execute_result"
    }
   ],
   "source": [
    "ship_cargo_matrix # now the ship has harvested the 25% of the halite (in my case 218)"
   ]
  },
  {
   "cell_type": "markdown",
   "metadata": {},
   "source": [
    "Now we want to take the ship back to the shipyard in order to store the carried halite"
   ]
  },
  {
   "cell_type": "code",
   "execution_count": 39,
   "metadata": {},
   "outputs": [],
   "source": [
    "# Turn #6\n",
    "shipyard_action = False\n",
    "\n",
    "action_matrix = np.full((MAP_SIZE,MAP_SIZE), -1)\n",
    "\n",
    "ship_mask = ship_pos_matrix.astype(\"bool\") \n",
    "\n",
    "move = 4 # move west\n",
    "\n",
    "action_matrix[ship_mask] = move"
   ]
  },
  {
   "cell_type": "code",
   "execution_count": 40,
   "metadata": {},
   "outputs": [
    {
     "name": "stdout",
     "output_type": "stream",
     "text": [
      "Halite of the player: [4218.]\n",
      "Is the episode finished?  False\n"
     ]
    }
   ],
   "source": [
    "state, halite, finish_flag, _ = env.step(action_matrix, makeship = shipyard_action)\n",
    "\n",
    "map_halite = state[:,:,0]\n",
    "ship_pos_matrix = state[:,:,1]\n",
    "ship_cargo_matrix = state[:,:,2]\n",
    "shipy_pos_matrix = state[:,:,3]\n",
    "\n",
    "print(\"Halite of the player:\", halite[0]) # same halite amount\n",
    "print(\"Is the episode finished? \", finish_flag)"
   ]
  },
  {
   "cell_type": "markdown",
   "metadata": {},
   "source": [
    "As you can see the halite carried is immediately stored in the shipyard (there is no need to stay still for one turn in the shipyard to do that)."
   ]
  },
  {
   "cell_type": "markdown",
   "metadata": {},
   "source": [
    "## Ship sinking\n",
    "\n",
    "It's forbidden to have two or more ships on the same cell: in such a case ALL ships will sunk. To see this for example we can order the shipyard to produce one more ship while we order the first one to stay still."
   ]
  },
  {
   "cell_type": "code",
   "execution_count": 41,
   "metadata": {},
   "outputs": [],
   "source": [
    "# Turn #6\n",
    "shipyard_action = True\n",
    "\n",
    "action_matrix = np.full((MAP_SIZE,MAP_SIZE), -1)\n",
    "\n",
    "ship_mask = ship_pos_matrix.astype(\"bool\") \n",
    "\n",
    "move = 0 # move west\n",
    "\n",
    "action_matrix[ship_mask] = move"
   ]
  },
  {
   "cell_type": "code",
   "execution_count": 42,
   "metadata": {},
   "outputs": [
    {
     "name": "stdout",
     "output_type": "stream",
     "text": [
      "Halite of the player: [3218.]\n",
      "Is the episode finished?  False\n"
     ]
    }
   ],
   "source": [
    "state, halite, finish_flag, _ = env.step(action_matrix, makeship = shipyard_action)\n",
    "\n",
    "map_halite = state[:,:,0]\n",
    "ship_pos_matrix = state[:,:,1]\n",
    "ship_cargo_matrix = state[:,:,2]\n",
    "shipy_pos_matrix = state[:,:,3]\n",
    "\n",
    "print(\"Halite of the player:\", halite[0]) # same halite amount\n",
    "print(\"Is the episode finished? \", finish_flag)"
   ]
  },
  {
   "cell_type": "code",
   "execution_count": 43,
   "metadata": {},
   "outputs": [
    {
     "data": {
      "text/plain": [
       "array([[0, 0, 0, 0, 0, 0, 0],\n",
       "       [0, 0, 0, 0, 0, 0, 0],\n",
       "       [0, 0, 0, 0, 0, 0, 0],\n",
       "       [0, 0, 0, 0, 0, 0, 0],\n",
       "       [0, 0, 0, 0, 0, 0, 0],\n",
       "       [0, 0, 0, 0, 0, 0, 0],\n",
       "       [0, 0, 0, 0, 0, 0, 0]])"
      ]
     },
     "execution_count": 43,
     "metadata": {},
     "output_type": "execute_result"
    }
   ],
   "source": [
    "ship_pos_matrix # no more ship present"
   ]
  },
  {
   "cell_type": "markdown",
   "metadata": {},
   "source": [
    "And that is pretty all for what you need to know about the environment and game engine!"
   ]
  }
 ],
 "metadata": {
  "kernelspec": {
   "display_name": "python3_halite",
   "language": "python",
   "name": "python3_halite"
  },
  "language_info": {
   "codemirror_mode": {
    "name": "ipython",
    "version": 3
   },
   "file_extension": ".py",
   "mimetype": "text/x-python",
   "name": "python",
   "nbconvert_exporter": "python",
   "pygments_lexer": "ipython3",
   "version": "3.7.4"
  }
 },
 "nbformat": 4,
 "nbformat_minor": 2
}

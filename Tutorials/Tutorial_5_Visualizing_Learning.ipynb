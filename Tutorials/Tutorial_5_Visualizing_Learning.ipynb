{
 "cells": [
  {
   "cell_type": "markdown",
   "metadata": {},
   "source": [
    "# Tutorial 5: Visualizing Learning\n",
    "\n",
    "In the previous tutorial we have seen how to train an agent, but I bet that everyone of us has thought at least once \"Is it really learning anything?\". In this tutorial we will try to answer to that question.\n",
    "\n",
    "We gathered again all the functions written in the previous tutorial in a script ship.py, that you can find in the Modules folder. \n",
    "\n",
    "## Outline\n",
    "1. Online visualization: how to see how the training is doing while the agent is still training.\n",
    "2. Post-training visualization: how to look at the final result."
   ]
  },
  {
   "cell_type": "code",
   "execution_count": 1,
   "metadata": {},
   "outputs": [],
   "source": [
    "#import modules and libraries\n",
    "import sys\n",
    "sys.path.insert(0, \"../Environment/\")\n",
    "sys.path.insert(0, \"../Modules/\")\n",
    "import halite_env as Env\n",
    "import encode as cod\n",
    "import ship "
   ]
  },
  {
   "cell_type": "code",
   "execution_count": 2,
   "metadata": {},
   "outputs": [],
   "source": [
    "import numpy as np\n",
    "import matplotlib.pyplot as plt"
   ]
  },
  {
   "cell_type": "markdown",
   "metadata": {},
   "source": [
    "We redifine all variables and constants as in the previous tutorial"
   ]
  },
  {
   "cell_type": "code",
   "execution_count": 3,
   "metadata": {},
   "outputs": [
    {
     "name": "stdout",
     "output_type": "stream",
     "text": [
      "Total number of states to be experienced:  142884\n"
     ]
    }
   ],
   "source": [
    "#@@@@@@@@@@@@@@@@@@@@@@\n",
    "# Environment variables\n",
    "#@@@@@@@@@@@@@@@@@@@@@@\n",
    "NUM_PLAYERS = 1\n",
    "MAP_SIZE = 7 # 7 x 7 map\n",
    "TOT_TURNS = 400 # number of turns for each episode\n",
    "\n",
    "#@@@@@@@@@@@@@@@@\n",
    "# State variables\n",
    "#@@@@@@@@@@@@@@@@\n",
    "H_LEV = 3 # halite levels\n",
    "N_CELLS = MAP_SIZE**2 # number of cells in a square map\n",
    "N_STATES = N_CELLS*H_LEV**6*4\n",
    "N_ACTIONS = 5 # no dropoffs, 1 action for staying still, 4 for moving in the cardinal directions\n",
    "print(\"Total number of states to be experienced: \", N_STATES)\n",
    "\n",
    "#@@@@@@@@@@@@@@@@@@@@\n",
    "# Learning parameters\n",
    "#@@@@@@@@@@@@@@@@@@@@\n",
    "N_BATCH = 10 #100 # number of episodes in an epoch\n",
    "MAX_EPOCHS = 200 # max number of epochs played before stopping (500 ~ 7.3 hours of training)\n",
    "DISCOUNT_FACTOR = 1 - 1/TOT_TURNS #train ships as if each turn has a probability of 1/tot_turns of ending the game \n",
    "STD_REWARD = -0.01\n",
    "LEARNING_RATE = 0.1\n",
    "EPS_START = 0.5"
   ]
  },
  {
   "cell_type": "code",
   "execution_count": 4,
   "metadata": {},
   "outputs": [],
   "source": [
    "# convert all the parameters to dictionaries\n",
    "env_dict = dict(NUM_PLAYERS = NUM_PLAYERS , \n",
    "                TOT_TURNS = TOT_TURNS)\n",
    "\n",
    "state_dict = dict(MAP_SIZE = MAP_SIZE,  \n",
    "                  H_LEV = H_LEV, \n",
    "                  N_ACTIONS = N_ACTIONS)\n",
    "\n",
    "learning_dict = dict(LEARNING_RATE = LEARNING_RATE, \n",
    "                     DISCOUNT_FACTOR = DISCOUNT_FACTOR , \n",
    "                     eps = EPS_START, \n",
    "                     STD_REWARD = STD_REWARD)"
   ]
  },
  {
   "cell_type": "code",
   "execution_count": 5,
   "metadata": {},
   "outputs": [],
   "source": [
    "#@@@@@@@@@@@@@@@@@@@\n",
    "# Learning variables\n",
    "#@@@@@@@@@@@@@@@@@@@\n",
    "q_values = np.zeros((N_STATES,N_ACTIONS)) #initialize to zero\n",
    "#q_values = np.load(\"Q_values.npy\") # or re-use the one already trained"
   ]
  },
  {
   "cell_type": "markdown",
   "metadata": {},
   "source": [
    "## Online visualization\n",
    "\n",
    "The online visualization is based on two ideas: to find some metrics to monitor and to monitor them almost in real time.\n",
    "\n",
    "One of the obvious metrics that we measured in the previous tutorial was the return at the end of the episode.\n",
    "Another one directly connected to that, but with a more practical touch, is the halite collected from the agent during the episode.\n",
    "\n",
    "And finally we would like to know how many time the ship passes through the shipyard, since it is a good indicator of what is going on.\n",
    "\n",
    "Thus we now modify the play_episode function written in the previous tutorial in order to make it compute those quantities."
   ]
  },
  {
   "cell_type": "code",
   "execution_count": 6,
   "metadata": {},
   "outputs": [],
   "source": [
    "def play_episode(q_values, eps, NUM_PLAYERS, MAP_SIZE, TOT_TURNS, N_ACTIONS, H_LEV,\n",
    "                 STD_REWARD,LEARNING_RATE, DISCOUNT_FACTOR, verbose = False):\n",
    "    \"\"\"\n",
    "    Trains the agent by playing one episode of halite.\n",
    "    \n",
    "    Parameters\n",
    "    ----------\n",
    "    q_values         : numpy array \n",
    "        Contains the Q-values\n",
    "    eps              : float \n",
    "        Represents a probability, must be in [0,1], controls the probability of exploring instead of exploting\n",
    "    NUM_PLAYERS      : int\n",
    "    MAP_SIZE         : int\n",
    "    TOT_TURNS        : int\n",
    "    N_ACTIONS        : int\n",
    "    H_LEV            : int\n",
    "    STD_REWARD       : float\n",
    "        Baseline reward given to the agent when does not deposit halite to the shipyard\n",
    "    LEARNING_RATE    : float\n",
    "    DISCOUNT_FACTOR  : float\n",
    "        Must be greater than 0 but smaller than 1. Suggested 1-1/TOT_TURNS or 1\n",
    "    verbose          : bool\n",
    "        Prints halite of the player at each turn of the game\n",
    "        \n",
    "    Returns\n",
    "    -------\n",
    "    q_values         : numpy array \n",
    "        Updated Q-values\n",
    "    reward           : float\n",
    "        Reward obtained in this episode. \n",
    "    collected_halite : float\n",
    "        Halite collected by the agent.\n",
    "    passages         : int\n",
    "        Number of passages of the ship through the shipyard.\n",
    "    \"\"\"\n",
    "    env = Env.HaliteEnv(NUM_PLAYERS, MAP_SIZE, episode_lenght = TOT_TURNS) # init environment\n",
    "    steps = 0\n",
    "    reward = 0 # cumulative reward of the episode\n",
    "    passages = 0 # number of times the ship passes through the shipyard\n",
    "    \n",
    "    # first mandatory step\n",
    "    steps = steps + 1\n",
    "    if verbose:\n",
    "        print(\"\\nStep number %d:\"%steps)\n",
    "    action_matrix = np.full((MAP_SIZE,MAP_SIZE), -1) # no ship, no action\n",
    "    shipyard_action = True # initially always choose to create a ship\n",
    "    # returns the matricial state, the array of players halite and a flag that is true if it's the final turn\n",
    "    state, players_halite, finish, _ = env.step(action_matrix, makeship = shipyard_action) \n",
    "    #print(\"Cargo layer: \\n\", state[:,:,2])\n",
    "    current_halite = players_halite[0][0]\n",
    "    s_enc = cod.encode_state(state, map_size = MAP_SIZE, h_lev = H_LEV, n_actions = N_ACTIONS, debug=False)\n",
    "\n",
    "    while True:\n",
    "        steps = steps + 1\n",
    "        if verbose:\n",
    "            print(\"\\nStep number %d:\"%steps)\n",
    "            print(\"Current halite: \", current_halite)\n",
    "        a_enc = ship.e_greedy_policy(s_enc, q_values, eps = eps)\n",
    "        a_mat = cod.scalar_to_matrix_action(a_enc, state, map_size = MAP_SIZE) #convert the action in matricial form\n",
    "\n",
    "        # submit the action and get the new state\n",
    "        state, players_halite, finish, _ = env.step(a_mat, makeship = False) \n",
    "\n",
    "        new_halite = players_halite[0][0]\n",
    "\n",
    "        # compute the 1-ship reward as the halite increment of the player divided by the max halite \n",
    "        # plus a standard negative reward \n",
    "        r = (new_halite - current_halite)/1000 + STD_REWARD\n",
    "\n",
    "        sp_enc = cod.encode_state(state, map_size = MAP_SIZE, h_lev = H_LEV, n_actions = N_ACTIONS, debug=False)\n",
    "        reward += r # cumulative reward of the episode\n",
    "\n",
    "        # adds 1 to passages if the current position of the ship coincides with that of the shipyard\n",
    "        # whereas the previous position didn't\n",
    "        s_dec = cod.decode3D(s_enc, L1 = MAP_SIZE**2, L2 = H_LEV**6, L3 = N_ACTIONS-1)\n",
    "        sp_dec = cod.decode3D(sp_enc, L1 = MAP_SIZE**2, L2 = H_LEV**6, L3 = N_ACTIONS-1)\n",
    "        shipy_pos = (MAP_SIZE**2-1)/2 #shipyard is at the center of the map\n",
    "        if (sp_dec[0] == shipy_pos and s_dec[0] != shipy_pos):\n",
    "            passages = passages +1\n",
    "                \n",
    "        a_temp_enc = ship.greedy_policy(sp_enc, q_values) # simulate the best action in the new state (before update)\n",
    "\n",
    "        # update Q-values\n",
    "        q_values = ship.update_q_v1(s_enc, a_enc, r, sp_enc, a_temp_enc, q_values, alpha = LEARNING_RATE,\n",
    "                    gamma = DISCOUNT_FACTOR, map_size = MAP_SIZE, h_lev = H_LEV, n_actions = N_ACTIONS)\n",
    "\n",
    "        # update states and halite\n",
    "        s_enc = sp_enc\n",
    "        current_halite = new_halite\n",
    "\n",
    "        if (finish == True) or (steps >= 400):\n",
    "            if verbose:\n",
    "                print(\"\\nEnd episode.\")\n",
    "            break\n",
    "    collected_halite = current_halite - 4000\n",
    "    return q_values, reward, collected_halite, passages"
   ]
  },
  {
   "cell_type": "markdown",
   "metadata": {},
   "source": [
    "To skip a passage I already copied this function in the ship.py script in the Modules folder."
   ]
  },
  {
   "cell_type": "code",
   "execution_count": 7,
   "metadata": {},
   "outputs": [
    {
     "name": "stdout",
     "output_type": "stream",
     "text": [
      "\n",
      "Step number 1:\n",
      "\n",
      "Step number 2:\n",
      "Current halite:  4000.0\n",
      "\n",
      "Step number 3:\n",
      "Current halite:  4000.0\n",
      "\n",
      "Step number 4:\n",
      "Current halite:  4000.0\n",
      "\n",
      "Step number 5:\n",
      "Current halite:  4000.0\n",
      "\n",
      "Step number 6:\n",
      "Current halite:  4000.0\n",
      "\n",
      "Step number 7:\n",
      "Current halite:  4000.0\n",
      "\n",
      "Step number 8:\n",
      "Current halite:  4000.0\n",
      "\n",
      "Step number 9:\n",
      "Current halite:  4000.0\n",
      "\n",
      "Step number 10:\n",
      "Current halite:  4000.0\n",
      "\n",
      "Step number 11:\n",
      "Current halite:  4000.0\n",
      "\n",
      "Step number 12:\n",
      "Current halite:  4000.0\n",
      "\n",
      "Step number 13:\n",
      "Current halite:  4000.0\n",
      "\n",
      "Step number 14:\n",
      "Current halite:  4000.0\n",
      "\n",
      "Step number 15:\n",
      "Current halite:  4000.0\n",
      "\n",
      "Step number 16:\n",
      "Current halite:  4000.0\n",
      "\n",
      "Step number 17:\n",
      "Current halite:  4000.0\n",
      "\n",
      "Step number 18:\n",
      "Current halite:  4000.0\n",
      "\n",
      "Step number 19:\n",
      "Current halite:  4000.0\n",
      "\n",
      "Step number 20:\n",
      "Current halite:  4000.0\n",
      "\n",
      "Step number 21:\n",
      "Current halite:  4000.0\n",
      "\n",
      "Step number 22:\n",
      "Current halite:  4000.0\n",
      "\n",
      "Step number 23:\n",
      "Current halite:  4000.0\n",
      "\n",
      "Step number 24:\n",
      "Current halite:  4000.0\n",
      "\n",
      "Step number 25:\n",
      "Current halite:  4000.0\n",
      "\n",
      "Step number 26:\n",
      "Current halite:  4000.0\n",
      "\n",
      "Step number 27:\n",
      "Current halite:  4000.0\n",
      "\n",
      "Step number 28:\n",
      "Current halite:  4000.0\n",
      "\n",
      "Step number 29:\n",
      "Current halite:  4000.0\n",
      "\n",
      "Step number 30:\n",
      "Current halite:  4000.0\n",
      "\n",
      "Step number 31:\n",
      "Current halite:  4000.0\n",
      "\n",
      "Step number 32:\n",
      "Current halite:  4000.0\n",
      "\n",
      "Step number 33:\n",
      "Current halite:  4000.0\n",
      "\n",
      "Step number 34:\n",
      "Current halite:  4000.0\n",
      "\n",
      "Step number 35:\n",
      "Current halite:  4000.0\n",
      "\n",
      "Step number 36:\n",
      "Current halite:  4000.0\n",
      "\n",
      "Step number 37:\n",
      "Current halite:  4000.0\n",
      "\n",
      "Step number 38:\n",
      "Current halite:  4000.0\n",
      "\n",
      "Step number 39:\n",
      "Current halite:  4000.0\n",
      "\n",
      "Step number 40:\n",
      "Current halite:  4000.0\n",
      "\n",
      "Step number 41:\n",
      "Current halite:  4000.0\n",
      "\n",
      "Step number 42:\n",
      "Current halite:  4000.0\n",
      "\n",
      "Step number 43:\n",
      "Current halite:  4000.0\n",
      "\n",
      "Step number 44:\n",
      "Current halite:  4000.0\n",
      "\n",
      "Step number 45:\n",
      "Current halite:  4000.0\n",
      "\n",
      "Step number 46:\n",
      "Current halite:  4000.0\n",
      "\n",
      "Step number 47:\n",
      "Current halite:  4000.0\n",
      "\n",
      "Step number 48:\n",
      "Current halite:  4000.0\n",
      "\n",
      "Step number 49:\n",
      "Current halite:  4000.0\n",
      "\n",
      "Step number 50:\n",
      "Current halite:  4000.0\n",
      "\n",
      "Step number 51:\n",
      "Current halite:  4000.0\n",
      "\n",
      "Step number 52:\n",
      "Current halite:  4000.0\n",
      "\n",
      "Step number 53:\n",
      "Current halite:  4000.0\n",
      "\n",
      "Step number 54:\n",
      "Current halite:  4000.0\n",
      "\n",
      "Step number 55:\n",
      "Current halite:  4000.0\n",
      "\n",
      "Step number 56:\n",
      "Current halite:  4000.0\n",
      "\n",
      "Step number 57:\n",
      "Current halite:  4000.0\n",
      "\n",
      "Step number 58:\n",
      "Current halite:  4000.0\n",
      "\n",
      "Step number 59:\n",
      "Current halite:  4000.0\n",
      "\n",
      "Step number 60:\n",
      "Current halite:  4000.0\n",
      "\n",
      "Step number 61:\n",
      "Current halite:  4000.0\n",
      "\n",
      "Step number 62:\n",
      "Current halite:  4000.0\n",
      "\n",
      "Step number 63:\n",
      "Current halite:  4000.0\n",
      "\n",
      "Step number 64:\n",
      "Current halite:  5000.0\n",
      "\n",
      "Step number 65:\n",
      "Current halite:  5000.0\n",
      "\n",
      "Step number 66:\n",
      "Current halite:  5000.0\n",
      "\n",
      "Step number 67:\n",
      "Current halite:  5000.0\n",
      "\n",
      "Step number 68:\n",
      "Current halite:  5000.0\n",
      "\n",
      "Step number 69:\n",
      "Current halite:  5000.0\n",
      "\n",
      "Step number 70:\n",
      "Current halite:  5000.0\n",
      "\n",
      "Step number 71:\n",
      "Current halite:  5000.0\n",
      "\n",
      "Step number 72:\n",
      "Current halite:  5000.0\n",
      "\n",
      "Step number 73:\n",
      "Current halite:  5000.0\n",
      "\n",
      "Step number 74:\n",
      "Current halite:  5000.0\n",
      "\n",
      "Step number 75:\n",
      "Current halite:  5000.0\n",
      "\n",
      "Step number 76:\n",
      "Current halite:  5000.0\n",
      "\n",
      "Step number 77:\n",
      "Current halite:  5000.0\n",
      "\n",
      "Step number 78:\n",
      "Current halite:  5000.0\n",
      "\n",
      "Step number 79:\n",
      "Current halite:  5000.0\n",
      "\n",
      "Step number 80:\n",
      "Current halite:  5000.0\n",
      "\n",
      "Step number 81:\n",
      "Current halite:  5000.0\n",
      "\n",
      "Step number 82:\n",
      "Current halite:  5000.0\n",
      "\n",
      "Step number 83:\n",
      "Current halite:  5000.0\n",
      "\n",
      "Step number 84:\n",
      "Current halite:  5000.0\n",
      "\n",
      "Step number 85:\n",
      "Current halite:  5000.0\n",
      "\n",
      "Step number 86:\n",
      "Current halite:  5000.0\n",
      "\n",
      "Step number 87:\n",
      "Current halite:  5000.0\n",
      "\n",
      "Step number 88:\n",
      "Current halite:  5000.0\n",
      "\n",
      "Step number 89:\n",
      "Current halite:  5000.0\n",
      "\n",
      "Step number 90:\n",
      "Current halite:  6000.0\n",
      "\n",
      "Step number 91:\n",
      "Current halite:  6000.0\n",
      "\n",
      "Step number 92:\n",
      "Current halite:  6000.0\n",
      "\n",
      "Step number 93:\n",
      "Current halite:  6000.0\n",
      "\n",
      "Step number 94:\n",
      "Current halite:  6000.0\n",
      "\n",
      "Step number 95:\n",
      "Current halite:  6000.0\n",
      "\n",
      "Step number 96:\n",
      "Current halite:  6000.0\n",
      "\n",
      "Step number 97:\n",
      "Current halite:  6000.0\n",
      "\n",
      "Step number 98:\n",
      "Current halite:  6000.0\n",
      "\n",
      "Step number 99:\n",
      "Current halite:  6000.0\n",
      "\n",
      "Step number 100:\n",
      "Current halite:  6000.0\n",
      "\n",
      "Step number 101:\n",
      "Current halite:  6000.0\n",
      "\n",
      "Step number 102:\n",
      "Current halite:  6000.0\n",
      "\n",
      "Step number 103:\n",
      "Current halite:  6000.0\n",
      "\n",
      "Step number 104:\n",
      "Current halite:  6000.0\n",
      "\n",
      "Step number 105:\n",
      "Current halite:  6000.0\n",
      "\n",
      "Step number 106:\n",
      "Current halite:  6000.0\n",
      "\n",
      "Step number 107:\n",
      "Current halite:  6000.0\n",
      "\n",
      "Step number 108:\n",
      "Current halite:  6000.0\n",
      "\n",
      "Step number 109:\n",
      "Current halite:  6000.0\n",
      "\n",
      "Step number 110:\n",
      "Current halite:  6000.0\n",
      "\n",
      "Step number 111:\n",
      "Current halite:  6000.0\n",
      "\n",
      "Step number 112:\n",
      "Current halite:  6000.0\n",
      "\n",
      "Step number 113:\n",
      "Current halite:  6000.0\n",
      "\n",
      "Step number 114:\n",
      "Current halite:  6000.0\n",
      "\n",
      "Step number 115:\n",
      "Current halite:  6000.0\n",
      "\n",
      "Step number 116:\n",
      "Current halite:  6000.0\n",
      "\n",
      "Step number 117:\n",
      "Current halite:  6000.0\n",
      "\n",
      "Step number 118:\n",
      "Current halite:  6000.0\n",
      "\n",
      "Step number 119:\n",
      "Current halite:  6000.0\n",
      "\n",
      "Step number 120:\n",
      "Current halite:  6000.0\n",
      "\n",
      "Step number 121:\n",
      "Current halite:  6000.0\n",
      "\n",
      "Step number 122:\n",
      "Current halite:  6000.0\n",
      "\n",
      "Step number 123:\n",
      "Current halite:  6000.0\n",
      "\n",
      "Step number 124:\n",
      "Current halite:  6000.0\n",
      "\n",
      "Step number 125:\n",
      "Current halite:  6000.0\n",
      "\n",
      "Step number 126:\n",
      "Current halite:  6000.0\n",
      "\n",
      "Step number 127:\n",
      "Current halite:  6000.0\n",
      "\n",
      "Step number 128:\n",
      "Current halite:  6000.0\n",
      "\n",
      "Step number 129:\n",
      "Current halite:  6000.0\n",
      "\n",
      "Step number 130:\n",
      "Current halite:  6000.0\n",
      "\n",
      "Step number 131:\n",
      "Current halite:  6000.0\n",
      "\n",
      "Step number 132:\n",
      "Current halite:  6000.0\n",
      "\n",
      "Step number 133:\n",
      "Current halite:  6000.0\n",
      "\n",
      "Step number 134:\n",
      "Current halite:  6000.0\n",
      "\n",
      "Step number 135:\n",
      "Current halite:  6000.0\n",
      "\n",
      "Step number 136:\n",
      "Current halite:  6000.0\n",
      "\n",
      "Step number 137:\n",
      "Current halite:  6000.0\n",
      "\n",
      "Step number 138:\n",
      "Current halite:  6000.0\n",
      "\n",
      "Step number 139:\n",
      "Current halite:  6000.0\n",
      "\n",
      "Step number 140:\n",
      "Current halite:  6000.0\n",
      "\n",
      "Step number 141:\n",
      "Current halite:  6000.0\n",
      "\n",
      "Step number 142:\n",
      "Current halite:  6000.0\n",
      "\n",
      "Step number 143:\n",
      "Current halite:  6000.0\n",
      "\n",
      "Step number 144:\n",
      "Current halite:  6000.0\n",
      "\n",
      "Step number 145:\n",
      "Current halite:  6000.0\n",
      "\n",
      "Step number 146:\n",
      "Current halite:  6000.0\n",
      "\n",
      "Step number 147:\n",
      "Current halite:  6000.0\n",
      "\n",
      "Step number 148:\n",
      "Current halite:  6000.0\n",
      "\n",
      "Step number 149:\n",
      "Current halite:  6000.0\n",
      "\n",
      "Step number 150:\n",
      "Current halite:  6000.0\n",
      "\n",
      "Step number 151:\n",
      "Current halite:  6000.0\n",
      "\n",
      "Step number 152:\n",
      "Current halite:  6000.0\n",
      "\n",
      "Step number 153:\n",
      "Current halite:  6000.0\n",
      "\n",
      "Step number 154:\n",
      "Current halite:  6000.0\n",
      "\n",
      "Step number 155:\n",
      "Current halite:  6000.0\n",
      "\n",
      "Step number 156:\n",
      "Current halite:  6000.0\n",
      "\n",
      "Step number 157:\n",
      "Current halite:  6000.0\n",
      "\n",
      "Step number 158:\n",
      "Current halite:  6000.0\n",
      "\n",
      "Step number 159:\n",
      "Current halite:  6000.0\n",
      "\n",
      "Step number 160:\n",
      "Current halite:  6000.0\n",
      "\n",
      "Step number 161:\n",
      "Current halite:  6000.0\n",
      "\n",
      "Step number 162:\n",
      "Current halite:  6000.0\n",
      "\n",
      "Step number 163:\n",
      "Current halite:  6000.0\n",
      "\n",
      "Step number 164:\n",
      "Current halite:  6000.0\n",
      "\n",
      "Step number 165:\n",
      "Current halite:  6000.0\n",
      "\n",
      "Step number 166:\n",
      "Current halite:  6000.0\n",
      "\n",
      "Step number 167:\n",
      "Current halite:  6000.0\n",
      "\n",
      "Step number 168:\n",
      "Current halite:  6000.0\n",
      "\n",
      "Step number 169:\n",
      "Current halite:  7000.0\n",
      "\n",
      "Step number 170:\n",
      "Current halite:  7000.0\n",
      "\n",
      "Step number 171:\n",
      "Current halite:  7000.0\n",
      "\n",
      "Step number 172:\n",
      "Current halite:  7000.0\n",
      "\n",
      "Step number 173:\n",
      "Current halite:  7000.0\n",
      "\n",
      "Step number 174:\n",
      "Current halite:  7000.0\n",
      "\n",
      "Step number 175:\n",
      "Current halite:  7000.0\n",
      "\n",
      "Step number 176:\n",
      "Current halite:  7000.0\n",
      "\n",
      "Step number 177:\n",
      "Current halite:  7000.0\n",
      "\n",
      "Step number 178:\n",
      "Current halite:  7000.0\n",
      "\n",
      "Step number 179:\n",
      "Current halite:  7000.0\n",
      "\n",
      "Step number 180:\n",
      "Current halite:  7000.0\n",
      "\n",
      "Step number 181:\n",
      "Current halite:  7000.0\n",
      "\n",
      "Step number 182:\n",
      "Current halite:  7000.0\n",
      "\n",
      "Step number 183:\n",
      "Current halite:  7000.0\n",
      "\n",
      "Step number 184:\n",
      "Current halite:  7000.0\n",
      "\n",
      "Step number 185:\n",
      "Current halite:  7000.0\n",
      "\n",
      "Step number 186:\n",
      "Current halite:  7000.0\n",
      "\n",
      "Step number 187:\n",
      "Current halite:  7703.0\n",
      "\n",
      "Step number 188:\n",
      "Current halite:  7703.0\n",
      "\n",
      "Step number 189:\n",
      "Current halite:  7703.0\n",
      "\n",
      "Step number 190:\n",
      "Current halite:  7703.0\n",
      "\n",
      "Step number 191:\n",
      "Current halite:  7703.0\n",
      "\n",
      "Step number 192:\n",
      "Current halite:  7746.0\n",
      "\n",
      "Step number 193:\n",
      "Current halite:  7746.0\n",
      "\n",
      "Step number 194:\n",
      "Current halite:  7746.0\n",
      "\n",
      "Step number 195:\n",
      "Current halite:  7746.0\n",
      "\n",
      "Step number 196:\n",
      "Current halite:  7746.0\n",
      "\n",
      "Step number 197:\n",
      "Current halite:  7746.0\n",
      "\n",
      "Step number 198:\n",
      "Current halite:  7746.0\n",
      "\n",
      "Step number 199:\n",
      "Current halite:  7746.0\n",
      "\n",
      "Step number 200:\n",
      "Current halite:  7746.0\n",
      "\n",
      "Step number 201:\n",
      "Current halite:  7746.0\n",
      "\n",
      "Step number 202:\n",
      "Current halite:  7746.0\n",
      "\n",
      "Step number 203:\n",
      "Current halite:  7746.0\n",
      "\n",
      "Step number 204:\n",
      "Current halite:  7746.0\n",
      "\n",
      "Step number 205:\n",
      "Current halite:  7746.0\n",
      "\n",
      "Step number 206:\n",
      "Current halite:  7746.0\n",
      "\n",
      "Step number 207:\n",
      "Current halite:  7746.0\n",
      "\n",
      "Step number 208:\n",
      "Current halite:  7746.0\n"
     ]
    },
    {
     "name": "stdout",
     "output_type": "stream",
     "text": [
      "\n",
      "Step number 209:\n",
      "Current halite:  7746.0\n",
      "\n",
      "Step number 210:\n",
      "Current halite:  7746.0\n",
      "\n",
      "Step number 211:\n",
      "Current halite:  7746.0\n",
      "\n",
      "Step number 212:\n",
      "Current halite:  7746.0\n",
      "\n",
      "Step number 213:\n",
      "Current halite:  7746.0\n",
      "\n",
      "Step number 214:\n",
      "Current halite:  7746.0\n",
      "\n",
      "Step number 215:\n",
      "Current halite:  7746.0\n",
      "\n",
      "Step number 216:\n",
      "Current halite:  7746.0\n",
      "\n",
      "Step number 217:\n",
      "Current halite:  7746.0\n",
      "\n",
      "Step number 218:\n",
      "Current halite:  7746.0\n",
      "\n",
      "Step number 219:\n",
      "Current halite:  8746.0\n",
      "\n",
      "Step number 220:\n",
      "Current halite:  8746.0\n",
      "\n",
      "Step number 221:\n",
      "Current halite:  8746.0\n",
      "\n",
      "Step number 222:\n",
      "Current halite:  8746.0\n",
      "\n",
      "Step number 223:\n",
      "Current halite:  8746.0\n",
      "\n",
      "Step number 224:\n",
      "Current halite:  8746.0\n",
      "\n",
      "Step number 225:\n",
      "Current halite:  8746.0\n",
      "\n",
      "Step number 226:\n",
      "Current halite:  8746.0\n",
      "\n",
      "Step number 227:\n",
      "Current halite:  9217.0\n",
      "\n",
      "Step number 228:\n",
      "Current halite:  9217.0\n",
      "\n",
      "Step number 229:\n",
      "Current halite:  9217.0\n",
      "\n",
      "Step number 230:\n",
      "Current halite:  9217.0\n",
      "\n",
      "Step number 231:\n",
      "Current halite:  9217.0\n",
      "\n",
      "Step number 232:\n",
      "Current halite:  9217.0\n",
      "\n",
      "Step number 233:\n",
      "Current halite:  9217.0\n",
      "\n",
      "Step number 234:\n",
      "Current halite:  9217.0\n",
      "\n",
      "Step number 235:\n",
      "Current halite:  9217.0\n",
      "\n",
      "Step number 236:\n",
      "Current halite:  9217.0\n",
      "\n",
      "Step number 237:\n",
      "Current halite:  9217.0\n",
      "\n",
      "Step number 238:\n",
      "Current halite:  9217.0\n",
      "\n",
      "Step number 239:\n",
      "Current halite:  9217.0\n",
      "\n",
      "Step number 240:\n",
      "Current halite:  9582.0\n",
      "\n",
      "Step number 241:\n",
      "Current halite:  9582.0\n",
      "\n",
      "Step number 242:\n",
      "Current halite:  9582.0\n",
      "\n",
      "Step number 243:\n",
      "Current halite:  9582.0\n",
      "\n",
      "Step number 244:\n",
      "Current halite:  9582.0\n",
      "\n",
      "Step number 245:\n",
      "Current halite:  9664.0\n",
      "\n",
      "Step number 246:\n",
      "Current halite:  9664.0\n",
      "\n",
      "Step number 247:\n",
      "Current halite:  9664.0\n",
      "\n",
      "Step number 248:\n",
      "Current halite:  9664.0\n",
      "\n",
      "Step number 249:\n",
      "Current halite:  9664.0\n",
      "\n",
      "Step number 250:\n",
      "Current halite:  9664.0\n",
      "\n",
      "Step number 251:\n",
      "Current halite:  9664.0\n",
      "\n",
      "Step number 252:\n",
      "Current halite:  9664.0\n",
      "\n",
      "Step number 253:\n",
      "Current halite:  9664.0\n",
      "\n",
      "Step number 254:\n",
      "Current halite:  9664.0\n",
      "\n",
      "Step number 255:\n",
      "Current halite:  9664.0\n",
      "\n",
      "Step number 256:\n",
      "Current halite:  9664.0\n",
      "\n",
      "Step number 257:\n",
      "Current halite:  9664.0\n",
      "\n",
      "Step number 258:\n",
      "Current halite:  9664.0\n",
      "\n",
      "Step number 259:\n",
      "Current halite:  9664.0\n",
      "\n",
      "Step number 260:\n",
      "Current halite:  9664.0\n",
      "\n",
      "Step number 261:\n",
      "Current halite:  9664.0\n",
      "\n",
      "Step number 262:\n",
      "Current halite:  9664.0\n",
      "\n",
      "Step number 263:\n",
      "Current halite:  9664.0\n",
      "\n",
      "Step number 264:\n",
      "Current halite:  9664.0\n",
      "\n",
      "Step number 265:\n",
      "Current halite:  9664.0\n",
      "\n",
      "Step number 266:\n",
      "Current halite:  9664.0\n",
      "\n",
      "Step number 267:\n",
      "Current halite:  9664.0\n",
      "\n",
      "Step number 268:\n",
      "Current halite:  9664.0\n",
      "\n",
      "Step number 269:\n",
      "Current halite:  9664.0\n",
      "\n",
      "Step number 270:\n",
      "Current halite:  9664.0\n",
      "\n",
      "Step number 271:\n",
      "Current halite:  9664.0\n",
      "\n",
      "Step number 272:\n",
      "Current halite:  9664.0\n",
      "\n",
      "Step number 273:\n",
      "Current halite:  9664.0\n",
      "\n",
      "Step number 274:\n",
      "Current halite:  9664.0\n",
      "\n",
      "Step number 275:\n",
      "Current halite:  9664.0\n",
      "\n",
      "Step number 276:\n",
      "Current halite:  9664.0\n",
      "\n",
      "Step number 277:\n",
      "Current halite:  9664.0\n",
      "\n",
      "Step number 278:\n",
      "Current halite:  9664.0\n",
      "\n",
      "Step number 279:\n",
      "Current halite:  9664.0\n",
      "\n",
      "Step number 280:\n",
      "Current halite:  9664.0\n",
      "\n",
      "Step number 281:\n",
      "Current halite:  9664.0\n",
      "\n",
      "Step number 282:\n",
      "Current halite:  9664.0\n",
      "\n",
      "Step number 283:\n",
      "Current halite:  9664.0\n",
      "\n",
      "Step number 284:\n",
      "Current halite:  9664.0\n",
      "\n",
      "Step number 285:\n",
      "Current halite:  9664.0\n",
      "\n",
      "Step number 286:\n",
      "Current halite:  9664.0\n",
      "\n",
      "Step number 287:\n",
      "Current halite:  9664.0\n",
      "\n",
      "Step number 288:\n",
      "Current halite:  9664.0\n",
      "\n",
      "Step number 289:\n",
      "Current halite:  9664.0\n",
      "\n",
      "Step number 290:\n",
      "Current halite:  9664.0\n",
      "\n",
      "Step number 291:\n",
      "Current halite:  9664.0\n",
      "\n",
      "Step number 292:\n",
      "Current halite:  9664.0\n",
      "\n",
      "Step number 293:\n",
      "Current halite:  9664.0\n",
      "\n",
      "Step number 294:\n",
      "Current halite:  9664.0\n",
      "\n",
      "Step number 295:\n",
      "Current halite:  9664.0\n",
      "\n",
      "Step number 296:\n",
      "Current halite:  9664.0\n",
      "\n",
      "Step number 297:\n",
      "Current halite:  9664.0\n",
      "\n",
      "Step number 298:\n",
      "Current halite:  9664.0\n",
      "\n",
      "Step number 299:\n",
      "Current halite:  9664.0\n",
      "\n",
      "Step number 300:\n",
      "Current halite:  9664.0\n",
      "\n",
      "Step number 301:\n",
      "Current halite:  9664.0\n",
      "\n",
      "Step number 302:\n",
      "Current halite:  9664.0\n",
      "\n",
      "Step number 303:\n",
      "Current halite:  9664.0\n",
      "\n",
      "Step number 304:\n",
      "Current halite:  9664.0\n",
      "\n",
      "Step number 305:\n",
      "Current halite:  9664.0\n",
      "\n",
      "Step number 306:\n",
      "Current halite:  9664.0\n",
      "\n",
      "Step number 307:\n",
      "Current halite:  9664.0\n",
      "\n",
      "Step number 308:\n",
      "Current halite:  9664.0\n",
      "\n",
      "Step number 309:\n",
      "Current halite:  9664.0\n",
      "\n",
      "Step number 310:\n",
      "Current halite:  9664.0\n",
      "\n",
      "Step number 311:\n",
      "Current halite:  9664.0\n",
      "\n",
      "Step number 312:\n",
      "Current halite:  9664.0\n",
      "\n",
      "Step number 313:\n",
      "Current halite:  9664.0\n",
      "\n",
      "Step number 314:\n",
      "Current halite:  9664.0\n",
      "\n",
      "Step number 315:\n",
      "Current halite:  9664.0\n",
      "\n",
      "Step number 316:\n",
      "Current halite:  9664.0\n",
      "\n",
      "Step number 317:\n",
      "Current halite:  9664.0\n",
      "\n",
      "Step number 318:\n",
      "Current halite:  9664.0\n",
      "\n",
      "Step number 319:\n",
      "Current halite:  9664.0\n",
      "\n",
      "Step number 320:\n",
      "Current halite:  9664.0\n",
      "\n",
      "Step number 321:\n",
      "Current halite:  9664.0\n",
      "\n",
      "Step number 322:\n",
      "Current halite:  9664.0\n",
      "\n",
      "Step number 323:\n",
      "Current halite:  9664.0\n",
      "\n",
      "Step number 324:\n",
      "Current halite:  9664.0\n",
      "\n",
      "Step number 325:\n",
      "Current halite:  9664.0\n",
      "\n",
      "Step number 326:\n",
      "Current halite:  9664.0\n",
      "\n",
      "Step number 327:\n",
      "Current halite:  9664.0\n",
      "\n",
      "Step number 328:\n",
      "Current halite:  9664.0\n",
      "\n",
      "Step number 329:\n",
      "Current halite:  9664.0\n",
      "\n",
      "Step number 330:\n",
      "Current halite:  9664.0\n",
      "\n",
      "Step number 331:\n",
      "Current halite:  9664.0\n",
      "\n",
      "Step number 332:\n",
      "Current halite:  9664.0\n",
      "\n",
      "Step number 333:\n",
      "Current halite:  9664.0\n",
      "\n",
      "Step number 334:\n",
      "Current halite:  9664.0\n",
      "\n",
      "Step number 335:\n",
      "Current halite:  9664.0\n",
      "\n",
      "Step number 336:\n",
      "Current halite:  9664.0\n",
      "\n",
      "Step number 337:\n",
      "Current halite:  9664.0\n",
      "\n",
      "Step number 338:\n",
      "Current halite:  9664.0\n",
      "\n",
      "Step number 339:\n",
      "Current halite:  9664.0\n",
      "\n",
      "Step number 340:\n",
      "Current halite:  9664.0\n",
      "\n",
      "Step number 341:\n",
      "Current halite:  9664.0\n",
      "\n",
      "Step number 342:\n",
      "Current halite:  9664.0\n",
      "\n",
      "Step number 343:\n",
      "Current halite:  9664.0\n",
      "\n",
      "Step number 344:\n",
      "Current halite:  9664.0\n",
      "\n",
      "Step number 345:\n",
      "Current halite:  9664.0\n",
      "\n",
      "Step number 346:\n",
      "Current halite:  9664.0\n",
      "\n",
      "Step number 347:\n",
      "Current halite:  9664.0\n",
      "\n",
      "Step number 348:\n",
      "Current halite:  9664.0\n",
      "\n",
      "Step number 349:\n",
      "Current halite:  9664.0\n",
      "\n",
      "Step number 350:\n",
      "Current halite:  9664.0\n",
      "\n",
      "Step number 351:\n",
      "Current halite:  9664.0\n",
      "\n",
      "Step number 352:\n",
      "Current halite:  9664.0\n",
      "\n",
      "Step number 353:\n",
      "Current halite:  9664.0\n",
      "\n",
      "Step number 354:\n",
      "Current halite:  9664.0\n",
      "\n",
      "Step number 355:\n",
      "Current halite:  9664.0\n",
      "\n",
      "Step number 356:\n",
      "Current halite:  9664.0\n",
      "\n",
      "Step number 357:\n",
      "Current halite:  9664.0\n",
      "\n",
      "Step number 358:\n",
      "Current halite:  9664.0\n",
      "\n",
      "Step number 359:\n",
      "Current halite:  9664.0\n",
      "\n",
      "Step number 360:\n",
      "Current halite:  9664.0\n",
      "\n",
      "Step number 361:\n",
      "Current halite:  9664.0\n",
      "\n",
      "Step number 362:\n",
      "Current halite:  9664.0\n",
      "\n",
      "Step number 363:\n",
      "Current halite:  9664.0\n",
      "\n",
      "Step number 364:\n",
      "Current halite:  9664.0\n",
      "\n",
      "Step number 365:\n",
      "Current halite:  9664.0\n",
      "\n",
      "Step number 366:\n",
      "Current halite:  9664.0\n",
      "\n",
      "Step number 367:\n",
      "Current halite:  9664.0\n",
      "\n",
      "Step number 368:\n",
      "Current halite:  9664.0\n",
      "\n",
      "Step number 369:\n",
      "Current halite:  9664.0\n",
      "\n",
      "Step number 370:\n",
      "Current halite:  10664.0\n",
      "\n",
      "Step number 371:\n",
      "Current halite:  10664.0\n",
      "\n",
      "Step number 372:\n",
      "Current halite:  10664.0\n",
      "\n",
      "Step number 373:\n",
      "Current halite:  10664.0\n",
      "\n",
      "Step number 374:\n",
      "Current halite:  10688.0\n",
      "\n",
      "Step number 375:\n",
      "Current halite:  10688.0\n",
      "\n",
      "Step number 376:\n",
      "Current halite:  10688.0\n",
      "\n",
      "Step number 377:\n",
      "Current halite:  10688.0\n",
      "\n",
      "Step number 378:\n",
      "Current halite:  10688.0\n",
      "\n",
      "Step number 379:\n",
      "Current halite:  10688.0\n",
      "\n",
      "Step number 380:\n",
      "Current halite:  10688.0\n",
      "\n",
      "Step number 381:\n",
      "Current halite:  10688.0\n",
      "\n",
      "Step number 382:\n",
      "Current halite:  10688.0\n",
      "\n",
      "Step number 383:\n",
      "Current halite:  10688.0\n",
      "\n",
      "Step number 384:\n",
      "Current halite:  10688.0\n",
      "\n",
      "Step number 385:\n",
      "Current halite:  10688.0\n",
      "\n",
      "Step number 386:\n",
      "Current halite:  10688.0\n",
      "\n",
      "Step number 387:\n",
      "Current halite:  10688.0\n",
      "\n",
      "Step number 388:\n",
      "Current halite:  10688.0\n",
      "\n",
      "Step number 389:\n",
      "Current halite:  10688.0\n",
      "\n",
      "Step number 390:\n",
      "Current halite:  10688.0\n",
      "\n",
      "Step number 391:\n",
      "Current halite:  10688.0\n",
      "\n",
      "Step number 392:\n",
      "Current halite:  10826.0\n",
      "\n",
      "Step number 393:\n",
      "Current halite:  10826.0\n",
      "\n",
      "Step number 394:\n",
      "Current halite:  10826.0\n",
      "\n",
      "Step number 395:\n",
      "Current halite:  10826.0\n",
      "\n",
      "Step number 396:\n",
      "Current halite:  10826.0\n",
      "\n",
      "Step number 397:\n",
      "Current halite:  10826.0\n",
      "\n",
      "Step number 398:\n",
      "Current halite:  10826.0\n",
      "\n",
      "Step number 399:\n",
      "Current halite:  10826.0\n",
      "\n",
      "Step number 400:\n",
      "Current halite:  10826.0\n",
      "\n",
      "End episode.\n"
     ]
    }
   ],
   "source": [
    "q_values, reward, collected_halite, passages = ship.play_episode(q_values, verbose = True, **env_dict, **state_dict, **learning_dict)"
   ]
  },
  {
   "cell_type": "code",
   "execution_count": 8,
   "metadata": {},
   "outputs": [
    {
     "name": "stdout",
     "output_type": "stream",
     "text": [
      "Reward: 2.8360 \n",
      "Collected halite : 6826 \n",
      "Passages through shipyard: 12\n"
     ]
    }
   ],
   "source": [
    "print(\"Reward: %.4f \\nCollected halite : %.0f \\nPassages through shipyard: %d\"%(reward, collected_halite, passages))"
   ]
  },
  {
   "cell_type": "markdown",
   "metadata": {},
   "source": [
    "Now we want to plot this quantities in real time during the training."
   ]
  },
  {
   "cell_type": "code",
   "execution_count": 9,
   "metadata": {},
   "outputs": [
    {
     "data": {
      "application/javascript": [
       "/* Put everything inside the global mpl namespace */\n",
       "window.mpl = {};\n",
       "\n",
       "\n",
       "mpl.get_websocket_type = function() {\n",
       "    if (typeof(WebSocket) !== 'undefined') {\n",
       "        return WebSocket;\n",
       "    } else if (typeof(MozWebSocket) !== 'undefined') {\n",
       "        return MozWebSocket;\n",
       "    } else {\n",
       "        alert('Your browser does not have WebSocket support. ' +\n",
       "              'Please try Chrome, Safari or Firefox ≥ 6. ' +\n",
       "              'Firefox 4 and 5 are also supported but you ' +\n",
       "              'have to enable WebSockets in about:config.');\n",
       "    };\n",
       "}\n",
       "\n",
       "mpl.figure = function(figure_id, websocket, ondownload, parent_element) {\n",
       "    this.id = figure_id;\n",
       "\n",
       "    this.ws = websocket;\n",
       "\n",
       "    this.supports_binary = (this.ws.binaryType != undefined);\n",
       "\n",
       "    if (!this.supports_binary) {\n",
       "        var warnings = document.getElementById(\"mpl-warnings\");\n",
       "        if (warnings) {\n",
       "            warnings.style.display = 'block';\n",
       "            warnings.textContent = (\n",
       "                \"This browser does not support binary websocket messages. \" +\n",
       "                    \"Performance may be slow.\");\n",
       "        }\n",
       "    }\n",
       "\n",
       "    this.imageObj = new Image();\n",
       "\n",
       "    this.context = undefined;\n",
       "    this.message = undefined;\n",
       "    this.canvas = undefined;\n",
       "    this.rubberband_canvas = undefined;\n",
       "    this.rubberband_context = undefined;\n",
       "    this.format_dropdown = undefined;\n",
       "\n",
       "    this.image_mode = 'full';\n",
       "\n",
       "    this.root = $('<div/>');\n",
       "    this._root_extra_style(this.root)\n",
       "    this.root.attr('style', 'display: inline-block');\n",
       "\n",
       "    $(parent_element).append(this.root);\n",
       "\n",
       "    this._init_header(this);\n",
       "    this._init_canvas(this);\n",
       "    this._init_toolbar(this);\n",
       "\n",
       "    var fig = this;\n",
       "\n",
       "    this.waiting = false;\n",
       "\n",
       "    this.ws.onopen =  function () {\n",
       "            fig.send_message(\"supports_binary\", {value: fig.supports_binary});\n",
       "            fig.send_message(\"send_image_mode\", {});\n",
       "            if (mpl.ratio != 1) {\n",
       "                fig.send_message(\"set_dpi_ratio\", {'dpi_ratio': mpl.ratio});\n",
       "            }\n",
       "            fig.send_message(\"refresh\", {});\n",
       "        }\n",
       "\n",
       "    this.imageObj.onload = function() {\n",
       "            if (fig.image_mode == 'full') {\n",
       "                // Full images could contain transparency (where diff images\n",
       "                // almost always do), so we need to clear the canvas so that\n",
       "                // there is no ghosting.\n",
       "                fig.context.clearRect(0, 0, fig.canvas.width, fig.canvas.height);\n",
       "            }\n",
       "            fig.context.drawImage(fig.imageObj, 0, 0);\n",
       "        };\n",
       "\n",
       "    this.imageObj.onunload = function() {\n",
       "        fig.ws.close();\n",
       "    }\n",
       "\n",
       "    this.ws.onmessage = this._make_on_message_function(this);\n",
       "\n",
       "    this.ondownload = ondownload;\n",
       "}\n",
       "\n",
       "mpl.figure.prototype._init_header = function() {\n",
       "    var titlebar = $(\n",
       "        '<div class=\"ui-dialog-titlebar ui-widget-header ui-corner-all ' +\n",
       "        'ui-helper-clearfix\"/>');\n",
       "    var titletext = $(\n",
       "        '<div class=\"ui-dialog-title\" style=\"width: 100%; ' +\n",
       "        'text-align: center; padding: 3px;\"/>');\n",
       "    titlebar.append(titletext)\n",
       "    this.root.append(titlebar);\n",
       "    this.header = titletext[0];\n",
       "}\n",
       "\n",
       "\n",
       "\n",
       "mpl.figure.prototype._canvas_extra_style = function(canvas_div) {\n",
       "\n",
       "}\n",
       "\n",
       "\n",
       "mpl.figure.prototype._root_extra_style = function(canvas_div) {\n",
       "\n",
       "}\n",
       "\n",
       "mpl.figure.prototype._init_canvas = function() {\n",
       "    var fig = this;\n",
       "\n",
       "    var canvas_div = $('<div/>');\n",
       "\n",
       "    canvas_div.attr('style', 'position: relative; clear: both; outline: 0');\n",
       "\n",
       "    function canvas_keyboard_event(event) {\n",
       "        return fig.key_event(event, event['data']);\n",
       "    }\n",
       "\n",
       "    canvas_div.keydown('key_press', canvas_keyboard_event);\n",
       "    canvas_div.keyup('key_release', canvas_keyboard_event);\n",
       "    this.canvas_div = canvas_div\n",
       "    this._canvas_extra_style(canvas_div)\n",
       "    this.root.append(canvas_div);\n",
       "\n",
       "    var canvas = $('<canvas/>');\n",
       "    canvas.addClass('mpl-canvas');\n",
       "    canvas.attr('style', \"left: 0; top: 0; z-index: 0; outline: 0\")\n",
       "\n",
       "    this.canvas = canvas[0];\n",
       "    this.context = canvas[0].getContext(\"2d\");\n",
       "\n",
       "    var backingStore = this.context.backingStorePixelRatio ||\n",
       "\tthis.context.webkitBackingStorePixelRatio ||\n",
       "\tthis.context.mozBackingStorePixelRatio ||\n",
       "\tthis.context.msBackingStorePixelRatio ||\n",
       "\tthis.context.oBackingStorePixelRatio ||\n",
       "\tthis.context.backingStorePixelRatio || 1;\n",
       "\n",
       "    mpl.ratio = (window.devicePixelRatio || 1) / backingStore;\n",
       "\n",
       "    var rubberband = $('<canvas/>');\n",
       "    rubberband.attr('style', \"position: absolute; left: 0; top: 0; z-index: 1;\")\n",
       "\n",
       "    var pass_mouse_events = true;\n",
       "\n",
       "    canvas_div.resizable({\n",
       "        start: function(event, ui) {\n",
       "            pass_mouse_events = false;\n",
       "        },\n",
       "        resize: function(event, ui) {\n",
       "            fig.request_resize(ui.size.width, ui.size.height);\n",
       "        },\n",
       "        stop: function(event, ui) {\n",
       "            pass_mouse_events = true;\n",
       "            fig.request_resize(ui.size.width, ui.size.height);\n",
       "        },\n",
       "    });\n",
       "\n",
       "    function mouse_event_fn(event) {\n",
       "        if (pass_mouse_events)\n",
       "            return fig.mouse_event(event, event['data']);\n",
       "    }\n",
       "\n",
       "    rubberband.mousedown('button_press', mouse_event_fn);\n",
       "    rubberband.mouseup('button_release', mouse_event_fn);\n",
       "    // Throttle sequential mouse events to 1 every 20ms.\n",
       "    rubberband.mousemove('motion_notify', mouse_event_fn);\n",
       "\n",
       "    rubberband.mouseenter('figure_enter', mouse_event_fn);\n",
       "    rubberband.mouseleave('figure_leave', mouse_event_fn);\n",
       "\n",
       "    canvas_div.on(\"wheel\", function (event) {\n",
       "        event = event.originalEvent;\n",
       "        event['data'] = 'scroll'\n",
       "        if (event.deltaY < 0) {\n",
       "            event.step = 1;\n",
       "        } else {\n",
       "            event.step = -1;\n",
       "        }\n",
       "        mouse_event_fn(event);\n",
       "    });\n",
       "\n",
       "    canvas_div.append(canvas);\n",
       "    canvas_div.append(rubberband);\n",
       "\n",
       "    this.rubberband = rubberband;\n",
       "    this.rubberband_canvas = rubberband[0];\n",
       "    this.rubberband_context = rubberband[0].getContext(\"2d\");\n",
       "    this.rubberband_context.strokeStyle = \"#000000\";\n",
       "\n",
       "    this._resize_canvas = function(width, height) {\n",
       "        // Keep the size of the canvas, canvas container, and rubber band\n",
       "        // canvas in synch.\n",
       "        canvas_div.css('width', width)\n",
       "        canvas_div.css('height', height)\n",
       "\n",
       "        canvas.attr('width', width * mpl.ratio);\n",
       "        canvas.attr('height', height * mpl.ratio);\n",
       "        canvas.attr('style', 'width: ' + width + 'px; height: ' + height + 'px;');\n",
       "\n",
       "        rubberband.attr('width', width);\n",
       "        rubberband.attr('height', height);\n",
       "    }\n",
       "\n",
       "    // Set the figure to an initial 600x600px, this will subsequently be updated\n",
       "    // upon first draw.\n",
       "    this._resize_canvas(600, 600);\n",
       "\n",
       "    // Disable right mouse context menu.\n",
       "    $(this.rubberband_canvas).bind(\"contextmenu\",function(e){\n",
       "        return false;\n",
       "    });\n",
       "\n",
       "    function set_focus () {\n",
       "        canvas.focus();\n",
       "        canvas_div.focus();\n",
       "    }\n",
       "\n",
       "    window.setTimeout(set_focus, 100);\n",
       "}\n",
       "\n",
       "mpl.figure.prototype._init_toolbar = function() {\n",
       "    var fig = this;\n",
       "\n",
       "    var nav_element = $('<div/>');\n",
       "    nav_element.attr('style', 'width: 100%');\n",
       "    this.root.append(nav_element);\n",
       "\n",
       "    // Define a callback function for later on.\n",
       "    function toolbar_event(event) {\n",
       "        return fig.toolbar_button_onclick(event['data']);\n",
       "    }\n",
       "    function toolbar_mouse_event(event) {\n",
       "        return fig.toolbar_button_onmouseover(event['data']);\n",
       "    }\n",
       "\n",
       "    for(var toolbar_ind in mpl.toolbar_items) {\n",
       "        var name = mpl.toolbar_items[toolbar_ind][0];\n",
       "        var tooltip = mpl.toolbar_items[toolbar_ind][1];\n",
       "        var image = mpl.toolbar_items[toolbar_ind][2];\n",
       "        var method_name = mpl.toolbar_items[toolbar_ind][3];\n",
       "\n",
       "        if (!name) {\n",
       "            // put a spacer in here.\n",
       "            continue;\n",
       "        }\n",
       "        var button = $('<button/>');\n",
       "        button.addClass('ui-button ui-widget ui-state-default ui-corner-all ' +\n",
       "                        'ui-button-icon-only');\n",
       "        button.attr('role', 'button');\n",
       "        button.attr('aria-disabled', 'false');\n",
       "        button.click(method_name, toolbar_event);\n",
       "        button.mouseover(tooltip, toolbar_mouse_event);\n",
       "\n",
       "        var icon_img = $('<span/>');\n",
       "        icon_img.addClass('ui-button-icon-primary ui-icon');\n",
       "        icon_img.addClass(image);\n",
       "        icon_img.addClass('ui-corner-all');\n",
       "\n",
       "        var tooltip_span = $('<span/>');\n",
       "        tooltip_span.addClass('ui-button-text');\n",
       "        tooltip_span.html(tooltip);\n",
       "\n",
       "        button.append(icon_img);\n",
       "        button.append(tooltip_span);\n",
       "\n",
       "        nav_element.append(button);\n",
       "    }\n",
       "\n",
       "    var fmt_picker_span = $('<span/>');\n",
       "\n",
       "    var fmt_picker = $('<select/>');\n",
       "    fmt_picker.addClass('mpl-toolbar-option ui-widget ui-widget-content');\n",
       "    fmt_picker_span.append(fmt_picker);\n",
       "    nav_element.append(fmt_picker_span);\n",
       "    this.format_dropdown = fmt_picker[0];\n",
       "\n",
       "    for (var ind in mpl.extensions) {\n",
       "        var fmt = mpl.extensions[ind];\n",
       "        var option = $(\n",
       "            '<option/>', {selected: fmt === mpl.default_extension}).html(fmt);\n",
       "        fmt_picker.append(option);\n",
       "    }\n",
       "\n",
       "    // Add hover states to the ui-buttons\n",
       "    $( \".ui-button\" ).hover(\n",
       "        function() { $(this).addClass(\"ui-state-hover\");},\n",
       "        function() { $(this).removeClass(\"ui-state-hover\");}\n",
       "    );\n",
       "\n",
       "    var status_bar = $('<span class=\"mpl-message\"/>');\n",
       "    nav_element.append(status_bar);\n",
       "    this.message = status_bar[0];\n",
       "}\n",
       "\n",
       "mpl.figure.prototype.request_resize = function(x_pixels, y_pixels) {\n",
       "    // Request matplotlib to resize the figure. Matplotlib will then trigger a resize in the client,\n",
       "    // which will in turn request a refresh of the image.\n",
       "    this.send_message('resize', {'width': x_pixels, 'height': y_pixels});\n",
       "}\n",
       "\n",
       "mpl.figure.prototype.send_message = function(type, properties) {\n",
       "    properties['type'] = type;\n",
       "    properties['figure_id'] = this.id;\n",
       "    this.ws.send(JSON.stringify(properties));\n",
       "}\n",
       "\n",
       "mpl.figure.prototype.send_draw_message = function() {\n",
       "    if (!this.waiting) {\n",
       "        this.waiting = true;\n",
       "        this.ws.send(JSON.stringify({type: \"draw\", figure_id: this.id}));\n",
       "    }\n",
       "}\n",
       "\n",
       "\n",
       "mpl.figure.prototype.handle_save = function(fig, msg) {\n",
       "    var format_dropdown = fig.format_dropdown;\n",
       "    var format = format_dropdown.options[format_dropdown.selectedIndex].value;\n",
       "    fig.ondownload(fig, format);\n",
       "}\n",
       "\n",
       "\n",
       "mpl.figure.prototype.handle_resize = function(fig, msg) {\n",
       "    var size = msg['size'];\n",
       "    if (size[0] != fig.canvas.width || size[1] != fig.canvas.height) {\n",
       "        fig._resize_canvas(size[0], size[1]);\n",
       "        fig.send_message(\"refresh\", {});\n",
       "    };\n",
       "}\n",
       "\n",
       "mpl.figure.prototype.handle_rubberband = function(fig, msg) {\n",
       "    var x0 = msg['x0'] / mpl.ratio;\n",
       "    var y0 = (fig.canvas.height - msg['y0']) / mpl.ratio;\n",
       "    var x1 = msg['x1'] / mpl.ratio;\n",
       "    var y1 = (fig.canvas.height - msg['y1']) / mpl.ratio;\n",
       "    x0 = Math.floor(x0) + 0.5;\n",
       "    y0 = Math.floor(y0) + 0.5;\n",
       "    x1 = Math.floor(x1) + 0.5;\n",
       "    y1 = Math.floor(y1) + 0.5;\n",
       "    var min_x = Math.min(x0, x1);\n",
       "    var min_y = Math.min(y0, y1);\n",
       "    var width = Math.abs(x1 - x0);\n",
       "    var height = Math.abs(y1 - y0);\n",
       "\n",
       "    fig.rubberband_context.clearRect(\n",
       "        0, 0, fig.canvas.width / mpl.ratio, fig.canvas.height / mpl.ratio);\n",
       "\n",
       "    fig.rubberband_context.strokeRect(min_x, min_y, width, height);\n",
       "}\n",
       "\n",
       "mpl.figure.prototype.handle_figure_label = function(fig, msg) {\n",
       "    // Updates the figure title.\n",
       "    fig.header.textContent = msg['label'];\n",
       "}\n",
       "\n",
       "mpl.figure.prototype.handle_cursor = function(fig, msg) {\n",
       "    var cursor = msg['cursor'];\n",
       "    switch(cursor)\n",
       "    {\n",
       "    case 0:\n",
       "        cursor = 'pointer';\n",
       "        break;\n",
       "    case 1:\n",
       "        cursor = 'default';\n",
       "        break;\n",
       "    case 2:\n",
       "        cursor = 'crosshair';\n",
       "        break;\n",
       "    case 3:\n",
       "        cursor = 'move';\n",
       "        break;\n",
       "    }\n",
       "    fig.rubberband_canvas.style.cursor = cursor;\n",
       "}\n",
       "\n",
       "mpl.figure.prototype.handle_message = function(fig, msg) {\n",
       "    fig.message.textContent = msg['message'];\n",
       "}\n",
       "\n",
       "mpl.figure.prototype.handle_draw = function(fig, msg) {\n",
       "    // Request the server to send over a new figure.\n",
       "    fig.send_draw_message();\n",
       "}\n",
       "\n",
       "mpl.figure.prototype.handle_image_mode = function(fig, msg) {\n",
       "    fig.image_mode = msg['mode'];\n",
       "}\n",
       "\n",
       "mpl.figure.prototype.updated_canvas_event = function() {\n",
       "    // Called whenever the canvas gets updated.\n",
       "    this.send_message(\"ack\", {});\n",
       "}\n",
       "\n",
       "// A function to construct a web socket function for onmessage handling.\n",
       "// Called in the figure constructor.\n",
       "mpl.figure.prototype._make_on_message_function = function(fig) {\n",
       "    return function socket_on_message(evt) {\n",
       "        if (evt.data instanceof Blob) {\n",
       "            /* FIXME: We get \"Resource interpreted as Image but\n",
       "             * transferred with MIME type text/plain:\" errors on\n",
       "             * Chrome.  But how to set the MIME type?  It doesn't seem\n",
       "             * to be part of the websocket stream */\n",
       "            evt.data.type = \"image/png\";\n",
       "\n",
       "            /* Free the memory for the previous frames */\n",
       "            if (fig.imageObj.src) {\n",
       "                (window.URL || window.webkitURL).revokeObjectURL(\n",
       "                    fig.imageObj.src);\n",
       "            }\n",
       "\n",
       "            fig.imageObj.src = (window.URL || window.webkitURL).createObjectURL(\n",
       "                evt.data);\n",
       "            fig.updated_canvas_event();\n",
       "            fig.waiting = false;\n",
       "            return;\n",
       "        }\n",
       "        else if (typeof evt.data === 'string' && evt.data.slice(0, 21) == \"data:image/png;base64\") {\n",
       "            fig.imageObj.src = evt.data;\n",
       "            fig.updated_canvas_event();\n",
       "            fig.waiting = false;\n",
       "            return;\n",
       "        }\n",
       "\n",
       "        var msg = JSON.parse(evt.data);\n",
       "        var msg_type = msg['type'];\n",
       "\n",
       "        // Call the  \"handle_{type}\" callback, which takes\n",
       "        // the figure and JSON message as its only arguments.\n",
       "        try {\n",
       "            var callback = fig[\"handle_\" + msg_type];\n",
       "        } catch (e) {\n",
       "            console.log(\"No handler for the '\" + msg_type + \"' message type: \", msg);\n",
       "            return;\n",
       "        }\n",
       "\n",
       "        if (callback) {\n",
       "            try {\n",
       "                // console.log(\"Handling '\" + msg_type + \"' message: \", msg);\n",
       "                callback(fig, msg);\n",
       "            } catch (e) {\n",
       "                console.log(\"Exception inside the 'handler_\" + msg_type + \"' callback:\", e, e.stack, msg);\n",
       "            }\n",
       "        }\n",
       "    };\n",
       "}\n",
       "\n",
       "// from http://stackoverflow.com/questions/1114465/getting-mouse-location-in-canvas\n",
       "mpl.findpos = function(e) {\n",
       "    //this section is from http://www.quirksmode.org/js/events_properties.html\n",
       "    var targ;\n",
       "    if (!e)\n",
       "        e = window.event;\n",
       "    if (e.target)\n",
       "        targ = e.target;\n",
       "    else if (e.srcElement)\n",
       "        targ = e.srcElement;\n",
       "    if (targ.nodeType == 3) // defeat Safari bug\n",
       "        targ = targ.parentNode;\n",
       "\n",
       "    // jQuery normalizes the pageX and pageY\n",
       "    // pageX,Y are the mouse positions relative to the document\n",
       "    // offset() returns the position of the element relative to the document\n",
       "    var x = e.pageX - $(targ).offset().left;\n",
       "    var y = e.pageY - $(targ).offset().top;\n",
       "\n",
       "    return {\"x\": x, \"y\": y};\n",
       "};\n",
       "\n",
       "/*\n",
       " * return a copy of an object with only non-object keys\n",
       " * we need this to avoid circular references\n",
       " * http://stackoverflow.com/a/24161582/3208463\n",
       " */\n",
       "function simpleKeys (original) {\n",
       "  return Object.keys(original).reduce(function (obj, key) {\n",
       "    if (typeof original[key] !== 'object')\n",
       "        obj[key] = original[key]\n",
       "    return obj;\n",
       "  }, {});\n",
       "}\n",
       "\n",
       "mpl.figure.prototype.mouse_event = function(event, name) {\n",
       "    var canvas_pos = mpl.findpos(event)\n",
       "\n",
       "    if (name === 'button_press')\n",
       "    {\n",
       "        this.canvas.focus();\n",
       "        this.canvas_div.focus();\n",
       "    }\n",
       "\n",
       "    var x = canvas_pos.x * mpl.ratio;\n",
       "    var y = canvas_pos.y * mpl.ratio;\n",
       "\n",
       "    this.send_message(name, {x: x, y: y, button: event.button,\n",
       "                             step: event.step,\n",
       "                             guiEvent: simpleKeys(event)});\n",
       "\n",
       "    /* This prevents the web browser from automatically changing to\n",
       "     * the text insertion cursor when the button is pressed.  We want\n",
       "     * to control all of the cursor setting manually through the\n",
       "     * 'cursor' event from matplotlib */\n",
       "    event.preventDefault();\n",
       "    return false;\n",
       "}\n",
       "\n",
       "mpl.figure.prototype._key_event_extra = function(event, name) {\n",
       "    // Handle any extra behaviour associated with a key event\n",
       "}\n",
       "\n",
       "mpl.figure.prototype.key_event = function(event, name) {\n",
       "\n",
       "    // Prevent repeat events\n",
       "    if (name == 'key_press')\n",
       "    {\n",
       "        if (event.which === this._key)\n",
       "            return;\n",
       "        else\n",
       "            this._key = event.which;\n",
       "    }\n",
       "    if (name == 'key_release')\n",
       "        this._key = null;\n",
       "\n",
       "    var value = '';\n",
       "    if (event.ctrlKey && event.which != 17)\n",
       "        value += \"ctrl+\";\n",
       "    if (event.altKey && event.which != 18)\n",
       "        value += \"alt+\";\n",
       "    if (event.shiftKey && event.which != 16)\n",
       "        value += \"shift+\";\n",
       "\n",
       "    value += 'k';\n",
       "    value += event.which.toString();\n",
       "\n",
       "    this._key_event_extra(event, name);\n",
       "\n",
       "    this.send_message(name, {key: value,\n",
       "                             guiEvent: simpleKeys(event)});\n",
       "    return false;\n",
       "}\n",
       "\n",
       "mpl.figure.prototype.toolbar_button_onclick = function(name) {\n",
       "    if (name == 'download') {\n",
       "        this.handle_save(this, null);\n",
       "    } else {\n",
       "        this.send_message(\"toolbar_button\", {name: name});\n",
       "    }\n",
       "};\n",
       "\n",
       "mpl.figure.prototype.toolbar_button_onmouseover = function(tooltip) {\n",
       "    this.message.textContent = tooltip;\n",
       "};\n",
       "mpl.toolbar_items = [[\"Home\", \"Reset original view\", \"fa fa-home icon-home\", \"home\"], [\"Back\", \"Back to previous view\", \"fa fa-arrow-left icon-arrow-left\", \"back\"], [\"Forward\", \"Forward to next view\", \"fa fa-arrow-right icon-arrow-right\", \"forward\"], [\"\", \"\", \"\", \"\"], [\"Pan\", \"Pan axes with left mouse, zoom with right\", \"fa fa-arrows icon-move\", \"pan\"], [\"Zoom\", \"Zoom to rectangle\", \"fa fa-square-o icon-check-empty\", \"zoom\"], [\"\", \"\", \"\", \"\"], [\"Download\", \"Download plot\", \"fa fa-floppy-o icon-save\", \"download\"]];\n",
       "\n",
       "mpl.extensions = [\"eps\", \"jpeg\", \"pdf\", \"png\", \"ps\", \"raw\", \"svg\", \"tif\"];\n",
       "\n",
       "mpl.default_extension = \"png\";var comm_websocket_adapter = function(comm) {\n",
       "    // Create a \"websocket\"-like object which calls the given IPython comm\n",
       "    // object with the appropriate methods. Currently this is a non binary\n",
       "    // socket, so there is still some room for performance tuning.\n",
       "    var ws = {};\n",
       "\n",
       "    ws.close = function() {\n",
       "        comm.close()\n",
       "    };\n",
       "    ws.send = function(m) {\n",
       "        //console.log('sending', m);\n",
       "        comm.send(m);\n",
       "    };\n",
       "    // Register the callback with on_msg.\n",
       "    comm.on_msg(function(msg) {\n",
       "        //console.log('receiving', msg['content']['data'], msg);\n",
       "        // Pass the mpl event to the overridden (by mpl) onmessage function.\n",
       "        ws.onmessage(msg['content']['data'])\n",
       "    });\n",
       "    return ws;\n",
       "}\n",
       "\n",
       "mpl.mpl_figure_comm = function(comm, msg) {\n",
       "    // This is the function which gets called when the mpl process\n",
       "    // starts-up an IPython Comm through the \"matplotlib\" channel.\n",
       "\n",
       "    var id = msg.content.data.id;\n",
       "    // Get hold of the div created by the display call when the Comm\n",
       "    // socket was opened in Python.\n",
       "    var element = $(\"#\" + id);\n",
       "    var ws_proxy = comm_websocket_adapter(comm)\n",
       "\n",
       "    function ondownload(figure, format) {\n",
       "        window.open(figure.imageObj.src);\n",
       "    }\n",
       "\n",
       "    var fig = new mpl.figure(id, ws_proxy,\n",
       "                           ondownload,\n",
       "                           element.get(0));\n",
       "\n",
       "    // Call onopen now - mpl needs it, as it is assuming we've passed it a real\n",
       "    // web socket which is closed, not our websocket->open comm proxy.\n",
       "    ws_proxy.onopen();\n",
       "\n",
       "    fig.parent_element = element.get(0);\n",
       "    fig.cell_info = mpl.find_output_cell(\"<div id='\" + id + \"'></div>\");\n",
       "    if (!fig.cell_info) {\n",
       "        console.error(\"Failed to find cell for figure\", id, fig);\n",
       "        return;\n",
       "    }\n",
       "\n",
       "    var output_index = fig.cell_info[2]\n",
       "    var cell = fig.cell_info[0];\n",
       "\n",
       "};\n",
       "\n",
       "mpl.figure.prototype.handle_close = function(fig, msg) {\n",
       "    var width = fig.canvas.width/mpl.ratio\n",
       "    fig.root.unbind('remove')\n",
       "\n",
       "    // Update the output cell to use the data from the current canvas.\n",
       "    fig.push_to_output();\n",
       "    var dataURL = fig.canvas.toDataURL();\n",
       "    // Re-enable the keyboard manager in IPython - without this line, in FF,\n",
       "    // the notebook keyboard shortcuts fail.\n",
       "    IPython.keyboard_manager.enable()\n",
       "    $(fig.parent_element).html('<img src=\"' + dataURL + '\" width=\"' + width + '\">');\n",
       "    fig.close_ws(fig, msg);\n",
       "}\n",
       "\n",
       "mpl.figure.prototype.close_ws = function(fig, msg){\n",
       "    fig.send_message('closing', msg);\n",
       "    // fig.ws.close()\n",
       "}\n",
       "\n",
       "mpl.figure.prototype.push_to_output = function(remove_interactive) {\n",
       "    // Turn the data on the canvas into data in the output cell.\n",
       "    var width = this.canvas.width/mpl.ratio\n",
       "    var dataURL = this.canvas.toDataURL();\n",
       "    this.cell_info[1]['text/html'] = '<img src=\"' + dataURL + '\" width=\"' + width + '\">';\n",
       "}\n",
       "\n",
       "mpl.figure.prototype.updated_canvas_event = function() {\n",
       "    // Tell IPython that the notebook contents must change.\n",
       "    IPython.notebook.set_dirty(true);\n",
       "    this.send_message(\"ack\", {});\n",
       "    var fig = this;\n",
       "    // Wait a second, then push the new image to the DOM so\n",
       "    // that it is saved nicely (might be nice to debounce this).\n",
       "    setTimeout(function () { fig.push_to_output() }, 1000);\n",
       "}\n",
       "\n",
       "mpl.figure.prototype._init_toolbar = function() {\n",
       "    var fig = this;\n",
       "\n",
       "    var nav_element = $('<div/>');\n",
       "    nav_element.attr('style', 'width: 100%');\n",
       "    this.root.append(nav_element);\n",
       "\n",
       "    // Define a callback function for later on.\n",
       "    function toolbar_event(event) {\n",
       "        return fig.toolbar_button_onclick(event['data']);\n",
       "    }\n",
       "    function toolbar_mouse_event(event) {\n",
       "        return fig.toolbar_button_onmouseover(event['data']);\n",
       "    }\n",
       "\n",
       "    for(var toolbar_ind in mpl.toolbar_items){\n",
       "        var name = mpl.toolbar_items[toolbar_ind][0];\n",
       "        var tooltip = mpl.toolbar_items[toolbar_ind][1];\n",
       "        var image = mpl.toolbar_items[toolbar_ind][2];\n",
       "        var method_name = mpl.toolbar_items[toolbar_ind][3];\n",
       "\n",
       "        if (!name) { continue; };\n",
       "\n",
       "        var button = $('<button class=\"btn btn-default\" href=\"#\" title=\"' + name + '\"><i class=\"fa ' + image + ' fa-lg\"></i></button>');\n",
       "        button.click(method_name, toolbar_event);\n",
       "        button.mouseover(tooltip, toolbar_mouse_event);\n",
       "        nav_element.append(button);\n",
       "    }\n",
       "\n",
       "    // Add the status bar.\n",
       "    var status_bar = $('<span class=\"mpl-message\" style=\"text-align:right; float: right;\"/>');\n",
       "    nav_element.append(status_bar);\n",
       "    this.message = status_bar[0];\n",
       "\n",
       "    // Add the close button to the window.\n",
       "    var buttongrp = $('<div class=\"btn-group inline pull-right\"></div>');\n",
       "    var button = $('<button class=\"btn btn-mini btn-primary\" href=\"#\" title=\"Stop Interaction\"><i class=\"fa fa-power-off icon-remove icon-large\"></i></button>');\n",
       "    button.click(function (evt) { fig.handle_close(fig, {}); } );\n",
       "    button.mouseover('Stop Interaction', toolbar_mouse_event);\n",
       "    buttongrp.append(button);\n",
       "    var titlebar = this.root.find($('.ui-dialog-titlebar'));\n",
       "    titlebar.prepend(buttongrp);\n",
       "}\n",
       "\n",
       "mpl.figure.prototype._root_extra_style = function(el){\n",
       "    var fig = this\n",
       "    el.on(\"remove\", function(){\n",
       "\tfig.close_ws(fig, {});\n",
       "    });\n",
       "}\n",
       "\n",
       "mpl.figure.prototype._canvas_extra_style = function(el){\n",
       "    // this is important to make the div 'focusable\n",
       "    el.attr('tabindex', 0)\n",
       "    // reach out to IPython and tell the keyboard manager to turn it's self\n",
       "    // off when our div gets focus\n",
       "\n",
       "    // location in version 3\n",
       "    if (IPython.notebook.keyboard_manager) {\n",
       "        IPython.notebook.keyboard_manager.register_events(el);\n",
       "    }\n",
       "    else {\n",
       "        // location in version 2\n",
       "        IPython.keyboard_manager.register_events(el);\n",
       "    }\n",
       "\n",
       "}\n",
       "\n",
       "mpl.figure.prototype._key_event_extra = function(event, name) {\n",
       "    var manager = IPython.notebook.keyboard_manager;\n",
       "    if (!manager)\n",
       "        manager = IPython.keyboard_manager;\n",
       "\n",
       "    // Check for shift+enter\n",
       "    if (event.shiftKey && event.which == 13) {\n",
       "        this.canvas_div.blur();\n",
       "        event.shiftKey = false;\n",
       "        // Send a \"J\" for go to next cell\n",
       "        event.which = 74;\n",
       "        event.keyCode = 74;\n",
       "        manager.command_mode();\n",
       "        manager.handle_keydown(event);\n",
       "    }\n",
       "}\n",
       "\n",
       "mpl.figure.prototype.handle_save = function(fig, msg) {\n",
       "    fig.ondownload(fig, null);\n",
       "}\n",
       "\n",
       "\n",
       "mpl.find_output_cell = function(html_output) {\n",
       "    // Return the cell and output element which can be found *uniquely* in the notebook.\n",
       "    // Note - this is a bit hacky, but it is done because the \"notebook_saving.Notebook\"\n",
       "    // IPython event is triggered only after the cells have been serialised, which for\n",
       "    // our purposes (turning an active figure into a static one), is too late.\n",
       "    var cells = IPython.notebook.get_cells();\n",
       "    var ncells = cells.length;\n",
       "    for (var i=0; i<ncells; i++) {\n",
       "        var cell = cells[i];\n",
       "        if (cell.cell_type === 'code'){\n",
       "            for (var j=0; j<cell.output_area.outputs.length; j++) {\n",
       "                var data = cell.output_area.outputs[j];\n",
       "                if (data.data) {\n",
       "                    // IPython >= 3 moved mimebundle to data attribute of output\n",
       "                    data = data.data;\n",
       "                }\n",
       "                if (data['text/html'] == html_output) {\n",
       "                    return [cell, data, j];\n",
       "                }\n",
       "            }\n",
       "        }\n",
       "    }\n",
       "}\n",
       "\n",
       "// Register the function which deals with the matplotlib target/channel.\n",
       "// The kernel may be null if the page has been refreshed.\n",
       "if (IPython.notebook.kernel != null) {\n",
       "    IPython.notebook.kernel.comm_manager.register_target('matplotlib', mpl.mpl_figure_comm);\n",
       "}\n"
      ],
      "text/plain": [
       "<IPython.core.display.Javascript object>"
      ]
     },
     "metadata": {},
     "output_type": "display_data"
    },
    {
     "data": {
      "text/html": [
       "<img src=\"data:image/png;base64,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\" width=\"800\">"
      ],
      "text/plain": [
       "<IPython.core.display.HTML object>"
      ]
     },
     "metadata": {},
     "output_type": "display_data"
    },
    {
     "data": {
      "application/vnd.jupyter.widget-view+json": {
       "model_id": "d2c7719e1aca4de68c90dda31073f113",
       "version_major": 2,
       "version_minor": 0
      },
      "text/plain": [
       "HBox(children=(IntProgress(value=0, description='1st loop', max=200, style=ProgressStyle(description_width='in…"
      ]
     },
     "metadata": {},
     "output_type": "display_data"
    },
    {
     "data": {
      "application/vnd.jupyter.widget-view+json": {
       "model_id": "",
       "version_major": 2,
       "version_minor": 0
      },
      "text/plain": [
       "HBox(children=(IntProgress(value=0, description='2nd loop', max=10, style=ProgressStyle(description_width='ini…"
      ]
     },
     "metadata": {},
     "output_type": "display_data"
    },
    {
     "data": {
      "application/vnd.jupyter.widget-view+json": {
       "model_id": "",
       "version_major": 2,
       "version_minor": 0
      },
      "text/plain": [
       "HBox(children=(IntProgress(value=0, description='2nd loop', max=10, style=ProgressStyle(description_width='ini…"
      ]
     },
     "metadata": {},
     "output_type": "display_data"
    },
    {
     "data": {
      "application/vnd.jupyter.widget-view+json": {
       "model_id": "",
       "version_major": 2,
       "version_minor": 0
      },
      "text/plain": [
       "HBox(children=(IntProgress(value=0, description='2nd loop', max=10, style=ProgressStyle(description_width='ini…"
      ]
     },
     "metadata": {},
     "output_type": "display_data"
    },
    {
     "data": {
      "application/vnd.jupyter.widget-view+json": {
       "model_id": "",
       "version_major": 2,
       "version_minor": 0
      },
      "text/plain": [
       "HBox(children=(IntProgress(value=0, description='2nd loop', max=10, style=ProgressStyle(description_width='ini…"
      ]
     },
     "metadata": {},
     "output_type": "display_data"
    },
    {
     "data": {
      "application/vnd.jupyter.widget-view+json": {
       "model_id": "",
       "version_major": 2,
       "version_minor": 0
      },
      "text/plain": [
       "HBox(children=(IntProgress(value=0, description='2nd loop', max=10, style=ProgressStyle(description_width='ini…"
      ]
     },
     "metadata": {},
     "output_type": "display_data"
    },
    {
     "data": {
      "application/vnd.jupyter.widget-view+json": {
       "model_id": "",
       "version_major": 2,
       "version_minor": 0
      },
      "text/plain": [
       "HBox(children=(IntProgress(value=0, description='2nd loop', max=10, style=ProgressStyle(description_width='ini…"
      ]
     },
     "metadata": {},
     "output_type": "display_data"
    },
    {
     "data": {
      "application/vnd.jupyter.widget-view+json": {
       "model_id": "",
       "version_major": 2,
       "version_minor": 0
      },
      "text/plain": [
       "HBox(children=(IntProgress(value=0, description='2nd loop', max=10, style=ProgressStyle(description_width='ini…"
      ]
     },
     "metadata": {},
     "output_type": "display_data"
    },
    {
     "data": {
      "application/vnd.jupyter.widget-view+json": {
       "model_id": "",
       "version_major": 2,
       "version_minor": 0
      },
      "text/plain": [
       "HBox(children=(IntProgress(value=0, description='2nd loop', max=10, style=ProgressStyle(description_width='ini…"
      ]
     },
     "metadata": {},
     "output_type": "display_data"
    },
    {
     "data": {
      "application/vnd.jupyter.widget-view+json": {
       "model_id": "",
       "version_major": 2,
       "version_minor": 0
      },
      "text/plain": [
       "HBox(children=(IntProgress(value=0, description='2nd loop', max=10, style=ProgressStyle(description_width='ini…"
      ]
     },
     "metadata": {},
     "output_type": "display_data"
    },
    {
     "data": {
      "application/vnd.jupyter.widget-view+json": {
       "model_id": "",
       "version_major": 2,
       "version_minor": 0
      },
      "text/plain": [
       "HBox(children=(IntProgress(value=0, description='2nd loop', max=10, style=ProgressStyle(description_width='ini…"
      ]
     },
     "metadata": {},
     "output_type": "display_data"
    },
    {
     "data": {
      "application/vnd.jupyter.widget-view+json": {
       "model_id": "",
       "version_major": 2,
       "version_minor": 0
      },
      "text/plain": [
       "HBox(children=(IntProgress(value=0, description='2nd loop', max=10, style=ProgressStyle(description_width='ini…"
      ]
     },
     "metadata": {},
     "output_type": "display_data"
    },
    {
     "data": {
      "application/vnd.jupyter.widget-view+json": {
       "model_id": "",
       "version_major": 2,
       "version_minor": 0
      },
      "text/plain": [
       "HBox(children=(IntProgress(value=0, description='2nd loop', max=10, style=ProgressStyle(description_width='ini…"
      ]
     },
     "metadata": {},
     "output_type": "display_data"
    },
    {
     "data": {
      "application/vnd.jupyter.widget-view+json": {
       "model_id": "",
       "version_major": 2,
       "version_minor": 0
      },
      "text/plain": [
       "HBox(children=(IntProgress(value=0, description='2nd loop', max=10, style=ProgressStyle(description_width='ini…"
      ]
     },
     "metadata": {},
     "output_type": "display_data"
    },
    {
     "data": {
      "application/vnd.jupyter.widget-view+json": {
       "model_id": "",
       "version_major": 2,
       "version_minor": 0
      },
      "text/plain": [
       "HBox(children=(IntProgress(value=0, description='2nd loop', max=10, style=ProgressStyle(description_width='ini…"
      ]
     },
     "metadata": {},
     "output_type": "display_data"
    },
    {
     "data": {
      "application/vnd.jupyter.widget-view+json": {
       "model_id": "",
       "version_major": 2,
       "version_minor": 0
      },
      "text/plain": [
       "HBox(children=(IntProgress(value=0, description='2nd loop', max=10, style=ProgressStyle(description_width='ini…"
      ]
     },
     "metadata": {},
     "output_type": "display_data"
    },
    {
     "data": {
      "application/vnd.jupyter.widget-view+json": {
       "model_id": "",
       "version_major": 2,
       "version_minor": 0
      },
      "text/plain": [
       "HBox(children=(IntProgress(value=0, description='2nd loop', max=10, style=ProgressStyle(description_width='ini…"
      ]
     },
     "metadata": {},
     "output_type": "display_data"
    },
    {
     "data": {
      "application/vnd.jupyter.widget-view+json": {
       "model_id": "",
       "version_major": 2,
       "version_minor": 0
      },
      "text/plain": [
       "HBox(children=(IntProgress(value=0, description='2nd loop', max=10, style=ProgressStyle(description_width='ini…"
      ]
     },
     "metadata": {},
     "output_type": "display_data"
    },
    {
     "data": {
      "application/vnd.jupyter.widget-view+json": {
       "model_id": "",
       "version_major": 2,
       "version_minor": 0
      },
      "text/plain": [
       "HBox(children=(IntProgress(value=0, description='2nd loop', max=10, style=ProgressStyle(description_width='ini…"
      ]
     },
     "metadata": {},
     "output_type": "display_data"
    },
    {
     "data": {
      "application/vnd.jupyter.widget-view+json": {
       "model_id": "",
       "version_major": 2,
       "version_minor": 0
      },
      "text/plain": [
       "HBox(children=(IntProgress(value=0, description='2nd loop', max=10, style=ProgressStyle(description_width='ini…"
      ]
     },
     "metadata": {},
     "output_type": "display_data"
    },
    {
     "data": {
      "application/vnd.jupyter.widget-view+json": {
       "model_id": "",
       "version_major": 2,
       "version_minor": 0
      },
      "text/plain": [
       "HBox(children=(IntProgress(value=0, description='2nd loop', max=10, style=ProgressStyle(description_width='ini…"
      ]
     },
     "metadata": {},
     "output_type": "display_data"
    },
    {
     "data": {
      "application/vnd.jupyter.widget-view+json": {
       "model_id": "",
       "version_major": 2,
       "version_minor": 0
      },
      "text/plain": [
       "HBox(children=(IntProgress(value=0, description='2nd loop', max=10, style=ProgressStyle(description_width='ini…"
      ]
     },
     "metadata": {},
     "output_type": "display_data"
    },
    {
     "data": {
      "application/vnd.jupyter.widget-view+json": {
       "model_id": "",
       "version_major": 2,
       "version_minor": 0
      },
      "text/plain": [
       "HBox(children=(IntProgress(value=0, description='2nd loop', max=10, style=ProgressStyle(description_width='ini…"
      ]
     },
     "metadata": {},
     "output_type": "display_data"
    },
    {
     "data": {
      "application/vnd.jupyter.widget-view+json": {
       "model_id": "",
       "version_major": 2,
       "version_minor": 0
      },
      "text/plain": [
       "HBox(children=(IntProgress(value=0, description='2nd loop', max=10, style=ProgressStyle(description_width='ini…"
      ]
     },
     "metadata": {},
     "output_type": "display_data"
    },
    {
     "data": {
      "application/vnd.jupyter.widget-view+json": {
       "model_id": "",
       "version_major": 2,
       "version_minor": 0
      },
      "text/plain": [
       "HBox(children=(IntProgress(value=0, description='2nd loop', max=10, style=ProgressStyle(description_width='ini…"
      ]
     },
     "metadata": {},
     "output_type": "display_data"
    },
    {
     "data": {
      "application/vnd.jupyter.widget-view+json": {
       "model_id": "",
       "version_major": 2,
       "version_minor": 0
      },
      "text/plain": [
       "HBox(children=(IntProgress(value=0, description='2nd loop', max=10, style=ProgressStyle(description_width='ini…"
      ]
     },
     "metadata": {},
     "output_type": "display_data"
    },
    {
     "data": {
      "application/vnd.jupyter.widget-view+json": {
       "model_id": "",
       "version_major": 2,
       "version_minor": 0
      },
      "text/plain": [
       "HBox(children=(IntProgress(value=0, description='2nd loop', max=10, style=ProgressStyle(description_width='ini…"
      ]
     },
     "metadata": {},
     "output_type": "display_data"
    },
    {
     "data": {
      "application/vnd.jupyter.widget-view+json": {
       "model_id": "",
       "version_major": 2,
       "version_minor": 0
      },
      "text/plain": [
       "HBox(children=(IntProgress(value=0, description='2nd loop', max=10, style=ProgressStyle(description_width='ini…"
      ]
     },
     "metadata": {},
     "output_type": "display_data"
    },
    {
     "data": {
      "application/vnd.jupyter.widget-view+json": {
       "model_id": "",
       "version_major": 2,
       "version_minor": 0
      },
      "text/plain": [
       "HBox(children=(IntProgress(value=0, description='2nd loop', max=10, style=ProgressStyle(description_width='ini…"
      ]
     },
     "metadata": {},
     "output_type": "display_data"
    },
    {
     "data": {
      "application/vnd.jupyter.widget-view+json": {
       "model_id": "",
       "version_major": 2,
       "version_minor": 0
      },
      "text/plain": [
       "HBox(children=(IntProgress(value=0, description='2nd loop', max=10, style=ProgressStyle(description_width='ini…"
      ]
     },
     "metadata": {},
     "output_type": "display_data"
    },
    {
     "data": {
      "application/vnd.jupyter.widget-view+json": {
       "model_id": "",
       "version_major": 2,
       "version_minor": 0
      },
      "text/plain": [
       "HBox(children=(IntProgress(value=0, description='2nd loop', max=10, style=ProgressStyle(description_width='ini…"
      ]
     },
     "metadata": {},
     "output_type": "display_data"
    },
    {
     "data": {
      "application/vnd.jupyter.widget-view+json": {
       "model_id": "",
       "version_major": 2,
       "version_minor": 0
      },
      "text/plain": [
       "HBox(children=(IntProgress(value=0, description='2nd loop', max=10, style=ProgressStyle(description_width='ini…"
      ]
     },
     "metadata": {},
     "output_type": "display_data"
    },
    {
     "data": {
      "application/vnd.jupyter.widget-view+json": {
       "model_id": "",
       "version_major": 2,
       "version_minor": 0
      },
      "text/plain": [
       "HBox(children=(IntProgress(value=0, description='2nd loop', max=10, style=ProgressStyle(description_width='ini…"
      ]
     },
     "metadata": {},
     "output_type": "display_data"
    },
    {
     "data": {
      "application/vnd.jupyter.widget-view+json": {
       "model_id": "",
       "version_major": 2,
       "version_minor": 0
      },
      "text/plain": [
       "HBox(children=(IntProgress(value=0, description='2nd loop', max=10, style=ProgressStyle(description_width='ini…"
      ]
     },
     "metadata": {},
     "output_type": "display_data"
    },
    {
     "data": {
      "application/vnd.jupyter.widget-view+json": {
       "model_id": "",
       "version_major": 2,
       "version_minor": 0
      },
      "text/plain": [
       "HBox(children=(IntProgress(value=0, description='2nd loop', max=10, style=ProgressStyle(description_width='ini…"
      ]
     },
     "metadata": {},
     "output_type": "display_data"
    },
    {
     "data": {
      "application/vnd.jupyter.widget-view+json": {
       "model_id": "",
       "version_major": 2,
       "version_minor": 0
      },
      "text/plain": [
       "HBox(children=(IntProgress(value=0, description='2nd loop', max=10, style=ProgressStyle(description_width='ini…"
      ]
     },
     "metadata": {},
     "output_type": "display_data"
    },
    {
     "data": {
      "application/vnd.jupyter.widget-view+json": {
       "model_id": "",
       "version_major": 2,
       "version_minor": 0
      },
      "text/plain": [
       "HBox(children=(IntProgress(value=0, description='2nd loop', max=10, style=ProgressStyle(description_width='ini…"
      ]
     },
     "metadata": {},
     "output_type": "display_data"
    },
    {
     "data": {
      "application/vnd.jupyter.widget-view+json": {
       "model_id": "",
       "version_major": 2,
       "version_minor": 0
      },
      "text/plain": [
       "HBox(children=(IntProgress(value=0, description='2nd loop', max=10, style=ProgressStyle(description_width='ini…"
      ]
     },
     "metadata": {},
     "output_type": "display_data"
    },
    {
     "data": {
      "application/vnd.jupyter.widget-view+json": {
       "model_id": "",
       "version_major": 2,
       "version_minor": 0
      },
      "text/plain": [
       "HBox(children=(IntProgress(value=0, description='2nd loop', max=10, style=ProgressStyle(description_width='ini…"
      ]
     },
     "metadata": {},
     "output_type": "display_data"
    },
    {
     "data": {
      "application/vnd.jupyter.widget-view+json": {
       "model_id": "",
       "version_major": 2,
       "version_minor": 0
      },
      "text/plain": [
       "HBox(children=(IntProgress(value=0, description='2nd loop', max=10, style=ProgressStyle(description_width='ini…"
      ]
     },
     "metadata": {},
     "output_type": "display_data"
    },
    {
     "data": {
      "application/vnd.jupyter.widget-view+json": {
       "model_id": "",
       "version_major": 2,
       "version_minor": 0
      },
      "text/plain": [
       "HBox(children=(IntProgress(value=0, description='2nd loop', max=10, style=ProgressStyle(description_width='ini…"
      ]
     },
     "metadata": {},
     "output_type": "display_data"
    },
    {
     "data": {
      "application/vnd.jupyter.widget-view+json": {
       "model_id": "",
       "version_major": 2,
       "version_minor": 0
      },
      "text/plain": [
       "HBox(children=(IntProgress(value=0, description='2nd loop', max=10, style=ProgressStyle(description_width='ini…"
      ]
     },
     "metadata": {},
     "output_type": "display_data"
    },
    {
     "data": {
      "application/vnd.jupyter.widget-view+json": {
       "model_id": "",
       "version_major": 2,
       "version_minor": 0
      },
      "text/plain": [
       "HBox(children=(IntProgress(value=0, description='2nd loop', max=10, style=ProgressStyle(description_width='ini…"
      ]
     },
     "metadata": {},
     "output_type": "display_data"
    },
    {
     "data": {
      "application/vnd.jupyter.widget-view+json": {
       "model_id": "",
       "version_major": 2,
       "version_minor": 0
      },
      "text/plain": [
       "HBox(children=(IntProgress(value=0, description='2nd loop', max=10, style=ProgressStyle(description_width='ini…"
      ]
     },
     "metadata": {},
     "output_type": "display_data"
    },
    {
     "data": {
      "application/vnd.jupyter.widget-view+json": {
       "model_id": "",
       "version_major": 2,
       "version_minor": 0
      },
      "text/plain": [
       "HBox(children=(IntProgress(value=0, description='2nd loop', max=10, style=ProgressStyle(description_width='ini…"
      ]
     },
     "metadata": {},
     "output_type": "display_data"
    },
    {
     "data": {
      "application/vnd.jupyter.widget-view+json": {
       "model_id": "",
       "version_major": 2,
       "version_minor": 0
      },
      "text/plain": [
       "HBox(children=(IntProgress(value=0, description='2nd loop', max=10, style=ProgressStyle(description_width='ini…"
      ]
     },
     "metadata": {},
     "output_type": "display_data"
    },
    {
     "data": {
      "application/vnd.jupyter.widget-view+json": {
       "model_id": "",
       "version_major": 2,
       "version_minor": 0
      },
      "text/plain": [
       "HBox(children=(IntProgress(value=0, description='2nd loop', max=10, style=ProgressStyle(description_width='ini…"
      ]
     },
     "metadata": {},
     "output_type": "display_data"
    },
    {
     "data": {
      "application/vnd.jupyter.widget-view+json": {
       "model_id": "",
       "version_major": 2,
       "version_minor": 0
      },
      "text/plain": [
       "HBox(children=(IntProgress(value=0, description='2nd loop', max=10, style=ProgressStyle(description_width='ini…"
      ]
     },
     "metadata": {},
     "output_type": "display_data"
    },
    {
     "data": {
      "application/vnd.jupyter.widget-view+json": {
       "model_id": "",
       "version_major": 2,
       "version_minor": 0
      },
      "text/plain": [
       "HBox(children=(IntProgress(value=0, description='2nd loop', max=10, style=ProgressStyle(description_width='ini…"
      ]
     },
     "metadata": {},
     "output_type": "display_data"
    },
    {
     "data": {
      "application/vnd.jupyter.widget-view+json": {
       "model_id": "",
       "version_major": 2,
       "version_minor": 0
      },
      "text/plain": [
       "HBox(children=(IntProgress(value=0, description='2nd loop', max=10, style=ProgressStyle(description_width='ini…"
      ]
     },
     "metadata": {},
     "output_type": "display_data"
    },
    {
     "data": {
      "application/vnd.jupyter.widget-view+json": {
       "model_id": "",
       "version_major": 2,
       "version_minor": 0
      },
      "text/plain": [
       "HBox(children=(IntProgress(value=0, description='2nd loop', max=10, style=ProgressStyle(description_width='ini…"
      ]
     },
     "metadata": {},
     "output_type": "display_data"
    },
    {
     "data": {
      "application/vnd.jupyter.widget-view+json": {
       "model_id": "",
       "version_major": 2,
       "version_minor": 0
      },
      "text/plain": [
       "HBox(children=(IntProgress(value=0, description='2nd loop', max=10, style=ProgressStyle(description_width='ini…"
      ]
     },
     "metadata": {},
     "output_type": "display_data"
    },
    {
     "data": {
      "application/vnd.jupyter.widget-view+json": {
       "model_id": "",
       "version_major": 2,
       "version_minor": 0
      },
      "text/plain": [
       "HBox(children=(IntProgress(value=0, description='2nd loop', max=10, style=ProgressStyle(description_width='ini…"
      ]
     },
     "metadata": {},
     "output_type": "display_data"
    },
    {
     "data": {
      "application/vnd.jupyter.widget-view+json": {
       "model_id": "",
       "version_major": 2,
       "version_minor": 0
      },
      "text/plain": [
       "HBox(children=(IntProgress(value=0, description='2nd loop', max=10, style=ProgressStyle(description_width='ini…"
      ]
     },
     "metadata": {},
     "output_type": "display_data"
    },
    {
     "data": {
      "application/vnd.jupyter.widget-view+json": {
       "model_id": "",
       "version_major": 2,
       "version_minor": 0
      },
      "text/plain": [
       "HBox(children=(IntProgress(value=0, description='2nd loop', max=10, style=ProgressStyle(description_width='ini…"
      ]
     },
     "metadata": {},
     "output_type": "display_data"
    },
    {
     "data": {
      "application/vnd.jupyter.widget-view+json": {
       "model_id": "",
       "version_major": 2,
       "version_minor": 0
      },
      "text/plain": [
       "HBox(children=(IntProgress(value=0, description='2nd loop', max=10, style=ProgressStyle(description_width='ini…"
      ]
     },
     "metadata": {},
     "output_type": "display_data"
    },
    {
     "data": {
      "application/vnd.jupyter.widget-view+json": {
       "model_id": "",
       "version_major": 2,
       "version_minor": 0
      },
      "text/plain": [
       "HBox(children=(IntProgress(value=0, description='2nd loop', max=10, style=ProgressStyle(description_width='ini…"
      ]
     },
     "metadata": {},
     "output_type": "display_data"
    },
    {
     "data": {
      "application/vnd.jupyter.widget-view+json": {
       "model_id": "",
       "version_major": 2,
       "version_minor": 0
      },
      "text/plain": [
       "HBox(children=(IntProgress(value=0, description='2nd loop', max=10, style=ProgressStyle(description_width='ini…"
      ]
     },
     "metadata": {},
     "output_type": "display_data"
    },
    {
     "data": {
      "application/vnd.jupyter.widget-view+json": {
       "model_id": "",
       "version_major": 2,
       "version_minor": 0
      },
      "text/plain": [
       "HBox(children=(IntProgress(value=0, description='2nd loop', max=10, style=ProgressStyle(description_width='ini…"
      ]
     },
     "metadata": {},
     "output_type": "display_data"
    },
    {
     "data": {
      "application/vnd.jupyter.widget-view+json": {
       "model_id": "",
       "version_major": 2,
       "version_minor": 0
      },
      "text/plain": [
       "HBox(children=(IntProgress(value=0, description='2nd loop', max=10, style=ProgressStyle(description_width='ini…"
      ]
     },
     "metadata": {},
     "output_type": "display_data"
    },
    {
     "data": {
      "application/vnd.jupyter.widget-view+json": {
       "model_id": "",
       "version_major": 2,
       "version_minor": 0
      },
      "text/plain": [
       "HBox(children=(IntProgress(value=0, description='2nd loop', max=10, style=ProgressStyle(description_width='ini…"
      ]
     },
     "metadata": {},
     "output_type": "display_data"
    },
    {
     "data": {
      "application/vnd.jupyter.widget-view+json": {
       "model_id": "",
       "version_major": 2,
       "version_minor": 0
      },
      "text/plain": [
       "HBox(children=(IntProgress(value=0, description='2nd loop', max=10, style=ProgressStyle(description_width='ini…"
      ]
     },
     "metadata": {},
     "output_type": "display_data"
    },
    {
     "data": {
      "application/vnd.jupyter.widget-view+json": {
       "model_id": "",
       "version_major": 2,
       "version_minor": 0
      },
      "text/plain": [
       "HBox(children=(IntProgress(value=0, description='2nd loop', max=10, style=ProgressStyle(description_width='ini…"
      ]
     },
     "metadata": {},
     "output_type": "display_data"
    },
    {
     "data": {
      "application/vnd.jupyter.widget-view+json": {
       "model_id": "",
       "version_major": 2,
       "version_minor": 0
      },
      "text/plain": [
       "HBox(children=(IntProgress(value=0, description='2nd loop', max=10, style=ProgressStyle(description_width='ini…"
      ]
     },
     "metadata": {},
     "output_type": "display_data"
    },
    {
     "data": {
      "application/vnd.jupyter.widget-view+json": {
       "model_id": "",
       "version_major": 2,
       "version_minor": 0
      },
      "text/plain": [
       "HBox(children=(IntProgress(value=0, description='2nd loop', max=10, style=ProgressStyle(description_width='ini…"
      ]
     },
     "metadata": {},
     "output_type": "display_data"
    },
    {
     "data": {
      "application/vnd.jupyter.widget-view+json": {
       "model_id": "",
       "version_major": 2,
       "version_minor": 0
      },
      "text/plain": [
       "HBox(children=(IntProgress(value=0, description='2nd loop', max=10, style=ProgressStyle(description_width='ini…"
      ]
     },
     "metadata": {},
     "output_type": "display_data"
    },
    {
     "data": {
      "application/vnd.jupyter.widget-view+json": {
       "model_id": "",
       "version_major": 2,
       "version_minor": 0
      },
      "text/plain": [
       "HBox(children=(IntProgress(value=0, description='2nd loop', max=10, style=ProgressStyle(description_width='ini…"
      ]
     },
     "metadata": {},
     "output_type": "display_data"
    },
    {
     "data": {
      "application/vnd.jupyter.widget-view+json": {
       "model_id": "",
       "version_major": 2,
       "version_minor": 0
      },
      "text/plain": [
       "HBox(children=(IntProgress(value=0, description='2nd loop', max=10, style=ProgressStyle(description_width='ini…"
      ]
     },
     "metadata": {},
     "output_type": "display_data"
    },
    {
     "data": {
      "application/vnd.jupyter.widget-view+json": {
       "model_id": "",
       "version_major": 2,
       "version_minor": 0
      },
      "text/plain": [
       "HBox(children=(IntProgress(value=0, description='2nd loop', max=10, style=ProgressStyle(description_width='ini…"
      ]
     },
     "metadata": {},
     "output_type": "display_data"
    },
    {
     "data": {
      "application/vnd.jupyter.widget-view+json": {
       "model_id": "",
       "version_major": 2,
       "version_minor": 0
      },
      "text/plain": [
       "HBox(children=(IntProgress(value=0, description='2nd loop', max=10, style=ProgressStyle(description_width='ini…"
      ]
     },
     "metadata": {},
     "output_type": "display_data"
    },
    {
     "data": {
      "application/vnd.jupyter.widget-view+json": {
       "model_id": "",
       "version_major": 2,
       "version_minor": 0
      },
      "text/plain": [
       "HBox(children=(IntProgress(value=0, description='2nd loop', max=10, style=ProgressStyle(description_width='ini…"
      ]
     },
     "metadata": {},
     "output_type": "display_data"
    },
    {
     "data": {
      "application/vnd.jupyter.widget-view+json": {
       "model_id": "",
       "version_major": 2,
       "version_minor": 0
      },
      "text/plain": [
       "HBox(children=(IntProgress(value=0, description='2nd loop', max=10, style=ProgressStyle(description_width='ini…"
      ]
     },
     "metadata": {},
     "output_type": "display_data"
    },
    {
     "data": {
      "application/vnd.jupyter.widget-view+json": {
       "model_id": "",
       "version_major": 2,
       "version_minor": 0
      },
      "text/plain": [
       "HBox(children=(IntProgress(value=0, description='2nd loop', max=10, style=ProgressStyle(description_width='ini…"
      ]
     },
     "metadata": {},
     "output_type": "display_data"
    },
    {
     "data": {
      "application/vnd.jupyter.widget-view+json": {
       "model_id": "",
       "version_major": 2,
       "version_minor": 0
      },
      "text/plain": [
       "HBox(children=(IntProgress(value=0, description='2nd loop', max=10, style=ProgressStyle(description_width='ini…"
      ]
     },
     "metadata": {},
     "output_type": "display_data"
    },
    {
     "data": {
      "application/vnd.jupyter.widget-view+json": {
       "model_id": "",
       "version_major": 2,
       "version_minor": 0
      },
      "text/plain": [
       "HBox(children=(IntProgress(value=0, description='2nd loop', max=10, style=ProgressStyle(description_width='ini…"
      ]
     },
     "metadata": {},
     "output_type": "display_data"
    },
    {
     "data": {
      "application/vnd.jupyter.widget-view+json": {
       "model_id": "",
       "version_major": 2,
       "version_minor": 0
      },
      "text/plain": [
       "HBox(children=(IntProgress(value=0, description='2nd loop', max=10, style=ProgressStyle(description_width='ini…"
      ]
     },
     "metadata": {},
     "output_type": "display_data"
    },
    {
     "data": {
      "application/vnd.jupyter.widget-view+json": {
       "model_id": "",
       "version_major": 2,
       "version_minor": 0
      },
      "text/plain": [
       "HBox(children=(IntProgress(value=0, description='2nd loop', max=10, style=ProgressStyle(description_width='ini…"
      ]
     },
     "metadata": {},
     "output_type": "display_data"
    },
    {
     "data": {
      "application/vnd.jupyter.widget-view+json": {
       "model_id": "",
       "version_major": 2,
       "version_minor": 0
      },
      "text/plain": [
       "HBox(children=(IntProgress(value=0, description='2nd loop', max=10, style=ProgressStyle(description_width='ini…"
      ]
     },
     "metadata": {},
     "output_type": "display_data"
    },
    {
     "data": {
      "application/vnd.jupyter.widget-view+json": {
       "model_id": "",
       "version_major": 2,
       "version_minor": 0
      },
      "text/plain": [
       "HBox(children=(IntProgress(value=0, description='2nd loop', max=10, style=ProgressStyle(description_width='ini…"
      ]
     },
     "metadata": {},
     "output_type": "display_data"
    },
    {
     "data": {
      "application/vnd.jupyter.widget-view+json": {
       "model_id": "",
       "version_major": 2,
       "version_minor": 0
      },
      "text/plain": [
       "HBox(children=(IntProgress(value=0, description='2nd loop', max=10, style=ProgressStyle(description_width='ini…"
      ]
     },
     "metadata": {},
     "output_type": "display_data"
    },
    {
     "data": {
      "application/vnd.jupyter.widget-view+json": {
       "model_id": "",
       "version_major": 2,
       "version_minor": 0
      },
      "text/plain": [
       "HBox(children=(IntProgress(value=0, description='2nd loop', max=10, style=ProgressStyle(description_width='ini…"
      ]
     },
     "metadata": {},
     "output_type": "display_data"
    },
    {
     "data": {
      "application/vnd.jupyter.widget-view+json": {
       "model_id": "",
       "version_major": 2,
       "version_minor": 0
      },
      "text/plain": [
       "HBox(children=(IntProgress(value=0, description='2nd loop', max=10, style=ProgressStyle(description_width='ini…"
      ]
     },
     "metadata": {},
     "output_type": "display_data"
    },
    {
     "data": {
      "application/vnd.jupyter.widget-view+json": {
       "model_id": "",
       "version_major": 2,
       "version_minor": 0
      },
      "text/plain": [
       "HBox(children=(IntProgress(value=0, description='2nd loop', max=10, style=ProgressStyle(description_width='ini…"
      ]
     },
     "metadata": {},
     "output_type": "display_data"
    },
    {
     "data": {
      "application/vnd.jupyter.widget-view+json": {
       "model_id": "",
       "version_major": 2,
       "version_minor": 0
      },
      "text/plain": [
       "HBox(children=(IntProgress(value=0, description='2nd loop', max=10, style=ProgressStyle(description_width='ini…"
      ]
     },
     "metadata": {},
     "output_type": "display_data"
    },
    {
     "data": {
      "application/vnd.jupyter.widget-view+json": {
       "model_id": "",
       "version_major": 2,
       "version_minor": 0
      },
      "text/plain": [
       "HBox(children=(IntProgress(value=0, description='2nd loop', max=10, style=ProgressStyle(description_width='ini…"
      ]
     },
     "metadata": {},
     "output_type": "display_data"
    },
    {
     "data": {
      "application/vnd.jupyter.widget-view+json": {
       "model_id": "",
       "version_major": 2,
       "version_minor": 0
      },
      "text/plain": [
       "HBox(children=(IntProgress(value=0, description='2nd loop', max=10, style=ProgressStyle(description_width='ini…"
      ]
     },
     "metadata": {},
     "output_type": "display_data"
    },
    {
     "data": {
      "application/vnd.jupyter.widget-view+json": {
       "model_id": "",
       "version_major": 2,
       "version_minor": 0
      },
      "text/plain": [
       "HBox(children=(IntProgress(value=0, description='2nd loop', max=10, style=ProgressStyle(description_width='ini…"
      ]
     },
     "metadata": {},
     "output_type": "display_data"
    },
    {
     "data": {
      "application/vnd.jupyter.widget-view+json": {
       "model_id": "",
       "version_major": 2,
       "version_minor": 0
      },
      "text/plain": [
       "HBox(children=(IntProgress(value=0, description='2nd loop', max=10, style=ProgressStyle(description_width='ini…"
      ]
     },
     "metadata": {},
     "output_type": "display_data"
    },
    {
     "data": {
      "application/vnd.jupyter.widget-view+json": {
       "model_id": "",
       "version_major": 2,
       "version_minor": 0
      },
      "text/plain": [
       "HBox(children=(IntProgress(value=0, description='2nd loop', max=10, style=ProgressStyle(description_width='ini…"
      ]
     },
     "metadata": {},
     "output_type": "display_data"
    },
    {
     "data": {
      "application/vnd.jupyter.widget-view+json": {
       "model_id": "",
       "version_major": 2,
       "version_minor": 0
      },
      "text/plain": [
       "HBox(children=(IntProgress(value=0, description='2nd loop', max=10, style=ProgressStyle(description_width='ini…"
      ]
     },
     "metadata": {},
     "output_type": "display_data"
    },
    {
     "data": {
      "application/vnd.jupyter.widget-view+json": {
       "model_id": "",
       "version_major": 2,
       "version_minor": 0
      },
      "text/plain": [
       "HBox(children=(IntProgress(value=0, description='2nd loop', max=10, style=ProgressStyle(description_width='ini…"
      ]
     },
     "metadata": {},
     "output_type": "display_data"
    },
    {
     "data": {
      "application/vnd.jupyter.widget-view+json": {
       "model_id": "",
       "version_major": 2,
       "version_minor": 0
      },
      "text/plain": [
       "HBox(children=(IntProgress(value=0, description='2nd loop', max=10, style=ProgressStyle(description_width='ini…"
      ]
     },
     "metadata": {},
     "output_type": "display_data"
    },
    {
     "data": {
      "application/vnd.jupyter.widget-view+json": {
       "model_id": "",
       "version_major": 2,
       "version_minor": 0
      },
      "text/plain": [
       "HBox(children=(IntProgress(value=0, description='2nd loop', max=10, style=ProgressStyle(description_width='ini…"
      ]
     },
     "metadata": {},
     "output_type": "display_data"
    },
    {
     "data": {
      "application/vnd.jupyter.widget-view+json": {
       "model_id": "",
       "version_major": 2,
       "version_minor": 0
      },
      "text/plain": [
       "HBox(children=(IntProgress(value=0, description='2nd loop', max=10, style=ProgressStyle(description_width='ini…"
      ]
     },
     "metadata": {},
     "output_type": "display_data"
    },
    {
     "data": {
      "application/vnd.jupyter.widget-view+json": {
       "model_id": "",
       "version_major": 2,
       "version_minor": 0
      },
      "text/plain": [
       "HBox(children=(IntProgress(value=0, description='2nd loop', max=10, style=ProgressStyle(description_width='ini…"
      ]
     },
     "metadata": {},
     "output_type": "display_data"
    },
    {
     "data": {
      "application/vnd.jupyter.widget-view+json": {
       "model_id": "",
       "version_major": 2,
       "version_minor": 0
      },
      "text/plain": [
       "HBox(children=(IntProgress(value=0, description='2nd loop', max=10, style=ProgressStyle(description_width='ini…"
      ]
     },
     "metadata": {},
     "output_type": "display_data"
    },
    {
     "data": {
      "application/vnd.jupyter.widget-view+json": {
       "model_id": "",
       "version_major": 2,
       "version_minor": 0
      },
      "text/plain": [
       "HBox(children=(IntProgress(value=0, description='2nd loop', max=10, style=ProgressStyle(description_width='ini…"
      ]
     },
     "metadata": {},
     "output_type": "display_data"
    },
    {
     "data": {
      "application/vnd.jupyter.widget-view+json": {
       "model_id": "",
       "version_major": 2,
       "version_minor": 0
      },
      "text/plain": [
       "HBox(children=(IntProgress(value=0, description='2nd loop', max=10, style=ProgressStyle(description_width='ini…"
      ]
     },
     "metadata": {},
     "output_type": "display_data"
    },
    {
     "data": {
      "application/vnd.jupyter.widget-view+json": {
       "model_id": "",
       "version_major": 2,
       "version_minor": 0
      },
      "text/plain": [
       "HBox(children=(IntProgress(value=0, description='2nd loop', max=10, style=ProgressStyle(description_width='ini…"
      ]
     },
     "metadata": {},
     "output_type": "display_data"
    },
    {
     "data": {
      "application/vnd.jupyter.widget-view+json": {
       "model_id": "",
       "version_major": 2,
       "version_minor": 0
      },
      "text/plain": [
       "HBox(children=(IntProgress(value=0, description='2nd loop', max=10, style=ProgressStyle(description_width='ini…"
      ]
     },
     "metadata": {},
     "output_type": "display_data"
    },
    {
     "data": {
      "application/vnd.jupyter.widget-view+json": {
       "model_id": "",
       "version_major": 2,
       "version_minor": 0
      },
      "text/plain": [
       "HBox(children=(IntProgress(value=0, description='2nd loop', max=10, style=ProgressStyle(description_width='ini…"
      ]
     },
     "metadata": {},
     "output_type": "display_data"
    },
    {
     "data": {
      "application/vnd.jupyter.widget-view+json": {
       "model_id": "",
       "version_major": 2,
       "version_minor": 0
      },
      "text/plain": [
       "HBox(children=(IntProgress(value=0, description='2nd loop', max=10, style=ProgressStyle(description_width='ini…"
      ]
     },
     "metadata": {},
     "output_type": "display_data"
    },
    {
     "data": {
      "application/vnd.jupyter.widget-view+json": {
       "model_id": "",
       "version_major": 2,
       "version_minor": 0
      },
      "text/plain": [
       "HBox(children=(IntProgress(value=0, description='2nd loop', max=10, style=ProgressStyle(description_width='ini…"
      ]
     },
     "metadata": {},
     "output_type": "display_data"
    },
    {
     "data": {
      "application/vnd.jupyter.widget-view+json": {
       "model_id": "",
       "version_major": 2,
       "version_minor": 0
      },
      "text/plain": [
       "HBox(children=(IntProgress(value=0, description='2nd loop', max=10, style=ProgressStyle(description_width='ini…"
      ]
     },
     "metadata": {},
     "output_type": "display_data"
    },
    {
     "data": {
      "application/vnd.jupyter.widget-view+json": {
       "model_id": "",
       "version_major": 2,
       "version_minor": 0
      },
      "text/plain": [
       "HBox(children=(IntProgress(value=0, description='2nd loop', max=10, style=ProgressStyle(description_width='ini…"
      ]
     },
     "metadata": {},
     "output_type": "display_data"
    },
    {
     "data": {
      "application/vnd.jupyter.widget-view+json": {
       "model_id": "",
       "version_major": 2,
       "version_minor": 0
      },
      "text/plain": [
       "HBox(children=(IntProgress(value=0, description='2nd loop', max=10, style=ProgressStyle(description_width='ini…"
      ]
     },
     "metadata": {},
     "output_type": "display_data"
    },
    {
     "data": {
      "application/vnd.jupyter.widget-view+json": {
       "model_id": "",
       "version_major": 2,
       "version_minor": 0
      },
      "text/plain": [
       "HBox(children=(IntProgress(value=0, description='2nd loop', max=10, style=ProgressStyle(description_width='ini…"
      ]
     },
     "metadata": {},
     "output_type": "display_data"
    },
    {
     "data": {
      "application/vnd.jupyter.widget-view+json": {
       "model_id": "",
       "version_major": 2,
       "version_minor": 0
      },
      "text/plain": [
       "HBox(children=(IntProgress(value=0, description='2nd loop', max=10, style=ProgressStyle(description_width='ini…"
      ]
     },
     "metadata": {},
     "output_type": "display_data"
    },
    {
     "data": {
      "application/vnd.jupyter.widget-view+json": {
       "model_id": "",
       "version_major": 2,
       "version_minor": 0
      },
      "text/plain": [
       "HBox(children=(IntProgress(value=0, description='2nd loop', max=10, style=ProgressStyle(description_width='ini…"
      ]
     },
     "metadata": {},
     "output_type": "display_data"
    },
    {
     "data": {
      "application/vnd.jupyter.widget-view+json": {
       "model_id": "",
       "version_major": 2,
       "version_minor": 0
      },
      "text/plain": [
       "HBox(children=(IntProgress(value=0, description='2nd loop', max=10, style=ProgressStyle(description_width='ini…"
      ]
     },
     "metadata": {},
     "output_type": "display_data"
    },
    {
     "data": {
      "application/vnd.jupyter.widget-view+json": {
       "model_id": "",
       "version_major": 2,
       "version_minor": 0
      },
      "text/plain": [
       "HBox(children=(IntProgress(value=0, description='2nd loop', max=10, style=ProgressStyle(description_width='ini…"
      ]
     },
     "metadata": {},
     "output_type": "display_data"
    },
    {
     "data": {
      "application/vnd.jupyter.widget-view+json": {
       "model_id": "",
       "version_major": 2,
       "version_minor": 0
      },
      "text/plain": [
       "HBox(children=(IntProgress(value=0, description='2nd loop', max=10, style=ProgressStyle(description_width='ini…"
      ]
     },
     "metadata": {},
     "output_type": "display_data"
    },
    {
     "data": {
      "application/vnd.jupyter.widget-view+json": {
       "model_id": "",
       "version_major": 2,
       "version_minor": 0
      },
      "text/plain": [
       "HBox(children=(IntProgress(value=0, description='2nd loop', max=10, style=ProgressStyle(description_width='ini…"
      ]
     },
     "metadata": {},
     "output_type": "display_data"
    },
    {
     "data": {
      "application/vnd.jupyter.widget-view+json": {
       "model_id": "",
       "version_major": 2,
       "version_minor": 0
      },
      "text/plain": [
       "HBox(children=(IntProgress(value=0, description='2nd loop', max=10, style=ProgressStyle(description_width='ini…"
      ]
     },
     "metadata": {},
     "output_type": "display_data"
    },
    {
     "data": {
      "application/vnd.jupyter.widget-view+json": {
       "model_id": "",
       "version_major": 2,
       "version_minor": 0
      },
      "text/plain": [
       "HBox(children=(IntProgress(value=0, description='2nd loop', max=10, style=ProgressStyle(description_width='ini…"
      ]
     },
     "metadata": {},
     "output_type": "display_data"
    },
    {
     "data": {
      "application/vnd.jupyter.widget-view+json": {
       "model_id": "",
       "version_major": 2,
       "version_minor": 0
      },
      "text/plain": [
       "HBox(children=(IntProgress(value=0, description='2nd loop', max=10, style=ProgressStyle(description_width='ini…"
      ]
     },
     "metadata": {},
     "output_type": "display_data"
    },
    {
     "data": {
      "application/vnd.jupyter.widget-view+json": {
       "model_id": "",
       "version_major": 2,
       "version_minor": 0
      },
      "text/plain": [
       "HBox(children=(IntProgress(value=0, description='2nd loop', max=10, style=ProgressStyle(description_width='ini…"
      ]
     },
     "metadata": {},
     "output_type": "display_data"
    },
    {
     "data": {
      "application/vnd.jupyter.widget-view+json": {
       "model_id": "",
       "version_major": 2,
       "version_minor": 0
      },
      "text/plain": [
       "HBox(children=(IntProgress(value=0, description='2nd loop', max=10, style=ProgressStyle(description_width='ini…"
      ]
     },
     "metadata": {},
     "output_type": "display_data"
    },
    {
     "data": {
      "application/vnd.jupyter.widget-view+json": {
       "model_id": "",
       "version_major": 2,
       "version_minor": 0
      },
      "text/plain": [
       "HBox(children=(IntProgress(value=0, description='2nd loop', max=10, style=ProgressStyle(description_width='ini…"
      ]
     },
     "metadata": {},
     "output_type": "display_data"
    },
    {
     "data": {
      "application/vnd.jupyter.widget-view+json": {
       "model_id": "",
       "version_major": 2,
       "version_minor": 0
      },
      "text/plain": [
       "HBox(children=(IntProgress(value=0, description='2nd loop', max=10, style=ProgressStyle(description_width='ini…"
      ]
     },
     "metadata": {},
     "output_type": "display_data"
    },
    {
     "data": {
      "application/vnd.jupyter.widget-view+json": {
       "model_id": "",
       "version_major": 2,
       "version_minor": 0
      },
      "text/plain": [
       "HBox(children=(IntProgress(value=0, description='2nd loop', max=10, style=ProgressStyle(description_width='ini…"
      ]
     },
     "metadata": {},
     "output_type": "display_data"
    },
    {
     "data": {
      "application/vnd.jupyter.widget-view+json": {
       "model_id": "",
       "version_major": 2,
       "version_minor": 0
      },
      "text/plain": [
       "HBox(children=(IntProgress(value=0, description='2nd loop', max=10, style=ProgressStyle(description_width='ini…"
      ]
     },
     "metadata": {},
     "output_type": "display_data"
    },
    {
     "data": {
      "application/vnd.jupyter.widget-view+json": {
       "model_id": "",
       "version_major": 2,
       "version_minor": 0
      },
      "text/plain": [
       "HBox(children=(IntProgress(value=0, description='2nd loop', max=10, style=ProgressStyle(description_width='ini…"
      ]
     },
     "metadata": {},
     "output_type": "display_data"
    },
    {
     "data": {
      "application/vnd.jupyter.widget-view+json": {
       "model_id": "",
       "version_major": 2,
       "version_minor": 0
      },
      "text/plain": [
       "HBox(children=(IntProgress(value=0, description='2nd loop', max=10, style=ProgressStyle(description_width='ini…"
      ]
     },
     "metadata": {},
     "output_type": "display_data"
    },
    {
     "data": {
      "application/vnd.jupyter.widget-view+json": {
       "model_id": "",
       "version_major": 2,
       "version_minor": 0
      },
      "text/plain": [
       "HBox(children=(IntProgress(value=0, description='2nd loop', max=10, style=ProgressStyle(description_width='ini…"
      ]
     },
     "metadata": {},
     "output_type": "display_data"
    },
    {
     "data": {
      "application/vnd.jupyter.widget-view+json": {
       "model_id": "",
       "version_major": 2,
       "version_minor": 0
      },
      "text/plain": [
       "HBox(children=(IntProgress(value=0, description='2nd loop', max=10, style=ProgressStyle(description_width='ini…"
      ]
     },
     "metadata": {},
     "output_type": "display_data"
    },
    {
     "data": {
      "application/vnd.jupyter.widget-view+json": {
       "model_id": "",
       "version_major": 2,
       "version_minor": 0
      },
      "text/plain": [
       "HBox(children=(IntProgress(value=0, description='2nd loop', max=10, style=ProgressStyle(description_width='ini…"
      ]
     },
     "metadata": {},
     "output_type": "display_data"
    },
    {
     "data": {
      "application/vnd.jupyter.widget-view+json": {
       "model_id": "",
       "version_major": 2,
       "version_minor": 0
      },
      "text/plain": [
       "HBox(children=(IntProgress(value=0, description='2nd loop', max=10, style=ProgressStyle(description_width='ini…"
      ]
     },
     "metadata": {},
     "output_type": "display_data"
    },
    {
     "data": {
      "application/vnd.jupyter.widget-view+json": {
       "model_id": "",
       "version_major": 2,
       "version_minor": 0
      },
      "text/plain": [
       "HBox(children=(IntProgress(value=0, description='2nd loop', max=10, style=ProgressStyle(description_width='ini…"
      ]
     },
     "metadata": {},
     "output_type": "display_data"
    },
    {
     "data": {
      "application/vnd.jupyter.widget-view+json": {
       "model_id": "",
       "version_major": 2,
       "version_minor": 0
      },
      "text/plain": [
       "HBox(children=(IntProgress(value=0, description='2nd loop', max=10, style=ProgressStyle(description_width='ini…"
      ]
     },
     "metadata": {},
     "output_type": "display_data"
    },
    {
     "data": {
      "application/vnd.jupyter.widget-view+json": {
       "model_id": "",
       "version_major": 2,
       "version_minor": 0
      },
      "text/plain": [
       "HBox(children=(IntProgress(value=0, description='2nd loop', max=10, style=ProgressStyle(description_width='ini…"
      ]
     },
     "metadata": {},
     "output_type": "display_data"
    },
    {
     "data": {
      "application/vnd.jupyter.widget-view+json": {
       "model_id": "",
       "version_major": 2,
       "version_minor": 0
      },
      "text/plain": [
       "HBox(children=(IntProgress(value=0, description='2nd loop', max=10, style=ProgressStyle(description_width='ini…"
      ]
     },
     "metadata": {},
     "output_type": "display_data"
    },
    {
     "data": {
      "application/vnd.jupyter.widget-view+json": {
       "model_id": "",
       "version_major": 2,
       "version_minor": 0
      },
      "text/plain": [
       "HBox(children=(IntProgress(value=0, description='2nd loop', max=10, style=ProgressStyle(description_width='ini…"
      ]
     },
     "metadata": {},
     "output_type": "display_data"
    },
    {
     "data": {
      "application/vnd.jupyter.widget-view+json": {
       "model_id": "",
       "version_major": 2,
       "version_minor": 0
      },
      "text/plain": [
       "HBox(children=(IntProgress(value=0, description='2nd loop', max=10, style=ProgressStyle(description_width='ini…"
      ]
     },
     "metadata": {},
     "output_type": "display_data"
    },
    {
     "data": {
      "application/vnd.jupyter.widget-view+json": {
       "model_id": "",
       "version_major": 2,
       "version_minor": 0
      },
      "text/plain": [
       "HBox(children=(IntProgress(value=0, description='2nd loop', max=10, style=ProgressStyle(description_width='ini…"
      ]
     },
     "metadata": {},
     "output_type": "display_data"
    },
    {
     "data": {
      "application/vnd.jupyter.widget-view+json": {
       "model_id": "",
       "version_major": 2,
       "version_minor": 0
      },
      "text/plain": [
       "HBox(children=(IntProgress(value=0, description='2nd loop', max=10, style=ProgressStyle(description_width='ini…"
      ]
     },
     "metadata": {},
     "output_type": "display_data"
    },
    {
     "data": {
      "application/vnd.jupyter.widget-view+json": {
       "model_id": "",
       "version_major": 2,
       "version_minor": 0
      },
      "text/plain": [
       "HBox(children=(IntProgress(value=0, description='2nd loop', max=10, style=ProgressStyle(description_width='ini…"
      ]
     },
     "metadata": {},
     "output_type": "display_data"
    },
    {
     "data": {
      "application/vnd.jupyter.widget-view+json": {
       "model_id": "",
       "version_major": 2,
       "version_minor": 0
      },
      "text/plain": [
       "HBox(children=(IntProgress(value=0, description='2nd loop', max=10, style=ProgressStyle(description_width='ini…"
      ]
     },
     "metadata": {},
     "output_type": "display_data"
    },
    {
     "data": {
      "application/vnd.jupyter.widget-view+json": {
       "model_id": "",
       "version_major": 2,
       "version_minor": 0
      },
      "text/plain": [
       "HBox(children=(IntProgress(value=0, description='2nd loop', max=10, style=ProgressStyle(description_width='ini…"
      ]
     },
     "metadata": {},
     "output_type": "display_data"
    },
    {
     "data": {
      "application/vnd.jupyter.widget-view+json": {
       "model_id": "",
       "version_major": 2,
       "version_minor": 0
      },
      "text/plain": [
       "HBox(children=(IntProgress(value=0, description='2nd loop', max=10, style=ProgressStyle(description_width='ini…"
      ]
     },
     "metadata": {},
     "output_type": "display_data"
    },
    {
     "data": {
      "application/vnd.jupyter.widget-view+json": {
       "model_id": "",
       "version_major": 2,
       "version_minor": 0
      },
      "text/plain": [
       "HBox(children=(IntProgress(value=0, description='2nd loop', max=10, style=ProgressStyle(description_width='ini…"
      ]
     },
     "metadata": {},
     "output_type": "display_data"
    },
    {
     "data": {
      "application/vnd.jupyter.widget-view+json": {
       "model_id": "",
       "version_major": 2,
       "version_minor": 0
      },
      "text/plain": [
       "HBox(children=(IntProgress(value=0, description='2nd loop', max=10, style=ProgressStyle(description_width='ini…"
      ]
     },
     "metadata": {},
     "output_type": "display_data"
    },
    {
     "data": {
      "application/vnd.jupyter.widget-view+json": {
       "model_id": "",
       "version_major": 2,
       "version_minor": 0
      },
      "text/plain": [
       "HBox(children=(IntProgress(value=0, description='2nd loop', max=10, style=ProgressStyle(description_width='ini…"
      ]
     },
     "metadata": {},
     "output_type": "display_data"
    },
    {
     "data": {
      "application/vnd.jupyter.widget-view+json": {
       "model_id": "",
       "version_major": 2,
       "version_minor": 0
      },
      "text/plain": [
       "HBox(children=(IntProgress(value=0, description='2nd loop', max=10, style=ProgressStyle(description_width='ini…"
      ]
     },
     "metadata": {},
     "output_type": "display_data"
    },
    {
     "data": {
      "application/vnd.jupyter.widget-view+json": {
       "model_id": "",
       "version_major": 2,
       "version_minor": 0
      },
      "text/plain": [
       "HBox(children=(IntProgress(value=0, description='2nd loop', max=10, style=ProgressStyle(description_width='ini…"
      ]
     },
     "metadata": {},
     "output_type": "display_data"
    },
    {
     "data": {
      "application/vnd.jupyter.widget-view+json": {
       "model_id": "",
       "version_major": 2,
       "version_minor": 0
      },
      "text/plain": [
       "HBox(children=(IntProgress(value=0, description='2nd loop', max=10, style=ProgressStyle(description_width='ini…"
      ]
     },
     "metadata": {},
     "output_type": "display_data"
    },
    {
     "data": {
      "application/vnd.jupyter.widget-view+json": {
       "model_id": "",
       "version_major": 2,
       "version_minor": 0
      },
      "text/plain": [
       "HBox(children=(IntProgress(value=0, description='2nd loop', max=10, style=ProgressStyle(description_width='ini…"
      ]
     },
     "metadata": {},
     "output_type": "display_data"
    },
    {
     "data": {
      "application/vnd.jupyter.widget-view+json": {
       "model_id": "",
       "version_major": 2,
       "version_minor": 0
      },
      "text/plain": [
       "HBox(children=(IntProgress(value=0, description='2nd loop', max=10, style=ProgressStyle(description_width='ini…"
      ]
     },
     "metadata": {},
     "output_type": "display_data"
    },
    {
     "data": {
      "application/vnd.jupyter.widget-view+json": {
       "model_id": "",
       "version_major": 2,
       "version_minor": 0
      },
      "text/plain": [
       "HBox(children=(IntProgress(value=0, description='2nd loop', max=10, style=ProgressStyle(description_width='ini…"
      ]
     },
     "metadata": {},
     "output_type": "display_data"
    },
    {
     "data": {
      "application/vnd.jupyter.widget-view+json": {
       "model_id": "",
       "version_major": 2,
       "version_minor": 0
      },
      "text/plain": [
       "HBox(children=(IntProgress(value=0, description='2nd loop', max=10, style=ProgressStyle(description_width='ini…"
      ]
     },
     "metadata": {},
     "output_type": "display_data"
    },
    {
     "data": {
      "application/vnd.jupyter.widget-view+json": {
       "model_id": "",
       "version_major": 2,
       "version_minor": 0
      },
      "text/plain": [
       "HBox(children=(IntProgress(value=0, description='2nd loop', max=10, style=ProgressStyle(description_width='ini…"
      ]
     },
     "metadata": {},
     "output_type": "display_data"
    },
    {
     "data": {
      "application/vnd.jupyter.widget-view+json": {
       "model_id": "",
       "version_major": 2,
       "version_minor": 0
      },
      "text/plain": [
       "HBox(children=(IntProgress(value=0, description='2nd loop', max=10, style=ProgressStyle(description_width='ini…"
      ]
     },
     "metadata": {},
     "output_type": "display_data"
    },
    {
     "data": {
      "application/vnd.jupyter.widget-view+json": {
       "model_id": "",
       "version_major": 2,
       "version_minor": 0
      },
      "text/plain": [
       "HBox(children=(IntProgress(value=0, description='2nd loop', max=10, style=ProgressStyle(description_width='ini…"
      ]
     },
     "metadata": {},
     "output_type": "display_data"
    },
    {
     "data": {
      "application/vnd.jupyter.widget-view+json": {
       "model_id": "",
       "version_major": 2,
       "version_minor": 0
      },
      "text/plain": [
       "HBox(children=(IntProgress(value=0, description='2nd loop', max=10, style=ProgressStyle(description_width='ini…"
      ]
     },
     "metadata": {},
     "output_type": "display_data"
    },
    {
     "data": {
      "application/vnd.jupyter.widget-view+json": {
       "model_id": "",
       "version_major": 2,
       "version_minor": 0
      },
      "text/plain": [
       "HBox(children=(IntProgress(value=0, description='2nd loop', max=10, style=ProgressStyle(description_width='ini…"
      ]
     },
     "metadata": {},
     "output_type": "display_data"
    },
    {
     "data": {
      "application/vnd.jupyter.widget-view+json": {
       "model_id": "",
       "version_major": 2,
       "version_minor": 0
      },
      "text/plain": [
       "HBox(children=(IntProgress(value=0, description='2nd loop', max=10, style=ProgressStyle(description_width='ini…"
      ]
     },
     "metadata": {},
     "output_type": "display_data"
    },
    {
     "data": {
      "application/vnd.jupyter.widget-view+json": {
       "model_id": "",
       "version_major": 2,
       "version_minor": 0
      },
      "text/plain": [
       "HBox(children=(IntProgress(value=0, description='2nd loop', max=10, style=ProgressStyle(description_width='ini…"
      ]
     },
     "metadata": {},
     "output_type": "display_data"
    },
    {
     "data": {
      "application/vnd.jupyter.widget-view+json": {
       "model_id": "",
       "version_major": 2,
       "version_minor": 0
      },
      "text/plain": [
       "HBox(children=(IntProgress(value=0, description='2nd loop', max=10, style=ProgressStyle(description_width='ini…"
      ]
     },
     "metadata": {},
     "output_type": "display_data"
    },
    {
     "data": {
      "application/vnd.jupyter.widget-view+json": {
       "model_id": "",
       "version_major": 2,
       "version_minor": 0
      },
      "text/plain": [
       "HBox(children=(IntProgress(value=0, description='2nd loop', max=10, style=ProgressStyle(description_width='ini…"
      ]
     },
     "metadata": {},
     "output_type": "display_data"
    },
    {
     "data": {
      "application/vnd.jupyter.widget-view+json": {
       "model_id": "",
       "version_major": 2,
       "version_minor": 0
      },
      "text/plain": [
       "HBox(children=(IntProgress(value=0, description='2nd loop', max=10, style=ProgressStyle(description_width='ini…"
      ]
     },
     "metadata": {},
     "output_type": "display_data"
    },
    {
     "data": {
      "application/vnd.jupyter.widget-view+json": {
       "model_id": "",
       "version_major": 2,
       "version_minor": 0
      },
      "text/plain": [
       "HBox(children=(IntProgress(value=0, description='2nd loop', max=10, style=ProgressStyle(description_width='ini…"
      ]
     },
     "metadata": {},
     "output_type": "display_data"
    },
    {
     "data": {
      "application/vnd.jupyter.widget-view+json": {
       "model_id": "",
       "version_major": 2,
       "version_minor": 0
      },
      "text/plain": [
       "HBox(children=(IntProgress(value=0, description='2nd loop', max=10, style=ProgressStyle(description_width='ini…"
      ]
     },
     "metadata": {},
     "output_type": "display_data"
    },
    {
     "data": {
      "application/vnd.jupyter.widget-view+json": {
       "model_id": "",
       "version_major": 2,
       "version_minor": 0
      },
      "text/plain": [
       "HBox(children=(IntProgress(value=0, description='2nd loop', max=10, style=ProgressStyle(description_width='ini…"
      ]
     },
     "metadata": {},
     "output_type": "display_data"
    },
    {
     "data": {
      "application/vnd.jupyter.widget-view+json": {
       "model_id": "",
       "version_major": 2,
       "version_minor": 0
      },
      "text/plain": [
       "HBox(children=(IntProgress(value=0, description='2nd loop', max=10, style=ProgressStyle(description_width='ini…"
      ]
     },
     "metadata": {},
     "output_type": "display_data"
    },
    {
     "data": {
      "application/vnd.jupyter.widget-view+json": {
       "model_id": "",
       "version_major": 2,
       "version_minor": 0
      },
      "text/plain": [
       "HBox(children=(IntProgress(value=0, description='2nd loop', max=10, style=ProgressStyle(description_width='ini…"
      ]
     },
     "metadata": {},
     "output_type": "display_data"
    },
    {
     "data": {
      "application/vnd.jupyter.widget-view+json": {
       "model_id": "",
       "version_major": 2,
       "version_minor": 0
      },
      "text/plain": [
       "HBox(children=(IntProgress(value=0, description='2nd loop', max=10, style=ProgressStyle(description_width='ini…"
      ]
     },
     "metadata": {},
     "output_type": "display_data"
    },
    {
     "data": {
      "application/vnd.jupyter.widget-view+json": {
       "model_id": "",
       "version_major": 2,
       "version_minor": 0
      },
      "text/plain": [
       "HBox(children=(IntProgress(value=0, description='2nd loop', max=10, style=ProgressStyle(description_width='ini…"
      ]
     },
     "metadata": {},
     "output_type": "display_data"
    },
    {
     "data": {
      "application/vnd.jupyter.widget-view+json": {
       "model_id": "",
       "version_major": 2,
       "version_minor": 0
      },
      "text/plain": [
       "HBox(children=(IntProgress(value=0, description='2nd loop', max=10, style=ProgressStyle(description_width='ini…"
      ]
     },
     "metadata": {},
     "output_type": "display_data"
    },
    {
     "data": {
      "application/vnd.jupyter.widget-view+json": {
       "model_id": "",
       "version_major": 2,
       "version_minor": 0
      },
      "text/plain": [
       "HBox(children=(IntProgress(value=0, description='2nd loop', max=10, style=ProgressStyle(description_width='ini…"
      ]
     },
     "metadata": {},
     "output_type": "display_data"
    },
    {
     "data": {
      "application/vnd.jupyter.widget-view+json": {
       "model_id": "",
       "version_major": 2,
       "version_minor": 0
      },
      "text/plain": [
       "HBox(children=(IntProgress(value=0, description='2nd loop', max=10, style=ProgressStyle(description_width='ini…"
      ]
     },
     "metadata": {},
     "output_type": "display_data"
    },
    {
     "data": {
      "application/vnd.jupyter.widget-view+json": {
       "model_id": "",
       "version_major": 2,
       "version_minor": 0
      },
      "text/plain": [
       "HBox(children=(IntProgress(value=0, description='2nd loop', max=10, style=ProgressStyle(description_width='ini…"
      ]
     },
     "metadata": {},
     "output_type": "display_data"
    },
    {
     "data": {
      "application/vnd.jupyter.widget-view+json": {
       "model_id": "",
       "version_major": 2,
       "version_minor": 0
      },
      "text/plain": [
       "HBox(children=(IntProgress(value=0, description='2nd loop', max=10, style=ProgressStyle(description_width='ini…"
      ]
     },
     "metadata": {},
     "output_type": "display_data"
    },
    {
     "data": {
      "application/vnd.jupyter.widget-view+json": {
       "model_id": "",
       "version_major": 2,
       "version_minor": 0
      },
      "text/plain": [
       "HBox(children=(IntProgress(value=0, description='2nd loop', max=10, style=ProgressStyle(description_width='ini…"
      ]
     },
     "metadata": {},
     "output_type": "display_data"
    },
    {
     "data": {
      "application/vnd.jupyter.widget-view+json": {
       "model_id": "",
       "version_major": 2,
       "version_minor": 0
      },
      "text/plain": [
       "HBox(children=(IntProgress(value=0, description='2nd loop', max=10, style=ProgressStyle(description_width='ini…"
      ]
     },
     "metadata": {},
     "output_type": "display_data"
    },
    {
     "data": {
      "application/vnd.jupyter.widget-view+json": {
       "model_id": "",
       "version_major": 2,
       "version_minor": 0
      },
      "text/plain": [
       "HBox(children=(IntProgress(value=0, description='2nd loop', max=10, style=ProgressStyle(description_width='ini…"
      ]
     },
     "metadata": {},
     "output_type": "display_data"
    },
    {
     "data": {
      "application/vnd.jupyter.widget-view+json": {
       "model_id": "",
       "version_major": 2,
       "version_minor": 0
      },
      "text/plain": [
       "HBox(children=(IntProgress(value=0, description='2nd loop', max=10, style=ProgressStyle(description_width='ini…"
      ]
     },
     "metadata": {},
     "output_type": "display_data"
    },
    {
     "data": {
      "application/vnd.jupyter.widget-view+json": {
       "model_id": "",
       "version_major": 2,
       "version_minor": 0
      },
      "text/plain": [
       "HBox(children=(IntProgress(value=0, description='2nd loop', max=10, style=ProgressStyle(description_width='ini…"
      ]
     },
     "metadata": {},
     "output_type": "display_data"
    },
    {
     "data": {
      "application/vnd.jupyter.widget-view+json": {
       "model_id": "",
       "version_major": 2,
       "version_minor": 0
      },
      "text/plain": [
       "HBox(children=(IntProgress(value=0, description='2nd loop', max=10, style=ProgressStyle(description_width='ini…"
      ]
     },
     "metadata": {},
     "output_type": "display_data"
    },
    {
     "data": {
      "application/vnd.jupyter.widget-view+json": {
       "model_id": "",
       "version_major": 2,
       "version_minor": 0
      },
      "text/plain": [
       "HBox(children=(IntProgress(value=0, description='2nd loop', max=10, style=ProgressStyle(description_width='ini…"
      ]
     },
     "metadata": {},
     "output_type": "display_data"
    },
    {
     "data": {
      "application/vnd.jupyter.widget-view+json": {
       "model_id": "",
       "version_major": 2,
       "version_minor": 0
      },
      "text/plain": [
       "HBox(children=(IntProgress(value=0, description='2nd loop', max=10, style=ProgressStyle(description_width='ini…"
      ]
     },
     "metadata": {},
     "output_type": "display_data"
    },
    {
     "data": {
      "application/vnd.jupyter.widget-view+json": {
       "model_id": "",
       "version_major": 2,
       "version_minor": 0
      },
      "text/plain": [
       "HBox(children=(IntProgress(value=0, description='2nd loop', max=10, style=ProgressStyle(description_width='ini…"
      ]
     },
     "metadata": {},
     "output_type": "display_data"
    },
    {
     "data": {
      "application/vnd.jupyter.widget-view+json": {
       "model_id": "",
       "version_major": 2,
       "version_minor": 0
      },
      "text/plain": [
       "HBox(children=(IntProgress(value=0, description='2nd loop', max=10, style=ProgressStyle(description_width='ini…"
      ]
     },
     "metadata": {},
     "output_type": "display_data"
    },
    {
     "data": {
      "application/vnd.jupyter.widget-view+json": {
       "model_id": "",
       "version_major": 2,
       "version_minor": 0
      },
      "text/plain": [
       "HBox(children=(IntProgress(value=0, description='2nd loop', max=10, style=ProgressStyle(description_width='ini…"
      ]
     },
     "metadata": {},
     "output_type": "display_data"
    },
    {
     "data": {
      "application/vnd.jupyter.widget-view+json": {
       "model_id": "",
       "version_major": 2,
       "version_minor": 0
      },
      "text/plain": [
       "HBox(children=(IntProgress(value=0, description='2nd loop', max=10, style=ProgressStyle(description_width='ini…"
      ]
     },
     "metadata": {},
     "output_type": "display_data"
    },
    {
     "data": {
      "application/vnd.jupyter.widget-view+json": {
       "model_id": "",
       "version_major": 2,
       "version_minor": 0
      },
      "text/plain": [
       "HBox(children=(IntProgress(value=0, description='2nd loop', max=10, style=ProgressStyle(description_width='ini…"
      ]
     },
     "metadata": {},
     "output_type": "display_data"
    },
    {
     "data": {
      "application/vnd.jupyter.widget-view+json": {
       "model_id": "",
       "version_major": 2,
       "version_minor": 0
      },
      "text/plain": [
       "HBox(children=(IntProgress(value=0, description='2nd loop', max=10, style=ProgressStyle(description_width='ini…"
      ]
     },
     "metadata": {},
     "output_type": "display_data"
    },
    {
     "data": {
      "application/vnd.jupyter.widget-view+json": {
       "model_id": "",
       "version_major": 2,
       "version_minor": 0
      },
      "text/plain": [
       "HBox(children=(IntProgress(value=0, description='2nd loop', max=10, style=ProgressStyle(description_width='ini…"
      ]
     },
     "metadata": {},
     "output_type": "display_data"
    },
    {
     "data": {
      "application/vnd.jupyter.widget-view+json": {
       "model_id": "",
       "version_major": 2,
       "version_minor": 0
      },
      "text/plain": [
       "HBox(children=(IntProgress(value=0, description='2nd loop', max=10, style=ProgressStyle(description_width='ini…"
      ]
     },
     "metadata": {},
     "output_type": "display_data"
    },
    {
     "data": {
      "application/vnd.jupyter.widget-view+json": {
       "model_id": "",
       "version_major": 2,
       "version_minor": 0
      },
      "text/plain": [
       "HBox(children=(IntProgress(value=0, description='2nd loop', max=10, style=ProgressStyle(description_width='ini…"
      ]
     },
     "metadata": {},
     "output_type": "display_data"
    },
    {
     "data": {
      "application/vnd.jupyter.widget-view+json": {
       "model_id": "",
       "version_major": 2,
       "version_minor": 0
      },
      "text/plain": [
       "HBox(children=(IntProgress(value=0, description='2nd loop', max=10, style=ProgressStyle(description_width='ini…"
      ]
     },
     "metadata": {},
     "output_type": "display_data"
    },
    {
     "data": {
      "application/vnd.jupyter.widget-view+json": {
       "model_id": "",
       "version_major": 2,
       "version_minor": 0
      },
      "text/plain": [
       "HBox(children=(IntProgress(value=0, description='2nd loop', max=10, style=ProgressStyle(description_width='ini…"
      ]
     },
     "metadata": {},
     "output_type": "display_data"
    },
    {
     "data": {
      "application/vnd.jupyter.widget-view+json": {
       "model_id": "",
       "version_major": 2,
       "version_minor": 0
      },
      "text/plain": [
       "HBox(children=(IntProgress(value=0, description='2nd loop', max=10, style=ProgressStyle(description_width='ini…"
      ]
     },
     "metadata": {},
     "output_type": "display_data"
    },
    {
     "data": {
      "application/vnd.jupyter.widget-view+json": {
       "model_id": "",
       "version_major": 2,
       "version_minor": 0
      },
      "text/plain": [
       "HBox(children=(IntProgress(value=0, description='2nd loop', max=10, style=ProgressStyle(description_width='ini…"
      ]
     },
     "metadata": {},
     "output_type": "display_data"
    },
    {
     "data": {
      "application/vnd.jupyter.widget-view+json": {
       "model_id": "",
       "version_major": 2,
       "version_minor": 0
      },
      "text/plain": [
       "HBox(children=(IntProgress(value=0, description='2nd loop', max=10, style=ProgressStyle(description_width='ini…"
      ]
     },
     "metadata": {},
     "output_type": "display_data"
    },
    {
     "data": {
      "application/vnd.jupyter.widget-view+json": {
       "model_id": "",
       "version_major": 2,
       "version_minor": 0
      },
      "text/plain": [
       "HBox(children=(IntProgress(value=0, description='2nd loop', max=10, style=ProgressStyle(description_width='ini…"
      ]
     },
     "metadata": {},
     "output_type": "display_data"
    },
    {
     "data": {
      "application/vnd.jupyter.widget-view+json": {
       "model_id": "",
       "version_major": 2,
       "version_minor": 0
      },
      "text/plain": [
       "HBox(children=(IntProgress(value=0, description='2nd loop', max=10, style=ProgressStyle(description_width='ini…"
      ]
     },
     "metadata": {},
     "output_type": "display_data"
    },
    {
     "data": {
      "application/vnd.jupyter.widget-view+json": {
       "model_id": "",
       "version_major": 2,
       "version_minor": 0
      },
      "text/plain": [
       "HBox(children=(IntProgress(value=0, description='2nd loop', max=10, style=ProgressStyle(description_width='ini…"
      ]
     },
     "metadata": {},
     "output_type": "display_data"
    },
    {
     "data": {
      "application/vnd.jupyter.widget-view+json": {
       "model_id": "",
       "version_major": 2,
       "version_minor": 0
      },
      "text/plain": [
       "HBox(children=(IntProgress(value=0, description='2nd loop', max=10, style=ProgressStyle(description_width='ini…"
      ]
     },
     "metadata": {},
     "output_type": "display_data"
    },
    {
     "data": {
      "application/vnd.jupyter.widget-view+json": {
       "model_id": "",
       "version_major": 2,
       "version_minor": 0
      },
      "text/plain": [
       "HBox(children=(IntProgress(value=0, description='2nd loop', max=10, style=ProgressStyle(description_width='ini…"
      ]
     },
     "metadata": {},
     "output_type": "display_data"
    },
    {
     "data": {
      "application/vnd.jupyter.widget-view+json": {
       "model_id": "",
       "version_major": 2,
       "version_minor": 0
      },
      "text/plain": [
       "HBox(children=(IntProgress(value=0, description='2nd loop', max=10, style=ProgressStyle(description_width='ini…"
      ]
     },
     "metadata": {},
     "output_type": "display_data"
    },
    {
     "data": {
      "application/vnd.jupyter.widget-view+json": {
       "model_id": "",
       "version_major": 2,
       "version_minor": 0
      },
      "text/plain": [
       "HBox(children=(IntProgress(value=0, description='2nd loop', max=10, style=ProgressStyle(description_width='ini…"
      ]
     },
     "metadata": {},
     "output_type": "display_data"
    },
    {
     "name": "stdout",
     "output_type": "stream",
     "text": [
      "Hey, I think you've had enough! Let's stop here.\n"
     ]
    }
   ],
   "source": [
    "#@@@@@@@@@@@@@@@@@@@\n",
    "# Learning variables\n",
    "#@@@@@@@@@@@@@@@@@@@\n",
    "q_values = np.zeros((N_STATES,N_ACTIONS)) #initialize to zero\n",
    "#q_values = np.load(\"Q_values.npy\") # or re-use the one already trained\n",
    "reward_score = np.zeros(MAX_EPOCHS)\n",
    "halite_score = np.zeros(MAX_EPOCHS)\n",
    "shipy_pass = np.zeros(MAX_EPOCHS)\n",
    "epochs = 0\n",
    "eps = EPS_START # starting value of epsilon\n",
    "# generate an adaptive epsilon greedy algorithm, calibrated in order to have epsilon = 10^-4 at the last epoch\n",
    "epsilons = np.array(list(map(lambda i : eps*np.exp(-i*2*np.log(10)/MAX_EPOCHS), np.arange(0,MAX_EPOCHS+1))))\n",
    "\n",
    "\n",
    "# visualize online the results\n",
    "%matplotlib notebook\n",
    "fig = plt.figure(figsize = (8,6))\n",
    "plt.ion()\n",
    "\n",
    "ax1 = fig.add_subplot(221)\n",
    "ax1.set_xlim(0,MAX_EPOCHS+1)\n",
    "ax1.set_ylim(0,8000)\n",
    "ax1.set_xlabel(\"Epochs\", fontsize = 14)\n",
    "ax1.set_ylabel(\"Halite collected\", fontsize = 14)\n",
    "\n",
    "ax2 = fig.add_subplot(222)\n",
    "ax2.set_xlim(0,MAX_EPOCHS+1)\n",
    "ax2.set_ylim(-4,4)\n",
    "ax2.set_xlabel(\"Epochs\", fontsize = 14)\n",
    "ax2.set_ylabel(\"Reward\", fontsize = 14)\n",
    "\n",
    "\n",
    "ax3 = fig.add_subplot(223)\n",
    "ax3.set_xlim(0,MAX_EPOCHS+1)\n",
    "ax3.set_ylim(0,0.5)\n",
    "ax3.set_xlabel(\"Epochs\", fontsize = 14)\n",
    "ax3.set_ylabel(\"Epsilon\", fontsize = 14)\n",
    "\n",
    "\n",
    "ax4 = fig.add_subplot(224)\n",
    "ax4.set_xlim(0,MAX_EPOCHS+1)\n",
    "ax4.set_xlabel(\"Epochs\", fontsize = 14)\n",
    "ax4.set_ylabel(\"Shipyard passages\", fontsize = 14)\n",
    "\n",
    "plt.tight_layout()\n",
    "fig.show()\n",
    "fig.canvas.draw()\n",
    "\n",
    "from tqdm import tnrange, trange\n",
    "\n",
    "for k in tnrange(MAX_EPOCHS, desc='1st loop', leave=True):\n",
    "    #@@@@@@@@@@@@@@@@@@@@@@\n",
    "    # here starts an epoch\n",
    "    #@@@@@@@@@@@@@@@@@@@@@@\n",
    "    epochs = epochs + 1\n",
    "    reward_progress = np.zeros(N_BATCH) # bunch of 100 episodes\n",
    "    halite_progress = np.zeros(N_BATCH) # bunch of 100 episodes\n",
    "    shipy_pass_progress = np.zeros(N_BATCH) # bunch of 100 episodes\n",
    "    eps = epsilons[epochs]\n",
    "    # update the dictionary at each epoch with the new epsilon\n",
    "    learning_dict = dict(LEARNING_RATE = 0.1, DISCOUNT_FACTOR = DISCOUNT_FACTOR , eps = eps, STD_REWARD = STD_REWARD)\n",
    "\n",
    "    for i in tnrange(N_BATCH, desc='2nd loop', leave=False):\n",
    "        # here starts an episode\n",
    "        q_values, reward, collected_halite, passages = play_episode(q_values, **env_dict, **state_dict, **learning_dict)\n",
    "        reward_progress[i] = reward\n",
    "        halite_progress[i] = collected_halite\n",
    "        shipy_pass_progress[i] = passages\n",
    "\n",
    "        #break # play just 1 episode\n",
    "\n",
    "    #break # play just 1 epoch\n",
    "\n",
    "    reward_score[epochs-1] = reward_progress.mean()\n",
    "    halite_score[epochs-1] = halite_progress.mean()\n",
    "    shipy_pass[epochs-1] = shipy_pass_progress.mean()\n",
    "    \n",
    "    ax1.scatter(epochs, halite_score[epochs-1], s = 10, color='blue')\n",
    "    ax2.scatter(epochs, reward_score[epochs-1], s = 10,color='blue')\n",
    "    ax3.scatter(epochs, epsilons[epochs], s = 10, color='blue')\n",
    "    ax4.scatter(epochs, shipy_pass[epochs-1], s = 10, color='blue')\n",
    "    fig.canvas.draw()\n",
    "\n",
    "    if epochs >= MAX_EPOCHS:\n",
    "        print(\"Hey, I think you've had enough! Let's stop here.\")\n",
    "        break"
   ]
  },
  {
   "cell_type": "code",
   "execution_count": 11,
   "metadata": {},
   "outputs": [],
   "source": [
    "np.save(\"Q_values/100-500-1000.npy\", q_values)"
   ]
  },
  {
   "cell_type": "markdown",
   "metadata": {},
   "source": [
    "## Post training visualization\n",
    "\n"
   ]
  },
  {
   "cell_type": "code",
   "execution_count": null,
   "metadata": {},
   "outputs": [],
   "source": [
    "q_values = np.load(\"Q_values/Q_values.npy\")"
   ]
  },
  {
   "cell_type": "markdown",
   "metadata": {},
   "source": [
    "## Episode visualization"
   ]
  },
  {
   "cell_type": "code",
   "execution_count": null,
   "metadata": {},
   "outputs": [],
   "source": [
    "verbose = False\n",
    "eps = 0\n",
    "env = Env.HaliteEnv(NUM_PLAYERS, MAP_SIZE, episode_lenght = TOT_TURNS) # init environment\n",
    "steps = 0\n",
    "reward = 0 # cumulative reward of the episode\n",
    "passages = 0 # number of times the ship passes through the shipyard\n",
    "\n",
    "# first mandatory step\n",
    "steps = steps + 1\n",
    "if verbose:\n",
    "    print(\"\\nStep number %d:\"%steps)\n",
    "action_matrix = np.full((MAP_SIZE,MAP_SIZE), -1) # no ship, no action\n",
    "shipyard_action = True # initially always choose to create a ship\n",
    "# returns the matricial state, the array of players halite and a flag that is true if it's the final turn\n",
    "state, players_halite, finish, _ = env.step(action_matrix, makeship = shipyard_action) \n",
    "#print(\"Cargo layer: \\n\", state[:,:,2])\n",
    "current_halite = players_halite[0][0]\n",
    "s_enc = cod.encode_state(state, map_size = MAP_SIZE, h_lev = H_LEV, n_actions = N_ACTIONS, debug=False)\n",
    "\n",
    "while True:\n",
    "    steps = steps + 1\n",
    "    if verbose:\n",
    "        print(\"\\nStep number %d:\"%steps)\n",
    "        print(\"Current halite: \", current_halite)\n",
    "    a_enc = ship.e_greedy_policy(s_enc, q_values, eps = eps)\n",
    "    a_mat = cod.scalar_to_matrix_action(a_enc, state, map_size = MAP_SIZE) #convert the action in matricial form\n",
    "\n",
    "    # submit the action and get the new state\n",
    "    state, players_halite, finish, _ = env.step(a_mat, makeship = False) \n",
    "\n",
    "    new_halite = players_halite[0][0]\n",
    "\n",
    "    # compute the 1-ship reward as the halite increment of the player divided by the max halite \n",
    "    # plus a standard negative reward \n",
    "    r = (new_halite - current_halite)/1000 + STD_REWARD\n",
    "\n",
    "    sp_enc = cod.encode_state(state, map_size = MAP_SIZE, h_lev = H_LEV, n_actions = N_ACTIONS, debug=False)\n",
    "    reward += r # cumulative reward of the episode\n",
    "\n",
    "    # adds 1 to passages if the current position of the ship coincides with that of the shipyard\n",
    "    # whereas the previous position didn't\n",
    "    s_dec = cod.decode3D(s_enc, L1 = MAP_SIZE**2, L2 = H_LEV**6, L3 = N_ACTIONS-1)\n",
    "    sp_dec = cod.decode3D(sp_enc, L1 = MAP_SIZE**2, L2 = H_LEV**6, L3 = N_ACTIONS-1)\n",
    "    shipy_pos = (MAP_SIZE**2-1)/2 #shipyard is at the center of the map\n",
    "    if (sp_dec[0] == shipy_pos and s_dec[0] != shipy_pos):\n",
    "        passages = passages +1\n",
    "\n",
    "    a_temp_enc = ship.greedy_policy(sp_enc, q_values) # simulate the best action in the new state (before update)\n",
    "\n",
    "    # update Q-values\n",
    "    q_values = ship.update_q_v1(s_enc, a_enc, r, sp_enc, a_temp_enc, q_values, alpha = LEARNING_RATE,\n",
    "                gamma = DISCOUNT_FACTOR, map_size = MAP_SIZE, h_lev = H_LEV, n_actions = N_ACTIONS)\n",
    "\n",
    "    # update states and halite\n",
    "    s_enc = sp_enc\n",
    "    current_halite = new_halite\n",
    "\n",
    "    if (finish == True) or (steps >= 400):\n",
    "        if verbose:\n",
    "            print(\"\\nEnd episode.\")\n",
    "        break\n",
    "collected_halite = current_halite - 4000\n"
   ]
  },
  {
   "cell_type": "code",
   "execution_count": null,
   "metadata": {},
   "outputs": [],
   "source": [
    "import time"
   ]
  },
  {
   "cell_type": "code",
   "execution_count": null,
   "metadata": {},
   "outputs": [],
   "source": [
    "# some functions to represent in RGB the halite levels of the map and the ship\n",
    "\n",
    "def color_sea(map_halite):\n",
    "    #color1 = np.array([32,124,157])\n",
    "    sea_colors = np.zeros((1000,3))\n",
    "    for i in range(1000):\n",
    "        sea_colors[i] = [32,20+i/10,50+2*i/10]\n",
    "    N = len(map_halite.flatten())\n",
    "    rgb_map = np.zeros((N,3))\n",
    "    flatten_map = map_halite.flatten()\n",
    "    for i in range(N):\n",
    "        rgb_map[i] = sea_colors[int(flatten_map[i])]\n",
    "    return rgb_map.reshape((map_halite.shape)+(3,))/255\n",
    "\n",
    "def color_ship(cargo):\n",
    "    #color2 = np.array([255,203,119])\n",
    "    ship_colors = np.zeros((1000,3))\n",
    "    for i in range(1000):\n",
    "        ship_colors[i] = [(120+2*i/10)*250/320,(70+2*i/10)*200/270,(90+i/10)*120/210]\n",
    "    return ship_colors[int(cargo)]/255    "
   ]
  },
  {
   "cell_type": "code",
   "execution_count": null,
   "metadata": {
    "scrolled": false
   },
   "outputs": [],
   "source": [
    "%matplotlib notebook\n",
    "fig = plt.figure(figsize = (8,6))\n",
    "plt.ion()\n",
    "\n",
    "env = Env.HaliteEnv(NUM_PLAYERS, MAP_SIZE, episode_lenght = 100) # init environment\n",
    "steps = 0\n",
    "reward = 0 # cumulative reward of the episode\n",
    "passages = 0 # number of times the ship passes through the shipyard\n",
    "verbose = False\n",
    "eps = 0\n",
    "# first mandatory step\n",
    "steps = steps + 1\n",
    "if verbose:\n",
    "    print(\"\\nStep number %d:\"%steps)\n",
    "action_matrix = np.full((MAP_SIZE,MAP_SIZE), -1) # no ship, no action\n",
    "shipyard_action = True # initially always choose to create a ship\n",
    "# returns the matricial state, the array of players halite and a flag that is true if it's the final turn\n",
    "state, players_halite, finish, _ = env.step(action_matrix, makeship = shipyard_action) \n",
    "\n",
    "#print(\"Cargo layer: \\n\", state[:,:,2])\n",
    "current_halite = players_halite[0][0]\n",
    "#----------------------------------------------------------\n",
    "#rgb_map = np.stack([np.zeros((MAP_SIZE,MAP_SIZE)),\n",
    "#                    state[:,:,0]/1000,\n",
    "#                    state[:,:,0]/1000], axis=2)\n",
    "\n",
    "rgb_map = color_sea(state[:,:,0])\n",
    "plt.imshow(rgb_map)\n",
    "plt.title(\"Turn: %d    Halite: %d\"%(steps,current_halite))\n",
    "plt.yticks([])\n",
    "plt.xticks([])\n",
    "fig.show()\n",
    "fig.canvas.draw()\n",
    "#time.sleep(0.2)\n",
    "plt.savefig('.raw_gif/turn%.3d.png'%steps)\n",
    "#-----------------------------------------------------------\n",
    "s_enc = cod.encode_state(state, map_size = MAP_SIZE, h_lev = H_LEV, n_actions = N_ACTIONS, debug=False)\n",
    "\n",
    "while True:\n",
    "    steps = steps + 1\n",
    "    if verbose:\n",
    "        print(\"\\nStep number %d:\"%steps)\n",
    "        print(\"Current halite: \", current_halite)\n",
    "    a_enc = ship.e_greedy_policy(s_enc, q_values, eps = eps)\n",
    "    a_mat = cod.scalar_to_matrix_action(a_enc, state, map_size = MAP_SIZE) #convert the action in matricial form\n",
    "    s_dec = cod.decode3D(s_enc, L1 = MAP_SIZE**2, L2 = H_LEV**6, L3 = N_ACTIONS-1)\n",
    "    x,y = cod.decode(s_dec[0], L=MAP_SIZE)\n",
    "    ship_cargo = state[x,y,2]\n",
    "    # submit the action and get the new state\n",
    "    state, players_halite, finish, _ = env.step(a_mat, makeship = False) \n",
    "\n",
    "    new_halite = players_halite[0][0]\n",
    "\n",
    "    # compute the 1-ship reward as the halite increment of the player divided by the max halite \n",
    "    # plus a standard negative reward \n",
    "    r = (new_halite - current_halite)/1000 + STD_REWARD\n",
    "\n",
    "    sp_enc = cod.encode_state(state, map_size = MAP_SIZE, h_lev = H_LEV, n_actions = N_ACTIONS, debug=False)\n",
    "    reward += r # cumulative reward of the episode\n",
    "\n",
    "    # adds 1 to passages if the current position of the ship coincides with that of the shipyard\n",
    "    # whereas the previous position didn't\n",
    "    s_dec = cod.decode3D(s_enc, L1 = MAP_SIZE**2, L2 = H_LEV**6, L3 = N_ACTIONS-1)\n",
    "    sp_dec = cod.decode3D(sp_enc, L1 = MAP_SIZE**2, L2 = H_LEV**6, L3 = N_ACTIONS-1)\n",
    "    shipy_pos = (MAP_SIZE**2-1)/2 #shipyard is at the center of the map\n",
    "    if (sp_dec[0] == shipy_pos and s_dec[0] != shipy_pos):\n",
    "        passages = passages +1\n",
    "    \n",
    "    #----------------------------------------------------------\n",
    "    #rgb_map = np.stack([np.zeros((MAP_SIZE,MAP_SIZE)),\n",
    "    #                    state[:,:,0]/1000,\n",
    "    #                    state[:,:,0]/1000], axis=2)\n",
    "\n",
    "    rgb_map = color_sea(state[:,:,0])\n",
    "    rgb_map[x ,y,:] = color_ship(ship_cargo)\n",
    "    plt.imshow(rgb_map)\n",
    "    plt.title(\"Turn: %d    Halite: %d    Carried: %d\"%(steps,current_halite,ship_cargo ))\n",
    "    plt.yticks([])\n",
    "    plt.xticks([])\n",
    "    fig.show()\n",
    "    fig.canvas.draw()\n",
    "    #time.sleep(0.2)\n",
    "    plt.savefig('.raw_gif/turn%.3d.png'%steps)\n",
    "    #-----------------------------------------------------------\n",
    "\n",
    "    a_temp_enc = ship.greedy_policy(sp_enc, q_values) # simulate the best action in the new state (before update)\n",
    "    \n",
    "    # update Q-values\n",
    "    q_values = ship.update_q_v1(s_enc, a_enc, r, sp_enc, a_temp_enc, q_values, alpha = LEARNING_RATE,\n",
    "                gamma = DISCOUNT_FACTOR, map_size = MAP_SIZE, h_lev = H_LEV, n_actions = N_ACTIONS)\n",
    "\n",
    "    # update states and halite\n",
    "    s_enc = sp_enc\n",
    "    current_halite = new_halite\n",
    "    if (finish == True) or (steps >= 400):\n",
    "        if verbose:\n",
    "            print(\"\\nEnd episode.\")\n",
    "        break"
   ]
  },
  {
   "cell_type": "code",
   "execution_count": null,
   "metadata": {
    "scrolled": true
   },
   "outputs": [],
   "source": [
    "import os\n",
    "filenames = os.listdir('.raw_gif')\n",
    "filenames.sort()"
   ]
  },
  {
   "cell_type": "code",
   "execution_count": null,
   "metadata": {},
   "outputs": [],
   "source": [
    "# ! pip install imageio\n",
    "import imageio\n",
    "images = []\n",
    "for filename in filenames:\n",
    "    images.append(imageio.imread('.raw_gif/'+filename))\n",
    "imageio.mimsave('Support_material/play_episode.gif', images, duration=0.75)"
   ]
  },
  {
   "cell_type": "markdown",
   "metadata": {},
   "source": [
    "And here we go with our visualization! Isn't it cute?\n",
    "\n",
    "<img src=\"Support_material/play_episode.gif\">"
   ]
  },
  {
   "cell_type": "markdown",
   "metadata": {},
   "source": [
    "### Choosing color palette (if you are curious)\n",
    "Here there is a sketch of how we choose the colors for the visualization."
   ]
  },
  {
   "cell_type": "code",
   "execution_count": null,
   "metadata": {},
   "outputs": [],
   "source": [
    "color1 = np.array([32,124,157])\n",
    "sea_colors = np.tile(color1[:,np.newaxis], (1,1000)).T\n",
    "\n",
    "\n",
    "for i in range(1000):\n",
    "    sea_colors[i] = [32,20+i/10,50+2*i/10]\n",
    "sea_colors = sea_colors.reshape((10,100,3))"
   ]
  },
  {
   "cell_type": "code",
   "execution_count": null,
   "metadata": {},
   "outputs": [],
   "source": [
    "plt.figure(figsize=(15,10))\n",
    "plt.imshow(sea_colors)\n",
    "plt.show()"
   ]
  },
  {
   "cell_type": "code",
   "execution_count": null,
   "metadata": {},
   "outputs": [],
   "source": [
    "color2 = np.array([255,203,119])\n",
    "ship_colors = np.tile(color2[:,np.newaxis], (1,1000)).T\n",
    "\n",
    "\n",
    "for i in range(1000):\n",
    "    ship_colors[i] = [50+2*i/10,2*i/10,20+i/10]\n",
    "ship_colors =ship_colors.reshape((10,100,3))\n",
    "plt.figure(figsize=(15,10))\n",
    "plt.imshow(ship_colors)\n",
    "plt.show()"
   ]
  }
 ],
 "metadata": {
  "kernelspec": {
   "display_name": "python3_halite",
   "language": "python",
   "name": "python3_halite"
  },
  "language_info": {
   "codemirror_mode": {
    "name": "ipython",
    "version": 3
   },
   "file_extension": ".py",
   "mimetype": "text/x-python",
   "name": "python",
   "nbconvert_exporter": "python",
   "pygments_lexer": "ipython3",
   "version": "3.7.4"
  }
 },
 "nbformat": 4,
 "nbformat_minor": 2
}

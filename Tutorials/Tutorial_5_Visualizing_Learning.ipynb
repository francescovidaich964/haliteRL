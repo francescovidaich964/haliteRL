{
 "cells": [
  {
   "cell_type": "markdown",
   "metadata": {},
   "source": [
    "# Tutorial 5: Visualizing Learning\n",
    "\n",
    "In the previous tutorial we have seen how to train an agent, but I bet that everyone of us has thought at least once \"Is it really learning anything?\". In this tutorial we will try to answer to that question.\n",
    "\n",
    "We gathered again all the functions written in the previous tutorial in a script ship.py, that you can find in the Modules folder. \n",
    "\n",
    "## Outline\n",
    "1. Online visualization: how to see how the training is doing while the agent is still training.\n",
    "2. Post-training visualization: how to look at the final result."
   ]
  },
  {
   "cell_type": "code",
   "execution_count": 1,
   "metadata": {},
   "outputs": [],
   "source": [
    "#import modules and libraries\n",
    "import sys\n",
    "sys.path.insert(0, \"../Environment/\")\n",
    "sys.path.insert(0, \"../Modules/\")\n",
    "import halite_env as Env\n",
    "import encode as cod\n",
    "import ship "
   ]
  },
  {
   "cell_type": "code",
   "execution_count": 2,
   "metadata": {},
   "outputs": [],
   "source": [
    "import numpy as np\n",
    "import matplotlib.pyplot as plt"
   ]
  },
  {
   "cell_type": "markdown",
   "metadata": {},
   "source": [
    "We redifine all variables and constants as in the previous tutorial"
   ]
  },
  {
   "cell_type": "code",
   "execution_count": 3,
   "metadata": {},
   "outputs": [
    {
     "name": "stdout",
     "output_type": "stream",
     "text": [
      "Total number of states to be experienced:  142884\n"
     ]
    }
   ],
   "source": [
    "#@@@@@@@@@@@@@@@@@@@@@@\n",
    "# Environment variables\n",
    "#@@@@@@@@@@@@@@@@@@@@@@\n",
    "NUM_PLAYERS = 1\n",
    "MAP_SIZE = 7 # 7 x 7 map\n",
    "TOT_TURNS = 400 # number of turns for each episode\n",
    "\n",
    "#@@@@@@@@@@@@@@@@\n",
    "# State variables\n",
    "#@@@@@@@@@@@@@@@@\n",
    "H_LEV = 3 # halite levels\n",
    "N_CELLS = MAP_SIZE**2 # number of cells in a square map\n",
    "N_STATES = N_CELLS*H_LEV**6*4\n",
    "N_ACTIONS = 5 # no dropoffs, 1 action for staying still, 4 for moving in the cardinal directions\n",
    "print(\"Total number of states to be experienced: \", N_STATES)\n",
    "\n",
    "#@@@@@@@@@@@@@@@@@@@@\n",
    "# Learning parameters\n",
    "#@@@@@@@@@@@@@@@@@@@@\n",
    "N_BATCH = 10 #100 # number of episodes in an epoch\n",
    "MAX_EPOCHS = 200 # max number of epochs played before stopping (500 ~ 7.3 hours of training)\n",
    "DISCOUNT_FACTOR = 1 - 1/TOT_TURNS #train ships as if each turn has a probability of 1/tot_turns of ending the game \n",
    "STD_REWARD = -0.01\n",
    "LEARNING_RATE = 0.1\n",
    "EPS_START = 0.5"
   ]
  },
  {
   "cell_type": "code",
   "execution_count": 4,
   "metadata": {},
   "outputs": [],
   "source": [
    "# convert all the parameters to dictionaries\n",
    "env_dict = dict(NUM_PLAYERS = NUM_PLAYERS , \n",
    "                TOT_TURNS = TOT_TURNS)\n",
    "\n",
    "state_dict = dict(MAP_SIZE = MAP_SIZE,  \n",
    "                  H_LEV = H_LEV, \n",
    "                  N_ACTIONS = N_ACTIONS)\n",
    "\n",
    "learning_dict = dict(LEARNING_RATE = LEARNING_RATE, \n",
    "                     DISCOUNT_FACTOR = DISCOUNT_FACTOR , \n",
    "                     eps = EPS_START, \n",
    "                     STD_REWARD = STD_REWARD)"
   ]
  },
  {
   "cell_type": "code",
   "execution_count": 5,
   "metadata": {},
   "outputs": [],
   "source": [
    "#@@@@@@@@@@@@@@@@@@@\n",
    "# Learning variables\n",
    "#@@@@@@@@@@@@@@@@@@@\n",
    "q_values = np.zeros((N_STATES,N_ACTIONS)) #initialize to zero\n",
    "#q_values = np.load(\"Q_values.npy\") # or re-use the one already trained"
   ]
  },
  {
   "cell_type": "markdown",
   "metadata": {},
   "source": [
    "## Online visualization\n",
    "\n",
    "The online visualization is based on two ideas: to find some metrics to monitor and to monitor them almost in real time.\n",
    "\n",
    "One of the obvious metrics that we measured in the previous tutorial was the return at the end of the episode.\n",
    "Another one directly connected to that, but with a more practical touch, is the halite collected from the agent during the episode.\n",
    "\n",
    "And finally we would like to know how many time the ship passes through the shipyard, since it is a good indicator of what is going on.\n",
    "\n",
    "Thus we now modify the play_episode function written in the previous tutorial in order to make it compute those quantities."
   ]
  },
  {
   "cell_type": "code",
   "execution_count": 6,
   "metadata": {},
   "outputs": [],
   "source": [
    "def play_episode(q_values, eps, NUM_PLAYERS, MAP_SIZE, TOT_TURNS, N_ACTIONS, H_LEV,\n",
    "                 STD_REWARD,LEARNING_RATE, DISCOUNT_FACTOR, verbose = False):\n",
    "    \"\"\"\n",
    "    Trains the agent by playing one episode of halite.\n",
    "    \n",
    "    Parameters\n",
    "    ----------\n",
    "    q_values         : numpy array \n",
    "        Contains the Q-values\n",
    "    eps              : float \n",
    "        Represents a probability, must be in [0,1], controls the probability of exploring instead of exploting\n",
    "    NUM_PLAYERS      : int\n",
    "    MAP_SIZE         : int\n",
    "    TOT_TURNS        : int\n",
    "    N_ACTIONS        : int\n",
    "    H_LEV            : int\n",
    "    STD_REWARD       : float\n",
    "        Baseline reward given to the agent when does not deposit halite to the shipyard\n",
    "    LEARNING_RATE    : float\n",
    "    DISCOUNT_FACTOR  : float\n",
    "        Must be greater than 0 but smaller than 1. Suggested 1-1/TOT_TURNS or 1\n",
    "    verbose          : bool\n",
    "        Prints halite of the player at each turn of the game\n",
    "        \n",
    "    Returns\n",
    "    -------\n",
    "    q_values         : numpy array \n",
    "        Updated Q-values\n",
    "    reward           : float\n",
    "        Reward obtained in this episode. \n",
    "    collected_halite : float\n",
    "        Halite collected by the agent.\n",
    "    passages         : int\n",
    "        Number of passages of the ship through the shipyard.\n",
    "    \"\"\"\n",
    "    env = Env.HaliteEnv(NUM_PLAYERS, MAP_SIZE, episode_lenght = TOT_TURNS) # init environment\n",
    "    steps = 0\n",
    "    reward = 0 # cumulative reward of the episode\n",
    "    passages = 0 # number of times the ship passes through the shipyard\n",
    "    \n",
    "    # first mandatory step\n",
    "    steps = steps + 1\n",
    "    if verbose:\n",
    "        print(\"\\nStep number %d:\"%steps)\n",
    "    action_matrix = np.full((MAP_SIZE,MAP_SIZE), -1) # no ship, no action\n",
    "    shipyard_action = True # initially always choose to create a ship\n",
    "    # returns the matricial state, the array of players halite and a flag that is true if it's the final turn\n",
    "    state, players_halite, finish, _ = env.step(action_matrix, makeship = shipyard_action) \n",
    "    #print(\"Cargo layer: \\n\", state[:,:,2])\n",
    "    current_halite = players_halite[0][0]\n",
    "    s_enc = cod.encode_state(state, map_size = MAP_SIZE, h_lev = H_LEV, n_actions = N_ACTIONS, debug=False)\n",
    "\n",
    "    while True:\n",
    "        steps = steps + 1\n",
    "        if verbose:\n",
    "            print(\"\\nStep number %d:\"%steps)\n",
    "            print(\"Current halite: \", current_halite)\n",
    "        a_enc = ship.e_greedy_policy(s_enc, q_values, eps = eps)\n",
    "        a_mat = cod.scalar_to_matrix_action(a_enc, state, map_size = MAP_SIZE) #convert the action in matricial form\n",
    "\n",
    "        # submit the action and get the new state\n",
    "        state, players_halite, finish, _ = env.step(a_mat, makeship = False) \n",
    "\n",
    "        new_halite = players_halite[0][0]\n",
    "\n",
    "        # compute the 1-ship reward as the halite increment of the player divided by the max halite \n",
    "        # plus a standard negative reward \n",
    "        r = (new_halite - current_halite)/1000 + STD_REWARD\n",
    "\n",
    "        sp_enc = cod.encode_state(state, map_size = MAP_SIZE, h_lev = H_LEV, n_actions = N_ACTIONS, debug=False)\n",
    "        reward += r # cumulative reward of the episode\n",
    "\n",
    "        # adds 1 to passages if the current position of the ship coincides with that of the shipyard\n",
    "        # whereas the previous position didn't\n",
    "        s_dec = cod.decode3D(s_enc, L1 = MAP_SIZE**2, L2 = H_LEV**6, L3 = N_ACTIONS-1)\n",
    "        sp_dec = cod.decode3D(sp_enc, L1 = MAP_SIZE**2, L2 = H_LEV**6, L3 = N_ACTIONS-1)\n",
    "        shipy_pos = (MAP_SIZE**2-1)/2 #shipyard is at the center of the map\n",
    "        if (sp_dec[0] == shipy_pos and s_dec[0] != shipy_pos):\n",
    "            passages = passages +1\n",
    "                \n",
    "        a_temp_enc = ship.greedy_policy(sp_enc, q_values) # simulate the best action in the new state (before update)\n",
    "\n",
    "        # update Q-values\n",
    "        q_values = ship.update_q_v1(s_enc, a_enc, r, sp_enc, a_temp_enc, q_values, alpha = LEARNING_RATE,\n",
    "                    gamma = DISCOUNT_FACTOR, map_size = MAP_SIZE, h_lev = H_LEV, n_actions = N_ACTIONS)\n",
    "\n",
    "        # update states and halite\n",
    "        s_enc = sp_enc\n",
    "        current_halite = new_halite\n",
    "\n",
    "        if (finish == True) or (steps >= 400):\n",
    "            if verbose:\n",
    "                print(\"\\nEnd episode.\")\n",
    "            break\n",
    "    collected_halite = current_halite - 4000\n",
    "    return q_values, reward, collected_halite, passages"
   ]
  },
  {
   "cell_type": "markdown",
   "metadata": {},
   "source": [
    "To skip a passage I already copied this function in the ship.py script in the Modules folder."
   ]
  },
  {
   "cell_type": "code",
   "execution_count": 7,
   "metadata": {},
   "outputs": [
    {
     "name": "stdout",
     "output_type": "stream",
     "text": [
      "\n",
      "Step number 1:\n",
      "\n",
      "Step number 2:\n",
      "Current halite:  4000.0\n",
      "\n",
      "Step number 3:\n",
      "Current halite:  4000.0\n",
      "\n",
      "Step number 4:\n",
      "Current halite:  4000.0\n",
      "\n",
      "Step number 5:\n",
      "Current halite:  4000.0\n",
      "\n",
      "Step number 6:\n",
      "Current halite:  4000.0\n",
      "\n",
      "Step number 7:\n",
      "Current halite:  4000.0\n",
      "\n",
      "Step number 8:\n",
      "Current halite:  4000.0\n",
      "\n",
      "Step number 9:\n",
      "Current halite:  4000.0\n",
      "\n",
      "Step number 10:\n",
      "Current halite:  4000.0\n",
      "\n",
      "Step number 11:\n",
      "Current halite:  4000.0\n",
      "\n",
      "Step number 12:\n",
      "Current halite:  4000.0\n",
      "\n",
      "Step number 13:\n",
      "Current halite:  4000.0\n",
      "\n",
      "Step number 14:\n",
      "Current halite:  4000.0\n",
      "\n",
      "Step number 15:\n",
      "Current halite:  4000.0\n",
      "\n",
      "Step number 16:\n",
      "Current halite:  4000.0\n",
      "\n",
      "Step number 17:\n",
      "Current halite:  4000.0\n",
      "\n",
      "Step number 18:\n",
      "Current halite:  4000.0\n",
      "\n",
      "Step number 19:\n",
      "Current halite:  4000.0\n",
      "\n",
      "Step number 20:\n",
      "Current halite:  4000.0\n",
      "\n",
      "Step number 21:\n",
      "Current halite:  4000.0\n",
      "\n",
      "Step number 22:\n",
      "Current halite:  4000.0\n",
      "\n",
      "Step number 23:\n",
      "Current halite:  4873.0\n",
      "\n",
      "Step number 24:\n",
      "Current halite:  4873.0\n",
      "\n",
      "Step number 25:\n",
      "Current halite:  4873.0\n",
      "\n",
      "Step number 26:\n",
      "Current halite:  4873.0\n",
      "\n",
      "Step number 27:\n",
      "Current halite:  4873.0\n",
      "\n",
      "Step number 28:\n",
      "Current halite:  4873.0\n",
      "\n",
      "Step number 29:\n",
      "Current halite:  4873.0\n",
      "\n",
      "Step number 30:\n",
      "Current halite:  4873.0\n",
      "\n",
      "Step number 31:\n",
      "Current halite:  4873.0\n",
      "\n",
      "Step number 32:\n",
      "Current halite:  4873.0\n",
      "\n",
      "Step number 33:\n",
      "Current halite:  4873.0\n",
      "\n",
      "Step number 34:\n",
      "Current halite:  4873.0\n",
      "\n",
      "Step number 35:\n",
      "Current halite:  4873.0\n",
      "\n",
      "Step number 36:\n",
      "Current halite:  4873.0\n",
      "\n",
      "Step number 37:\n",
      "Current halite:  4873.0\n",
      "\n",
      "Step number 38:\n",
      "Current halite:  4873.0\n",
      "\n",
      "Step number 39:\n",
      "Current halite:  4873.0\n",
      "\n",
      "Step number 40:\n",
      "Current halite:  4873.0\n",
      "\n",
      "Step number 41:\n",
      "Current halite:  4873.0\n",
      "\n",
      "Step number 42:\n",
      "Current halite:  4873.0\n",
      "\n",
      "Step number 43:\n",
      "Current halite:  4873.0\n",
      "\n",
      "Step number 44:\n",
      "Current halite:  4873.0\n",
      "\n",
      "Step number 45:\n",
      "Current halite:  4873.0\n",
      "\n",
      "Step number 46:\n",
      "Current halite:  4873.0\n",
      "\n",
      "Step number 47:\n",
      "Current halite:  4873.0\n",
      "\n",
      "Step number 48:\n",
      "Current halite:  4873.0\n",
      "\n",
      "Step number 49:\n",
      "Current halite:  4873.0\n",
      "\n",
      "Step number 50:\n",
      "Current halite:  4873.0\n",
      "\n",
      "Step number 51:\n",
      "Current halite:  4873.0\n",
      "\n",
      "Step number 52:\n",
      "Current halite:  4873.0\n",
      "\n",
      "Step number 53:\n",
      "Current halite:  4873.0\n",
      "\n",
      "Step number 54:\n",
      "Current halite:  4873.0\n",
      "\n",
      "Step number 55:\n",
      "Current halite:  4873.0\n",
      "\n",
      "Step number 56:\n",
      "Current halite:  4873.0\n",
      "\n",
      "Step number 57:\n",
      "Current halite:  4873.0\n",
      "\n",
      "Step number 58:\n",
      "Current halite:  4873.0\n",
      "\n",
      "Step number 59:\n",
      "Current halite:  5873.0\n",
      "\n",
      "Step number 60:\n",
      "Current halite:  5873.0\n",
      "\n",
      "Step number 61:\n",
      "Current halite:  5873.0\n",
      "\n",
      "Step number 62:\n",
      "Current halite:  5873.0\n",
      "\n",
      "Step number 63:\n",
      "Current halite:  5873.0\n",
      "\n",
      "Step number 64:\n",
      "Current halite:  5873.0\n",
      "\n",
      "Step number 65:\n",
      "Current halite:  5873.0\n",
      "\n",
      "Step number 66:\n",
      "Current halite:  5873.0\n",
      "\n",
      "Step number 67:\n",
      "Current halite:  5873.0\n",
      "\n",
      "Step number 68:\n",
      "Current halite:  5873.0\n",
      "\n",
      "Step number 69:\n",
      "Current halite:  5873.0\n",
      "\n",
      "Step number 70:\n",
      "Current halite:  5873.0\n",
      "\n",
      "Step number 71:\n",
      "Current halite:  5873.0\n",
      "\n",
      "Step number 72:\n",
      "Current halite:  6439.0\n",
      "\n",
      "Step number 73:\n",
      "Current halite:  6439.0\n",
      "\n",
      "Step number 74:\n",
      "Current halite:  6439.0\n",
      "\n",
      "Step number 75:\n",
      "Current halite:  6439.0\n",
      "\n",
      "Step number 76:\n",
      "Current halite:  6439.0\n",
      "\n",
      "Step number 77:\n",
      "Current halite:  6439.0\n",
      "\n",
      "Step number 78:\n",
      "Current halite:  6439.0\n",
      "\n",
      "Step number 79:\n",
      "Current halite:  6439.0\n",
      "\n",
      "Step number 80:\n",
      "Current halite:  6439.0\n",
      "\n",
      "Step number 81:\n",
      "Current halite:  6439.0\n",
      "\n",
      "Step number 82:\n",
      "Current halite:  6439.0\n",
      "\n",
      "Step number 83:\n",
      "Current halite:  6439.0\n",
      "\n",
      "Step number 84:\n",
      "Current halite:  6439.0\n",
      "\n",
      "Step number 85:\n",
      "Current halite:  6439.0\n",
      "\n",
      "Step number 86:\n",
      "Current halite:  6439.0\n",
      "\n",
      "Step number 87:\n",
      "Current halite:  6439.0\n",
      "\n",
      "Step number 88:\n",
      "Current halite:  6439.0\n",
      "\n",
      "Step number 89:\n",
      "Current halite:  6439.0\n",
      "\n",
      "Step number 90:\n",
      "Current halite:  6439.0\n",
      "\n",
      "Step number 91:\n",
      "Current halite:  6439.0\n",
      "\n",
      "Step number 92:\n",
      "Current halite:  6439.0\n",
      "\n",
      "Step number 93:\n",
      "Current halite:  6439.0\n",
      "\n",
      "Step number 94:\n",
      "Current halite:  6439.0\n",
      "\n",
      "Step number 95:\n",
      "Current halite:  6439.0\n",
      "\n",
      "Step number 96:\n",
      "Current halite:  6439.0\n",
      "\n",
      "Step number 97:\n",
      "Current halite:  6439.0\n",
      "\n",
      "Step number 98:\n",
      "Current halite:  6439.0\n",
      "\n",
      "Step number 99:\n",
      "Current halite:  6439.0\n",
      "\n",
      "Step number 100:\n",
      "Current halite:  6439.0\n",
      "\n",
      "Step number 101:\n",
      "Current halite:  6439.0\n",
      "\n",
      "Step number 102:\n",
      "Current halite:  6439.0\n",
      "\n",
      "Step number 103:\n",
      "Current halite:  6439.0\n",
      "\n",
      "Step number 104:\n",
      "Current halite:  6439.0\n",
      "\n",
      "Step number 105:\n",
      "Current halite:  6439.0\n",
      "\n",
      "Step number 106:\n",
      "Current halite:  6439.0\n",
      "\n",
      "Step number 107:\n",
      "Current halite:  6439.0\n",
      "\n",
      "Step number 108:\n",
      "Current halite:  6439.0\n",
      "\n",
      "Step number 109:\n",
      "Current halite:  6439.0\n",
      "\n",
      "Step number 110:\n",
      "Current halite:  6439.0\n",
      "\n",
      "Step number 111:\n",
      "Current halite:  6439.0\n",
      "\n",
      "Step number 112:\n",
      "Current halite:  6439.0\n",
      "\n",
      "Step number 113:\n",
      "Current halite:  6439.0\n",
      "\n",
      "Step number 114:\n",
      "Current halite:  6439.0\n",
      "\n",
      "Step number 115:\n",
      "Current halite:  6439.0\n",
      "\n",
      "Step number 116:\n",
      "Current halite:  6439.0\n",
      "\n",
      "Step number 117:\n",
      "Current halite:  6439.0\n",
      "\n",
      "Step number 118:\n",
      "Current halite:  6439.0\n",
      "\n",
      "Step number 119:\n",
      "Current halite:  6439.0\n",
      "\n",
      "Step number 120:\n",
      "Current halite:  6439.0\n",
      "\n",
      "Step number 121:\n",
      "Current halite:  6439.0\n",
      "\n",
      "Step number 122:\n",
      "Current halite:  6439.0\n",
      "\n",
      "Step number 123:\n",
      "Current halite:  6439.0\n",
      "\n",
      "Step number 124:\n",
      "Current halite:  6439.0\n",
      "\n",
      "Step number 125:\n",
      "Current halite:  6439.0\n",
      "\n",
      "Step number 126:\n",
      "Current halite:  6439.0\n",
      "\n",
      "Step number 127:\n",
      "Current halite:  6439.0\n",
      "\n",
      "Step number 128:\n",
      "Current halite:  6439.0\n",
      "\n",
      "Step number 129:\n",
      "Current halite:  6439.0\n",
      "\n",
      "Step number 130:\n",
      "Current halite:  6439.0\n",
      "\n",
      "Step number 131:\n",
      "Current halite:  6439.0\n",
      "\n",
      "Step number 132:\n",
      "Current halite:  6439.0\n",
      "\n",
      "Step number 133:\n",
      "Current halite:  6439.0\n",
      "\n",
      "Step number 134:\n",
      "Current halite:  6439.0\n",
      "\n",
      "Step number 135:\n",
      "Current halite:  6439.0\n",
      "\n",
      "Step number 136:\n",
      "Current halite:  6439.0\n",
      "\n",
      "Step number 137:\n",
      "Current halite:  6439.0\n",
      "\n",
      "Step number 138:\n",
      "Current halite:  6439.0\n",
      "\n",
      "Step number 139:\n",
      "Current halite:  6439.0\n",
      "\n",
      "Step number 140:\n",
      "Current halite:  6439.0\n",
      "\n",
      "Step number 141:\n",
      "Current halite:  6439.0\n",
      "\n",
      "Step number 142:\n",
      "Current halite:  6439.0\n",
      "\n",
      "Step number 143:\n",
      "Current halite:  6439.0\n",
      "\n",
      "Step number 144:\n",
      "Current halite:  6439.0\n",
      "\n",
      "Step number 145:\n",
      "Current halite:  6439.0\n",
      "\n",
      "Step number 146:\n",
      "Current halite:  6439.0\n",
      "\n",
      "Step number 147:\n",
      "Current halite:  6439.0\n",
      "\n",
      "Step number 148:\n",
      "Current halite:  6439.0\n",
      "\n",
      "Step number 149:\n",
      "Current halite:  6439.0\n",
      "\n",
      "Step number 150:\n",
      "Current halite:  6439.0\n",
      "\n",
      "Step number 151:\n",
      "Current halite:  6439.0\n",
      "\n",
      "Step number 152:\n",
      "Current halite:  6439.0\n",
      "\n",
      "Step number 153:\n",
      "Current halite:  6439.0\n",
      "\n",
      "Step number 154:\n",
      "Current halite:  6439.0\n",
      "\n",
      "Step number 155:\n",
      "Current halite:  6439.0\n",
      "\n",
      "Step number 156:\n",
      "Current halite:  6439.0\n",
      "\n",
      "Step number 157:\n",
      "Current halite:  6439.0\n",
      "\n",
      "Step number 158:\n",
      "Current halite:  6439.0\n",
      "\n",
      "Step number 159:\n",
      "Current halite:  6439.0\n",
      "\n",
      "Step number 160:\n",
      "Current halite:  6439.0\n",
      "\n",
      "Step number 161:\n",
      "Current halite:  6439.0\n",
      "\n",
      "Step number 162:\n",
      "Current halite:  6439.0\n",
      "\n",
      "Step number 163:\n",
      "Current halite:  6439.0\n",
      "\n",
      "Step number 164:\n",
      "Current halite:  6439.0\n",
      "\n",
      "Step number 165:\n",
      "Current halite:  6439.0\n",
      "\n",
      "Step number 166:\n",
      "Current halite:  6439.0\n",
      "\n",
      "Step number 167:\n",
      "Current halite:  6439.0\n",
      "\n",
      "Step number 168:\n",
      "Current halite:  6439.0\n",
      "\n",
      "Step number 169:\n",
      "Current halite:  6439.0\n",
      "\n",
      "Step number 170:\n",
      "Current halite:  6439.0\n",
      "\n",
      "Step number 171:\n",
      "Current halite:  6439.0\n",
      "\n",
      "Step number 172:\n",
      "Current halite:  6439.0\n",
      "\n",
      "Step number 173:\n",
      "Current halite:  6439.0\n",
      "\n",
      "Step number 174:\n",
      "Current halite:  6439.0\n",
      "\n",
      "Step number 175:\n",
      "Current halite:  6439.0\n",
      "\n",
      "Step number 176:\n",
      "Current halite:  6439.0\n",
      "\n",
      "Step number 177:\n",
      "Current halite:  6439.0\n",
      "\n",
      "Step number 178:\n",
      "Current halite:  6439.0\n",
      "\n",
      "Step number 179:\n",
      "Current halite:  6439.0\n",
      "\n",
      "Step number 180:\n",
      "Current halite:  6439.0\n",
      "\n",
      "Step number 181:\n",
      "Current halite:  6439.0\n",
      "\n",
      "Step number 182:\n",
      "Current halite:  6439.0\n",
      "\n",
      "Step number 183:\n",
      "Current halite:  6439.0\n",
      "\n",
      "Step number 184:\n",
      "Current halite:  6439.0\n",
      "\n",
      "Step number 185:\n",
      "Current halite:  6439.0\n",
      "\n",
      "Step number 186:\n",
      "Current halite:  6439.0\n",
      "\n",
      "Step number 187:\n",
      "Current halite:  6439.0\n",
      "\n",
      "Step number 188:\n",
      "Current halite:  6439.0\n",
      "\n",
      "Step number 189:\n",
      "Current halite:  6439.0\n",
      "\n",
      "Step number 190:\n",
      "Current halite:  6439.0\n",
      "\n",
      "Step number 191:\n",
      "Current halite:  7439.0\n",
      "\n",
      "Step number 192:\n",
      "Current halite:  7439.0\n",
      "\n",
      "Step number 193:\n",
      "Current halite:  7439.0\n",
      "\n",
      "Step number 194:\n",
      "Current halite:  7439.0\n",
      "\n",
      "Step number 195:\n",
      "Current halite:  7439.0\n",
      "\n",
      "Step number 196:\n",
      "Current halite:  7439.0\n",
      "\n",
      "Step number 197:\n",
      "Current halite:  7439.0\n",
      "\n",
      "Step number 198:\n",
      "Current halite:  7439.0\n",
      "\n",
      "Step number 199:\n",
      "Current halite:  7612.0\n",
      "\n",
      "Step number 200:\n",
      "Current halite:  7612.0\n",
      "\n",
      "Step number 201:\n",
      "Current halite:  7612.0\n",
      "\n",
      "Step number 202:\n",
      "Current halite:  7612.0\n",
      "\n",
      "Step number 203:\n",
      "Current halite:  7612.0\n",
      "\n",
      "Step number 204:\n",
      "Current halite:  7612.0\n",
      "\n",
      "Step number 205:\n",
      "Current halite:  7612.0\n",
      "\n",
      "Step number 206:\n",
      "Current halite:  7612.0\n",
      "\n",
      "Step number 207:\n",
      "Current halite:  7612.0\n",
      "\n",
      "Step number 208:\n",
      "Current halite:  7612.0\n",
      "\n",
      "Step number 209:\n",
      "Current halite:  7612.0\n",
      "\n",
      "Step number 210:\n",
      "Current halite:  7612.0\n",
      "\n",
      "Step number 211:\n",
      "Current halite:  7612.0\n",
      "\n",
      "Step number 212:\n",
      "Current halite:  7612.0\n",
      "\n",
      "Step number 213:\n",
      "Current halite:  7612.0\n",
      "\n",
      "Step number 214:\n",
      "Current halite:  7612.0\n",
      "\n",
      "Step number 215:\n",
      "Current halite:  7612.0\n"
     ]
    },
    {
     "name": "stdout",
     "output_type": "stream",
     "text": [
      "\n",
      "Step number 216:\n",
      "Current halite:  7612.0\n",
      "\n",
      "Step number 217:\n",
      "Current halite:  7612.0\n",
      "\n",
      "Step number 218:\n",
      "Current halite:  7612.0\n",
      "\n",
      "Step number 219:\n",
      "Current halite:  7612.0\n",
      "\n",
      "Step number 220:\n",
      "Current halite:  7612.0\n",
      "\n",
      "Step number 221:\n",
      "Current halite:  7612.0\n",
      "\n",
      "Step number 222:\n",
      "Current halite:  7612.0\n",
      "\n",
      "Step number 223:\n",
      "Current halite:  7612.0\n",
      "\n",
      "Step number 224:\n",
      "Current halite:  7612.0\n",
      "\n",
      "Step number 225:\n",
      "Current halite:  7612.0\n",
      "\n",
      "Step number 226:\n",
      "Current halite:  7612.0\n",
      "\n",
      "Step number 227:\n",
      "Current halite:  7612.0\n",
      "\n",
      "Step number 228:\n",
      "Current halite:  7612.0\n",
      "\n",
      "Step number 229:\n",
      "Current halite:  7612.0\n",
      "\n",
      "Step number 230:\n",
      "Current halite:  7612.0\n",
      "\n",
      "Step number 231:\n",
      "Current halite:  7612.0\n",
      "\n",
      "Step number 232:\n",
      "Current halite:  7612.0\n",
      "\n",
      "Step number 233:\n",
      "Current halite:  7612.0\n",
      "\n",
      "Step number 234:\n",
      "Current halite:  7612.0\n",
      "\n",
      "Step number 235:\n",
      "Current halite:  7612.0\n",
      "\n",
      "Step number 236:\n",
      "Current halite:  7612.0\n",
      "\n",
      "Step number 237:\n",
      "Current halite:  7612.0\n",
      "\n",
      "Step number 238:\n",
      "Current halite:  7612.0\n",
      "\n",
      "Step number 239:\n",
      "Current halite:  7612.0\n",
      "\n",
      "Step number 240:\n",
      "Current halite:  8384.0\n",
      "\n",
      "Step number 241:\n",
      "Current halite:  8384.0\n",
      "\n",
      "Step number 242:\n",
      "Current halite:  8384.0\n",
      "\n",
      "Step number 243:\n",
      "Current halite:  8384.0\n",
      "\n",
      "Step number 244:\n",
      "Current halite:  8384.0\n",
      "\n",
      "Step number 245:\n",
      "Current halite:  8384.0\n",
      "\n",
      "Step number 246:\n",
      "Current halite:  8384.0\n",
      "\n",
      "Step number 247:\n",
      "Current halite:  8384.0\n",
      "\n",
      "Step number 248:\n",
      "Current halite:  8384.0\n",
      "\n",
      "Step number 249:\n",
      "Current halite:  8384.0\n",
      "\n",
      "Step number 250:\n",
      "Current halite:  8384.0\n",
      "\n",
      "Step number 251:\n",
      "Current halite:  8384.0\n",
      "\n",
      "Step number 252:\n",
      "Current halite:  8675.0\n",
      "\n",
      "Step number 253:\n",
      "Current halite:  8675.0\n",
      "\n",
      "Step number 254:\n",
      "Current halite:  8675.0\n",
      "\n",
      "Step number 255:\n",
      "Current halite:  8675.0\n",
      "\n",
      "Step number 256:\n",
      "Current halite:  8675.0\n",
      "\n",
      "Step number 257:\n",
      "Current halite:  8675.0\n",
      "\n",
      "Step number 258:\n",
      "Current halite:  8675.0\n",
      "\n",
      "Step number 259:\n",
      "Current halite:  8675.0\n",
      "\n",
      "Step number 260:\n",
      "Current halite:  8675.0\n",
      "\n",
      "Step number 261:\n",
      "Current halite:  8675.0\n",
      "\n",
      "Step number 262:\n",
      "Current halite:  8675.0\n",
      "\n",
      "Step number 263:\n",
      "Current halite:  8675.0\n",
      "\n",
      "Step number 264:\n",
      "Current halite:  8675.0\n",
      "\n",
      "Step number 265:\n",
      "Current halite:  8823.0\n",
      "\n",
      "Step number 266:\n",
      "Current halite:  8823.0\n",
      "\n",
      "Step number 267:\n",
      "Current halite:  8823.0\n",
      "\n",
      "Step number 268:\n",
      "Current halite:  8823.0\n",
      "\n",
      "Step number 269:\n",
      "Current halite:  8823.0\n",
      "\n",
      "Step number 270:\n",
      "Current halite:  8823.0\n",
      "\n",
      "Step number 271:\n",
      "Current halite:  8823.0\n",
      "\n",
      "Step number 272:\n",
      "Current halite:  8823.0\n",
      "\n",
      "Step number 273:\n",
      "Current halite:  8823.0\n",
      "\n",
      "Step number 274:\n",
      "Current halite:  8823.0\n",
      "\n",
      "Step number 275:\n",
      "Current halite:  8823.0\n",
      "\n",
      "Step number 276:\n",
      "Current halite:  8823.0\n",
      "\n",
      "Step number 277:\n",
      "Current halite:  8823.0\n",
      "\n",
      "Step number 278:\n",
      "Current halite:  8823.0\n",
      "\n",
      "Step number 279:\n",
      "Current halite:  8823.0\n",
      "\n",
      "Step number 280:\n",
      "Current halite:  8823.0\n",
      "\n",
      "Step number 281:\n",
      "Current halite:  8823.0\n",
      "\n",
      "Step number 282:\n",
      "Current halite:  8823.0\n",
      "\n",
      "Step number 283:\n",
      "Current halite:  8823.0\n",
      "\n",
      "Step number 284:\n",
      "Current halite:  8823.0\n",
      "\n",
      "Step number 285:\n",
      "Current halite:  8823.0\n",
      "\n",
      "Step number 286:\n",
      "Current halite:  8823.0\n",
      "\n",
      "Step number 287:\n",
      "Current halite:  8823.0\n",
      "\n",
      "Step number 288:\n",
      "Current halite:  8823.0\n",
      "\n",
      "Step number 289:\n",
      "Current halite:  8823.0\n",
      "\n",
      "Step number 290:\n",
      "Current halite:  8823.0\n",
      "\n",
      "Step number 291:\n",
      "Current halite:  8823.0\n",
      "\n",
      "Step number 292:\n",
      "Current halite:  8823.0\n",
      "\n",
      "Step number 293:\n",
      "Current halite:  8823.0\n",
      "\n",
      "Step number 294:\n",
      "Current halite:  8823.0\n",
      "\n",
      "Step number 295:\n",
      "Current halite:  8823.0\n",
      "\n",
      "Step number 296:\n",
      "Current halite:  8823.0\n",
      "\n",
      "Step number 297:\n",
      "Current halite:  8823.0\n",
      "\n",
      "Step number 298:\n",
      "Current halite:  8823.0\n",
      "\n",
      "Step number 299:\n",
      "Current halite:  8823.0\n",
      "\n",
      "Step number 300:\n",
      "Current halite:  8823.0\n",
      "\n",
      "Step number 301:\n",
      "Current halite:  8823.0\n",
      "\n",
      "Step number 302:\n",
      "Current halite:  8823.0\n",
      "\n",
      "Step number 303:\n",
      "Current halite:  8823.0\n",
      "\n",
      "Step number 304:\n",
      "Current halite:  8823.0\n",
      "\n",
      "Step number 305:\n",
      "Current halite:  9823.0\n",
      "\n",
      "Step number 306:\n",
      "Current halite:  9823.0\n",
      "\n",
      "Step number 307:\n",
      "Current halite:  9823.0\n",
      "\n",
      "Step number 308:\n",
      "Current halite:  9823.0\n",
      "\n",
      "Step number 309:\n",
      "Current halite:  9823.0\n",
      "\n",
      "Step number 310:\n",
      "Current halite:  9823.0\n",
      "\n",
      "Step number 311:\n",
      "Current halite:  9823.0\n",
      "\n",
      "Step number 312:\n",
      "Current halite:  9823.0\n",
      "\n",
      "Step number 313:\n",
      "Current halite:  9823.0\n",
      "\n",
      "Step number 314:\n",
      "Current halite:  9823.0\n",
      "\n",
      "Step number 315:\n",
      "Current halite:  9823.0\n",
      "\n",
      "Step number 316:\n",
      "Current halite:  9823.0\n",
      "\n",
      "Step number 317:\n",
      "Current halite:  9823.0\n",
      "\n",
      "Step number 318:\n",
      "Current halite:  9823.0\n",
      "\n",
      "Step number 319:\n",
      "Current halite:  9823.0\n",
      "\n",
      "Step number 320:\n",
      "Current halite:  9823.0\n",
      "\n",
      "Step number 321:\n",
      "Current halite:  9823.0\n",
      "\n",
      "Step number 322:\n",
      "Current halite:  9823.0\n",
      "\n",
      "Step number 323:\n",
      "Current halite:  9823.0\n",
      "\n",
      "Step number 324:\n",
      "Current halite:  9823.0\n",
      "\n",
      "Step number 325:\n",
      "Current halite:  9823.0\n",
      "\n",
      "Step number 326:\n",
      "Current halite:  9823.0\n",
      "\n",
      "Step number 327:\n",
      "Current halite:  9823.0\n",
      "\n",
      "Step number 328:\n",
      "Current halite:  9823.0\n",
      "\n",
      "Step number 329:\n",
      "Current halite:  9823.0\n",
      "\n",
      "Step number 330:\n",
      "Current halite:  9823.0\n",
      "\n",
      "Step number 331:\n",
      "Current halite:  9823.0\n",
      "\n",
      "Step number 332:\n",
      "Current halite:  9823.0\n",
      "\n",
      "Step number 333:\n",
      "Current halite:  9823.0\n",
      "\n",
      "Step number 334:\n",
      "Current halite:  9823.0\n",
      "\n",
      "Step number 335:\n",
      "Current halite:  9823.0\n",
      "\n",
      "Step number 336:\n",
      "Current halite:  9823.0\n",
      "\n",
      "Step number 337:\n",
      "Current halite:  9823.0\n",
      "\n",
      "Step number 338:\n",
      "Current halite:  9823.0\n",
      "\n",
      "Step number 339:\n",
      "Current halite:  9823.0\n",
      "\n",
      "Step number 340:\n",
      "Current halite:  9823.0\n",
      "\n",
      "Step number 341:\n",
      "Current halite:  9823.0\n",
      "\n",
      "Step number 342:\n",
      "Current halite:  9823.0\n",
      "\n",
      "Step number 343:\n",
      "Current halite:  9823.0\n",
      "\n",
      "Step number 344:\n",
      "Current halite:  9823.0\n",
      "\n",
      "Step number 345:\n",
      "Current halite:  9823.0\n",
      "\n",
      "Step number 346:\n",
      "Current halite:  9823.0\n",
      "\n",
      "Step number 347:\n",
      "Current halite:  9823.0\n",
      "\n",
      "Step number 348:\n",
      "Current halite:  9823.0\n",
      "\n",
      "Step number 349:\n",
      "Current halite:  9823.0\n",
      "\n",
      "Step number 350:\n",
      "Current halite:  9823.0\n",
      "\n",
      "Step number 351:\n",
      "Current halite:  9823.0\n",
      "\n",
      "Step number 352:\n",
      "Current halite:  9823.0\n",
      "\n",
      "Step number 353:\n",
      "Current halite:  9823.0\n",
      "\n",
      "Step number 354:\n",
      "Current halite:  9823.0\n",
      "\n",
      "Step number 355:\n",
      "Current halite:  9823.0\n",
      "\n",
      "Step number 356:\n",
      "Current halite:  9823.0\n",
      "\n",
      "Step number 357:\n",
      "Current halite:  9823.0\n",
      "\n",
      "Step number 358:\n",
      "Current halite:  10823.0\n",
      "\n",
      "Step number 359:\n",
      "Current halite:  10823.0\n",
      "\n",
      "Step number 360:\n",
      "Current halite:  10823.0\n",
      "\n",
      "Step number 361:\n",
      "Current halite:  10823.0\n",
      "\n",
      "Step number 362:\n",
      "Current halite:  10823.0\n",
      "\n",
      "Step number 363:\n",
      "Current halite:  10823.0\n",
      "\n",
      "Step number 364:\n",
      "Current halite:  10823.0\n",
      "\n",
      "Step number 365:\n",
      "Current halite:  10823.0\n",
      "\n",
      "Step number 366:\n",
      "Current halite:  10823.0\n",
      "\n",
      "Step number 367:\n",
      "Current halite:  10823.0\n",
      "\n",
      "Step number 368:\n",
      "Current halite:  10823.0\n",
      "\n",
      "Step number 369:\n",
      "Current halite:  10823.0\n",
      "\n",
      "Step number 370:\n",
      "Current halite:  10823.0\n",
      "\n",
      "Step number 371:\n",
      "Current halite:  10823.0\n",
      "\n",
      "Step number 372:\n",
      "Current halite:  10823.0\n",
      "\n",
      "Step number 373:\n",
      "Current halite:  11117.0\n",
      "\n",
      "Step number 374:\n",
      "Current halite:  11117.0\n",
      "\n",
      "Step number 375:\n",
      "Current halite:  11117.0\n",
      "\n",
      "Step number 376:\n",
      "Current halite:  11117.0\n",
      "\n",
      "Step number 377:\n",
      "Current halite:  11117.0\n",
      "\n",
      "Step number 378:\n",
      "Current halite:  11117.0\n",
      "\n",
      "Step number 379:\n",
      "Current halite:  11204.0\n",
      "\n",
      "Step number 380:\n",
      "Current halite:  11204.0\n",
      "\n",
      "Step number 381:\n",
      "Current halite:  11204.0\n",
      "\n",
      "Step number 382:\n",
      "Current halite:  11204.0\n",
      "\n",
      "Step number 383:\n",
      "Current halite:  11204.0\n",
      "\n",
      "Step number 384:\n",
      "Current halite:  11204.0\n",
      "\n",
      "Step number 385:\n",
      "Current halite:  11204.0\n",
      "\n",
      "Step number 386:\n",
      "Current halite:  11204.0\n",
      "\n",
      "Step number 387:\n",
      "Current halite:  11204.0\n",
      "\n",
      "Step number 388:\n",
      "Current halite:  11204.0\n",
      "\n",
      "Step number 389:\n",
      "Current halite:  11204.0\n",
      "\n",
      "Step number 390:\n",
      "Current halite:  11204.0\n",
      "\n",
      "Step number 391:\n",
      "Current halite:  11204.0\n",
      "\n",
      "Step number 392:\n",
      "Current halite:  11204.0\n",
      "\n",
      "Step number 393:\n",
      "Current halite:  11204.0\n",
      "\n",
      "Step number 394:\n",
      "Current halite:  11204.0\n",
      "\n",
      "Step number 395:\n",
      "Current halite:  11204.0\n",
      "\n",
      "Step number 396:\n",
      "Current halite:  11204.0\n",
      "\n",
      "Step number 397:\n",
      "Current halite:  11204.0\n",
      "\n",
      "Step number 398:\n",
      "Current halite:  11204.0\n",
      "\n",
      "Step number 399:\n",
      "Current halite:  11204.0\n",
      "\n",
      "Step number 400:\n",
      "Current halite:  11204.0\n",
      "\n",
      "End episode.\n"
     ]
    }
   ],
   "source": [
    "q_values, reward, collected_halite, passages = ship.play_episode(q_values, verbose = True, **env_dict, **state_dict, **learning_dict)"
   ]
  },
  {
   "cell_type": "code",
   "execution_count": 8,
   "metadata": {},
   "outputs": [
    {
     "name": "stdout",
     "output_type": "stream",
     "text": [
      "Reward: 3.2140 \n",
      "Collected halite : 7204 \n",
      "Passages through shipyard: 18\n"
     ]
    }
   ],
   "source": [
    "print(\"Reward: %.4f \\nCollected halite : %.0f \\nPassages through shipyard: %d\"%(reward, collected_halite, passages))"
   ]
  },
  {
   "cell_type": "markdown",
   "metadata": {},
   "source": [
    "Now we want to plot this quantities in real time during the training."
   ]
  },
  {
   "cell_type": "code",
   "execution_count": 45,
   "metadata": {},
   "outputs": [
    {
     "data": {
      "application/javascript": [
       "/* Put everything inside the global mpl namespace */\n",
       "window.mpl = {};\n",
       "\n",
       "\n",
       "mpl.get_websocket_type = function() {\n",
       "    if (typeof(WebSocket) !== 'undefined') {\n",
       "        return WebSocket;\n",
       "    } else if (typeof(MozWebSocket) !== 'undefined') {\n",
       "        return MozWebSocket;\n",
       "    } else {\n",
       "        alert('Your browser does not have WebSocket support. ' +\n",
       "              'Please try Chrome, Safari or Firefox ≥ 6. ' +\n",
       "              'Firefox 4 and 5 are also supported but you ' +\n",
       "              'have to enable WebSockets in about:config.');\n",
       "    };\n",
       "}\n",
       "\n",
       "mpl.figure = function(figure_id, websocket, ondownload, parent_element) {\n",
       "    this.id = figure_id;\n",
       "\n",
       "    this.ws = websocket;\n",
       "\n",
       "    this.supports_binary = (this.ws.binaryType != undefined);\n",
       "\n",
       "    if (!this.supports_binary) {\n",
       "        var warnings = document.getElementById(\"mpl-warnings\");\n",
       "        if (warnings) {\n",
       "            warnings.style.display = 'block';\n",
       "            warnings.textContent = (\n",
       "                \"This browser does not support binary websocket messages. \" +\n",
       "                    \"Performance may be slow.\");\n",
       "        }\n",
       "    }\n",
       "\n",
       "    this.imageObj = new Image();\n",
       "\n",
       "    this.context = undefined;\n",
       "    this.message = undefined;\n",
       "    this.canvas = undefined;\n",
       "    this.rubberband_canvas = undefined;\n",
       "    this.rubberband_context = undefined;\n",
       "    this.format_dropdown = undefined;\n",
       "\n",
       "    this.image_mode = 'full';\n",
       "\n",
       "    this.root = $('<div/>');\n",
       "    this._root_extra_style(this.root)\n",
       "    this.root.attr('style', 'display: inline-block');\n",
       "\n",
       "    $(parent_element).append(this.root);\n",
       "\n",
       "    this._init_header(this);\n",
       "    this._init_canvas(this);\n",
       "    this._init_toolbar(this);\n",
       "\n",
       "    var fig = this;\n",
       "\n",
       "    this.waiting = false;\n",
       "\n",
       "    this.ws.onopen =  function () {\n",
       "            fig.send_message(\"supports_binary\", {value: fig.supports_binary});\n",
       "            fig.send_message(\"send_image_mode\", {});\n",
       "            if (mpl.ratio != 1) {\n",
       "                fig.send_message(\"set_dpi_ratio\", {'dpi_ratio': mpl.ratio});\n",
       "            }\n",
       "            fig.send_message(\"refresh\", {});\n",
       "        }\n",
       "\n",
       "    this.imageObj.onload = function() {\n",
       "            if (fig.image_mode == 'full') {\n",
       "                // Full images could contain transparency (where diff images\n",
       "                // almost always do), so we need to clear the canvas so that\n",
       "                // there is no ghosting.\n",
       "                fig.context.clearRect(0, 0, fig.canvas.width, fig.canvas.height);\n",
       "            }\n",
       "            fig.context.drawImage(fig.imageObj, 0, 0);\n",
       "        };\n",
       "\n",
       "    this.imageObj.onunload = function() {\n",
       "        fig.ws.close();\n",
       "    }\n",
       "\n",
       "    this.ws.onmessage = this._make_on_message_function(this);\n",
       "\n",
       "    this.ondownload = ondownload;\n",
       "}\n",
       "\n",
       "mpl.figure.prototype._init_header = function() {\n",
       "    var titlebar = $(\n",
       "        '<div class=\"ui-dialog-titlebar ui-widget-header ui-corner-all ' +\n",
       "        'ui-helper-clearfix\"/>');\n",
       "    var titletext = $(\n",
       "        '<div class=\"ui-dialog-title\" style=\"width: 100%; ' +\n",
       "        'text-align: center; padding: 3px;\"/>');\n",
       "    titlebar.append(titletext)\n",
       "    this.root.append(titlebar);\n",
       "    this.header = titletext[0];\n",
       "}\n",
       "\n",
       "\n",
       "\n",
       "mpl.figure.prototype._canvas_extra_style = function(canvas_div) {\n",
       "\n",
       "}\n",
       "\n",
       "\n",
       "mpl.figure.prototype._root_extra_style = function(canvas_div) {\n",
       "\n",
       "}\n",
       "\n",
       "mpl.figure.prototype._init_canvas = function() {\n",
       "    var fig = this;\n",
       "\n",
       "    var canvas_div = $('<div/>');\n",
       "\n",
       "    canvas_div.attr('style', 'position: relative; clear: both; outline: 0');\n",
       "\n",
       "    function canvas_keyboard_event(event) {\n",
       "        return fig.key_event(event, event['data']);\n",
       "    }\n",
       "\n",
       "    canvas_div.keydown('key_press', canvas_keyboard_event);\n",
       "    canvas_div.keyup('key_release', canvas_keyboard_event);\n",
       "    this.canvas_div = canvas_div\n",
       "    this._canvas_extra_style(canvas_div)\n",
       "    this.root.append(canvas_div);\n",
       "\n",
       "    var canvas = $('<canvas/>');\n",
       "    canvas.addClass('mpl-canvas');\n",
       "    canvas.attr('style', \"left: 0; top: 0; z-index: 0; outline: 0\")\n",
       "\n",
       "    this.canvas = canvas[0];\n",
       "    this.context = canvas[0].getContext(\"2d\");\n",
       "\n",
       "    var backingStore = this.context.backingStorePixelRatio ||\n",
       "\tthis.context.webkitBackingStorePixelRatio ||\n",
       "\tthis.context.mozBackingStorePixelRatio ||\n",
       "\tthis.context.msBackingStorePixelRatio ||\n",
       "\tthis.context.oBackingStorePixelRatio ||\n",
       "\tthis.context.backingStorePixelRatio || 1;\n",
       "\n",
       "    mpl.ratio = (window.devicePixelRatio || 1) / backingStore;\n",
       "\n",
       "    var rubberband = $('<canvas/>');\n",
       "    rubberband.attr('style', \"position: absolute; left: 0; top: 0; z-index: 1;\")\n",
       "\n",
       "    var pass_mouse_events = true;\n",
       "\n",
       "    canvas_div.resizable({\n",
       "        start: function(event, ui) {\n",
       "            pass_mouse_events = false;\n",
       "        },\n",
       "        resize: function(event, ui) {\n",
       "            fig.request_resize(ui.size.width, ui.size.height);\n",
       "        },\n",
       "        stop: function(event, ui) {\n",
       "            pass_mouse_events = true;\n",
       "            fig.request_resize(ui.size.width, ui.size.height);\n",
       "        },\n",
       "    });\n",
       "\n",
       "    function mouse_event_fn(event) {\n",
       "        if (pass_mouse_events)\n",
       "            return fig.mouse_event(event, event['data']);\n",
       "    }\n",
       "\n",
       "    rubberband.mousedown('button_press', mouse_event_fn);\n",
       "    rubberband.mouseup('button_release', mouse_event_fn);\n",
       "    // Throttle sequential mouse events to 1 every 20ms.\n",
       "    rubberband.mousemove('motion_notify', mouse_event_fn);\n",
       "\n",
       "    rubberband.mouseenter('figure_enter', mouse_event_fn);\n",
       "    rubberband.mouseleave('figure_leave', mouse_event_fn);\n",
       "\n",
       "    canvas_div.on(\"wheel\", function (event) {\n",
       "        event = event.originalEvent;\n",
       "        event['data'] = 'scroll'\n",
       "        if (event.deltaY < 0) {\n",
       "            event.step = 1;\n",
       "        } else {\n",
       "            event.step = -1;\n",
       "        }\n",
       "        mouse_event_fn(event);\n",
       "    });\n",
       "\n",
       "    canvas_div.append(canvas);\n",
       "    canvas_div.append(rubberband);\n",
       "\n",
       "    this.rubberband = rubberband;\n",
       "    this.rubberband_canvas = rubberband[0];\n",
       "    this.rubberband_context = rubberband[0].getContext(\"2d\");\n",
       "    this.rubberband_context.strokeStyle = \"#000000\";\n",
       "\n",
       "    this._resize_canvas = function(width, height) {\n",
       "        // Keep the size of the canvas, canvas container, and rubber band\n",
       "        // canvas in synch.\n",
       "        canvas_div.css('width', width)\n",
       "        canvas_div.css('height', height)\n",
       "\n",
       "        canvas.attr('width', width * mpl.ratio);\n",
       "        canvas.attr('height', height * mpl.ratio);\n",
       "        canvas.attr('style', 'width: ' + width + 'px; height: ' + height + 'px;');\n",
       "\n",
       "        rubberband.attr('width', width);\n",
       "        rubberband.attr('height', height);\n",
       "    }\n",
       "\n",
       "    // Set the figure to an initial 600x600px, this will subsequently be updated\n",
       "    // upon first draw.\n",
       "    this._resize_canvas(600, 600);\n",
       "\n",
       "    // Disable right mouse context menu.\n",
       "    $(this.rubberband_canvas).bind(\"contextmenu\",function(e){\n",
       "        return false;\n",
       "    });\n",
       "\n",
       "    function set_focus () {\n",
       "        canvas.focus();\n",
       "        canvas_div.focus();\n",
       "    }\n",
       "\n",
       "    window.setTimeout(set_focus, 100);\n",
       "}\n",
       "\n",
       "mpl.figure.prototype._init_toolbar = function() {\n",
       "    var fig = this;\n",
       "\n",
       "    var nav_element = $('<div/>');\n",
       "    nav_element.attr('style', 'width: 100%');\n",
       "    this.root.append(nav_element);\n",
       "\n",
       "    // Define a callback function for later on.\n",
       "    function toolbar_event(event) {\n",
       "        return fig.toolbar_button_onclick(event['data']);\n",
       "    }\n",
       "    function toolbar_mouse_event(event) {\n",
       "        return fig.toolbar_button_onmouseover(event['data']);\n",
       "    }\n",
       "\n",
       "    for(var toolbar_ind in mpl.toolbar_items) {\n",
       "        var name = mpl.toolbar_items[toolbar_ind][0];\n",
       "        var tooltip = mpl.toolbar_items[toolbar_ind][1];\n",
       "        var image = mpl.toolbar_items[toolbar_ind][2];\n",
       "        var method_name = mpl.toolbar_items[toolbar_ind][3];\n",
       "\n",
       "        if (!name) {\n",
       "            // put a spacer in here.\n",
       "            continue;\n",
       "        }\n",
       "        var button = $('<button/>');\n",
       "        button.addClass('ui-button ui-widget ui-state-default ui-corner-all ' +\n",
       "                        'ui-button-icon-only');\n",
       "        button.attr('role', 'button');\n",
       "        button.attr('aria-disabled', 'false');\n",
       "        button.click(method_name, toolbar_event);\n",
       "        button.mouseover(tooltip, toolbar_mouse_event);\n",
       "\n",
       "        var icon_img = $('<span/>');\n",
       "        icon_img.addClass('ui-button-icon-primary ui-icon');\n",
       "        icon_img.addClass(image);\n",
       "        icon_img.addClass('ui-corner-all');\n",
       "\n",
       "        var tooltip_span = $('<span/>');\n",
       "        tooltip_span.addClass('ui-button-text');\n",
       "        tooltip_span.html(tooltip);\n",
       "\n",
       "        button.append(icon_img);\n",
       "        button.append(tooltip_span);\n",
       "\n",
       "        nav_element.append(button);\n",
       "    }\n",
       "\n",
       "    var fmt_picker_span = $('<span/>');\n",
       "\n",
       "    var fmt_picker = $('<select/>');\n",
       "    fmt_picker.addClass('mpl-toolbar-option ui-widget ui-widget-content');\n",
       "    fmt_picker_span.append(fmt_picker);\n",
       "    nav_element.append(fmt_picker_span);\n",
       "    this.format_dropdown = fmt_picker[0];\n",
       "\n",
       "    for (var ind in mpl.extensions) {\n",
       "        var fmt = mpl.extensions[ind];\n",
       "        var option = $(\n",
       "            '<option/>', {selected: fmt === mpl.default_extension}).html(fmt);\n",
       "        fmt_picker.append(option);\n",
       "    }\n",
       "\n",
       "    // Add hover states to the ui-buttons\n",
       "    $( \".ui-button\" ).hover(\n",
       "        function() { $(this).addClass(\"ui-state-hover\");},\n",
       "        function() { $(this).removeClass(\"ui-state-hover\");}\n",
       "    );\n",
       "\n",
       "    var status_bar = $('<span class=\"mpl-message\"/>');\n",
       "    nav_element.append(status_bar);\n",
       "    this.message = status_bar[0];\n",
       "}\n",
       "\n",
       "mpl.figure.prototype.request_resize = function(x_pixels, y_pixels) {\n",
       "    // Request matplotlib to resize the figure. Matplotlib will then trigger a resize in the client,\n",
       "    // which will in turn request a refresh of the image.\n",
       "    this.send_message('resize', {'width': x_pixels, 'height': y_pixels});\n",
       "}\n",
       "\n",
       "mpl.figure.prototype.send_message = function(type, properties) {\n",
       "    properties['type'] = type;\n",
       "    properties['figure_id'] = this.id;\n",
       "    this.ws.send(JSON.stringify(properties));\n",
       "}\n",
       "\n",
       "mpl.figure.prototype.send_draw_message = function() {\n",
       "    if (!this.waiting) {\n",
       "        this.waiting = true;\n",
       "        this.ws.send(JSON.stringify({type: \"draw\", figure_id: this.id}));\n",
       "    }\n",
       "}\n",
       "\n",
       "\n",
       "mpl.figure.prototype.handle_save = function(fig, msg) {\n",
       "    var format_dropdown = fig.format_dropdown;\n",
       "    var format = format_dropdown.options[format_dropdown.selectedIndex].value;\n",
       "    fig.ondownload(fig, format);\n",
       "}\n",
       "\n",
       "\n",
       "mpl.figure.prototype.handle_resize = function(fig, msg) {\n",
       "    var size = msg['size'];\n",
       "    if (size[0] != fig.canvas.width || size[1] != fig.canvas.height) {\n",
       "        fig._resize_canvas(size[0], size[1]);\n",
       "        fig.send_message(\"refresh\", {});\n",
       "    };\n",
       "}\n",
       "\n",
       "mpl.figure.prototype.handle_rubberband = function(fig, msg) {\n",
       "    var x0 = msg['x0'] / mpl.ratio;\n",
       "    var y0 = (fig.canvas.height - msg['y0']) / mpl.ratio;\n",
       "    var x1 = msg['x1'] / mpl.ratio;\n",
       "    var y1 = (fig.canvas.height - msg['y1']) / mpl.ratio;\n",
       "    x0 = Math.floor(x0) + 0.5;\n",
       "    y0 = Math.floor(y0) + 0.5;\n",
       "    x1 = Math.floor(x1) + 0.5;\n",
       "    y1 = Math.floor(y1) + 0.5;\n",
       "    var min_x = Math.min(x0, x1);\n",
       "    var min_y = Math.min(y0, y1);\n",
       "    var width = Math.abs(x1 - x0);\n",
       "    var height = Math.abs(y1 - y0);\n",
       "\n",
       "    fig.rubberband_context.clearRect(\n",
       "        0, 0, fig.canvas.width / mpl.ratio, fig.canvas.height / mpl.ratio);\n",
       "\n",
       "    fig.rubberband_context.strokeRect(min_x, min_y, width, height);\n",
       "}\n",
       "\n",
       "mpl.figure.prototype.handle_figure_label = function(fig, msg) {\n",
       "    // Updates the figure title.\n",
       "    fig.header.textContent = msg['label'];\n",
       "}\n",
       "\n",
       "mpl.figure.prototype.handle_cursor = function(fig, msg) {\n",
       "    var cursor = msg['cursor'];\n",
       "    switch(cursor)\n",
       "    {\n",
       "    case 0:\n",
       "        cursor = 'pointer';\n",
       "        break;\n",
       "    case 1:\n",
       "        cursor = 'default';\n",
       "        break;\n",
       "    case 2:\n",
       "        cursor = 'crosshair';\n",
       "        break;\n",
       "    case 3:\n",
       "        cursor = 'move';\n",
       "        break;\n",
       "    }\n",
       "    fig.rubberband_canvas.style.cursor = cursor;\n",
       "}\n",
       "\n",
       "mpl.figure.prototype.handle_message = function(fig, msg) {\n",
       "    fig.message.textContent = msg['message'];\n",
       "}\n",
       "\n",
       "mpl.figure.prototype.handle_draw = function(fig, msg) {\n",
       "    // Request the server to send over a new figure.\n",
       "    fig.send_draw_message();\n",
       "}\n",
       "\n",
       "mpl.figure.prototype.handle_image_mode = function(fig, msg) {\n",
       "    fig.image_mode = msg['mode'];\n",
       "}\n",
       "\n",
       "mpl.figure.prototype.updated_canvas_event = function() {\n",
       "    // Called whenever the canvas gets updated.\n",
       "    this.send_message(\"ack\", {});\n",
       "}\n",
       "\n",
       "// A function to construct a web socket function for onmessage handling.\n",
       "// Called in the figure constructor.\n",
       "mpl.figure.prototype._make_on_message_function = function(fig) {\n",
       "    return function socket_on_message(evt) {\n",
       "        if (evt.data instanceof Blob) {\n",
       "            /* FIXME: We get \"Resource interpreted as Image but\n",
       "             * transferred with MIME type text/plain:\" errors on\n",
       "             * Chrome.  But how to set the MIME type?  It doesn't seem\n",
       "             * to be part of the websocket stream */\n",
       "            evt.data.type = \"image/png\";\n",
       "\n",
       "            /* Free the memory for the previous frames */\n",
       "            if (fig.imageObj.src) {\n",
       "                (window.URL || window.webkitURL).revokeObjectURL(\n",
       "                    fig.imageObj.src);\n",
       "            }\n",
       "\n",
       "            fig.imageObj.src = (window.URL || window.webkitURL).createObjectURL(\n",
       "                evt.data);\n",
       "            fig.updated_canvas_event();\n",
       "            fig.waiting = false;\n",
       "            return;\n",
       "        }\n",
       "        else if (typeof evt.data === 'string' && evt.data.slice(0, 21) == \"data:image/png;base64\") {\n",
       "            fig.imageObj.src = evt.data;\n",
       "            fig.updated_canvas_event();\n",
       "            fig.waiting = false;\n",
       "            return;\n",
       "        }\n",
       "\n",
       "        var msg = JSON.parse(evt.data);\n",
       "        var msg_type = msg['type'];\n",
       "\n",
       "        // Call the  \"handle_{type}\" callback, which takes\n",
       "        // the figure and JSON message as its only arguments.\n",
       "        try {\n",
       "            var callback = fig[\"handle_\" + msg_type];\n",
       "        } catch (e) {\n",
       "            console.log(\"No handler for the '\" + msg_type + \"' message type: \", msg);\n",
       "            return;\n",
       "        }\n",
       "\n",
       "        if (callback) {\n",
       "            try {\n",
       "                // console.log(\"Handling '\" + msg_type + \"' message: \", msg);\n",
       "                callback(fig, msg);\n",
       "            } catch (e) {\n",
       "                console.log(\"Exception inside the 'handler_\" + msg_type + \"' callback:\", e, e.stack, msg);\n",
       "            }\n",
       "        }\n",
       "    };\n",
       "}\n",
       "\n",
       "// from http://stackoverflow.com/questions/1114465/getting-mouse-location-in-canvas\n",
       "mpl.findpos = function(e) {\n",
       "    //this section is from http://www.quirksmode.org/js/events_properties.html\n",
       "    var targ;\n",
       "    if (!e)\n",
       "        e = window.event;\n",
       "    if (e.target)\n",
       "        targ = e.target;\n",
       "    else if (e.srcElement)\n",
       "        targ = e.srcElement;\n",
       "    if (targ.nodeType == 3) // defeat Safari bug\n",
       "        targ = targ.parentNode;\n",
       "\n",
       "    // jQuery normalizes the pageX and pageY\n",
       "    // pageX,Y are the mouse positions relative to the document\n",
       "    // offset() returns the position of the element relative to the document\n",
       "    var x = e.pageX - $(targ).offset().left;\n",
       "    var y = e.pageY - $(targ).offset().top;\n",
       "\n",
       "    return {\"x\": x, \"y\": y};\n",
       "};\n",
       "\n",
       "/*\n",
       " * return a copy of an object with only non-object keys\n",
       " * we need this to avoid circular references\n",
       " * http://stackoverflow.com/a/24161582/3208463\n",
       " */\n",
       "function simpleKeys (original) {\n",
       "  return Object.keys(original).reduce(function (obj, key) {\n",
       "    if (typeof original[key] !== 'object')\n",
       "        obj[key] = original[key]\n",
       "    return obj;\n",
       "  }, {});\n",
       "}\n",
       "\n",
       "mpl.figure.prototype.mouse_event = function(event, name) {\n",
       "    var canvas_pos = mpl.findpos(event)\n",
       "\n",
       "    if (name === 'button_press')\n",
       "    {\n",
       "        this.canvas.focus();\n",
       "        this.canvas_div.focus();\n",
       "    }\n",
       "\n",
       "    var x = canvas_pos.x * mpl.ratio;\n",
       "    var y = canvas_pos.y * mpl.ratio;\n",
       "\n",
       "    this.send_message(name, {x: x, y: y, button: event.button,\n",
       "                             step: event.step,\n",
       "                             guiEvent: simpleKeys(event)});\n",
       "\n",
       "    /* This prevents the web browser from automatically changing to\n",
       "     * the text insertion cursor when the button is pressed.  We want\n",
       "     * to control all of the cursor setting manually through the\n",
       "     * 'cursor' event from matplotlib */\n",
       "    event.preventDefault();\n",
       "    return false;\n",
       "}\n",
       "\n",
       "mpl.figure.prototype._key_event_extra = function(event, name) {\n",
       "    // Handle any extra behaviour associated with a key event\n",
       "}\n",
       "\n",
       "mpl.figure.prototype.key_event = function(event, name) {\n",
       "\n",
       "    // Prevent repeat events\n",
       "    if (name == 'key_press')\n",
       "    {\n",
       "        if (event.which === this._key)\n",
       "            return;\n",
       "        else\n",
       "            this._key = event.which;\n",
       "    }\n",
       "    if (name == 'key_release')\n",
       "        this._key = null;\n",
       "\n",
       "    var value = '';\n",
       "    if (event.ctrlKey && event.which != 17)\n",
       "        value += \"ctrl+\";\n",
       "    if (event.altKey && event.which != 18)\n",
       "        value += \"alt+\";\n",
       "    if (event.shiftKey && event.which != 16)\n",
       "        value += \"shift+\";\n",
       "\n",
       "    value += 'k';\n",
       "    value += event.which.toString();\n",
       "\n",
       "    this._key_event_extra(event, name);\n",
       "\n",
       "    this.send_message(name, {key: value,\n",
       "                             guiEvent: simpleKeys(event)});\n",
       "    return false;\n",
       "}\n",
       "\n",
       "mpl.figure.prototype.toolbar_button_onclick = function(name) {\n",
       "    if (name == 'download') {\n",
       "        this.handle_save(this, null);\n",
       "    } else {\n",
       "        this.send_message(\"toolbar_button\", {name: name});\n",
       "    }\n",
       "};\n",
       "\n",
       "mpl.figure.prototype.toolbar_button_onmouseover = function(tooltip) {\n",
       "    this.message.textContent = tooltip;\n",
       "};\n",
       "mpl.toolbar_items = [[\"Home\", \"Reset original view\", \"fa fa-home icon-home\", \"home\"], [\"Back\", \"Back to previous view\", \"fa fa-arrow-left icon-arrow-left\", \"back\"], [\"Forward\", \"Forward to next view\", \"fa fa-arrow-right icon-arrow-right\", \"forward\"], [\"\", \"\", \"\", \"\"], [\"Pan\", \"Pan axes with left mouse, zoom with right\", \"fa fa-arrows icon-move\", \"pan\"], [\"Zoom\", \"Zoom to rectangle\", \"fa fa-square-o icon-check-empty\", \"zoom\"], [\"\", \"\", \"\", \"\"], [\"Download\", \"Download plot\", \"fa fa-floppy-o icon-save\", \"download\"]];\n",
       "\n",
       "mpl.extensions = [\"eps\", \"pdf\", \"png\", \"ps\", \"raw\", \"svg\"];\n",
       "\n",
       "mpl.default_extension = \"png\";var comm_websocket_adapter = function(comm) {\n",
       "    // Create a \"websocket\"-like object which calls the given IPython comm\n",
       "    // object with the appropriate methods. Currently this is a non binary\n",
       "    // socket, so there is still some room for performance tuning.\n",
       "    var ws = {};\n",
       "\n",
       "    ws.close = function() {\n",
       "        comm.close()\n",
       "    };\n",
       "    ws.send = function(m) {\n",
       "        //console.log('sending', m);\n",
       "        comm.send(m);\n",
       "    };\n",
       "    // Register the callback with on_msg.\n",
       "    comm.on_msg(function(msg) {\n",
       "        //console.log('receiving', msg['content']['data'], msg);\n",
       "        // Pass the mpl event to the overridden (by mpl) onmessage function.\n",
       "        ws.onmessage(msg['content']['data'])\n",
       "    });\n",
       "    return ws;\n",
       "}\n",
       "\n",
       "mpl.mpl_figure_comm = function(comm, msg) {\n",
       "    // This is the function which gets called when the mpl process\n",
       "    // starts-up an IPython Comm through the \"matplotlib\" channel.\n",
       "\n",
       "    var id = msg.content.data.id;\n",
       "    // Get hold of the div created by the display call when the Comm\n",
       "    // socket was opened in Python.\n",
       "    var element = $(\"#\" + id);\n",
       "    var ws_proxy = comm_websocket_adapter(comm)\n",
       "\n",
       "    function ondownload(figure, format) {\n",
       "        window.open(figure.imageObj.src);\n",
       "    }\n",
       "\n",
       "    var fig = new mpl.figure(id, ws_proxy,\n",
       "                           ondownload,\n",
       "                           element.get(0));\n",
       "\n",
       "    // Call onopen now - mpl needs it, as it is assuming we've passed it a real\n",
       "    // web socket which is closed, not our websocket->open comm proxy.\n",
       "    ws_proxy.onopen();\n",
       "\n",
       "    fig.parent_element = element.get(0);\n",
       "    fig.cell_info = mpl.find_output_cell(\"<div id='\" + id + \"'></div>\");\n",
       "    if (!fig.cell_info) {\n",
       "        console.error(\"Failed to find cell for figure\", id, fig);\n",
       "        return;\n",
       "    }\n",
       "\n",
       "    var output_index = fig.cell_info[2]\n",
       "    var cell = fig.cell_info[0];\n",
       "\n",
       "};\n",
       "\n",
       "mpl.figure.prototype.handle_close = function(fig, msg) {\n",
       "    var width = fig.canvas.width/mpl.ratio\n",
       "    fig.root.unbind('remove')\n",
       "\n",
       "    // Update the output cell to use the data from the current canvas.\n",
       "    fig.push_to_output();\n",
       "    var dataURL = fig.canvas.toDataURL();\n",
       "    // Re-enable the keyboard manager in IPython - without this line, in FF,\n",
       "    // the notebook keyboard shortcuts fail.\n",
       "    IPython.keyboard_manager.enable()\n",
       "    $(fig.parent_element).html('<img src=\"' + dataURL + '\" width=\"' + width + '\">');\n",
       "    fig.close_ws(fig, msg);\n",
       "}\n",
       "\n",
       "mpl.figure.prototype.close_ws = function(fig, msg){\n",
       "    fig.send_message('closing', msg);\n",
       "    // fig.ws.close()\n",
       "}\n",
       "\n",
       "mpl.figure.prototype.push_to_output = function(remove_interactive) {\n",
       "    // Turn the data on the canvas into data in the output cell.\n",
       "    var width = this.canvas.width/mpl.ratio\n",
       "    var dataURL = this.canvas.toDataURL();\n",
       "    this.cell_info[1]['text/html'] = '<img src=\"' + dataURL + '\" width=\"' + width + '\">';\n",
       "}\n",
       "\n",
       "mpl.figure.prototype.updated_canvas_event = function() {\n",
       "    // Tell IPython that the notebook contents must change.\n",
       "    IPython.notebook.set_dirty(true);\n",
       "    this.send_message(\"ack\", {});\n",
       "    var fig = this;\n",
       "    // Wait a second, then push the new image to the DOM so\n",
       "    // that it is saved nicely (might be nice to debounce this).\n",
       "    setTimeout(function () { fig.push_to_output() }, 1000);\n",
       "}\n",
       "\n",
       "mpl.figure.prototype._init_toolbar = function() {\n",
       "    var fig = this;\n",
       "\n",
       "    var nav_element = $('<div/>');\n",
       "    nav_element.attr('style', 'width: 100%');\n",
       "    this.root.append(nav_element);\n",
       "\n",
       "    // Define a callback function for later on.\n",
       "    function toolbar_event(event) {\n",
       "        return fig.toolbar_button_onclick(event['data']);\n",
       "    }\n",
       "    function toolbar_mouse_event(event) {\n",
       "        return fig.toolbar_button_onmouseover(event['data']);\n",
       "    }\n",
       "\n",
       "    for(var toolbar_ind in mpl.toolbar_items){\n",
       "        var name = mpl.toolbar_items[toolbar_ind][0];\n",
       "        var tooltip = mpl.toolbar_items[toolbar_ind][1];\n",
       "        var image = mpl.toolbar_items[toolbar_ind][2];\n",
       "        var method_name = mpl.toolbar_items[toolbar_ind][3];\n",
       "\n",
       "        if (!name) { continue; };\n",
       "\n",
       "        var button = $('<button class=\"btn btn-default\" href=\"#\" title=\"' + name + '\"><i class=\"fa ' + image + ' fa-lg\"></i></button>');\n",
       "        button.click(method_name, toolbar_event);\n",
       "        button.mouseover(tooltip, toolbar_mouse_event);\n",
       "        nav_element.append(button);\n",
       "    }\n",
       "\n",
       "    // Add the status bar.\n",
       "    var status_bar = $('<span class=\"mpl-message\" style=\"text-align:right; float: right;\"/>');\n",
       "    nav_element.append(status_bar);\n",
       "    this.message = status_bar[0];\n",
       "\n",
       "    // Add the close button to the window.\n",
       "    var buttongrp = $('<div class=\"btn-group inline pull-right\"></div>');\n",
       "    var button = $('<button class=\"btn btn-mini btn-primary\" href=\"#\" title=\"Stop Interaction\"><i class=\"fa fa-power-off icon-remove icon-large\"></i></button>');\n",
       "    button.click(function (evt) { fig.handle_close(fig, {}); } );\n",
       "    button.mouseover('Stop Interaction', toolbar_mouse_event);\n",
       "    buttongrp.append(button);\n",
       "    var titlebar = this.root.find($('.ui-dialog-titlebar'));\n",
       "    titlebar.prepend(buttongrp);\n",
       "}\n",
       "\n",
       "mpl.figure.prototype._root_extra_style = function(el){\n",
       "    var fig = this\n",
       "    el.on(\"remove\", function(){\n",
       "\tfig.close_ws(fig, {});\n",
       "    });\n",
       "}\n",
       "\n",
       "mpl.figure.prototype._canvas_extra_style = function(el){\n",
       "    // this is important to make the div 'focusable\n",
       "    el.attr('tabindex', 0)\n",
       "    // reach out to IPython and tell the keyboard manager to turn it's self\n",
       "    // off when our div gets focus\n",
       "\n",
       "    // location in version 3\n",
       "    if (IPython.notebook.keyboard_manager) {\n",
       "        IPython.notebook.keyboard_manager.register_events(el);\n",
       "    }\n",
       "    else {\n",
       "        // location in version 2\n",
       "        IPython.keyboard_manager.register_events(el);\n",
       "    }\n",
       "\n",
       "}\n",
       "\n",
       "mpl.figure.prototype._key_event_extra = function(event, name) {\n",
       "    var manager = IPython.notebook.keyboard_manager;\n",
       "    if (!manager)\n",
       "        manager = IPython.keyboard_manager;\n",
       "\n",
       "    // Check for shift+enter\n",
       "    if (event.shiftKey && event.which == 13) {\n",
       "        this.canvas_div.blur();\n",
       "        event.shiftKey = false;\n",
       "        // Send a \"J\" for go to next cell\n",
       "        event.which = 74;\n",
       "        event.keyCode = 74;\n",
       "        manager.command_mode();\n",
       "        manager.handle_keydown(event);\n",
       "    }\n",
       "}\n",
       "\n",
       "mpl.figure.prototype.handle_save = function(fig, msg) {\n",
       "    fig.ondownload(fig, null);\n",
       "}\n",
       "\n",
       "\n",
       "mpl.find_output_cell = function(html_output) {\n",
       "    // Return the cell and output element which can be found *uniquely* in the notebook.\n",
       "    // Note - this is a bit hacky, but it is done because the \"notebook_saving.Notebook\"\n",
       "    // IPython event is triggered only after the cells have been serialised, which for\n",
       "    // our purposes (turning an active figure into a static one), is too late.\n",
       "    var cells = IPython.notebook.get_cells();\n",
       "    var ncells = cells.length;\n",
       "    for (var i=0; i<ncells; i++) {\n",
       "        var cell = cells[i];\n",
       "        if (cell.cell_type === 'code'){\n",
       "            for (var j=0; j<cell.output_area.outputs.length; j++) {\n",
       "                var data = cell.output_area.outputs[j];\n",
       "                if (data.data) {\n",
       "                    // IPython >= 3 moved mimebundle to data attribute of output\n",
       "                    data = data.data;\n",
       "                }\n",
       "                if (data['text/html'] == html_output) {\n",
       "                    return [cell, data, j];\n",
       "                }\n",
       "            }\n",
       "        }\n",
       "    }\n",
       "}\n",
       "\n",
       "// Register the function which deals with the matplotlib target/channel.\n",
       "// The kernel may be null if the page has been refreshed.\n",
       "if (IPython.notebook.kernel != null) {\n",
       "    IPython.notebook.kernel.comm_manager.register_target('matplotlib', mpl.mpl_figure_comm);\n",
       "}\n"
      ],
      "text/plain": [
       "<IPython.core.display.Javascript object>"
      ]
     },
     "metadata": {},
     "output_type": "display_data"
    },
    {
     "data": {
      "text/html": [
       "<img src=\"data:image/png;base64,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\" width=\"800\">"
      ],
      "text/plain": [
       "<IPython.core.display.HTML object>"
      ]
     },
     "metadata": {},
     "output_type": "display_data"
    },
    {
     "data": {
      "application/vnd.jupyter.widget-view+json": {
       "model_id": "fbf1678e5f6a4782a61c1ff7df35fafa",
       "version_major": 2,
       "version_minor": 0
      },
      "text/plain": [
       "HBox(children=(IntProgress(value=0, description='1st loop', max=200, style=ProgressStyle(description_width='in…"
      ]
     },
     "metadata": {},
     "output_type": "display_data"
    },
    {
     "data": {
      "application/vnd.jupyter.widget-view+json": {
       "model_id": "",
       "version_major": 2,
       "version_minor": 0
      },
      "text/plain": [
       "HBox(children=(IntProgress(value=0, description='2nd loop', max=10, style=ProgressStyle(description_width='ini…"
      ]
     },
     "metadata": {},
     "output_type": "display_data"
    },
    {
     "data": {
      "application/vnd.jupyter.widget-view+json": {
       "model_id": "",
       "version_major": 2,
       "version_minor": 0
      },
      "text/plain": [
       "HBox(children=(IntProgress(value=0, description='2nd loop', max=10, style=ProgressStyle(description_width='ini…"
      ]
     },
     "metadata": {},
     "output_type": "display_data"
    },
    {
     "data": {
      "application/vnd.jupyter.widget-view+json": {
       "model_id": "",
       "version_major": 2,
       "version_minor": 0
      },
      "text/plain": [
       "HBox(children=(IntProgress(value=0, description='2nd loop', max=10, style=ProgressStyle(description_width='ini…"
      ]
     },
     "metadata": {},
     "output_type": "display_data"
    },
    {
     "data": {
      "application/vnd.jupyter.widget-view+json": {
       "model_id": "",
       "version_major": 2,
       "version_minor": 0
      },
      "text/plain": [
       "HBox(children=(IntProgress(value=0, description='2nd loop', max=10, style=ProgressStyle(description_width='ini…"
      ]
     },
     "metadata": {},
     "output_type": "display_data"
    },
    {
     "data": {
      "application/vnd.jupyter.widget-view+json": {
       "model_id": "",
       "version_major": 2,
       "version_minor": 0
      },
      "text/plain": [
       "HBox(children=(IntProgress(value=0, description='2nd loop', max=10, style=ProgressStyle(description_width='ini…"
      ]
     },
     "metadata": {},
     "output_type": "display_data"
    },
    {
     "data": {
      "application/vnd.jupyter.widget-view+json": {
       "model_id": "",
       "version_major": 2,
       "version_minor": 0
      },
      "text/plain": [
       "HBox(children=(IntProgress(value=0, description='2nd loop', max=10, style=ProgressStyle(description_width='ini…"
      ]
     },
     "metadata": {},
     "output_type": "display_data"
    },
    {
     "data": {
      "application/vnd.jupyter.widget-view+json": {
       "model_id": "",
       "version_major": 2,
       "version_minor": 0
      },
      "text/plain": [
       "HBox(children=(IntProgress(value=0, description='2nd loop', max=10, style=ProgressStyle(description_width='ini…"
      ]
     },
     "metadata": {},
     "output_type": "display_data"
    },
    {
     "data": {
      "application/vnd.jupyter.widget-view+json": {
       "model_id": "",
       "version_major": 2,
       "version_minor": 0
      },
      "text/plain": [
       "HBox(children=(IntProgress(value=0, description='2nd loop', max=10, style=ProgressStyle(description_width='ini…"
      ]
     },
     "metadata": {},
     "output_type": "display_data"
    },
    {
     "data": {
      "application/vnd.jupyter.widget-view+json": {
       "model_id": "",
       "version_major": 2,
       "version_minor": 0
      },
      "text/plain": [
       "HBox(children=(IntProgress(value=0, description='2nd loop', max=10, style=ProgressStyle(description_width='ini…"
      ]
     },
     "metadata": {},
     "output_type": "display_data"
    },
    {
     "data": {
      "application/vnd.jupyter.widget-view+json": {
       "model_id": "",
       "version_major": 2,
       "version_minor": 0
      },
      "text/plain": [
       "HBox(children=(IntProgress(value=0, description='2nd loop', max=10, style=ProgressStyle(description_width='ini…"
      ]
     },
     "metadata": {},
     "output_type": "display_data"
    },
    {
     "data": {
      "application/vnd.jupyter.widget-view+json": {
       "model_id": "",
       "version_major": 2,
       "version_minor": 0
      },
      "text/plain": [
       "HBox(children=(IntProgress(value=0, description='2nd loop', max=10, style=ProgressStyle(description_width='ini…"
      ]
     },
     "metadata": {},
     "output_type": "display_data"
    },
    {
     "data": {
      "application/vnd.jupyter.widget-view+json": {
       "model_id": "",
       "version_major": 2,
       "version_minor": 0
      },
      "text/plain": [
       "HBox(children=(IntProgress(value=0, description='2nd loop', max=10, style=ProgressStyle(description_width='ini…"
      ]
     },
     "metadata": {},
     "output_type": "display_data"
    },
    {
     "data": {
      "application/vnd.jupyter.widget-view+json": {
       "model_id": "",
       "version_major": 2,
       "version_minor": 0
      },
      "text/plain": [
       "HBox(children=(IntProgress(value=0, description='2nd loop', max=10, style=ProgressStyle(description_width='ini…"
      ]
     },
     "metadata": {},
     "output_type": "display_data"
    },
    {
     "data": {
      "application/vnd.jupyter.widget-view+json": {
       "model_id": "",
       "version_major": 2,
       "version_minor": 0
      },
      "text/plain": [
       "HBox(children=(IntProgress(value=0, description='2nd loop', max=10, style=ProgressStyle(description_width='ini…"
      ]
     },
     "metadata": {},
     "output_type": "display_data"
    },
    {
     "data": {
      "application/vnd.jupyter.widget-view+json": {
       "model_id": "",
       "version_major": 2,
       "version_minor": 0
      },
      "text/plain": [
       "HBox(children=(IntProgress(value=0, description='2nd loop', max=10, style=ProgressStyle(description_width='ini…"
      ]
     },
     "metadata": {},
     "output_type": "display_data"
    },
    {
     "data": {
      "application/vnd.jupyter.widget-view+json": {
       "model_id": "",
       "version_major": 2,
       "version_minor": 0
      },
      "text/plain": [
       "HBox(children=(IntProgress(value=0, description='2nd loop', max=10, style=ProgressStyle(description_width='ini…"
      ]
     },
     "metadata": {},
     "output_type": "display_data"
    },
    {
     "data": {
      "application/vnd.jupyter.widget-view+json": {
       "model_id": "",
       "version_major": 2,
       "version_minor": 0
      },
      "text/plain": [
       "HBox(children=(IntProgress(value=0, description='2nd loop', max=10, style=ProgressStyle(description_width='ini…"
      ]
     },
     "metadata": {},
     "output_type": "display_data"
    },
    {
     "data": {
      "application/vnd.jupyter.widget-view+json": {
       "model_id": "",
       "version_major": 2,
       "version_minor": 0
      },
      "text/plain": [
       "HBox(children=(IntProgress(value=0, description='2nd loop', max=10, style=ProgressStyle(description_width='ini…"
      ]
     },
     "metadata": {},
     "output_type": "display_data"
    },
    {
     "data": {
      "application/vnd.jupyter.widget-view+json": {
       "model_id": "",
       "version_major": 2,
       "version_minor": 0
      },
      "text/plain": [
       "HBox(children=(IntProgress(value=0, description='2nd loop', max=10, style=ProgressStyle(description_width='ini…"
      ]
     },
     "metadata": {},
     "output_type": "display_data"
    },
    {
     "data": {
      "application/vnd.jupyter.widget-view+json": {
       "model_id": "",
       "version_major": 2,
       "version_minor": 0
      },
      "text/plain": [
       "HBox(children=(IntProgress(value=0, description='2nd loop', max=10, style=ProgressStyle(description_width='ini…"
      ]
     },
     "metadata": {},
     "output_type": "display_data"
    },
    {
     "data": {
      "application/vnd.jupyter.widget-view+json": {
       "model_id": "",
       "version_major": 2,
       "version_minor": 0
      },
      "text/plain": [
       "HBox(children=(IntProgress(value=0, description='2nd loop', max=10, style=ProgressStyle(description_width='ini…"
      ]
     },
     "metadata": {},
     "output_type": "display_data"
    },
    {
     "data": {
      "application/vnd.jupyter.widget-view+json": {
       "model_id": "",
       "version_major": 2,
       "version_minor": 0
      },
      "text/plain": [
       "HBox(children=(IntProgress(value=0, description='2nd loop', max=10, style=ProgressStyle(description_width='ini…"
      ]
     },
     "metadata": {},
     "output_type": "display_data"
    },
    {
     "data": {
      "application/vnd.jupyter.widget-view+json": {
       "model_id": "",
       "version_major": 2,
       "version_minor": 0
      },
      "text/plain": [
       "HBox(children=(IntProgress(value=0, description='2nd loop', max=10, style=ProgressStyle(description_width='ini…"
      ]
     },
     "metadata": {},
     "output_type": "display_data"
    },
    {
     "data": {
      "application/vnd.jupyter.widget-view+json": {
       "model_id": "",
       "version_major": 2,
       "version_minor": 0
      },
      "text/plain": [
       "HBox(children=(IntProgress(value=0, description='2nd loop', max=10, style=ProgressStyle(description_width='ini…"
      ]
     },
     "metadata": {},
     "output_type": "display_data"
    },
    {
     "data": {
      "application/vnd.jupyter.widget-view+json": {
       "model_id": "",
       "version_major": 2,
       "version_minor": 0
      },
      "text/plain": [
       "HBox(children=(IntProgress(value=0, description='2nd loop', max=10, style=ProgressStyle(description_width='ini…"
      ]
     },
     "metadata": {},
     "output_type": "display_data"
    },
    {
     "data": {
      "application/vnd.jupyter.widget-view+json": {
       "model_id": "",
       "version_major": 2,
       "version_minor": 0
      },
      "text/plain": [
       "HBox(children=(IntProgress(value=0, description='2nd loop', max=10, style=ProgressStyle(description_width='ini…"
      ]
     },
     "metadata": {},
     "output_type": "display_data"
    },
    {
     "data": {
      "application/vnd.jupyter.widget-view+json": {
       "model_id": "",
       "version_major": 2,
       "version_minor": 0
      },
      "text/plain": [
       "HBox(children=(IntProgress(value=0, description='2nd loop', max=10, style=ProgressStyle(description_width='ini…"
      ]
     },
     "metadata": {},
     "output_type": "display_data"
    },
    {
     "data": {
      "application/vnd.jupyter.widget-view+json": {
       "model_id": "",
       "version_major": 2,
       "version_minor": 0
      },
      "text/plain": [
       "HBox(children=(IntProgress(value=0, description='2nd loop', max=10, style=ProgressStyle(description_width='ini…"
      ]
     },
     "metadata": {},
     "output_type": "display_data"
    },
    {
     "data": {
      "application/vnd.jupyter.widget-view+json": {
       "model_id": "",
       "version_major": 2,
       "version_minor": 0
      },
      "text/plain": [
       "HBox(children=(IntProgress(value=0, description='2nd loop', max=10, style=ProgressStyle(description_width='ini…"
      ]
     },
     "metadata": {},
     "output_type": "display_data"
    },
    {
     "data": {
      "application/vnd.jupyter.widget-view+json": {
       "model_id": "",
       "version_major": 2,
       "version_minor": 0
      },
      "text/plain": [
       "HBox(children=(IntProgress(value=0, description='2nd loop', max=10, style=ProgressStyle(description_width='ini…"
      ]
     },
     "metadata": {},
     "output_type": "display_data"
    },
    {
     "data": {
      "application/vnd.jupyter.widget-view+json": {
       "model_id": "",
       "version_major": 2,
       "version_minor": 0
      },
      "text/plain": [
       "HBox(children=(IntProgress(value=0, description='2nd loop', max=10, style=ProgressStyle(description_width='ini…"
      ]
     },
     "metadata": {},
     "output_type": "display_data"
    },
    {
     "data": {
      "application/vnd.jupyter.widget-view+json": {
       "model_id": "",
       "version_major": 2,
       "version_minor": 0
      },
      "text/plain": [
       "HBox(children=(IntProgress(value=0, description='2nd loop', max=10, style=ProgressStyle(description_width='ini…"
      ]
     },
     "metadata": {},
     "output_type": "display_data"
    },
    {
     "data": {
      "application/vnd.jupyter.widget-view+json": {
       "model_id": "",
       "version_major": 2,
       "version_minor": 0
      },
      "text/plain": [
       "HBox(children=(IntProgress(value=0, description='2nd loop', max=10, style=ProgressStyle(description_width='ini…"
      ]
     },
     "metadata": {},
     "output_type": "display_data"
    },
    {
     "data": {
      "application/vnd.jupyter.widget-view+json": {
       "model_id": "",
       "version_major": 2,
       "version_minor": 0
      },
      "text/plain": [
       "HBox(children=(IntProgress(value=0, description='2nd loop', max=10, style=ProgressStyle(description_width='ini…"
      ]
     },
     "metadata": {},
     "output_type": "display_data"
    },
    {
     "data": {
      "application/vnd.jupyter.widget-view+json": {
       "model_id": "",
       "version_major": 2,
       "version_minor": 0
      },
      "text/plain": [
       "HBox(children=(IntProgress(value=0, description='2nd loop', max=10, style=ProgressStyle(description_width='ini…"
      ]
     },
     "metadata": {},
     "output_type": "display_data"
    },
    {
     "data": {
      "application/vnd.jupyter.widget-view+json": {
       "model_id": "",
       "version_major": 2,
       "version_minor": 0
      },
      "text/plain": [
       "HBox(children=(IntProgress(value=0, description='2nd loop', max=10, style=ProgressStyle(description_width='ini…"
      ]
     },
     "metadata": {},
     "output_type": "display_data"
    },
    {
     "data": {
      "application/vnd.jupyter.widget-view+json": {
       "model_id": "",
       "version_major": 2,
       "version_minor": 0
      },
      "text/plain": [
       "HBox(children=(IntProgress(value=0, description='2nd loop', max=10, style=ProgressStyle(description_width='ini…"
      ]
     },
     "metadata": {},
     "output_type": "display_data"
    },
    {
     "data": {
      "application/vnd.jupyter.widget-view+json": {
       "model_id": "",
       "version_major": 2,
       "version_minor": 0
      },
      "text/plain": [
       "HBox(children=(IntProgress(value=0, description='2nd loop', max=10, style=ProgressStyle(description_width='ini…"
      ]
     },
     "metadata": {},
     "output_type": "display_data"
    },
    {
     "data": {
      "application/vnd.jupyter.widget-view+json": {
       "model_id": "",
       "version_major": 2,
       "version_minor": 0
      },
      "text/plain": [
       "HBox(children=(IntProgress(value=0, description='2nd loop', max=10, style=ProgressStyle(description_width='ini…"
      ]
     },
     "metadata": {},
     "output_type": "display_data"
    },
    {
     "data": {
      "application/vnd.jupyter.widget-view+json": {
       "model_id": "",
       "version_major": 2,
       "version_minor": 0
      },
      "text/plain": [
       "HBox(children=(IntProgress(value=0, description='2nd loop', max=10, style=ProgressStyle(description_width='ini…"
      ]
     },
     "metadata": {},
     "output_type": "display_data"
    },
    {
     "data": {
      "application/vnd.jupyter.widget-view+json": {
       "model_id": "",
       "version_major": 2,
       "version_minor": 0
      },
      "text/plain": [
       "HBox(children=(IntProgress(value=0, description='2nd loop', max=10, style=ProgressStyle(description_width='ini…"
      ]
     },
     "metadata": {},
     "output_type": "display_data"
    },
    {
     "data": {
      "application/vnd.jupyter.widget-view+json": {
       "model_id": "",
       "version_major": 2,
       "version_minor": 0
      },
      "text/plain": [
       "HBox(children=(IntProgress(value=0, description='2nd loop', max=10, style=ProgressStyle(description_width='ini…"
      ]
     },
     "metadata": {},
     "output_type": "display_data"
    },
    {
     "data": {
      "application/vnd.jupyter.widget-view+json": {
       "model_id": "",
       "version_major": 2,
       "version_minor": 0
      },
      "text/plain": [
       "HBox(children=(IntProgress(value=0, description='2nd loop', max=10, style=ProgressStyle(description_width='ini…"
      ]
     },
     "metadata": {},
     "output_type": "display_data"
    },
    {
     "data": {
      "application/vnd.jupyter.widget-view+json": {
       "model_id": "",
       "version_major": 2,
       "version_minor": 0
      },
      "text/plain": [
       "HBox(children=(IntProgress(value=0, description='2nd loop', max=10, style=ProgressStyle(description_width='ini…"
      ]
     },
     "metadata": {},
     "output_type": "display_data"
    },
    {
     "data": {
      "application/vnd.jupyter.widget-view+json": {
       "model_id": "",
       "version_major": 2,
       "version_minor": 0
      },
      "text/plain": [
       "HBox(children=(IntProgress(value=0, description='2nd loop', max=10, style=ProgressStyle(description_width='ini…"
      ]
     },
     "metadata": {},
     "output_type": "display_data"
    },
    {
     "data": {
      "application/vnd.jupyter.widget-view+json": {
       "model_id": "",
       "version_major": 2,
       "version_minor": 0
      },
      "text/plain": [
       "HBox(children=(IntProgress(value=0, description='2nd loop', max=10, style=ProgressStyle(description_width='ini…"
      ]
     },
     "metadata": {},
     "output_type": "display_data"
    },
    {
     "data": {
      "application/vnd.jupyter.widget-view+json": {
       "model_id": "",
       "version_major": 2,
       "version_minor": 0
      },
      "text/plain": [
       "HBox(children=(IntProgress(value=0, description='2nd loop', max=10, style=ProgressStyle(description_width='ini…"
      ]
     },
     "metadata": {},
     "output_type": "display_data"
    },
    {
     "data": {
      "application/vnd.jupyter.widget-view+json": {
       "model_id": "",
       "version_major": 2,
       "version_minor": 0
      },
      "text/plain": [
       "HBox(children=(IntProgress(value=0, description='2nd loop', max=10, style=ProgressStyle(description_width='ini…"
      ]
     },
     "metadata": {},
     "output_type": "display_data"
    },
    {
     "data": {
      "application/vnd.jupyter.widget-view+json": {
       "model_id": "",
       "version_major": 2,
       "version_minor": 0
      },
      "text/plain": [
       "HBox(children=(IntProgress(value=0, description='2nd loop', max=10, style=ProgressStyle(description_width='ini…"
      ]
     },
     "metadata": {},
     "output_type": "display_data"
    },
    {
     "data": {
      "application/vnd.jupyter.widget-view+json": {
       "model_id": "",
       "version_major": 2,
       "version_minor": 0
      },
      "text/plain": [
       "HBox(children=(IntProgress(value=0, description='2nd loop', max=10, style=ProgressStyle(description_width='ini…"
      ]
     },
     "metadata": {},
     "output_type": "display_data"
    },
    {
     "data": {
      "application/vnd.jupyter.widget-view+json": {
       "model_id": "",
       "version_major": 2,
       "version_minor": 0
      },
      "text/plain": [
       "HBox(children=(IntProgress(value=0, description='2nd loop', max=10, style=ProgressStyle(description_width='ini…"
      ]
     },
     "metadata": {},
     "output_type": "display_data"
    },
    {
     "data": {
      "application/vnd.jupyter.widget-view+json": {
       "model_id": "",
       "version_major": 2,
       "version_minor": 0
      },
      "text/plain": [
       "HBox(children=(IntProgress(value=0, description='2nd loop', max=10, style=ProgressStyle(description_width='ini…"
      ]
     },
     "metadata": {},
     "output_type": "display_data"
    },
    {
     "data": {
      "application/vnd.jupyter.widget-view+json": {
       "model_id": "",
       "version_major": 2,
       "version_minor": 0
      },
      "text/plain": [
       "HBox(children=(IntProgress(value=0, description='2nd loop', max=10, style=ProgressStyle(description_width='ini…"
      ]
     },
     "metadata": {},
     "output_type": "display_data"
    },
    {
     "data": {
      "application/vnd.jupyter.widget-view+json": {
       "model_id": "",
       "version_major": 2,
       "version_minor": 0
      },
      "text/plain": [
       "HBox(children=(IntProgress(value=0, description='2nd loop', max=10, style=ProgressStyle(description_width='ini…"
      ]
     },
     "metadata": {},
     "output_type": "display_data"
    },
    {
     "data": {
      "application/vnd.jupyter.widget-view+json": {
       "model_id": "",
       "version_major": 2,
       "version_minor": 0
      },
      "text/plain": [
       "HBox(children=(IntProgress(value=0, description='2nd loop', max=10, style=ProgressStyle(description_width='ini…"
      ]
     },
     "metadata": {},
     "output_type": "display_data"
    },
    {
     "data": {
      "application/vnd.jupyter.widget-view+json": {
       "model_id": "",
       "version_major": 2,
       "version_minor": 0
      },
      "text/plain": [
       "HBox(children=(IntProgress(value=0, description='2nd loop', max=10, style=ProgressStyle(description_width='ini…"
      ]
     },
     "metadata": {},
     "output_type": "display_data"
    },
    {
     "data": {
      "application/vnd.jupyter.widget-view+json": {
       "model_id": "",
       "version_major": 2,
       "version_minor": 0
      },
      "text/plain": [
       "HBox(children=(IntProgress(value=0, description='2nd loop', max=10, style=ProgressStyle(description_width='ini…"
      ]
     },
     "metadata": {},
     "output_type": "display_data"
    },
    {
     "data": {
      "application/vnd.jupyter.widget-view+json": {
       "model_id": "",
       "version_major": 2,
       "version_minor": 0
      },
      "text/plain": [
       "HBox(children=(IntProgress(value=0, description='2nd loop', max=10, style=ProgressStyle(description_width='ini…"
      ]
     },
     "metadata": {},
     "output_type": "display_data"
    },
    {
     "data": {
      "application/vnd.jupyter.widget-view+json": {
       "model_id": "",
       "version_major": 2,
       "version_minor": 0
      },
      "text/plain": [
       "HBox(children=(IntProgress(value=0, description='2nd loop', max=10, style=ProgressStyle(description_width='ini…"
      ]
     },
     "metadata": {},
     "output_type": "display_data"
    },
    {
     "data": {
      "application/vnd.jupyter.widget-view+json": {
       "model_id": "",
       "version_major": 2,
       "version_minor": 0
      },
      "text/plain": [
       "HBox(children=(IntProgress(value=0, description='2nd loop', max=10, style=ProgressStyle(description_width='ini…"
      ]
     },
     "metadata": {},
     "output_type": "display_data"
    },
    {
     "data": {
      "application/vnd.jupyter.widget-view+json": {
       "model_id": "",
       "version_major": 2,
       "version_minor": 0
      },
      "text/plain": [
       "HBox(children=(IntProgress(value=0, description='2nd loop', max=10, style=ProgressStyle(description_width='ini…"
      ]
     },
     "metadata": {},
     "output_type": "display_data"
    },
    {
     "data": {
      "application/vnd.jupyter.widget-view+json": {
       "model_id": "",
       "version_major": 2,
       "version_minor": 0
      },
      "text/plain": [
       "HBox(children=(IntProgress(value=0, description='2nd loop', max=10, style=ProgressStyle(description_width='ini…"
      ]
     },
     "metadata": {},
     "output_type": "display_data"
    },
    {
     "data": {
      "application/vnd.jupyter.widget-view+json": {
       "model_id": "",
       "version_major": 2,
       "version_minor": 0
      },
      "text/plain": [
       "HBox(children=(IntProgress(value=0, description='2nd loop', max=10, style=ProgressStyle(description_width='ini…"
      ]
     },
     "metadata": {},
     "output_type": "display_data"
    },
    {
     "data": {
      "application/vnd.jupyter.widget-view+json": {
       "model_id": "",
       "version_major": 2,
       "version_minor": 0
      },
      "text/plain": [
       "HBox(children=(IntProgress(value=0, description='2nd loop', max=10, style=ProgressStyle(description_width='ini…"
      ]
     },
     "metadata": {},
     "output_type": "display_data"
    },
    {
     "data": {
      "application/vnd.jupyter.widget-view+json": {
       "model_id": "",
       "version_major": 2,
       "version_minor": 0
      },
      "text/plain": [
       "HBox(children=(IntProgress(value=0, description='2nd loop', max=10, style=ProgressStyle(description_width='ini…"
      ]
     },
     "metadata": {},
     "output_type": "display_data"
    },
    {
     "data": {
      "application/vnd.jupyter.widget-view+json": {
       "model_id": "",
       "version_major": 2,
       "version_minor": 0
      },
      "text/plain": [
       "HBox(children=(IntProgress(value=0, description='2nd loop', max=10, style=ProgressStyle(description_width='ini…"
      ]
     },
     "metadata": {},
     "output_type": "display_data"
    },
    {
     "data": {
      "application/vnd.jupyter.widget-view+json": {
       "model_id": "",
       "version_major": 2,
       "version_minor": 0
      },
      "text/plain": [
       "HBox(children=(IntProgress(value=0, description='2nd loop', max=10, style=ProgressStyle(description_width='ini…"
      ]
     },
     "metadata": {},
     "output_type": "display_data"
    },
    {
     "data": {
      "application/vnd.jupyter.widget-view+json": {
       "model_id": "",
       "version_major": 2,
       "version_minor": 0
      },
      "text/plain": [
       "HBox(children=(IntProgress(value=0, description='2nd loop', max=10, style=ProgressStyle(description_width='ini…"
      ]
     },
     "metadata": {},
     "output_type": "display_data"
    },
    {
     "data": {
      "application/vnd.jupyter.widget-view+json": {
       "model_id": "",
       "version_major": 2,
       "version_minor": 0
      },
      "text/plain": [
       "HBox(children=(IntProgress(value=0, description='2nd loop', max=10, style=ProgressStyle(description_width='ini…"
      ]
     },
     "metadata": {},
     "output_type": "display_data"
    },
    {
     "data": {
      "application/vnd.jupyter.widget-view+json": {
       "model_id": "",
       "version_major": 2,
       "version_minor": 0
      },
      "text/plain": [
       "HBox(children=(IntProgress(value=0, description='2nd loop', max=10, style=ProgressStyle(description_width='ini…"
      ]
     },
     "metadata": {},
     "output_type": "display_data"
    },
    {
     "data": {
      "application/vnd.jupyter.widget-view+json": {
       "model_id": "",
       "version_major": 2,
       "version_minor": 0
      },
      "text/plain": [
       "HBox(children=(IntProgress(value=0, description='2nd loop', max=10, style=ProgressStyle(description_width='ini…"
      ]
     },
     "metadata": {},
     "output_type": "display_data"
    },
    {
     "data": {
      "application/vnd.jupyter.widget-view+json": {
       "model_id": "",
       "version_major": 2,
       "version_minor": 0
      },
      "text/plain": [
       "HBox(children=(IntProgress(value=0, description='2nd loop', max=10, style=ProgressStyle(description_width='ini…"
      ]
     },
     "metadata": {},
     "output_type": "display_data"
    },
    {
     "data": {
      "application/vnd.jupyter.widget-view+json": {
       "model_id": "",
       "version_major": 2,
       "version_minor": 0
      },
      "text/plain": [
       "HBox(children=(IntProgress(value=0, description='2nd loop', max=10, style=ProgressStyle(description_width='ini…"
      ]
     },
     "metadata": {},
     "output_type": "display_data"
    },
    {
     "data": {
      "application/vnd.jupyter.widget-view+json": {
       "model_id": "",
       "version_major": 2,
       "version_minor": 0
      },
      "text/plain": [
       "HBox(children=(IntProgress(value=0, description='2nd loop', max=10, style=ProgressStyle(description_width='ini…"
      ]
     },
     "metadata": {},
     "output_type": "display_data"
    },
    {
     "data": {
      "application/vnd.jupyter.widget-view+json": {
       "model_id": "",
       "version_major": 2,
       "version_minor": 0
      },
      "text/plain": [
       "HBox(children=(IntProgress(value=0, description='2nd loop', max=10, style=ProgressStyle(description_width='ini…"
      ]
     },
     "metadata": {},
     "output_type": "display_data"
    },
    {
     "data": {
      "application/vnd.jupyter.widget-view+json": {
       "model_id": "",
       "version_major": 2,
       "version_minor": 0
      },
      "text/plain": [
       "HBox(children=(IntProgress(value=0, description='2nd loop', max=10, style=ProgressStyle(description_width='ini…"
      ]
     },
     "metadata": {},
     "output_type": "display_data"
    },
    {
     "data": {
      "application/vnd.jupyter.widget-view+json": {
       "model_id": "",
       "version_major": 2,
       "version_minor": 0
      },
      "text/plain": [
       "HBox(children=(IntProgress(value=0, description='2nd loop', max=10, style=ProgressStyle(description_width='ini…"
      ]
     },
     "metadata": {},
     "output_type": "display_data"
    },
    {
     "data": {
      "application/vnd.jupyter.widget-view+json": {
       "model_id": "",
       "version_major": 2,
       "version_minor": 0
      },
      "text/plain": [
       "HBox(children=(IntProgress(value=0, description='2nd loop', max=10, style=ProgressStyle(description_width='ini…"
      ]
     },
     "metadata": {},
     "output_type": "display_data"
    },
    {
     "data": {
      "application/vnd.jupyter.widget-view+json": {
       "model_id": "",
       "version_major": 2,
       "version_minor": 0
      },
      "text/plain": [
       "HBox(children=(IntProgress(value=0, description='2nd loop', max=10, style=ProgressStyle(description_width='ini…"
      ]
     },
     "metadata": {},
     "output_type": "display_data"
    },
    {
     "data": {
      "application/vnd.jupyter.widget-view+json": {
       "model_id": "",
       "version_major": 2,
       "version_minor": 0
      },
      "text/plain": [
       "HBox(children=(IntProgress(value=0, description='2nd loop', max=10, style=ProgressStyle(description_width='ini…"
      ]
     },
     "metadata": {},
     "output_type": "display_data"
    },
    {
     "data": {
      "application/vnd.jupyter.widget-view+json": {
       "model_id": "",
       "version_major": 2,
       "version_minor": 0
      },
      "text/plain": [
       "HBox(children=(IntProgress(value=0, description='2nd loop', max=10, style=ProgressStyle(description_width='ini…"
      ]
     },
     "metadata": {},
     "output_type": "display_data"
    },
    {
     "data": {
      "application/vnd.jupyter.widget-view+json": {
       "model_id": "",
       "version_major": 2,
       "version_minor": 0
      },
      "text/plain": [
       "HBox(children=(IntProgress(value=0, description='2nd loop', max=10, style=ProgressStyle(description_width='ini…"
      ]
     },
     "metadata": {},
     "output_type": "display_data"
    },
    {
     "data": {
      "application/vnd.jupyter.widget-view+json": {
       "model_id": "",
       "version_major": 2,
       "version_minor": 0
      },
      "text/plain": [
       "HBox(children=(IntProgress(value=0, description='2nd loop', max=10, style=ProgressStyle(description_width='ini…"
      ]
     },
     "metadata": {},
     "output_type": "display_data"
    },
    {
     "data": {
      "application/vnd.jupyter.widget-view+json": {
       "model_id": "",
       "version_major": 2,
       "version_minor": 0
      },
      "text/plain": [
       "HBox(children=(IntProgress(value=0, description='2nd loop', max=10, style=ProgressStyle(description_width='ini…"
      ]
     },
     "metadata": {},
     "output_type": "display_data"
    },
    {
     "data": {
      "application/vnd.jupyter.widget-view+json": {
       "model_id": "",
       "version_major": 2,
       "version_minor": 0
      },
      "text/plain": [
       "HBox(children=(IntProgress(value=0, description='2nd loop', max=10, style=ProgressStyle(description_width='ini…"
      ]
     },
     "metadata": {},
     "output_type": "display_data"
    },
    {
     "data": {
      "application/vnd.jupyter.widget-view+json": {
       "model_id": "",
       "version_major": 2,
       "version_minor": 0
      },
      "text/plain": [
       "HBox(children=(IntProgress(value=0, description='2nd loop', max=10, style=ProgressStyle(description_width='ini…"
      ]
     },
     "metadata": {},
     "output_type": "display_data"
    },
    {
     "data": {
      "application/vnd.jupyter.widget-view+json": {
       "model_id": "",
       "version_major": 2,
       "version_minor": 0
      },
      "text/plain": [
       "HBox(children=(IntProgress(value=0, description='2nd loop', max=10, style=ProgressStyle(description_width='ini…"
      ]
     },
     "metadata": {},
     "output_type": "display_data"
    },
    {
     "data": {
      "application/vnd.jupyter.widget-view+json": {
       "model_id": "",
       "version_major": 2,
       "version_minor": 0
      },
      "text/plain": [
       "HBox(children=(IntProgress(value=0, description='2nd loop', max=10, style=ProgressStyle(description_width='ini…"
      ]
     },
     "metadata": {},
     "output_type": "display_data"
    },
    {
     "data": {
      "application/vnd.jupyter.widget-view+json": {
       "model_id": "",
       "version_major": 2,
       "version_minor": 0
      },
      "text/plain": [
       "HBox(children=(IntProgress(value=0, description='2nd loop', max=10, style=ProgressStyle(description_width='ini…"
      ]
     },
     "metadata": {},
     "output_type": "display_data"
    },
    {
     "data": {
      "application/vnd.jupyter.widget-view+json": {
       "model_id": "",
       "version_major": 2,
       "version_minor": 0
      },
      "text/plain": [
       "HBox(children=(IntProgress(value=0, description='2nd loop', max=10, style=ProgressStyle(description_width='ini…"
      ]
     },
     "metadata": {},
     "output_type": "display_data"
    },
    {
     "data": {
      "application/vnd.jupyter.widget-view+json": {
       "model_id": "",
       "version_major": 2,
       "version_minor": 0
      },
      "text/plain": [
       "HBox(children=(IntProgress(value=0, description='2nd loop', max=10, style=ProgressStyle(description_width='ini…"
      ]
     },
     "metadata": {},
     "output_type": "display_data"
    },
    {
     "data": {
      "application/vnd.jupyter.widget-view+json": {
       "model_id": "",
       "version_major": 2,
       "version_minor": 0
      },
      "text/plain": [
       "HBox(children=(IntProgress(value=0, description='2nd loop', max=10, style=ProgressStyle(description_width='ini…"
      ]
     },
     "metadata": {},
     "output_type": "display_data"
    },
    {
     "data": {
      "application/vnd.jupyter.widget-view+json": {
       "model_id": "",
       "version_major": 2,
       "version_minor": 0
      },
      "text/plain": [
       "HBox(children=(IntProgress(value=0, description='2nd loop', max=10, style=ProgressStyle(description_width='ini…"
      ]
     },
     "metadata": {},
     "output_type": "display_data"
    },
    {
     "data": {
      "application/vnd.jupyter.widget-view+json": {
       "model_id": "",
       "version_major": 2,
       "version_minor": 0
      },
      "text/plain": [
       "HBox(children=(IntProgress(value=0, description='2nd loop', max=10, style=ProgressStyle(description_width='ini…"
      ]
     },
     "metadata": {},
     "output_type": "display_data"
    },
    {
     "data": {
      "application/vnd.jupyter.widget-view+json": {
       "model_id": "",
       "version_major": 2,
       "version_minor": 0
      },
      "text/plain": [
       "HBox(children=(IntProgress(value=0, description='2nd loop', max=10, style=ProgressStyle(description_width='ini…"
      ]
     },
     "metadata": {},
     "output_type": "display_data"
    },
    {
     "data": {
      "application/vnd.jupyter.widget-view+json": {
       "model_id": "",
       "version_major": 2,
       "version_minor": 0
      },
      "text/plain": [
       "HBox(children=(IntProgress(value=0, description='2nd loop', max=10, style=ProgressStyle(description_width='ini…"
      ]
     },
     "metadata": {},
     "output_type": "display_data"
    },
    {
     "data": {
      "application/vnd.jupyter.widget-view+json": {
       "model_id": "",
       "version_major": 2,
       "version_minor": 0
      },
      "text/plain": [
       "HBox(children=(IntProgress(value=0, description='2nd loop', max=10, style=ProgressStyle(description_width='ini…"
      ]
     },
     "metadata": {},
     "output_type": "display_data"
    },
    {
     "data": {
      "application/vnd.jupyter.widget-view+json": {
       "model_id": "",
       "version_major": 2,
       "version_minor": 0
      },
      "text/plain": [
       "HBox(children=(IntProgress(value=0, description='2nd loop', max=10, style=ProgressStyle(description_width='ini…"
      ]
     },
     "metadata": {},
     "output_type": "display_data"
    },
    {
     "data": {
      "application/vnd.jupyter.widget-view+json": {
       "model_id": "",
       "version_major": 2,
       "version_minor": 0
      },
      "text/plain": [
       "HBox(children=(IntProgress(value=0, description='2nd loop', max=10, style=ProgressStyle(description_width='ini…"
      ]
     },
     "metadata": {},
     "output_type": "display_data"
    },
    {
     "data": {
      "application/vnd.jupyter.widget-view+json": {
       "model_id": "",
       "version_major": 2,
       "version_minor": 0
      },
      "text/plain": [
       "HBox(children=(IntProgress(value=0, description='2nd loop', max=10, style=ProgressStyle(description_width='ini…"
      ]
     },
     "metadata": {},
     "output_type": "display_data"
    },
    {
     "data": {
      "application/vnd.jupyter.widget-view+json": {
       "model_id": "",
       "version_major": 2,
       "version_minor": 0
      },
      "text/plain": [
       "HBox(children=(IntProgress(value=0, description='2nd loop', max=10, style=ProgressStyle(description_width='ini…"
      ]
     },
     "metadata": {},
     "output_type": "display_data"
    },
    {
     "data": {
      "application/vnd.jupyter.widget-view+json": {
       "model_id": "",
       "version_major": 2,
       "version_minor": 0
      },
      "text/plain": [
       "HBox(children=(IntProgress(value=0, description='2nd loop', max=10, style=ProgressStyle(description_width='ini…"
      ]
     },
     "metadata": {},
     "output_type": "display_data"
    },
    {
     "data": {
      "application/vnd.jupyter.widget-view+json": {
       "model_id": "",
       "version_major": 2,
       "version_minor": 0
      },
      "text/plain": [
       "HBox(children=(IntProgress(value=0, description='2nd loop', max=10, style=ProgressStyle(description_width='ini…"
      ]
     },
     "metadata": {},
     "output_type": "display_data"
    },
    {
     "data": {
      "application/vnd.jupyter.widget-view+json": {
       "model_id": "",
       "version_major": 2,
       "version_minor": 0
      },
      "text/plain": [
       "HBox(children=(IntProgress(value=0, description='2nd loop', max=10, style=ProgressStyle(description_width='ini…"
      ]
     },
     "metadata": {},
     "output_type": "display_data"
    },
    {
     "data": {
      "application/vnd.jupyter.widget-view+json": {
       "model_id": "",
       "version_major": 2,
       "version_minor": 0
      },
      "text/plain": [
       "HBox(children=(IntProgress(value=0, description='2nd loop', max=10, style=ProgressStyle(description_width='ini…"
      ]
     },
     "metadata": {},
     "output_type": "display_data"
    },
    {
     "data": {
      "application/vnd.jupyter.widget-view+json": {
       "model_id": "",
       "version_major": 2,
       "version_minor": 0
      },
      "text/plain": [
       "HBox(children=(IntProgress(value=0, description='2nd loop', max=10, style=ProgressStyle(description_width='ini…"
      ]
     },
     "metadata": {},
     "output_type": "display_data"
    },
    {
     "data": {
      "application/vnd.jupyter.widget-view+json": {
       "model_id": "",
       "version_major": 2,
       "version_minor": 0
      },
      "text/plain": [
       "HBox(children=(IntProgress(value=0, description='2nd loop', max=10, style=ProgressStyle(description_width='ini…"
      ]
     },
     "metadata": {},
     "output_type": "display_data"
    },
    {
     "data": {
      "application/vnd.jupyter.widget-view+json": {
       "model_id": "",
       "version_major": 2,
       "version_minor": 0
      },
      "text/plain": [
       "HBox(children=(IntProgress(value=0, description='2nd loop', max=10, style=ProgressStyle(description_width='ini…"
      ]
     },
     "metadata": {},
     "output_type": "display_data"
    },
    {
     "data": {
      "application/vnd.jupyter.widget-view+json": {
       "model_id": "",
       "version_major": 2,
       "version_minor": 0
      },
      "text/plain": [
       "HBox(children=(IntProgress(value=0, description='2nd loop', max=10, style=ProgressStyle(description_width='ini…"
      ]
     },
     "metadata": {},
     "output_type": "display_data"
    },
    {
     "data": {
      "application/vnd.jupyter.widget-view+json": {
       "model_id": "",
       "version_major": 2,
       "version_minor": 0
      },
      "text/plain": [
       "HBox(children=(IntProgress(value=0, description='2nd loop', max=10, style=ProgressStyle(description_width='ini…"
      ]
     },
     "metadata": {},
     "output_type": "display_data"
    },
    {
     "data": {
      "application/vnd.jupyter.widget-view+json": {
       "model_id": "",
       "version_major": 2,
       "version_minor": 0
      },
      "text/plain": [
       "HBox(children=(IntProgress(value=0, description='2nd loop', max=10, style=ProgressStyle(description_width='ini…"
      ]
     },
     "metadata": {},
     "output_type": "display_data"
    },
    {
     "data": {
      "application/vnd.jupyter.widget-view+json": {
       "model_id": "",
       "version_major": 2,
       "version_minor": 0
      },
      "text/plain": [
       "HBox(children=(IntProgress(value=0, description='2nd loop', max=10, style=ProgressStyle(description_width='ini…"
      ]
     },
     "metadata": {},
     "output_type": "display_data"
    },
    {
     "data": {
      "application/vnd.jupyter.widget-view+json": {
       "model_id": "",
       "version_major": 2,
       "version_minor": 0
      },
      "text/plain": [
       "HBox(children=(IntProgress(value=0, description='2nd loop', max=10, style=ProgressStyle(description_width='ini…"
      ]
     },
     "metadata": {},
     "output_type": "display_data"
    },
    {
     "data": {
      "application/vnd.jupyter.widget-view+json": {
       "model_id": "",
       "version_major": 2,
       "version_minor": 0
      },
      "text/plain": [
       "HBox(children=(IntProgress(value=0, description='2nd loop', max=10, style=ProgressStyle(description_width='ini…"
      ]
     },
     "metadata": {},
     "output_type": "display_data"
    },
    {
     "data": {
      "application/vnd.jupyter.widget-view+json": {
       "model_id": "",
       "version_major": 2,
       "version_minor": 0
      },
      "text/plain": [
       "HBox(children=(IntProgress(value=0, description='2nd loop', max=10, style=ProgressStyle(description_width='ini…"
      ]
     },
     "metadata": {},
     "output_type": "display_data"
    },
    {
     "data": {
      "application/vnd.jupyter.widget-view+json": {
       "model_id": "",
       "version_major": 2,
       "version_minor": 0
      },
      "text/plain": [
       "HBox(children=(IntProgress(value=0, description='2nd loop', max=10, style=ProgressStyle(description_width='ini…"
      ]
     },
     "metadata": {},
     "output_type": "display_data"
    },
    {
     "data": {
      "application/vnd.jupyter.widget-view+json": {
       "model_id": "",
       "version_major": 2,
       "version_minor": 0
      },
      "text/plain": [
       "HBox(children=(IntProgress(value=0, description='2nd loop', max=10, style=ProgressStyle(description_width='ini…"
      ]
     },
     "metadata": {},
     "output_type": "display_data"
    },
    {
     "data": {
      "application/vnd.jupyter.widget-view+json": {
       "model_id": "",
       "version_major": 2,
       "version_minor": 0
      },
      "text/plain": [
       "HBox(children=(IntProgress(value=0, description='2nd loop', max=10, style=ProgressStyle(description_width='ini…"
      ]
     },
     "metadata": {},
     "output_type": "display_data"
    },
    {
     "data": {
      "application/vnd.jupyter.widget-view+json": {
       "model_id": "",
       "version_major": 2,
       "version_minor": 0
      },
      "text/plain": [
       "HBox(children=(IntProgress(value=0, description='2nd loop', max=10, style=ProgressStyle(description_width='ini…"
      ]
     },
     "metadata": {},
     "output_type": "display_data"
    },
    {
     "data": {
      "application/vnd.jupyter.widget-view+json": {
       "model_id": "",
       "version_major": 2,
       "version_minor": 0
      },
      "text/plain": [
       "HBox(children=(IntProgress(value=0, description='2nd loop', max=10, style=ProgressStyle(description_width='ini…"
      ]
     },
     "metadata": {},
     "output_type": "display_data"
    },
    {
     "data": {
      "application/vnd.jupyter.widget-view+json": {
       "model_id": "",
       "version_major": 2,
       "version_minor": 0
      },
      "text/plain": [
       "HBox(children=(IntProgress(value=0, description='2nd loop', max=10, style=ProgressStyle(description_width='ini…"
      ]
     },
     "metadata": {},
     "output_type": "display_data"
    },
    {
     "data": {
      "application/vnd.jupyter.widget-view+json": {
       "model_id": "",
       "version_major": 2,
       "version_minor": 0
      },
      "text/plain": [
       "HBox(children=(IntProgress(value=0, description='2nd loop', max=10, style=ProgressStyle(description_width='ini…"
      ]
     },
     "metadata": {},
     "output_type": "display_data"
    },
    {
     "data": {
      "application/vnd.jupyter.widget-view+json": {
       "model_id": "",
       "version_major": 2,
       "version_minor": 0
      },
      "text/plain": [
       "HBox(children=(IntProgress(value=0, description='2nd loop', max=10, style=ProgressStyle(description_width='ini…"
      ]
     },
     "metadata": {},
     "output_type": "display_data"
    },
    {
     "data": {
      "application/vnd.jupyter.widget-view+json": {
       "model_id": "",
       "version_major": 2,
       "version_minor": 0
      },
      "text/plain": [
       "HBox(children=(IntProgress(value=0, description='2nd loop', max=10, style=ProgressStyle(description_width='ini…"
      ]
     },
     "metadata": {},
     "output_type": "display_data"
    },
    {
     "data": {
      "application/vnd.jupyter.widget-view+json": {
       "model_id": "",
       "version_major": 2,
       "version_minor": 0
      },
      "text/plain": [
       "HBox(children=(IntProgress(value=0, description='2nd loop', max=10, style=ProgressStyle(description_width='ini…"
      ]
     },
     "metadata": {},
     "output_type": "display_data"
    },
    {
     "data": {
      "application/vnd.jupyter.widget-view+json": {
       "model_id": "",
       "version_major": 2,
       "version_minor": 0
      },
      "text/plain": [
       "HBox(children=(IntProgress(value=0, description='2nd loop', max=10, style=ProgressStyle(description_width='ini…"
      ]
     },
     "metadata": {},
     "output_type": "display_data"
    },
    {
     "data": {
      "application/vnd.jupyter.widget-view+json": {
       "model_id": "",
       "version_major": 2,
       "version_minor": 0
      },
      "text/plain": [
       "HBox(children=(IntProgress(value=0, description='2nd loop', max=10, style=ProgressStyle(description_width='ini…"
      ]
     },
     "metadata": {},
     "output_type": "display_data"
    },
    {
     "data": {
      "application/vnd.jupyter.widget-view+json": {
       "model_id": "",
       "version_major": 2,
       "version_minor": 0
      },
      "text/plain": [
       "HBox(children=(IntProgress(value=0, description='2nd loop', max=10, style=ProgressStyle(description_width='ini…"
      ]
     },
     "metadata": {},
     "output_type": "display_data"
    },
    {
     "data": {
      "application/vnd.jupyter.widget-view+json": {
       "model_id": "",
       "version_major": 2,
       "version_minor": 0
      },
      "text/plain": [
       "HBox(children=(IntProgress(value=0, description='2nd loop', max=10, style=ProgressStyle(description_width='ini…"
      ]
     },
     "metadata": {},
     "output_type": "display_data"
    },
    {
     "data": {
      "application/vnd.jupyter.widget-view+json": {
       "model_id": "",
       "version_major": 2,
       "version_minor": 0
      },
      "text/plain": [
       "HBox(children=(IntProgress(value=0, description='2nd loop', max=10, style=ProgressStyle(description_width='ini…"
      ]
     },
     "metadata": {},
     "output_type": "display_data"
    },
    {
     "data": {
      "application/vnd.jupyter.widget-view+json": {
       "model_id": "",
       "version_major": 2,
       "version_minor": 0
      },
      "text/plain": [
       "HBox(children=(IntProgress(value=0, description='2nd loop', max=10, style=ProgressStyle(description_width='ini…"
      ]
     },
     "metadata": {},
     "output_type": "display_data"
    },
    {
     "data": {
      "application/vnd.jupyter.widget-view+json": {
       "model_id": "",
       "version_major": 2,
       "version_minor": 0
      },
      "text/plain": [
       "HBox(children=(IntProgress(value=0, description='2nd loop', max=10, style=ProgressStyle(description_width='ini…"
      ]
     },
     "metadata": {},
     "output_type": "display_data"
    },
    {
     "data": {
      "application/vnd.jupyter.widget-view+json": {
       "model_id": "",
       "version_major": 2,
       "version_minor": 0
      },
      "text/plain": [
       "HBox(children=(IntProgress(value=0, description='2nd loop', max=10, style=ProgressStyle(description_width='ini…"
      ]
     },
     "metadata": {},
     "output_type": "display_data"
    },
    {
     "data": {
      "application/vnd.jupyter.widget-view+json": {
       "model_id": "",
       "version_major": 2,
       "version_minor": 0
      },
      "text/plain": [
       "HBox(children=(IntProgress(value=0, description='2nd loop', max=10, style=ProgressStyle(description_width='ini…"
      ]
     },
     "metadata": {},
     "output_type": "display_data"
    },
    {
     "data": {
      "application/vnd.jupyter.widget-view+json": {
       "model_id": "",
       "version_major": 2,
       "version_minor": 0
      },
      "text/plain": [
       "HBox(children=(IntProgress(value=0, description='2nd loop', max=10, style=ProgressStyle(description_width='ini…"
      ]
     },
     "metadata": {},
     "output_type": "display_data"
    },
    {
     "data": {
      "application/vnd.jupyter.widget-view+json": {
       "model_id": "",
       "version_major": 2,
       "version_minor": 0
      },
      "text/plain": [
       "HBox(children=(IntProgress(value=0, description='2nd loop', max=10, style=ProgressStyle(description_width='ini…"
      ]
     },
     "metadata": {},
     "output_type": "display_data"
    },
    {
     "data": {
      "application/vnd.jupyter.widget-view+json": {
       "model_id": "",
       "version_major": 2,
       "version_minor": 0
      },
      "text/plain": [
       "HBox(children=(IntProgress(value=0, description='2nd loop', max=10, style=ProgressStyle(description_width='ini…"
      ]
     },
     "metadata": {},
     "output_type": "display_data"
    },
    {
     "data": {
      "application/vnd.jupyter.widget-view+json": {
       "model_id": "",
       "version_major": 2,
       "version_minor": 0
      },
      "text/plain": [
       "HBox(children=(IntProgress(value=0, description='2nd loop', max=10, style=ProgressStyle(description_width='ini…"
      ]
     },
     "metadata": {},
     "output_type": "display_data"
    },
    {
     "data": {
      "application/vnd.jupyter.widget-view+json": {
       "model_id": "",
       "version_major": 2,
       "version_minor": 0
      },
      "text/plain": [
       "HBox(children=(IntProgress(value=0, description='2nd loop', max=10, style=ProgressStyle(description_width='ini…"
      ]
     },
     "metadata": {},
     "output_type": "display_data"
    },
    {
     "data": {
      "application/vnd.jupyter.widget-view+json": {
       "model_id": "",
       "version_major": 2,
       "version_minor": 0
      },
      "text/plain": [
       "HBox(children=(IntProgress(value=0, description='2nd loop', max=10, style=ProgressStyle(description_width='ini…"
      ]
     },
     "metadata": {},
     "output_type": "display_data"
    },
    {
     "data": {
      "application/vnd.jupyter.widget-view+json": {
       "model_id": "",
       "version_major": 2,
       "version_minor": 0
      },
      "text/plain": [
       "HBox(children=(IntProgress(value=0, description='2nd loop', max=10, style=ProgressStyle(description_width='ini…"
      ]
     },
     "metadata": {},
     "output_type": "display_data"
    },
    {
     "data": {
      "application/vnd.jupyter.widget-view+json": {
       "model_id": "",
       "version_major": 2,
       "version_minor": 0
      },
      "text/plain": [
       "HBox(children=(IntProgress(value=0, description='2nd loop', max=10, style=ProgressStyle(description_width='ini…"
      ]
     },
     "metadata": {},
     "output_type": "display_data"
    },
    {
     "data": {
      "application/vnd.jupyter.widget-view+json": {
       "model_id": "",
       "version_major": 2,
       "version_minor": 0
      },
      "text/plain": [
       "HBox(children=(IntProgress(value=0, description='2nd loop', max=10, style=ProgressStyle(description_width='ini…"
      ]
     },
     "metadata": {},
     "output_type": "display_data"
    },
    {
     "data": {
      "application/vnd.jupyter.widget-view+json": {
       "model_id": "",
       "version_major": 2,
       "version_minor": 0
      },
      "text/plain": [
       "HBox(children=(IntProgress(value=0, description='2nd loop', max=10, style=ProgressStyle(description_width='ini…"
      ]
     },
     "metadata": {},
     "output_type": "display_data"
    },
    {
     "data": {
      "application/vnd.jupyter.widget-view+json": {
       "model_id": "",
       "version_major": 2,
       "version_minor": 0
      },
      "text/plain": [
       "HBox(children=(IntProgress(value=0, description='2nd loop', max=10, style=ProgressStyle(description_width='ini…"
      ]
     },
     "metadata": {},
     "output_type": "display_data"
    },
    {
     "data": {
      "application/vnd.jupyter.widget-view+json": {
       "model_id": "",
       "version_major": 2,
       "version_minor": 0
      },
      "text/plain": [
       "HBox(children=(IntProgress(value=0, description='2nd loop', max=10, style=ProgressStyle(description_width='ini…"
      ]
     },
     "metadata": {},
     "output_type": "display_data"
    },
    {
     "data": {
      "application/vnd.jupyter.widget-view+json": {
       "model_id": "",
       "version_major": 2,
       "version_minor": 0
      },
      "text/plain": [
       "HBox(children=(IntProgress(value=0, description='2nd loop', max=10, style=ProgressStyle(description_width='ini…"
      ]
     },
     "metadata": {},
     "output_type": "display_data"
    },
    {
     "data": {
      "application/vnd.jupyter.widget-view+json": {
       "model_id": "",
       "version_major": 2,
       "version_minor": 0
      },
      "text/plain": [
       "HBox(children=(IntProgress(value=0, description='2nd loop', max=10, style=ProgressStyle(description_width='ini…"
      ]
     },
     "metadata": {},
     "output_type": "display_data"
    },
    {
     "data": {
      "application/vnd.jupyter.widget-view+json": {
       "model_id": "",
       "version_major": 2,
       "version_minor": 0
      },
      "text/plain": [
       "HBox(children=(IntProgress(value=0, description='2nd loop', max=10, style=ProgressStyle(description_width='ini…"
      ]
     },
     "metadata": {},
     "output_type": "display_data"
    },
    {
     "data": {
      "application/vnd.jupyter.widget-view+json": {
       "model_id": "",
       "version_major": 2,
       "version_minor": 0
      },
      "text/plain": [
       "HBox(children=(IntProgress(value=0, description='2nd loop', max=10, style=ProgressStyle(description_width='ini…"
      ]
     },
     "metadata": {},
     "output_type": "display_data"
    },
    {
     "data": {
      "application/vnd.jupyter.widget-view+json": {
       "model_id": "",
       "version_major": 2,
       "version_minor": 0
      },
      "text/plain": [
       "HBox(children=(IntProgress(value=0, description='2nd loop', max=10, style=ProgressStyle(description_width='ini…"
      ]
     },
     "metadata": {},
     "output_type": "display_data"
    },
    {
     "data": {
      "application/vnd.jupyter.widget-view+json": {
       "model_id": "",
       "version_major": 2,
       "version_minor": 0
      },
      "text/plain": [
       "HBox(children=(IntProgress(value=0, description='2nd loop', max=10, style=ProgressStyle(description_width='ini…"
      ]
     },
     "metadata": {},
     "output_type": "display_data"
    },
    {
     "data": {
      "application/vnd.jupyter.widget-view+json": {
       "model_id": "",
       "version_major": 2,
       "version_minor": 0
      },
      "text/plain": [
       "HBox(children=(IntProgress(value=0, description='2nd loop', max=10, style=ProgressStyle(description_width='ini…"
      ]
     },
     "metadata": {},
     "output_type": "display_data"
    },
    {
     "data": {
      "application/vnd.jupyter.widget-view+json": {
       "model_id": "",
       "version_major": 2,
       "version_minor": 0
      },
      "text/plain": [
       "HBox(children=(IntProgress(value=0, description='2nd loop', max=10, style=ProgressStyle(description_width='ini…"
      ]
     },
     "metadata": {},
     "output_type": "display_data"
    },
    {
     "data": {
      "application/vnd.jupyter.widget-view+json": {
       "model_id": "",
       "version_major": 2,
       "version_minor": 0
      },
      "text/plain": [
       "HBox(children=(IntProgress(value=0, description='2nd loop', max=10, style=ProgressStyle(description_width='ini…"
      ]
     },
     "metadata": {},
     "output_type": "display_data"
    },
    {
     "data": {
      "application/vnd.jupyter.widget-view+json": {
       "model_id": "",
       "version_major": 2,
       "version_minor": 0
      },
      "text/plain": [
       "HBox(children=(IntProgress(value=0, description='2nd loop', max=10, style=ProgressStyle(description_width='ini…"
      ]
     },
     "metadata": {},
     "output_type": "display_data"
    },
    {
     "data": {
      "application/vnd.jupyter.widget-view+json": {
       "model_id": "",
       "version_major": 2,
       "version_minor": 0
      },
      "text/plain": [
       "HBox(children=(IntProgress(value=0, description='2nd loop', max=10, style=ProgressStyle(description_width='ini…"
      ]
     },
     "metadata": {},
     "output_type": "display_data"
    },
    {
     "data": {
      "application/vnd.jupyter.widget-view+json": {
       "model_id": "",
       "version_major": 2,
       "version_minor": 0
      },
      "text/plain": [
       "HBox(children=(IntProgress(value=0, description='2nd loop', max=10, style=ProgressStyle(description_width='ini…"
      ]
     },
     "metadata": {},
     "output_type": "display_data"
    },
    {
     "data": {
      "application/vnd.jupyter.widget-view+json": {
       "model_id": "",
       "version_major": 2,
       "version_minor": 0
      },
      "text/plain": [
       "HBox(children=(IntProgress(value=0, description='2nd loop', max=10, style=ProgressStyle(description_width='ini…"
      ]
     },
     "metadata": {},
     "output_type": "display_data"
    },
    {
     "data": {
      "application/vnd.jupyter.widget-view+json": {
       "model_id": "",
       "version_major": 2,
       "version_minor": 0
      },
      "text/plain": [
       "HBox(children=(IntProgress(value=0, description='2nd loop', max=10, style=ProgressStyle(description_width='ini…"
      ]
     },
     "metadata": {},
     "output_type": "display_data"
    },
    {
     "data": {
      "application/vnd.jupyter.widget-view+json": {
       "model_id": "",
       "version_major": 2,
       "version_minor": 0
      },
      "text/plain": [
       "HBox(children=(IntProgress(value=0, description='2nd loop', max=10, style=ProgressStyle(description_width='ini…"
      ]
     },
     "metadata": {},
     "output_type": "display_data"
    },
    {
     "data": {
      "application/vnd.jupyter.widget-view+json": {
       "model_id": "",
       "version_major": 2,
       "version_minor": 0
      },
      "text/plain": [
       "HBox(children=(IntProgress(value=0, description='2nd loop', max=10, style=ProgressStyle(description_width='ini…"
      ]
     },
     "metadata": {},
     "output_type": "display_data"
    },
    {
     "data": {
      "application/vnd.jupyter.widget-view+json": {
       "model_id": "",
       "version_major": 2,
       "version_minor": 0
      },
      "text/plain": [
       "HBox(children=(IntProgress(value=0, description='2nd loop', max=10, style=ProgressStyle(description_width='ini…"
      ]
     },
     "metadata": {},
     "output_type": "display_data"
    },
    {
     "data": {
      "application/vnd.jupyter.widget-view+json": {
       "model_id": "",
       "version_major": 2,
       "version_minor": 0
      },
      "text/plain": [
       "HBox(children=(IntProgress(value=0, description='2nd loop', max=10, style=ProgressStyle(description_width='ini…"
      ]
     },
     "metadata": {},
     "output_type": "display_data"
    },
    {
     "data": {
      "application/vnd.jupyter.widget-view+json": {
       "model_id": "",
       "version_major": 2,
       "version_minor": 0
      },
      "text/plain": [
       "HBox(children=(IntProgress(value=0, description='2nd loop', max=10, style=ProgressStyle(description_width='ini…"
      ]
     },
     "metadata": {},
     "output_type": "display_data"
    },
    {
     "data": {
      "application/vnd.jupyter.widget-view+json": {
       "model_id": "",
       "version_major": 2,
       "version_minor": 0
      },
      "text/plain": [
       "HBox(children=(IntProgress(value=0, description='2nd loop', max=10, style=ProgressStyle(description_width='ini…"
      ]
     },
     "metadata": {},
     "output_type": "display_data"
    },
    {
     "data": {
      "application/vnd.jupyter.widget-view+json": {
       "model_id": "",
       "version_major": 2,
       "version_minor": 0
      },
      "text/plain": [
       "HBox(children=(IntProgress(value=0, description='2nd loop', max=10, style=ProgressStyle(description_width='ini…"
      ]
     },
     "metadata": {},
     "output_type": "display_data"
    },
    {
     "data": {
      "application/vnd.jupyter.widget-view+json": {
       "model_id": "",
       "version_major": 2,
       "version_minor": 0
      },
      "text/plain": [
       "HBox(children=(IntProgress(value=0, description='2nd loop', max=10, style=ProgressStyle(description_width='ini…"
      ]
     },
     "metadata": {},
     "output_type": "display_data"
    },
    {
     "data": {
      "application/vnd.jupyter.widget-view+json": {
       "model_id": "",
       "version_major": 2,
       "version_minor": 0
      },
      "text/plain": [
       "HBox(children=(IntProgress(value=0, description='2nd loop', max=10, style=ProgressStyle(description_width='ini…"
      ]
     },
     "metadata": {},
     "output_type": "display_data"
    },
    {
     "data": {
      "application/vnd.jupyter.widget-view+json": {
       "model_id": "",
       "version_major": 2,
       "version_minor": 0
      },
      "text/plain": [
       "HBox(children=(IntProgress(value=0, description='2nd loop', max=10, style=ProgressStyle(description_width='ini…"
      ]
     },
     "metadata": {},
     "output_type": "display_data"
    },
    {
     "data": {
      "application/vnd.jupyter.widget-view+json": {
       "model_id": "",
       "version_major": 2,
       "version_minor": 0
      },
      "text/plain": [
       "HBox(children=(IntProgress(value=0, description='2nd loop', max=10, style=ProgressStyle(description_width='ini…"
      ]
     },
     "metadata": {},
     "output_type": "display_data"
    },
    {
     "data": {
      "application/vnd.jupyter.widget-view+json": {
       "model_id": "",
       "version_major": 2,
       "version_minor": 0
      },
      "text/plain": [
       "HBox(children=(IntProgress(value=0, description='2nd loop', max=10, style=ProgressStyle(description_width='ini…"
      ]
     },
     "metadata": {},
     "output_type": "display_data"
    },
    {
     "data": {
      "application/vnd.jupyter.widget-view+json": {
       "model_id": "",
       "version_major": 2,
       "version_minor": 0
      },
      "text/plain": [
       "HBox(children=(IntProgress(value=0, description='2nd loop', max=10, style=ProgressStyle(description_width='ini…"
      ]
     },
     "metadata": {},
     "output_type": "display_data"
    },
    {
     "data": {
      "application/vnd.jupyter.widget-view+json": {
       "model_id": "",
       "version_major": 2,
       "version_minor": 0
      },
      "text/plain": [
       "HBox(children=(IntProgress(value=0, description='2nd loop', max=10, style=ProgressStyle(description_width='ini…"
      ]
     },
     "metadata": {},
     "output_type": "display_data"
    },
    {
     "data": {
      "application/vnd.jupyter.widget-view+json": {
       "model_id": "",
       "version_major": 2,
       "version_minor": 0
      },
      "text/plain": [
       "HBox(children=(IntProgress(value=0, description='2nd loop', max=10, style=ProgressStyle(description_width='ini…"
      ]
     },
     "metadata": {},
     "output_type": "display_data"
    },
    {
     "data": {
      "application/vnd.jupyter.widget-view+json": {
       "model_id": "",
       "version_major": 2,
       "version_minor": 0
      },
      "text/plain": [
       "HBox(children=(IntProgress(value=0, description='2nd loop', max=10, style=ProgressStyle(description_width='ini…"
      ]
     },
     "metadata": {},
     "output_type": "display_data"
    },
    {
     "data": {
      "application/vnd.jupyter.widget-view+json": {
       "model_id": "",
       "version_major": 2,
       "version_minor": 0
      },
      "text/plain": [
       "HBox(children=(IntProgress(value=0, description='2nd loop', max=10, style=ProgressStyle(description_width='ini…"
      ]
     },
     "metadata": {},
     "output_type": "display_data"
    },
    {
     "data": {
      "application/vnd.jupyter.widget-view+json": {
       "model_id": "",
       "version_major": 2,
       "version_minor": 0
      },
      "text/plain": [
       "HBox(children=(IntProgress(value=0, description='2nd loop', max=10, style=ProgressStyle(description_width='ini…"
      ]
     },
     "metadata": {},
     "output_type": "display_data"
    },
    {
     "data": {
      "application/vnd.jupyter.widget-view+json": {
       "model_id": "",
       "version_major": 2,
       "version_minor": 0
      },
      "text/plain": [
       "HBox(children=(IntProgress(value=0, description='2nd loop', max=10, style=ProgressStyle(description_width='ini…"
      ]
     },
     "metadata": {},
     "output_type": "display_data"
    },
    {
     "data": {
      "application/vnd.jupyter.widget-view+json": {
       "model_id": "",
       "version_major": 2,
       "version_minor": 0
      },
      "text/plain": [
       "HBox(children=(IntProgress(value=0, description='2nd loop', max=10, style=ProgressStyle(description_width='ini…"
      ]
     },
     "metadata": {},
     "output_type": "display_data"
    },
    {
     "data": {
      "application/vnd.jupyter.widget-view+json": {
       "model_id": "",
       "version_major": 2,
       "version_minor": 0
      },
      "text/plain": [
       "HBox(children=(IntProgress(value=0, description='2nd loop', max=10, style=ProgressStyle(description_width='ini…"
      ]
     },
     "metadata": {},
     "output_type": "display_data"
    },
    {
     "data": {
      "application/vnd.jupyter.widget-view+json": {
       "model_id": "",
       "version_major": 2,
       "version_minor": 0
      },
      "text/plain": [
       "HBox(children=(IntProgress(value=0, description='2nd loop', max=10, style=ProgressStyle(description_width='ini…"
      ]
     },
     "metadata": {},
     "output_type": "display_data"
    },
    {
     "data": {
      "application/vnd.jupyter.widget-view+json": {
       "model_id": "",
       "version_major": 2,
       "version_minor": 0
      },
      "text/plain": [
       "HBox(children=(IntProgress(value=0, description='2nd loop', max=10, style=ProgressStyle(description_width='ini…"
      ]
     },
     "metadata": {},
     "output_type": "display_data"
    },
    {
     "data": {
      "application/vnd.jupyter.widget-view+json": {
       "model_id": "",
       "version_major": 2,
       "version_minor": 0
      },
      "text/plain": [
       "HBox(children=(IntProgress(value=0, description='2nd loop', max=10, style=ProgressStyle(description_width='ini…"
      ]
     },
     "metadata": {},
     "output_type": "display_data"
    },
    {
     "data": {
      "application/vnd.jupyter.widget-view+json": {
       "model_id": "",
       "version_major": 2,
       "version_minor": 0
      },
      "text/plain": [
       "HBox(children=(IntProgress(value=0, description='2nd loop', max=10, style=ProgressStyle(description_width='ini…"
      ]
     },
     "metadata": {},
     "output_type": "display_data"
    },
    {
     "data": {
      "application/vnd.jupyter.widget-view+json": {
       "model_id": "",
       "version_major": 2,
       "version_minor": 0
      },
      "text/plain": [
       "HBox(children=(IntProgress(value=0, description='2nd loop', max=10, style=ProgressStyle(description_width='ini…"
      ]
     },
     "metadata": {},
     "output_type": "display_data"
    },
    {
     "data": {
      "application/vnd.jupyter.widget-view+json": {
       "model_id": "",
       "version_major": 2,
       "version_minor": 0
      },
      "text/plain": [
       "HBox(children=(IntProgress(value=0, description='2nd loop', max=10, style=ProgressStyle(description_width='ini…"
      ]
     },
     "metadata": {},
     "output_type": "display_data"
    },
    {
     "data": {
      "application/vnd.jupyter.widget-view+json": {
       "model_id": "",
       "version_major": 2,
       "version_minor": 0
      },
      "text/plain": [
       "HBox(children=(IntProgress(value=0, description='2nd loop', max=10, style=ProgressStyle(description_width='ini…"
      ]
     },
     "metadata": {},
     "output_type": "display_data"
    },
    {
     "data": {
      "application/vnd.jupyter.widget-view+json": {
       "model_id": "",
       "version_major": 2,
       "version_minor": 0
      },
      "text/plain": [
       "HBox(children=(IntProgress(value=0, description='2nd loop', max=10, style=ProgressStyle(description_width='ini…"
      ]
     },
     "metadata": {},
     "output_type": "display_data"
    },
    {
     "data": {
      "application/vnd.jupyter.widget-view+json": {
       "model_id": "",
       "version_major": 2,
       "version_minor": 0
      },
      "text/plain": [
       "HBox(children=(IntProgress(value=0, description='2nd loop', max=10, style=ProgressStyle(description_width='ini…"
      ]
     },
     "metadata": {},
     "output_type": "display_data"
    },
    {
     "data": {
      "application/vnd.jupyter.widget-view+json": {
       "model_id": "",
       "version_major": 2,
       "version_minor": 0
      },
      "text/plain": [
       "HBox(children=(IntProgress(value=0, description='2nd loop', max=10, style=ProgressStyle(description_width='ini…"
      ]
     },
     "metadata": {},
     "output_type": "display_data"
    },
    {
     "data": {
      "application/vnd.jupyter.widget-view+json": {
       "model_id": "",
       "version_major": 2,
       "version_minor": 0
      },
      "text/plain": [
       "HBox(children=(IntProgress(value=0, description='2nd loop', max=10, style=ProgressStyle(description_width='ini…"
      ]
     },
     "metadata": {},
     "output_type": "display_data"
    },
    {
     "data": {
      "application/vnd.jupyter.widget-view+json": {
       "model_id": "",
       "version_major": 2,
       "version_minor": 0
      },
      "text/plain": [
       "HBox(children=(IntProgress(value=0, description='2nd loop', max=10, style=ProgressStyle(description_width='ini…"
      ]
     },
     "metadata": {},
     "output_type": "display_data"
    },
    {
     "data": {
      "application/vnd.jupyter.widget-view+json": {
       "model_id": "",
       "version_major": 2,
       "version_minor": 0
      },
      "text/plain": [
       "HBox(children=(IntProgress(value=0, description='2nd loop', max=10, style=ProgressStyle(description_width='ini…"
      ]
     },
     "metadata": {},
     "output_type": "display_data"
    },
    {
     "data": {
      "application/vnd.jupyter.widget-view+json": {
       "model_id": "",
       "version_major": 2,
       "version_minor": 0
      },
      "text/plain": [
       "HBox(children=(IntProgress(value=0, description='2nd loop', max=10, style=ProgressStyle(description_width='ini…"
      ]
     },
     "metadata": {},
     "output_type": "display_data"
    },
    {
     "data": {
      "application/vnd.jupyter.widget-view+json": {
       "model_id": "",
       "version_major": 2,
       "version_minor": 0
      },
      "text/plain": [
       "HBox(children=(IntProgress(value=0, description='2nd loop', max=10, style=ProgressStyle(description_width='ini…"
      ]
     },
     "metadata": {},
     "output_type": "display_data"
    },
    {
     "data": {
      "application/vnd.jupyter.widget-view+json": {
       "model_id": "",
       "version_major": 2,
       "version_minor": 0
      },
      "text/plain": [
       "HBox(children=(IntProgress(value=0, description='2nd loop', max=10, style=ProgressStyle(description_width='ini…"
      ]
     },
     "metadata": {},
     "output_type": "display_data"
    },
    {
     "data": {
      "application/vnd.jupyter.widget-view+json": {
       "model_id": "",
       "version_major": 2,
       "version_minor": 0
      },
      "text/plain": [
       "HBox(children=(IntProgress(value=0, description='2nd loop', max=10, style=ProgressStyle(description_width='ini…"
      ]
     },
     "metadata": {},
     "output_type": "display_data"
    },
    {
     "data": {
      "application/vnd.jupyter.widget-view+json": {
       "model_id": "",
       "version_major": 2,
       "version_minor": 0
      },
      "text/plain": [
       "HBox(children=(IntProgress(value=0, description='2nd loop', max=10, style=ProgressStyle(description_width='ini…"
      ]
     },
     "metadata": {},
     "output_type": "display_data"
    },
    {
     "data": {
      "application/vnd.jupyter.widget-view+json": {
       "model_id": "",
       "version_major": 2,
       "version_minor": 0
      },
      "text/plain": [
       "HBox(children=(IntProgress(value=0, description='2nd loop', max=10, style=ProgressStyle(description_width='ini…"
      ]
     },
     "metadata": {},
     "output_type": "display_data"
    },
    {
     "name": "stdout",
     "output_type": "stream",
     "text": [
      "Hey, I think you've had enough! Let's stop here.\n"
     ]
    }
   ],
   "source": [
    "#@@@@@@@@@@@@@@@@@@@\n",
    "# Learning variables\n",
    "#@@@@@@@@@@@@@@@@@@@\n",
    "q_values = np.zeros((N_STATES,N_ACTIONS)) #initialize to zero\n",
    "#q_values = np.load(\"Q_values.npy\") # or re-use the one already trained\n",
    "reward_score = np.zeros(MAX_EPOCHS)\n",
    "halite_score = np.zeros(MAX_EPOCHS)\n",
    "shipy_pass = np.zeros(MAX_EPOCHS)\n",
    "epochs = 0\n",
    "eps = EPS_START # starting value of epsilon\n",
    "# generate an adaptive epsilon greedy algorithm, calibrated in order to have epsilon = 10^-4 at the last epoch\n",
    "epsilons = np.array(list(map(lambda i : eps*np.exp(-i*2*np.log(10)/MAX_EPOCHS), np.arange(0,MAX_EPOCHS+1))))\n",
    "\n",
    "\n",
    "# visualize online the results\n",
    "%matplotlib notebook\n",
    "fig = plt.figure(figsize = (8,6))\n",
    "plt.ion()\n",
    "\n",
    "ax1 = fig.add_subplot(221)\n",
    "ax1.set_xlim(0,MAX_EPOCHS+1)\n",
    "ax1.set_ylim(0,8000)\n",
    "ax1.set_xlabel(\"Epochs\", fontsize = 14)\n",
    "ax1.set_ylabel(\"Halite collected\", fontsize = 14)\n",
    "\n",
    "ax2 = fig.add_subplot(222)\n",
    "ax2.set_xlim(0,MAX_EPOCHS+1)\n",
    "ax2.set_ylim(-4,4)\n",
    "ax2.set_xlabel(\"Epochs\", fontsize = 14)\n",
    "ax2.set_ylabel(\"Reward\", fontsize = 14)\n",
    "\n",
    "\n",
    "ax3 = fig.add_subplot(223)\n",
    "ax3.set_xlim(0,MAX_EPOCHS+1)\n",
    "ax3.set_ylim(0,0.5)\n",
    "ax3.set_xlabel(\"Epochs\", fontsize = 14)\n",
    "ax3.set_ylabel(\"Epsilon\", fontsize = 14)\n",
    "\n",
    "\n",
    "ax4 = fig.add_subplot(224)\n",
    "ax4.set_xlim(0,MAX_EPOCHS+1)\n",
    "ax4.set_xlabel(\"Epochs\", fontsize = 14)\n",
    "ax4.set_ylabel(\"Shipyard passages\", fontsize = 14)\n",
    "\n",
    "plt.tight_layout()\n",
    "fig.show()\n",
    "fig.canvas.draw()\n",
    "\n",
    "from tqdm import tnrange, trange\n",
    "\n",
    "for k in tnrange(MAX_EPOCHS, desc='1st loop', leave=True):\n",
    "    #@@@@@@@@@@@@@@@@@@@@@@\n",
    "    # here starts an epoch\n",
    "    #@@@@@@@@@@@@@@@@@@@@@@\n",
    "    epochs = epochs + 1\n",
    "    reward_progress = np.zeros(N_BATCH) # bunch of 100 episodes\n",
    "    halite_progress = np.zeros(N_BATCH) # bunch of 100 episodes\n",
    "    shipy_pass_progress = np.zeros(N_BATCH) # bunch of 100 episodes\n",
    "    eps = epsilons[epochs]\n",
    "    # update the dictionary at each epoch with the new epsilon\n",
    "    learning_dict = dict(LEARNING_RATE = 0.1, DISCOUNT_FACTOR = DISCOUNT_FACTOR , eps = eps, STD_REWARD = STD_REWARD)\n",
    "\n",
    "    for i in tnrange(N_BATCH, desc='2nd loop', leave=False):\n",
    "        # here starts an episode\n",
    "        q_values, reward, collected_halite, passages = play_episode(q_values, **env_dict, **state_dict, **learning_dict)\n",
    "        reward_progress[i] = reward\n",
    "        halite_progress[i] = collected_halite\n",
    "        shipy_pass_progress[i] = passages\n",
    "\n",
    "        #break # play just 1 episode\n",
    "\n",
    "    #break # play just 1 epoch\n",
    "\n",
    "    reward_score[epochs-1] = reward_progress.mean()\n",
    "    halite_score[epochs-1] = halite_progress.mean()\n",
    "    shipy_pass[epochs-1] = shipy_pass_progress.mean()\n",
    "    \n",
    "    ax1.scatter(epochs, halite_score[epochs-1], s = 10, color='blue')\n",
    "    ax2.scatter(epochs, reward_score[epochs-1], s = 10,color='blue')\n",
    "    ax3.scatter(epochs, epsilons[epochs], s = 10, color='blue')\n",
    "    ax4.scatter(epochs, shipy_pass[epochs-1], s = 10, color='blue')\n",
    "    fig.canvas.draw()\n",
    "\n",
    "    if epochs >= MAX_EPOCHS:\n",
    "        print(\"Hey, I think you've had enough! Let's stop here.\")\n",
    "        break"
   ]
  },
  {
   "cell_type": "markdown",
   "metadata": {},
   "source": [
    "## Post training visualization\n",
    "\n"
   ]
  },
  {
   "cell_type": "code",
   "execution_count": 55,
   "metadata": {},
   "outputs": [],
   "source": [
    "q_values = np.load(\"Q_values/Q_values.npy\")"
   ]
  },
  {
   "cell_type": "markdown",
   "metadata": {},
   "source": [
    "## Episode visualization"
   ]
  },
  {
   "cell_type": "code",
   "execution_count": 14,
   "metadata": {},
   "outputs": [
    {
     "name": "stdout",
     "output_type": "stream",
     "text": [
      "\n",
      "Step number 1:\n",
      "\n",
      "Step number 2:\n",
      "Current halite:  4000.0\n",
      "\n",
      "Step number 3:\n",
      "Current halite:  4000.0\n",
      "\n",
      "Step number 4:\n",
      "Current halite:  4000.0\n",
      "\n",
      "Step number 5:\n",
      "Current halite:  4000.0\n",
      "\n",
      "Step number 6:\n",
      "Current halite:  4072.0\n",
      "\n",
      "Step number 7:\n",
      "Current halite:  4072.0\n",
      "\n",
      "Step number 8:\n",
      "Current halite:  4072.0\n",
      "\n",
      "Step number 9:\n",
      "Current halite:  4310.0\n",
      "\n",
      "Step number 10:\n",
      "Current halite:  4310.0\n",
      "\n",
      "Step number 11:\n",
      "Current halite:  4310.0\n",
      "\n",
      "Step number 12:\n",
      "Current halite:  4488.0\n",
      "\n",
      "Step number 13:\n",
      "Current halite:  4488.0\n",
      "\n",
      "Step number 14:\n",
      "Current halite:  4488.0\n",
      "\n",
      "Step number 15:\n",
      "Current halite:  4622.0\n",
      "\n",
      "Step number 16:\n",
      "Current halite:  4622.0\n",
      "\n",
      "Step number 17:\n",
      "Current halite:  4622.0\n",
      "\n",
      "Step number 18:\n",
      "Current halite:  4722.0\n",
      "\n",
      "Step number 19:\n",
      "Current halite:  4722.0\n",
      "\n",
      "Step number 20:\n",
      "Current halite:  4722.0\n",
      "\n",
      "Step number 21:\n",
      "Current halite:  4797.0\n",
      "\n",
      "Step number 22:\n",
      "Current halite:  4797.0\n",
      "\n",
      "Step number 23:\n",
      "Current halite:  4797.0\n",
      "\n",
      "Step number 24:\n",
      "Current halite:  4853.0\n",
      "\n",
      "Step number 25:\n",
      "Current halite:  4853.0\n",
      "\n",
      "Step number 26:\n",
      "Current halite:  4853.0\n",
      "\n",
      "Step number 27:\n",
      "Current halite:  4895.0\n",
      "\n",
      "Step number 28:\n",
      "Current halite:  4895.0\n",
      "\n",
      "Step number 29:\n",
      "Current halite:  4895.0\n",
      "\n",
      "Step number 30:\n",
      "Current halite:  4927.0\n",
      "\n",
      "Step number 31:\n",
      "Current halite:  4927.0\n",
      "\n",
      "Step number 32:\n",
      "Current halite:  4927.0\n",
      "\n",
      "Step number 33:\n",
      "Current halite:  5031.0\n",
      "\n",
      "Step number 34:\n",
      "Current halite:  5031.0\n",
      "\n",
      "Step number 35:\n",
      "Current halite:  5031.0\n",
      "\n",
      "Step number 36:\n",
      "Current halite:  5031.0\n",
      "\n",
      "Step number 37:\n",
      "Current halite:  5167.0\n",
      "\n",
      "Step number 38:\n",
      "Current halite:  5167.0\n",
      "\n",
      "Step number 39:\n",
      "Current halite:  5167.0\n",
      "\n",
      "Step number 40:\n",
      "Current halite:  5167.0\n",
      "\n",
      "Step number 41:\n",
      "Current halite:  5167.0\n",
      "\n",
      "Step number 42:\n",
      "Current halite:  5167.0\n",
      "\n",
      "Step number 43:\n",
      "Current halite:  5167.0\n",
      "\n",
      "Step number 44:\n",
      "Current halite:  5377.0\n",
      "\n",
      "Step number 45:\n",
      "Current halite:  5377.0\n",
      "\n",
      "Step number 46:\n",
      "Current halite:  5377.0\n",
      "\n",
      "Step number 47:\n",
      "Current halite:  5377.0\n",
      "\n",
      "Step number 48:\n",
      "Current halite:  5548.0\n",
      "\n",
      "Step number 49:\n",
      "Current halite:  5548.0\n",
      "\n",
      "Step number 50:\n",
      "Current halite:  5548.0\n",
      "\n",
      "Step number 51:\n",
      "Current halite:  5548.0\n",
      "\n",
      "Step number 52:\n",
      "Current halite:  5548.0\n",
      "\n",
      "Step number 53:\n",
      "Current halite:  5675.0\n",
      "\n",
      "Step number 54:\n",
      "Current halite:  5675.0\n",
      "\n",
      "Step number 55:\n",
      "Current halite:  5675.0\n",
      "\n",
      "Step number 56:\n",
      "Current halite:  5675.0\n",
      "\n",
      "Step number 57:\n",
      "Current halite:  5675.0\n",
      "\n",
      "Step number 58:\n",
      "Current halite:  5675.0\n",
      "\n",
      "Step number 59:\n",
      "Current halite:  5675.0\n",
      "\n",
      "Step number 60:\n",
      "Current halite:  5675.0\n",
      "\n",
      "Step number 61:\n",
      "Current halite:  5799.0\n",
      "\n",
      "Step number 62:\n",
      "Current halite:  5799.0\n",
      "\n",
      "Step number 63:\n",
      "Current halite:  5799.0\n",
      "\n",
      "Step number 64:\n",
      "Current halite:  5799.0\n",
      "\n",
      "Step number 65:\n",
      "Current halite:  5799.0\n",
      "\n",
      "Step number 66:\n",
      "Current halite:  5799.0\n",
      "\n",
      "Step number 67:\n",
      "Current halite:  5799.0\n",
      "\n",
      "Step number 68:\n",
      "Current halite:  5799.0\n",
      "\n",
      "Step number 69:\n",
      "Current halite:  5799.0\n",
      "\n",
      "Step number 70:\n",
      "Current halite:  5948.0\n",
      "\n",
      "Step number 71:\n",
      "Current halite:  5948.0\n",
      "\n",
      "Step number 72:\n",
      "Current halite:  5948.0\n",
      "\n",
      "Step number 73:\n",
      "Current halite:  5948.0\n",
      "\n",
      "Step number 74:\n",
      "Current halite:  5948.0\n",
      "\n",
      "Step number 75:\n",
      "Current halite:  5948.0\n",
      "\n",
      "Step number 76:\n",
      "Current halite:  5948.0\n",
      "\n",
      "Step number 77:\n",
      "Current halite:  5948.0\n",
      "\n",
      "Step number 78:\n",
      "Current halite:  5948.0\n",
      "\n",
      "Step number 79:\n",
      "Current halite:  6036.0\n",
      "\n",
      "Step number 80:\n",
      "Current halite:  6036.0\n",
      "\n",
      "Step number 81:\n",
      "Current halite:  6036.0\n",
      "\n",
      "Step number 82:\n",
      "Current halite:  6036.0\n",
      "\n",
      "Step number 83:\n",
      "Current halite:  6036.0\n",
      "\n",
      "Step number 84:\n",
      "Current halite:  6036.0\n",
      "\n",
      "Step number 85:\n",
      "Current halite:  6036.0\n",
      "\n",
      "Step number 86:\n",
      "Current halite:  6036.0\n",
      "\n",
      "Step number 87:\n",
      "Current halite:  6036.0\n",
      "\n",
      "Step number 88:\n",
      "Current halite:  6036.0\n",
      "\n",
      "Step number 89:\n",
      "Current halite:  6036.0\n",
      "\n",
      "Step number 90:\n",
      "Current halite:  6036.0\n",
      "\n",
      "Step number 91:\n",
      "Current halite:  6036.0\n",
      "\n",
      "Step number 92:\n",
      "Current halite:  6036.0\n",
      "\n",
      "Step number 93:\n",
      "Current halite:  6036.0\n",
      "\n",
      "Step number 94:\n",
      "Current halite:  6240.0\n",
      "\n",
      "Step number 95:\n",
      "Current halite:  6240.0\n",
      "\n",
      "Step number 96:\n",
      "Current halite:  6240.0\n",
      "\n",
      "Step number 97:\n",
      "Current halite:  6240.0\n",
      "\n",
      "Step number 98:\n",
      "Current halite:  6240.0\n",
      "\n",
      "Step number 99:\n",
      "Current halite:  6240.0\n",
      "\n",
      "Step number 100:\n",
      "Current halite:  6240.0\n",
      "\n",
      "Step number 101:\n",
      "Current halite:  6393.0\n",
      "\n",
      "Step number 102:\n",
      "Current halite:  6393.0\n",
      "\n",
      "Step number 103:\n",
      "Current halite:  6393.0\n",
      "\n",
      "Step number 104:\n",
      "Current halite:  6393.0\n",
      "\n",
      "Step number 105:\n",
      "Current halite:  6393.0\n",
      "\n",
      "Step number 106:\n",
      "Current halite:  6622.0\n",
      "\n",
      "Step number 107:\n",
      "Current halite:  6622.0\n",
      "\n",
      "Step number 108:\n",
      "Current halite:  6622.0\n",
      "\n",
      "Step number 109:\n",
      "Current halite:  6622.0\n",
      "\n",
      "Step number 110:\n",
      "Current halite:  6622.0\n",
      "\n",
      "Step number 111:\n",
      "Current halite:  6622.0\n",
      "\n",
      "Step number 112:\n",
      "Current halite:  6622.0\n",
      "\n",
      "Step number 113:\n",
      "Current halite:  6736.0\n",
      "\n",
      "Step number 114:\n",
      "Current halite:  6736.0\n",
      "\n",
      "Step number 115:\n",
      "Current halite:  6736.0\n",
      "\n",
      "Step number 116:\n",
      "Current halite:  6736.0\n",
      "\n",
      "Step number 117:\n",
      "Current halite:  6736.0\n",
      "\n",
      "Step number 118:\n",
      "Current halite:  6736.0\n",
      "\n",
      "Step number 119:\n",
      "Current halite:  6736.0\n",
      "\n",
      "Step number 120:\n",
      "Current halite:  6736.0\n",
      "\n",
      "Step number 121:\n",
      "Current halite:  6886.0\n",
      "\n",
      "Step number 122:\n",
      "Current halite:  6886.0\n",
      "\n",
      "Step number 123:\n",
      "Current halite:  6886.0\n",
      "\n",
      "Step number 124:\n",
      "Current halite:  6886.0\n",
      "\n",
      "Step number 125:\n",
      "Current halite:  6886.0\n",
      "\n",
      "Step number 126:\n",
      "Current halite:  7058.0\n",
      "\n",
      "Step number 127:\n",
      "Current halite:  7058.0\n",
      "\n",
      "Step number 128:\n",
      "Current halite:  7058.0\n",
      "\n",
      "Step number 129:\n",
      "Current halite:  7058.0\n",
      "\n",
      "Step number 130:\n",
      "Current halite:  7058.0\n",
      "\n",
      "Step number 131:\n",
      "Current halite:  7186.0\n",
      "\n",
      "Step number 132:\n",
      "Current halite:  7186.0\n",
      "\n",
      "Step number 133:\n",
      "Current halite:  7186.0\n",
      "\n",
      "Step number 134:\n",
      "Current halite:  7186.0\n",
      "\n",
      "Step number 135:\n",
      "Current halite:  7186.0\n",
      "\n",
      "Step number 136:\n",
      "Current halite:  7186.0\n",
      "\n",
      "Step number 137:\n",
      "Current halite:  7354.0\n",
      "\n",
      "Step number 138:\n",
      "Current halite:  7354.0\n",
      "\n",
      "Step number 139:\n",
      "Current halite:  7354.0\n",
      "\n",
      "Step number 140:\n",
      "Current halite:  7354.0\n",
      "\n",
      "Step number 141:\n",
      "Current halite:  7354.0\n",
      "\n",
      "Step number 142:\n",
      "Current halite:  7354.0\n",
      "\n",
      "Step number 143:\n",
      "Current halite:  7354.0\n",
      "\n",
      "Step number 144:\n",
      "Current halite:  7480.0\n",
      "\n",
      "Step number 145:\n",
      "Current halite:  7480.0\n",
      "\n",
      "Step number 146:\n",
      "Current halite:  7480.0\n",
      "\n",
      "Step number 147:\n",
      "Current halite:  7480.0\n",
      "\n",
      "Step number 148:\n",
      "Current halite:  7480.0\n",
      "\n",
      "Step number 149:\n",
      "Current halite:  7480.0\n",
      "\n",
      "Step number 150:\n",
      "Current halite:  7611.0\n",
      "\n",
      "Step number 151:\n",
      "Current halite:  7611.0\n",
      "\n",
      "Step number 152:\n",
      "Current halite:  7611.0\n",
      "\n",
      "Step number 153:\n",
      "Current halite:  7611.0\n",
      "\n",
      "Step number 154:\n",
      "Current halite:  7611.0\n",
      "\n",
      "Step number 155:\n",
      "Current halite:  7611.0\n",
      "\n",
      "Step number 156:\n",
      "Current halite:  7611.0\n",
      "\n",
      "Step number 157:\n",
      "Current halite:  7611.0\n",
      "\n",
      "Step number 158:\n",
      "Current halite:  7611.0\n",
      "\n",
      "Step number 159:\n",
      "Current halite:  7876.0\n",
      "\n",
      "Step number 160:\n",
      "Current halite:  7876.0\n",
      "\n",
      "Step number 161:\n",
      "Current halite:  7876.0\n",
      "\n",
      "Step number 162:\n",
      "Current halite:  7876.0\n",
      "\n",
      "Step number 163:\n",
      "Current halite:  7876.0\n",
      "\n",
      "Step number 164:\n",
      "Current halite:  7876.0\n",
      "\n",
      "Step number 165:\n",
      "Current halite:  7876.0\n",
      "\n",
      "Step number 166:\n",
      "Current halite:  7876.0\n",
      "\n",
      "Step number 167:\n",
      "Current halite:  7876.0\n",
      "\n",
      "Step number 168:\n",
      "Current halite:  7876.0\n",
      "\n",
      "Step number 169:\n",
      "Current halite:  7876.0\n",
      "\n",
      "Step number 170:\n",
      "Current halite:  7876.0\n",
      "\n",
      "Step number 171:\n",
      "Current halite:  7876.0\n",
      "\n",
      "Step number 172:\n",
      "Current halite:  7876.0\n",
      "\n",
      "Step number 173:\n",
      "Current halite:  7876.0\n",
      "\n",
      "Step number 174:\n",
      "Current halite:  7876.0\n",
      "\n",
      "Step number 175:\n",
      "Current halite:  7876.0\n",
      "\n",
      "Step number 176:\n",
      "Current halite:  7876.0\n",
      "\n",
      "Step number 177:\n",
      "Current halite:  7876.0\n",
      "\n",
      "Step number 178:\n",
      "Current halite:  7876.0\n",
      "\n",
      "Step number 179:\n",
      "Current halite:  7876.0\n",
      "\n",
      "Step number 180:\n",
      "Current halite:  7876.0\n",
      "\n",
      "Step number 181:\n",
      "Current halite:  7876.0\n",
      "\n",
      "Step number 182:\n",
      "Current halite:  7876.0\n",
      "\n",
      "Step number 183:\n",
      "Current halite:  7876.0\n",
      "\n",
      "Step number 184:\n",
      "Current halite:  7876.0\n",
      "\n",
      "Step number 185:\n",
      "Current halite:  7876.0\n",
      "\n",
      "Step number 186:\n",
      "Current halite:  7876.0\n",
      "\n",
      "Step number 187:\n",
      "Current halite:  7876.0\n",
      "\n",
      "Step number 188:\n",
      "Current halite:  7876.0\n",
      "\n",
      "Step number 189:\n",
      "Current halite:  7876.0\n",
      "\n",
      "Step number 190:\n",
      "Current halite:  7876.0\n",
      "\n",
      "Step number 191:\n",
      "Current halite:  7876.0\n",
      "\n",
      "Step number 192:\n",
      "Current halite:  7876.0\n",
      "\n",
      "Step number 193:\n",
      "Current halite:  7876.0\n",
      "\n",
      "Step number 194:\n",
      "Current halite:  7876.0\n",
      "\n",
      "Step number 195:\n",
      "Current halite:  7876.0\n",
      "\n",
      "Step number 196:\n",
      "Current halite:  7876.0\n",
      "\n",
      "Step number 197:\n",
      "Current halite:  7876.0\n",
      "\n",
      "Step number 198:\n",
      "Current halite:  7876.0\n",
      "\n",
      "Step number 199:\n",
      "Current halite:  7876.0\n",
      "\n",
      "Step number 200:\n",
      "Current halite:  7876.0\n",
      "\n",
      "Step number 201:\n",
      "Current halite:  7876.0\n"
     ]
    },
    {
     "name": "stdout",
     "output_type": "stream",
     "text": [
      "\n",
      "Step number 202:\n",
      "Current halite:  7876.0\n",
      "\n",
      "Step number 203:\n",
      "Current halite:  7876.0\n",
      "\n",
      "Step number 204:\n",
      "Current halite:  7876.0\n",
      "\n",
      "Step number 205:\n",
      "Current halite:  7876.0\n",
      "\n",
      "Step number 206:\n",
      "Current halite:  7876.0\n",
      "\n",
      "Step number 207:\n",
      "Current halite:  7876.0\n",
      "\n",
      "Step number 208:\n",
      "Current halite:  7876.0\n",
      "\n",
      "Step number 209:\n",
      "Current halite:  7876.0\n",
      "\n",
      "Step number 210:\n",
      "Current halite:  7876.0\n",
      "\n",
      "Step number 211:\n",
      "Current halite:  7876.0\n",
      "\n",
      "Step number 212:\n",
      "Current halite:  7876.0\n",
      "\n",
      "Step number 213:\n",
      "Current halite:  7876.0\n",
      "\n",
      "Step number 214:\n",
      "Current halite:  7988.0\n",
      "\n",
      "Step number 215:\n",
      "Current halite:  7988.0\n",
      "\n",
      "Step number 216:\n",
      "Current halite:  7988.0\n",
      "\n",
      "Step number 217:\n",
      "Current halite:  7988.0\n",
      "\n",
      "Step number 218:\n",
      "Current halite:  7988.0\n",
      "\n",
      "Step number 219:\n",
      "Current halite:  7988.0\n",
      "\n",
      "Step number 220:\n",
      "Current halite:  7988.0\n",
      "\n",
      "Step number 221:\n",
      "Current halite:  7988.0\n",
      "\n",
      "Step number 222:\n",
      "Current halite:  7988.0\n",
      "\n",
      "Step number 223:\n",
      "Current halite:  7988.0\n",
      "\n",
      "Step number 224:\n",
      "Current halite:  7988.0\n",
      "\n",
      "Step number 225:\n",
      "Current halite:  7988.0\n",
      "\n",
      "Step number 226:\n",
      "Current halite:  7988.0\n",
      "\n",
      "Step number 227:\n",
      "Current halite:  7988.0\n",
      "\n",
      "Step number 228:\n",
      "Current halite:  7988.0\n",
      "\n",
      "Step number 229:\n",
      "Current halite:  7988.0\n",
      "\n",
      "Step number 230:\n",
      "Current halite:  7988.0\n",
      "\n",
      "Step number 231:\n",
      "Current halite:  7988.0\n",
      "\n",
      "Step number 232:\n",
      "Current halite:  7988.0\n",
      "\n",
      "Step number 233:\n",
      "Current halite:  7988.0\n",
      "\n",
      "Step number 234:\n",
      "Current halite:  7988.0\n",
      "\n",
      "Step number 235:\n",
      "Current halite:  7988.0\n",
      "\n",
      "Step number 236:\n",
      "Current halite:  7988.0\n",
      "\n",
      "Step number 237:\n",
      "Current halite:  7988.0\n",
      "\n",
      "Step number 238:\n",
      "Current halite:  7988.0\n",
      "\n",
      "Step number 239:\n",
      "Current halite:  7988.0\n",
      "\n",
      "Step number 240:\n",
      "Current halite:  7988.0\n",
      "\n",
      "Step number 241:\n",
      "Current halite:  7988.0\n",
      "\n",
      "Step number 242:\n",
      "Current halite:  7988.0\n",
      "\n",
      "Step number 243:\n",
      "Current halite:  7988.0\n",
      "\n",
      "Step number 244:\n",
      "Current halite:  7988.0\n",
      "\n",
      "Step number 245:\n",
      "Current halite:  7988.0\n",
      "\n",
      "Step number 246:\n",
      "Current halite:  7988.0\n",
      "\n",
      "Step number 247:\n",
      "Current halite:  7988.0\n",
      "\n",
      "Step number 248:\n",
      "Current halite:  7988.0\n",
      "\n",
      "Step number 249:\n",
      "Current halite:  7988.0\n",
      "\n",
      "Step number 250:\n",
      "Current halite:  7988.0\n",
      "\n",
      "Step number 251:\n",
      "Current halite:  7988.0\n",
      "\n",
      "Step number 252:\n",
      "Current halite:  7988.0\n",
      "\n",
      "Step number 253:\n",
      "Current halite:  7988.0\n",
      "\n",
      "Step number 254:\n",
      "Current halite:  7988.0\n",
      "\n",
      "Step number 255:\n",
      "Current halite:  7988.0\n",
      "\n",
      "Step number 256:\n",
      "Current halite:  7988.0\n",
      "\n",
      "Step number 257:\n",
      "Current halite:  7988.0\n",
      "\n",
      "Step number 258:\n",
      "Current halite:  7988.0\n",
      "\n",
      "Step number 259:\n",
      "Current halite:  7988.0\n",
      "\n",
      "Step number 260:\n",
      "Current halite:  7988.0\n",
      "\n",
      "Step number 261:\n",
      "Current halite:  7988.0\n",
      "\n",
      "Step number 262:\n",
      "Current halite:  7988.0\n",
      "\n",
      "Step number 263:\n",
      "Current halite:  7988.0\n",
      "\n",
      "Step number 264:\n",
      "Current halite:  7988.0\n",
      "\n",
      "Step number 265:\n",
      "Current halite:  7988.0\n",
      "\n",
      "Step number 266:\n",
      "Current halite:  8233.0\n",
      "\n",
      "Step number 267:\n",
      "Current halite:  8233.0\n",
      "\n",
      "Step number 268:\n",
      "Current halite:  8233.0\n",
      "\n",
      "Step number 269:\n",
      "Current halite:  8233.0\n",
      "\n",
      "Step number 270:\n",
      "Current halite:  8233.0\n",
      "\n",
      "Step number 271:\n",
      "Current halite:  8409.0\n",
      "\n",
      "Step number 272:\n",
      "Current halite:  8409.0\n",
      "\n",
      "Step number 273:\n",
      "Current halite:  8409.0\n",
      "\n",
      "Step number 274:\n",
      "Current halite:  8409.0\n",
      "\n",
      "Step number 275:\n",
      "Current halite:  8409.0\n",
      "\n",
      "Step number 276:\n",
      "Current halite:  8541.0\n",
      "\n",
      "Step number 277:\n",
      "Current halite:  8541.0\n",
      "\n",
      "Step number 278:\n",
      "Current halite:  8541.0\n",
      "\n",
      "Step number 279:\n",
      "Current halite:  8541.0\n",
      "\n",
      "Step number 280:\n",
      "Current halite:  8541.0\n",
      "\n",
      "Step number 281:\n",
      "Current halite:  8541.0\n",
      "\n",
      "Step number 282:\n",
      "Current halite:  8541.0\n",
      "\n",
      "Step number 283:\n",
      "Current halite:  8726.0\n",
      "\n",
      "Step number 284:\n",
      "Current halite:  8726.0\n",
      "\n",
      "Step number 285:\n",
      "Current halite:  8726.0\n",
      "\n",
      "Step number 286:\n",
      "Current halite:  8726.0\n",
      "\n",
      "Step number 287:\n",
      "Current halite:  8726.0\n",
      "\n",
      "Step number 288:\n",
      "Current halite:  8726.0\n",
      "\n",
      "Step number 289:\n",
      "Current halite:  8726.0\n",
      "\n",
      "Step number 290:\n",
      "Current halite:  8726.0\n",
      "\n",
      "Step number 291:\n",
      "Current halite:  8978.0\n",
      "\n",
      "Step number 292:\n",
      "Current halite:  8978.0\n",
      "\n",
      "Step number 293:\n",
      "Current halite:  8978.0\n",
      "\n",
      "Step number 294:\n",
      "Current halite:  8978.0\n",
      "\n",
      "Step number 295:\n",
      "Current halite:  8978.0\n",
      "\n",
      "Step number 296:\n",
      "Current halite:  9117.0\n",
      "\n",
      "Step number 297:\n",
      "Current halite:  9117.0\n",
      "\n",
      "Step number 298:\n",
      "Current halite:  9117.0\n",
      "\n",
      "Step number 299:\n",
      "Current halite:  9117.0\n",
      "\n",
      "Step number 300:\n",
      "Current halite:  9117.0\n",
      "\n",
      "Step number 301:\n",
      "Current halite:  9117.0\n",
      "\n",
      "Step number 302:\n",
      "Current halite:  9117.0\n",
      "\n",
      "Step number 303:\n",
      "Current halite:  9256.0\n",
      "\n",
      "Step number 304:\n",
      "Current halite:  9256.0\n",
      "\n",
      "Step number 305:\n",
      "Current halite:  9256.0\n",
      "\n",
      "Step number 306:\n",
      "Current halite:  9256.0\n",
      "\n",
      "Step number 307:\n",
      "Current halite:  9256.0\n",
      "\n",
      "Step number 308:\n",
      "Current halite:  9256.0\n",
      "\n",
      "Step number 309:\n",
      "Current halite:  9256.0\n",
      "\n",
      "Step number 310:\n",
      "Current halite:  9360.0\n",
      "\n",
      "Step number 311:\n",
      "Current halite:  9360.0\n",
      "\n",
      "Step number 312:\n",
      "Current halite:  9360.0\n",
      "\n",
      "Step number 313:\n",
      "Current halite:  9360.0\n",
      "\n",
      "Step number 314:\n",
      "Current halite:  9360.0\n",
      "\n",
      "Step number 315:\n",
      "Current halite:  9360.0\n",
      "\n",
      "Step number 316:\n",
      "Current halite:  9360.0\n",
      "\n",
      "Step number 317:\n",
      "Current halite:  9360.0\n",
      "\n",
      "Step number 318:\n",
      "Current halite:  9497.0\n",
      "\n",
      "Step number 319:\n",
      "Current halite:  9497.0\n",
      "\n",
      "Step number 320:\n",
      "Current halite:  9497.0\n",
      "\n",
      "Step number 321:\n",
      "Current halite:  9497.0\n",
      "\n",
      "Step number 322:\n",
      "Current halite:  9497.0\n",
      "\n",
      "Step number 323:\n",
      "Current halite:  9497.0\n",
      "\n",
      "Step number 324:\n",
      "Current halite:  9497.0\n",
      "\n",
      "Step number 325:\n",
      "Current halite:  9497.0\n",
      "\n",
      "Step number 326:\n",
      "Current halite:  9574.0\n",
      "\n",
      "Step number 327:\n",
      "Current halite:  9574.0\n",
      "\n",
      "Step number 328:\n",
      "Current halite:  9574.0\n",
      "\n",
      "Step number 329:\n",
      "Current halite:  9574.0\n",
      "\n",
      "Step number 330:\n",
      "Current halite:  9574.0\n",
      "\n",
      "Step number 331:\n",
      "Current halite:  9574.0\n",
      "\n",
      "Step number 332:\n",
      "Current halite:  9574.0\n",
      "\n",
      "Step number 333:\n",
      "Current halite:  9574.0\n",
      "\n",
      "Step number 334:\n",
      "Current halite:  9700.0\n",
      "\n",
      "Step number 335:\n",
      "Current halite:  9700.0\n",
      "\n",
      "Step number 336:\n",
      "Current halite:  9700.0\n",
      "\n",
      "Step number 337:\n",
      "Current halite:  9700.0\n",
      "\n",
      "Step number 338:\n",
      "Current halite:  9700.0\n",
      "\n",
      "Step number 339:\n",
      "Current halite:  9700.0\n",
      "\n",
      "Step number 340:\n",
      "Current halite:  9700.0\n",
      "\n",
      "Step number 341:\n",
      "Current halite:  9700.0\n",
      "\n",
      "Step number 342:\n",
      "Current halite:  9700.0\n",
      "\n",
      "Step number 343:\n",
      "Current halite:  9700.0\n",
      "\n",
      "Step number 344:\n",
      "Current halite:  9700.0\n",
      "\n",
      "Step number 345:\n",
      "Current halite:  9700.0\n",
      "\n",
      "Step number 346:\n",
      "Current halite:  9700.0\n",
      "\n",
      "Step number 347:\n",
      "Current halite:  9700.0\n",
      "\n",
      "Step number 348:\n",
      "Current halite:  9700.0\n",
      "\n",
      "Step number 349:\n",
      "Current halite:  9700.0\n",
      "\n",
      "Step number 350:\n",
      "Current halite:  9700.0\n",
      "\n",
      "Step number 351:\n",
      "Current halite:  9700.0\n",
      "\n",
      "Step number 352:\n",
      "Current halite:  9700.0\n",
      "\n",
      "Step number 353:\n",
      "Current halite:  9700.0\n",
      "\n",
      "Step number 354:\n",
      "Current halite:  9700.0\n",
      "\n",
      "Step number 355:\n",
      "Current halite:  9700.0\n",
      "\n",
      "Step number 356:\n",
      "Current halite:  9700.0\n",
      "\n",
      "Step number 357:\n",
      "Current halite:  9700.0\n",
      "\n",
      "Step number 358:\n",
      "Current halite:  9700.0\n",
      "\n",
      "Step number 359:\n",
      "Current halite:  9700.0\n",
      "\n",
      "Step number 360:\n",
      "Current halite:  9700.0\n",
      "\n",
      "Step number 361:\n",
      "Current halite:  9700.0\n",
      "\n",
      "Step number 362:\n",
      "Current halite:  9700.0\n",
      "\n",
      "Step number 363:\n",
      "Current halite:  9700.0\n",
      "\n",
      "Step number 364:\n",
      "Current halite:  9700.0\n",
      "\n",
      "Step number 365:\n",
      "Current halite:  9700.0\n",
      "\n",
      "Step number 366:\n",
      "Current halite:  9700.0\n",
      "\n",
      "Step number 367:\n",
      "Current halite:  9700.0\n",
      "\n",
      "Step number 368:\n",
      "Current halite:  9700.0\n",
      "\n",
      "Step number 369:\n",
      "Current halite:  9700.0\n",
      "\n",
      "Step number 370:\n",
      "Current halite:  9700.0\n",
      "\n",
      "Step number 371:\n",
      "Current halite:  9700.0\n",
      "\n",
      "Step number 372:\n",
      "Current halite:  9700.0\n",
      "\n",
      "Step number 373:\n",
      "Current halite:  9700.0\n",
      "\n",
      "Step number 374:\n",
      "Current halite:  9700.0\n",
      "\n",
      "Step number 375:\n",
      "Current halite:  9700.0\n",
      "\n",
      "Step number 376:\n",
      "Current halite:  9700.0\n",
      "\n",
      "Step number 377:\n",
      "Current halite:  9700.0\n",
      "\n",
      "Step number 378:\n",
      "Current halite:  9700.0\n",
      "\n",
      "Step number 379:\n",
      "Current halite:  9700.0\n",
      "\n",
      "Step number 380:\n",
      "Current halite:  9700.0\n",
      "\n",
      "Step number 381:\n",
      "Current halite:  9700.0\n",
      "\n",
      "Step number 382:\n",
      "Current halite:  9700.0\n",
      "\n",
      "Step number 383:\n",
      "Current halite:  9700.0\n",
      "\n",
      "Step number 384:\n",
      "Current halite:  9700.0\n",
      "\n",
      "Step number 385:\n",
      "Current halite:  9700.0\n",
      "\n",
      "Step number 386:\n",
      "Current halite:  9700.0\n",
      "\n",
      "Step number 387:\n",
      "Current halite:  9700.0\n",
      "\n",
      "Step number 388:\n",
      "Current halite:  9700.0\n",
      "\n",
      "Step number 389:\n",
      "Current halite:  9700.0\n",
      "\n",
      "Step number 390:\n",
      "Current halite:  9700.0\n",
      "\n",
      "Step number 391:\n",
      "Current halite:  9700.0\n",
      "\n",
      "Step number 392:\n",
      "Current halite:  9700.0\n",
      "\n",
      "Step number 393:\n",
      "Current halite:  9700.0\n",
      "\n",
      "Step number 394:\n",
      "Current halite:  9700.0\n",
      "\n",
      "Step number 395:\n",
      "Current halite:  9700.0\n",
      "\n",
      "Step number 396:\n",
      "Current halite:  9700.0\n",
      "\n",
      "Step number 397:\n",
      "Current halite:  9700.0\n",
      "\n",
      "Step number 398:\n",
      "Current halite:  9700.0\n",
      "\n",
      "Step number 399:\n",
      "Current halite:  9700.0\n",
      "\n",
      "Step number 400:\n",
      "Current halite:  9700.0\n",
      "\n",
      "End episode.\n"
     ]
    }
   ],
   "source": [
    "verbose = False\n",
    "eps = 0\n",
    "env = Env.HaliteEnv(NUM_PLAYERS, MAP_SIZE, episode_lenght = TOT_TURNS) # init environment\n",
    "steps = 0\n",
    "reward = 0 # cumulative reward of the episode\n",
    "passages = 0 # number of times the ship passes through the shipyard\n",
    "\n",
    "# first mandatory step\n",
    "steps = steps + 1\n",
    "if verbose:\n",
    "    print(\"\\nStep number %d:\"%steps)\n",
    "action_matrix = np.full((MAP_SIZE,MAP_SIZE), -1) # no ship, no action\n",
    "shipyard_action = True # initially always choose to create a ship\n",
    "# returns the matricial state, the array of players halite and a flag that is true if it's the final turn\n",
    "state, players_halite, finish, _ = env.step(action_matrix, makeship = shipyard_action) \n",
    "#print(\"Cargo layer: \\n\", state[:,:,2])\n",
    "current_halite = players_halite[0][0]\n",
    "s_enc = cod.encode_state(state, map_size = MAP_SIZE, h_lev = H_LEV, n_actions = N_ACTIONS, debug=False)\n",
    "\n",
    "while True:\n",
    "    steps = steps + 1\n",
    "    if verbose:\n",
    "        print(\"\\nStep number %d:\"%steps)\n",
    "        print(\"Current halite: \", current_halite)\n",
    "    a_enc = ship.e_greedy_policy(s_enc, q_values, eps = eps)\n",
    "    a_mat = cod.scalar_to_matrix_action(a_enc, state, map_size = MAP_SIZE) #convert the action in matricial form\n",
    "\n",
    "    # submit the action and get the new state\n",
    "    state, players_halite, finish, _ = env.step(a_mat, makeship = False) \n",
    "\n",
    "    new_halite = players_halite[0][0]\n",
    "\n",
    "    # compute the 1-ship reward as the halite increment of the player divided by the max halite \n",
    "    # plus a standard negative reward \n",
    "    r = (new_halite - current_halite)/1000 + STD_REWARD\n",
    "\n",
    "    sp_enc = cod.encode_state(state, map_size = MAP_SIZE, h_lev = H_LEV, n_actions = N_ACTIONS, debug=False)\n",
    "    reward += r # cumulative reward of the episode\n",
    "\n",
    "    # adds 1 to passages if the current position of the ship coincides with that of the shipyard\n",
    "    # whereas the previous position didn't\n",
    "    s_dec = cod.decode3D(s_enc, L1 = MAP_SIZE**2, L2 = H_LEV**6, L3 = N_ACTIONS-1)\n",
    "    sp_dec = cod.decode3D(sp_enc, L1 = MAP_SIZE**2, L2 = H_LEV**6, L3 = N_ACTIONS-1)\n",
    "    shipy_pos = (MAP_SIZE**2-1)/2 #shipyard is at the center of the map\n",
    "    if (sp_dec[0] == shipy_pos and s_dec[0] != shipy_pos):\n",
    "        passages = passages +1\n",
    "\n",
    "    a_temp_enc = ship.greedy_policy(sp_enc, q_values) # simulate the best action in the new state (before update)\n",
    "\n",
    "    # update Q-values\n",
    "    q_values = ship.update_q_v1(s_enc, a_enc, r, sp_enc, a_temp_enc, q_values, alpha = LEARNING_RATE,\n",
    "                gamma = DISCOUNT_FACTOR, map_size = MAP_SIZE, h_lev = H_LEV, n_actions = N_ACTIONS)\n",
    "\n",
    "    # update states and halite\n",
    "    s_enc = sp_enc\n",
    "    current_halite = new_halite\n",
    "\n",
    "    if (finish == True) or (steps >= 400):\n",
    "        if verbose:\n",
    "            print(\"\\nEnd episode.\")\n",
    "        break\n",
    "collected_halite = current_halite - 4000\n"
   ]
  },
  {
   "cell_type": "code",
   "execution_count": 46,
   "metadata": {},
   "outputs": [],
   "source": [
    "import time"
   ]
  },
  {
   "cell_type": "code",
   "execution_count": 71,
   "metadata": {
    "scrolled": false
   },
   "outputs": [
    {
     "data": {
      "application/javascript": [
       "/* Put everything inside the global mpl namespace */\n",
       "window.mpl = {};\n",
       "\n",
       "\n",
       "mpl.get_websocket_type = function() {\n",
       "    if (typeof(WebSocket) !== 'undefined') {\n",
       "        return WebSocket;\n",
       "    } else if (typeof(MozWebSocket) !== 'undefined') {\n",
       "        return MozWebSocket;\n",
       "    } else {\n",
       "        alert('Your browser does not have WebSocket support. ' +\n",
       "              'Please try Chrome, Safari or Firefox ≥ 6. ' +\n",
       "              'Firefox 4 and 5 are also supported but you ' +\n",
       "              'have to enable WebSockets in about:config.');\n",
       "    };\n",
       "}\n",
       "\n",
       "mpl.figure = function(figure_id, websocket, ondownload, parent_element) {\n",
       "    this.id = figure_id;\n",
       "\n",
       "    this.ws = websocket;\n",
       "\n",
       "    this.supports_binary = (this.ws.binaryType != undefined);\n",
       "\n",
       "    if (!this.supports_binary) {\n",
       "        var warnings = document.getElementById(\"mpl-warnings\");\n",
       "        if (warnings) {\n",
       "            warnings.style.display = 'block';\n",
       "            warnings.textContent = (\n",
       "                \"This browser does not support binary websocket messages. \" +\n",
       "                    \"Performance may be slow.\");\n",
       "        }\n",
       "    }\n",
       "\n",
       "    this.imageObj = new Image();\n",
       "\n",
       "    this.context = undefined;\n",
       "    this.message = undefined;\n",
       "    this.canvas = undefined;\n",
       "    this.rubberband_canvas = undefined;\n",
       "    this.rubberband_context = undefined;\n",
       "    this.format_dropdown = undefined;\n",
       "\n",
       "    this.image_mode = 'full';\n",
       "\n",
       "    this.root = $('<div/>');\n",
       "    this._root_extra_style(this.root)\n",
       "    this.root.attr('style', 'display: inline-block');\n",
       "\n",
       "    $(parent_element).append(this.root);\n",
       "\n",
       "    this._init_header(this);\n",
       "    this._init_canvas(this);\n",
       "    this._init_toolbar(this);\n",
       "\n",
       "    var fig = this;\n",
       "\n",
       "    this.waiting = false;\n",
       "\n",
       "    this.ws.onopen =  function () {\n",
       "            fig.send_message(\"supports_binary\", {value: fig.supports_binary});\n",
       "            fig.send_message(\"send_image_mode\", {});\n",
       "            if (mpl.ratio != 1) {\n",
       "                fig.send_message(\"set_dpi_ratio\", {'dpi_ratio': mpl.ratio});\n",
       "            }\n",
       "            fig.send_message(\"refresh\", {});\n",
       "        }\n",
       "\n",
       "    this.imageObj.onload = function() {\n",
       "            if (fig.image_mode == 'full') {\n",
       "                // Full images could contain transparency (where diff images\n",
       "                // almost always do), so we need to clear the canvas so that\n",
       "                // there is no ghosting.\n",
       "                fig.context.clearRect(0, 0, fig.canvas.width, fig.canvas.height);\n",
       "            }\n",
       "            fig.context.drawImage(fig.imageObj, 0, 0);\n",
       "        };\n",
       "\n",
       "    this.imageObj.onunload = function() {\n",
       "        fig.ws.close();\n",
       "    }\n",
       "\n",
       "    this.ws.onmessage = this._make_on_message_function(this);\n",
       "\n",
       "    this.ondownload = ondownload;\n",
       "}\n",
       "\n",
       "mpl.figure.prototype._init_header = function() {\n",
       "    var titlebar = $(\n",
       "        '<div class=\"ui-dialog-titlebar ui-widget-header ui-corner-all ' +\n",
       "        'ui-helper-clearfix\"/>');\n",
       "    var titletext = $(\n",
       "        '<div class=\"ui-dialog-title\" style=\"width: 100%; ' +\n",
       "        'text-align: center; padding: 3px;\"/>');\n",
       "    titlebar.append(titletext)\n",
       "    this.root.append(titlebar);\n",
       "    this.header = titletext[0];\n",
       "}\n",
       "\n",
       "\n",
       "\n",
       "mpl.figure.prototype._canvas_extra_style = function(canvas_div) {\n",
       "\n",
       "}\n",
       "\n",
       "\n",
       "mpl.figure.prototype._root_extra_style = function(canvas_div) {\n",
       "\n",
       "}\n",
       "\n",
       "mpl.figure.prototype._init_canvas = function() {\n",
       "    var fig = this;\n",
       "\n",
       "    var canvas_div = $('<div/>');\n",
       "\n",
       "    canvas_div.attr('style', 'position: relative; clear: both; outline: 0');\n",
       "\n",
       "    function canvas_keyboard_event(event) {\n",
       "        return fig.key_event(event, event['data']);\n",
       "    }\n",
       "\n",
       "    canvas_div.keydown('key_press', canvas_keyboard_event);\n",
       "    canvas_div.keyup('key_release', canvas_keyboard_event);\n",
       "    this.canvas_div = canvas_div\n",
       "    this._canvas_extra_style(canvas_div)\n",
       "    this.root.append(canvas_div);\n",
       "\n",
       "    var canvas = $('<canvas/>');\n",
       "    canvas.addClass('mpl-canvas');\n",
       "    canvas.attr('style', \"left: 0; top: 0; z-index: 0; outline: 0\")\n",
       "\n",
       "    this.canvas = canvas[0];\n",
       "    this.context = canvas[0].getContext(\"2d\");\n",
       "\n",
       "    var backingStore = this.context.backingStorePixelRatio ||\n",
       "\tthis.context.webkitBackingStorePixelRatio ||\n",
       "\tthis.context.mozBackingStorePixelRatio ||\n",
       "\tthis.context.msBackingStorePixelRatio ||\n",
       "\tthis.context.oBackingStorePixelRatio ||\n",
       "\tthis.context.backingStorePixelRatio || 1;\n",
       "\n",
       "    mpl.ratio = (window.devicePixelRatio || 1) / backingStore;\n",
       "\n",
       "    var rubberband = $('<canvas/>');\n",
       "    rubberband.attr('style', \"position: absolute; left: 0; top: 0; z-index: 1;\")\n",
       "\n",
       "    var pass_mouse_events = true;\n",
       "\n",
       "    canvas_div.resizable({\n",
       "        start: function(event, ui) {\n",
       "            pass_mouse_events = false;\n",
       "        },\n",
       "        resize: function(event, ui) {\n",
       "            fig.request_resize(ui.size.width, ui.size.height);\n",
       "        },\n",
       "        stop: function(event, ui) {\n",
       "            pass_mouse_events = true;\n",
       "            fig.request_resize(ui.size.width, ui.size.height);\n",
       "        },\n",
       "    });\n",
       "\n",
       "    function mouse_event_fn(event) {\n",
       "        if (pass_mouse_events)\n",
       "            return fig.mouse_event(event, event['data']);\n",
       "    }\n",
       "\n",
       "    rubberband.mousedown('button_press', mouse_event_fn);\n",
       "    rubberband.mouseup('button_release', mouse_event_fn);\n",
       "    // Throttle sequential mouse events to 1 every 20ms.\n",
       "    rubberband.mousemove('motion_notify', mouse_event_fn);\n",
       "\n",
       "    rubberband.mouseenter('figure_enter', mouse_event_fn);\n",
       "    rubberband.mouseleave('figure_leave', mouse_event_fn);\n",
       "\n",
       "    canvas_div.on(\"wheel\", function (event) {\n",
       "        event = event.originalEvent;\n",
       "        event['data'] = 'scroll'\n",
       "        if (event.deltaY < 0) {\n",
       "            event.step = 1;\n",
       "        } else {\n",
       "            event.step = -1;\n",
       "        }\n",
       "        mouse_event_fn(event);\n",
       "    });\n",
       "\n",
       "    canvas_div.append(canvas);\n",
       "    canvas_div.append(rubberband);\n",
       "\n",
       "    this.rubberband = rubberband;\n",
       "    this.rubberband_canvas = rubberband[0];\n",
       "    this.rubberband_context = rubberband[0].getContext(\"2d\");\n",
       "    this.rubberband_context.strokeStyle = \"#000000\";\n",
       "\n",
       "    this._resize_canvas = function(width, height) {\n",
       "        // Keep the size of the canvas, canvas container, and rubber band\n",
       "        // canvas in synch.\n",
       "        canvas_div.css('width', width)\n",
       "        canvas_div.css('height', height)\n",
       "\n",
       "        canvas.attr('width', width * mpl.ratio);\n",
       "        canvas.attr('height', height * mpl.ratio);\n",
       "        canvas.attr('style', 'width: ' + width + 'px; height: ' + height + 'px;');\n",
       "\n",
       "        rubberband.attr('width', width);\n",
       "        rubberband.attr('height', height);\n",
       "    }\n",
       "\n",
       "    // Set the figure to an initial 600x600px, this will subsequently be updated\n",
       "    // upon first draw.\n",
       "    this._resize_canvas(600, 600);\n",
       "\n",
       "    // Disable right mouse context menu.\n",
       "    $(this.rubberband_canvas).bind(\"contextmenu\",function(e){\n",
       "        return false;\n",
       "    });\n",
       "\n",
       "    function set_focus () {\n",
       "        canvas.focus();\n",
       "        canvas_div.focus();\n",
       "    }\n",
       "\n",
       "    window.setTimeout(set_focus, 100);\n",
       "}\n",
       "\n",
       "mpl.figure.prototype._init_toolbar = function() {\n",
       "    var fig = this;\n",
       "\n",
       "    var nav_element = $('<div/>');\n",
       "    nav_element.attr('style', 'width: 100%');\n",
       "    this.root.append(nav_element);\n",
       "\n",
       "    // Define a callback function for later on.\n",
       "    function toolbar_event(event) {\n",
       "        return fig.toolbar_button_onclick(event['data']);\n",
       "    }\n",
       "    function toolbar_mouse_event(event) {\n",
       "        return fig.toolbar_button_onmouseover(event['data']);\n",
       "    }\n",
       "\n",
       "    for(var toolbar_ind in mpl.toolbar_items) {\n",
       "        var name = mpl.toolbar_items[toolbar_ind][0];\n",
       "        var tooltip = mpl.toolbar_items[toolbar_ind][1];\n",
       "        var image = mpl.toolbar_items[toolbar_ind][2];\n",
       "        var method_name = mpl.toolbar_items[toolbar_ind][3];\n",
       "\n",
       "        if (!name) {\n",
       "            // put a spacer in here.\n",
       "            continue;\n",
       "        }\n",
       "        var button = $('<button/>');\n",
       "        button.addClass('ui-button ui-widget ui-state-default ui-corner-all ' +\n",
       "                        'ui-button-icon-only');\n",
       "        button.attr('role', 'button');\n",
       "        button.attr('aria-disabled', 'false');\n",
       "        button.click(method_name, toolbar_event);\n",
       "        button.mouseover(tooltip, toolbar_mouse_event);\n",
       "\n",
       "        var icon_img = $('<span/>');\n",
       "        icon_img.addClass('ui-button-icon-primary ui-icon');\n",
       "        icon_img.addClass(image);\n",
       "        icon_img.addClass('ui-corner-all');\n",
       "\n",
       "        var tooltip_span = $('<span/>');\n",
       "        tooltip_span.addClass('ui-button-text');\n",
       "        tooltip_span.html(tooltip);\n",
       "\n",
       "        button.append(icon_img);\n",
       "        button.append(tooltip_span);\n",
       "\n",
       "        nav_element.append(button);\n",
       "    }\n",
       "\n",
       "    var fmt_picker_span = $('<span/>');\n",
       "\n",
       "    var fmt_picker = $('<select/>');\n",
       "    fmt_picker.addClass('mpl-toolbar-option ui-widget ui-widget-content');\n",
       "    fmt_picker_span.append(fmt_picker);\n",
       "    nav_element.append(fmt_picker_span);\n",
       "    this.format_dropdown = fmt_picker[0];\n",
       "\n",
       "    for (var ind in mpl.extensions) {\n",
       "        var fmt = mpl.extensions[ind];\n",
       "        var option = $(\n",
       "            '<option/>', {selected: fmt === mpl.default_extension}).html(fmt);\n",
       "        fmt_picker.append(option);\n",
       "    }\n",
       "\n",
       "    // Add hover states to the ui-buttons\n",
       "    $( \".ui-button\" ).hover(\n",
       "        function() { $(this).addClass(\"ui-state-hover\");},\n",
       "        function() { $(this).removeClass(\"ui-state-hover\");}\n",
       "    );\n",
       "\n",
       "    var status_bar = $('<span class=\"mpl-message\"/>');\n",
       "    nav_element.append(status_bar);\n",
       "    this.message = status_bar[0];\n",
       "}\n",
       "\n",
       "mpl.figure.prototype.request_resize = function(x_pixels, y_pixels) {\n",
       "    // Request matplotlib to resize the figure. Matplotlib will then trigger a resize in the client,\n",
       "    // which will in turn request a refresh of the image.\n",
       "    this.send_message('resize', {'width': x_pixels, 'height': y_pixels});\n",
       "}\n",
       "\n",
       "mpl.figure.prototype.send_message = function(type, properties) {\n",
       "    properties['type'] = type;\n",
       "    properties['figure_id'] = this.id;\n",
       "    this.ws.send(JSON.stringify(properties));\n",
       "}\n",
       "\n",
       "mpl.figure.prototype.send_draw_message = function() {\n",
       "    if (!this.waiting) {\n",
       "        this.waiting = true;\n",
       "        this.ws.send(JSON.stringify({type: \"draw\", figure_id: this.id}));\n",
       "    }\n",
       "}\n",
       "\n",
       "\n",
       "mpl.figure.prototype.handle_save = function(fig, msg) {\n",
       "    var format_dropdown = fig.format_dropdown;\n",
       "    var format = format_dropdown.options[format_dropdown.selectedIndex].value;\n",
       "    fig.ondownload(fig, format);\n",
       "}\n",
       "\n",
       "\n",
       "mpl.figure.prototype.handle_resize = function(fig, msg) {\n",
       "    var size = msg['size'];\n",
       "    if (size[0] != fig.canvas.width || size[1] != fig.canvas.height) {\n",
       "        fig._resize_canvas(size[0], size[1]);\n",
       "        fig.send_message(\"refresh\", {});\n",
       "    };\n",
       "}\n",
       "\n",
       "mpl.figure.prototype.handle_rubberband = function(fig, msg) {\n",
       "    var x0 = msg['x0'] / mpl.ratio;\n",
       "    var y0 = (fig.canvas.height - msg['y0']) / mpl.ratio;\n",
       "    var x1 = msg['x1'] / mpl.ratio;\n",
       "    var y1 = (fig.canvas.height - msg['y1']) / mpl.ratio;\n",
       "    x0 = Math.floor(x0) + 0.5;\n",
       "    y0 = Math.floor(y0) + 0.5;\n",
       "    x1 = Math.floor(x1) + 0.5;\n",
       "    y1 = Math.floor(y1) + 0.5;\n",
       "    var min_x = Math.min(x0, x1);\n",
       "    var min_y = Math.min(y0, y1);\n",
       "    var width = Math.abs(x1 - x0);\n",
       "    var height = Math.abs(y1 - y0);\n",
       "\n",
       "    fig.rubberband_context.clearRect(\n",
       "        0, 0, fig.canvas.width / mpl.ratio, fig.canvas.height / mpl.ratio);\n",
       "\n",
       "    fig.rubberband_context.strokeRect(min_x, min_y, width, height);\n",
       "}\n",
       "\n",
       "mpl.figure.prototype.handle_figure_label = function(fig, msg) {\n",
       "    // Updates the figure title.\n",
       "    fig.header.textContent = msg['label'];\n",
       "}\n",
       "\n",
       "mpl.figure.prototype.handle_cursor = function(fig, msg) {\n",
       "    var cursor = msg['cursor'];\n",
       "    switch(cursor)\n",
       "    {\n",
       "    case 0:\n",
       "        cursor = 'pointer';\n",
       "        break;\n",
       "    case 1:\n",
       "        cursor = 'default';\n",
       "        break;\n",
       "    case 2:\n",
       "        cursor = 'crosshair';\n",
       "        break;\n",
       "    case 3:\n",
       "        cursor = 'move';\n",
       "        break;\n",
       "    }\n",
       "    fig.rubberband_canvas.style.cursor = cursor;\n",
       "}\n",
       "\n",
       "mpl.figure.prototype.handle_message = function(fig, msg) {\n",
       "    fig.message.textContent = msg['message'];\n",
       "}\n",
       "\n",
       "mpl.figure.prototype.handle_draw = function(fig, msg) {\n",
       "    // Request the server to send over a new figure.\n",
       "    fig.send_draw_message();\n",
       "}\n",
       "\n",
       "mpl.figure.prototype.handle_image_mode = function(fig, msg) {\n",
       "    fig.image_mode = msg['mode'];\n",
       "}\n",
       "\n",
       "mpl.figure.prototype.updated_canvas_event = function() {\n",
       "    // Called whenever the canvas gets updated.\n",
       "    this.send_message(\"ack\", {});\n",
       "}\n",
       "\n",
       "// A function to construct a web socket function for onmessage handling.\n",
       "// Called in the figure constructor.\n",
       "mpl.figure.prototype._make_on_message_function = function(fig) {\n",
       "    return function socket_on_message(evt) {\n",
       "        if (evt.data instanceof Blob) {\n",
       "            /* FIXME: We get \"Resource interpreted as Image but\n",
       "             * transferred with MIME type text/plain:\" errors on\n",
       "             * Chrome.  But how to set the MIME type?  It doesn't seem\n",
       "             * to be part of the websocket stream */\n",
       "            evt.data.type = \"image/png\";\n",
       "\n",
       "            /* Free the memory for the previous frames */\n",
       "            if (fig.imageObj.src) {\n",
       "                (window.URL || window.webkitURL).revokeObjectURL(\n",
       "                    fig.imageObj.src);\n",
       "            }\n",
       "\n",
       "            fig.imageObj.src = (window.URL || window.webkitURL).createObjectURL(\n",
       "                evt.data);\n",
       "            fig.updated_canvas_event();\n",
       "            fig.waiting = false;\n",
       "            return;\n",
       "        }\n",
       "        else if (typeof evt.data === 'string' && evt.data.slice(0, 21) == \"data:image/png;base64\") {\n",
       "            fig.imageObj.src = evt.data;\n",
       "            fig.updated_canvas_event();\n",
       "            fig.waiting = false;\n",
       "            return;\n",
       "        }\n",
       "\n",
       "        var msg = JSON.parse(evt.data);\n",
       "        var msg_type = msg['type'];\n",
       "\n",
       "        // Call the  \"handle_{type}\" callback, which takes\n",
       "        // the figure and JSON message as its only arguments.\n",
       "        try {\n",
       "            var callback = fig[\"handle_\" + msg_type];\n",
       "        } catch (e) {\n",
       "            console.log(\"No handler for the '\" + msg_type + \"' message type: \", msg);\n",
       "            return;\n",
       "        }\n",
       "\n",
       "        if (callback) {\n",
       "            try {\n",
       "                // console.log(\"Handling '\" + msg_type + \"' message: \", msg);\n",
       "                callback(fig, msg);\n",
       "            } catch (e) {\n",
       "                console.log(\"Exception inside the 'handler_\" + msg_type + \"' callback:\", e, e.stack, msg);\n",
       "            }\n",
       "        }\n",
       "    };\n",
       "}\n",
       "\n",
       "// from http://stackoverflow.com/questions/1114465/getting-mouse-location-in-canvas\n",
       "mpl.findpos = function(e) {\n",
       "    //this section is from http://www.quirksmode.org/js/events_properties.html\n",
       "    var targ;\n",
       "    if (!e)\n",
       "        e = window.event;\n",
       "    if (e.target)\n",
       "        targ = e.target;\n",
       "    else if (e.srcElement)\n",
       "        targ = e.srcElement;\n",
       "    if (targ.nodeType == 3) // defeat Safari bug\n",
       "        targ = targ.parentNode;\n",
       "\n",
       "    // jQuery normalizes the pageX and pageY\n",
       "    // pageX,Y are the mouse positions relative to the document\n",
       "    // offset() returns the position of the element relative to the document\n",
       "    var x = e.pageX - $(targ).offset().left;\n",
       "    var y = e.pageY - $(targ).offset().top;\n",
       "\n",
       "    return {\"x\": x, \"y\": y};\n",
       "};\n",
       "\n",
       "/*\n",
       " * return a copy of an object with only non-object keys\n",
       " * we need this to avoid circular references\n",
       " * http://stackoverflow.com/a/24161582/3208463\n",
       " */\n",
       "function simpleKeys (original) {\n",
       "  return Object.keys(original).reduce(function (obj, key) {\n",
       "    if (typeof original[key] !== 'object')\n",
       "        obj[key] = original[key]\n",
       "    return obj;\n",
       "  }, {});\n",
       "}\n",
       "\n",
       "mpl.figure.prototype.mouse_event = function(event, name) {\n",
       "    var canvas_pos = mpl.findpos(event)\n",
       "\n",
       "    if (name === 'button_press')\n",
       "    {\n",
       "        this.canvas.focus();\n",
       "        this.canvas_div.focus();\n",
       "    }\n",
       "\n",
       "    var x = canvas_pos.x * mpl.ratio;\n",
       "    var y = canvas_pos.y * mpl.ratio;\n",
       "\n",
       "    this.send_message(name, {x: x, y: y, button: event.button,\n",
       "                             step: event.step,\n",
       "                             guiEvent: simpleKeys(event)});\n",
       "\n",
       "    /* This prevents the web browser from automatically changing to\n",
       "     * the text insertion cursor when the button is pressed.  We want\n",
       "     * to control all of the cursor setting manually through the\n",
       "     * 'cursor' event from matplotlib */\n",
       "    event.preventDefault();\n",
       "    return false;\n",
       "}\n",
       "\n",
       "mpl.figure.prototype._key_event_extra = function(event, name) {\n",
       "    // Handle any extra behaviour associated with a key event\n",
       "}\n",
       "\n",
       "mpl.figure.prototype.key_event = function(event, name) {\n",
       "\n",
       "    // Prevent repeat events\n",
       "    if (name == 'key_press')\n",
       "    {\n",
       "        if (event.which === this._key)\n",
       "            return;\n",
       "        else\n",
       "            this._key = event.which;\n",
       "    }\n",
       "    if (name == 'key_release')\n",
       "        this._key = null;\n",
       "\n",
       "    var value = '';\n",
       "    if (event.ctrlKey && event.which != 17)\n",
       "        value += \"ctrl+\";\n",
       "    if (event.altKey && event.which != 18)\n",
       "        value += \"alt+\";\n",
       "    if (event.shiftKey && event.which != 16)\n",
       "        value += \"shift+\";\n",
       "\n",
       "    value += 'k';\n",
       "    value += event.which.toString();\n",
       "\n",
       "    this._key_event_extra(event, name);\n",
       "\n",
       "    this.send_message(name, {key: value,\n",
       "                             guiEvent: simpleKeys(event)});\n",
       "    return false;\n",
       "}\n",
       "\n",
       "mpl.figure.prototype.toolbar_button_onclick = function(name) {\n",
       "    if (name == 'download') {\n",
       "        this.handle_save(this, null);\n",
       "    } else {\n",
       "        this.send_message(\"toolbar_button\", {name: name});\n",
       "    }\n",
       "};\n",
       "\n",
       "mpl.figure.prototype.toolbar_button_onmouseover = function(tooltip) {\n",
       "    this.message.textContent = tooltip;\n",
       "};\n",
       "mpl.toolbar_items = [[\"Home\", \"Reset original view\", \"fa fa-home icon-home\", \"home\"], [\"Back\", \"Back to previous view\", \"fa fa-arrow-left icon-arrow-left\", \"back\"], [\"Forward\", \"Forward to next view\", \"fa fa-arrow-right icon-arrow-right\", \"forward\"], [\"\", \"\", \"\", \"\"], [\"Pan\", \"Pan axes with left mouse, zoom with right\", \"fa fa-arrows icon-move\", \"pan\"], [\"Zoom\", \"Zoom to rectangle\", \"fa fa-square-o icon-check-empty\", \"zoom\"], [\"\", \"\", \"\", \"\"], [\"Download\", \"Download plot\", \"fa fa-floppy-o icon-save\", \"download\"]];\n",
       "\n",
       "mpl.extensions = [\"eps\", \"pdf\", \"png\", \"ps\", \"raw\", \"svg\"];\n",
       "\n",
       "mpl.default_extension = \"png\";var comm_websocket_adapter = function(comm) {\n",
       "    // Create a \"websocket\"-like object which calls the given IPython comm\n",
       "    // object with the appropriate methods. Currently this is a non binary\n",
       "    // socket, so there is still some room for performance tuning.\n",
       "    var ws = {};\n",
       "\n",
       "    ws.close = function() {\n",
       "        comm.close()\n",
       "    };\n",
       "    ws.send = function(m) {\n",
       "        //console.log('sending', m);\n",
       "        comm.send(m);\n",
       "    };\n",
       "    // Register the callback with on_msg.\n",
       "    comm.on_msg(function(msg) {\n",
       "        //console.log('receiving', msg['content']['data'], msg);\n",
       "        // Pass the mpl event to the overridden (by mpl) onmessage function.\n",
       "        ws.onmessage(msg['content']['data'])\n",
       "    });\n",
       "    return ws;\n",
       "}\n",
       "\n",
       "mpl.mpl_figure_comm = function(comm, msg) {\n",
       "    // This is the function which gets called when the mpl process\n",
       "    // starts-up an IPython Comm through the \"matplotlib\" channel.\n",
       "\n",
       "    var id = msg.content.data.id;\n",
       "    // Get hold of the div created by the display call when the Comm\n",
       "    // socket was opened in Python.\n",
       "    var element = $(\"#\" + id);\n",
       "    var ws_proxy = comm_websocket_adapter(comm)\n",
       "\n",
       "    function ondownload(figure, format) {\n",
       "        window.open(figure.imageObj.src);\n",
       "    }\n",
       "\n",
       "    var fig = new mpl.figure(id, ws_proxy,\n",
       "                           ondownload,\n",
       "                           element.get(0));\n",
       "\n",
       "    // Call onopen now - mpl needs it, as it is assuming we've passed it a real\n",
       "    // web socket which is closed, not our websocket->open comm proxy.\n",
       "    ws_proxy.onopen();\n",
       "\n",
       "    fig.parent_element = element.get(0);\n",
       "    fig.cell_info = mpl.find_output_cell(\"<div id='\" + id + \"'></div>\");\n",
       "    if (!fig.cell_info) {\n",
       "        console.error(\"Failed to find cell for figure\", id, fig);\n",
       "        return;\n",
       "    }\n",
       "\n",
       "    var output_index = fig.cell_info[2]\n",
       "    var cell = fig.cell_info[0];\n",
       "\n",
       "};\n",
       "\n",
       "mpl.figure.prototype.handle_close = function(fig, msg) {\n",
       "    var width = fig.canvas.width/mpl.ratio\n",
       "    fig.root.unbind('remove')\n",
       "\n",
       "    // Update the output cell to use the data from the current canvas.\n",
       "    fig.push_to_output();\n",
       "    var dataURL = fig.canvas.toDataURL();\n",
       "    // Re-enable the keyboard manager in IPython - without this line, in FF,\n",
       "    // the notebook keyboard shortcuts fail.\n",
       "    IPython.keyboard_manager.enable()\n",
       "    $(fig.parent_element).html('<img src=\"' + dataURL + '\" width=\"' + width + '\">');\n",
       "    fig.close_ws(fig, msg);\n",
       "}\n",
       "\n",
       "mpl.figure.prototype.close_ws = function(fig, msg){\n",
       "    fig.send_message('closing', msg);\n",
       "    // fig.ws.close()\n",
       "}\n",
       "\n",
       "mpl.figure.prototype.push_to_output = function(remove_interactive) {\n",
       "    // Turn the data on the canvas into data in the output cell.\n",
       "    var width = this.canvas.width/mpl.ratio\n",
       "    var dataURL = this.canvas.toDataURL();\n",
       "    this.cell_info[1]['text/html'] = '<img src=\"' + dataURL + '\" width=\"' + width + '\">';\n",
       "}\n",
       "\n",
       "mpl.figure.prototype.updated_canvas_event = function() {\n",
       "    // Tell IPython that the notebook contents must change.\n",
       "    IPython.notebook.set_dirty(true);\n",
       "    this.send_message(\"ack\", {});\n",
       "    var fig = this;\n",
       "    // Wait a second, then push the new image to the DOM so\n",
       "    // that it is saved nicely (might be nice to debounce this).\n",
       "    setTimeout(function () { fig.push_to_output() }, 1000);\n",
       "}\n",
       "\n",
       "mpl.figure.prototype._init_toolbar = function() {\n",
       "    var fig = this;\n",
       "\n",
       "    var nav_element = $('<div/>');\n",
       "    nav_element.attr('style', 'width: 100%');\n",
       "    this.root.append(nav_element);\n",
       "\n",
       "    // Define a callback function for later on.\n",
       "    function toolbar_event(event) {\n",
       "        return fig.toolbar_button_onclick(event['data']);\n",
       "    }\n",
       "    function toolbar_mouse_event(event) {\n",
       "        return fig.toolbar_button_onmouseover(event['data']);\n",
       "    }\n",
       "\n",
       "    for(var toolbar_ind in mpl.toolbar_items){\n",
       "        var name = mpl.toolbar_items[toolbar_ind][0];\n",
       "        var tooltip = mpl.toolbar_items[toolbar_ind][1];\n",
       "        var image = mpl.toolbar_items[toolbar_ind][2];\n",
       "        var method_name = mpl.toolbar_items[toolbar_ind][3];\n",
       "\n",
       "        if (!name) { continue; };\n",
       "\n",
       "        var button = $('<button class=\"btn btn-default\" href=\"#\" title=\"' + name + '\"><i class=\"fa ' + image + ' fa-lg\"></i></button>');\n",
       "        button.click(method_name, toolbar_event);\n",
       "        button.mouseover(tooltip, toolbar_mouse_event);\n",
       "        nav_element.append(button);\n",
       "    }\n",
       "\n",
       "    // Add the status bar.\n",
       "    var status_bar = $('<span class=\"mpl-message\" style=\"text-align:right; float: right;\"/>');\n",
       "    nav_element.append(status_bar);\n",
       "    this.message = status_bar[0];\n",
       "\n",
       "    // Add the close button to the window.\n",
       "    var buttongrp = $('<div class=\"btn-group inline pull-right\"></div>');\n",
       "    var button = $('<button class=\"btn btn-mini btn-primary\" href=\"#\" title=\"Stop Interaction\"><i class=\"fa fa-power-off icon-remove icon-large\"></i></button>');\n",
       "    button.click(function (evt) { fig.handle_close(fig, {}); } );\n",
       "    button.mouseover('Stop Interaction', toolbar_mouse_event);\n",
       "    buttongrp.append(button);\n",
       "    var titlebar = this.root.find($('.ui-dialog-titlebar'));\n",
       "    titlebar.prepend(buttongrp);\n",
       "}\n",
       "\n",
       "mpl.figure.prototype._root_extra_style = function(el){\n",
       "    var fig = this\n",
       "    el.on(\"remove\", function(){\n",
       "\tfig.close_ws(fig, {});\n",
       "    });\n",
       "}\n",
       "\n",
       "mpl.figure.prototype._canvas_extra_style = function(el){\n",
       "    // this is important to make the div 'focusable\n",
       "    el.attr('tabindex', 0)\n",
       "    // reach out to IPython and tell the keyboard manager to turn it's self\n",
       "    // off when our div gets focus\n",
       "\n",
       "    // location in version 3\n",
       "    if (IPython.notebook.keyboard_manager) {\n",
       "        IPython.notebook.keyboard_manager.register_events(el);\n",
       "    }\n",
       "    else {\n",
       "        // location in version 2\n",
       "        IPython.keyboard_manager.register_events(el);\n",
       "    }\n",
       "\n",
       "}\n",
       "\n",
       "mpl.figure.prototype._key_event_extra = function(event, name) {\n",
       "    var manager = IPython.notebook.keyboard_manager;\n",
       "    if (!manager)\n",
       "        manager = IPython.keyboard_manager;\n",
       "\n",
       "    // Check for shift+enter\n",
       "    if (event.shiftKey && event.which == 13) {\n",
       "        this.canvas_div.blur();\n",
       "        event.shiftKey = false;\n",
       "        // Send a \"J\" for go to next cell\n",
       "        event.which = 74;\n",
       "        event.keyCode = 74;\n",
       "        manager.command_mode();\n",
       "        manager.handle_keydown(event);\n",
       "    }\n",
       "}\n",
       "\n",
       "mpl.figure.prototype.handle_save = function(fig, msg) {\n",
       "    fig.ondownload(fig, null);\n",
       "}\n",
       "\n",
       "\n",
       "mpl.find_output_cell = function(html_output) {\n",
       "    // Return the cell and output element which can be found *uniquely* in the notebook.\n",
       "    // Note - this is a bit hacky, but it is done because the \"notebook_saving.Notebook\"\n",
       "    // IPython event is triggered only after the cells have been serialised, which for\n",
       "    // our purposes (turning an active figure into a static one), is too late.\n",
       "    var cells = IPython.notebook.get_cells();\n",
       "    var ncells = cells.length;\n",
       "    for (var i=0; i<ncells; i++) {\n",
       "        var cell = cells[i];\n",
       "        if (cell.cell_type === 'code'){\n",
       "            for (var j=0; j<cell.output_area.outputs.length; j++) {\n",
       "                var data = cell.output_area.outputs[j];\n",
       "                if (data.data) {\n",
       "                    // IPython >= 3 moved mimebundle to data attribute of output\n",
       "                    data = data.data;\n",
       "                }\n",
       "                if (data['text/html'] == html_output) {\n",
       "                    return [cell, data, j];\n",
       "                }\n",
       "            }\n",
       "        }\n",
       "    }\n",
       "}\n",
       "\n",
       "// Register the function which deals with the matplotlib target/channel.\n",
       "// The kernel may be null if the page has been refreshed.\n",
       "if (IPython.notebook.kernel != null) {\n",
       "    IPython.notebook.kernel.comm_manager.register_target('matplotlib', mpl.mpl_figure_comm);\n",
       "}\n"
      ],
      "text/plain": [
       "<IPython.core.display.Javascript object>"
      ]
     },
     "metadata": {},
     "output_type": "display_data"
    },
    {
     "data": {
      "text/html": [
       "<img src=\"data:image/png;base64,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\" width=\"800\">"
      ],
      "text/plain": [
       "<IPython.core.display.HTML object>"
      ]
     },
     "metadata": {},
     "output_type": "display_data"
    }
   ],
   "source": [
    "%matplotlib notebook\n",
    "fig = plt.figure(figsize = (8,6))\n",
    "plt.ion()\n",
    "\n",
    "env = Env.HaliteEnv(NUM_PLAYERS, MAP_SIZE, episode_lenght = 100) # init environment\n",
    "steps = 0\n",
    "reward = 0 # cumulative reward of the episode\n",
    "passages = 0 # number of times the ship passes through the shipyard\n",
    "verbose = False\n",
    "# first mandatory step\n",
    "steps = steps + 1\n",
    "if verbose:\n",
    "    print(\"\\nStep number %d:\"%steps)\n",
    "action_matrix = np.full((MAP_SIZE,MAP_SIZE), -1) # no ship, no action\n",
    "shipyard_action = True # initially always choose to create a ship\n",
    "# returns the matricial state, the array of players halite and a flag that is true if it's the final turn\n",
    "state, players_halite, finish, _ = env.step(action_matrix, makeship = shipyard_action) \n",
    "\n",
    "#print(\"Cargo layer: \\n\", state[:,:,2])\n",
    "current_halite = players_halite[0][0]\n",
    "#----------------------------------------------------------\n",
    "rgb_map = np.stack([np.zeros((MAP_SIZE,MAP_SIZE)),\n",
    "                    state[:,:,0]/1000,\n",
    "                    state[:,:,0]/1000], axis=2)\n",
    "plt.imshow(rgb_map)\n",
    "plt.title(\"Turn: %d    Halite: %d\"%(steps,current_halite))\n",
    "plt.yticks([])\n",
    "plt.xticks([])\n",
    "fig.show()\n",
    "fig.canvas.draw()\n",
    "#time.sleep(0.2)\n",
    "plt.savefig('.raw_gif/turn%.3d.png'%steps)\n",
    "#-----------------------------------------------------------\n",
    "s_enc = cod.encode_state(state, map_size = MAP_SIZE, h_lev = H_LEV, n_actions = N_ACTIONS, debug=False)\n",
    "\n",
    "while True:\n",
    "    steps = steps + 1\n",
    "    if verbose:\n",
    "        print(\"\\nStep number %d:\"%steps)\n",
    "        print(\"Current halite: \", current_halite)\n",
    "    a_enc = ship.e_greedy_policy(s_enc, q_values, eps = eps)\n",
    "    a_mat = cod.scalar_to_matrix_action(a_enc, state, map_size = MAP_SIZE) #convert the action in matricial form\n",
    "    s_dec = cod.decode3D(s_enc, L1 = MAP_SIZE**2, L2 = H_LEV**6, L3 = N_ACTIONS-1)\n",
    "    x,y = cod.decode(s_dec[0], L=MAP_SIZE)\n",
    "    ship_cargo = state[x,y,2]\n",
    "    # submit the action and get the new state\n",
    "    state, players_halite, finish, _ = env.step(a_mat, makeship = False) \n",
    "\n",
    "    new_halite = players_halite[0][0]\n",
    "\n",
    "    # compute the 1-ship reward as the halite increment of the player divided by the max halite \n",
    "    # plus a standard negative reward \n",
    "    r = (new_halite - current_halite)/1000 + STD_REWARD\n",
    "\n",
    "    sp_enc = cod.encode_state(state, map_size = MAP_SIZE, h_lev = H_LEV, n_actions = N_ACTIONS, debug=False)\n",
    "    reward += r # cumulative reward of the episode\n",
    "\n",
    "    # adds 1 to passages if the current position of the ship coincides with that of the shipyard\n",
    "    # whereas the previous position didn't\n",
    "    s_dec = cod.decode3D(s_enc, L1 = MAP_SIZE**2, L2 = H_LEV**6, L3 = N_ACTIONS-1)\n",
    "    sp_dec = cod.decode3D(sp_enc, L1 = MAP_SIZE**2, L2 = H_LEV**6, L3 = N_ACTIONS-1)\n",
    "    shipy_pos = (MAP_SIZE**2-1)/2 #shipyard is at the center of the map\n",
    "    if (sp_dec[0] == shipy_pos and s_dec[0] != shipy_pos):\n",
    "        passages = passages +1\n",
    "    \n",
    "    #----------------------------------------------------------\n",
    "    rgb_map = np.stack([np.zeros((MAP_SIZE,MAP_SIZE)),\n",
    "                        state[:,:,0]/1000,\n",
    "                        state[:,:,0]/1000], axis=2)\n",
    "    rgb_map[x ,y,:] = [(ship_cargo+250)/1250,0,0]\n",
    "    plt.imshow(rgb_map)\n",
    "    plt.title(\"Turn: %d    Halite: %d    Carried: %d\"%(steps,current_halite,ship_cargo ))\n",
    "    plt.yticks([])\n",
    "    plt.xticks([])\n",
    "    fig.show()\n",
    "    fig.canvas.draw()\n",
    "    #time.sleep(0.2)\n",
    "    plt.savefig('.raw_gif/turn%.3d.png'%steps)\n",
    "    #-----------------------------------------------------------\n",
    "\n",
    "    a_temp_enc = ship.greedy_policy(sp_enc, q_values) # simulate the best action in the new state (before update)\n",
    "    \n",
    "    # update Q-values\n",
    "    q_values = ship.update_q_v1(s_enc, a_enc, r, sp_enc, a_temp_enc, q_values, alpha = LEARNING_RATE,\n",
    "                gamma = DISCOUNT_FACTOR, map_size = MAP_SIZE, h_lev = H_LEV, n_actions = N_ACTIONS)\n",
    "\n",
    "    # update states and halite\n",
    "    s_enc = sp_enc\n",
    "    current_halite = new_halite\n",
    "    if (finish == True) or (steps >= 400):\n",
    "        if verbose:\n",
    "            print(\"\\nEnd episode.\")\n",
    "        break"
   ]
  },
  {
   "cell_type": "code",
   "execution_count": 8,
   "metadata": {
    "scrolled": true
   },
   "outputs": [],
   "source": [
    "import os\n",
    "filenames = os.listdir('.raw_gif')\n",
    "filenames.sort()"
   ]
  },
  {
   "cell_type": "code",
   "execution_count": 7,
   "metadata": {},
   "outputs": [],
   "source": [
    "# ! pip install imageio\n",
    "import imageio\n",
    "images = []\n",
    "for filename in filenames:\n",
    "    images.append(imageio.imread('.raw_gif/'+filename))\n",
    "imageio.mimsave('Support_material/play_episode.gif', images, duration=0.75)"
   ]
  },
  {
   "cell_type": "markdown",
   "metadata": {},
   "source": [
    "And here we go with our visualization! Isn't it cute?\n",
    "\n",
    "<img src=\"Support_material/play_episode.gif\">"
   ]
  }
 ],
 "metadata": {
  "kernelspec": {
   "display_name": "python3_halite",
   "language": "python",
   "name": "python3_halite"
  },
  "language_info": {
   "codemirror_mode": {
    "name": "ipython",
    "version": 3
   },
   "file_extension": ".py",
   "mimetype": "text/x-python",
   "name": "python",
   "nbconvert_exporter": "python",
   "pygments_lexer": "ipython3",
   "version": "3.7.4"
  }
 },
 "nbformat": 4,
 "nbformat_minor": 2
}

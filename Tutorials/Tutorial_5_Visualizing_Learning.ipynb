{
 "cells": [
  {
   "cell_type": "markdown",
   "metadata": {},
   "source": [
    "# Tutorial 5: Visualizing Learning\n",
    "\n",
    "In the previous tutorial we have seen how to train an agent, but I bet that everyone of us has thought at least once \"Is it really learning anything?\". In this tutorial we will try to answer to that question.\n",
    "\n",
    "We gathered again all the functions written in the previous tutorial in a script ship.py, that you can find in the Modules folder. \n",
    "\n",
    "## Outline\n",
    "1. Online visualization: how to see how the training is doing while the agent is still training.\n",
    "2. Rendering: how to visualize the agent moving during one episode.\n",
    "2. Post-training visualization: how to look at the final result."
   ]
  },
  {
   "cell_type": "code",
   "execution_count": 1,
   "metadata": {},
   "outputs": [],
   "source": [
    "#import modules and libraries\n",
    "import sys\n",
    "sys.path.insert(0, \"../Environment/\")\n",
    "sys.path.insert(0, \"../Modules/\")\n",
    "import halite_env as Env\n",
    "import encode as cod\n",
    "import ship "
   ]
  },
  {
   "cell_type": "code",
   "execution_count": 2,
   "metadata": {},
   "outputs": [],
   "source": [
    "import numpy as np\n",
    "import matplotlib.pyplot as plt\n",
    "import time #used for time.sleep()"
   ]
  },
  {
   "cell_type": "markdown",
   "metadata": {},
   "source": [
    "We redifine all variables and constants as in the previous tutorial"
   ]
  },
  {
   "cell_type": "code",
   "execution_count": 7,
   "metadata": {},
   "outputs": [
    {
     "name": "stdout",
     "output_type": "stream",
     "text": [
      "Total number of states to be experienced:  142884\n"
     ]
    }
   ],
   "source": [
    "#@@@@@@@@@@@@@@@@@@@@@@\n",
    "# Environment variables\n",
    "#@@@@@@@@@@@@@@@@@@@@@@\n",
    "NUM_PLAYERS = 1\n",
    "MAP_SIZE = 7 # 7 x 7 map\n",
    "TOT_TURNS = 400 # number of turns for each episode\n",
    "\n",
    "#@@@@@@@@@@@@@@@@\n",
    "# State variables\n",
    "#@@@@@@@@@@@@@@@@\n",
    "H_LEV = 3 # halite levels\n",
    "N_CELLS = MAP_SIZE**2 # number of cells in a square map\n",
    "N_STATES = N_CELLS*H_LEV**6*4\n",
    "N_ACTIONS = 5 # no dropoffs, 1 action for staying still, 4 for moving in the cardinal directions\n",
    "print(\"Total number of states to be experienced: \", N_STATES)\n",
    "\n",
    "#@@@@@@@@@@@@@@@@@@@@\n",
    "# Learning parameters\n",
    "#@@@@@@@@@@@@@@@@@@@@\n",
    "N_BATCH = 30 #100 # number of episodes in an epoch\n",
    "MAX_EPOCHS = 200 # max number of epochs played before stopping (500 ~ 7.3 hours of training)\n",
    "DISCOUNT_FACTOR = 1 - 1/TOT_TURNS #train ships as if each turn has a probability of 1/tot_turns of ending the game \n",
    "STD_REWARD = -0.01\n",
    "LEARNING_RATE = 0.1\n",
    "EPS_START = 0.5"
   ]
  },
  {
   "cell_type": "code",
   "execution_count": 8,
   "metadata": {},
   "outputs": [],
   "source": [
    "# convert all the parameters to dictionaries\n",
    "env_dict = dict(NUM_PLAYERS = NUM_PLAYERS , \n",
    "                TOT_TURNS = TOT_TURNS)\n",
    "\n",
    "state_dict = dict(MAP_SIZE = MAP_SIZE,  \n",
    "                  H_LEV = H_LEV, \n",
    "                  N_ACTIONS = N_ACTIONS)\n",
    "\n",
    "learning_dict = dict(LEARNING_RATE = LEARNING_RATE, \n",
    "                     DISCOUNT_FACTOR = DISCOUNT_FACTOR , \n",
    "                     eps = EPS_START, \n",
    "                     STD_REWARD = STD_REWARD)"
   ]
  },
  {
   "cell_type": "code",
   "execution_count": 9,
   "metadata": {},
   "outputs": [],
   "source": [
    "#@@@@@@@@@@@@@@@@@@@\n",
    "# Learning variables\n",
    "#@@@@@@@@@@@@@@@@@@@\n",
    "q_values = np.zeros((N_STATES,N_ACTIONS)) #initialize to zero\n",
    "#q_values = np.load(\"Q_values.npy\") # or re-use the one already trained"
   ]
  },
  {
   "cell_type": "markdown",
   "metadata": {},
   "source": [
    "## 1 - Online visualization\n",
    "\n",
    "The online visualization is based on two ideas: to find some metrics to monitor and to monitor them almost in real time.\n",
    "\n",
    "One of the obvious metrics that we measured in the previous tutorial was the return at the end of the episode.\n",
    "Another one directly connected to that, but with a more practical touch, is the halite collected from the agent during the episode.\n",
    "\n",
    "And finally we would like to know how many time the ship passes through the shipyard, since it is a good indicator of what is going on.\n",
    "\n",
    "Thus we now modify the play_episode function written in the previous tutorial in order to make it compute those quantities."
   ]
  },
  {
   "cell_type": "code",
   "execution_count": 6,
   "metadata": {},
   "outputs": [],
   "source": [
    "def play_episode(q_values, eps, NUM_PLAYERS, MAP_SIZE, TOT_TURNS, N_ACTIONS, H_LEV,\n",
    "                 STD_REWARD,LEARNING_RATE, DISCOUNT_FACTOR, verbose = False):\n",
    "    \"\"\"\n",
    "    Trains the agent by playing one episode of halite.\n",
    "    \n",
    "    Parameters\n",
    "    ----------\n",
    "    q_values         : numpy array \n",
    "        Contains the Q-values\n",
    "    eps              : float \n",
    "        Represents a probability, must be in [0,1], controls the probability of exploring instead of exploting\n",
    "    NUM_PLAYERS      : int\n",
    "    MAP_SIZE         : int\n",
    "    TOT_TURNS        : int\n",
    "    N_ACTIONS        : int\n",
    "    H_LEV            : int\n",
    "    STD_REWARD       : float\n",
    "        Baseline reward given to the agent when does not deposit halite to the shipyard\n",
    "    LEARNING_RATE    : float\n",
    "    DISCOUNT_FACTOR  : float\n",
    "        Must be greater than 0 but smaller than 1. Suggested 1-1/TOT_TURNS or 1\n",
    "    verbose          : bool\n",
    "        Prints halite of the player at each turn of the game\n",
    "        \n",
    "    Returns\n",
    "    -------\n",
    "    q_values         : numpy array \n",
    "        Updated Q-values\n",
    "    reward           : float\n",
    "        Reward obtained in this episode. \n",
    "    collected_halite : float\n",
    "        Halite collected by the agent.\n",
    "    passages         : int\n",
    "        Number of passages of the ship through the shipyard.\n",
    "    \"\"\"\n",
    "    env = Env.HaliteEnv(NUM_PLAYERS, MAP_SIZE, episode_lenght = TOT_TURNS) # init environment\n",
    "    steps = 0\n",
    "    reward = 0 # cumulative reward of the episode\n",
    "    passages = 0 # number of times the ship passes through the shipyard\n",
    "    \n",
    "    # first mandatory step\n",
    "    steps = steps + 1\n",
    "    if verbose:\n",
    "        print(\"\\nStep number %d:\"%steps)\n",
    "    action_matrix = np.full((MAP_SIZE,MAP_SIZE), -1) # no ship, no action\n",
    "    shipyard_action = True # initially always choose to create a ship\n",
    "    # returns the matricial state, the array of players halite and a flag that is true if it's the final turn\n",
    "    state, players_halite, finish, _ = env.step(action_matrix, makeship = shipyard_action) \n",
    "    #print(\"Cargo layer: \\n\", state[:,:,2])\n",
    "    current_halite = players_halite[0][0]\n",
    "    s_enc = cod.encode_state(state, map_size = MAP_SIZE, h_lev = H_LEV, n_actions = N_ACTIONS, debug=False)\n",
    "\n",
    "    while True:\n",
    "        steps = steps + 1\n",
    "        if verbose:\n",
    "            print(\"\\nStep number %d:\"%steps)\n",
    "            print(\"Current halite: \", current_halite)\n",
    "        a_enc = ship.e_greedy_policy(s_enc, q_values, eps = eps)\n",
    "        a_mat = cod.scalar_to_matrix_action(a_enc, state, map_size = MAP_SIZE) #convert the action in matricial form\n",
    "\n",
    "        # submit the action and get the new state\n",
    "        state, players_halite, finish, _ = env.step(a_mat, makeship = False) \n",
    "\n",
    "        new_halite = players_halite[0][0]\n",
    "\n",
    "        # compute the 1-ship reward as the halite increment of the player divided by the max halite \n",
    "        # plus a standard negative reward \n",
    "        r = (new_halite - current_halite)/1000 + STD_REWARD\n",
    "\n",
    "        sp_enc = cod.encode_state(state, map_size = MAP_SIZE, h_lev = H_LEV, n_actions = N_ACTIONS, debug=False)\n",
    "        reward += r # cumulative reward of the episode\n",
    "\n",
    "        # adds 1 to passages if the current position of the ship coincides with that of the shipyard\n",
    "        # whereas the previous position didn't\n",
    "        s_dec = cod.decode3D(s_enc, L1 = MAP_SIZE**2, L2 = H_LEV**6, L3 = N_ACTIONS-1)\n",
    "        sp_dec = cod.decode3D(sp_enc, L1 = MAP_SIZE**2, L2 = H_LEV**6, L3 = N_ACTIONS-1)\n",
    "        shipy_pos = (MAP_SIZE**2-1)/2 #shipyard is at the center of the map\n",
    "        if (sp_dec[0] == shipy_pos and s_dec[0] != shipy_pos):\n",
    "            passages = passages +1\n",
    "                \n",
    "        a_temp_enc = ship.greedy_policy(sp_enc, q_values) # simulate the best action in the new state (before update)\n",
    "\n",
    "        # update Q-values\n",
    "        q_values = ship.update_q_v1(s_enc, a_enc, r, sp_enc, a_temp_enc, q_values, alpha = LEARNING_RATE,\n",
    "                    gamma = DISCOUNT_FACTOR, map_size = MAP_SIZE, h_lev = H_LEV, n_actions = N_ACTIONS)\n",
    "\n",
    "        # update states and halite\n",
    "        s_enc = sp_enc\n",
    "        current_halite = new_halite\n",
    "\n",
    "        if (finish == True) or (steps >= 400):\n",
    "            if verbose:\n",
    "                print(\"\\nEnd episode.\")\n",
    "            break\n",
    "    collected_halite = current_halite - 4000\n",
    "    return q_values, reward, collected_halite, passages"
   ]
  },
  {
   "cell_type": "markdown",
   "metadata": {},
   "source": [
    "To skip a passage I already copied this function in the ship.py script in the Modules folder."
   ]
  },
  {
   "cell_type": "code",
   "execution_count": 7,
   "metadata": {},
   "outputs": [
    {
     "name": "stdout",
     "output_type": "stream",
     "text": [
      "\n",
      "Step number 1:\n",
      "\n",
      "Step number 2:\n",
      "Current halite:  4000.0\n",
      "\n",
      "Step number 3:\n",
      "Current halite:  4000.0\n",
      "\n",
      "Step number 4:\n",
      "Current halite:  4000.0\n",
      "\n",
      "Step number 5:\n",
      "Current halite:  4000.0\n",
      "\n",
      "Step number 6:\n",
      "Current halite:  4000.0\n",
      "\n",
      "Step number 7:\n",
      "Current halite:  4000.0\n",
      "\n",
      "Step number 8:\n",
      "Current halite:  4000.0\n",
      "\n",
      "Step number 9:\n",
      "Current halite:  4000.0\n",
      "\n",
      "Step number 10:\n",
      "Current halite:  4000.0\n",
      "\n",
      "Step number 11:\n",
      "Current halite:  4000.0\n",
      "\n",
      "Step number 12:\n",
      "Current halite:  4000.0\n",
      "\n",
      "Step number 13:\n",
      "Current halite:  4000.0\n",
      "\n",
      "Step number 14:\n",
      "Current halite:  4000.0\n",
      "\n",
      "Step number 15:\n",
      "Current halite:  4000.0\n",
      "\n",
      "Step number 16:\n",
      "Current halite:  4000.0\n",
      "\n",
      "Step number 17:\n",
      "Current halite:  4000.0\n",
      "\n",
      "Step number 18:\n",
      "Current halite:  4000.0\n",
      "\n",
      "Step number 19:\n",
      "Current halite:  4000.0\n",
      "\n",
      "Step number 20:\n",
      "Current halite:  4000.0\n",
      "\n",
      "Step number 21:\n",
      "Current halite:  4000.0\n",
      "\n",
      "Step number 22:\n",
      "Current halite:  4000.0\n",
      "\n",
      "Step number 23:\n",
      "Current halite:  4000.0\n",
      "\n",
      "Step number 24:\n",
      "Current halite:  4000.0\n",
      "\n",
      "Step number 25:\n",
      "Current halite:  4000.0\n",
      "\n",
      "Step number 26:\n",
      "Current halite:  4000.0\n",
      "\n",
      "Step number 27:\n",
      "Current halite:  4000.0\n",
      "\n",
      "Step number 28:\n",
      "Current halite:  4000.0\n",
      "\n",
      "Step number 29:\n",
      "Current halite:  4000.0\n",
      "\n",
      "Step number 30:\n",
      "Current halite:  4000.0\n",
      "\n",
      "Step number 31:\n",
      "Current halite:  4000.0\n",
      "\n",
      "Step number 32:\n",
      "Current halite:  4000.0\n",
      "\n",
      "Step number 33:\n",
      "Current halite:  4000.0\n",
      "\n",
      "Step number 34:\n",
      "Current halite:  4000.0\n",
      "\n",
      "Step number 35:\n",
      "Current halite:  4000.0\n",
      "\n",
      "Step number 36:\n",
      "Current halite:  4000.0\n",
      "\n",
      "Step number 37:\n",
      "Current halite:  4000.0\n",
      "\n",
      "Step number 38:\n",
      "Current halite:  4000.0\n",
      "\n",
      "Step number 39:\n",
      "Current halite:  4000.0\n",
      "\n",
      "Step number 40:\n",
      "Current halite:  4000.0\n",
      "\n",
      "Step number 41:\n",
      "Current halite:  4000.0\n",
      "\n",
      "Step number 42:\n",
      "Current halite:  4000.0\n",
      "\n",
      "Step number 43:\n",
      "Current halite:  4000.0\n",
      "\n",
      "Step number 44:\n",
      "Current halite:  4000.0\n",
      "\n",
      "Step number 45:\n",
      "Current halite:  4000.0\n",
      "\n",
      "Step number 46:\n",
      "Current halite:  4000.0\n",
      "\n",
      "Step number 47:\n",
      "Current halite:  4000.0\n",
      "\n",
      "Step number 48:\n",
      "Current halite:  4000.0\n",
      "\n",
      "Step number 49:\n",
      "Current halite:  4000.0\n",
      "\n",
      "Step number 50:\n",
      "Current halite:  4000.0\n",
      "\n",
      "Step number 51:\n",
      "Current halite:  4000.0\n",
      "\n",
      "Step number 52:\n",
      "Current halite:  4000.0\n",
      "\n",
      "Step number 53:\n",
      "Current halite:  4000.0\n",
      "\n",
      "Step number 54:\n",
      "Current halite:  4000.0\n",
      "\n",
      "Step number 55:\n",
      "Current halite:  4000.0\n",
      "\n",
      "Step number 56:\n",
      "Current halite:  4000.0\n",
      "\n",
      "Step number 57:\n",
      "Current halite:  4000.0\n",
      "\n",
      "Step number 58:\n",
      "Current halite:  4000.0\n",
      "\n",
      "Step number 59:\n",
      "Current halite:  4000.0\n",
      "\n",
      "Step number 60:\n",
      "Current halite:  4000.0\n",
      "\n",
      "Step number 61:\n",
      "Current halite:  4000.0\n",
      "\n",
      "Step number 62:\n",
      "Current halite:  4000.0\n",
      "\n",
      "Step number 63:\n",
      "Current halite:  4000.0\n",
      "\n",
      "Step number 64:\n",
      "Current halite:  5000.0\n",
      "\n",
      "Step number 65:\n",
      "Current halite:  5000.0\n",
      "\n",
      "Step number 66:\n",
      "Current halite:  5000.0\n",
      "\n",
      "Step number 67:\n",
      "Current halite:  5000.0\n",
      "\n",
      "Step number 68:\n",
      "Current halite:  5000.0\n",
      "\n",
      "Step number 69:\n",
      "Current halite:  5000.0\n",
      "\n",
      "Step number 70:\n",
      "Current halite:  5000.0\n",
      "\n",
      "Step number 71:\n",
      "Current halite:  5000.0\n",
      "\n",
      "Step number 72:\n",
      "Current halite:  5000.0\n",
      "\n",
      "Step number 73:\n",
      "Current halite:  5000.0\n",
      "\n",
      "Step number 74:\n",
      "Current halite:  5000.0\n",
      "\n",
      "Step number 75:\n",
      "Current halite:  5000.0\n",
      "\n",
      "Step number 76:\n",
      "Current halite:  5000.0\n",
      "\n",
      "Step number 77:\n",
      "Current halite:  5000.0\n",
      "\n",
      "Step number 78:\n",
      "Current halite:  5000.0\n",
      "\n",
      "Step number 79:\n",
      "Current halite:  5000.0\n",
      "\n",
      "Step number 80:\n",
      "Current halite:  5000.0\n",
      "\n",
      "Step number 81:\n",
      "Current halite:  5000.0\n",
      "\n",
      "Step number 82:\n",
      "Current halite:  5000.0\n",
      "\n",
      "Step number 83:\n",
      "Current halite:  5000.0\n",
      "\n",
      "Step number 84:\n",
      "Current halite:  5000.0\n",
      "\n",
      "Step number 85:\n",
      "Current halite:  5000.0\n",
      "\n",
      "Step number 86:\n",
      "Current halite:  5000.0\n",
      "\n",
      "Step number 87:\n",
      "Current halite:  5000.0\n",
      "\n",
      "Step number 88:\n",
      "Current halite:  5000.0\n",
      "\n",
      "Step number 89:\n",
      "Current halite:  5000.0\n",
      "\n",
      "Step number 90:\n",
      "Current halite:  6000.0\n",
      "\n",
      "Step number 91:\n",
      "Current halite:  6000.0\n",
      "\n",
      "Step number 92:\n",
      "Current halite:  6000.0\n",
      "\n",
      "Step number 93:\n",
      "Current halite:  6000.0\n",
      "\n",
      "Step number 94:\n",
      "Current halite:  6000.0\n",
      "\n",
      "Step number 95:\n",
      "Current halite:  6000.0\n",
      "\n",
      "Step number 96:\n",
      "Current halite:  6000.0\n",
      "\n",
      "Step number 97:\n",
      "Current halite:  6000.0\n",
      "\n",
      "Step number 98:\n",
      "Current halite:  6000.0\n",
      "\n",
      "Step number 99:\n",
      "Current halite:  6000.0\n",
      "\n",
      "Step number 100:\n",
      "Current halite:  6000.0\n",
      "\n",
      "Step number 101:\n",
      "Current halite:  6000.0\n",
      "\n",
      "Step number 102:\n",
      "Current halite:  6000.0\n",
      "\n",
      "Step number 103:\n",
      "Current halite:  6000.0\n",
      "\n",
      "Step number 104:\n",
      "Current halite:  6000.0\n",
      "\n",
      "Step number 105:\n",
      "Current halite:  6000.0\n",
      "\n",
      "Step number 106:\n",
      "Current halite:  6000.0\n",
      "\n",
      "Step number 107:\n",
      "Current halite:  6000.0\n",
      "\n",
      "Step number 108:\n",
      "Current halite:  6000.0\n",
      "\n",
      "Step number 109:\n",
      "Current halite:  6000.0\n",
      "\n",
      "Step number 110:\n",
      "Current halite:  6000.0\n",
      "\n",
      "Step number 111:\n",
      "Current halite:  6000.0\n",
      "\n",
      "Step number 112:\n",
      "Current halite:  6000.0\n",
      "\n",
      "Step number 113:\n",
      "Current halite:  6000.0\n",
      "\n",
      "Step number 114:\n",
      "Current halite:  6000.0\n",
      "\n",
      "Step number 115:\n",
      "Current halite:  6000.0\n",
      "\n",
      "Step number 116:\n",
      "Current halite:  6000.0\n",
      "\n",
      "Step number 117:\n",
      "Current halite:  6000.0\n",
      "\n",
      "Step number 118:\n",
      "Current halite:  6000.0\n",
      "\n",
      "Step number 119:\n",
      "Current halite:  6000.0\n",
      "\n",
      "Step number 120:\n",
      "Current halite:  6000.0\n",
      "\n",
      "Step number 121:\n",
      "Current halite:  6000.0\n",
      "\n",
      "Step number 122:\n",
      "Current halite:  6000.0\n",
      "\n",
      "Step number 123:\n",
      "Current halite:  6000.0\n",
      "\n",
      "Step number 124:\n",
      "Current halite:  6000.0\n",
      "\n",
      "Step number 125:\n",
      "Current halite:  6000.0\n",
      "\n",
      "Step number 126:\n",
      "Current halite:  6000.0\n",
      "\n",
      "Step number 127:\n",
      "Current halite:  6000.0\n",
      "\n",
      "Step number 128:\n",
      "Current halite:  6000.0\n",
      "\n",
      "Step number 129:\n",
      "Current halite:  6000.0\n",
      "\n",
      "Step number 130:\n",
      "Current halite:  6000.0\n",
      "\n",
      "Step number 131:\n",
      "Current halite:  6000.0\n",
      "\n",
      "Step number 132:\n",
      "Current halite:  6000.0\n",
      "\n",
      "Step number 133:\n",
      "Current halite:  6000.0\n",
      "\n",
      "Step number 134:\n",
      "Current halite:  6000.0\n",
      "\n",
      "Step number 135:\n",
      "Current halite:  6000.0\n",
      "\n",
      "Step number 136:\n",
      "Current halite:  6000.0\n",
      "\n",
      "Step number 137:\n",
      "Current halite:  6000.0\n",
      "\n",
      "Step number 138:\n",
      "Current halite:  6000.0\n",
      "\n",
      "Step number 139:\n",
      "Current halite:  6000.0\n",
      "\n",
      "Step number 140:\n",
      "Current halite:  6000.0\n",
      "\n",
      "Step number 141:\n",
      "Current halite:  6000.0\n",
      "\n",
      "Step number 142:\n",
      "Current halite:  6000.0\n",
      "\n",
      "Step number 143:\n",
      "Current halite:  6000.0\n",
      "\n",
      "Step number 144:\n",
      "Current halite:  6000.0\n",
      "\n",
      "Step number 145:\n",
      "Current halite:  6000.0\n",
      "\n",
      "Step number 146:\n",
      "Current halite:  6000.0\n",
      "\n",
      "Step number 147:\n",
      "Current halite:  6000.0\n",
      "\n",
      "Step number 148:\n",
      "Current halite:  6000.0\n",
      "\n",
      "Step number 149:\n",
      "Current halite:  6000.0\n",
      "\n",
      "Step number 150:\n",
      "Current halite:  6000.0\n",
      "\n",
      "Step number 151:\n",
      "Current halite:  6000.0\n",
      "\n",
      "Step number 152:\n",
      "Current halite:  6000.0\n",
      "\n",
      "Step number 153:\n",
      "Current halite:  6000.0\n",
      "\n",
      "Step number 154:\n",
      "Current halite:  6000.0\n",
      "\n",
      "Step number 155:\n",
      "Current halite:  6000.0\n",
      "\n",
      "Step number 156:\n",
      "Current halite:  6000.0\n",
      "\n",
      "Step number 157:\n",
      "Current halite:  6000.0\n",
      "\n",
      "Step number 158:\n",
      "Current halite:  6000.0\n",
      "\n",
      "Step number 159:\n",
      "Current halite:  6000.0\n",
      "\n",
      "Step number 160:\n",
      "Current halite:  6000.0\n",
      "\n",
      "Step number 161:\n",
      "Current halite:  6000.0\n",
      "\n",
      "Step number 162:\n",
      "Current halite:  6000.0\n",
      "\n",
      "Step number 163:\n",
      "Current halite:  6000.0\n",
      "\n",
      "Step number 164:\n",
      "Current halite:  6000.0\n",
      "\n",
      "Step number 165:\n",
      "Current halite:  6000.0\n",
      "\n",
      "Step number 166:\n",
      "Current halite:  6000.0\n",
      "\n",
      "Step number 167:\n",
      "Current halite:  6000.0\n",
      "\n",
      "Step number 168:\n",
      "Current halite:  6000.0\n",
      "\n",
      "Step number 169:\n",
      "Current halite:  7000.0\n",
      "\n",
      "Step number 170:\n",
      "Current halite:  7000.0\n",
      "\n",
      "Step number 171:\n",
      "Current halite:  7000.0\n",
      "\n",
      "Step number 172:\n",
      "Current halite:  7000.0\n",
      "\n",
      "Step number 173:\n",
      "Current halite:  7000.0\n",
      "\n",
      "Step number 174:\n",
      "Current halite:  7000.0\n",
      "\n",
      "Step number 175:\n",
      "Current halite:  7000.0\n",
      "\n",
      "Step number 176:\n",
      "Current halite:  7000.0\n",
      "\n",
      "Step number 177:\n",
      "Current halite:  7000.0\n",
      "\n",
      "Step number 178:\n",
      "Current halite:  7000.0\n",
      "\n",
      "Step number 179:\n",
      "Current halite:  7000.0\n",
      "\n",
      "Step number 180:\n",
      "Current halite:  7000.0\n",
      "\n",
      "Step number 181:\n",
      "Current halite:  7000.0\n",
      "\n",
      "Step number 182:\n",
      "Current halite:  7000.0\n",
      "\n",
      "Step number 183:\n",
      "Current halite:  7000.0\n",
      "\n",
      "Step number 184:\n",
      "Current halite:  7000.0\n",
      "\n",
      "Step number 185:\n",
      "Current halite:  7000.0\n",
      "\n",
      "Step number 186:\n",
      "Current halite:  7000.0\n",
      "\n",
      "Step number 187:\n",
      "Current halite:  7703.0\n",
      "\n",
      "Step number 188:\n",
      "Current halite:  7703.0\n",
      "\n",
      "Step number 189:\n",
      "Current halite:  7703.0\n",
      "\n",
      "Step number 190:\n",
      "Current halite:  7703.0\n",
      "\n",
      "Step number 191:\n",
      "Current halite:  7703.0\n",
      "\n",
      "Step number 192:\n",
      "Current halite:  7746.0\n",
      "\n",
      "Step number 193:\n",
      "Current halite:  7746.0\n",
      "\n",
      "Step number 194:\n",
      "Current halite:  7746.0\n",
      "\n",
      "Step number 195:\n",
      "Current halite:  7746.0\n",
      "\n",
      "Step number 196:\n",
      "Current halite:  7746.0\n",
      "\n",
      "Step number 197:\n",
      "Current halite:  7746.0\n",
      "\n",
      "Step number 198:\n",
      "Current halite:  7746.0\n",
      "\n",
      "Step number 199:\n",
      "Current halite:  7746.0\n",
      "\n",
      "Step number 200:\n",
      "Current halite:  7746.0\n",
      "\n",
      "Step number 201:\n",
      "Current halite:  7746.0\n",
      "\n",
      "Step number 202:\n",
      "Current halite:  7746.0\n",
      "\n",
      "Step number 203:\n",
      "Current halite:  7746.0\n",
      "\n",
      "Step number 204:\n",
      "Current halite:  7746.0\n",
      "\n",
      "Step number 205:\n",
      "Current halite:  7746.0\n",
      "\n",
      "Step number 206:\n",
      "Current halite:  7746.0\n",
      "\n",
      "Step number 207:\n",
      "Current halite:  7746.0\n",
      "\n",
      "Step number 208:\n",
      "Current halite:  7746.0\n"
     ]
    },
    {
     "name": "stdout",
     "output_type": "stream",
     "text": [
      "\n",
      "Step number 209:\n",
      "Current halite:  7746.0\n",
      "\n",
      "Step number 210:\n",
      "Current halite:  7746.0\n",
      "\n",
      "Step number 211:\n",
      "Current halite:  7746.0\n",
      "\n",
      "Step number 212:\n",
      "Current halite:  7746.0\n",
      "\n",
      "Step number 213:\n",
      "Current halite:  7746.0\n",
      "\n",
      "Step number 214:\n",
      "Current halite:  7746.0\n",
      "\n",
      "Step number 215:\n",
      "Current halite:  7746.0\n",
      "\n",
      "Step number 216:\n",
      "Current halite:  7746.0\n",
      "\n",
      "Step number 217:\n",
      "Current halite:  7746.0\n",
      "\n",
      "Step number 218:\n",
      "Current halite:  7746.0\n",
      "\n",
      "Step number 219:\n",
      "Current halite:  8746.0\n",
      "\n",
      "Step number 220:\n",
      "Current halite:  8746.0\n",
      "\n",
      "Step number 221:\n",
      "Current halite:  8746.0\n",
      "\n",
      "Step number 222:\n",
      "Current halite:  8746.0\n",
      "\n",
      "Step number 223:\n",
      "Current halite:  8746.0\n",
      "\n",
      "Step number 224:\n",
      "Current halite:  8746.0\n",
      "\n",
      "Step number 225:\n",
      "Current halite:  8746.0\n",
      "\n",
      "Step number 226:\n",
      "Current halite:  8746.0\n",
      "\n",
      "Step number 227:\n",
      "Current halite:  9217.0\n",
      "\n",
      "Step number 228:\n",
      "Current halite:  9217.0\n",
      "\n",
      "Step number 229:\n",
      "Current halite:  9217.0\n",
      "\n",
      "Step number 230:\n",
      "Current halite:  9217.0\n",
      "\n",
      "Step number 231:\n",
      "Current halite:  9217.0\n",
      "\n",
      "Step number 232:\n",
      "Current halite:  9217.0\n",
      "\n",
      "Step number 233:\n",
      "Current halite:  9217.0\n",
      "\n",
      "Step number 234:\n",
      "Current halite:  9217.0\n",
      "\n",
      "Step number 235:\n",
      "Current halite:  9217.0\n",
      "\n",
      "Step number 236:\n",
      "Current halite:  9217.0\n",
      "\n",
      "Step number 237:\n",
      "Current halite:  9217.0\n",
      "\n",
      "Step number 238:\n",
      "Current halite:  9217.0\n",
      "\n",
      "Step number 239:\n",
      "Current halite:  9217.0\n",
      "\n",
      "Step number 240:\n",
      "Current halite:  9582.0\n",
      "\n",
      "Step number 241:\n",
      "Current halite:  9582.0\n",
      "\n",
      "Step number 242:\n",
      "Current halite:  9582.0\n",
      "\n",
      "Step number 243:\n",
      "Current halite:  9582.0\n",
      "\n",
      "Step number 244:\n",
      "Current halite:  9582.0\n",
      "\n",
      "Step number 245:\n",
      "Current halite:  9664.0\n",
      "\n",
      "Step number 246:\n",
      "Current halite:  9664.0\n",
      "\n",
      "Step number 247:\n",
      "Current halite:  9664.0\n",
      "\n",
      "Step number 248:\n",
      "Current halite:  9664.0\n",
      "\n",
      "Step number 249:\n",
      "Current halite:  9664.0\n",
      "\n",
      "Step number 250:\n",
      "Current halite:  9664.0\n",
      "\n",
      "Step number 251:\n",
      "Current halite:  9664.0\n",
      "\n",
      "Step number 252:\n",
      "Current halite:  9664.0\n",
      "\n",
      "Step number 253:\n",
      "Current halite:  9664.0\n",
      "\n",
      "Step number 254:\n",
      "Current halite:  9664.0\n",
      "\n",
      "Step number 255:\n",
      "Current halite:  9664.0\n",
      "\n",
      "Step number 256:\n",
      "Current halite:  9664.0\n",
      "\n",
      "Step number 257:\n",
      "Current halite:  9664.0\n",
      "\n",
      "Step number 258:\n",
      "Current halite:  9664.0\n",
      "\n",
      "Step number 259:\n",
      "Current halite:  9664.0\n",
      "\n",
      "Step number 260:\n",
      "Current halite:  9664.0\n",
      "\n",
      "Step number 261:\n",
      "Current halite:  9664.0\n",
      "\n",
      "Step number 262:\n",
      "Current halite:  9664.0\n",
      "\n",
      "Step number 263:\n",
      "Current halite:  9664.0\n",
      "\n",
      "Step number 264:\n",
      "Current halite:  9664.0\n",
      "\n",
      "Step number 265:\n",
      "Current halite:  9664.0\n",
      "\n",
      "Step number 266:\n",
      "Current halite:  9664.0\n",
      "\n",
      "Step number 267:\n",
      "Current halite:  9664.0\n",
      "\n",
      "Step number 268:\n",
      "Current halite:  9664.0\n",
      "\n",
      "Step number 269:\n",
      "Current halite:  9664.0\n",
      "\n",
      "Step number 270:\n",
      "Current halite:  9664.0\n",
      "\n",
      "Step number 271:\n",
      "Current halite:  9664.0\n",
      "\n",
      "Step number 272:\n",
      "Current halite:  9664.0\n",
      "\n",
      "Step number 273:\n",
      "Current halite:  9664.0\n",
      "\n",
      "Step number 274:\n",
      "Current halite:  9664.0\n",
      "\n",
      "Step number 275:\n",
      "Current halite:  9664.0\n",
      "\n",
      "Step number 276:\n",
      "Current halite:  9664.0\n",
      "\n",
      "Step number 277:\n",
      "Current halite:  9664.0\n",
      "\n",
      "Step number 278:\n",
      "Current halite:  9664.0\n",
      "\n",
      "Step number 279:\n",
      "Current halite:  9664.0\n",
      "\n",
      "Step number 280:\n",
      "Current halite:  9664.0\n",
      "\n",
      "Step number 281:\n",
      "Current halite:  9664.0\n",
      "\n",
      "Step number 282:\n",
      "Current halite:  9664.0\n",
      "\n",
      "Step number 283:\n",
      "Current halite:  9664.0\n",
      "\n",
      "Step number 284:\n",
      "Current halite:  9664.0\n",
      "\n",
      "Step number 285:\n",
      "Current halite:  9664.0\n",
      "\n",
      "Step number 286:\n",
      "Current halite:  9664.0\n",
      "\n",
      "Step number 287:\n",
      "Current halite:  9664.0\n",
      "\n",
      "Step number 288:\n",
      "Current halite:  9664.0\n",
      "\n",
      "Step number 289:\n",
      "Current halite:  9664.0\n",
      "\n",
      "Step number 290:\n",
      "Current halite:  9664.0\n",
      "\n",
      "Step number 291:\n",
      "Current halite:  9664.0\n",
      "\n",
      "Step number 292:\n",
      "Current halite:  9664.0\n",
      "\n",
      "Step number 293:\n",
      "Current halite:  9664.0\n",
      "\n",
      "Step number 294:\n",
      "Current halite:  9664.0\n",
      "\n",
      "Step number 295:\n",
      "Current halite:  9664.0\n",
      "\n",
      "Step number 296:\n",
      "Current halite:  9664.0\n",
      "\n",
      "Step number 297:\n",
      "Current halite:  9664.0\n",
      "\n",
      "Step number 298:\n",
      "Current halite:  9664.0\n",
      "\n",
      "Step number 299:\n",
      "Current halite:  9664.0\n",
      "\n",
      "Step number 300:\n",
      "Current halite:  9664.0\n",
      "\n",
      "Step number 301:\n",
      "Current halite:  9664.0\n",
      "\n",
      "Step number 302:\n",
      "Current halite:  9664.0\n",
      "\n",
      "Step number 303:\n",
      "Current halite:  9664.0\n",
      "\n",
      "Step number 304:\n",
      "Current halite:  9664.0\n",
      "\n",
      "Step number 305:\n",
      "Current halite:  9664.0\n",
      "\n",
      "Step number 306:\n",
      "Current halite:  9664.0\n",
      "\n",
      "Step number 307:\n",
      "Current halite:  9664.0\n",
      "\n",
      "Step number 308:\n",
      "Current halite:  9664.0\n",
      "\n",
      "Step number 309:\n",
      "Current halite:  9664.0\n",
      "\n",
      "Step number 310:\n",
      "Current halite:  9664.0\n",
      "\n",
      "Step number 311:\n",
      "Current halite:  9664.0\n",
      "\n",
      "Step number 312:\n",
      "Current halite:  9664.0\n",
      "\n",
      "Step number 313:\n",
      "Current halite:  9664.0\n",
      "\n",
      "Step number 314:\n",
      "Current halite:  9664.0\n",
      "\n",
      "Step number 315:\n",
      "Current halite:  9664.0\n",
      "\n",
      "Step number 316:\n",
      "Current halite:  9664.0\n",
      "\n",
      "Step number 317:\n",
      "Current halite:  9664.0\n",
      "\n",
      "Step number 318:\n",
      "Current halite:  9664.0\n",
      "\n",
      "Step number 319:\n",
      "Current halite:  9664.0\n",
      "\n",
      "Step number 320:\n",
      "Current halite:  9664.0\n",
      "\n",
      "Step number 321:\n",
      "Current halite:  9664.0\n",
      "\n",
      "Step number 322:\n",
      "Current halite:  9664.0\n",
      "\n",
      "Step number 323:\n",
      "Current halite:  9664.0\n",
      "\n",
      "Step number 324:\n",
      "Current halite:  9664.0\n",
      "\n",
      "Step number 325:\n",
      "Current halite:  9664.0\n",
      "\n",
      "Step number 326:\n",
      "Current halite:  9664.0\n",
      "\n",
      "Step number 327:\n",
      "Current halite:  9664.0\n",
      "\n",
      "Step number 328:\n",
      "Current halite:  9664.0\n",
      "\n",
      "Step number 329:\n",
      "Current halite:  9664.0\n",
      "\n",
      "Step number 330:\n",
      "Current halite:  9664.0\n",
      "\n",
      "Step number 331:\n",
      "Current halite:  9664.0\n",
      "\n",
      "Step number 332:\n",
      "Current halite:  9664.0\n",
      "\n",
      "Step number 333:\n",
      "Current halite:  9664.0\n",
      "\n",
      "Step number 334:\n",
      "Current halite:  9664.0\n",
      "\n",
      "Step number 335:\n",
      "Current halite:  9664.0\n",
      "\n",
      "Step number 336:\n",
      "Current halite:  9664.0\n",
      "\n",
      "Step number 337:\n",
      "Current halite:  9664.0\n",
      "\n",
      "Step number 338:\n",
      "Current halite:  9664.0\n",
      "\n",
      "Step number 339:\n",
      "Current halite:  9664.0\n",
      "\n",
      "Step number 340:\n",
      "Current halite:  9664.0\n",
      "\n",
      "Step number 341:\n",
      "Current halite:  9664.0\n",
      "\n",
      "Step number 342:\n",
      "Current halite:  9664.0\n",
      "\n",
      "Step number 343:\n",
      "Current halite:  9664.0\n",
      "\n",
      "Step number 344:\n",
      "Current halite:  9664.0\n",
      "\n",
      "Step number 345:\n",
      "Current halite:  9664.0\n",
      "\n",
      "Step number 346:\n",
      "Current halite:  9664.0\n",
      "\n",
      "Step number 347:\n",
      "Current halite:  9664.0\n",
      "\n",
      "Step number 348:\n",
      "Current halite:  9664.0\n",
      "\n",
      "Step number 349:\n",
      "Current halite:  9664.0\n",
      "\n",
      "Step number 350:\n",
      "Current halite:  9664.0\n",
      "\n",
      "Step number 351:\n",
      "Current halite:  9664.0\n",
      "\n",
      "Step number 352:\n",
      "Current halite:  9664.0\n",
      "\n",
      "Step number 353:\n",
      "Current halite:  9664.0\n",
      "\n",
      "Step number 354:\n",
      "Current halite:  9664.0\n",
      "\n",
      "Step number 355:\n",
      "Current halite:  9664.0\n",
      "\n",
      "Step number 356:\n",
      "Current halite:  9664.0\n",
      "\n",
      "Step number 357:\n",
      "Current halite:  9664.0\n",
      "\n",
      "Step number 358:\n",
      "Current halite:  9664.0\n",
      "\n",
      "Step number 359:\n",
      "Current halite:  9664.0\n",
      "\n",
      "Step number 360:\n",
      "Current halite:  9664.0\n",
      "\n",
      "Step number 361:\n",
      "Current halite:  9664.0\n",
      "\n",
      "Step number 362:\n",
      "Current halite:  9664.0\n",
      "\n",
      "Step number 363:\n",
      "Current halite:  9664.0\n",
      "\n",
      "Step number 364:\n",
      "Current halite:  9664.0\n",
      "\n",
      "Step number 365:\n",
      "Current halite:  9664.0\n",
      "\n",
      "Step number 366:\n",
      "Current halite:  9664.0\n",
      "\n",
      "Step number 367:\n",
      "Current halite:  9664.0\n",
      "\n",
      "Step number 368:\n",
      "Current halite:  9664.0\n",
      "\n",
      "Step number 369:\n",
      "Current halite:  9664.0\n",
      "\n",
      "Step number 370:\n",
      "Current halite:  10664.0\n",
      "\n",
      "Step number 371:\n",
      "Current halite:  10664.0\n",
      "\n",
      "Step number 372:\n",
      "Current halite:  10664.0\n",
      "\n",
      "Step number 373:\n",
      "Current halite:  10664.0\n",
      "\n",
      "Step number 374:\n",
      "Current halite:  10688.0\n",
      "\n",
      "Step number 375:\n",
      "Current halite:  10688.0\n",
      "\n",
      "Step number 376:\n",
      "Current halite:  10688.0\n",
      "\n",
      "Step number 377:\n",
      "Current halite:  10688.0\n",
      "\n",
      "Step number 378:\n",
      "Current halite:  10688.0\n",
      "\n",
      "Step number 379:\n",
      "Current halite:  10688.0\n",
      "\n",
      "Step number 380:\n",
      "Current halite:  10688.0\n",
      "\n",
      "Step number 381:\n",
      "Current halite:  10688.0\n",
      "\n",
      "Step number 382:\n",
      "Current halite:  10688.0\n",
      "\n",
      "Step number 383:\n",
      "Current halite:  10688.0\n",
      "\n",
      "Step number 384:\n",
      "Current halite:  10688.0\n",
      "\n",
      "Step number 385:\n",
      "Current halite:  10688.0\n",
      "\n",
      "Step number 386:\n",
      "Current halite:  10688.0\n",
      "\n",
      "Step number 387:\n",
      "Current halite:  10688.0\n",
      "\n",
      "Step number 388:\n",
      "Current halite:  10688.0\n",
      "\n",
      "Step number 389:\n",
      "Current halite:  10688.0\n",
      "\n",
      "Step number 390:\n",
      "Current halite:  10688.0\n",
      "\n",
      "Step number 391:\n",
      "Current halite:  10688.0\n",
      "\n",
      "Step number 392:\n",
      "Current halite:  10826.0\n",
      "\n",
      "Step number 393:\n",
      "Current halite:  10826.0\n",
      "\n",
      "Step number 394:\n",
      "Current halite:  10826.0\n",
      "\n",
      "Step number 395:\n",
      "Current halite:  10826.0\n",
      "\n",
      "Step number 396:\n",
      "Current halite:  10826.0\n",
      "\n",
      "Step number 397:\n",
      "Current halite:  10826.0\n",
      "\n",
      "Step number 398:\n",
      "Current halite:  10826.0\n",
      "\n",
      "Step number 399:\n",
      "Current halite:  10826.0\n",
      "\n",
      "Step number 400:\n",
      "Current halite:  10826.0\n",
      "\n",
      "End episode.\n"
     ]
    }
   ],
   "source": [
    "q_values, reward, collected_halite, passages = ship.play_episode(q_values, verbose = True, **env_dict, **state_dict, **learning_dict)"
   ]
  },
  {
   "cell_type": "code",
   "execution_count": 8,
   "metadata": {},
   "outputs": [
    {
     "name": "stdout",
     "output_type": "stream",
     "text": [
      "Reward: 2.8360 \n",
      "Collected halite : 6826 \n",
      "Passages through shipyard: 12\n"
     ]
    }
   ],
   "source": [
    "print(\"Reward: %.4f \\nCollected halite : %.0f \\nPassages through shipyard: %d\"%(reward, collected_halite, passages))"
   ]
  },
  {
   "cell_type": "markdown",
   "metadata": {},
   "source": [
    "Now we want to plot this quantities in real time during the training."
   ]
  },
  {
   "cell_type": "code",
   "execution_count": 10,
   "metadata": {},
   "outputs": [
    {
     "data": {
      "application/javascript": [
       "/* Put everything inside the global mpl namespace */\n",
       "window.mpl = {};\n",
       "\n",
       "\n",
       "mpl.get_websocket_type = function() {\n",
       "    if (typeof(WebSocket) !== 'undefined') {\n",
       "        return WebSocket;\n",
       "    } else if (typeof(MozWebSocket) !== 'undefined') {\n",
       "        return MozWebSocket;\n",
       "    } else {\n",
       "        alert('Your browser does not have WebSocket support. ' +\n",
       "              'Please try Chrome, Safari or Firefox ≥ 6. ' +\n",
       "              'Firefox 4 and 5 are also supported but you ' +\n",
       "              'have to enable WebSockets in about:config.');\n",
       "    };\n",
       "}\n",
       "\n",
       "mpl.figure = function(figure_id, websocket, ondownload, parent_element) {\n",
       "    this.id = figure_id;\n",
       "\n",
       "    this.ws = websocket;\n",
       "\n",
       "    this.supports_binary = (this.ws.binaryType != undefined);\n",
       "\n",
       "    if (!this.supports_binary) {\n",
       "        var warnings = document.getElementById(\"mpl-warnings\");\n",
       "        if (warnings) {\n",
       "            warnings.style.display = 'block';\n",
       "            warnings.textContent = (\n",
       "                \"This browser does not support binary websocket messages. \" +\n",
       "                    \"Performance may be slow.\");\n",
       "        }\n",
       "    }\n",
       "\n",
       "    this.imageObj = new Image();\n",
       "\n",
       "    this.context = undefined;\n",
       "    this.message = undefined;\n",
       "    this.canvas = undefined;\n",
       "    this.rubberband_canvas = undefined;\n",
       "    this.rubberband_context = undefined;\n",
       "    this.format_dropdown = undefined;\n",
       "\n",
       "    this.image_mode = 'full';\n",
       "\n",
       "    this.root = $('<div/>');\n",
       "    this._root_extra_style(this.root)\n",
       "    this.root.attr('style', 'display: inline-block');\n",
       "\n",
       "    $(parent_element).append(this.root);\n",
       "\n",
       "    this._init_header(this);\n",
       "    this._init_canvas(this);\n",
       "    this._init_toolbar(this);\n",
       "\n",
       "    var fig = this;\n",
       "\n",
       "    this.waiting = false;\n",
       "\n",
       "    this.ws.onopen =  function () {\n",
       "            fig.send_message(\"supports_binary\", {value: fig.supports_binary});\n",
       "            fig.send_message(\"send_image_mode\", {});\n",
       "            if (mpl.ratio != 1) {\n",
       "                fig.send_message(\"set_dpi_ratio\", {'dpi_ratio': mpl.ratio});\n",
       "            }\n",
       "            fig.send_message(\"refresh\", {});\n",
       "        }\n",
       "\n",
       "    this.imageObj.onload = function() {\n",
       "            if (fig.image_mode == 'full') {\n",
       "                // Full images could contain transparency (where diff images\n",
       "                // almost always do), so we need to clear the canvas so that\n",
       "                // there is no ghosting.\n",
       "                fig.context.clearRect(0, 0, fig.canvas.width, fig.canvas.height);\n",
       "            }\n",
       "            fig.context.drawImage(fig.imageObj, 0, 0);\n",
       "        };\n",
       "\n",
       "    this.imageObj.onunload = function() {\n",
       "        fig.ws.close();\n",
       "    }\n",
       "\n",
       "    this.ws.onmessage = this._make_on_message_function(this);\n",
       "\n",
       "    this.ondownload = ondownload;\n",
       "}\n",
       "\n",
       "mpl.figure.prototype._init_header = function() {\n",
       "    var titlebar = $(\n",
       "        '<div class=\"ui-dialog-titlebar ui-widget-header ui-corner-all ' +\n",
       "        'ui-helper-clearfix\"/>');\n",
       "    var titletext = $(\n",
       "        '<div class=\"ui-dialog-title\" style=\"width: 100%; ' +\n",
       "        'text-align: center; padding: 3px;\"/>');\n",
       "    titlebar.append(titletext)\n",
       "    this.root.append(titlebar);\n",
       "    this.header = titletext[0];\n",
       "}\n",
       "\n",
       "\n",
       "\n",
       "mpl.figure.prototype._canvas_extra_style = function(canvas_div) {\n",
       "\n",
       "}\n",
       "\n",
       "\n",
       "mpl.figure.prototype._root_extra_style = function(canvas_div) {\n",
       "\n",
       "}\n",
       "\n",
       "mpl.figure.prototype._init_canvas = function() {\n",
       "    var fig = this;\n",
       "\n",
       "    var canvas_div = $('<div/>');\n",
       "\n",
       "    canvas_div.attr('style', 'position: relative; clear: both; outline: 0');\n",
       "\n",
       "    function canvas_keyboard_event(event) {\n",
       "        return fig.key_event(event, event['data']);\n",
       "    }\n",
       "\n",
       "    canvas_div.keydown('key_press', canvas_keyboard_event);\n",
       "    canvas_div.keyup('key_release', canvas_keyboard_event);\n",
       "    this.canvas_div = canvas_div\n",
       "    this._canvas_extra_style(canvas_div)\n",
       "    this.root.append(canvas_div);\n",
       "\n",
       "    var canvas = $('<canvas/>');\n",
       "    canvas.addClass('mpl-canvas');\n",
       "    canvas.attr('style', \"left: 0; top: 0; z-index: 0; outline: 0\")\n",
       "\n",
       "    this.canvas = canvas[0];\n",
       "    this.context = canvas[0].getContext(\"2d\");\n",
       "\n",
       "    var backingStore = this.context.backingStorePixelRatio ||\n",
       "\tthis.context.webkitBackingStorePixelRatio ||\n",
       "\tthis.context.mozBackingStorePixelRatio ||\n",
       "\tthis.context.msBackingStorePixelRatio ||\n",
       "\tthis.context.oBackingStorePixelRatio ||\n",
       "\tthis.context.backingStorePixelRatio || 1;\n",
       "\n",
       "    mpl.ratio = (window.devicePixelRatio || 1) / backingStore;\n",
       "\n",
       "    var rubberband = $('<canvas/>');\n",
       "    rubberband.attr('style', \"position: absolute; left: 0; top: 0; z-index: 1;\")\n",
       "\n",
       "    var pass_mouse_events = true;\n",
       "\n",
       "    canvas_div.resizable({\n",
       "        start: function(event, ui) {\n",
       "            pass_mouse_events = false;\n",
       "        },\n",
       "        resize: function(event, ui) {\n",
       "            fig.request_resize(ui.size.width, ui.size.height);\n",
       "        },\n",
       "        stop: function(event, ui) {\n",
       "            pass_mouse_events = true;\n",
       "            fig.request_resize(ui.size.width, ui.size.height);\n",
       "        },\n",
       "    });\n",
       "\n",
       "    function mouse_event_fn(event) {\n",
       "        if (pass_mouse_events)\n",
       "            return fig.mouse_event(event, event['data']);\n",
       "    }\n",
       "\n",
       "    rubberband.mousedown('button_press', mouse_event_fn);\n",
       "    rubberband.mouseup('button_release', mouse_event_fn);\n",
       "    // Throttle sequential mouse events to 1 every 20ms.\n",
       "    rubberband.mousemove('motion_notify', mouse_event_fn);\n",
       "\n",
       "    rubberband.mouseenter('figure_enter', mouse_event_fn);\n",
       "    rubberband.mouseleave('figure_leave', mouse_event_fn);\n",
       "\n",
       "    canvas_div.on(\"wheel\", function (event) {\n",
       "        event = event.originalEvent;\n",
       "        event['data'] = 'scroll'\n",
       "        if (event.deltaY < 0) {\n",
       "            event.step = 1;\n",
       "        } else {\n",
       "            event.step = -1;\n",
       "        }\n",
       "        mouse_event_fn(event);\n",
       "    });\n",
       "\n",
       "    canvas_div.append(canvas);\n",
       "    canvas_div.append(rubberband);\n",
       "\n",
       "    this.rubberband = rubberband;\n",
       "    this.rubberband_canvas = rubberband[0];\n",
       "    this.rubberband_context = rubberband[0].getContext(\"2d\");\n",
       "    this.rubberband_context.strokeStyle = \"#000000\";\n",
       "\n",
       "    this._resize_canvas = function(width, height) {\n",
       "        // Keep the size of the canvas, canvas container, and rubber band\n",
       "        // canvas in synch.\n",
       "        canvas_div.css('width', width)\n",
       "        canvas_div.css('height', height)\n",
       "\n",
       "        canvas.attr('width', width * mpl.ratio);\n",
       "        canvas.attr('height', height * mpl.ratio);\n",
       "        canvas.attr('style', 'width: ' + width + 'px; height: ' + height + 'px;');\n",
       "\n",
       "        rubberband.attr('width', width);\n",
       "        rubberband.attr('height', height);\n",
       "    }\n",
       "\n",
       "    // Set the figure to an initial 600x600px, this will subsequently be updated\n",
       "    // upon first draw.\n",
       "    this._resize_canvas(600, 600);\n",
       "\n",
       "    // Disable right mouse context menu.\n",
       "    $(this.rubberband_canvas).bind(\"contextmenu\",function(e){\n",
       "        return false;\n",
       "    });\n",
       "\n",
       "    function set_focus () {\n",
       "        canvas.focus();\n",
       "        canvas_div.focus();\n",
       "    }\n",
       "\n",
       "    window.setTimeout(set_focus, 100);\n",
       "}\n",
       "\n",
       "mpl.figure.prototype._init_toolbar = function() {\n",
       "    var fig = this;\n",
       "\n",
       "    var nav_element = $('<div/>');\n",
       "    nav_element.attr('style', 'width: 100%');\n",
       "    this.root.append(nav_element);\n",
       "\n",
       "    // Define a callback function for later on.\n",
       "    function toolbar_event(event) {\n",
       "        return fig.toolbar_button_onclick(event['data']);\n",
       "    }\n",
       "    function toolbar_mouse_event(event) {\n",
       "        return fig.toolbar_button_onmouseover(event['data']);\n",
       "    }\n",
       "\n",
       "    for(var toolbar_ind in mpl.toolbar_items) {\n",
       "        var name = mpl.toolbar_items[toolbar_ind][0];\n",
       "        var tooltip = mpl.toolbar_items[toolbar_ind][1];\n",
       "        var image = mpl.toolbar_items[toolbar_ind][2];\n",
       "        var method_name = mpl.toolbar_items[toolbar_ind][3];\n",
       "\n",
       "        if (!name) {\n",
       "            // put a spacer in here.\n",
       "            continue;\n",
       "        }\n",
       "        var button = $('<button/>');\n",
       "        button.addClass('ui-button ui-widget ui-state-default ui-corner-all ' +\n",
       "                        'ui-button-icon-only');\n",
       "        button.attr('role', 'button');\n",
       "        button.attr('aria-disabled', 'false');\n",
       "        button.click(method_name, toolbar_event);\n",
       "        button.mouseover(tooltip, toolbar_mouse_event);\n",
       "\n",
       "        var icon_img = $('<span/>');\n",
       "        icon_img.addClass('ui-button-icon-primary ui-icon');\n",
       "        icon_img.addClass(image);\n",
       "        icon_img.addClass('ui-corner-all');\n",
       "\n",
       "        var tooltip_span = $('<span/>');\n",
       "        tooltip_span.addClass('ui-button-text');\n",
       "        tooltip_span.html(tooltip);\n",
       "\n",
       "        button.append(icon_img);\n",
       "        button.append(tooltip_span);\n",
       "\n",
       "        nav_element.append(button);\n",
       "    }\n",
       "\n",
       "    var fmt_picker_span = $('<span/>');\n",
       "\n",
       "    var fmt_picker = $('<select/>');\n",
       "    fmt_picker.addClass('mpl-toolbar-option ui-widget ui-widget-content');\n",
       "    fmt_picker_span.append(fmt_picker);\n",
       "    nav_element.append(fmt_picker_span);\n",
       "    this.format_dropdown = fmt_picker[0];\n",
       "\n",
       "    for (var ind in mpl.extensions) {\n",
       "        var fmt = mpl.extensions[ind];\n",
       "        var option = $(\n",
       "            '<option/>', {selected: fmt === mpl.default_extension}).html(fmt);\n",
       "        fmt_picker.append(option);\n",
       "    }\n",
       "\n",
       "    // Add hover states to the ui-buttons\n",
       "    $( \".ui-button\" ).hover(\n",
       "        function() { $(this).addClass(\"ui-state-hover\");},\n",
       "        function() { $(this).removeClass(\"ui-state-hover\");}\n",
       "    );\n",
       "\n",
       "    var status_bar = $('<span class=\"mpl-message\"/>');\n",
       "    nav_element.append(status_bar);\n",
       "    this.message = status_bar[0];\n",
       "}\n",
       "\n",
       "mpl.figure.prototype.request_resize = function(x_pixels, y_pixels) {\n",
       "    // Request matplotlib to resize the figure. Matplotlib will then trigger a resize in the client,\n",
       "    // which will in turn request a refresh of the image.\n",
       "    this.send_message('resize', {'width': x_pixels, 'height': y_pixels});\n",
       "}\n",
       "\n",
       "mpl.figure.prototype.send_message = function(type, properties) {\n",
       "    properties['type'] = type;\n",
       "    properties['figure_id'] = this.id;\n",
       "    this.ws.send(JSON.stringify(properties));\n",
       "}\n",
       "\n",
       "mpl.figure.prototype.send_draw_message = function() {\n",
       "    if (!this.waiting) {\n",
       "        this.waiting = true;\n",
       "        this.ws.send(JSON.stringify({type: \"draw\", figure_id: this.id}));\n",
       "    }\n",
       "}\n",
       "\n",
       "\n",
       "mpl.figure.prototype.handle_save = function(fig, msg) {\n",
       "    var format_dropdown = fig.format_dropdown;\n",
       "    var format = format_dropdown.options[format_dropdown.selectedIndex].value;\n",
       "    fig.ondownload(fig, format);\n",
       "}\n",
       "\n",
       "\n",
       "mpl.figure.prototype.handle_resize = function(fig, msg) {\n",
       "    var size = msg['size'];\n",
       "    if (size[0] != fig.canvas.width || size[1] != fig.canvas.height) {\n",
       "        fig._resize_canvas(size[0], size[1]);\n",
       "        fig.send_message(\"refresh\", {});\n",
       "    };\n",
       "}\n",
       "\n",
       "mpl.figure.prototype.handle_rubberband = function(fig, msg) {\n",
       "    var x0 = msg['x0'] / mpl.ratio;\n",
       "    var y0 = (fig.canvas.height - msg['y0']) / mpl.ratio;\n",
       "    var x1 = msg['x1'] / mpl.ratio;\n",
       "    var y1 = (fig.canvas.height - msg['y1']) / mpl.ratio;\n",
       "    x0 = Math.floor(x0) + 0.5;\n",
       "    y0 = Math.floor(y0) + 0.5;\n",
       "    x1 = Math.floor(x1) + 0.5;\n",
       "    y1 = Math.floor(y1) + 0.5;\n",
       "    var min_x = Math.min(x0, x1);\n",
       "    var min_y = Math.min(y0, y1);\n",
       "    var width = Math.abs(x1 - x0);\n",
       "    var height = Math.abs(y1 - y0);\n",
       "\n",
       "    fig.rubberband_context.clearRect(\n",
       "        0, 0, fig.canvas.width / mpl.ratio, fig.canvas.height / mpl.ratio);\n",
       "\n",
       "    fig.rubberband_context.strokeRect(min_x, min_y, width, height);\n",
       "}\n",
       "\n",
       "mpl.figure.prototype.handle_figure_label = function(fig, msg) {\n",
       "    // Updates the figure title.\n",
       "    fig.header.textContent = msg['label'];\n",
       "}\n",
       "\n",
       "mpl.figure.prototype.handle_cursor = function(fig, msg) {\n",
       "    var cursor = msg['cursor'];\n",
       "    switch(cursor)\n",
       "    {\n",
       "    case 0:\n",
       "        cursor = 'pointer';\n",
       "        break;\n",
       "    case 1:\n",
       "        cursor = 'default';\n",
       "        break;\n",
       "    case 2:\n",
       "        cursor = 'crosshair';\n",
       "        break;\n",
       "    case 3:\n",
       "        cursor = 'move';\n",
       "        break;\n",
       "    }\n",
       "    fig.rubberband_canvas.style.cursor = cursor;\n",
       "}\n",
       "\n",
       "mpl.figure.prototype.handle_message = function(fig, msg) {\n",
       "    fig.message.textContent = msg['message'];\n",
       "}\n",
       "\n",
       "mpl.figure.prototype.handle_draw = function(fig, msg) {\n",
       "    // Request the server to send over a new figure.\n",
       "    fig.send_draw_message();\n",
       "}\n",
       "\n",
       "mpl.figure.prototype.handle_image_mode = function(fig, msg) {\n",
       "    fig.image_mode = msg['mode'];\n",
       "}\n",
       "\n",
       "mpl.figure.prototype.updated_canvas_event = function() {\n",
       "    // Called whenever the canvas gets updated.\n",
       "    this.send_message(\"ack\", {});\n",
       "}\n",
       "\n",
       "// A function to construct a web socket function for onmessage handling.\n",
       "// Called in the figure constructor.\n",
       "mpl.figure.prototype._make_on_message_function = function(fig) {\n",
       "    return function socket_on_message(evt) {\n",
       "        if (evt.data instanceof Blob) {\n",
       "            /* FIXME: We get \"Resource interpreted as Image but\n",
       "             * transferred with MIME type text/plain:\" errors on\n",
       "             * Chrome.  But how to set the MIME type?  It doesn't seem\n",
       "             * to be part of the websocket stream */\n",
       "            evt.data.type = \"image/png\";\n",
       "\n",
       "            /* Free the memory for the previous frames */\n",
       "            if (fig.imageObj.src) {\n",
       "                (window.URL || window.webkitURL).revokeObjectURL(\n",
       "                    fig.imageObj.src);\n",
       "            }\n",
       "\n",
       "            fig.imageObj.src = (window.URL || window.webkitURL).createObjectURL(\n",
       "                evt.data);\n",
       "            fig.updated_canvas_event();\n",
       "            fig.waiting = false;\n",
       "            return;\n",
       "        }\n",
       "        else if (typeof evt.data === 'string' && evt.data.slice(0, 21) == \"data:image/png;base64\") {\n",
       "            fig.imageObj.src = evt.data;\n",
       "            fig.updated_canvas_event();\n",
       "            fig.waiting = false;\n",
       "            return;\n",
       "        }\n",
       "\n",
       "        var msg = JSON.parse(evt.data);\n",
       "        var msg_type = msg['type'];\n",
       "\n",
       "        // Call the  \"handle_{type}\" callback, which takes\n",
       "        // the figure and JSON message as its only arguments.\n",
       "        try {\n",
       "            var callback = fig[\"handle_\" + msg_type];\n",
       "        } catch (e) {\n",
       "            console.log(\"No handler for the '\" + msg_type + \"' message type: \", msg);\n",
       "            return;\n",
       "        }\n",
       "\n",
       "        if (callback) {\n",
       "            try {\n",
       "                // console.log(\"Handling '\" + msg_type + \"' message: \", msg);\n",
       "                callback(fig, msg);\n",
       "            } catch (e) {\n",
       "                console.log(\"Exception inside the 'handler_\" + msg_type + \"' callback:\", e, e.stack, msg);\n",
       "            }\n",
       "        }\n",
       "    };\n",
       "}\n",
       "\n",
       "// from http://stackoverflow.com/questions/1114465/getting-mouse-location-in-canvas\n",
       "mpl.findpos = function(e) {\n",
       "    //this section is from http://www.quirksmode.org/js/events_properties.html\n",
       "    var targ;\n",
       "    if (!e)\n",
       "        e = window.event;\n",
       "    if (e.target)\n",
       "        targ = e.target;\n",
       "    else if (e.srcElement)\n",
       "        targ = e.srcElement;\n",
       "    if (targ.nodeType == 3) // defeat Safari bug\n",
       "        targ = targ.parentNode;\n",
       "\n",
       "    // jQuery normalizes the pageX and pageY\n",
       "    // pageX,Y are the mouse positions relative to the document\n",
       "    // offset() returns the position of the element relative to the document\n",
       "    var x = e.pageX - $(targ).offset().left;\n",
       "    var y = e.pageY - $(targ).offset().top;\n",
       "\n",
       "    return {\"x\": x, \"y\": y};\n",
       "};\n",
       "\n",
       "/*\n",
       " * return a copy of an object with only non-object keys\n",
       " * we need this to avoid circular references\n",
       " * http://stackoverflow.com/a/24161582/3208463\n",
       " */\n",
       "function simpleKeys (original) {\n",
       "  return Object.keys(original).reduce(function (obj, key) {\n",
       "    if (typeof original[key] !== 'object')\n",
       "        obj[key] = original[key]\n",
       "    return obj;\n",
       "  }, {});\n",
       "}\n",
       "\n",
       "mpl.figure.prototype.mouse_event = function(event, name) {\n",
       "    var canvas_pos = mpl.findpos(event)\n",
       "\n",
       "    if (name === 'button_press')\n",
       "    {\n",
       "        this.canvas.focus();\n",
       "        this.canvas_div.focus();\n",
       "    }\n",
       "\n",
       "    var x = canvas_pos.x * mpl.ratio;\n",
       "    var y = canvas_pos.y * mpl.ratio;\n",
       "\n",
       "    this.send_message(name, {x: x, y: y, button: event.button,\n",
       "                             step: event.step,\n",
       "                             guiEvent: simpleKeys(event)});\n",
       "\n",
       "    /* This prevents the web browser from automatically changing to\n",
       "     * the text insertion cursor when the button is pressed.  We want\n",
       "     * to control all of the cursor setting manually through the\n",
       "     * 'cursor' event from matplotlib */\n",
       "    event.preventDefault();\n",
       "    return false;\n",
       "}\n",
       "\n",
       "mpl.figure.prototype._key_event_extra = function(event, name) {\n",
       "    // Handle any extra behaviour associated with a key event\n",
       "}\n",
       "\n",
       "mpl.figure.prototype.key_event = function(event, name) {\n",
       "\n",
       "    // Prevent repeat events\n",
       "    if (name == 'key_press')\n",
       "    {\n",
       "        if (event.which === this._key)\n",
       "            return;\n",
       "        else\n",
       "            this._key = event.which;\n",
       "    }\n",
       "    if (name == 'key_release')\n",
       "        this._key = null;\n",
       "\n",
       "    var value = '';\n",
       "    if (event.ctrlKey && event.which != 17)\n",
       "        value += \"ctrl+\";\n",
       "    if (event.altKey && event.which != 18)\n",
       "        value += \"alt+\";\n",
       "    if (event.shiftKey && event.which != 16)\n",
       "        value += \"shift+\";\n",
       "\n",
       "    value += 'k';\n",
       "    value += event.which.toString();\n",
       "\n",
       "    this._key_event_extra(event, name);\n",
       "\n",
       "    this.send_message(name, {key: value,\n",
       "                             guiEvent: simpleKeys(event)});\n",
       "    return false;\n",
       "}\n",
       "\n",
       "mpl.figure.prototype.toolbar_button_onclick = function(name) {\n",
       "    if (name == 'download') {\n",
       "        this.handle_save(this, null);\n",
       "    } else {\n",
       "        this.send_message(\"toolbar_button\", {name: name});\n",
       "    }\n",
       "};\n",
       "\n",
       "mpl.figure.prototype.toolbar_button_onmouseover = function(tooltip) {\n",
       "    this.message.textContent = tooltip;\n",
       "};\n",
       "mpl.toolbar_items = [[\"Home\", \"Reset original view\", \"fa fa-home icon-home\", \"home\"], [\"Back\", \"Back to previous view\", \"fa fa-arrow-left icon-arrow-left\", \"back\"], [\"Forward\", \"Forward to next view\", \"fa fa-arrow-right icon-arrow-right\", \"forward\"], [\"\", \"\", \"\", \"\"], [\"Pan\", \"Pan axes with left mouse, zoom with right\", \"fa fa-arrows icon-move\", \"pan\"], [\"Zoom\", \"Zoom to rectangle\", \"fa fa-square-o icon-check-empty\", \"zoom\"], [\"\", \"\", \"\", \"\"], [\"Download\", \"Download plot\", \"fa fa-floppy-o icon-save\", \"download\"]];\n",
       "\n",
       "mpl.extensions = [\"eps\", \"jpeg\", \"pdf\", \"png\", \"ps\", \"raw\", \"svg\", \"tif\"];\n",
       "\n",
       "mpl.default_extension = \"png\";var comm_websocket_adapter = function(comm) {\n",
       "    // Create a \"websocket\"-like object which calls the given IPython comm\n",
       "    // object with the appropriate methods. Currently this is a non binary\n",
       "    // socket, so there is still some room for performance tuning.\n",
       "    var ws = {};\n",
       "\n",
       "    ws.close = function() {\n",
       "        comm.close()\n",
       "    };\n",
       "    ws.send = function(m) {\n",
       "        //console.log('sending', m);\n",
       "        comm.send(m);\n",
       "    };\n",
       "    // Register the callback with on_msg.\n",
       "    comm.on_msg(function(msg) {\n",
       "        //console.log('receiving', msg['content']['data'], msg);\n",
       "        // Pass the mpl event to the overridden (by mpl) onmessage function.\n",
       "        ws.onmessage(msg['content']['data'])\n",
       "    });\n",
       "    return ws;\n",
       "}\n",
       "\n",
       "mpl.mpl_figure_comm = function(comm, msg) {\n",
       "    // This is the function which gets called when the mpl process\n",
       "    // starts-up an IPython Comm through the \"matplotlib\" channel.\n",
       "\n",
       "    var id = msg.content.data.id;\n",
       "    // Get hold of the div created by the display call when the Comm\n",
       "    // socket was opened in Python.\n",
       "    var element = $(\"#\" + id);\n",
       "    var ws_proxy = comm_websocket_adapter(comm)\n",
       "\n",
       "    function ondownload(figure, format) {\n",
       "        window.open(figure.imageObj.src);\n",
       "    }\n",
       "\n",
       "    var fig = new mpl.figure(id, ws_proxy,\n",
       "                           ondownload,\n",
       "                           element.get(0));\n",
       "\n",
       "    // Call onopen now - mpl needs it, as it is assuming we've passed it a real\n",
       "    // web socket which is closed, not our websocket->open comm proxy.\n",
       "    ws_proxy.onopen();\n",
       "\n",
       "    fig.parent_element = element.get(0);\n",
       "    fig.cell_info = mpl.find_output_cell(\"<div id='\" + id + \"'></div>\");\n",
       "    if (!fig.cell_info) {\n",
       "        console.error(\"Failed to find cell for figure\", id, fig);\n",
       "        return;\n",
       "    }\n",
       "\n",
       "    var output_index = fig.cell_info[2]\n",
       "    var cell = fig.cell_info[0];\n",
       "\n",
       "};\n",
       "\n",
       "mpl.figure.prototype.handle_close = function(fig, msg) {\n",
       "    var width = fig.canvas.width/mpl.ratio\n",
       "    fig.root.unbind('remove')\n",
       "\n",
       "    // Update the output cell to use the data from the current canvas.\n",
       "    fig.push_to_output();\n",
       "    var dataURL = fig.canvas.toDataURL();\n",
       "    // Re-enable the keyboard manager in IPython - without this line, in FF,\n",
       "    // the notebook keyboard shortcuts fail.\n",
       "    IPython.keyboard_manager.enable()\n",
       "    $(fig.parent_element).html('<img src=\"' + dataURL + '\" width=\"' + width + '\">');\n",
       "    fig.close_ws(fig, msg);\n",
       "}\n",
       "\n",
       "mpl.figure.prototype.close_ws = function(fig, msg){\n",
       "    fig.send_message('closing', msg);\n",
       "    // fig.ws.close()\n",
       "}\n",
       "\n",
       "mpl.figure.prototype.push_to_output = function(remove_interactive) {\n",
       "    // Turn the data on the canvas into data in the output cell.\n",
       "    var width = this.canvas.width/mpl.ratio\n",
       "    var dataURL = this.canvas.toDataURL();\n",
       "    this.cell_info[1]['text/html'] = '<img src=\"' + dataURL + '\" width=\"' + width + '\">';\n",
       "}\n",
       "\n",
       "mpl.figure.prototype.updated_canvas_event = function() {\n",
       "    // Tell IPython that the notebook contents must change.\n",
       "    IPython.notebook.set_dirty(true);\n",
       "    this.send_message(\"ack\", {});\n",
       "    var fig = this;\n",
       "    // Wait a second, then push the new image to the DOM so\n",
       "    // that it is saved nicely (might be nice to debounce this).\n",
       "    setTimeout(function () { fig.push_to_output() }, 1000);\n",
       "}\n",
       "\n",
       "mpl.figure.prototype._init_toolbar = function() {\n",
       "    var fig = this;\n",
       "\n",
       "    var nav_element = $('<div/>');\n",
       "    nav_element.attr('style', 'width: 100%');\n",
       "    this.root.append(nav_element);\n",
       "\n",
       "    // Define a callback function for later on.\n",
       "    function toolbar_event(event) {\n",
       "        return fig.toolbar_button_onclick(event['data']);\n",
       "    }\n",
       "    function toolbar_mouse_event(event) {\n",
       "        return fig.toolbar_button_onmouseover(event['data']);\n",
       "    }\n",
       "\n",
       "    for(var toolbar_ind in mpl.toolbar_items){\n",
       "        var name = mpl.toolbar_items[toolbar_ind][0];\n",
       "        var tooltip = mpl.toolbar_items[toolbar_ind][1];\n",
       "        var image = mpl.toolbar_items[toolbar_ind][2];\n",
       "        var method_name = mpl.toolbar_items[toolbar_ind][3];\n",
       "\n",
       "        if (!name) { continue; };\n",
       "\n",
       "        var button = $('<button class=\"btn btn-default\" href=\"#\" title=\"' + name + '\"><i class=\"fa ' + image + ' fa-lg\"></i></button>');\n",
       "        button.click(method_name, toolbar_event);\n",
       "        button.mouseover(tooltip, toolbar_mouse_event);\n",
       "        nav_element.append(button);\n",
       "    }\n",
       "\n",
       "    // Add the status bar.\n",
       "    var status_bar = $('<span class=\"mpl-message\" style=\"text-align:right; float: right;\"/>');\n",
       "    nav_element.append(status_bar);\n",
       "    this.message = status_bar[0];\n",
       "\n",
       "    // Add the close button to the window.\n",
       "    var buttongrp = $('<div class=\"btn-group inline pull-right\"></div>');\n",
       "    var button = $('<button class=\"btn btn-mini btn-primary\" href=\"#\" title=\"Stop Interaction\"><i class=\"fa fa-power-off icon-remove icon-large\"></i></button>');\n",
       "    button.click(function (evt) { fig.handle_close(fig, {}); } );\n",
       "    button.mouseover('Stop Interaction', toolbar_mouse_event);\n",
       "    buttongrp.append(button);\n",
       "    var titlebar = this.root.find($('.ui-dialog-titlebar'));\n",
       "    titlebar.prepend(buttongrp);\n",
       "}\n",
       "\n",
       "mpl.figure.prototype._root_extra_style = function(el){\n",
       "    var fig = this\n",
       "    el.on(\"remove\", function(){\n",
       "\tfig.close_ws(fig, {});\n",
       "    });\n",
       "}\n",
       "\n",
       "mpl.figure.prototype._canvas_extra_style = function(el){\n",
       "    // this is important to make the div 'focusable\n",
       "    el.attr('tabindex', 0)\n",
       "    // reach out to IPython and tell the keyboard manager to turn it's self\n",
       "    // off when our div gets focus\n",
       "\n",
       "    // location in version 3\n",
       "    if (IPython.notebook.keyboard_manager) {\n",
       "        IPython.notebook.keyboard_manager.register_events(el);\n",
       "    }\n",
       "    else {\n",
       "        // location in version 2\n",
       "        IPython.keyboard_manager.register_events(el);\n",
       "    }\n",
       "\n",
       "}\n",
       "\n",
       "mpl.figure.prototype._key_event_extra = function(event, name) {\n",
       "    var manager = IPython.notebook.keyboard_manager;\n",
       "    if (!manager)\n",
       "        manager = IPython.keyboard_manager;\n",
       "\n",
       "    // Check for shift+enter\n",
       "    if (event.shiftKey && event.which == 13) {\n",
       "        this.canvas_div.blur();\n",
       "        event.shiftKey = false;\n",
       "        // Send a \"J\" for go to next cell\n",
       "        event.which = 74;\n",
       "        event.keyCode = 74;\n",
       "        manager.command_mode();\n",
       "        manager.handle_keydown(event);\n",
       "    }\n",
       "}\n",
       "\n",
       "mpl.figure.prototype.handle_save = function(fig, msg) {\n",
       "    fig.ondownload(fig, null);\n",
       "}\n",
       "\n",
       "\n",
       "mpl.find_output_cell = function(html_output) {\n",
       "    // Return the cell and output element which can be found *uniquely* in the notebook.\n",
       "    // Note - this is a bit hacky, but it is done because the \"notebook_saving.Notebook\"\n",
       "    // IPython event is triggered only after the cells have been serialised, which for\n",
       "    // our purposes (turning an active figure into a static one), is too late.\n",
       "    var cells = IPython.notebook.get_cells();\n",
       "    var ncells = cells.length;\n",
       "    for (var i=0; i<ncells; i++) {\n",
       "        var cell = cells[i];\n",
       "        if (cell.cell_type === 'code'){\n",
       "            for (var j=0; j<cell.output_area.outputs.length; j++) {\n",
       "                var data = cell.output_area.outputs[j];\n",
       "                if (data.data) {\n",
       "                    // IPython >= 3 moved mimebundle to data attribute of output\n",
       "                    data = data.data;\n",
       "                }\n",
       "                if (data['text/html'] == html_output) {\n",
       "                    return [cell, data, j];\n",
       "                }\n",
       "            }\n",
       "        }\n",
       "    }\n",
       "}\n",
       "\n",
       "// Register the function which deals with the matplotlib target/channel.\n",
       "// The kernel may be null if the page has been refreshed.\n",
       "if (IPython.notebook.kernel != null) {\n",
       "    IPython.notebook.kernel.comm_manager.register_target('matplotlib', mpl.mpl_figure_comm);\n",
       "}\n"
      ],
      "text/plain": [
       "<IPython.core.display.Javascript object>"
      ]
     },
     "metadata": {},
     "output_type": "display_data"
    },
    {
     "data": {
      "text/html": [
       "<img src=\"data:image/png;base64,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\" width=\"800\">"
      ],
      "text/plain": [
       "<IPython.core.display.HTML object>"
      ]
     },
     "metadata": {},
     "output_type": "display_data"
    },
    {
     "data": {
      "application/vnd.jupyter.widget-view+json": {
       "model_id": "f5c7c9df1376477184c07c3557a9670f",
       "version_major": 2,
       "version_minor": 0
      },
      "text/plain": [
       "HBox(children=(IntProgress(value=0, description='1st loop', max=200, style=ProgressStyle(description_width='in…"
      ]
     },
     "metadata": {},
     "output_type": "display_data"
    },
    {
     "data": {
      "application/vnd.jupyter.widget-view+json": {
       "model_id": "",
       "version_major": 2,
       "version_minor": 0
      },
      "text/plain": [
       "HBox(children=(IntProgress(value=0, description='2nd loop', max=30, style=ProgressStyle(description_width='ini…"
      ]
     },
     "metadata": {},
     "output_type": "display_data"
    },
    {
     "data": {
      "application/vnd.jupyter.widget-view+json": {
       "model_id": "",
       "version_major": 2,
       "version_minor": 0
      },
      "text/plain": [
       "HBox(children=(IntProgress(value=0, description='2nd loop', max=30, style=ProgressStyle(description_width='ini…"
      ]
     },
     "metadata": {},
     "output_type": "display_data"
    },
    {
     "data": {
      "application/vnd.jupyter.widget-view+json": {
       "model_id": "",
       "version_major": 2,
       "version_minor": 0
      },
      "text/plain": [
       "HBox(children=(IntProgress(value=0, description='2nd loop', max=30, style=ProgressStyle(description_width='ini…"
      ]
     },
     "metadata": {},
     "output_type": "display_data"
    },
    {
     "data": {
      "application/vnd.jupyter.widget-view+json": {
       "model_id": "",
       "version_major": 2,
       "version_minor": 0
      },
      "text/plain": [
       "HBox(children=(IntProgress(value=0, description='2nd loop', max=30, style=ProgressStyle(description_width='ini…"
      ]
     },
     "metadata": {},
     "output_type": "display_data"
    },
    {
     "data": {
      "application/vnd.jupyter.widget-view+json": {
       "model_id": "",
       "version_major": 2,
       "version_minor": 0
      },
      "text/plain": [
       "HBox(children=(IntProgress(value=0, description='2nd loop', max=30, style=ProgressStyle(description_width='ini…"
      ]
     },
     "metadata": {},
     "output_type": "display_data"
    },
    {
     "data": {
      "application/vnd.jupyter.widget-view+json": {
       "model_id": "",
       "version_major": 2,
       "version_minor": 0
      },
      "text/plain": [
       "HBox(children=(IntProgress(value=0, description='2nd loop', max=30, style=ProgressStyle(description_width='ini…"
      ]
     },
     "metadata": {},
     "output_type": "display_data"
    },
    {
     "data": {
      "application/vnd.jupyter.widget-view+json": {
       "model_id": "",
       "version_major": 2,
       "version_minor": 0
      },
      "text/plain": [
       "HBox(children=(IntProgress(value=0, description='2nd loop', max=30, style=ProgressStyle(description_width='ini…"
      ]
     },
     "metadata": {},
     "output_type": "display_data"
    },
    {
     "data": {
      "application/vnd.jupyter.widget-view+json": {
       "model_id": "",
       "version_major": 2,
       "version_minor": 0
      },
      "text/plain": [
       "HBox(children=(IntProgress(value=0, description='2nd loop', max=30, style=ProgressStyle(description_width='ini…"
      ]
     },
     "metadata": {},
     "output_type": "display_data"
    },
    {
     "data": {
      "application/vnd.jupyter.widget-view+json": {
       "model_id": "",
       "version_major": 2,
       "version_minor": 0
      },
      "text/plain": [
       "HBox(children=(IntProgress(value=0, description='2nd loop', max=30, style=ProgressStyle(description_width='ini…"
      ]
     },
     "metadata": {},
     "output_type": "display_data"
    },
    {
     "data": {
      "application/vnd.jupyter.widget-view+json": {
       "model_id": "",
       "version_major": 2,
       "version_minor": 0
      },
      "text/plain": [
       "HBox(children=(IntProgress(value=0, description='2nd loop', max=30, style=ProgressStyle(description_width='ini…"
      ]
     },
     "metadata": {},
     "output_type": "display_data"
    },
    {
     "data": {
      "application/vnd.jupyter.widget-view+json": {
       "model_id": "",
       "version_major": 2,
       "version_minor": 0
      },
      "text/plain": [
       "HBox(children=(IntProgress(value=0, description='2nd loop', max=30, style=ProgressStyle(description_width='ini…"
      ]
     },
     "metadata": {},
     "output_type": "display_data"
    },
    {
     "data": {
      "application/vnd.jupyter.widget-view+json": {
       "model_id": "",
       "version_major": 2,
       "version_minor": 0
      },
      "text/plain": [
       "HBox(children=(IntProgress(value=0, description='2nd loop', max=30, style=ProgressStyle(description_width='ini…"
      ]
     },
     "metadata": {},
     "output_type": "display_data"
    },
    {
     "data": {
      "application/vnd.jupyter.widget-view+json": {
       "model_id": "",
       "version_major": 2,
       "version_minor": 0
      },
      "text/plain": [
       "HBox(children=(IntProgress(value=0, description='2nd loop', max=30, style=ProgressStyle(description_width='ini…"
      ]
     },
     "metadata": {},
     "output_type": "display_data"
    },
    {
     "data": {
      "application/vnd.jupyter.widget-view+json": {
       "model_id": "",
       "version_major": 2,
       "version_minor": 0
      },
      "text/plain": [
       "HBox(children=(IntProgress(value=0, description='2nd loop', max=30, style=ProgressStyle(description_width='ini…"
      ]
     },
     "metadata": {},
     "output_type": "display_data"
    },
    {
     "data": {
      "application/vnd.jupyter.widget-view+json": {
       "model_id": "",
       "version_major": 2,
       "version_minor": 0
      },
      "text/plain": [
       "HBox(children=(IntProgress(value=0, description='2nd loop', max=30, style=ProgressStyle(description_width='ini…"
      ]
     },
     "metadata": {},
     "output_type": "display_data"
    },
    {
     "data": {
      "application/vnd.jupyter.widget-view+json": {
       "model_id": "",
       "version_major": 2,
       "version_minor": 0
      },
      "text/plain": [
       "HBox(children=(IntProgress(value=0, description='2nd loop', max=30, style=ProgressStyle(description_width='ini…"
      ]
     },
     "metadata": {},
     "output_type": "display_data"
    },
    {
     "data": {
      "application/vnd.jupyter.widget-view+json": {
       "model_id": "",
       "version_major": 2,
       "version_minor": 0
      },
      "text/plain": [
       "HBox(children=(IntProgress(value=0, description='2nd loop', max=30, style=ProgressStyle(description_width='ini…"
      ]
     },
     "metadata": {},
     "output_type": "display_data"
    },
    {
     "data": {
      "application/vnd.jupyter.widget-view+json": {
       "model_id": "",
       "version_major": 2,
       "version_minor": 0
      },
      "text/plain": [
       "HBox(children=(IntProgress(value=0, description='2nd loop', max=30, style=ProgressStyle(description_width='ini…"
      ]
     },
     "metadata": {},
     "output_type": "display_data"
    },
    {
     "data": {
      "application/vnd.jupyter.widget-view+json": {
       "model_id": "",
       "version_major": 2,
       "version_minor": 0
      },
      "text/plain": [
       "HBox(children=(IntProgress(value=0, description='2nd loop', max=30, style=ProgressStyle(description_width='ini…"
      ]
     },
     "metadata": {},
     "output_type": "display_data"
    },
    {
     "data": {
      "application/vnd.jupyter.widget-view+json": {
       "model_id": "",
       "version_major": 2,
       "version_minor": 0
      },
      "text/plain": [
       "HBox(children=(IntProgress(value=0, description='2nd loop', max=30, style=ProgressStyle(description_width='ini…"
      ]
     },
     "metadata": {},
     "output_type": "display_data"
    },
    {
     "data": {
      "application/vnd.jupyter.widget-view+json": {
       "model_id": "",
       "version_major": 2,
       "version_minor": 0
      },
      "text/plain": [
       "HBox(children=(IntProgress(value=0, description='2nd loop', max=30, style=ProgressStyle(description_width='ini…"
      ]
     },
     "metadata": {},
     "output_type": "display_data"
    },
    {
     "data": {
      "application/vnd.jupyter.widget-view+json": {
       "model_id": "",
       "version_major": 2,
       "version_minor": 0
      },
      "text/plain": [
       "HBox(children=(IntProgress(value=0, description='2nd loop', max=30, style=ProgressStyle(description_width='ini…"
      ]
     },
     "metadata": {},
     "output_type": "display_data"
    },
    {
     "data": {
      "application/vnd.jupyter.widget-view+json": {
       "model_id": "",
       "version_major": 2,
       "version_minor": 0
      },
      "text/plain": [
       "HBox(children=(IntProgress(value=0, description='2nd loop', max=30, style=ProgressStyle(description_width='ini…"
      ]
     },
     "metadata": {},
     "output_type": "display_data"
    },
    {
     "data": {
      "application/vnd.jupyter.widget-view+json": {
       "model_id": "",
       "version_major": 2,
       "version_minor": 0
      },
      "text/plain": [
       "HBox(children=(IntProgress(value=0, description='2nd loop', max=30, style=ProgressStyle(description_width='ini…"
      ]
     },
     "metadata": {},
     "output_type": "display_data"
    },
    {
     "data": {
      "application/vnd.jupyter.widget-view+json": {
       "model_id": "",
       "version_major": 2,
       "version_minor": 0
      },
      "text/plain": [
       "HBox(children=(IntProgress(value=0, description='2nd loop', max=30, style=ProgressStyle(description_width='ini…"
      ]
     },
     "metadata": {},
     "output_type": "display_data"
    },
    {
     "data": {
      "application/vnd.jupyter.widget-view+json": {
       "model_id": "",
       "version_major": 2,
       "version_minor": 0
      },
      "text/plain": [
       "HBox(children=(IntProgress(value=0, description='2nd loop', max=30, style=ProgressStyle(description_width='ini…"
      ]
     },
     "metadata": {},
     "output_type": "display_data"
    },
    {
     "data": {
      "application/vnd.jupyter.widget-view+json": {
       "model_id": "",
       "version_major": 2,
       "version_minor": 0
      },
      "text/plain": [
       "HBox(children=(IntProgress(value=0, description='2nd loop', max=30, style=ProgressStyle(description_width='ini…"
      ]
     },
     "metadata": {},
     "output_type": "display_data"
    },
    {
     "data": {
      "application/vnd.jupyter.widget-view+json": {
       "model_id": "",
       "version_major": 2,
       "version_minor": 0
      },
      "text/plain": [
       "HBox(children=(IntProgress(value=0, description='2nd loop', max=30, style=ProgressStyle(description_width='ini…"
      ]
     },
     "metadata": {},
     "output_type": "display_data"
    },
    {
     "data": {
      "application/vnd.jupyter.widget-view+json": {
       "model_id": "",
       "version_major": 2,
       "version_minor": 0
      },
      "text/plain": [
       "HBox(children=(IntProgress(value=0, description='2nd loop', max=30, style=ProgressStyle(description_width='ini…"
      ]
     },
     "metadata": {},
     "output_type": "display_data"
    },
    {
     "data": {
      "application/vnd.jupyter.widget-view+json": {
       "model_id": "",
       "version_major": 2,
       "version_minor": 0
      },
      "text/plain": [
       "HBox(children=(IntProgress(value=0, description='2nd loop', max=30, style=ProgressStyle(description_width='ini…"
      ]
     },
     "metadata": {},
     "output_type": "display_data"
    },
    {
     "data": {
      "application/vnd.jupyter.widget-view+json": {
       "model_id": "",
       "version_major": 2,
       "version_minor": 0
      },
      "text/plain": [
       "HBox(children=(IntProgress(value=0, description='2nd loop', max=30, style=ProgressStyle(description_width='ini…"
      ]
     },
     "metadata": {},
     "output_type": "display_data"
    },
    {
     "data": {
      "application/vnd.jupyter.widget-view+json": {
       "model_id": "",
       "version_major": 2,
       "version_minor": 0
      },
      "text/plain": [
       "HBox(children=(IntProgress(value=0, description='2nd loop', max=30, style=ProgressStyle(description_width='ini…"
      ]
     },
     "metadata": {},
     "output_type": "display_data"
    },
    {
     "data": {
      "application/vnd.jupyter.widget-view+json": {
       "model_id": "",
       "version_major": 2,
       "version_minor": 0
      },
      "text/plain": [
       "HBox(children=(IntProgress(value=0, description='2nd loop', max=30, style=ProgressStyle(description_width='ini…"
      ]
     },
     "metadata": {},
     "output_type": "display_data"
    },
    {
     "data": {
      "application/vnd.jupyter.widget-view+json": {
       "model_id": "",
       "version_major": 2,
       "version_minor": 0
      },
      "text/plain": [
       "HBox(children=(IntProgress(value=0, description='2nd loop', max=30, style=ProgressStyle(description_width='ini…"
      ]
     },
     "metadata": {},
     "output_type": "display_data"
    },
    {
     "data": {
      "application/vnd.jupyter.widget-view+json": {
       "model_id": "",
       "version_major": 2,
       "version_minor": 0
      },
      "text/plain": [
       "HBox(children=(IntProgress(value=0, description='2nd loop', max=30, style=ProgressStyle(description_width='ini…"
      ]
     },
     "metadata": {},
     "output_type": "display_data"
    },
    {
     "data": {
      "application/vnd.jupyter.widget-view+json": {
       "model_id": "",
       "version_major": 2,
       "version_minor": 0
      },
      "text/plain": [
       "HBox(children=(IntProgress(value=0, description='2nd loop', max=30, style=ProgressStyle(description_width='ini…"
      ]
     },
     "metadata": {},
     "output_type": "display_data"
    },
    {
     "data": {
      "application/vnd.jupyter.widget-view+json": {
       "model_id": "",
       "version_major": 2,
       "version_minor": 0
      },
      "text/plain": [
       "HBox(children=(IntProgress(value=0, description='2nd loop', max=30, style=ProgressStyle(description_width='ini…"
      ]
     },
     "metadata": {},
     "output_type": "display_data"
    },
    {
     "data": {
      "application/vnd.jupyter.widget-view+json": {
       "model_id": "",
       "version_major": 2,
       "version_minor": 0
      },
      "text/plain": [
       "HBox(children=(IntProgress(value=0, description='2nd loop', max=30, style=ProgressStyle(description_width='ini…"
      ]
     },
     "metadata": {},
     "output_type": "display_data"
    },
    {
     "data": {
      "application/vnd.jupyter.widget-view+json": {
       "model_id": "",
       "version_major": 2,
       "version_minor": 0
      },
      "text/plain": [
       "HBox(children=(IntProgress(value=0, description='2nd loop', max=30, style=ProgressStyle(description_width='ini…"
      ]
     },
     "metadata": {},
     "output_type": "display_data"
    },
    {
     "data": {
      "application/vnd.jupyter.widget-view+json": {
       "model_id": "",
       "version_major": 2,
       "version_minor": 0
      },
      "text/plain": [
       "HBox(children=(IntProgress(value=0, description='2nd loop', max=30, style=ProgressStyle(description_width='ini…"
      ]
     },
     "metadata": {},
     "output_type": "display_data"
    },
    {
     "data": {
      "application/vnd.jupyter.widget-view+json": {
       "model_id": "",
       "version_major": 2,
       "version_minor": 0
      },
      "text/plain": [
       "HBox(children=(IntProgress(value=0, description='2nd loop', max=30, style=ProgressStyle(description_width='ini…"
      ]
     },
     "metadata": {},
     "output_type": "display_data"
    },
    {
     "data": {
      "application/vnd.jupyter.widget-view+json": {
       "model_id": "",
       "version_major": 2,
       "version_minor": 0
      },
      "text/plain": [
       "HBox(children=(IntProgress(value=0, description='2nd loop', max=30, style=ProgressStyle(description_width='ini…"
      ]
     },
     "metadata": {},
     "output_type": "display_data"
    },
    {
     "data": {
      "application/vnd.jupyter.widget-view+json": {
       "model_id": "",
       "version_major": 2,
       "version_minor": 0
      },
      "text/plain": [
       "HBox(children=(IntProgress(value=0, description='2nd loop', max=30, style=ProgressStyle(description_width='ini…"
      ]
     },
     "metadata": {},
     "output_type": "display_data"
    },
    {
     "data": {
      "application/vnd.jupyter.widget-view+json": {
       "model_id": "",
       "version_major": 2,
       "version_minor": 0
      },
      "text/plain": [
       "HBox(children=(IntProgress(value=0, description='2nd loop', max=30, style=ProgressStyle(description_width='ini…"
      ]
     },
     "metadata": {},
     "output_type": "display_data"
    },
    {
     "data": {
      "application/vnd.jupyter.widget-view+json": {
       "model_id": "",
       "version_major": 2,
       "version_minor": 0
      },
      "text/plain": [
       "HBox(children=(IntProgress(value=0, description='2nd loop', max=30, style=ProgressStyle(description_width='ini…"
      ]
     },
     "metadata": {},
     "output_type": "display_data"
    },
    {
     "data": {
      "application/vnd.jupyter.widget-view+json": {
       "model_id": "",
       "version_major": 2,
       "version_minor": 0
      },
      "text/plain": [
       "HBox(children=(IntProgress(value=0, description='2nd loop', max=30, style=ProgressStyle(description_width='ini…"
      ]
     },
     "metadata": {},
     "output_type": "display_data"
    },
    {
     "data": {
      "application/vnd.jupyter.widget-view+json": {
       "model_id": "",
       "version_major": 2,
       "version_minor": 0
      },
      "text/plain": [
       "HBox(children=(IntProgress(value=0, description='2nd loop', max=30, style=ProgressStyle(description_width='ini…"
      ]
     },
     "metadata": {},
     "output_type": "display_data"
    },
    {
     "data": {
      "application/vnd.jupyter.widget-view+json": {
       "model_id": "",
       "version_major": 2,
       "version_minor": 0
      },
      "text/plain": [
       "HBox(children=(IntProgress(value=0, description='2nd loop', max=30, style=ProgressStyle(description_width='ini…"
      ]
     },
     "metadata": {},
     "output_type": "display_data"
    },
    {
     "data": {
      "application/vnd.jupyter.widget-view+json": {
       "model_id": "",
       "version_major": 2,
       "version_minor": 0
      },
      "text/plain": [
       "HBox(children=(IntProgress(value=0, description='2nd loop', max=30, style=ProgressStyle(description_width='ini…"
      ]
     },
     "metadata": {},
     "output_type": "display_data"
    },
    {
     "data": {
      "application/vnd.jupyter.widget-view+json": {
       "model_id": "",
       "version_major": 2,
       "version_minor": 0
      },
      "text/plain": [
       "HBox(children=(IntProgress(value=0, description='2nd loop', max=30, style=ProgressStyle(description_width='ini…"
      ]
     },
     "metadata": {},
     "output_type": "display_data"
    },
    {
     "data": {
      "application/vnd.jupyter.widget-view+json": {
       "model_id": "",
       "version_major": 2,
       "version_minor": 0
      },
      "text/plain": [
       "HBox(children=(IntProgress(value=0, description='2nd loop', max=30, style=ProgressStyle(description_width='ini…"
      ]
     },
     "metadata": {},
     "output_type": "display_data"
    },
    {
     "data": {
      "application/vnd.jupyter.widget-view+json": {
       "model_id": "",
       "version_major": 2,
       "version_minor": 0
      },
      "text/plain": [
       "HBox(children=(IntProgress(value=0, description='2nd loop', max=30, style=ProgressStyle(description_width='ini…"
      ]
     },
     "metadata": {},
     "output_type": "display_data"
    },
    {
     "data": {
      "application/vnd.jupyter.widget-view+json": {
       "model_id": "",
       "version_major": 2,
       "version_minor": 0
      },
      "text/plain": [
       "HBox(children=(IntProgress(value=0, description='2nd loop', max=30, style=ProgressStyle(description_width='ini…"
      ]
     },
     "metadata": {},
     "output_type": "display_data"
    },
    {
     "data": {
      "application/vnd.jupyter.widget-view+json": {
       "model_id": "",
       "version_major": 2,
       "version_minor": 0
      },
      "text/plain": [
       "HBox(children=(IntProgress(value=0, description='2nd loop', max=30, style=ProgressStyle(description_width='ini…"
      ]
     },
     "metadata": {},
     "output_type": "display_data"
    },
    {
     "data": {
      "application/vnd.jupyter.widget-view+json": {
       "model_id": "",
       "version_major": 2,
       "version_minor": 0
      },
      "text/plain": [
       "HBox(children=(IntProgress(value=0, description='2nd loop', max=30, style=ProgressStyle(description_width='ini…"
      ]
     },
     "metadata": {},
     "output_type": "display_data"
    },
    {
     "data": {
      "application/vnd.jupyter.widget-view+json": {
       "model_id": "",
       "version_major": 2,
       "version_minor": 0
      },
      "text/plain": [
       "HBox(children=(IntProgress(value=0, description='2nd loop', max=30, style=ProgressStyle(description_width='ini…"
      ]
     },
     "metadata": {},
     "output_type": "display_data"
    },
    {
     "data": {
      "application/vnd.jupyter.widget-view+json": {
       "model_id": "",
       "version_major": 2,
       "version_minor": 0
      },
      "text/plain": [
       "HBox(children=(IntProgress(value=0, description='2nd loop', max=30, style=ProgressStyle(description_width='ini…"
      ]
     },
     "metadata": {},
     "output_type": "display_data"
    },
    {
     "data": {
      "application/vnd.jupyter.widget-view+json": {
       "model_id": "",
       "version_major": 2,
       "version_minor": 0
      },
      "text/plain": [
       "HBox(children=(IntProgress(value=0, description='2nd loop', max=30, style=ProgressStyle(description_width='ini…"
      ]
     },
     "metadata": {},
     "output_type": "display_data"
    },
    {
     "data": {
      "application/vnd.jupyter.widget-view+json": {
       "model_id": "",
       "version_major": 2,
       "version_minor": 0
      },
      "text/plain": [
       "HBox(children=(IntProgress(value=0, description='2nd loop', max=30, style=ProgressStyle(description_width='ini…"
      ]
     },
     "metadata": {},
     "output_type": "display_data"
    },
    {
     "data": {
      "application/vnd.jupyter.widget-view+json": {
       "model_id": "",
       "version_major": 2,
       "version_minor": 0
      },
      "text/plain": [
       "HBox(children=(IntProgress(value=0, description='2nd loop', max=30, style=ProgressStyle(description_width='ini…"
      ]
     },
     "metadata": {},
     "output_type": "display_data"
    },
    {
     "data": {
      "application/vnd.jupyter.widget-view+json": {
       "model_id": "",
       "version_major": 2,
       "version_minor": 0
      },
      "text/plain": [
       "HBox(children=(IntProgress(value=0, description='2nd loop', max=30, style=ProgressStyle(description_width='ini…"
      ]
     },
     "metadata": {},
     "output_type": "display_data"
    },
    {
     "data": {
      "application/vnd.jupyter.widget-view+json": {
       "model_id": "",
       "version_major": 2,
       "version_minor": 0
      },
      "text/plain": [
       "HBox(children=(IntProgress(value=0, description='2nd loop', max=30, style=ProgressStyle(description_width='ini…"
      ]
     },
     "metadata": {},
     "output_type": "display_data"
    },
    {
     "data": {
      "application/vnd.jupyter.widget-view+json": {
       "model_id": "",
       "version_major": 2,
       "version_minor": 0
      },
      "text/plain": [
       "HBox(children=(IntProgress(value=0, description='2nd loop', max=30, style=ProgressStyle(description_width='ini…"
      ]
     },
     "metadata": {},
     "output_type": "display_data"
    },
    {
     "data": {
      "application/vnd.jupyter.widget-view+json": {
       "model_id": "",
       "version_major": 2,
       "version_minor": 0
      },
      "text/plain": [
       "HBox(children=(IntProgress(value=0, description='2nd loop', max=30, style=ProgressStyle(description_width='ini…"
      ]
     },
     "metadata": {},
     "output_type": "display_data"
    },
    {
     "data": {
      "application/vnd.jupyter.widget-view+json": {
       "model_id": "",
       "version_major": 2,
       "version_minor": 0
      },
      "text/plain": [
       "HBox(children=(IntProgress(value=0, description='2nd loop', max=30, style=ProgressStyle(description_width='ini…"
      ]
     },
     "metadata": {},
     "output_type": "display_data"
    },
    {
     "data": {
      "application/vnd.jupyter.widget-view+json": {
       "model_id": "",
       "version_major": 2,
       "version_minor": 0
      },
      "text/plain": [
       "HBox(children=(IntProgress(value=0, description='2nd loop', max=30, style=ProgressStyle(description_width='ini…"
      ]
     },
     "metadata": {},
     "output_type": "display_data"
    },
    {
     "data": {
      "application/vnd.jupyter.widget-view+json": {
       "model_id": "",
       "version_major": 2,
       "version_minor": 0
      },
      "text/plain": [
       "HBox(children=(IntProgress(value=0, description='2nd loop', max=30, style=ProgressStyle(description_width='ini…"
      ]
     },
     "metadata": {},
     "output_type": "display_data"
    },
    {
     "data": {
      "application/vnd.jupyter.widget-view+json": {
       "model_id": "",
       "version_major": 2,
       "version_minor": 0
      },
      "text/plain": [
       "HBox(children=(IntProgress(value=0, description='2nd loop', max=30, style=ProgressStyle(description_width='ini…"
      ]
     },
     "metadata": {},
     "output_type": "display_data"
    },
    {
     "data": {
      "application/vnd.jupyter.widget-view+json": {
       "model_id": "",
       "version_major": 2,
       "version_minor": 0
      },
      "text/plain": [
       "HBox(children=(IntProgress(value=0, description='2nd loop', max=30, style=ProgressStyle(description_width='ini…"
      ]
     },
     "metadata": {},
     "output_type": "display_data"
    },
    {
     "data": {
      "application/vnd.jupyter.widget-view+json": {
       "model_id": "",
       "version_major": 2,
       "version_minor": 0
      },
      "text/plain": [
       "HBox(children=(IntProgress(value=0, description='2nd loop', max=30, style=ProgressStyle(description_width='ini…"
      ]
     },
     "metadata": {},
     "output_type": "display_data"
    },
    {
     "data": {
      "application/vnd.jupyter.widget-view+json": {
       "model_id": "",
       "version_major": 2,
       "version_minor": 0
      },
      "text/plain": [
       "HBox(children=(IntProgress(value=0, description='2nd loop', max=30, style=ProgressStyle(description_width='ini…"
      ]
     },
     "metadata": {},
     "output_type": "display_data"
    },
    {
     "data": {
      "application/vnd.jupyter.widget-view+json": {
       "model_id": "",
       "version_major": 2,
       "version_minor": 0
      },
      "text/plain": [
       "HBox(children=(IntProgress(value=0, description='2nd loop', max=30, style=ProgressStyle(description_width='ini…"
      ]
     },
     "metadata": {},
     "output_type": "display_data"
    },
    {
     "data": {
      "application/vnd.jupyter.widget-view+json": {
       "model_id": "",
       "version_major": 2,
       "version_minor": 0
      },
      "text/plain": [
       "HBox(children=(IntProgress(value=0, description='2nd loop', max=30, style=ProgressStyle(description_width='ini…"
      ]
     },
     "metadata": {},
     "output_type": "display_data"
    },
    {
     "data": {
      "application/vnd.jupyter.widget-view+json": {
       "model_id": "",
       "version_major": 2,
       "version_minor": 0
      },
      "text/plain": [
       "HBox(children=(IntProgress(value=0, description='2nd loop', max=30, style=ProgressStyle(description_width='ini…"
      ]
     },
     "metadata": {},
     "output_type": "display_data"
    },
    {
     "data": {
      "application/vnd.jupyter.widget-view+json": {
       "model_id": "",
       "version_major": 2,
       "version_minor": 0
      },
      "text/plain": [
       "HBox(children=(IntProgress(value=0, description='2nd loop', max=30, style=ProgressStyle(description_width='ini…"
      ]
     },
     "metadata": {},
     "output_type": "display_data"
    },
    {
     "data": {
      "application/vnd.jupyter.widget-view+json": {
       "model_id": "",
       "version_major": 2,
       "version_minor": 0
      },
      "text/plain": [
       "HBox(children=(IntProgress(value=0, description='2nd loop', max=30, style=ProgressStyle(description_width='ini…"
      ]
     },
     "metadata": {},
     "output_type": "display_data"
    },
    {
     "data": {
      "application/vnd.jupyter.widget-view+json": {
       "model_id": "",
       "version_major": 2,
       "version_minor": 0
      },
      "text/plain": [
       "HBox(children=(IntProgress(value=0, description='2nd loop', max=30, style=ProgressStyle(description_width='ini…"
      ]
     },
     "metadata": {},
     "output_type": "display_data"
    },
    {
     "data": {
      "application/vnd.jupyter.widget-view+json": {
       "model_id": "",
       "version_major": 2,
       "version_minor": 0
      },
      "text/plain": [
       "HBox(children=(IntProgress(value=0, description='2nd loop', max=30, style=ProgressStyle(description_width='ini…"
      ]
     },
     "metadata": {},
     "output_type": "display_data"
    },
    {
     "data": {
      "application/vnd.jupyter.widget-view+json": {
       "model_id": "",
       "version_major": 2,
       "version_minor": 0
      },
      "text/plain": [
       "HBox(children=(IntProgress(value=0, description='2nd loop', max=30, style=ProgressStyle(description_width='ini…"
      ]
     },
     "metadata": {},
     "output_type": "display_data"
    },
    {
     "data": {
      "application/vnd.jupyter.widget-view+json": {
       "model_id": "",
       "version_major": 2,
       "version_minor": 0
      },
      "text/plain": [
       "HBox(children=(IntProgress(value=0, description='2nd loop', max=30, style=ProgressStyle(description_width='ini…"
      ]
     },
     "metadata": {},
     "output_type": "display_data"
    },
    {
     "data": {
      "application/vnd.jupyter.widget-view+json": {
       "model_id": "",
       "version_major": 2,
       "version_minor": 0
      },
      "text/plain": [
       "HBox(children=(IntProgress(value=0, description='2nd loop', max=30, style=ProgressStyle(description_width='ini…"
      ]
     },
     "metadata": {},
     "output_type": "display_data"
    },
    {
     "data": {
      "application/vnd.jupyter.widget-view+json": {
       "model_id": "",
       "version_major": 2,
       "version_minor": 0
      },
      "text/plain": [
       "HBox(children=(IntProgress(value=0, description='2nd loop', max=30, style=ProgressStyle(description_width='ini…"
      ]
     },
     "metadata": {},
     "output_type": "display_data"
    },
    {
     "data": {
      "application/vnd.jupyter.widget-view+json": {
       "model_id": "",
       "version_major": 2,
       "version_minor": 0
      },
      "text/plain": [
       "HBox(children=(IntProgress(value=0, description='2nd loop', max=30, style=ProgressStyle(description_width='ini…"
      ]
     },
     "metadata": {},
     "output_type": "display_data"
    },
    {
     "data": {
      "application/vnd.jupyter.widget-view+json": {
       "model_id": "",
       "version_major": 2,
       "version_minor": 0
      },
      "text/plain": [
       "HBox(children=(IntProgress(value=0, description='2nd loop', max=30, style=ProgressStyle(description_width='ini…"
      ]
     },
     "metadata": {},
     "output_type": "display_data"
    },
    {
     "data": {
      "application/vnd.jupyter.widget-view+json": {
       "model_id": "",
       "version_major": 2,
       "version_minor": 0
      },
      "text/plain": [
       "HBox(children=(IntProgress(value=0, description='2nd loop', max=30, style=ProgressStyle(description_width='ini…"
      ]
     },
     "metadata": {},
     "output_type": "display_data"
    },
    {
     "data": {
      "application/vnd.jupyter.widget-view+json": {
       "model_id": "",
       "version_major": 2,
       "version_minor": 0
      },
      "text/plain": [
       "HBox(children=(IntProgress(value=0, description='2nd loop', max=30, style=ProgressStyle(description_width='ini…"
      ]
     },
     "metadata": {},
     "output_type": "display_data"
    },
    {
     "data": {
      "application/vnd.jupyter.widget-view+json": {
       "model_id": "",
       "version_major": 2,
       "version_minor": 0
      },
      "text/plain": [
       "HBox(children=(IntProgress(value=0, description='2nd loop', max=30, style=ProgressStyle(description_width='ini…"
      ]
     },
     "metadata": {},
     "output_type": "display_data"
    },
    {
     "data": {
      "application/vnd.jupyter.widget-view+json": {
       "model_id": "",
       "version_major": 2,
       "version_minor": 0
      },
      "text/plain": [
       "HBox(children=(IntProgress(value=0, description='2nd loop', max=30, style=ProgressStyle(description_width='ini…"
      ]
     },
     "metadata": {},
     "output_type": "display_data"
    },
    {
     "data": {
      "application/vnd.jupyter.widget-view+json": {
       "model_id": "",
       "version_major": 2,
       "version_minor": 0
      },
      "text/plain": [
       "HBox(children=(IntProgress(value=0, description='2nd loop', max=30, style=ProgressStyle(description_width='ini…"
      ]
     },
     "metadata": {},
     "output_type": "display_data"
    },
    {
     "data": {
      "application/vnd.jupyter.widget-view+json": {
       "model_id": "",
       "version_major": 2,
       "version_minor": 0
      },
      "text/plain": [
       "HBox(children=(IntProgress(value=0, description='2nd loop', max=30, style=ProgressStyle(description_width='ini…"
      ]
     },
     "metadata": {},
     "output_type": "display_data"
    },
    {
     "data": {
      "application/vnd.jupyter.widget-view+json": {
       "model_id": "",
       "version_major": 2,
       "version_minor": 0
      },
      "text/plain": [
       "HBox(children=(IntProgress(value=0, description='2nd loop', max=30, style=ProgressStyle(description_width='ini…"
      ]
     },
     "metadata": {},
     "output_type": "display_data"
    },
    {
     "data": {
      "application/vnd.jupyter.widget-view+json": {
       "model_id": "",
       "version_major": 2,
       "version_minor": 0
      },
      "text/plain": [
       "HBox(children=(IntProgress(value=0, description='2nd loop', max=30, style=ProgressStyle(description_width='ini…"
      ]
     },
     "metadata": {},
     "output_type": "display_data"
    },
    {
     "data": {
      "application/vnd.jupyter.widget-view+json": {
       "model_id": "",
       "version_major": 2,
       "version_minor": 0
      },
      "text/plain": [
       "HBox(children=(IntProgress(value=0, description='2nd loop', max=30, style=ProgressStyle(description_width='ini…"
      ]
     },
     "metadata": {},
     "output_type": "display_data"
    },
    {
     "data": {
      "application/vnd.jupyter.widget-view+json": {
       "model_id": "",
       "version_major": 2,
       "version_minor": 0
      },
      "text/plain": [
       "HBox(children=(IntProgress(value=0, description='2nd loop', max=30, style=ProgressStyle(description_width='ini…"
      ]
     },
     "metadata": {},
     "output_type": "display_data"
    },
    {
     "data": {
      "application/vnd.jupyter.widget-view+json": {
       "model_id": "",
       "version_major": 2,
       "version_minor": 0
      },
      "text/plain": [
       "HBox(children=(IntProgress(value=0, description='2nd loop', max=30, style=ProgressStyle(description_width='ini…"
      ]
     },
     "metadata": {},
     "output_type": "display_data"
    },
    {
     "data": {
      "application/vnd.jupyter.widget-view+json": {
       "model_id": "",
       "version_major": 2,
       "version_minor": 0
      },
      "text/plain": [
       "HBox(children=(IntProgress(value=0, description='2nd loop', max=30, style=ProgressStyle(description_width='ini…"
      ]
     },
     "metadata": {},
     "output_type": "display_data"
    },
    {
     "data": {
      "application/vnd.jupyter.widget-view+json": {
       "model_id": "",
       "version_major": 2,
       "version_minor": 0
      },
      "text/plain": [
       "HBox(children=(IntProgress(value=0, description='2nd loop', max=30, style=ProgressStyle(description_width='ini…"
      ]
     },
     "metadata": {},
     "output_type": "display_data"
    },
    {
     "data": {
      "application/vnd.jupyter.widget-view+json": {
       "model_id": "",
       "version_major": 2,
       "version_minor": 0
      },
      "text/plain": [
       "HBox(children=(IntProgress(value=0, description='2nd loop', max=30, style=ProgressStyle(description_width='ini…"
      ]
     },
     "metadata": {},
     "output_type": "display_data"
    },
    {
     "data": {
      "application/vnd.jupyter.widget-view+json": {
       "model_id": "",
       "version_major": 2,
       "version_minor": 0
      },
      "text/plain": [
       "HBox(children=(IntProgress(value=0, description='2nd loop', max=30, style=ProgressStyle(description_width='ini…"
      ]
     },
     "metadata": {},
     "output_type": "display_data"
    },
    {
     "data": {
      "application/vnd.jupyter.widget-view+json": {
       "model_id": "",
       "version_major": 2,
       "version_minor": 0
      },
      "text/plain": [
       "HBox(children=(IntProgress(value=0, description='2nd loop', max=30, style=ProgressStyle(description_width='ini…"
      ]
     },
     "metadata": {},
     "output_type": "display_data"
    },
    {
     "data": {
      "application/vnd.jupyter.widget-view+json": {
       "model_id": "",
       "version_major": 2,
       "version_minor": 0
      },
      "text/plain": [
       "HBox(children=(IntProgress(value=0, description='2nd loop', max=30, style=ProgressStyle(description_width='ini…"
      ]
     },
     "metadata": {},
     "output_type": "display_data"
    },
    {
     "data": {
      "application/vnd.jupyter.widget-view+json": {
       "model_id": "",
       "version_major": 2,
       "version_minor": 0
      },
      "text/plain": [
       "HBox(children=(IntProgress(value=0, description='2nd loop', max=30, style=ProgressStyle(description_width='ini…"
      ]
     },
     "metadata": {},
     "output_type": "display_data"
    },
    {
     "data": {
      "application/vnd.jupyter.widget-view+json": {
       "model_id": "",
       "version_major": 2,
       "version_minor": 0
      },
      "text/plain": [
       "HBox(children=(IntProgress(value=0, description='2nd loop', max=30, style=ProgressStyle(description_width='ini…"
      ]
     },
     "metadata": {},
     "output_type": "display_data"
    },
    {
     "data": {
      "application/vnd.jupyter.widget-view+json": {
       "model_id": "",
       "version_major": 2,
       "version_minor": 0
      },
      "text/plain": [
       "HBox(children=(IntProgress(value=0, description='2nd loop', max=30, style=ProgressStyle(description_width='ini…"
      ]
     },
     "metadata": {},
     "output_type": "display_data"
    },
    {
     "data": {
      "application/vnd.jupyter.widget-view+json": {
       "model_id": "",
       "version_major": 2,
       "version_minor": 0
      },
      "text/plain": [
       "HBox(children=(IntProgress(value=0, description='2nd loop', max=30, style=ProgressStyle(description_width='ini…"
      ]
     },
     "metadata": {},
     "output_type": "display_data"
    },
    {
     "data": {
      "application/vnd.jupyter.widget-view+json": {
       "model_id": "",
       "version_major": 2,
       "version_minor": 0
      },
      "text/plain": [
       "HBox(children=(IntProgress(value=0, description='2nd loop', max=30, style=ProgressStyle(description_width='ini…"
      ]
     },
     "metadata": {},
     "output_type": "display_data"
    },
    {
     "data": {
      "application/vnd.jupyter.widget-view+json": {
       "model_id": "",
       "version_major": 2,
       "version_minor": 0
      },
      "text/plain": [
       "HBox(children=(IntProgress(value=0, description='2nd loop', max=30, style=ProgressStyle(description_width='ini…"
      ]
     },
     "metadata": {},
     "output_type": "display_data"
    },
    {
     "data": {
      "application/vnd.jupyter.widget-view+json": {
       "model_id": "",
       "version_major": 2,
       "version_minor": 0
      },
      "text/plain": [
       "HBox(children=(IntProgress(value=0, description='2nd loop', max=30, style=ProgressStyle(description_width='ini…"
      ]
     },
     "metadata": {},
     "output_type": "display_data"
    },
    {
     "data": {
      "application/vnd.jupyter.widget-view+json": {
       "model_id": "",
       "version_major": 2,
       "version_minor": 0
      },
      "text/plain": [
       "HBox(children=(IntProgress(value=0, description='2nd loop', max=30, style=ProgressStyle(description_width='ini…"
      ]
     },
     "metadata": {},
     "output_type": "display_data"
    },
    {
     "data": {
      "application/vnd.jupyter.widget-view+json": {
       "model_id": "",
       "version_major": 2,
       "version_minor": 0
      },
      "text/plain": [
       "HBox(children=(IntProgress(value=0, description='2nd loop', max=30, style=ProgressStyle(description_width='ini…"
      ]
     },
     "metadata": {},
     "output_type": "display_data"
    },
    {
     "data": {
      "application/vnd.jupyter.widget-view+json": {
       "model_id": "",
       "version_major": 2,
       "version_minor": 0
      },
      "text/plain": [
       "HBox(children=(IntProgress(value=0, description='2nd loop', max=30, style=ProgressStyle(description_width='ini…"
      ]
     },
     "metadata": {},
     "output_type": "display_data"
    },
    {
     "data": {
      "application/vnd.jupyter.widget-view+json": {
       "model_id": "",
       "version_major": 2,
       "version_minor": 0
      },
      "text/plain": [
       "HBox(children=(IntProgress(value=0, description='2nd loop', max=30, style=ProgressStyle(description_width='ini…"
      ]
     },
     "metadata": {},
     "output_type": "display_data"
    },
    {
     "data": {
      "application/vnd.jupyter.widget-view+json": {
       "model_id": "",
       "version_major": 2,
       "version_minor": 0
      },
      "text/plain": [
       "HBox(children=(IntProgress(value=0, description='2nd loop', max=30, style=ProgressStyle(description_width='ini…"
      ]
     },
     "metadata": {},
     "output_type": "display_data"
    },
    {
     "data": {
      "application/vnd.jupyter.widget-view+json": {
       "model_id": "",
       "version_major": 2,
       "version_minor": 0
      },
      "text/plain": [
       "HBox(children=(IntProgress(value=0, description='2nd loop', max=30, style=ProgressStyle(description_width='ini…"
      ]
     },
     "metadata": {},
     "output_type": "display_data"
    },
    {
     "data": {
      "application/vnd.jupyter.widget-view+json": {
       "model_id": "",
       "version_major": 2,
       "version_minor": 0
      },
      "text/plain": [
       "HBox(children=(IntProgress(value=0, description='2nd loop', max=30, style=ProgressStyle(description_width='ini…"
      ]
     },
     "metadata": {},
     "output_type": "display_data"
    },
    {
     "data": {
      "application/vnd.jupyter.widget-view+json": {
       "model_id": "",
       "version_major": 2,
       "version_minor": 0
      },
      "text/plain": [
       "HBox(children=(IntProgress(value=0, description='2nd loop', max=30, style=ProgressStyle(description_width='ini…"
      ]
     },
     "metadata": {},
     "output_type": "display_data"
    },
    {
     "data": {
      "application/vnd.jupyter.widget-view+json": {
       "model_id": "",
       "version_major": 2,
       "version_minor": 0
      },
      "text/plain": [
       "HBox(children=(IntProgress(value=0, description='2nd loop', max=30, style=ProgressStyle(description_width='ini…"
      ]
     },
     "metadata": {},
     "output_type": "display_data"
    },
    {
     "data": {
      "application/vnd.jupyter.widget-view+json": {
       "model_id": "",
       "version_major": 2,
       "version_minor": 0
      },
      "text/plain": [
       "HBox(children=(IntProgress(value=0, description='2nd loop', max=30, style=ProgressStyle(description_width='ini…"
      ]
     },
     "metadata": {},
     "output_type": "display_data"
    },
    {
     "data": {
      "application/vnd.jupyter.widget-view+json": {
       "model_id": "",
       "version_major": 2,
       "version_minor": 0
      },
      "text/plain": [
       "HBox(children=(IntProgress(value=0, description='2nd loop', max=30, style=ProgressStyle(description_width='ini…"
      ]
     },
     "metadata": {},
     "output_type": "display_data"
    },
    {
     "data": {
      "application/vnd.jupyter.widget-view+json": {
       "model_id": "",
       "version_major": 2,
       "version_minor": 0
      },
      "text/plain": [
       "HBox(children=(IntProgress(value=0, description='2nd loop', max=30, style=ProgressStyle(description_width='ini…"
      ]
     },
     "metadata": {},
     "output_type": "display_data"
    },
    {
     "data": {
      "application/vnd.jupyter.widget-view+json": {
       "model_id": "",
       "version_major": 2,
       "version_minor": 0
      },
      "text/plain": [
       "HBox(children=(IntProgress(value=0, description='2nd loop', max=30, style=ProgressStyle(description_width='ini…"
      ]
     },
     "metadata": {},
     "output_type": "display_data"
    },
    {
     "data": {
      "application/vnd.jupyter.widget-view+json": {
       "model_id": "",
       "version_major": 2,
       "version_minor": 0
      },
      "text/plain": [
       "HBox(children=(IntProgress(value=0, description='2nd loop', max=30, style=ProgressStyle(description_width='ini…"
      ]
     },
     "metadata": {},
     "output_type": "display_data"
    },
    {
     "data": {
      "application/vnd.jupyter.widget-view+json": {
       "model_id": "",
       "version_major": 2,
       "version_minor": 0
      },
      "text/plain": [
       "HBox(children=(IntProgress(value=0, description='2nd loop', max=30, style=ProgressStyle(description_width='ini…"
      ]
     },
     "metadata": {},
     "output_type": "display_data"
    },
    {
     "data": {
      "application/vnd.jupyter.widget-view+json": {
       "model_id": "",
       "version_major": 2,
       "version_minor": 0
      },
      "text/plain": [
       "HBox(children=(IntProgress(value=0, description='2nd loop', max=30, style=ProgressStyle(description_width='ini…"
      ]
     },
     "metadata": {},
     "output_type": "display_data"
    },
    {
     "data": {
      "application/vnd.jupyter.widget-view+json": {
       "model_id": "",
       "version_major": 2,
       "version_minor": 0
      },
      "text/plain": [
       "HBox(children=(IntProgress(value=0, description='2nd loop', max=30, style=ProgressStyle(description_width='ini…"
      ]
     },
     "metadata": {},
     "output_type": "display_data"
    },
    {
     "data": {
      "application/vnd.jupyter.widget-view+json": {
       "model_id": "",
       "version_major": 2,
       "version_minor": 0
      },
      "text/plain": [
       "HBox(children=(IntProgress(value=0, description='2nd loop', max=30, style=ProgressStyle(description_width='ini…"
      ]
     },
     "metadata": {},
     "output_type": "display_data"
    },
    {
     "data": {
      "application/vnd.jupyter.widget-view+json": {
       "model_id": "",
       "version_major": 2,
       "version_minor": 0
      },
      "text/plain": [
       "HBox(children=(IntProgress(value=0, description='2nd loop', max=30, style=ProgressStyle(description_width='ini…"
      ]
     },
     "metadata": {},
     "output_type": "display_data"
    },
    {
     "data": {
      "application/vnd.jupyter.widget-view+json": {
       "model_id": "",
       "version_major": 2,
       "version_minor": 0
      },
      "text/plain": [
       "HBox(children=(IntProgress(value=0, description='2nd loop', max=30, style=ProgressStyle(description_width='ini…"
      ]
     },
     "metadata": {},
     "output_type": "display_data"
    },
    {
     "data": {
      "application/vnd.jupyter.widget-view+json": {
       "model_id": "",
       "version_major": 2,
       "version_minor": 0
      },
      "text/plain": [
       "HBox(children=(IntProgress(value=0, description='2nd loop', max=30, style=ProgressStyle(description_width='ini…"
      ]
     },
     "metadata": {},
     "output_type": "display_data"
    },
    {
     "data": {
      "application/vnd.jupyter.widget-view+json": {
       "model_id": "",
       "version_major": 2,
       "version_minor": 0
      },
      "text/plain": [
       "HBox(children=(IntProgress(value=0, description='2nd loop', max=30, style=ProgressStyle(description_width='ini…"
      ]
     },
     "metadata": {},
     "output_type": "display_data"
    },
    {
     "data": {
      "application/vnd.jupyter.widget-view+json": {
       "model_id": "",
       "version_major": 2,
       "version_minor": 0
      },
      "text/plain": [
       "HBox(children=(IntProgress(value=0, description='2nd loop', max=30, style=ProgressStyle(description_width='ini…"
      ]
     },
     "metadata": {},
     "output_type": "display_data"
    },
    {
     "data": {
      "application/vnd.jupyter.widget-view+json": {
       "model_id": "",
       "version_major": 2,
       "version_minor": 0
      },
      "text/plain": [
       "HBox(children=(IntProgress(value=0, description='2nd loop', max=30, style=ProgressStyle(description_width='ini…"
      ]
     },
     "metadata": {},
     "output_type": "display_data"
    },
    {
     "data": {
      "application/vnd.jupyter.widget-view+json": {
       "model_id": "",
       "version_major": 2,
       "version_minor": 0
      },
      "text/plain": [
       "HBox(children=(IntProgress(value=0, description='2nd loop', max=30, style=ProgressStyle(description_width='ini…"
      ]
     },
     "metadata": {},
     "output_type": "display_data"
    },
    {
     "data": {
      "application/vnd.jupyter.widget-view+json": {
       "model_id": "",
       "version_major": 2,
       "version_minor": 0
      },
      "text/plain": [
       "HBox(children=(IntProgress(value=0, description='2nd loop', max=30, style=ProgressStyle(description_width='ini…"
      ]
     },
     "metadata": {},
     "output_type": "display_data"
    },
    {
     "data": {
      "application/vnd.jupyter.widget-view+json": {
       "model_id": "",
       "version_major": 2,
       "version_minor": 0
      },
      "text/plain": [
       "HBox(children=(IntProgress(value=0, description='2nd loop', max=30, style=ProgressStyle(description_width='ini…"
      ]
     },
     "metadata": {},
     "output_type": "display_data"
    },
    {
     "data": {
      "application/vnd.jupyter.widget-view+json": {
       "model_id": "",
       "version_major": 2,
       "version_minor": 0
      },
      "text/plain": [
       "HBox(children=(IntProgress(value=0, description='2nd loop', max=30, style=ProgressStyle(description_width='ini…"
      ]
     },
     "metadata": {},
     "output_type": "display_data"
    },
    {
     "data": {
      "application/vnd.jupyter.widget-view+json": {
       "model_id": "",
       "version_major": 2,
       "version_minor": 0
      },
      "text/plain": [
       "HBox(children=(IntProgress(value=0, description='2nd loop', max=30, style=ProgressStyle(description_width='ini…"
      ]
     },
     "metadata": {},
     "output_type": "display_data"
    },
    {
     "data": {
      "application/vnd.jupyter.widget-view+json": {
       "model_id": "",
       "version_major": 2,
       "version_minor": 0
      },
      "text/plain": [
       "HBox(children=(IntProgress(value=0, description='2nd loop', max=30, style=ProgressStyle(description_width='ini…"
      ]
     },
     "metadata": {},
     "output_type": "display_data"
    },
    {
     "data": {
      "application/vnd.jupyter.widget-view+json": {
       "model_id": "",
       "version_major": 2,
       "version_minor": 0
      },
      "text/plain": [
       "HBox(children=(IntProgress(value=0, description='2nd loop', max=30, style=ProgressStyle(description_width='ini…"
      ]
     },
     "metadata": {},
     "output_type": "display_data"
    },
    {
     "data": {
      "application/vnd.jupyter.widget-view+json": {
       "model_id": "",
       "version_major": 2,
       "version_minor": 0
      },
      "text/plain": [
       "HBox(children=(IntProgress(value=0, description='2nd loop', max=30, style=ProgressStyle(description_width='ini…"
      ]
     },
     "metadata": {},
     "output_type": "display_data"
    },
    {
     "data": {
      "application/vnd.jupyter.widget-view+json": {
       "model_id": "",
       "version_major": 2,
       "version_minor": 0
      },
      "text/plain": [
       "HBox(children=(IntProgress(value=0, description='2nd loop', max=30, style=ProgressStyle(description_width='ini…"
      ]
     },
     "metadata": {},
     "output_type": "display_data"
    },
    {
     "data": {
      "application/vnd.jupyter.widget-view+json": {
       "model_id": "",
       "version_major": 2,
       "version_minor": 0
      },
      "text/plain": [
       "HBox(children=(IntProgress(value=0, description='2nd loop', max=30, style=ProgressStyle(description_width='ini…"
      ]
     },
     "metadata": {},
     "output_type": "display_data"
    },
    {
     "data": {
      "application/vnd.jupyter.widget-view+json": {
       "model_id": "",
       "version_major": 2,
       "version_minor": 0
      },
      "text/plain": [
       "HBox(children=(IntProgress(value=0, description='2nd loop', max=30, style=ProgressStyle(description_width='ini…"
      ]
     },
     "metadata": {},
     "output_type": "display_data"
    },
    {
     "data": {
      "application/vnd.jupyter.widget-view+json": {
       "model_id": "",
       "version_major": 2,
       "version_minor": 0
      },
      "text/plain": [
       "HBox(children=(IntProgress(value=0, description='2nd loop', max=30, style=ProgressStyle(description_width='ini…"
      ]
     },
     "metadata": {},
     "output_type": "display_data"
    },
    {
     "data": {
      "application/vnd.jupyter.widget-view+json": {
       "model_id": "",
       "version_major": 2,
       "version_minor": 0
      },
      "text/plain": [
       "HBox(children=(IntProgress(value=0, description='2nd loop', max=30, style=ProgressStyle(description_width='ini…"
      ]
     },
     "metadata": {},
     "output_type": "display_data"
    },
    {
     "data": {
      "application/vnd.jupyter.widget-view+json": {
       "model_id": "",
       "version_major": 2,
       "version_minor": 0
      },
      "text/plain": [
       "HBox(children=(IntProgress(value=0, description='2nd loop', max=30, style=ProgressStyle(description_width='ini…"
      ]
     },
     "metadata": {},
     "output_type": "display_data"
    },
    {
     "data": {
      "application/vnd.jupyter.widget-view+json": {
       "model_id": "",
       "version_major": 2,
       "version_minor": 0
      },
      "text/plain": [
       "HBox(children=(IntProgress(value=0, description='2nd loop', max=30, style=ProgressStyle(description_width='ini…"
      ]
     },
     "metadata": {},
     "output_type": "display_data"
    },
    {
     "data": {
      "application/vnd.jupyter.widget-view+json": {
       "model_id": "",
       "version_major": 2,
       "version_minor": 0
      },
      "text/plain": [
       "HBox(children=(IntProgress(value=0, description='2nd loop', max=30, style=ProgressStyle(description_width='ini…"
      ]
     },
     "metadata": {},
     "output_type": "display_data"
    },
    {
     "data": {
      "application/vnd.jupyter.widget-view+json": {
       "model_id": "",
       "version_major": 2,
       "version_minor": 0
      },
      "text/plain": [
       "HBox(children=(IntProgress(value=0, description='2nd loop', max=30, style=ProgressStyle(description_width='ini…"
      ]
     },
     "metadata": {},
     "output_type": "display_data"
    },
    {
     "data": {
      "application/vnd.jupyter.widget-view+json": {
       "model_id": "",
       "version_major": 2,
       "version_minor": 0
      },
      "text/plain": [
       "HBox(children=(IntProgress(value=0, description='2nd loop', max=30, style=ProgressStyle(description_width='ini…"
      ]
     },
     "metadata": {},
     "output_type": "display_data"
    },
    {
     "data": {
      "application/vnd.jupyter.widget-view+json": {
       "model_id": "",
       "version_major": 2,
       "version_minor": 0
      },
      "text/plain": [
       "HBox(children=(IntProgress(value=0, description='2nd loop', max=30, style=ProgressStyle(description_width='ini…"
      ]
     },
     "metadata": {},
     "output_type": "display_data"
    },
    {
     "data": {
      "application/vnd.jupyter.widget-view+json": {
       "model_id": "",
       "version_major": 2,
       "version_minor": 0
      },
      "text/plain": [
       "HBox(children=(IntProgress(value=0, description='2nd loop', max=30, style=ProgressStyle(description_width='ini…"
      ]
     },
     "metadata": {},
     "output_type": "display_data"
    },
    {
     "data": {
      "application/vnd.jupyter.widget-view+json": {
       "model_id": "",
       "version_major": 2,
       "version_minor": 0
      },
      "text/plain": [
       "HBox(children=(IntProgress(value=0, description='2nd loop', max=30, style=ProgressStyle(description_width='ini…"
      ]
     },
     "metadata": {},
     "output_type": "display_data"
    },
    {
     "data": {
      "application/vnd.jupyter.widget-view+json": {
       "model_id": "",
       "version_major": 2,
       "version_minor": 0
      },
      "text/plain": [
       "HBox(children=(IntProgress(value=0, description='2nd loop', max=30, style=ProgressStyle(description_width='ini…"
      ]
     },
     "metadata": {},
     "output_type": "display_data"
    },
    {
     "data": {
      "application/vnd.jupyter.widget-view+json": {
       "model_id": "",
       "version_major": 2,
       "version_minor": 0
      },
      "text/plain": [
       "HBox(children=(IntProgress(value=0, description='2nd loop', max=30, style=ProgressStyle(description_width='ini…"
      ]
     },
     "metadata": {},
     "output_type": "display_data"
    },
    {
     "data": {
      "application/vnd.jupyter.widget-view+json": {
       "model_id": "",
       "version_major": 2,
       "version_minor": 0
      },
      "text/plain": [
       "HBox(children=(IntProgress(value=0, description='2nd loop', max=30, style=ProgressStyle(description_width='ini…"
      ]
     },
     "metadata": {},
     "output_type": "display_data"
    },
    {
     "data": {
      "application/vnd.jupyter.widget-view+json": {
       "model_id": "",
       "version_major": 2,
       "version_minor": 0
      },
      "text/plain": [
       "HBox(children=(IntProgress(value=0, description='2nd loop', max=30, style=ProgressStyle(description_width='ini…"
      ]
     },
     "metadata": {},
     "output_type": "display_data"
    },
    {
     "data": {
      "application/vnd.jupyter.widget-view+json": {
       "model_id": "",
       "version_major": 2,
       "version_minor": 0
      },
      "text/plain": [
       "HBox(children=(IntProgress(value=0, description='2nd loop', max=30, style=ProgressStyle(description_width='ini…"
      ]
     },
     "metadata": {},
     "output_type": "display_data"
    },
    {
     "data": {
      "application/vnd.jupyter.widget-view+json": {
       "model_id": "",
       "version_major": 2,
       "version_minor": 0
      },
      "text/plain": [
       "HBox(children=(IntProgress(value=0, description='2nd loop', max=30, style=ProgressStyle(description_width='ini…"
      ]
     },
     "metadata": {},
     "output_type": "display_data"
    },
    {
     "data": {
      "application/vnd.jupyter.widget-view+json": {
       "model_id": "",
       "version_major": 2,
       "version_minor": 0
      },
      "text/plain": [
       "HBox(children=(IntProgress(value=0, description='2nd loop', max=30, style=ProgressStyle(description_width='ini…"
      ]
     },
     "metadata": {},
     "output_type": "display_data"
    },
    {
     "data": {
      "application/vnd.jupyter.widget-view+json": {
       "model_id": "",
       "version_major": 2,
       "version_minor": 0
      },
      "text/plain": [
       "HBox(children=(IntProgress(value=0, description='2nd loop', max=30, style=ProgressStyle(description_width='ini…"
      ]
     },
     "metadata": {},
     "output_type": "display_data"
    },
    {
     "data": {
      "application/vnd.jupyter.widget-view+json": {
       "model_id": "",
       "version_major": 2,
       "version_minor": 0
      },
      "text/plain": [
       "HBox(children=(IntProgress(value=0, description='2nd loop', max=30, style=ProgressStyle(description_width='ini…"
      ]
     },
     "metadata": {},
     "output_type": "display_data"
    },
    {
     "data": {
      "application/vnd.jupyter.widget-view+json": {
       "model_id": "",
       "version_major": 2,
       "version_minor": 0
      },
      "text/plain": [
       "HBox(children=(IntProgress(value=0, description='2nd loop', max=30, style=ProgressStyle(description_width='ini…"
      ]
     },
     "metadata": {},
     "output_type": "display_data"
    },
    {
     "data": {
      "application/vnd.jupyter.widget-view+json": {
       "model_id": "",
       "version_major": 2,
       "version_minor": 0
      },
      "text/plain": [
       "HBox(children=(IntProgress(value=0, description='2nd loop', max=30, style=ProgressStyle(description_width='ini…"
      ]
     },
     "metadata": {},
     "output_type": "display_data"
    },
    {
     "data": {
      "application/vnd.jupyter.widget-view+json": {
       "model_id": "",
       "version_major": 2,
       "version_minor": 0
      },
      "text/plain": [
       "HBox(children=(IntProgress(value=0, description='2nd loop', max=30, style=ProgressStyle(description_width='ini…"
      ]
     },
     "metadata": {},
     "output_type": "display_data"
    },
    {
     "data": {
      "application/vnd.jupyter.widget-view+json": {
       "model_id": "",
       "version_major": 2,
       "version_minor": 0
      },
      "text/plain": [
       "HBox(children=(IntProgress(value=0, description='2nd loop', max=30, style=ProgressStyle(description_width='ini…"
      ]
     },
     "metadata": {},
     "output_type": "display_data"
    },
    {
     "data": {
      "application/vnd.jupyter.widget-view+json": {
       "model_id": "",
       "version_major": 2,
       "version_minor": 0
      },
      "text/plain": [
       "HBox(children=(IntProgress(value=0, description='2nd loop', max=30, style=ProgressStyle(description_width='ini…"
      ]
     },
     "metadata": {},
     "output_type": "display_data"
    },
    {
     "data": {
      "application/vnd.jupyter.widget-view+json": {
       "model_id": "",
       "version_major": 2,
       "version_minor": 0
      },
      "text/plain": [
       "HBox(children=(IntProgress(value=0, description='2nd loop', max=30, style=ProgressStyle(description_width='ini…"
      ]
     },
     "metadata": {},
     "output_type": "display_data"
    },
    {
     "data": {
      "application/vnd.jupyter.widget-view+json": {
       "model_id": "",
       "version_major": 2,
       "version_minor": 0
      },
      "text/plain": [
       "HBox(children=(IntProgress(value=0, description='2nd loop', max=30, style=ProgressStyle(description_width='ini…"
      ]
     },
     "metadata": {},
     "output_type": "display_data"
    },
    {
     "data": {
      "application/vnd.jupyter.widget-view+json": {
       "model_id": "",
       "version_major": 2,
       "version_minor": 0
      },
      "text/plain": [
       "HBox(children=(IntProgress(value=0, description='2nd loop', max=30, style=ProgressStyle(description_width='ini…"
      ]
     },
     "metadata": {},
     "output_type": "display_data"
    },
    {
     "data": {
      "application/vnd.jupyter.widget-view+json": {
       "model_id": "",
       "version_major": 2,
       "version_minor": 0
      },
      "text/plain": [
       "HBox(children=(IntProgress(value=0, description='2nd loop', max=30, style=ProgressStyle(description_width='ini…"
      ]
     },
     "metadata": {},
     "output_type": "display_data"
    },
    {
     "data": {
      "application/vnd.jupyter.widget-view+json": {
       "model_id": "",
       "version_major": 2,
       "version_minor": 0
      },
      "text/plain": [
       "HBox(children=(IntProgress(value=0, description='2nd loop', max=30, style=ProgressStyle(description_width='ini…"
      ]
     },
     "metadata": {},
     "output_type": "display_data"
    },
    {
     "data": {
      "application/vnd.jupyter.widget-view+json": {
       "model_id": "",
       "version_major": 2,
       "version_minor": 0
      },
      "text/plain": [
       "HBox(children=(IntProgress(value=0, description='2nd loop', max=30, style=ProgressStyle(description_width='ini…"
      ]
     },
     "metadata": {},
     "output_type": "display_data"
    },
    {
     "data": {
      "application/vnd.jupyter.widget-view+json": {
       "model_id": "",
       "version_major": 2,
       "version_minor": 0
      },
      "text/plain": [
       "HBox(children=(IntProgress(value=0, description='2nd loop', max=30, style=ProgressStyle(description_width='ini…"
      ]
     },
     "metadata": {},
     "output_type": "display_data"
    },
    {
     "data": {
      "application/vnd.jupyter.widget-view+json": {
       "model_id": "",
       "version_major": 2,
       "version_minor": 0
      },
      "text/plain": [
       "HBox(children=(IntProgress(value=0, description='2nd loop', max=30, style=ProgressStyle(description_width='ini…"
      ]
     },
     "metadata": {},
     "output_type": "display_data"
    },
    {
     "data": {
      "application/vnd.jupyter.widget-view+json": {
       "model_id": "",
       "version_major": 2,
       "version_minor": 0
      },
      "text/plain": [
       "HBox(children=(IntProgress(value=0, description='2nd loop', max=30, style=ProgressStyle(description_width='ini…"
      ]
     },
     "metadata": {},
     "output_type": "display_data"
    },
    {
     "data": {
      "application/vnd.jupyter.widget-view+json": {
       "model_id": "",
       "version_major": 2,
       "version_minor": 0
      },
      "text/plain": [
       "HBox(children=(IntProgress(value=0, description='2nd loop', max=30, style=ProgressStyle(description_width='ini…"
      ]
     },
     "metadata": {},
     "output_type": "display_data"
    },
    {
     "data": {
      "application/vnd.jupyter.widget-view+json": {
       "model_id": "",
       "version_major": 2,
       "version_minor": 0
      },
      "text/plain": [
       "HBox(children=(IntProgress(value=0, description='2nd loop', max=30, style=ProgressStyle(description_width='ini…"
      ]
     },
     "metadata": {},
     "output_type": "display_data"
    },
    {
     "data": {
      "application/vnd.jupyter.widget-view+json": {
       "model_id": "",
       "version_major": 2,
       "version_minor": 0
      },
      "text/plain": [
       "HBox(children=(IntProgress(value=0, description='2nd loop', max=30, style=ProgressStyle(description_width='ini…"
      ]
     },
     "metadata": {},
     "output_type": "display_data"
    },
    {
     "data": {
      "application/vnd.jupyter.widget-view+json": {
       "model_id": "",
       "version_major": 2,
       "version_minor": 0
      },
      "text/plain": [
       "HBox(children=(IntProgress(value=0, description='2nd loop', max=30, style=ProgressStyle(description_width='ini…"
      ]
     },
     "metadata": {},
     "output_type": "display_data"
    },
    {
     "data": {
      "application/vnd.jupyter.widget-view+json": {
       "model_id": "",
       "version_major": 2,
       "version_minor": 0
      },
      "text/plain": [
       "HBox(children=(IntProgress(value=0, description='2nd loop', max=30, style=ProgressStyle(description_width='ini…"
      ]
     },
     "metadata": {},
     "output_type": "display_data"
    },
    {
     "data": {
      "application/vnd.jupyter.widget-view+json": {
       "model_id": "",
       "version_major": 2,
       "version_minor": 0
      },
      "text/plain": [
       "HBox(children=(IntProgress(value=0, description='2nd loop', max=30, style=ProgressStyle(description_width='ini…"
      ]
     },
     "metadata": {},
     "output_type": "display_data"
    },
    {
     "data": {
      "application/vnd.jupyter.widget-view+json": {
       "model_id": "",
       "version_major": 2,
       "version_minor": 0
      },
      "text/plain": [
       "HBox(children=(IntProgress(value=0, description='2nd loop', max=30, style=ProgressStyle(description_width='ini…"
      ]
     },
     "metadata": {},
     "output_type": "display_data"
    },
    {
     "data": {
      "application/vnd.jupyter.widget-view+json": {
       "model_id": "",
       "version_major": 2,
       "version_minor": 0
      },
      "text/plain": [
       "HBox(children=(IntProgress(value=0, description='2nd loop', max=30, style=ProgressStyle(description_width='ini…"
      ]
     },
     "metadata": {},
     "output_type": "display_data"
    },
    {
     "data": {
      "application/vnd.jupyter.widget-view+json": {
       "model_id": "",
       "version_major": 2,
       "version_minor": 0
      },
      "text/plain": [
       "HBox(children=(IntProgress(value=0, description='2nd loop', max=30, style=ProgressStyle(description_width='ini…"
      ]
     },
     "metadata": {},
     "output_type": "display_data"
    },
    {
     "data": {
      "application/vnd.jupyter.widget-view+json": {
       "model_id": "",
       "version_major": 2,
       "version_minor": 0
      },
      "text/plain": [
       "HBox(children=(IntProgress(value=0, description='2nd loop', max=30, style=ProgressStyle(description_width='ini…"
      ]
     },
     "metadata": {},
     "output_type": "display_data"
    },
    {
     "data": {
      "application/vnd.jupyter.widget-view+json": {
       "model_id": "",
       "version_major": 2,
       "version_minor": 0
      },
      "text/plain": [
       "HBox(children=(IntProgress(value=0, description='2nd loop', max=30, style=ProgressStyle(description_width='ini…"
      ]
     },
     "metadata": {},
     "output_type": "display_data"
    },
    {
     "data": {
      "application/vnd.jupyter.widget-view+json": {
       "model_id": "",
       "version_major": 2,
       "version_minor": 0
      },
      "text/plain": [
       "HBox(children=(IntProgress(value=0, description='2nd loop', max=30, style=ProgressStyle(description_width='ini…"
      ]
     },
     "metadata": {},
     "output_type": "display_data"
    },
    {
     "data": {
      "application/vnd.jupyter.widget-view+json": {
       "model_id": "",
       "version_major": 2,
       "version_minor": 0
      },
      "text/plain": [
       "HBox(children=(IntProgress(value=0, description='2nd loop', max=30, style=ProgressStyle(description_width='ini…"
      ]
     },
     "metadata": {},
     "output_type": "display_data"
    },
    {
     "data": {
      "application/vnd.jupyter.widget-view+json": {
       "model_id": "",
       "version_major": 2,
       "version_minor": 0
      },
      "text/plain": [
       "HBox(children=(IntProgress(value=0, description='2nd loop', max=30, style=ProgressStyle(description_width='ini…"
      ]
     },
     "metadata": {},
     "output_type": "display_data"
    },
    {
     "data": {
      "application/vnd.jupyter.widget-view+json": {
       "model_id": "",
       "version_major": 2,
       "version_minor": 0
      },
      "text/plain": [
       "HBox(children=(IntProgress(value=0, description='2nd loop', max=30, style=ProgressStyle(description_width='ini…"
      ]
     },
     "metadata": {},
     "output_type": "display_data"
    },
    {
     "data": {
      "application/vnd.jupyter.widget-view+json": {
       "model_id": "",
       "version_major": 2,
       "version_minor": 0
      },
      "text/plain": [
       "HBox(children=(IntProgress(value=0, description='2nd loop', max=30, style=ProgressStyle(description_width='ini…"
      ]
     },
     "metadata": {},
     "output_type": "display_data"
    },
    {
     "data": {
      "application/vnd.jupyter.widget-view+json": {
       "model_id": "",
       "version_major": 2,
       "version_minor": 0
      },
      "text/plain": [
       "HBox(children=(IntProgress(value=0, description='2nd loop', max=30, style=ProgressStyle(description_width='ini…"
      ]
     },
     "metadata": {},
     "output_type": "display_data"
    },
    {
     "data": {
      "application/vnd.jupyter.widget-view+json": {
       "model_id": "",
       "version_major": 2,
       "version_minor": 0
      },
      "text/plain": [
       "HBox(children=(IntProgress(value=0, description='2nd loop', max=30, style=ProgressStyle(description_width='ini…"
      ]
     },
     "metadata": {},
     "output_type": "display_data"
    },
    {
     "data": {
      "application/vnd.jupyter.widget-view+json": {
       "model_id": "",
       "version_major": 2,
       "version_minor": 0
      },
      "text/plain": [
       "HBox(children=(IntProgress(value=0, description='2nd loop', max=30, style=ProgressStyle(description_width='ini…"
      ]
     },
     "metadata": {},
     "output_type": "display_data"
    },
    {
     "data": {
      "application/vnd.jupyter.widget-view+json": {
       "model_id": "",
       "version_major": 2,
       "version_minor": 0
      },
      "text/plain": [
       "HBox(children=(IntProgress(value=0, description='2nd loop', max=30, style=ProgressStyle(description_width='ini…"
      ]
     },
     "metadata": {},
     "output_type": "display_data"
    },
    {
     "data": {
      "application/vnd.jupyter.widget-view+json": {
       "model_id": "",
       "version_major": 2,
       "version_minor": 0
      },
      "text/plain": [
       "HBox(children=(IntProgress(value=0, description='2nd loop', max=30, style=ProgressStyle(description_width='ini…"
      ]
     },
     "metadata": {},
     "output_type": "display_data"
    },
    {
     "data": {
      "application/vnd.jupyter.widget-view+json": {
       "model_id": "",
       "version_major": 2,
       "version_minor": 0
      },
      "text/plain": [
       "HBox(children=(IntProgress(value=0, description='2nd loop', max=30, style=ProgressStyle(description_width='ini…"
      ]
     },
     "metadata": {},
     "output_type": "display_data"
    },
    {
     "data": {
      "application/vnd.jupyter.widget-view+json": {
       "model_id": "",
       "version_major": 2,
       "version_minor": 0
      },
      "text/plain": [
       "HBox(children=(IntProgress(value=0, description='2nd loop', max=30, style=ProgressStyle(description_width='ini…"
      ]
     },
     "metadata": {},
     "output_type": "display_data"
    },
    {
     "data": {
      "application/vnd.jupyter.widget-view+json": {
       "model_id": "",
       "version_major": 2,
       "version_minor": 0
      },
      "text/plain": [
       "HBox(children=(IntProgress(value=0, description='2nd loop', max=30, style=ProgressStyle(description_width='ini…"
      ]
     },
     "metadata": {},
     "output_type": "display_data"
    },
    {
     "name": "stdout",
     "output_type": "stream",
     "text": [
      "Hey, I think you've had enough! Let's stop here.\n"
     ]
    }
   ],
   "source": [
    "#@@@@@@@@@@@@@@@@@@@\n",
    "# Learning variables\n",
    "#@@@@@@@@@@@@@@@@@@@\n",
    "q_values = np.zeros((N_STATES,N_ACTIONS)) #initialize to zero\n",
    "#q_values = np.load(\"Q_values.npy\") # or re-use the one already trained\n",
    "reward_score = np.zeros(MAX_EPOCHS)\n",
    "halite_score = np.zeros(MAX_EPOCHS)\n",
    "shipy_pass = np.zeros(MAX_EPOCHS)\n",
    "epochs = 0\n",
    "eps = EPS_START # starting value of epsilon\n",
    "# generate an adaptive epsilon greedy algorithm, calibrated in order to have epsilon = 10^-4 at the last epoch\n",
    "epsilons = np.array(list(map(lambda i : eps*np.exp(-i*2*np.log(10)/MAX_EPOCHS), np.arange(0,MAX_EPOCHS+1))))\n",
    "\n",
    "\n",
    "# visualize online the results\n",
    "%matplotlib notebook\n",
    "fig = plt.figure(figsize = (8,6))\n",
    "plt.ion()\n",
    "\n",
    "ax1 = fig.add_subplot(221)\n",
    "ax1.set_xlim(0,MAX_EPOCHS+1)\n",
    "ax1.set_ylim(0,9000)\n",
    "ax1.set_xlabel(\"Epochs\", fontsize = 14)\n",
    "ax1.set_ylabel(\"Halite collected\", fontsize = 14)\n",
    "\n",
    "ax2 = fig.add_subplot(222)\n",
    "ax2.set_xlim(0,MAX_EPOCHS+1)\n",
    "ax2.set_ylim(-4,5)\n",
    "ax2.set_xlabel(\"Epochs\", fontsize = 14)\n",
    "ax2.set_ylabel(\"Reward\", fontsize = 14)\n",
    "\n",
    "\n",
    "ax3 = fig.add_subplot(223)\n",
    "ax3.set_xlim(0,MAX_EPOCHS+1)\n",
    "ax3.set_ylim(0,0.5)\n",
    "ax3.set_xlabel(\"Epochs\", fontsize = 14)\n",
    "ax3.set_ylabel(\"Epsilon\", fontsize = 14)\n",
    "\n",
    "\n",
    "ax4 = fig.add_subplot(224)\n",
    "ax4.set_xlim(0,MAX_EPOCHS+1)\n",
    "ax4.set_xlabel(\"Epochs\", fontsize = 14)\n",
    "ax4.set_ylabel(\"Shipyard passages\", fontsize = 14)\n",
    "\n",
    "plt.tight_layout()\n",
    "fig.show()\n",
    "fig.canvas.draw()\n",
    "\n",
    "from tqdm import tnrange, trange\n",
    "\n",
    "for k in tnrange(MAX_EPOCHS, desc='1st loop', leave=True):\n",
    "    #@@@@@@@@@@@@@@@@@@@@@@\n",
    "    # here starts an epoch\n",
    "    #@@@@@@@@@@@@@@@@@@@@@@\n",
    "    epochs = epochs + 1\n",
    "    reward_progress = np.zeros(N_BATCH) # bunch of 100 episodes\n",
    "    halite_progress = np.zeros(N_BATCH) # bunch of 100 episodes\n",
    "    shipy_pass_progress = np.zeros(N_BATCH) # bunch of 100 episodes\n",
    "    eps = epsilons[epochs]\n",
    "    # update the dictionary at each epoch with the new epsilon\n",
    "    learning_dict = dict(LEARNING_RATE = 0.1, DISCOUNT_FACTOR = DISCOUNT_FACTOR , eps = eps, STD_REWARD = STD_REWARD)\n",
    "\n",
    "    for i in tnrange(N_BATCH, desc='2nd loop', leave=False):\n",
    "        # here starts an episode\n",
    "        q_values, reward, collected_halite, passages = play_episode(q_values, **env_dict, **state_dict, **learning_dict)\n",
    "        reward_progress[i] = reward\n",
    "        halite_progress[i] = collected_halite\n",
    "        shipy_pass_progress[i] = passages\n",
    "\n",
    "        #break # play just 1 episode\n",
    "\n",
    "    #break # play just 1 epoch\n",
    "\n",
    "    reward_score[epochs-1] = reward_progress.mean()\n",
    "    halite_score[epochs-1] = halite_progress.mean()\n",
    "    shipy_pass[epochs-1] = shipy_pass_progress.mean()\n",
    "    \n",
    "    ax1.scatter(epochs, halite_score[epochs-1], s = 10, color='blue')\n",
    "    ax2.scatter(epochs, reward_score[epochs-1], s = 10,color='blue')\n",
    "    ax3.scatter(epochs, epsilons[epochs], s = 10, color='blue')\n",
    "    ax4.scatter(epochs, shipy_pass[epochs-1], s = 10, color='blue')\n",
    "    fig.canvas.draw()\n",
    "\n",
    "    if epochs >= MAX_EPOCHS:\n",
    "        print(\"Hey, I think you've had enough! Let's stop here.\")\n",
    "        break"
   ]
  },
  {
   "cell_type": "code",
   "execution_count": 13,
   "metadata": {},
   "outputs": [],
   "source": [
    "np.save('Q_values/q_val_30batch', q_values)"
   ]
  },
  {
   "cell_type": "markdown",
   "metadata": {},
   "source": [
    "## 2 - Rendering\n",
    "\n",
    "In this section we try to render an entire episode for a given state of the Q-values, considering them as definitive. The idea is to color the sea with a blue tonality that becomes brighter as the halite in the cell increases and to color the ship with some brown to yellow tonality, again with the brighter colors for the richest states. Also between one frame and the other, we show in a scale between red and green the Q-values for the adjacent cells, so that we can see why a certain action has been taken.\n",
    "\n",
    "We do not enter into the details of how this visualization is done, but the code is all here below."
   ]
  },
  {
   "cell_type": "code",
   "execution_count": 6,
   "metadata": {},
   "outputs": [],
   "source": [
    "q_values = np.load(\"Q_values/Q_values.npy\")"
   ]
  },
  {
   "cell_type": "code",
   "execution_count": 14,
   "metadata": {},
   "outputs": [],
   "source": [
    "# some functions to represent in RGB the halite levels of the map and the ship\n",
    "\n",
    "def color_sea(map_halite):\n",
    "    #color1 = np.array([32,124,157])\n",
    "    sea_colors = np.zeros((1001,3))\n",
    "    for i in range(1001):\n",
    "        sea_colors[i] = [32,20+i/10,50+2*i/10]\n",
    "    N = len(map_halite.flatten())\n",
    "    rgb_map = np.zeros((N,3))\n",
    "    flatten_map = map_halite.flatten()\n",
    "    for i in range(N):\n",
    "        rgb_map[i] = sea_colors[int(flatten_map[i])]\n",
    "    return rgb_map.reshape((map_halite.shape)+(3,))/255\n",
    "\n",
    "def color_ship(cargo):\n",
    "    #color2 = np.array([255,203,119])\n",
    "    ship_colors = np.zeros((1001,3))\n",
    "    for i in range(1001):\n",
    "        ship_colors[i] = [(120+2*i/10)*250/320,(70+2*i/10)*200/270,(90+i/10)*120/210]\n",
    "    return ship_colors[int(cargo)]/255    \n",
    "\n",
    "def decision_map(q_s, x, y, rgb_map, map_size = 7, alpha=0.5):\n",
    "    \n",
    "    def Q_to_color(q_array):\n",
    "        x = (q_array-q_array.min()+ 1e-5)/(q_array.max() - q_array.min() + 1e-5)\n",
    "        color = np.array([[225*(1-xi),225*xi,25] for xi in x])/255\n",
    "        return color\n",
    "    \n",
    "    pos_dict = {0:(0,0), 1:(1,0), 2:(-1,0), 3:(0,1), 4:(0,-1)}\n",
    "    q_colors = Q_to_color(q_s)\n",
    "    pos_dec = (x,y)\n",
    "    for i in range(5):\n",
    "        xi = (pos_dec[0]+pos_dict[i][0])%map_size\n",
    "        yi = (pos_dec[1]+pos_dict[i][1])%map_size\n",
    "        rgb_map[xi,yi] = alpha*q_colors[i]+(1-alpha)*rgb_map[xi,yi]\n",
    "    return rgb_map"
   ]
  },
  {
   "cell_type": "code",
   "execution_count": 15,
   "metadata": {
    "scrolled": false
   },
   "outputs": [
    {
     "data": {
      "application/javascript": [
       "/* Put everything inside the global mpl namespace */\n",
       "window.mpl = {};\n",
       "\n",
       "\n",
       "mpl.get_websocket_type = function() {\n",
       "    if (typeof(WebSocket) !== 'undefined') {\n",
       "        return WebSocket;\n",
       "    } else if (typeof(MozWebSocket) !== 'undefined') {\n",
       "        return MozWebSocket;\n",
       "    } else {\n",
       "        alert('Your browser does not have WebSocket support. ' +\n",
       "              'Please try Chrome, Safari or Firefox ≥ 6. ' +\n",
       "              'Firefox 4 and 5 are also supported but you ' +\n",
       "              'have to enable WebSockets in about:config.');\n",
       "    };\n",
       "}\n",
       "\n",
       "mpl.figure = function(figure_id, websocket, ondownload, parent_element) {\n",
       "    this.id = figure_id;\n",
       "\n",
       "    this.ws = websocket;\n",
       "\n",
       "    this.supports_binary = (this.ws.binaryType != undefined);\n",
       "\n",
       "    if (!this.supports_binary) {\n",
       "        var warnings = document.getElementById(\"mpl-warnings\");\n",
       "        if (warnings) {\n",
       "            warnings.style.display = 'block';\n",
       "            warnings.textContent = (\n",
       "                \"This browser does not support binary websocket messages. \" +\n",
       "                    \"Performance may be slow.\");\n",
       "        }\n",
       "    }\n",
       "\n",
       "    this.imageObj = new Image();\n",
       "\n",
       "    this.context = undefined;\n",
       "    this.message = undefined;\n",
       "    this.canvas = undefined;\n",
       "    this.rubberband_canvas = undefined;\n",
       "    this.rubberband_context = undefined;\n",
       "    this.format_dropdown = undefined;\n",
       "\n",
       "    this.image_mode = 'full';\n",
       "\n",
       "    this.root = $('<div/>');\n",
       "    this._root_extra_style(this.root)\n",
       "    this.root.attr('style', 'display: inline-block');\n",
       "\n",
       "    $(parent_element).append(this.root);\n",
       "\n",
       "    this._init_header(this);\n",
       "    this._init_canvas(this);\n",
       "    this._init_toolbar(this);\n",
       "\n",
       "    var fig = this;\n",
       "\n",
       "    this.waiting = false;\n",
       "\n",
       "    this.ws.onopen =  function () {\n",
       "            fig.send_message(\"supports_binary\", {value: fig.supports_binary});\n",
       "            fig.send_message(\"send_image_mode\", {});\n",
       "            if (mpl.ratio != 1) {\n",
       "                fig.send_message(\"set_dpi_ratio\", {'dpi_ratio': mpl.ratio});\n",
       "            }\n",
       "            fig.send_message(\"refresh\", {});\n",
       "        }\n",
       "\n",
       "    this.imageObj.onload = function() {\n",
       "            if (fig.image_mode == 'full') {\n",
       "                // Full images could contain transparency (where diff images\n",
       "                // almost always do), so we need to clear the canvas so that\n",
       "                // there is no ghosting.\n",
       "                fig.context.clearRect(0, 0, fig.canvas.width, fig.canvas.height);\n",
       "            }\n",
       "            fig.context.drawImage(fig.imageObj, 0, 0);\n",
       "        };\n",
       "\n",
       "    this.imageObj.onunload = function() {\n",
       "        fig.ws.close();\n",
       "    }\n",
       "\n",
       "    this.ws.onmessage = this._make_on_message_function(this);\n",
       "\n",
       "    this.ondownload = ondownload;\n",
       "}\n",
       "\n",
       "mpl.figure.prototype._init_header = function() {\n",
       "    var titlebar = $(\n",
       "        '<div class=\"ui-dialog-titlebar ui-widget-header ui-corner-all ' +\n",
       "        'ui-helper-clearfix\"/>');\n",
       "    var titletext = $(\n",
       "        '<div class=\"ui-dialog-title\" style=\"width: 100%; ' +\n",
       "        'text-align: center; padding: 3px;\"/>');\n",
       "    titlebar.append(titletext)\n",
       "    this.root.append(titlebar);\n",
       "    this.header = titletext[0];\n",
       "}\n",
       "\n",
       "\n",
       "\n",
       "mpl.figure.prototype._canvas_extra_style = function(canvas_div) {\n",
       "\n",
       "}\n",
       "\n",
       "\n",
       "mpl.figure.prototype._root_extra_style = function(canvas_div) {\n",
       "\n",
       "}\n",
       "\n",
       "mpl.figure.prototype._init_canvas = function() {\n",
       "    var fig = this;\n",
       "\n",
       "    var canvas_div = $('<div/>');\n",
       "\n",
       "    canvas_div.attr('style', 'position: relative; clear: both; outline: 0');\n",
       "\n",
       "    function canvas_keyboard_event(event) {\n",
       "        return fig.key_event(event, event['data']);\n",
       "    }\n",
       "\n",
       "    canvas_div.keydown('key_press', canvas_keyboard_event);\n",
       "    canvas_div.keyup('key_release', canvas_keyboard_event);\n",
       "    this.canvas_div = canvas_div\n",
       "    this._canvas_extra_style(canvas_div)\n",
       "    this.root.append(canvas_div);\n",
       "\n",
       "    var canvas = $('<canvas/>');\n",
       "    canvas.addClass('mpl-canvas');\n",
       "    canvas.attr('style', \"left: 0; top: 0; z-index: 0; outline: 0\")\n",
       "\n",
       "    this.canvas = canvas[0];\n",
       "    this.context = canvas[0].getContext(\"2d\");\n",
       "\n",
       "    var backingStore = this.context.backingStorePixelRatio ||\n",
       "\tthis.context.webkitBackingStorePixelRatio ||\n",
       "\tthis.context.mozBackingStorePixelRatio ||\n",
       "\tthis.context.msBackingStorePixelRatio ||\n",
       "\tthis.context.oBackingStorePixelRatio ||\n",
       "\tthis.context.backingStorePixelRatio || 1;\n",
       "\n",
       "    mpl.ratio = (window.devicePixelRatio || 1) / backingStore;\n",
       "\n",
       "    var rubberband = $('<canvas/>');\n",
       "    rubberband.attr('style', \"position: absolute; left: 0; top: 0; z-index: 1;\")\n",
       "\n",
       "    var pass_mouse_events = true;\n",
       "\n",
       "    canvas_div.resizable({\n",
       "        start: function(event, ui) {\n",
       "            pass_mouse_events = false;\n",
       "        },\n",
       "        resize: function(event, ui) {\n",
       "            fig.request_resize(ui.size.width, ui.size.height);\n",
       "        },\n",
       "        stop: function(event, ui) {\n",
       "            pass_mouse_events = true;\n",
       "            fig.request_resize(ui.size.width, ui.size.height);\n",
       "        },\n",
       "    });\n",
       "\n",
       "    function mouse_event_fn(event) {\n",
       "        if (pass_mouse_events)\n",
       "            return fig.mouse_event(event, event['data']);\n",
       "    }\n",
       "\n",
       "    rubberband.mousedown('button_press', mouse_event_fn);\n",
       "    rubberband.mouseup('button_release', mouse_event_fn);\n",
       "    // Throttle sequential mouse events to 1 every 20ms.\n",
       "    rubberband.mousemove('motion_notify', mouse_event_fn);\n",
       "\n",
       "    rubberband.mouseenter('figure_enter', mouse_event_fn);\n",
       "    rubberband.mouseleave('figure_leave', mouse_event_fn);\n",
       "\n",
       "    canvas_div.on(\"wheel\", function (event) {\n",
       "        event = event.originalEvent;\n",
       "        event['data'] = 'scroll'\n",
       "        if (event.deltaY < 0) {\n",
       "            event.step = 1;\n",
       "        } else {\n",
       "            event.step = -1;\n",
       "        }\n",
       "        mouse_event_fn(event);\n",
       "    });\n",
       "\n",
       "    canvas_div.append(canvas);\n",
       "    canvas_div.append(rubberband);\n",
       "\n",
       "    this.rubberband = rubberband;\n",
       "    this.rubberband_canvas = rubberband[0];\n",
       "    this.rubberband_context = rubberband[0].getContext(\"2d\");\n",
       "    this.rubberband_context.strokeStyle = \"#000000\";\n",
       "\n",
       "    this._resize_canvas = function(width, height) {\n",
       "        // Keep the size of the canvas, canvas container, and rubber band\n",
       "        // canvas in synch.\n",
       "        canvas_div.css('width', width)\n",
       "        canvas_div.css('height', height)\n",
       "\n",
       "        canvas.attr('width', width * mpl.ratio);\n",
       "        canvas.attr('height', height * mpl.ratio);\n",
       "        canvas.attr('style', 'width: ' + width + 'px; height: ' + height + 'px;');\n",
       "\n",
       "        rubberband.attr('width', width);\n",
       "        rubberband.attr('height', height);\n",
       "    }\n",
       "\n",
       "    // Set the figure to an initial 600x600px, this will subsequently be updated\n",
       "    // upon first draw.\n",
       "    this._resize_canvas(600, 600);\n",
       "\n",
       "    // Disable right mouse context menu.\n",
       "    $(this.rubberband_canvas).bind(\"contextmenu\",function(e){\n",
       "        return false;\n",
       "    });\n",
       "\n",
       "    function set_focus () {\n",
       "        canvas.focus();\n",
       "        canvas_div.focus();\n",
       "    }\n",
       "\n",
       "    window.setTimeout(set_focus, 100);\n",
       "}\n",
       "\n",
       "mpl.figure.prototype._init_toolbar = function() {\n",
       "    var fig = this;\n",
       "\n",
       "    var nav_element = $('<div/>');\n",
       "    nav_element.attr('style', 'width: 100%');\n",
       "    this.root.append(nav_element);\n",
       "\n",
       "    // Define a callback function for later on.\n",
       "    function toolbar_event(event) {\n",
       "        return fig.toolbar_button_onclick(event['data']);\n",
       "    }\n",
       "    function toolbar_mouse_event(event) {\n",
       "        return fig.toolbar_button_onmouseover(event['data']);\n",
       "    }\n",
       "\n",
       "    for(var toolbar_ind in mpl.toolbar_items) {\n",
       "        var name = mpl.toolbar_items[toolbar_ind][0];\n",
       "        var tooltip = mpl.toolbar_items[toolbar_ind][1];\n",
       "        var image = mpl.toolbar_items[toolbar_ind][2];\n",
       "        var method_name = mpl.toolbar_items[toolbar_ind][3];\n",
       "\n",
       "        if (!name) {\n",
       "            // put a spacer in here.\n",
       "            continue;\n",
       "        }\n",
       "        var button = $('<button/>');\n",
       "        button.addClass('ui-button ui-widget ui-state-default ui-corner-all ' +\n",
       "                        'ui-button-icon-only');\n",
       "        button.attr('role', 'button');\n",
       "        button.attr('aria-disabled', 'false');\n",
       "        button.click(method_name, toolbar_event);\n",
       "        button.mouseover(tooltip, toolbar_mouse_event);\n",
       "\n",
       "        var icon_img = $('<span/>');\n",
       "        icon_img.addClass('ui-button-icon-primary ui-icon');\n",
       "        icon_img.addClass(image);\n",
       "        icon_img.addClass('ui-corner-all');\n",
       "\n",
       "        var tooltip_span = $('<span/>');\n",
       "        tooltip_span.addClass('ui-button-text');\n",
       "        tooltip_span.html(tooltip);\n",
       "\n",
       "        button.append(icon_img);\n",
       "        button.append(tooltip_span);\n",
       "\n",
       "        nav_element.append(button);\n",
       "    }\n",
       "\n",
       "    var fmt_picker_span = $('<span/>');\n",
       "\n",
       "    var fmt_picker = $('<select/>');\n",
       "    fmt_picker.addClass('mpl-toolbar-option ui-widget ui-widget-content');\n",
       "    fmt_picker_span.append(fmt_picker);\n",
       "    nav_element.append(fmt_picker_span);\n",
       "    this.format_dropdown = fmt_picker[0];\n",
       "\n",
       "    for (var ind in mpl.extensions) {\n",
       "        var fmt = mpl.extensions[ind];\n",
       "        var option = $(\n",
       "            '<option/>', {selected: fmt === mpl.default_extension}).html(fmt);\n",
       "        fmt_picker.append(option);\n",
       "    }\n",
       "\n",
       "    // Add hover states to the ui-buttons\n",
       "    $( \".ui-button\" ).hover(\n",
       "        function() { $(this).addClass(\"ui-state-hover\");},\n",
       "        function() { $(this).removeClass(\"ui-state-hover\");}\n",
       "    );\n",
       "\n",
       "    var status_bar = $('<span class=\"mpl-message\"/>');\n",
       "    nav_element.append(status_bar);\n",
       "    this.message = status_bar[0];\n",
       "}\n",
       "\n",
       "mpl.figure.prototype.request_resize = function(x_pixels, y_pixels) {\n",
       "    // Request matplotlib to resize the figure. Matplotlib will then trigger a resize in the client,\n",
       "    // which will in turn request a refresh of the image.\n",
       "    this.send_message('resize', {'width': x_pixels, 'height': y_pixels});\n",
       "}\n",
       "\n",
       "mpl.figure.prototype.send_message = function(type, properties) {\n",
       "    properties['type'] = type;\n",
       "    properties['figure_id'] = this.id;\n",
       "    this.ws.send(JSON.stringify(properties));\n",
       "}\n",
       "\n",
       "mpl.figure.prototype.send_draw_message = function() {\n",
       "    if (!this.waiting) {\n",
       "        this.waiting = true;\n",
       "        this.ws.send(JSON.stringify({type: \"draw\", figure_id: this.id}));\n",
       "    }\n",
       "}\n",
       "\n",
       "\n",
       "mpl.figure.prototype.handle_save = function(fig, msg) {\n",
       "    var format_dropdown = fig.format_dropdown;\n",
       "    var format = format_dropdown.options[format_dropdown.selectedIndex].value;\n",
       "    fig.ondownload(fig, format);\n",
       "}\n",
       "\n",
       "\n",
       "mpl.figure.prototype.handle_resize = function(fig, msg) {\n",
       "    var size = msg['size'];\n",
       "    if (size[0] != fig.canvas.width || size[1] != fig.canvas.height) {\n",
       "        fig._resize_canvas(size[0], size[1]);\n",
       "        fig.send_message(\"refresh\", {});\n",
       "    };\n",
       "}\n",
       "\n",
       "mpl.figure.prototype.handle_rubberband = function(fig, msg) {\n",
       "    var x0 = msg['x0'] / mpl.ratio;\n",
       "    var y0 = (fig.canvas.height - msg['y0']) / mpl.ratio;\n",
       "    var x1 = msg['x1'] / mpl.ratio;\n",
       "    var y1 = (fig.canvas.height - msg['y1']) / mpl.ratio;\n",
       "    x0 = Math.floor(x0) + 0.5;\n",
       "    y0 = Math.floor(y0) + 0.5;\n",
       "    x1 = Math.floor(x1) + 0.5;\n",
       "    y1 = Math.floor(y1) + 0.5;\n",
       "    var min_x = Math.min(x0, x1);\n",
       "    var min_y = Math.min(y0, y1);\n",
       "    var width = Math.abs(x1 - x0);\n",
       "    var height = Math.abs(y1 - y0);\n",
       "\n",
       "    fig.rubberband_context.clearRect(\n",
       "        0, 0, fig.canvas.width / mpl.ratio, fig.canvas.height / mpl.ratio);\n",
       "\n",
       "    fig.rubberband_context.strokeRect(min_x, min_y, width, height);\n",
       "}\n",
       "\n",
       "mpl.figure.prototype.handle_figure_label = function(fig, msg) {\n",
       "    // Updates the figure title.\n",
       "    fig.header.textContent = msg['label'];\n",
       "}\n",
       "\n",
       "mpl.figure.prototype.handle_cursor = function(fig, msg) {\n",
       "    var cursor = msg['cursor'];\n",
       "    switch(cursor)\n",
       "    {\n",
       "    case 0:\n",
       "        cursor = 'pointer';\n",
       "        break;\n",
       "    case 1:\n",
       "        cursor = 'default';\n",
       "        break;\n",
       "    case 2:\n",
       "        cursor = 'crosshair';\n",
       "        break;\n",
       "    case 3:\n",
       "        cursor = 'move';\n",
       "        break;\n",
       "    }\n",
       "    fig.rubberband_canvas.style.cursor = cursor;\n",
       "}\n",
       "\n",
       "mpl.figure.prototype.handle_message = function(fig, msg) {\n",
       "    fig.message.textContent = msg['message'];\n",
       "}\n",
       "\n",
       "mpl.figure.prototype.handle_draw = function(fig, msg) {\n",
       "    // Request the server to send over a new figure.\n",
       "    fig.send_draw_message();\n",
       "}\n",
       "\n",
       "mpl.figure.prototype.handle_image_mode = function(fig, msg) {\n",
       "    fig.image_mode = msg['mode'];\n",
       "}\n",
       "\n",
       "mpl.figure.prototype.updated_canvas_event = function() {\n",
       "    // Called whenever the canvas gets updated.\n",
       "    this.send_message(\"ack\", {});\n",
       "}\n",
       "\n",
       "// A function to construct a web socket function for onmessage handling.\n",
       "// Called in the figure constructor.\n",
       "mpl.figure.prototype._make_on_message_function = function(fig) {\n",
       "    return function socket_on_message(evt) {\n",
       "        if (evt.data instanceof Blob) {\n",
       "            /* FIXME: We get \"Resource interpreted as Image but\n",
       "             * transferred with MIME type text/plain:\" errors on\n",
       "             * Chrome.  But how to set the MIME type?  It doesn't seem\n",
       "             * to be part of the websocket stream */\n",
       "            evt.data.type = \"image/png\";\n",
       "\n",
       "            /* Free the memory for the previous frames */\n",
       "            if (fig.imageObj.src) {\n",
       "                (window.URL || window.webkitURL).revokeObjectURL(\n",
       "                    fig.imageObj.src);\n",
       "            }\n",
       "\n",
       "            fig.imageObj.src = (window.URL || window.webkitURL).createObjectURL(\n",
       "                evt.data);\n",
       "            fig.updated_canvas_event();\n",
       "            fig.waiting = false;\n",
       "            return;\n",
       "        }\n",
       "        else if (typeof evt.data === 'string' && evt.data.slice(0, 21) == \"data:image/png;base64\") {\n",
       "            fig.imageObj.src = evt.data;\n",
       "            fig.updated_canvas_event();\n",
       "            fig.waiting = false;\n",
       "            return;\n",
       "        }\n",
       "\n",
       "        var msg = JSON.parse(evt.data);\n",
       "        var msg_type = msg['type'];\n",
       "\n",
       "        // Call the  \"handle_{type}\" callback, which takes\n",
       "        // the figure and JSON message as its only arguments.\n",
       "        try {\n",
       "            var callback = fig[\"handle_\" + msg_type];\n",
       "        } catch (e) {\n",
       "            console.log(\"No handler for the '\" + msg_type + \"' message type: \", msg);\n",
       "            return;\n",
       "        }\n",
       "\n",
       "        if (callback) {\n",
       "            try {\n",
       "                // console.log(\"Handling '\" + msg_type + \"' message: \", msg);\n",
       "                callback(fig, msg);\n",
       "            } catch (e) {\n",
       "                console.log(\"Exception inside the 'handler_\" + msg_type + \"' callback:\", e, e.stack, msg);\n",
       "            }\n",
       "        }\n",
       "    };\n",
       "}\n",
       "\n",
       "// from http://stackoverflow.com/questions/1114465/getting-mouse-location-in-canvas\n",
       "mpl.findpos = function(e) {\n",
       "    //this section is from http://www.quirksmode.org/js/events_properties.html\n",
       "    var targ;\n",
       "    if (!e)\n",
       "        e = window.event;\n",
       "    if (e.target)\n",
       "        targ = e.target;\n",
       "    else if (e.srcElement)\n",
       "        targ = e.srcElement;\n",
       "    if (targ.nodeType == 3) // defeat Safari bug\n",
       "        targ = targ.parentNode;\n",
       "\n",
       "    // jQuery normalizes the pageX and pageY\n",
       "    // pageX,Y are the mouse positions relative to the document\n",
       "    // offset() returns the position of the element relative to the document\n",
       "    var x = e.pageX - $(targ).offset().left;\n",
       "    var y = e.pageY - $(targ).offset().top;\n",
       "\n",
       "    return {\"x\": x, \"y\": y};\n",
       "};\n",
       "\n",
       "/*\n",
       " * return a copy of an object with only non-object keys\n",
       " * we need this to avoid circular references\n",
       " * http://stackoverflow.com/a/24161582/3208463\n",
       " */\n",
       "function simpleKeys (original) {\n",
       "  return Object.keys(original).reduce(function (obj, key) {\n",
       "    if (typeof original[key] !== 'object')\n",
       "        obj[key] = original[key]\n",
       "    return obj;\n",
       "  }, {});\n",
       "}\n",
       "\n",
       "mpl.figure.prototype.mouse_event = function(event, name) {\n",
       "    var canvas_pos = mpl.findpos(event)\n",
       "\n",
       "    if (name === 'button_press')\n",
       "    {\n",
       "        this.canvas.focus();\n",
       "        this.canvas_div.focus();\n",
       "    }\n",
       "\n",
       "    var x = canvas_pos.x * mpl.ratio;\n",
       "    var y = canvas_pos.y * mpl.ratio;\n",
       "\n",
       "    this.send_message(name, {x: x, y: y, button: event.button,\n",
       "                             step: event.step,\n",
       "                             guiEvent: simpleKeys(event)});\n",
       "\n",
       "    /* This prevents the web browser from automatically changing to\n",
       "     * the text insertion cursor when the button is pressed.  We want\n",
       "     * to control all of the cursor setting manually through the\n",
       "     * 'cursor' event from matplotlib */\n",
       "    event.preventDefault();\n",
       "    return false;\n",
       "}\n",
       "\n",
       "mpl.figure.prototype._key_event_extra = function(event, name) {\n",
       "    // Handle any extra behaviour associated with a key event\n",
       "}\n",
       "\n",
       "mpl.figure.prototype.key_event = function(event, name) {\n",
       "\n",
       "    // Prevent repeat events\n",
       "    if (name == 'key_press')\n",
       "    {\n",
       "        if (event.which === this._key)\n",
       "            return;\n",
       "        else\n",
       "            this._key = event.which;\n",
       "    }\n",
       "    if (name == 'key_release')\n",
       "        this._key = null;\n",
       "\n",
       "    var value = '';\n",
       "    if (event.ctrlKey && event.which != 17)\n",
       "        value += \"ctrl+\";\n",
       "    if (event.altKey && event.which != 18)\n",
       "        value += \"alt+\";\n",
       "    if (event.shiftKey && event.which != 16)\n",
       "        value += \"shift+\";\n",
       "\n",
       "    value += 'k';\n",
       "    value += event.which.toString();\n",
       "\n",
       "    this._key_event_extra(event, name);\n",
       "\n",
       "    this.send_message(name, {key: value,\n",
       "                             guiEvent: simpleKeys(event)});\n",
       "    return false;\n",
       "}\n",
       "\n",
       "mpl.figure.prototype.toolbar_button_onclick = function(name) {\n",
       "    if (name == 'download') {\n",
       "        this.handle_save(this, null);\n",
       "    } else {\n",
       "        this.send_message(\"toolbar_button\", {name: name});\n",
       "    }\n",
       "};\n",
       "\n",
       "mpl.figure.prototype.toolbar_button_onmouseover = function(tooltip) {\n",
       "    this.message.textContent = tooltip;\n",
       "};\n",
       "mpl.toolbar_items = [[\"Home\", \"Reset original view\", \"fa fa-home icon-home\", \"home\"], [\"Back\", \"Back to previous view\", \"fa fa-arrow-left icon-arrow-left\", \"back\"], [\"Forward\", \"Forward to next view\", \"fa fa-arrow-right icon-arrow-right\", \"forward\"], [\"\", \"\", \"\", \"\"], [\"Pan\", \"Pan axes with left mouse, zoom with right\", \"fa fa-arrows icon-move\", \"pan\"], [\"Zoom\", \"Zoom to rectangle\", \"fa fa-square-o icon-check-empty\", \"zoom\"], [\"\", \"\", \"\", \"\"], [\"Download\", \"Download plot\", \"fa fa-floppy-o icon-save\", \"download\"]];\n",
       "\n",
       "mpl.extensions = [\"eps\", \"jpeg\", \"pdf\", \"png\", \"ps\", \"raw\", \"svg\", \"tif\"];\n",
       "\n",
       "mpl.default_extension = \"png\";var comm_websocket_adapter = function(comm) {\n",
       "    // Create a \"websocket\"-like object which calls the given IPython comm\n",
       "    // object with the appropriate methods. Currently this is a non binary\n",
       "    // socket, so there is still some room for performance tuning.\n",
       "    var ws = {};\n",
       "\n",
       "    ws.close = function() {\n",
       "        comm.close()\n",
       "    };\n",
       "    ws.send = function(m) {\n",
       "        //console.log('sending', m);\n",
       "        comm.send(m);\n",
       "    };\n",
       "    // Register the callback with on_msg.\n",
       "    comm.on_msg(function(msg) {\n",
       "        //console.log('receiving', msg['content']['data'], msg);\n",
       "        // Pass the mpl event to the overridden (by mpl) onmessage function.\n",
       "        ws.onmessage(msg['content']['data'])\n",
       "    });\n",
       "    return ws;\n",
       "}\n",
       "\n",
       "mpl.mpl_figure_comm = function(comm, msg) {\n",
       "    // This is the function which gets called when the mpl process\n",
       "    // starts-up an IPython Comm through the \"matplotlib\" channel.\n",
       "\n",
       "    var id = msg.content.data.id;\n",
       "    // Get hold of the div created by the display call when the Comm\n",
       "    // socket was opened in Python.\n",
       "    var element = $(\"#\" + id);\n",
       "    var ws_proxy = comm_websocket_adapter(comm)\n",
       "\n",
       "    function ondownload(figure, format) {\n",
       "        window.open(figure.imageObj.src);\n",
       "    }\n",
       "\n",
       "    var fig = new mpl.figure(id, ws_proxy,\n",
       "                           ondownload,\n",
       "                           element.get(0));\n",
       "\n",
       "    // Call onopen now - mpl needs it, as it is assuming we've passed it a real\n",
       "    // web socket which is closed, not our websocket->open comm proxy.\n",
       "    ws_proxy.onopen();\n",
       "\n",
       "    fig.parent_element = element.get(0);\n",
       "    fig.cell_info = mpl.find_output_cell(\"<div id='\" + id + \"'></div>\");\n",
       "    if (!fig.cell_info) {\n",
       "        console.error(\"Failed to find cell for figure\", id, fig);\n",
       "        return;\n",
       "    }\n",
       "\n",
       "    var output_index = fig.cell_info[2]\n",
       "    var cell = fig.cell_info[0];\n",
       "\n",
       "};\n",
       "\n",
       "mpl.figure.prototype.handle_close = function(fig, msg) {\n",
       "    var width = fig.canvas.width/mpl.ratio\n",
       "    fig.root.unbind('remove')\n",
       "\n",
       "    // Update the output cell to use the data from the current canvas.\n",
       "    fig.push_to_output();\n",
       "    var dataURL = fig.canvas.toDataURL();\n",
       "    // Re-enable the keyboard manager in IPython - without this line, in FF,\n",
       "    // the notebook keyboard shortcuts fail.\n",
       "    IPython.keyboard_manager.enable()\n",
       "    $(fig.parent_element).html('<img src=\"' + dataURL + '\" width=\"' + width + '\">');\n",
       "    fig.close_ws(fig, msg);\n",
       "}\n",
       "\n",
       "mpl.figure.prototype.close_ws = function(fig, msg){\n",
       "    fig.send_message('closing', msg);\n",
       "    // fig.ws.close()\n",
       "}\n",
       "\n",
       "mpl.figure.prototype.push_to_output = function(remove_interactive) {\n",
       "    // Turn the data on the canvas into data in the output cell.\n",
       "    var width = this.canvas.width/mpl.ratio\n",
       "    var dataURL = this.canvas.toDataURL();\n",
       "    this.cell_info[1]['text/html'] = '<img src=\"' + dataURL + '\" width=\"' + width + '\">';\n",
       "}\n",
       "\n",
       "mpl.figure.prototype.updated_canvas_event = function() {\n",
       "    // Tell IPython that the notebook contents must change.\n",
       "    IPython.notebook.set_dirty(true);\n",
       "    this.send_message(\"ack\", {});\n",
       "    var fig = this;\n",
       "    // Wait a second, then push the new image to the DOM so\n",
       "    // that it is saved nicely (might be nice to debounce this).\n",
       "    setTimeout(function () { fig.push_to_output() }, 1000);\n",
       "}\n",
       "\n",
       "mpl.figure.prototype._init_toolbar = function() {\n",
       "    var fig = this;\n",
       "\n",
       "    var nav_element = $('<div/>');\n",
       "    nav_element.attr('style', 'width: 100%');\n",
       "    this.root.append(nav_element);\n",
       "\n",
       "    // Define a callback function for later on.\n",
       "    function toolbar_event(event) {\n",
       "        return fig.toolbar_button_onclick(event['data']);\n",
       "    }\n",
       "    function toolbar_mouse_event(event) {\n",
       "        return fig.toolbar_button_onmouseover(event['data']);\n",
       "    }\n",
       "\n",
       "    for(var toolbar_ind in mpl.toolbar_items){\n",
       "        var name = mpl.toolbar_items[toolbar_ind][0];\n",
       "        var tooltip = mpl.toolbar_items[toolbar_ind][1];\n",
       "        var image = mpl.toolbar_items[toolbar_ind][2];\n",
       "        var method_name = mpl.toolbar_items[toolbar_ind][3];\n",
       "\n",
       "        if (!name) { continue; };\n",
       "\n",
       "        var button = $('<button class=\"btn btn-default\" href=\"#\" title=\"' + name + '\"><i class=\"fa ' + image + ' fa-lg\"></i></button>');\n",
       "        button.click(method_name, toolbar_event);\n",
       "        button.mouseover(tooltip, toolbar_mouse_event);\n",
       "        nav_element.append(button);\n",
       "    }\n",
       "\n",
       "    // Add the status bar.\n",
       "    var status_bar = $('<span class=\"mpl-message\" style=\"text-align:right; float: right;\"/>');\n",
       "    nav_element.append(status_bar);\n",
       "    this.message = status_bar[0];\n",
       "\n",
       "    // Add the close button to the window.\n",
       "    var buttongrp = $('<div class=\"btn-group inline pull-right\"></div>');\n",
       "    var button = $('<button class=\"btn btn-mini btn-primary\" href=\"#\" title=\"Stop Interaction\"><i class=\"fa fa-power-off icon-remove icon-large\"></i></button>');\n",
       "    button.click(function (evt) { fig.handle_close(fig, {}); } );\n",
       "    button.mouseover('Stop Interaction', toolbar_mouse_event);\n",
       "    buttongrp.append(button);\n",
       "    var titlebar = this.root.find($('.ui-dialog-titlebar'));\n",
       "    titlebar.prepend(buttongrp);\n",
       "}\n",
       "\n",
       "mpl.figure.prototype._root_extra_style = function(el){\n",
       "    var fig = this\n",
       "    el.on(\"remove\", function(){\n",
       "\tfig.close_ws(fig, {});\n",
       "    });\n",
       "}\n",
       "\n",
       "mpl.figure.prototype._canvas_extra_style = function(el){\n",
       "    // this is important to make the div 'focusable\n",
       "    el.attr('tabindex', 0)\n",
       "    // reach out to IPython and tell the keyboard manager to turn it's self\n",
       "    // off when our div gets focus\n",
       "\n",
       "    // location in version 3\n",
       "    if (IPython.notebook.keyboard_manager) {\n",
       "        IPython.notebook.keyboard_manager.register_events(el);\n",
       "    }\n",
       "    else {\n",
       "        // location in version 2\n",
       "        IPython.keyboard_manager.register_events(el);\n",
       "    }\n",
       "\n",
       "}\n",
       "\n",
       "mpl.figure.prototype._key_event_extra = function(event, name) {\n",
       "    var manager = IPython.notebook.keyboard_manager;\n",
       "    if (!manager)\n",
       "        manager = IPython.keyboard_manager;\n",
       "\n",
       "    // Check for shift+enter\n",
       "    if (event.shiftKey && event.which == 13) {\n",
       "        this.canvas_div.blur();\n",
       "        event.shiftKey = false;\n",
       "        // Send a \"J\" for go to next cell\n",
       "        event.which = 74;\n",
       "        event.keyCode = 74;\n",
       "        manager.command_mode();\n",
       "        manager.handle_keydown(event);\n",
       "    }\n",
       "}\n",
       "\n",
       "mpl.figure.prototype.handle_save = function(fig, msg) {\n",
       "    fig.ondownload(fig, null);\n",
       "}\n",
       "\n",
       "\n",
       "mpl.find_output_cell = function(html_output) {\n",
       "    // Return the cell and output element which can be found *uniquely* in the notebook.\n",
       "    // Note - this is a bit hacky, but it is done because the \"notebook_saving.Notebook\"\n",
       "    // IPython event is triggered only after the cells have been serialised, which for\n",
       "    // our purposes (turning an active figure into a static one), is too late.\n",
       "    var cells = IPython.notebook.get_cells();\n",
       "    var ncells = cells.length;\n",
       "    for (var i=0; i<ncells; i++) {\n",
       "        var cell = cells[i];\n",
       "        if (cell.cell_type === 'code'){\n",
       "            for (var j=0; j<cell.output_area.outputs.length; j++) {\n",
       "                var data = cell.output_area.outputs[j];\n",
       "                if (data.data) {\n",
       "                    // IPython >= 3 moved mimebundle to data attribute of output\n",
       "                    data = data.data;\n",
       "                }\n",
       "                if (data['text/html'] == html_output) {\n",
       "                    return [cell, data, j];\n",
       "                }\n",
       "            }\n",
       "        }\n",
       "    }\n",
       "}\n",
       "\n",
       "// Register the function which deals with the matplotlib target/channel.\n",
       "// The kernel may be null if the page has been refreshed.\n",
       "if (IPython.notebook.kernel != null) {\n",
       "    IPython.notebook.kernel.comm_manager.register_target('matplotlib', mpl.mpl_figure_comm);\n",
       "}\n"
      ],
      "text/plain": [
       "<IPython.core.display.Javascript object>"
      ]
     },
     "metadata": {},
     "output_type": "display_data"
    },
    {
     "data": {
      "text/html": [
       "<img src=\"data:image/png;base64,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\" width=\"800\">"
      ],
      "text/plain": [
       "<IPython.core.display.HTML object>"
      ]
     },
     "metadata": {},
     "output_type": "display_data"
    }
   ],
   "source": [
    "%matplotlib notebook\n",
    "\n",
    "fig = plt.figure(figsize = (8,6))\n",
    "\n",
    "env = Env.HaliteEnv(NUM_PLAYERS, MAP_SIZE, episode_lenght = 100) # init environment\n",
    "steps = 0\n",
    "reward = 0 # cumulative reward of the episode\n",
    "passages = 0 # number of times the ship passes through the shipyard\n",
    "verbose = False\n",
    "save = True # saves each frame to make a gif\n",
    "eps = 0\n",
    "# first mandatory step\n",
    "steps = steps + 1\n",
    "if verbose:\n",
    "    print(\"\\nStep number %d:\"%steps)\n",
    "action_matrix = np.full((MAP_SIZE,MAP_SIZE), -1) # no ship, no action\n",
    "shipyard_action = True # initially always choose to create a ship\n",
    "# returns the matricial state, the array of players halite and a flag that is true if it's the final turn\n",
    "state, players_halite, finish, _ = env.step(action_matrix, makeship = shipyard_action) \n",
    "\n",
    "#print(\"Cargo layer: \\n\", state[:,:,2])\n",
    "current_halite = players_halite[0][0]\n",
    "#----------------------------------------------------------\n",
    "rgb_map = color_sea(state[:,:,0]) # get rgb map of blue tonalities\n",
    "plt.imshow(rgb_map) # show map\n",
    "plt.title(\"Turn: %d    Halite: %d\"%(steps,current_halite))\n",
    "plt.yticks([])\n",
    "plt.xticks([])\n",
    "fig.show()\n",
    "#time.sleep(0.2) #uncomment to slow down for visualization purposes\n",
    "if save:\n",
    "    plt.savefig('.raw_gif/turn%.3d.png'%steps)\n",
    "#-----------------------------------------------------------\n",
    "s_enc = cod.encode_state(state, map_size = MAP_SIZE, h_lev = H_LEV, n_actions = N_ACTIONS, debug=False)\n",
    "\n",
    "while True:\n",
    "    steps = steps + 1\n",
    "    if verbose:\n",
    "        print(\"\\nStep number %d:\"%steps)\n",
    "        print(\"Current halite: \", current_halite)\n",
    "    a_enc = ship.e_greedy_policy(s_enc, q_values, eps = eps)\n",
    "    a_mat = cod.scalar_to_matrix_action(a_enc, state, map_size = MAP_SIZE) #convert the action in matricial form\n",
    "    s_dec = cod.decode3D(s_enc, L1 = MAP_SIZE**2, L2 = H_LEV**6, L3 = N_ACTIONS-1)\n",
    "    x,y = cod.decode(s_dec[0], L=MAP_SIZE) # position of the ship, used in rendering\n",
    "    ship_cargo = state[x,y,2] # halite in the ship, used in rendering\n",
    "    # submit the action and get the new state\n",
    "    state, players_halite, finish, _ = env.step(a_mat, makeship = False) \n",
    "\n",
    "    new_halite = players_halite[0][0]\n",
    "\n",
    "    # compute the 1-ship reward as the halite increment of the player divided by the max halite \n",
    "    # plus a standard negative reward \n",
    "    r = (new_halite - current_halite)/1000 + STD_REWARD\n",
    "\n",
    "    sp_enc = cod.encode_state(state, map_size = MAP_SIZE, h_lev = H_LEV, n_actions = N_ACTIONS, debug=False)\n",
    "    reward += r # cumulative reward of the episode\n",
    "\n",
    "    # adds 1 to passages if the current position of the ship coincides with that of the shipyard\n",
    "    # whereas the previous position didn't\n",
    "    s_dec = cod.decode3D(s_enc, L1 = MAP_SIZE**2, L2 = H_LEV**6, L3 = N_ACTIONS-1)\n",
    "    sp_dec = cod.decode3D(sp_enc, L1 = MAP_SIZE**2, L2 = H_LEV**6, L3 = N_ACTIONS-1)\n",
    "    shipy_pos = (MAP_SIZE**2-1)/2 #shipyard is at the center of the map\n",
    "    if (sp_dec[0] == shipy_pos and s_dec[0] != shipy_pos):\n",
    "        passages = passages +1\n",
    "    \n",
    "    a_temp_enc = ship.greedy_policy(sp_enc, q_values) # simulate the best action in the new state (before update)\n",
    "    \n",
    "    #----------------------------------------------------------\n",
    "    rgb_map = color_sea(state[:,:,0]) # get rgb map of blue tonalities\n",
    "    rgb_map[x ,y,:] = color_ship(ship_cargo) # superimpose the ship pixel with a yellow tonality\n",
    "    plt.cla() # clear current axis from previous drawings -> prevents matplotlib from slowing down\n",
    "    plt.imshow(rgb_map)\n",
    "    plt.title(\"Turn: %d    Halite: %d    Carried: %d\"%(steps,current_halite,ship_cargo))\n",
    "    plt.yticks([]) # remove y ticks\n",
    "    plt.xticks([]) # remove x ticks\n",
    "    fig.canvas.draw() # update the figure\n",
    "    #time.sleep(2) #uncomment to slow down for visualization purposes\n",
    "    if save:\n",
    "        plt.savefig('.raw_gif/turn%.3d.png'%(steps*2))\n",
    "    # shows Q-values projected on the cells adjacent to the ship\n",
    "    rgb_map = decision_map(q_values[s_enc], x, y, rgb_map, MAP_SIZE) \n",
    "    plt.imshow(rgb_map)\n",
    "    #move_dict = {0:'C',1:'S',2:'N',3:'E',4:'W'}\n",
    "    plt.title(\"Turn: %d    Halite: %d    Carried: %d\"%(steps, current_halite, ship_cargo))\n",
    "    #+\"Next action: \"+move_dict[a_enc]) # to print also what the next move will be\n",
    "    plt.yticks([]) # remove y ticks\n",
    "    plt.xticks([]) # remove x ticks\n",
    "    fig.canvas.draw() # update the figure\n",
    "    #time.sleep(2) #uncomment to slow down for visualization purposes\n",
    "    if save:\n",
    "        plt.savefig('.raw_gif/turn%.3d.png'%(steps*2+1))\n",
    "    #-----------------------------------------------------------\n",
    "    \n",
    "    # update Q-values\n",
    "    q_values = ship.update_q_v1(s_enc, a_enc, r, sp_enc, a_temp_enc, q_values, alpha = LEARNING_RATE,\n",
    "                gamma = DISCOUNT_FACTOR, map_size = MAP_SIZE, h_lev = H_LEV, n_actions = N_ACTIONS)\n",
    "\n",
    "    # update states and halite\n",
    "    s_enc = sp_enc\n",
    "    current_halite = new_halite\n",
    "    if (finish == True) or (steps >= 400):\n",
    "        if verbose:\n",
    "            print(\"\\nEnd episode.\")\n",
    "        break\n",
    "plt.close() # close interactive plot"
   ]
  },
  {
   "cell_type": "markdown",
   "metadata": {},
   "source": [
    "### Making a gif of the episode"
   ]
  },
  {
   "cell_type": "code",
   "execution_count": 16,
   "metadata": {
    "scrolled": true
   },
   "outputs": [],
   "source": [
    "import os\n",
    "filenames = os.listdir('.raw_gif') # get the names of all the files in .raw_gif directory\n",
    "filenames.sort() # sort them by name (i.e. by turn in our specific case)"
   ]
  },
  {
   "cell_type": "code",
   "execution_count": 17,
   "metadata": {},
   "outputs": [],
   "source": [
    "# ! pip install imageio\n",
    "import imageio\n",
    "images = []\n",
    "for filename in filenames:\n",
    "    images.append(imageio.imread('.raw_gif/'+filename))\n",
    "imageio.mimsave('Support_material/play_episode.gif', images, duration=0.75) # make gif"
   ]
  },
  {
   "cell_type": "markdown",
   "metadata": {},
   "source": [
    "And here we go with our visualization! Isn't it cute?\n",
    "\n",
    "<img src=\"Support_material/play_episode.gif\">"
   ]
  },
  {
   "cell_type": "markdown",
   "metadata": {},
   "source": [
    "## 3 - Post-training visualization\n",
    "\n",
    "In this section we are going to do some exploratory analysis of the trained Q-values. Hopefully we will get some useful insights on how to improve our training method."
   ]
  },
  {
   "cell_type": "code",
   "execution_count": 9,
   "metadata": {},
   "outputs": [],
   "source": [
    "q_values = np.load(\"Q_values/Q_values.npy\")"
   ]
  },
  {
   "cell_type": "markdown",
   "metadata": {},
   "source": [
    "### Under-training issue\n",
    "\n",
    "First of all we look at the overall distribution of the Q values."
   ]
  },
  {
   "cell_type": "code",
   "execution_count": 25,
   "metadata": {},
   "outputs": [
    {
     "data": {
      "image/png": "[encoded data removed]",
      "text/plain": [
       "<Figure size 1080x432 with 2 Axes>"
      ]
     },
     "metadata": {
      "needs_background": "light"
     },
     "output_type": "display_data"
    }
   ],
   "source": [
    "q_flat = q_values.flatten()\n",
    "q_nonzero = q_flat[q_flat!=0]\n",
    "\n",
    "plt.figure(figsize=(15,6))\n",
    "\n",
    "plt.subplot(121)\n",
    "n, bins, _ = plt.hist(q_flat, bins=100)\n",
    "plt.title(\"Qv distribution - %d elements\"%len(q_flat), fontsize=15)\n",
    "plt.xlabel(\"Q values\", fontsize=16)\n",
    "plt.ylabel(\"Counts\", fontsize=16)\n",
    "\n",
    "plt.subplot(122)\n",
    "n, bins, _ = plt.hist(q_nonzero, bins=100)\n",
    "plt.title(\"Non-zero Qv distribution - %d elements\"%len(q_nonzero), fontsize=15)\n",
    "plt.xlabel(\"Q values\", fontsize=16)\n",
    "plt.ylabel(\"Counts\", fontsize=16)\n",
    "\n",
    "plt.show()"
   ]
  },
  {
   "cell_type": "markdown",
   "metadata": {},
   "source": [
    "Now the particular Q-values that we are using are the result of a training of 200 epochs of 10 batches of 400 turns each, for a total of 800.000 moves, but it turns out that they explored only 45848 different action-state pairs (some elements were probably different berofe quantization, but this is not the point). \n",
    "We can define a measure, that we call novelty, as the ratio the states (we call them states instead of action-state pairs for a shorter notatio) explored and the moves made:\n",
    "$$novelty = \\frac{non~zero~ states}{tot. moves} = 0.0573 = 5.73 \\%$$\n",
    "\n",
    "A naive approach would suggest that we should train for the total number of states divided by the novelty factor to explore all the states, but of course the novelty is not a constant, but it is roughly a decreasing function of the number of moves that we have already done (e.g. for the first move the novelty is 1). \n",
    "\n",
    "For sure this means that more training will be useful, but it is also true that as the novelty decreases also the probability of making an error because we do not know how to evaluate a move. In general with such a high-dimensional space the only way to have an estimate of that probability is to measure it during training and then interpolate the function to make predictions."
   ]
  },
  {
   "cell_type": "markdown",
   "metadata": {},
   "source": [
    "### State values maps\n",
    "\n",
    "Another thing that we can try to visualize is how good a spatial position is, given that we have a certain amount of cargo on board."
   ]
  },
  {
   "cell_type": "code",
   "execution_count": 34,
   "metadata": {},
   "outputs": [
    {
     "name": "stdout",
     "output_type": "stream",
     "text": [
      "High-dimensional shape of the state values:  (49, 3, 3, 3, 3, 3, 3, 4)\n"
     ]
    }
   ],
   "source": [
    "values = q_values.max(axis=1) # take the best possible action given the state -> state value\n",
    "HD_shape = (MAP_SIZE**2,)+tuple([3 for i in range(6)]) + (4,)\n",
    "print(\"High-dimensional shape of the state values: \", HD_shape)\n",
    "values_HD = values.reshape(HD_shape)\n",
    "# now spit the cargo dimension in 3 different sub-arrays\n",
    "low_cargo = values_HD[:,0,...]\n",
    "medium_cargo = values_HD[:,1,...]\n",
    "high_cargo = values_HD[:,2,...]"
   ]
  },
  {
   "cell_type": "code",
   "execution_count": 46,
   "metadata": {},
   "outputs": [
    {
     "data": {
      "image/png": "[encoded data removed]",
      "text/plain": [
       "<Figure size 1080x432 with 4 Axes>"
      ]
     },
     "metadata": {
      "needs_background": "light"
     },
     "output_type": "display_data"
    },
    {
     "data": {
      "image/png": "[encoded data removed]",
      "text/plain": [
       "<Figure size 1080x432 with 4 Axes>"
      ]
     },
     "metadata": {
      "needs_background": "light"
     },
     "output_type": "display_data"
    },
    {
     "data": {
      "image/png": "[encoded data removed]",
      "text/plain": [
       "<Figure size 1080x432 with 4 Axes>"
      ]
     },
     "metadata": {
      "needs_background": "light"
     },
     "output_type": "display_data"
    }
   ],
   "source": [
    "low_cargo_max = low_cargo.reshape(49,-1).max(axis=1).reshape(7,7)\n",
    "low_cargo_min = low_cargo.reshape(49,-1).min(axis=1).reshape(7,7)\n",
    "\n",
    "plt.figure(figsize=(15,6))\n",
    "\n",
    "plt.subplot(121)\n",
    "plt.imshow(low_cargo_max)\n",
    "plt.xticks([])\n",
    "plt.yticks([])\n",
    "plt.title(\"Best state values for low cargo\", fontsize=16)\n",
    "plt.colorbar()\n",
    "\n",
    "plt.subplot(122)\n",
    "plt.imshow(low_cargo_min)\n",
    "plt.xticks([])\n",
    "plt.yticks([])\n",
    "plt.title(\"Worst state values for low cargo\", fontsize=16)\n",
    "plt.colorbar()\n",
    "\n",
    "plt.show()\n",
    "\n",
    "medium_cargo_max = medium_cargo.reshape(49,-1).max(axis=1).reshape(7,7)\n",
    "medium_cargo_min = medium_cargo.reshape(49,-1).min(axis=1).reshape(7,7)\n",
    "\n",
    "plt.figure(figsize=(15,6))\n",
    "\n",
    "plt.subplot(121)\n",
    "plt.imshow(medium_cargo_max)\n",
    "plt.xticks([])\n",
    "plt.yticks([])\n",
    "plt.title(\"Best state values for medium cargo\", fontsize=16)\n",
    "plt.colorbar()\n",
    "\n",
    "plt.subplot(122)\n",
    "plt.imshow(medium_cargo_min)\n",
    "plt.xticks([])\n",
    "plt.yticks([])\n",
    "plt.title(\"Worst state values for medium cargo\", fontsize=16)\n",
    "plt.colorbar()\n",
    "\n",
    "plt.show()\n",
    "\n",
    "high_cargo_max = high_cargo.reshape(49,-1).max(axis=1).reshape(7,7)\n",
    "high_cargo_min = high_cargo.reshape(49,-1).min(axis=1).reshape(7,7)\n",
    "\n",
    "plt.figure(figsize=(15,6))\n",
    "\n",
    "plt.subplot(121)\n",
    "plt.imshow(high_cargo_max)\n",
    "plt.xticks([])\n",
    "plt.yticks([])\n",
    "plt.title(\"Best state values for high cargo\", fontsize=16)\n",
    "plt.colorbar()\n",
    "\n",
    "plt.subplot(122)\n",
    "plt.imshow(high_cargo_min)\n",
    "plt.xticks([])\n",
    "plt.yticks([])\n",
    "plt.title(\"Worst state values for high cargo\", fontsize=16)\n",
    "plt.colorbar()\n",
    "\n",
    "plt.show()"
   ]
  },
  {
   "cell_type": "markdown",
   "metadata": {},
   "source": [
    "These plots contain a lot of information:\n",
    "1. Best states for each level of cargo are learned in a more symmetric way than the worse ones; this is because they are choosen more times, hence their estimates are more reliable.\n",
    "2. For medium and high levels of cargo the shipyard position has value zero, whereas for the low level it is greater than zero. This is because the ship can never have cargo when is in the shipyard position (it is automatically deposited). As we have seen with the shipyard passages metric, this is not a problem, because the ship just needs to learn that the action of going to the shipyard is good, and this is confirmed by the fact that the highest values are in the proximity of the shipyard."
   ]
  },
  {
   "cell_type": "markdown",
   "metadata": {},
   "source": [
    "### Is Halite direction needed?\n",
    "\n",
    "If you remember the `h_dir` variable encodes the direction in which there is the 3x3 area with the higher amount of halite. We would like to know if this is a good indicator to predict the best action to choose."
   ]
  },
  {
   "cell_type": "code",
   "execution_count": 60,
   "metadata": {},
   "outputs": [
    {
     "data": {
      "image/png": "[encoded data removed]",
      "text/plain": [
       "<Figure size 432x288 with 1 Axes>"
      ]
     },
     "metadata": {
      "needs_background": "light"
     },
     "output_type": "display_data"
    }
   ],
   "source": [
    "q_cardinals = q_values[:,1:] # remove a=0 subset of moves\n",
    "HD_shape2 = (MAP_SIZE**2,)+tuple([3 for i in range(6)]) + (4,4)\n",
    "q_HD = q_cardinals.reshape(HD_shape2)\n",
    "for i in range(4):\n",
    "    q_hdir0 = q_HD[...,i].reshape(-1,4) # select h_dir = 0, then reshape as a matrix (s',a)\n",
    "    nonzero = np.count_nonzero(q_hdir0, axis=0)\n",
    "    q_mean0 = q_hdir0.sum(axis=0)/nonzero # mean over non-zero elements\n",
    "    plt.plot(q_mean0, '-', label='h_dir = '+str(i))\n",
    "plt.legend()\n",
    "plt.xticks([0,1,2,3])\n",
    "plt.title(\"Mean action-value vs h_dir\")\n",
    "plt.show()"
   ]
  },
  {
   "cell_type": "code",
   "execution_count": null,
   "metadata": {},
   "outputs": [],
   "source": []
  }
 ],
 "metadata": {
  "kernelspec": {
   "display_name": "python3_halite",
   "language": "python",
   "name": "python3_halite"
  },
  "language_info": {
   "codemirror_mode": {
    "name": "ipython",
    "version": 3
   },
   "file_extension": ".py",
   "mimetype": "text/x-python",
   "name": "python",
   "nbconvert_exporter": "python",
   "pygments_lexer": "ipython3",
   "version": "3.7.4"
  }
 },
 "nbformat": 4,
 "nbformat_minor": 2
}

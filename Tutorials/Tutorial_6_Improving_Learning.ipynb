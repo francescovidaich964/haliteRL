{
 "cells": [
  {
   "cell_type": "markdown",
   "metadata": {},
   "source": [
    "# Tutorial 6: Improving Learning\n",
    "\n",
    "# ADD OVERVIEW\n",
    "\n",
    "The training so far has been decent but not satisfactory at all. The evidence of that is that the reward function is not monotonic in the number of epochs, hence a sub-optimal strategy has been adopted.\n",
    "Before saying anything else, let's have another look at some of the results we obtained."
   ]
  },
  {
   "cell_type": "markdown",
   "metadata": {},
   "source": [
    "### Training metrics for halite thresholds = {10,100,1000} and 200 epochs of 10 batches\n",
    "\n",
    "In this first case we can see that a random agent (epoch 1, without knowing the Q-values and with $\\epsilon = 0.5$)\n",
    "has a better performance than the train model. At the same time we can see that the passages through the shipyard at first they increase and then they saturate between 45 and 60. With an average reward of 6000+ this makes roughly more than 100 of halite deposited for each passage. This is comprehensible since the ship cannot distinguish between 101 and 1000 of cargo, hence every time it goes over 100 of cargo it has learned to go back to the shipyard.\n",
    "\n",
    "<img src=\"Support_material/halite_10_100_1000_10batches.png\" >\n",
    "\n"
   ]
  },
  {
   "cell_type": "markdown",
   "metadata": {},
   "source": [
    "### Training metrics for halite thresholds = {100,500,1000} and 200 epochs of 10 batches\n",
    "\n",
    "This was the most promising agent, since at first had learned to deposit on average around 8000 of halite in 40 passages, hence 200 of cargo for each passage. This is a strange value, because if we assume for semplicity the cargo to be either equal to 100 or to 500, it means that 25% of the times was depositing 500 of halite and the other 75% of the times 100 of halite. In other words it was a peak, but not a stable configuration. At the final level we have on average roughly 42 of cargo for each passage, meaning that it was always in the lowest state of cargo. This is of course a very bad thing.\n",
    "\n",
    "<img src=\"Support_material/halite_100_500_1000_10batches.png\" >\n",
    "\n"
   ]
  },
  {
   "cell_type": "markdown",
   "metadata": {},
   "source": [
    "### Training metrics for halite thresholds = {100,500,1000} and 200 epochs of 30 batches\n",
    "\n",
    "Retraining with the same halite levels but with more batches for epoch has completely changed the behaviour. We would be tempted to say that it reached a stable equilibrium (even if not optimal, 7000 halite, 45 passages, 155 halite for passage), but just before the end the strategy changed again, for the worse.\n",
    "<img src=\"Support_material/halite_100_500_1000_30batches.png\" >"
   ]
  },
  {
   "cell_type": "markdown",
   "metadata": {},
   "source": [
    "First of all it has become clear that the reward metric at the moment is useless (the amount of halite collected is much more intuitive as a metric) and could be replaced by the average cargo deposited per passage."
   ]
  },
  {
   "cell_type": "markdown",
   "metadata": {},
   "source": [
    "### Q-values stochasticity induced by quantization\n",
    "\n",
    "The first thing that we have noticed is that our agent is not stable w.r.t. changes in the quantization criterion. This partially makes sense, because different quantizations imply different losses of informations, but we would like it to be more consistent. However we should enter in a discussion from a game theory perspective (agent vs stochastic environment) to better understand why this is not the case.\n",
    "\n",
    "To understand better what is the effect of the quantization on the estimate of the Q-values we should build a simplified model to work with. <br>\n",
    "Let's say we have three intervals $I_0$, $I_1$ and $I_2$ adjacent one to the other (e.g. $[0,h_1]$,$[h_1+1,h_2]$,$[h_2+1,1000]$). As it was probably clear yet, just two numbers are needed to divide in 3 intervals an original interval with given extremes. <br>\n",
    "\n",
    "Now consider the simpler problem where our agent has just two actions: wait, W, (and collect resources) or deposit, D, (and get the reward). <br>\n",
    "We also have to model the fact that choosing D each turn is bad, because actually in reality before waiting it has to move to a cell different from the shipyard in order to collect the halite. \n",
    "I do this in the following way: the reward for the D action will be equal to the halite deposited minus a certain amount due to the loss of time (say $-R_0$). \n",
    "\n",
    "Also we have to model both the simplified environment and how the agent observes it (because there is loss of information in the process). Since D already accounts for the loss of time of going to another cell, the simplest approximation of the environment is to think of it as composed by two cells, that of the shipyard and another one that has a certain amount of halite H. Now since in reality the agent has more than a single choice, imagine that every time the halite on the cell is generated uniformly between 1 and 1000. Coherently with our model, the agent will see only the quantized levels both for itself (C, for cargo) and of the cell (H, for halite). They will be $C_0$, $C_1$ or $C_2$ and $H_0$, $H_1$ and $H_2$ depending on the level of halite. and the choice of the intervals.\n",
    "\n",
    "What we want to see is how the choice of $h_1$ and $h_2$ affects the performances of our agent. Here below we implement this simple algorithm."
   ]
  },
  {
   "cell_type": "code",
   "execution_count": 1,
   "metadata": {},
   "outputs": [],
   "source": [
    "#import modules and libraries\n",
    "import sys\n",
    "sys.path.insert(0, \"../Environment/\")\n",
    "sys.path.insert(0, \"../Modules/\")\n",
    "import halite_env as Env\n",
    "import encode as cod\n",
    "import ship "
   ]
  },
  {
   "cell_type": "code",
   "execution_count": 2,
   "metadata": {},
   "outputs": [],
   "source": [
    "import numpy as np\n",
    "import matplotlib.pyplot as plt"
   ]
  },
  {
   "cell_type": "code",
   "execution_count": 9,
   "metadata": {},
   "outputs": [],
   "source": [
    "def quantize(halite, h1, h2):\n",
    "    if halite <= h1:\n",
    "        return 0\n",
    "    elif halite > h1 and halite <= h2:\n",
    "        return 1\n",
    "    else:\n",
    "        return 2\n",
    "    \n",
    "# we have 9 states (all the combinations of C and H)\n",
    "def get_enc_state(C,H):\n",
    "    enc_states = np.arange(9).reshape(3,3)\n",
    "    return enc_states[C,H]"
   ]
  },
  {
   "cell_type": "code",
   "execution_count": 11,
   "metadata": {},
   "outputs": [
    {
     "name": "stdout",
     "output_type": "stream",
     "text": [
      "State with C = 0 and H = 0 is  0\n",
      "State with C = 0 and H = 1 is  1\n",
      "State with C = 0 and H = 2 is  2\n",
      "State with C = 1 and H = 0 is  3\n",
      "State with C = 1 and H = 1 is  4\n",
      "State with C = 1 and H = 2 is  5\n",
      "State with C = 2 and H = 0 is  6\n",
      "State with C = 2 and H = 1 is  7\n",
      "State with C = 2 and H = 2 is  8\n"
     ]
    }
   ],
   "source": [
    "for C in range(3):\n",
    "    for H in range(3):\n",
    "        print(\"State with C = %d and H = %d is \"%(C,H), get_enc_state(C,H))"
   ]
  },
  {
   "cell_type": "markdown",
   "metadata": {},
   "source": [
    "### Game dynamics\n",
    "Before the game starts:\n",
    "* Define Q-values all to zero;\n",
    "* Define a schedule for the epsilon decay (e.g. from $0.5$ to $10^{-2}$).\n",
    "\n",
    "At each step we do the following:\n",
    "* Sample H_true (not quantized), that is the value of halite in the cell;\n",
    "* Observe C and H (both quantized);\n",
    "* Choose accordingly to the eps_greedy policy which action to take (D or W);\n",
    "* If D is taken, record the halite deposited in a vector (we want to know how much halite is deposited both during the episode and on average at each deposit). Give to the agent the reward C_true - R0 and then set C_true = 0.\n",
    "* If W is taken, C_true = C_true + 0.25*H_true and then the reward is a standard -k*R0, with k between 0 and 1.\n",
    "* Update the Q_values, with W = 0, D = 1 as encoding for the entries.\n",
    "\n",
    "The game stops after `TOT_TURNS` turns."
   ]
  },
  {
   "cell_type": "code",
   "execution_count": 40,
   "metadata": {},
   "outputs": [],
   "source": [
    "q_values = np.zeros((9,2)) # states x actions\n",
    "# our hyper-parameters are h1, h2, R0 and k\n",
    "# TOT_TURNS is fixed\n",
    "# epsilon has always the same schedule decay during the epochs \n",
    "h1 = 10\n",
    "h2 = 100\n",
    "R0 = 200\n",
    "k = 0.2\n",
    "TOT_TURNS = 400\n",
    "MAX_EPOCHS = 100\n",
    "eps = 0.2"
   ]
  },
  {
   "cell_type": "code",
   "execution_count": 45,
   "metadata": {},
   "outputs": [],
   "source": [
    "def play_episode(q_values, eps, h1, h2, R0, TOT_TURNS, verbose = False):\n",
    "    verbose_print = print if verbose else lambda *a, **k: None\n",
    "    C_true = 0\n",
    "    steps = 0\n",
    "    halite_deposited = []\n",
    "    while True:\n",
    "        steps = steps + 1\n",
    "        verbose_print(\"Turn number \", steps)\n",
    "        H_true = np.random.randint(1000) # sample H_true between 0 and 999\n",
    "        # observe state\n",
    "        C = quantize(C_true, h1, h2)\n",
    "        H = quantize(H_true, h1, h2)\n",
    "        s_enc = get_enc_state(C,H)\n",
    "        # use epsilon greedy policy to select action\n",
    "        a = ship.e_greedy_policy(s_enc,q_values) # a=0 -> W, a=1 -> D\n",
    "        a_dict = {0:'Wait',1:'Deposit'}\n",
    "        verbose_print(\"Action taken: \", a_dict[a])\n",
    "        # make step\n",
    "        if a == 0:\n",
    "            C_true = C_true + 0.25*H_true # update halite carried\n",
    "            H_true -= 0.25*H_true # subtract the halite collected to the cell -> used only for computing enc_state_temp\n",
    "            r = -k*R0 # assign reward\n",
    "        else:\n",
    "            halite_deposited.append(C_true)\n",
    "            r = C_true - R0 # assign reward\n",
    "            C_true = 0 # update halite carried\n",
    "        # simulate which action to take\n",
    "        H_tmp = quantize(H_true, h1, h2)\n",
    "        C_tmp = quantize(C_true, h1, h2)\n",
    "        s_enc_tmp = get_enc_state(C,H)\n",
    "        # use epsilon greedy policy to select action\n",
    "        a_tmp = ship.greedy_policy(s_enc_tmp, q_values)\n",
    "        # update q_values\n",
    "        q_values = ship.update_q_v0(s_enc, a, r, s_enc_tmp, a_tmp, q_values, alpha = 0.5, gamma = 1)\n",
    "\n",
    "        if steps == TOT_TURNS:\n",
    "            break\n",
    "    halite_deposited = np.array(halite_deposited)\n",
    "    tot = halite_deposited.sum()\n",
    "    passages = len(halite_deposited)\n",
    "    mean = tot/passages\n",
    "    return q_values, tot, mean, passages"
   ]
  },
  {
   "cell_type": "code",
   "execution_count": 46,
   "metadata": {},
   "outputs": [],
   "source": [
    "epsilons = np.array(list(map(lambda i : eps*np.exp(-i*2*np.log(10)/MAX_EPOCHS), np.arange(0,MAX_EPOCHS+1))))\n",
    "h_tot = []\n",
    "h_mean = []\n",
    "passages_vec = []\n",
    "for i in range(MAX_EPOCHS):\n",
    "    q_values, tot, mean, passages = play_episode(q_values, epsilons[i], h1, h2, R0, TOT_TURNS, verbose = False)\n",
    "    h_tot.append(tot)\n",
    "    h_mean.append(mean)\n",
    "    passages_vec.append(passages)"
   ]
  },
  {
   "cell_type": "code",
   "execution_count": 48,
   "metadata": {},
   "outputs": [
    {
     "data": {
      "image/png": "[encoded data removed]",
      "text/plain": [
       "<Figure size 432x288 with 1 Axes>"
      ]
     },
     "metadata": {
      "needs_background": "light"
     },
     "output_type": "display_data"
    },
    {
     "data": {
      "image/png": "[encoded data removed]",
      "text/plain": [
       "<Figure size 432x288 with 1 Axes>"
      ]
     },
     "metadata": {
      "needs_background": "light"
     },
     "output_type": "display_data"
    },
    {
     "data": {
      "image/png": "[encoded data removed]",
      "text/plain": [
       "<Figure size 432x288 with 1 Axes>"
      ]
     },
     "metadata": {
      "needs_background": "light"
     },
     "output_type": "display_data"
    }
   ],
   "source": [
    "plt.plot(h_tot)\n",
    "plt.title(\"Tot halite collected\")\n",
    "plt.show()\n",
    "plt.title(\"Mean halite collected\")\n",
    "plt.plot(h_mean)\n",
    "plt.show()\n",
    "plt.title(\"Number of passages\")\n",
    "plt.plot(passages_vec)\n",
    "plt.show()"
   ]
  },
  {
   "cell_type": "markdown",
   "metadata": {},
   "source": [
    "## Ideas\n",
    "\n",
    "1. encode just the halite carried with more levels\n",
    "2. give a more negative baseline for the reward when depositing halite"
   ]
  },
  {
   "cell_type": "code",
   "execution_count": 6,
   "metadata": {},
   "outputs": [
    {
     "name": "stdout",
     "output_type": "stream",
     "text": [
      "Total number of states to be experienced:  142884\n"
     ]
    }
   ],
   "source": [
    "#@@@@@@@@@@@@@@@@@@@@@@\n",
    "# Environment variables\n",
    "#@@@@@@@@@@@@@@@@@@@@@@\n",
    "NUM_PLAYERS = 1\n",
    "MAP_SIZE = 7 # 7 x 7 map\n",
    "TOT_TURNS = 400 # number of turns for each episode\n",
    "\n",
    "#@@@@@@@@@@@@@@@@\n",
    "# State variables\n",
    "#@@@@@@@@@@@@@@@@\n",
    "H_LEV = 3 # halite levels\n",
    "N_CELLS = MAP_SIZE**2 # number of cells in a square map\n",
    "N_STATES = N_CELLS*H_LEV**6*4\n",
    "N_ACTIONS = 5 # no dropoffs, 1 action for staying still, 4 for moving in the cardinal directions\n",
    "print(\"Total number of states to be experienced: \", N_STATES)\n",
    "\n",
    "#@@@@@@@@@@@@@@@@@@@@\n",
    "# Learning parameters\n",
    "#@@@@@@@@@@@@@@@@@@@@\n",
    "N_BATCH = 40 #100 # number of episodes in an epoch\n",
    "MAX_EPOCHS = 200 # max number of epochs played before stopping (500 ~ 7.3 hours of training)\n",
    "DISCOUNT_FACTOR = 1 - 1/TOT_TURNS #train ships as if each turn has a probability of 1/tot_turns of ending the game \n",
    "STD_REWARD = -0.01\n",
    "LEARNING_RATE = 0.1\n",
    "EPS_START = 0.5"
   ]
  },
  {
   "cell_type": "code",
   "execution_count": 7,
   "metadata": {},
   "outputs": [],
   "source": [
    "# convert all the parameters to dictionaries\n",
    "env_dict = dict(NUM_PLAYERS = NUM_PLAYERS , \n",
    "                TOT_TURNS = TOT_TURNS)\n",
    "\n",
    "state_dict = dict(MAP_SIZE = MAP_SIZE,  \n",
    "                  H_LEV = H_LEV, \n",
    "                  N_ACTIONS = N_ACTIONS)\n",
    "\n",
    "learning_dict = dict(LEARNING_RATE = LEARNING_RATE, \n",
    "                     DISCOUNT_FACTOR = DISCOUNT_FACTOR , \n",
    "                     eps = EPS_START, \n",
    "                     STD_REWARD = STD_REWARD)"
   ]
  },
  {
   "cell_type": "code",
   "execution_count": 8,
   "metadata": {},
   "outputs": [],
   "source": [
    "#@@@@@@@@@@@@@@@@@@@\n",
    "# Learning variables\n",
    "#@@@@@@@@@@@@@@@@@@@\n",
    "q_values = np.zeros((N_STATES,N_ACTIONS)) #initialize to zero\n",
    "#q_values = np.load(\"Q_values.npy\") # or re-use the one already trained"
   ]
  },
  {
   "cell_type": "code",
   "execution_count": 10,
   "metadata": {},
   "outputs": [],
   "source": [
    "def play_episode(q_values, eps, NUM_PLAYERS, MAP_SIZE, TOT_TURNS, N_ACTIONS, H_LEV,\n",
    "                 STD_REWARD,LEARNING_RATE, DISCOUNT_FACTOR, verbose = False):\n",
    "    \"\"\"\n",
    "    Trains the agent by playing one episode of halite.\n",
    "    \n",
    "    Parameters\n",
    "    ----------\n",
    "    q_values         : numpy array \n",
    "        Contains the Q-values\n",
    "    eps              : float \n",
    "        Represents a probability, must be in [0,1], controls the probability of exploring instead of exploting\n",
    "    NUM_PLAYERS      : int\n",
    "    MAP_SIZE         : int\n",
    "    TOT_TURNS        : int\n",
    "    N_ACTIONS        : int\n",
    "    H_LEV            : int\n",
    "    STD_REWARD       : float\n",
    "        Baseline reward given to the agent when does not deposit halite to the shipyard\n",
    "    LEARNING_RATE    : float\n",
    "    DISCOUNT_FACTOR  : float\n",
    "        Must be greater than 0 but smaller than 1. Suggested 1-1/TOT_TURNS or 1\n",
    "    verbose          : bool\n",
    "        Prints halite of the player at each turn of the game\n",
    "        \n",
    "    Returns\n",
    "    -------\n",
    "    q_values         : numpy array \n",
    "        Updated Q-values\n",
    "    reward           : float\n",
    "        Reward obtained in this episode. \n",
    "    collected_halite : float\n",
    "        Halite collected by the agent.\n",
    "    passages         : int\n",
    "        Number of passages of the ship through the shipyard.\n",
    "    \"\"\"\n",
    "    env = Env.HaliteEnv(NUM_PLAYERS, MAP_SIZE, episode_lenght = TOT_TURNS) # init environment\n",
    "    steps = 0\n",
    "    reward = 0 # cumulative reward of the episode\n",
    "    passages = 0 # number of times the ship passes through the shipyard\n",
    "    \n",
    "    # first mandatory step\n",
    "    steps = steps + 1\n",
    "    if verbose:\n",
    "        print(\"\\nStep number %d:\"%steps)\n",
    "    action_matrix = np.full((MAP_SIZE,MAP_SIZE), -1) # no ship, no action\n",
    "    shipyard_action = True # initially always choose to create a ship\n",
    "    # returns the matricial state, the array of players halite and a flag that is true if it's the final turn\n",
    "    state, players_halite, finish, _ = env.step(action_matrix, makeship = shipyard_action) \n",
    "    #print(\"Cargo layer: \\n\", state[:,:,2])\n",
    "    current_halite = players_halite[0][0]\n",
    "    s_enc = cod.encode_state(state, map_size = MAP_SIZE, h_lev = H_LEV, n_actions = N_ACTIONS, debug=False)\n",
    "\n",
    "    while True:\n",
    "        steps = steps + 1\n",
    "        if verbose:\n",
    "            print(\"\\nStep number %d:\"%steps)\n",
    "            print(\"Current halite: \", current_halite)\n",
    "        a_enc = ship.e_greedy_policy(s_enc, q_values, eps = eps)\n",
    "        a_mat = cod.scalar_to_matrix_action(a_enc, state, map_size = MAP_SIZE) #convert the action in matricial form\n",
    "\n",
    "        # submit the action and get the new state\n",
    "        state, players_halite, finish, _ = env.step(a_mat, makeship = False) \n",
    "\n",
    "        new_halite = players_halite[0][0]\n",
    "\n",
    "        # compute the 1-ship reward as the halite increment of the player divided by the max halite \n",
    "        # plus a standard negative reward \n",
    "        #---------------------------------------------------------------------------------------------------------\n",
    "        if new_halite == current_halite:\n",
    "            r =  STD_REWARD\n",
    "        else:\n",
    "            r = (new_halite - current_halite)/1000 + STD_REWARD*50 # this is the change in the code\n",
    "        #---------------------------------------------------------------------------------------------------------\n",
    "        sp_enc = cod.encode_state(state, map_size = MAP_SIZE, h_lev = H_LEV, n_actions = N_ACTIONS, debug=False)\n",
    "        reward += r # cumulative reward of the episode\n",
    "\n",
    "        # adds 1 to passages if the current position of the ship coincides with that of the shipyard\n",
    "        # whereas the previous position didn't\n",
    "        s_dec = cod.decode3D(s_enc, L1 = MAP_SIZE**2, L2 = H_LEV**6, L3 = N_ACTIONS-1)\n",
    "        sp_dec = cod.decode3D(sp_enc, L1 = MAP_SIZE**2, L2 = H_LEV**6, L3 = N_ACTIONS-1)\n",
    "        shipy_pos = (MAP_SIZE**2-1)/2 #shipyard is at the center of the map\n",
    "        if (sp_dec[0] == shipy_pos and s_dec[0] != shipy_pos):\n",
    "            passages = passages +1\n",
    "                \n",
    "        a_temp_enc = ship.greedy_policy(sp_enc, q_values) # simulate the best action in the new state (before update)\n",
    "\n",
    "        # update Q-values\n",
    "        q_values = ship.update_q_v1(s_enc, a_enc, r, sp_enc, a_temp_enc, q_values, alpha = LEARNING_RATE,\n",
    "                    gamma = DISCOUNT_FACTOR, map_size = MAP_SIZE, h_lev = H_LEV, n_actions = N_ACTIONS)\n",
    "\n",
    "        # update states and halite\n",
    "        s_enc = sp_enc\n",
    "        current_halite = new_halite\n",
    "\n",
    "        if (finish == True) or (steps >= 400):\n",
    "            if verbose:\n",
    "                print(\"\\nEnd episode.\")\n",
    "            break\n",
    "    collected_halite = current_halite - 4000\n",
    "    return q_values, reward, collected_halite, passages"
   ]
  },
  {
   "cell_type": "code",
   "execution_count": 11,
   "metadata": {},
   "outputs": [
    {
     "data": {
      "application/javascript": [
       "/* Put everything inside the global mpl namespace */\n",
       "window.mpl = {};\n",
       "\n",
       "\n",
       "mpl.get_websocket_type = function() {\n",
       "    if (typeof(WebSocket) !== 'undefined') {\n",
       "        return WebSocket;\n",
       "    } else if (typeof(MozWebSocket) !== 'undefined') {\n",
       "        return MozWebSocket;\n",
       "    } else {\n",
       "        alert('Your browser does not have WebSocket support. ' +\n",
       "              'Please try Chrome, Safari or Firefox ≥ 6. ' +\n",
       "              'Firefox 4 and 5 are also supported but you ' +\n",
       "              'have to enable WebSockets in about:config.');\n",
       "    };\n",
       "}\n",
       "\n",
       "mpl.figure = function(figure_id, websocket, ondownload, parent_element) {\n",
       "    this.id = figure_id;\n",
       "\n",
       "    this.ws = websocket;\n",
       "\n",
       "    this.supports_binary = (this.ws.binaryType != undefined);\n",
       "\n",
       "    if (!this.supports_binary) {\n",
       "        var warnings = document.getElementById(\"mpl-warnings\");\n",
       "        if (warnings) {\n",
       "            warnings.style.display = 'block';\n",
       "            warnings.textContent = (\n",
       "                \"This browser does not support binary websocket messages. \" +\n",
       "                    \"Performance may be slow.\");\n",
       "        }\n",
       "    }\n",
       "\n",
       "    this.imageObj = new Image();\n",
       "\n",
       "    this.context = undefined;\n",
       "    this.message = undefined;\n",
       "    this.canvas = undefined;\n",
       "    this.rubberband_canvas = undefined;\n",
       "    this.rubberband_context = undefined;\n",
       "    this.format_dropdown = undefined;\n",
       "\n",
       "    this.image_mode = 'full';\n",
       "\n",
       "    this.root = $('<div/>');\n",
       "    this._root_extra_style(this.root)\n",
       "    this.root.attr('style', 'display: inline-block');\n",
       "\n",
       "    $(parent_element).append(this.root);\n",
       "\n",
       "    this._init_header(this);\n",
       "    this._init_canvas(this);\n",
       "    this._init_toolbar(this);\n",
       "\n",
       "    var fig = this;\n",
       "\n",
       "    this.waiting = false;\n",
       "\n",
       "    this.ws.onopen =  function () {\n",
       "            fig.send_message(\"supports_binary\", {value: fig.supports_binary});\n",
       "            fig.send_message(\"send_image_mode\", {});\n",
       "            if (mpl.ratio != 1) {\n",
       "                fig.send_message(\"set_dpi_ratio\", {'dpi_ratio': mpl.ratio});\n",
       "            }\n",
       "            fig.send_message(\"refresh\", {});\n",
       "        }\n",
       "\n",
       "    this.imageObj.onload = function() {\n",
       "            if (fig.image_mode == 'full') {\n",
       "                // Full images could contain transparency (where diff images\n",
       "                // almost always do), so we need to clear the canvas so that\n",
       "                // there is no ghosting.\n",
       "                fig.context.clearRect(0, 0, fig.canvas.width, fig.canvas.height);\n",
       "            }\n",
       "            fig.context.drawImage(fig.imageObj, 0, 0);\n",
       "        };\n",
       "\n",
       "    this.imageObj.onunload = function() {\n",
       "        fig.ws.close();\n",
       "    }\n",
       "\n",
       "    this.ws.onmessage = this._make_on_message_function(this);\n",
       "\n",
       "    this.ondownload = ondownload;\n",
       "}\n",
       "\n",
       "mpl.figure.prototype._init_header = function() {\n",
       "    var titlebar = $(\n",
       "        '<div class=\"ui-dialog-titlebar ui-widget-header ui-corner-all ' +\n",
       "        'ui-helper-clearfix\"/>');\n",
       "    var titletext = $(\n",
       "        '<div class=\"ui-dialog-title\" style=\"width: 100%; ' +\n",
       "        'text-align: center; padding: 3px;\"/>');\n",
       "    titlebar.append(titletext)\n",
       "    this.root.append(titlebar);\n",
       "    this.header = titletext[0];\n",
       "}\n",
       "\n",
       "\n",
       "\n",
       "mpl.figure.prototype._canvas_extra_style = function(canvas_div) {\n",
       "\n",
       "}\n",
       "\n",
       "\n",
       "mpl.figure.prototype._root_extra_style = function(canvas_div) {\n",
       "\n",
       "}\n",
       "\n",
       "mpl.figure.prototype._init_canvas = function() {\n",
       "    var fig = this;\n",
       "\n",
       "    var canvas_div = $('<div/>');\n",
       "\n",
       "    canvas_div.attr('style', 'position: relative; clear: both; outline: 0');\n",
       "\n",
       "    function canvas_keyboard_event(event) {\n",
       "        return fig.key_event(event, event['data']);\n",
       "    }\n",
       "\n",
       "    canvas_div.keydown('key_press', canvas_keyboard_event);\n",
       "    canvas_div.keyup('key_release', canvas_keyboard_event);\n",
       "    this.canvas_div = canvas_div\n",
       "    this._canvas_extra_style(canvas_div)\n",
       "    this.root.append(canvas_div);\n",
       "\n",
       "    var canvas = $('<canvas/>');\n",
       "    canvas.addClass('mpl-canvas');\n",
       "    canvas.attr('style', \"left: 0; top: 0; z-index: 0; outline: 0\")\n",
       "\n",
       "    this.canvas = canvas[0];\n",
       "    this.context = canvas[0].getContext(\"2d\");\n",
       "\n",
       "    var backingStore = this.context.backingStorePixelRatio ||\n",
       "\tthis.context.webkitBackingStorePixelRatio ||\n",
       "\tthis.context.mozBackingStorePixelRatio ||\n",
       "\tthis.context.msBackingStorePixelRatio ||\n",
       "\tthis.context.oBackingStorePixelRatio ||\n",
       "\tthis.context.backingStorePixelRatio || 1;\n",
       "\n",
       "    mpl.ratio = (window.devicePixelRatio || 1) / backingStore;\n",
       "\n",
       "    var rubberband = $('<canvas/>');\n",
       "    rubberband.attr('style', \"position: absolute; left: 0; top: 0; z-index: 1;\")\n",
       "\n",
       "    var pass_mouse_events = true;\n",
       "\n",
       "    canvas_div.resizable({\n",
       "        start: function(event, ui) {\n",
       "            pass_mouse_events = false;\n",
       "        },\n",
       "        resize: function(event, ui) {\n",
       "            fig.request_resize(ui.size.width, ui.size.height);\n",
       "        },\n",
       "        stop: function(event, ui) {\n",
       "            pass_mouse_events = true;\n",
       "            fig.request_resize(ui.size.width, ui.size.height);\n",
       "        },\n",
       "    });\n",
       "\n",
       "    function mouse_event_fn(event) {\n",
       "        if (pass_mouse_events)\n",
       "            return fig.mouse_event(event, event['data']);\n",
       "    }\n",
       "\n",
       "    rubberband.mousedown('button_press', mouse_event_fn);\n",
       "    rubberband.mouseup('button_release', mouse_event_fn);\n",
       "    // Throttle sequential mouse events to 1 every 20ms.\n",
       "    rubberband.mousemove('motion_notify', mouse_event_fn);\n",
       "\n",
       "    rubberband.mouseenter('figure_enter', mouse_event_fn);\n",
       "    rubberband.mouseleave('figure_leave', mouse_event_fn);\n",
       "\n",
       "    canvas_div.on(\"wheel\", function (event) {\n",
       "        event = event.originalEvent;\n",
       "        event['data'] = 'scroll'\n",
       "        if (event.deltaY < 0) {\n",
       "            event.step = 1;\n",
       "        } else {\n",
       "            event.step = -1;\n",
       "        }\n",
       "        mouse_event_fn(event);\n",
       "    });\n",
       "\n",
       "    canvas_div.append(canvas);\n",
       "    canvas_div.append(rubberband);\n",
       "\n",
       "    this.rubberband = rubberband;\n",
       "    this.rubberband_canvas = rubberband[0];\n",
       "    this.rubberband_context = rubberband[0].getContext(\"2d\");\n",
       "    this.rubberband_context.strokeStyle = \"#000000\";\n",
       "\n",
       "    this._resize_canvas = function(width, height) {\n",
       "        // Keep the size of the canvas, canvas container, and rubber band\n",
       "        // canvas in synch.\n",
       "        canvas_div.css('width', width)\n",
       "        canvas_div.css('height', height)\n",
       "\n",
       "        canvas.attr('width', width * mpl.ratio);\n",
       "        canvas.attr('height', height * mpl.ratio);\n",
       "        canvas.attr('style', 'width: ' + width + 'px; height: ' + height + 'px;');\n",
       "\n",
       "        rubberband.attr('width', width);\n",
       "        rubberband.attr('height', height);\n",
       "    }\n",
       "\n",
       "    // Set the figure to an initial 600x600px, this will subsequently be updated\n",
       "    // upon first draw.\n",
       "    this._resize_canvas(600, 600);\n",
       "\n",
       "    // Disable right mouse context menu.\n",
       "    $(this.rubberband_canvas).bind(\"contextmenu\",function(e){\n",
       "        return false;\n",
       "    });\n",
       "\n",
       "    function set_focus () {\n",
       "        canvas.focus();\n",
       "        canvas_div.focus();\n",
       "    }\n",
       "\n",
       "    window.setTimeout(set_focus, 100);\n",
       "}\n",
       "\n",
       "mpl.figure.prototype._init_toolbar = function() {\n",
       "    var fig = this;\n",
       "\n",
       "    var nav_element = $('<div/>');\n",
       "    nav_element.attr('style', 'width: 100%');\n",
       "    this.root.append(nav_element);\n",
       "\n",
       "    // Define a callback function for later on.\n",
       "    function toolbar_event(event) {\n",
       "        return fig.toolbar_button_onclick(event['data']);\n",
       "    }\n",
       "    function toolbar_mouse_event(event) {\n",
       "        return fig.toolbar_button_onmouseover(event['data']);\n",
       "    }\n",
       "\n",
       "    for(var toolbar_ind in mpl.toolbar_items) {\n",
       "        var name = mpl.toolbar_items[toolbar_ind][0];\n",
       "        var tooltip = mpl.toolbar_items[toolbar_ind][1];\n",
       "        var image = mpl.toolbar_items[toolbar_ind][2];\n",
       "        var method_name = mpl.toolbar_items[toolbar_ind][3];\n",
       "\n",
       "        if (!name) {\n",
       "            // put a spacer in here.\n",
       "            continue;\n",
       "        }\n",
       "        var button = $('<button/>');\n",
       "        button.addClass('ui-button ui-widget ui-state-default ui-corner-all ' +\n",
       "                        'ui-button-icon-only');\n",
       "        button.attr('role', 'button');\n",
       "        button.attr('aria-disabled', 'false');\n",
       "        button.click(method_name, toolbar_event);\n",
       "        button.mouseover(tooltip, toolbar_mouse_event);\n",
       "\n",
       "        var icon_img = $('<span/>');\n",
       "        icon_img.addClass('ui-button-icon-primary ui-icon');\n",
       "        icon_img.addClass(image);\n",
       "        icon_img.addClass('ui-corner-all');\n",
       "\n",
       "        var tooltip_span = $('<span/>');\n",
       "        tooltip_span.addClass('ui-button-text');\n",
       "        tooltip_span.html(tooltip);\n",
       "\n",
       "        button.append(icon_img);\n",
       "        button.append(tooltip_span);\n",
       "\n",
       "        nav_element.append(button);\n",
       "    }\n",
       "\n",
       "    var fmt_picker_span = $('<span/>');\n",
       "\n",
       "    var fmt_picker = $('<select/>');\n",
       "    fmt_picker.addClass('mpl-toolbar-option ui-widget ui-widget-content');\n",
       "    fmt_picker_span.append(fmt_picker);\n",
       "    nav_element.append(fmt_picker_span);\n",
       "    this.format_dropdown = fmt_picker[0];\n",
       "\n",
       "    for (var ind in mpl.extensions) {\n",
       "        var fmt = mpl.extensions[ind];\n",
       "        var option = $(\n",
       "            '<option/>', {selected: fmt === mpl.default_extension}).html(fmt);\n",
       "        fmt_picker.append(option);\n",
       "    }\n",
       "\n",
       "    // Add hover states to the ui-buttons\n",
       "    $( \".ui-button\" ).hover(\n",
       "        function() { $(this).addClass(\"ui-state-hover\");},\n",
       "        function() { $(this).removeClass(\"ui-state-hover\");}\n",
       "    );\n",
       "\n",
       "    var status_bar = $('<span class=\"mpl-message\"/>');\n",
       "    nav_element.append(status_bar);\n",
       "    this.message = status_bar[0];\n",
       "}\n",
       "\n",
       "mpl.figure.prototype.request_resize = function(x_pixels, y_pixels) {\n",
       "    // Request matplotlib to resize the figure. Matplotlib will then trigger a resize in the client,\n",
       "    // which will in turn request a refresh of the image.\n",
       "    this.send_message('resize', {'width': x_pixels, 'height': y_pixels});\n",
       "}\n",
       "\n",
       "mpl.figure.prototype.send_message = function(type, properties) {\n",
       "    properties['type'] = type;\n",
       "    properties['figure_id'] = this.id;\n",
       "    this.ws.send(JSON.stringify(properties));\n",
       "}\n",
       "\n",
       "mpl.figure.prototype.send_draw_message = function() {\n",
       "    if (!this.waiting) {\n",
       "        this.waiting = true;\n",
       "        this.ws.send(JSON.stringify({type: \"draw\", figure_id: this.id}));\n",
       "    }\n",
       "}\n",
       "\n",
       "\n",
       "mpl.figure.prototype.handle_save = function(fig, msg) {\n",
       "    var format_dropdown = fig.format_dropdown;\n",
       "    var format = format_dropdown.options[format_dropdown.selectedIndex].value;\n",
       "    fig.ondownload(fig, format);\n",
       "}\n",
       "\n",
       "\n",
       "mpl.figure.prototype.handle_resize = function(fig, msg) {\n",
       "    var size = msg['size'];\n",
       "    if (size[0] != fig.canvas.width || size[1] != fig.canvas.height) {\n",
       "        fig._resize_canvas(size[0], size[1]);\n",
       "        fig.send_message(\"refresh\", {});\n",
       "    };\n",
       "}\n",
       "\n",
       "mpl.figure.prototype.handle_rubberband = function(fig, msg) {\n",
       "    var x0 = msg['x0'] / mpl.ratio;\n",
       "    var y0 = (fig.canvas.height - msg['y0']) / mpl.ratio;\n",
       "    var x1 = msg['x1'] / mpl.ratio;\n",
       "    var y1 = (fig.canvas.height - msg['y1']) / mpl.ratio;\n",
       "    x0 = Math.floor(x0) + 0.5;\n",
       "    y0 = Math.floor(y0) + 0.5;\n",
       "    x1 = Math.floor(x1) + 0.5;\n",
       "    y1 = Math.floor(y1) + 0.5;\n",
       "    var min_x = Math.min(x0, x1);\n",
       "    var min_y = Math.min(y0, y1);\n",
       "    var width = Math.abs(x1 - x0);\n",
       "    var height = Math.abs(y1 - y0);\n",
       "\n",
       "    fig.rubberband_context.clearRect(\n",
       "        0, 0, fig.canvas.width / mpl.ratio, fig.canvas.height / mpl.ratio);\n",
       "\n",
       "    fig.rubberband_context.strokeRect(min_x, min_y, width, height);\n",
       "}\n",
       "\n",
       "mpl.figure.prototype.handle_figure_label = function(fig, msg) {\n",
       "    // Updates the figure title.\n",
       "    fig.header.textContent = msg['label'];\n",
       "}\n",
       "\n",
       "mpl.figure.prototype.handle_cursor = function(fig, msg) {\n",
       "    var cursor = msg['cursor'];\n",
       "    switch(cursor)\n",
       "    {\n",
       "    case 0:\n",
       "        cursor = 'pointer';\n",
       "        break;\n",
       "    case 1:\n",
       "        cursor = 'default';\n",
       "        break;\n",
       "    case 2:\n",
       "        cursor = 'crosshair';\n",
       "        break;\n",
       "    case 3:\n",
       "        cursor = 'move';\n",
       "        break;\n",
       "    }\n",
       "    fig.rubberband_canvas.style.cursor = cursor;\n",
       "}\n",
       "\n",
       "mpl.figure.prototype.handle_message = function(fig, msg) {\n",
       "    fig.message.textContent = msg['message'];\n",
       "}\n",
       "\n",
       "mpl.figure.prototype.handle_draw = function(fig, msg) {\n",
       "    // Request the server to send over a new figure.\n",
       "    fig.send_draw_message();\n",
       "}\n",
       "\n",
       "mpl.figure.prototype.handle_image_mode = function(fig, msg) {\n",
       "    fig.image_mode = msg['mode'];\n",
       "}\n",
       "\n",
       "mpl.figure.prototype.updated_canvas_event = function() {\n",
       "    // Called whenever the canvas gets updated.\n",
       "    this.send_message(\"ack\", {});\n",
       "}\n",
       "\n",
       "// A function to construct a web socket function for onmessage handling.\n",
       "// Called in the figure constructor.\n",
       "mpl.figure.prototype._make_on_message_function = function(fig) {\n",
       "    return function socket_on_message(evt) {\n",
       "        if (evt.data instanceof Blob) {\n",
       "            /* FIXME: We get \"Resource interpreted as Image but\n",
       "             * transferred with MIME type text/plain:\" errors on\n",
       "             * Chrome.  But how to set the MIME type?  It doesn't seem\n",
       "             * to be part of the websocket stream */\n",
       "            evt.data.type = \"image/png\";\n",
       "\n",
       "            /* Free the memory for the previous frames */\n",
       "            if (fig.imageObj.src) {\n",
       "                (window.URL || window.webkitURL).revokeObjectURL(\n",
       "                    fig.imageObj.src);\n",
       "            }\n",
       "\n",
       "            fig.imageObj.src = (window.URL || window.webkitURL).createObjectURL(\n",
       "                evt.data);\n",
       "            fig.updated_canvas_event();\n",
       "            fig.waiting = false;\n",
       "            return;\n",
       "        }\n",
       "        else if (typeof evt.data === 'string' && evt.data.slice(0, 21) == \"data:image/png;base64\") {\n",
       "            fig.imageObj.src = evt.data;\n",
       "            fig.updated_canvas_event();\n",
       "            fig.waiting = false;\n",
       "            return;\n",
       "        }\n",
       "\n",
       "        var msg = JSON.parse(evt.data);\n",
       "        var msg_type = msg['type'];\n",
       "\n",
       "        // Call the  \"handle_{type}\" callback, which takes\n",
       "        // the figure and JSON message as its only arguments.\n",
       "        try {\n",
       "            var callback = fig[\"handle_\" + msg_type];\n",
       "        } catch (e) {\n",
       "            console.log(\"No handler for the '\" + msg_type + \"' message type: \", msg);\n",
       "            return;\n",
       "        }\n",
       "\n",
       "        if (callback) {\n",
       "            try {\n",
       "                // console.log(\"Handling '\" + msg_type + \"' message: \", msg);\n",
       "                callback(fig, msg);\n",
       "            } catch (e) {\n",
       "                console.log(\"Exception inside the 'handler_\" + msg_type + \"' callback:\", e, e.stack, msg);\n",
       "            }\n",
       "        }\n",
       "    };\n",
       "}\n",
       "\n",
       "// from http://stackoverflow.com/questions/1114465/getting-mouse-location-in-canvas\n",
       "mpl.findpos = function(e) {\n",
       "    //this section is from http://www.quirksmode.org/js/events_properties.html\n",
       "    var targ;\n",
       "    if (!e)\n",
       "        e = window.event;\n",
       "    if (e.target)\n",
       "        targ = e.target;\n",
       "    else if (e.srcElement)\n",
       "        targ = e.srcElement;\n",
       "    if (targ.nodeType == 3) // defeat Safari bug\n",
       "        targ = targ.parentNode;\n",
       "\n",
       "    // jQuery normalizes the pageX and pageY\n",
       "    // pageX,Y are the mouse positions relative to the document\n",
       "    // offset() returns the position of the element relative to the document\n",
       "    var x = e.pageX - $(targ).offset().left;\n",
       "    var y = e.pageY - $(targ).offset().top;\n",
       "\n",
       "    return {\"x\": x, \"y\": y};\n",
       "};\n",
       "\n",
       "/*\n",
       " * return a copy of an object with only non-object keys\n",
       " * we need this to avoid circular references\n",
       " * http://stackoverflow.com/a/24161582/3208463\n",
       " */\n",
       "function simpleKeys (original) {\n",
       "  return Object.keys(original).reduce(function (obj, key) {\n",
       "    if (typeof original[key] !== 'object')\n",
       "        obj[key] = original[key]\n",
       "    return obj;\n",
       "  }, {});\n",
       "}\n",
       "\n",
       "mpl.figure.prototype.mouse_event = function(event, name) {\n",
       "    var canvas_pos = mpl.findpos(event)\n",
       "\n",
       "    if (name === 'button_press')\n",
       "    {\n",
       "        this.canvas.focus();\n",
       "        this.canvas_div.focus();\n",
       "    }\n",
       "\n",
       "    var x = canvas_pos.x * mpl.ratio;\n",
       "    var y = canvas_pos.y * mpl.ratio;\n",
       "\n",
       "    this.send_message(name, {x: x, y: y, button: event.button,\n",
       "                             step: event.step,\n",
       "                             guiEvent: simpleKeys(event)});\n",
       "\n",
       "    /* This prevents the web browser from automatically changing to\n",
       "     * the text insertion cursor when the button is pressed.  We want\n",
       "     * to control all of the cursor setting manually through the\n",
       "     * 'cursor' event from matplotlib */\n",
       "    event.preventDefault();\n",
       "    return false;\n",
       "}\n",
       "\n",
       "mpl.figure.prototype._key_event_extra = function(event, name) {\n",
       "    // Handle any extra behaviour associated with a key event\n",
       "}\n",
       "\n",
       "mpl.figure.prototype.key_event = function(event, name) {\n",
       "\n",
       "    // Prevent repeat events\n",
       "    if (name == 'key_press')\n",
       "    {\n",
       "        if (event.which === this._key)\n",
       "            return;\n",
       "        else\n",
       "            this._key = event.which;\n",
       "    }\n",
       "    if (name == 'key_release')\n",
       "        this._key = null;\n",
       "\n",
       "    var value = '';\n",
       "    if (event.ctrlKey && event.which != 17)\n",
       "        value += \"ctrl+\";\n",
       "    if (event.altKey && event.which != 18)\n",
       "        value += \"alt+\";\n",
       "    if (event.shiftKey && event.which != 16)\n",
       "        value += \"shift+\";\n",
       "\n",
       "    value += 'k';\n",
       "    value += event.which.toString();\n",
       "\n",
       "    this._key_event_extra(event, name);\n",
       "\n",
       "    this.send_message(name, {key: value,\n",
       "                             guiEvent: simpleKeys(event)});\n",
       "    return false;\n",
       "}\n",
       "\n",
       "mpl.figure.prototype.toolbar_button_onclick = function(name) {\n",
       "    if (name == 'download') {\n",
       "        this.handle_save(this, null);\n",
       "    } else {\n",
       "        this.send_message(\"toolbar_button\", {name: name});\n",
       "    }\n",
       "};\n",
       "\n",
       "mpl.figure.prototype.toolbar_button_onmouseover = function(tooltip) {\n",
       "    this.message.textContent = tooltip;\n",
       "};\n",
       "mpl.toolbar_items = [[\"Home\", \"Reset original view\", \"fa fa-home icon-home\", \"home\"], [\"Back\", \"Back to previous view\", \"fa fa-arrow-left icon-arrow-left\", \"back\"], [\"Forward\", \"Forward to next view\", \"fa fa-arrow-right icon-arrow-right\", \"forward\"], [\"\", \"\", \"\", \"\"], [\"Pan\", \"Pan axes with left mouse, zoom with right\", \"fa fa-arrows icon-move\", \"pan\"], [\"Zoom\", \"Zoom to rectangle\", \"fa fa-square-o icon-check-empty\", \"zoom\"], [\"\", \"\", \"\", \"\"], [\"Download\", \"Download plot\", \"fa fa-floppy-o icon-save\", \"download\"]];\n",
       "\n",
       "mpl.extensions = [\"eps\", \"jpeg\", \"pdf\", \"png\", \"ps\", \"raw\", \"svg\", \"tif\"];\n",
       "\n",
       "mpl.default_extension = \"png\";var comm_websocket_adapter = function(comm) {\n",
       "    // Create a \"websocket\"-like object which calls the given IPython comm\n",
       "    // object with the appropriate methods. Currently this is a non binary\n",
       "    // socket, so there is still some room for performance tuning.\n",
       "    var ws = {};\n",
       "\n",
       "    ws.close = function() {\n",
       "        comm.close()\n",
       "    };\n",
       "    ws.send = function(m) {\n",
       "        //console.log('sending', m);\n",
       "        comm.send(m);\n",
       "    };\n",
       "    // Register the callback with on_msg.\n",
       "    comm.on_msg(function(msg) {\n",
       "        //console.log('receiving', msg['content']['data'], msg);\n",
       "        // Pass the mpl event to the overridden (by mpl) onmessage function.\n",
       "        ws.onmessage(msg['content']['data'])\n",
       "    });\n",
       "    return ws;\n",
       "}\n",
       "\n",
       "mpl.mpl_figure_comm = function(comm, msg) {\n",
       "    // This is the function which gets called when the mpl process\n",
       "    // starts-up an IPython Comm through the \"matplotlib\" channel.\n",
       "\n",
       "    var id = msg.content.data.id;\n",
       "    // Get hold of the div created by the display call when the Comm\n",
       "    // socket was opened in Python.\n",
       "    var element = $(\"#\" + id);\n",
       "    var ws_proxy = comm_websocket_adapter(comm)\n",
       "\n",
       "    function ondownload(figure, format) {\n",
       "        window.open(figure.imageObj.src);\n",
       "    }\n",
       "\n",
       "    var fig = new mpl.figure(id, ws_proxy,\n",
       "                           ondownload,\n",
       "                           element.get(0));\n",
       "\n",
       "    // Call onopen now - mpl needs it, as it is assuming we've passed it a real\n",
       "    // web socket which is closed, not our websocket->open comm proxy.\n",
       "    ws_proxy.onopen();\n",
       "\n",
       "    fig.parent_element = element.get(0);\n",
       "    fig.cell_info = mpl.find_output_cell(\"<div id='\" + id + \"'></div>\");\n",
       "    if (!fig.cell_info) {\n",
       "        console.error(\"Failed to find cell for figure\", id, fig);\n",
       "        return;\n",
       "    }\n",
       "\n",
       "    var output_index = fig.cell_info[2]\n",
       "    var cell = fig.cell_info[0];\n",
       "\n",
       "};\n",
       "\n",
       "mpl.figure.prototype.handle_close = function(fig, msg) {\n",
       "    var width = fig.canvas.width/mpl.ratio\n",
       "    fig.root.unbind('remove')\n",
       "\n",
       "    // Update the output cell to use the data from the current canvas.\n",
       "    fig.push_to_output();\n",
       "    var dataURL = fig.canvas.toDataURL();\n",
       "    // Re-enable the keyboard manager in IPython - without this line, in FF,\n",
       "    // the notebook keyboard shortcuts fail.\n",
       "    IPython.keyboard_manager.enable()\n",
       "    $(fig.parent_element).html('<img src=\"' + dataURL + '\" width=\"' + width + '\">');\n",
       "    fig.close_ws(fig, msg);\n",
       "}\n",
       "\n",
       "mpl.figure.prototype.close_ws = function(fig, msg){\n",
       "    fig.send_message('closing', msg);\n",
       "    // fig.ws.close()\n",
       "}\n",
       "\n",
       "mpl.figure.prototype.push_to_output = function(remove_interactive) {\n",
       "    // Turn the data on the canvas into data in the output cell.\n",
       "    var width = this.canvas.width/mpl.ratio\n",
       "    var dataURL = this.canvas.toDataURL();\n",
       "    this.cell_info[1]['text/html'] = '<img src=\"' + dataURL + '\" width=\"' + width + '\">';\n",
       "}\n",
       "\n",
       "mpl.figure.prototype.updated_canvas_event = function() {\n",
       "    // Tell IPython that the notebook contents must change.\n",
       "    IPython.notebook.set_dirty(true);\n",
       "    this.send_message(\"ack\", {});\n",
       "    var fig = this;\n",
       "    // Wait a second, then push the new image to the DOM so\n",
       "    // that it is saved nicely (might be nice to debounce this).\n",
       "    setTimeout(function () { fig.push_to_output() }, 1000);\n",
       "}\n",
       "\n",
       "mpl.figure.prototype._init_toolbar = function() {\n",
       "    var fig = this;\n",
       "\n",
       "    var nav_element = $('<div/>');\n",
       "    nav_element.attr('style', 'width: 100%');\n",
       "    this.root.append(nav_element);\n",
       "\n",
       "    // Define a callback function for later on.\n",
       "    function toolbar_event(event) {\n",
       "        return fig.toolbar_button_onclick(event['data']);\n",
       "    }\n",
       "    function toolbar_mouse_event(event) {\n",
       "        return fig.toolbar_button_onmouseover(event['data']);\n",
       "    }\n",
       "\n",
       "    for(var toolbar_ind in mpl.toolbar_items){\n",
       "        var name = mpl.toolbar_items[toolbar_ind][0];\n",
       "        var tooltip = mpl.toolbar_items[toolbar_ind][1];\n",
       "        var image = mpl.toolbar_items[toolbar_ind][2];\n",
       "        var method_name = mpl.toolbar_items[toolbar_ind][3];\n",
       "\n",
       "        if (!name) { continue; };\n",
       "\n",
       "        var button = $('<button class=\"btn btn-default\" href=\"#\" title=\"' + name + '\"><i class=\"fa ' + image + ' fa-lg\"></i></button>');\n",
       "        button.click(method_name, toolbar_event);\n",
       "        button.mouseover(tooltip, toolbar_mouse_event);\n",
       "        nav_element.append(button);\n",
       "    }\n",
       "\n",
       "    // Add the status bar.\n",
       "    var status_bar = $('<span class=\"mpl-message\" style=\"text-align:right; float: right;\"/>');\n",
       "    nav_element.append(status_bar);\n",
       "    this.message = status_bar[0];\n",
       "\n",
       "    // Add the close button to the window.\n",
       "    var buttongrp = $('<div class=\"btn-group inline pull-right\"></div>');\n",
       "    var button = $('<button class=\"btn btn-mini btn-primary\" href=\"#\" title=\"Stop Interaction\"><i class=\"fa fa-power-off icon-remove icon-large\"></i></button>');\n",
       "    button.click(function (evt) { fig.handle_close(fig, {}); } );\n",
       "    button.mouseover('Stop Interaction', toolbar_mouse_event);\n",
       "    buttongrp.append(button);\n",
       "    var titlebar = this.root.find($('.ui-dialog-titlebar'));\n",
       "    titlebar.prepend(buttongrp);\n",
       "}\n",
       "\n",
       "mpl.figure.prototype._root_extra_style = function(el){\n",
       "    var fig = this\n",
       "    el.on(\"remove\", function(){\n",
       "\tfig.close_ws(fig, {});\n",
       "    });\n",
       "}\n",
       "\n",
       "mpl.figure.prototype._canvas_extra_style = function(el){\n",
       "    // this is important to make the div 'focusable\n",
       "    el.attr('tabindex', 0)\n",
       "    // reach out to IPython and tell the keyboard manager to turn it's self\n",
       "    // off when our div gets focus\n",
       "\n",
       "    // location in version 3\n",
       "    if (IPython.notebook.keyboard_manager) {\n",
       "        IPython.notebook.keyboard_manager.register_events(el);\n",
       "    }\n",
       "    else {\n",
       "        // location in version 2\n",
       "        IPython.keyboard_manager.register_events(el);\n",
       "    }\n",
       "\n",
       "}\n",
       "\n",
       "mpl.figure.prototype._key_event_extra = function(event, name) {\n",
       "    var manager = IPython.notebook.keyboard_manager;\n",
       "    if (!manager)\n",
       "        manager = IPython.keyboard_manager;\n",
       "\n",
       "    // Check for shift+enter\n",
       "    if (event.shiftKey && event.which == 13) {\n",
       "        this.canvas_div.blur();\n",
       "        event.shiftKey = false;\n",
       "        // Send a \"J\" for go to next cell\n",
       "        event.which = 74;\n",
       "        event.keyCode = 74;\n",
       "        manager.command_mode();\n",
       "        manager.handle_keydown(event);\n",
       "    }\n",
       "}\n",
       "\n",
       "mpl.figure.prototype.handle_save = function(fig, msg) {\n",
       "    fig.ondownload(fig, null);\n",
       "}\n",
       "\n",
       "\n",
       "mpl.find_output_cell = function(html_output) {\n",
       "    // Return the cell and output element which can be found *uniquely* in the notebook.\n",
       "    // Note - this is a bit hacky, but it is done because the \"notebook_saving.Notebook\"\n",
       "    // IPython event is triggered only after the cells have been serialised, which for\n",
       "    // our purposes (turning an active figure into a static one), is too late.\n",
       "    var cells = IPython.notebook.get_cells();\n",
       "    var ncells = cells.length;\n",
       "    for (var i=0; i<ncells; i++) {\n",
       "        var cell = cells[i];\n",
       "        if (cell.cell_type === 'code'){\n",
       "            for (var j=0; j<cell.output_area.outputs.length; j++) {\n",
       "                var data = cell.output_area.outputs[j];\n",
       "                if (data.data) {\n",
       "                    // IPython >= 3 moved mimebundle to data attribute of output\n",
       "                    data = data.data;\n",
       "                }\n",
       "                if (data['text/html'] == html_output) {\n",
       "                    return [cell, data, j];\n",
       "                }\n",
       "            }\n",
       "        }\n",
       "    }\n",
       "}\n",
       "\n",
       "// Register the function which deals with the matplotlib target/channel.\n",
       "// The kernel may be null if the page has been refreshed.\n",
       "if (IPython.notebook.kernel != null) {\n",
       "    IPython.notebook.kernel.comm_manager.register_target('matplotlib', mpl.mpl_figure_comm);\n",
       "}\n"
      ],
      "text/plain": [
       "<IPython.core.display.Javascript object>"
      ]
     },
     "metadata": {},
     "output_type": "display_data"
    },
    {
     "data": {
      "text/html": [
       "<img src=\"data:image/png;base64,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\" width=\"800\">"
      ],
      "text/plain": [
       "<IPython.core.display.HTML object>"
      ]
     },
     "metadata": {},
     "output_type": "display_data"
    },
    {
     "data": {
      "application/vnd.jupyter.widget-view+json": {
       "model_id": "10558c52ac5e4819bb20dacbeb4e7776",
       "version_major": 2,
       "version_minor": 0
      },
      "text/plain": [
       "HBox(children=(IntProgress(value=0, description='1st loop', max=200, style=ProgressStyle(description_width='in…"
      ]
     },
     "metadata": {},
     "output_type": "display_data"
    },
    {
     "data": {
      "application/vnd.jupyter.widget-view+json": {
       "model_id": "",
       "version_major": 2,
       "version_minor": 0
      },
      "text/plain": [
       "HBox(children=(IntProgress(value=0, description='2nd loop', max=40, style=ProgressStyle(description_width='ini…"
      ]
     },
     "metadata": {},
     "output_type": "display_data"
    },
    {
     "data": {
      "application/vnd.jupyter.widget-view+json": {
       "model_id": "",
       "version_major": 2,
       "version_minor": 0
      },
      "text/plain": [
       "HBox(children=(IntProgress(value=0, description='2nd loop', max=40, style=ProgressStyle(description_width='ini…"
      ]
     },
     "metadata": {},
     "output_type": "display_data"
    },
    {
     "data": {
      "application/vnd.jupyter.widget-view+json": {
       "model_id": "",
       "version_major": 2,
       "version_minor": 0
      },
      "text/plain": [
       "HBox(children=(IntProgress(value=0, description='2nd loop', max=40, style=ProgressStyle(description_width='ini…"
      ]
     },
     "metadata": {},
     "output_type": "display_data"
    },
    {
     "data": {
      "application/vnd.jupyter.widget-view+json": {
       "model_id": "",
       "version_major": 2,
       "version_minor": 0
      },
      "text/plain": [
       "HBox(children=(IntProgress(value=0, description='2nd loop', max=40, style=ProgressStyle(description_width='ini…"
      ]
     },
     "metadata": {},
     "output_type": "display_data"
    },
    {
     "data": {
      "application/vnd.jupyter.widget-view+json": {
       "model_id": "",
       "version_major": 2,
       "version_minor": 0
      },
      "text/plain": [
       "HBox(children=(IntProgress(value=0, description='2nd loop', max=40, style=ProgressStyle(description_width='ini…"
      ]
     },
     "metadata": {},
     "output_type": "display_data"
    },
    {
     "data": {
      "application/vnd.jupyter.widget-view+json": {
       "model_id": "",
       "version_major": 2,
       "version_minor": 0
      },
      "text/plain": [
       "HBox(children=(IntProgress(value=0, description='2nd loop', max=40, style=ProgressStyle(description_width='ini…"
      ]
     },
     "metadata": {},
     "output_type": "display_data"
    },
    {
     "data": {
      "application/vnd.jupyter.widget-view+json": {
       "model_id": "",
       "version_major": 2,
       "version_minor": 0
      },
      "text/plain": [
       "HBox(children=(IntProgress(value=0, description='2nd loop', max=40, style=ProgressStyle(description_width='ini…"
      ]
     },
     "metadata": {},
     "output_type": "display_data"
    },
    {
     "data": {
      "application/vnd.jupyter.widget-view+json": {
       "model_id": "",
       "version_major": 2,
       "version_minor": 0
      },
      "text/plain": [
       "HBox(children=(IntProgress(value=0, description='2nd loop', max=40, style=ProgressStyle(description_width='ini…"
      ]
     },
     "metadata": {},
     "output_type": "display_data"
    },
    {
     "data": {
      "application/vnd.jupyter.widget-view+json": {
       "model_id": "",
       "version_major": 2,
       "version_minor": 0
      },
      "text/plain": [
       "HBox(children=(IntProgress(value=0, description='2nd loop', max=40, style=ProgressStyle(description_width='ini…"
      ]
     },
     "metadata": {},
     "output_type": "display_data"
    },
    {
     "data": {
      "application/vnd.jupyter.widget-view+json": {
       "model_id": "",
       "version_major": 2,
       "version_minor": 0
      },
      "text/plain": [
       "HBox(children=(IntProgress(value=0, description='2nd loop', max=40, style=ProgressStyle(description_width='ini…"
      ]
     },
     "metadata": {},
     "output_type": "display_data"
    },
    {
     "data": {
      "application/vnd.jupyter.widget-view+json": {
       "model_id": "",
       "version_major": 2,
       "version_minor": 0
      },
      "text/plain": [
       "HBox(children=(IntProgress(value=0, description='2nd loop', max=40, style=ProgressStyle(description_width='ini…"
      ]
     },
     "metadata": {},
     "output_type": "display_data"
    },
    {
     "data": {
      "application/vnd.jupyter.widget-view+json": {
       "model_id": "",
       "version_major": 2,
       "version_minor": 0
      },
      "text/plain": [
       "HBox(children=(IntProgress(value=0, description='2nd loop', max=40, style=ProgressStyle(description_width='ini…"
      ]
     },
     "metadata": {},
     "output_type": "display_data"
    },
    {
     "data": {
      "application/vnd.jupyter.widget-view+json": {
       "model_id": "",
       "version_major": 2,
       "version_minor": 0
      },
      "text/plain": [
       "HBox(children=(IntProgress(value=0, description='2nd loop', max=40, style=ProgressStyle(description_width='ini…"
      ]
     },
     "metadata": {},
     "output_type": "display_data"
    },
    {
     "data": {
      "application/vnd.jupyter.widget-view+json": {
       "model_id": "",
       "version_major": 2,
       "version_minor": 0
      },
      "text/plain": [
       "HBox(children=(IntProgress(value=0, description='2nd loop', max=40, style=ProgressStyle(description_width='ini…"
      ]
     },
     "metadata": {},
     "output_type": "display_data"
    },
    {
     "data": {
      "application/vnd.jupyter.widget-view+json": {
       "model_id": "",
       "version_major": 2,
       "version_minor": 0
      },
      "text/plain": [
       "HBox(children=(IntProgress(value=0, description='2nd loop', max=40, style=ProgressStyle(description_width='ini…"
      ]
     },
     "metadata": {},
     "output_type": "display_data"
    },
    {
     "data": {
      "application/vnd.jupyter.widget-view+json": {
       "model_id": "",
       "version_major": 2,
       "version_minor": 0
      },
      "text/plain": [
       "HBox(children=(IntProgress(value=0, description='2nd loop', max=40, style=ProgressStyle(description_width='ini…"
      ]
     },
     "metadata": {},
     "output_type": "display_data"
    },
    {
     "data": {
      "application/vnd.jupyter.widget-view+json": {
       "model_id": "",
       "version_major": 2,
       "version_minor": 0
      },
      "text/plain": [
       "HBox(children=(IntProgress(value=0, description='2nd loop', max=40, style=ProgressStyle(description_width='ini…"
      ]
     },
     "metadata": {},
     "output_type": "display_data"
    },
    {
     "data": {
      "application/vnd.jupyter.widget-view+json": {
       "model_id": "",
       "version_major": 2,
       "version_minor": 0
      },
      "text/plain": [
       "HBox(children=(IntProgress(value=0, description='2nd loop', max=40, style=ProgressStyle(description_width='ini…"
      ]
     },
     "metadata": {},
     "output_type": "display_data"
    },
    {
     "data": {
      "application/vnd.jupyter.widget-view+json": {
       "model_id": "",
       "version_major": 2,
       "version_minor": 0
      },
      "text/plain": [
       "HBox(children=(IntProgress(value=0, description='2nd loop', max=40, style=ProgressStyle(description_width='ini…"
      ]
     },
     "metadata": {},
     "output_type": "display_data"
    },
    {
     "data": {
      "application/vnd.jupyter.widget-view+json": {
       "model_id": "",
       "version_major": 2,
       "version_minor": 0
      },
      "text/plain": [
       "HBox(children=(IntProgress(value=0, description='2nd loop', max=40, style=ProgressStyle(description_width='ini…"
      ]
     },
     "metadata": {},
     "output_type": "display_data"
    },
    {
     "data": {
      "application/vnd.jupyter.widget-view+json": {
       "model_id": "",
       "version_major": 2,
       "version_minor": 0
      },
      "text/plain": [
       "HBox(children=(IntProgress(value=0, description='2nd loop', max=40, style=ProgressStyle(description_width='ini…"
      ]
     },
     "metadata": {},
     "output_type": "display_data"
    },
    {
     "data": {
      "application/vnd.jupyter.widget-view+json": {
       "model_id": "",
       "version_major": 2,
       "version_minor": 0
      },
      "text/plain": [
       "HBox(children=(IntProgress(value=0, description='2nd loop', max=40, style=ProgressStyle(description_width='ini…"
      ]
     },
     "metadata": {},
     "output_type": "display_data"
    },
    {
     "data": {
      "application/vnd.jupyter.widget-view+json": {
       "model_id": "",
       "version_major": 2,
       "version_minor": 0
      },
      "text/plain": [
       "HBox(children=(IntProgress(value=0, description='2nd loop', max=40, style=ProgressStyle(description_width='ini…"
      ]
     },
     "metadata": {},
     "output_type": "display_data"
    },
    {
     "data": {
      "application/vnd.jupyter.widget-view+json": {
       "model_id": "",
       "version_major": 2,
       "version_minor": 0
      },
      "text/plain": [
       "HBox(children=(IntProgress(value=0, description='2nd loop', max=40, style=ProgressStyle(description_width='ini…"
      ]
     },
     "metadata": {},
     "output_type": "display_data"
    },
    {
     "data": {
      "application/vnd.jupyter.widget-view+json": {
       "model_id": "",
       "version_major": 2,
       "version_minor": 0
      },
      "text/plain": [
       "HBox(children=(IntProgress(value=0, description='2nd loop', max=40, style=ProgressStyle(description_width='ini…"
      ]
     },
     "metadata": {},
     "output_type": "display_data"
    },
    {
     "data": {
      "application/vnd.jupyter.widget-view+json": {
       "model_id": "",
       "version_major": 2,
       "version_minor": 0
      },
      "text/plain": [
       "HBox(children=(IntProgress(value=0, description='2nd loop', max=40, style=ProgressStyle(description_width='ini…"
      ]
     },
     "metadata": {},
     "output_type": "display_data"
    },
    {
     "data": {
      "application/vnd.jupyter.widget-view+json": {
       "model_id": "",
       "version_major": 2,
       "version_minor": 0
      },
      "text/plain": [
       "HBox(children=(IntProgress(value=0, description='2nd loop', max=40, style=ProgressStyle(description_width='ini…"
      ]
     },
     "metadata": {},
     "output_type": "display_data"
    },
    {
     "data": {
      "application/vnd.jupyter.widget-view+json": {
       "model_id": "",
       "version_major": 2,
       "version_minor": 0
      },
      "text/plain": [
       "HBox(children=(IntProgress(value=0, description='2nd loop', max=40, style=ProgressStyle(description_width='ini…"
      ]
     },
     "metadata": {},
     "output_type": "display_data"
    },
    {
     "data": {
      "application/vnd.jupyter.widget-view+json": {
       "model_id": "",
       "version_major": 2,
       "version_minor": 0
      },
      "text/plain": [
       "HBox(children=(IntProgress(value=0, description='2nd loop', max=40, style=ProgressStyle(description_width='ini…"
      ]
     },
     "metadata": {},
     "output_type": "display_data"
    },
    {
     "data": {
      "application/vnd.jupyter.widget-view+json": {
       "model_id": "",
       "version_major": 2,
       "version_minor": 0
      },
      "text/plain": [
       "HBox(children=(IntProgress(value=0, description='2nd loop', max=40, style=ProgressStyle(description_width='ini…"
      ]
     },
     "metadata": {},
     "output_type": "display_data"
    },
    {
     "data": {
      "application/vnd.jupyter.widget-view+json": {
       "model_id": "",
       "version_major": 2,
       "version_minor": 0
      },
      "text/plain": [
       "HBox(children=(IntProgress(value=0, description='2nd loop', max=40, style=ProgressStyle(description_width='ini…"
      ]
     },
     "metadata": {},
     "output_type": "display_data"
    },
    {
     "data": {
      "application/vnd.jupyter.widget-view+json": {
       "model_id": "",
       "version_major": 2,
       "version_minor": 0
      },
      "text/plain": [
       "HBox(children=(IntProgress(value=0, description='2nd loop', max=40, style=ProgressStyle(description_width='ini…"
      ]
     },
     "metadata": {},
     "output_type": "display_data"
    },
    {
     "data": {
      "application/vnd.jupyter.widget-view+json": {
       "model_id": "",
       "version_major": 2,
       "version_minor": 0
      },
      "text/plain": [
       "HBox(children=(IntProgress(value=0, description='2nd loop', max=40, style=ProgressStyle(description_width='ini…"
      ]
     },
     "metadata": {},
     "output_type": "display_data"
    },
    {
     "data": {
      "application/vnd.jupyter.widget-view+json": {
       "model_id": "",
       "version_major": 2,
       "version_minor": 0
      },
      "text/plain": [
       "HBox(children=(IntProgress(value=0, description='2nd loop', max=40, style=ProgressStyle(description_width='ini…"
      ]
     },
     "metadata": {},
     "output_type": "display_data"
    },
    {
     "data": {
      "application/vnd.jupyter.widget-view+json": {
       "model_id": "",
       "version_major": 2,
       "version_minor": 0
      },
      "text/plain": [
       "HBox(children=(IntProgress(value=0, description='2nd loop', max=40, style=ProgressStyle(description_width='ini…"
      ]
     },
     "metadata": {},
     "output_type": "display_data"
    },
    {
     "data": {
      "application/vnd.jupyter.widget-view+json": {
       "model_id": "",
       "version_major": 2,
       "version_minor": 0
      },
      "text/plain": [
       "HBox(children=(IntProgress(value=0, description='2nd loop', max=40, style=ProgressStyle(description_width='ini…"
      ]
     },
     "metadata": {},
     "output_type": "display_data"
    },
    {
     "data": {
      "application/vnd.jupyter.widget-view+json": {
       "model_id": "",
       "version_major": 2,
       "version_minor": 0
      },
      "text/plain": [
       "HBox(children=(IntProgress(value=0, description='2nd loop', max=40, style=ProgressStyle(description_width='ini…"
      ]
     },
     "metadata": {},
     "output_type": "display_data"
    },
    {
     "data": {
      "application/vnd.jupyter.widget-view+json": {
       "model_id": "",
       "version_major": 2,
       "version_minor": 0
      },
      "text/plain": [
       "HBox(children=(IntProgress(value=0, description='2nd loop', max=40, style=ProgressStyle(description_width='ini…"
      ]
     },
     "metadata": {},
     "output_type": "display_data"
    },
    {
     "data": {
      "application/vnd.jupyter.widget-view+json": {
       "model_id": "",
       "version_major": 2,
       "version_minor": 0
      },
      "text/plain": [
       "HBox(children=(IntProgress(value=0, description='2nd loop', max=40, style=ProgressStyle(description_width='ini…"
      ]
     },
     "metadata": {},
     "output_type": "display_data"
    },
    {
     "data": {
      "application/vnd.jupyter.widget-view+json": {
       "model_id": "",
       "version_major": 2,
       "version_minor": 0
      },
      "text/plain": [
       "HBox(children=(IntProgress(value=0, description='2nd loop', max=40, style=ProgressStyle(description_width='ini…"
      ]
     },
     "metadata": {},
     "output_type": "display_data"
    },
    {
     "data": {
      "application/vnd.jupyter.widget-view+json": {
       "model_id": "",
       "version_major": 2,
       "version_minor": 0
      },
      "text/plain": [
       "HBox(children=(IntProgress(value=0, description='2nd loop', max=40, style=ProgressStyle(description_width='ini…"
      ]
     },
     "metadata": {},
     "output_type": "display_data"
    },
    {
     "data": {
      "application/vnd.jupyter.widget-view+json": {
       "model_id": "",
       "version_major": 2,
       "version_minor": 0
      },
      "text/plain": [
       "HBox(children=(IntProgress(value=0, description='2nd loop', max=40, style=ProgressStyle(description_width='ini…"
      ]
     },
     "metadata": {},
     "output_type": "display_data"
    },
    {
     "data": {
      "application/vnd.jupyter.widget-view+json": {
       "model_id": "",
       "version_major": 2,
       "version_minor": 0
      },
      "text/plain": [
       "HBox(children=(IntProgress(value=0, description='2nd loop', max=40, style=ProgressStyle(description_width='ini…"
      ]
     },
     "metadata": {},
     "output_type": "display_data"
    },
    {
     "data": {
      "application/vnd.jupyter.widget-view+json": {
       "model_id": "",
       "version_major": 2,
       "version_minor": 0
      },
      "text/plain": [
       "HBox(children=(IntProgress(value=0, description='2nd loop', max=40, style=ProgressStyle(description_width='ini…"
      ]
     },
     "metadata": {},
     "output_type": "display_data"
    },
    {
     "data": {
      "application/vnd.jupyter.widget-view+json": {
       "model_id": "",
       "version_major": 2,
       "version_minor": 0
      },
      "text/plain": [
       "HBox(children=(IntProgress(value=0, description='2nd loop', max=40, style=ProgressStyle(description_width='ini…"
      ]
     },
     "metadata": {},
     "output_type": "display_data"
    },
    {
     "data": {
      "application/vnd.jupyter.widget-view+json": {
       "model_id": "",
       "version_major": 2,
       "version_minor": 0
      },
      "text/plain": [
       "HBox(children=(IntProgress(value=0, description='2nd loop', max=40, style=ProgressStyle(description_width='ini…"
      ]
     },
     "metadata": {},
     "output_type": "display_data"
    },
    {
     "data": {
      "application/vnd.jupyter.widget-view+json": {
       "model_id": "",
       "version_major": 2,
       "version_minor": 0
      },
      "text/plain": [
       "HBox(children=(IntProgress(value=0, description='2nd loop', max=40, style=ProgressStyle(description_width='ini…"
      ]
     },
     "metadata": {},
     "output_type": "display_data"
    },
    {
     "data": {
      "application/vnd.jupyter.widget-view+json": {
       "model_id": "",
       "version_major": 2,
       "version_minor": 0
      },
      "text/plain": [
       "HBox(children=(IntProgress(value=0, description='2nd loop', max=40, style=ProgressStyle(description_width='ini…"
      ]
     },
     "metadata": {},
     "output_type": "display_data"
    },
    {
     "data": {
      "application/vnd.jupyter.widget-view+json": {
       "model_id": "",
       "version_major": 2,
       "version_minor": 0
      },
      "text/plain": [
       "HBox(children=(IntProgress(value=0, description='2nd loop', max=40, style=ProgressStyle(description_width='ini…"
      ]
     },
     "metadata": {},
     "output_type": "display_data"
    },
    {
     "data": {
      "application/vnd.jupyter.widget-view+json": {
       "model_id": "",
       "version_major": 2,
       "version_minor": 0
      },
      "text/plain": [
       "HBox(children=(IntProgress(value=0, description='2nd loop', max=40, style=ProgressStyle(description_width='ini…"
      ]
     },
     "metadata": {},
     "output_type": "display_data"
    },
    {
     "data": {
      "application/vnd.jupyter.widget-view+json": {
       "model_id": "",
       "version_major": 2,
       "version_minor": 0
      },
      "text/plain": [
       "HBox(children=(IntProgress(value=0, description='2nd loop', max=40, style=ProgressStyle(description_width='ini…"
      ]
     },
     "metadata": {},
     "output_type": "display_data"
    },
    {
     "data": {
      "application/vnd.jupyter.widget-view+json": {
       "model_id": "",
       "version_major": 2,
       "version_minor": 0
      },
      "text/plain": [
       "HBox(children=(IntProgress(value=0, description='2nd loop', max=40, style=ProgressStyle(description_width='ini…"
      ]
     },
     "metadata": {},
     "output_type": "display_data"
    },
    {
     "data": {
      "application/vnd.jupyter.widget-view+json": {
       "model_id": "",
       "version_major": 2,
       "version_minor": 0
      },
      "text/plain": [
       "HBox(children=(IntProgress(value=0, description='2nd loop', max=40, style=ProgressStyle(description_width='ini…"
      ]
     },
     "metadata": {},
     "output_type": "display_data"
    },
    {
     "data": {
      "application/vnd.jupyter.widget-view+json": {
       "model_id": "",
       "version_major": 2,
       "version_minor": 0
      },
      "text/plain": [
       "HBox(children=(IntProgress(value=0, description='2nd loop', max=40, style=ProgressStyle(description_width='ini…"
      ]
     },
     "metadata": {},
     "output_type": "display_data"
    },
    {
     "data": {
      "application/vnd.jupyter.widget-view+json": {
       "model_id": "",
       "version_major": 2,
       "version_minor": 0
      },
      "text/plain": [
       "HBox(children=(IntProgress(value=0, description='2nd loop', max=40, style=ProgressStyle(description_width='ini…"
      ]
     },
     "metadata": {},
     "output_type": "display_data"
    },
    {
     "data": {
      "application/vnd.jupyter.widget-view+json": {
       "model_id": "",
       "version_major": 2,
       "version_minor": 0
      },
      "text/plain": [
       "HBox(children=(IntProgress(value=0, description='2nd loop', max=40, style=ProgressStyle(description_width='ini…"
      ]
     },
     "metadata": {},
     "output_type": "display_data"
    },
    {
     "data": {
      "application/vnd.jupyter.widget-view+json": {
       "model_id": "",
       "version_major": 2,
       "version_minor": 0
      },
      "text/plain": [
       "HBox(children=(IntProgress(value=0, description='2nd loop', max=40, style=ProgressStyle(description_width='ini…"
      ]
     },
     "metadata": {},
     "output_type": "display_data"
    },
    {
     "data": {
      "application/vnd.jupyter.widget-view+json": {
       "model_id": "",
       "version_major": 2,
       "version_minor": 0
      },
      "text/plain": [
       "HBox(children=(IntProgress(value=0, description='2nd loop', max=40, style=ProgressStyle(description_width='ini…"
      ]
     },
     "metadata": {},
     "output_type": "display_data"
    },
    {
     "data": {
      "application/vnd.jupyter.widget-view+json": {
       "model_id": "",
       "version_major": 2,
       "version_minor": 0
      },
      "text/plain": [
       "HBox(children=(IntProgress(value=0, description='2nd loop', max=40, style=ProgressStyle(description_width='ini…"
      ]
     },
     "metadata": {},
     "output_type": "display_data"
    },
    {
     "data": {
      "application/vnd.jupyter.widget-view+json": {
       "model_id": "",
       "version_major": 2,
       "version_minor": 0
      },
      "text/plain": [
       "HBox(children=(IntProgress(value=0, description='2nd loop', max=40, style=ProgressStyle(description_width='ini…"
      ]
     },
     "metadata": {},
     "output_type": "display_data"
    },
    {
     "data": {
      "application/vnd.jupyter.widget-view+json": {
       "model_id": "",
       "version_major": 2,
       "version_minor": 0
      },
      "text/plain": [
       "HBox(children=(IntProgress(value=0, description='2nd loop', max=40, style=ProgressStyle(description_width='ini…"
      ]
     },
     "metadata": {},
     "output_type": "display_data"
    },
    {
     "data": {
      "application/vnd.jupyter.widget-view+json": {
       "model_id": "",
       "version_major": 2,
       "version_minor": 0
      },
      "text/plain": [
       "HBox(children=(IntProgress(value=0, description='2nd loop', max=40, style=ProgressStyle(description_width='ini…"
      ]
     },
     "metadata": {},
     "output_type": "display_data"
    },
    {
     "data": {
      "application/vnd.jupyter.widget-view+json": {
       "model_id": "",
       "version_major": 2,
       "version_minor": 0
      },
      "text/plain": [
       "HBox(children=(IntProgress(value=0, description='2nd loop', max=40, style=ProgressStyle(description_width='ini…"
      ]
     },
     "metadata": {},
     "output_type": "display_data"
    },
    {
     "data": {
      "application/vnd.jupyter.widget-view+json": {
       "model_id": "",
       "version_major": 2,
       "version_minor": 0
      },
      "text/plain": [
       "HBox(children=(IntProgress(value=0, description='2nd loop', max=40, style=ProgressStyle(description_width='ini…"
      ]
     },
     "metadata": {},
     "output_type": "display_data"
    },
    {
     "data": {
      "application/vnd.jupyter.widget-view+json": {
       "model_id": "",
       "version_major": 2,
       "version_minor": 0
      },
      "text/plain": [
       "HBox(children=(IntProgress(value=0, description='2nd loop', max=40, style=ProgressStyle(description_width='ini…"
      ]
     },
     "metadata": {},
     "output_type": "display_data"
    },
    {
     "data": {
      "application/vnd.jupyter.widget-view+json": {
       "model_id": "",
       "version_major": 2,
       "version_minor": 0
      },
      "text/plain": [
       "HBox(children=(IntProgress(value=0, description='2nd loop', max=40, style=ProgressStyle(description_width='ini…"
      ]
     },
     "metadata": {},
     "output_type": "display_data"
    },
    {
     "data": {
      "application/vnd.jupyter.widget-view+json": {
       "model_id": "",
       "version_major": 2,
       "version_minor": 0
      },
      "text/plain": [
       "HBox(children=(IntProgress(value=0, description='2nd loop', max=40, style=ProgressStyle(description_width='ini…"
      ]
     },
     "metadata": {},
     "output_type": "display_data"
    },
    {
     "data": {
      "application/vnd.jupyter.widget-view+json": {
       "model_id": "",
       "version_major": 2,
       "version_minor": 0
      },
      "text/plain": [
       "HBox(children=(IntProgress(value=0, description='2nd loop', max=40, style=ProgressStyle(description_width='ini…"
      ]
     },
     "metadata": {},
     "output_type": "display_data"
    },
    {
     "data": {
      "application/vnd.jupyter.widget-view+json": {
       "model_id": "",
       "version_major": 2,
       "version_minor": 0
      },
      "text/plain": [
       "HBox(children=(IntProgress(value=0, description='2nd loop', max=40, style=ProgressStyle(description_width='ini…"
      ]
     },
     "metadata": {},
     "output_type": "display_data"
    },
    {
     "data": {
      "application/vnd.jupyter.widget-view+json": {
       "model_id": "",
       "version_major": 2,
       "version_minor": 0
      },
      "text/plain": [
       "HBox(children=(IntProgress(value=0, description='2nd loop', max=40, style=ProgressStyle(description_width='ini…"
      ]
     },
     "metadata": {},
     "output_type": "display_data"
    },
    {
     "data": {
      "application/vnd.jupyter.widget-view+json": {
       "model_id": "",
       "version_major": 2,
       "version_minor": 0
      },
      "text/plain": [
       "HBox(children=(IntProgress(value=0, description='2nd loop', max=40, style=ProgressStyle(description_width='ini…"
      ]
     },
     "metadata": {},
     "output_type": "display_data"
    },
    {
     "data": {
      "application/vnd.jupyter.widget-view+json": {
       "model_id": "",
       "version_major": 2,
       "version_minor": 0
      },
      "text/plain": [
       "HBox(children=(IntProgress(value=0, description='2nd loop', max=40, style=ProgressStyle(description_width='ini…"
      ]
     },
     "metadata": {},
     "output_type": "display_data"
    },
    {
     "data": {
      "application/vnd.jupyter.widget-view+json": {
       "model_id": "",
       "version_major": 2,
       "version_minor": 0
      },
      "text/plain": [
       "HBox(children=(IntProgress(value=0, description='2nd loop', max=40, style=ProgressStyle(description_width='ini…"
      ]
     },
     "metadata": {},
     "output_type": "display_data"
    },
    {
     "data": {
      "application/vnd.jupyter.widget-view+json": {
       "model_id": "",
       "version_major": 2,
       "version_minor": 0
      },
      "text/plain": [
       "HBox(children=(IntProgress(value=0, description='2nd loop', max=40, style=ProgressStyle(description_width='ini…"
      ]
     },
     "metadata": {},
     "output_type": "display_data"
    },
    {
     "data": {
      "application/vnd.jupyter.widget-view+json": {
       "model_id": "",
       "version_major": 2,
       "version_minor": 0
      },
      "text/plain": [
       "HBox(children=(IntProgress(value=0, description='2nd loop', max=40, style=ProgressStyle(description_width='ini…"
      ]
     },
     "metadata": {},
     "output_type": "display_data"
    },
    {
     "data": {
      "application/vnd.jupyter.widget-view+json": {
       "model_id": "",
       "version_major": 2,
       "version_minor": 0
      },
      "text/plain": [
       "HBox(children=(IntProgress(value=0, description='2nd loop', max=40, style=ProgressStyle(description_width='ini…"
      ]
     },
     "metadata": {},
     "output_type": "display_data"
    },
    {
     "data": {
      "application/vnd.jupyter.widget-view+json": {
       "model_id": "",
       "version_major": 2,
       "version_minor": 0
      },
      "text/plain": [
       "HBox(children=(IntProgress(value=0, description='2nd loop', max=40, style=ProgressStyle(description_width='ini…"
      ]
     },
     "metadata": {},
     "output_type": "display_data"
    },
    {
     "data": {
      "application/vnd.jupyter.widget-view+json": {
       "model_id": "",
       "version_major": 2,
       "version_minor": 0
      },
      "text/plain": [
       "HBox(children=(IntProgress(value=0, description='2nd loop', max=40, style=ProgressStyle(description_width='ini…"
      ]
     },
     "metadata": {},
     "output_type": "display_data"
    },
    {
     "data": {
      "application/vnd.jupyter.widget-view+json": {
       "model_id": "",
       "version_major": 2,
       "version_minor": 0
      },
      "text/plain": [
       "HBox(children=(IntProgress(value=0, description='2nd loop', max=40, style=ProgressStyle(description_width='ini…"
      ]
     },
     "metadata": {},
     "output_type": "display_data"
    },
    {
     "data": {
      "application/vnd.jupyter.widget-view+json": {
       "model_id": "",
       "version_major": 2,
       "version_minor": 0
      },
      "text/plain": [
       "HBox(children=(IntProgress(value=0, description='2nd loop', max=40, style=ProgressStyle(description_width='ini…"
      ]
     },
     "metadata": {},
     "output_type": "display_data"
    },
    {
     "data": {
      "application/vnd.jupyter.widget-view+json": {
       "model_id": "",
       "version_major": 2,
       "version_minor": 0
      },
      "text/plain": [
       "HBox(children=(IntProgress(value=0, description='2nd loop', max=40, style=ProgressStyle(description_width='ini…"
      ]
     },
     "metadata": {},
     "output_type": "display_data"
    },
    {
     "data": {
      "application/vnd.jupyter.widget-view+json": {
       "model_id": "",
       "version_major": 2,
       "version_minor": 0
      },
      "text/plain": [
       "HBox(children=(IntProgress(value=0, description='2nd loop', max=40, style=ProgressStyle(description_width='ini…"
      ]
     },
     "metadata": {},
     "output_type": "display_data"
    },
    {
     "data": {
      "application/vnd.jupyter.widget-view+json": {
       "model_id": "",
       "version_major": 2,
       "version_minor": 0
      },
      "text/plain": [
       "HBox(children=(IntProgress(value=0, description='2nd loop', max=40, style=ProgressStyle(description_width='ini…"
      ]
     },
     "metadata": {},
     "output_type": "display_data"
    },
    {
     "data": {
      "application/vnd.jupyter.widget-view+json": {
       "model_id": "",
       "version_major": 2,
       "version_minor": 0
      },
      "text/plain": [
       "HBox(children=(IntProgress(value=0, description='2nd loop', max=40, style=ProgressStyle(description_width='ini…"
      ]
     },
     "metadata": {},
     "output_type": "display_data"
    },
    {
     "data": {
      "application/vnd.jupyter.widget-view+json": {
       "model_id": "",
       "version_major": 2,
       "version_minor": 0
      },
      "text/plain": [
       "HBox(children=(IntProgress(value=0, description='2nd loop', max=40, style=ProgressStyle(description_width='ini…"
      ]
     },
     "metadata": {},
     "output_type": "display_data"
    },
    {
     "data": {
      "application/vnd.jupyter.widget-view+json": {
       "model_id": "",
       "version_major": 2,
       "version_minor": 0
      },
      "text/plain": [
       "HBox(children=(IntProgress(value=0, description='2nd loop', max=40, style=ProgressStyle(description_width='ini…"
      ]
     },
     "metadata": {},
     "output_type": "display_data"
    },
    {
     "data": {
      "application/vnd.jupyter.widget-view+json": {
       "model_id": "",
       "version_major": 2,
       "version_minor": 0
      },
      "text/plain": [
       "HBox(children=(IntProgress(value=0, description='2nd loop', max=40, style=ProgressStyle(description_width='ini…"
      ]
     },
     "metadata": {},
     "output_type": "display_data"
    },
    {
     "data": {
      "application/vnd.jupyter.widget-view+json": {
       "model_id": "",
       "version_major": 2,
       "version_minor": 0
      },
      "text/plain": [
       "HBox(children=(IntProgress(value=0, description='2nd loop', max=40, style=ProgressStyle(description_width='ini…"
      ]
     },
     "metadata": {},
     "output_type": "display_data"
    },
    {
     "data": {
      "application/vnd.jupyter.widget-view+json": {
       "model_id": "",
       "version_major": 2,
       "version_minor": 0
      },
      "text/plain": [
       "HBox(children=(IntProgress(value=0, description='2nd loop', max=40, style=ProgressStyle(description_width='ini…"
      ]
     },
     "metadata": {},
     "output_type": "display_data"
    },
    {
     "data": {
      "application/vnd.jupyter.widget-view+json": {
       "model_id": "",
       "version_major": 2,
       "version_minor": 0
      },
      "text/plain": [
       "HBox(children=(IntProgress(value=0, description='2nd loop', max=40, style=ProgressStyle(description_width='ini…"
      ]
     },
     "metadata": {},
     "output_type": "display_data"
    },
    {
     "data": {
      "application/vnd.jupyter.widget-view+json": {
       "model_id": "",
       "version_major": 2,
       "version_minor": 0
      },
      "text/plain": [
       "HBox(children=(IntProgress(value=0, description='2nd loop', max=40, style=ProgressStyle(description_width='ini…"
      ]
     },
     "metadata": {},
     "output_type": "display_data"
    },
    {
     "data": {
      "application/vnd.jupyter.widget-view+json": {
       "model_id": "",
       "version_major": 2,
       "version_minor": 0
      },
      "text/plain": [
       "HBox(children=(IntProgress(value=0, description='2nd loop', max=40, style=ProgressStyle(description_width='ini…"
      ]
     },
     "metadata": {},
     "output_type": "display_data"
    },
    {
     "data": {
      "application/vnd.jupyter.widget-view+json": {
       "model_id": "",
       "version_major": 2,
       "version_minor": 0
      },
      "text/plain": [
       "HBox(children=(IntProgress(value=0, description='2nd loop', max=40, style=ProgressStyle(description_width='ini…"
      ]
     },
     "metadata": {},
     "output_type": "display_data"
    },
    {
     "data": {
      "application/vnd.jupyter.widget-view+json": {
       "model_id": "",
       "version_major": 2,
       "version_minor": 0
      },
      "text/plain": [
       "HBox(children=(IntProgress(value=0, description='2nd loop', max=40, style=ProgressStyle(description_width='ini…"
      ]
     },
     "metadata": {},
     "output_type": "display_data"
    },
    {
     "data": {
      "application/vnd.jupyter.widget-view+json": {
       "model_id": "",
       "version_major": 2,
       "version_minor": 0
      },
      "text/plain": [
       "HBox(children=(IntProgress(value=0, description='2nd loop', max=40, style=ProgressStyle(description_width='ini…"
      ]
     },
     "metadata": {},
     "output_type": "display_data"
    },
    {
     "data": {
      "application/vnd.jupyter.widget-view+json": {
       "model_id": "",
       "version_major": 2,
       "version_minor": 0
      },
      "text/plain": [
       "HBox(children=(IntProgress(value=0, description='2nd loop', max=40, style=ProgressStyle(description_width='ini…"
      ]
     },
     "metadata": {},
     "output_type": "display_data"
    },
    {
     "data": {
      "application/vnd.jupyter.widget-view+json": {
       "model_id": "",
       "version_major": 2,
       "version_minor": 0
      },
      "text/plain": [
       "HBox(children=(IntProgress(value=0, description='2nd loop', max=40, style=ProgressStyle(description_width='ini…"
      ]
     },
     "metadata": {},
     "output_type": "display_data"
    },
    {
     "data": {
      "application/vnd.jupyter.widget-view+json": {
       "model_id": "",
       "version_major": 2,
       "version_minor": 0
      },
      "text/plain": [
       "HBox(children=(IntProgress(value=0, description='2nd loop', max=40, style=ProgressStyle(description_width='ini…"
      ]
     },
     "metadata": {},
     "output_type": "display_data"
    },
    {
     "data": {
      "application/vnd.jupyter.widget-view+json": {
       "model_id": "",
       "version_major": 2,
       "version_minor": 0
      },
      "text/plain": [
       "HBox(children=(IntProgress(value=0, description='2nd loop', max=40, style=ProgressStyle(description_width='ini…"
      ]
     },
     "metadata": {},
     "output_type": "display_data"
    },
    {
     "data": {
      "application/vnd.jupyter.widget-view+json": {
       "model_id": "",
       "version_major": 2,
       "version_minor": 0
      },
      "text/plain": [
       "HBox(children=(IntProgress(value=0, description='2nd loop', max=40, style=ProgressStyle(description_width='ini…"
      ]
     },
     "metadata": {},
     "output_type": "display_data"
    },
    {
     "data": {
      "application/vnd.jupyter.widget-view+json": {
       "model_id": "",
       "version_major": 2,
       "version_minor": 0
      },
      "text/plain": [
       "HBox(children=(IntProgress(value=0, description='2nd loop', max=40, style=ProgressStyle(description_width='ini…"
      ]
     },
     "metadata": {},
     "output_type": "display_data"
    },
    {
     "data": {
      "application/vnd.jupyter.widget-view+json": {
       "model_id": "",
       "version_major": 2,
       "version_minor": 0
      },
      "text/plain": [
       "HBox(children=(IntProgress(value=0, description='2nd loop', max=40, style=ProgressStyle(description_width='ini…"
      ]
     },
     "metadata": {},
     "output_type": "display_data"
    },
    {
     "data": {
      "application/vnd.jupyter.widget-view+json": {
       "model_id": "",
       "version_major": 2,
       "version_minor": 0
      },
      "text/plain": [
       "HBox(children=(IntProgress(value=0, description='2nd loop', max=40, style=ProgressStyle(description_width='ini…"
      ]
     },
     "metadata": {},
     "output_type": "display_data"
    },
    {
     "data": {
      "application/vnd.jupyter.widget-view+json": {
       "model_id": "",
       "version_major": 2,
       "version_minor": 0
      },
      "text/plain": [
       "HBox(children=(IntProgress(value=0, description='2nd loop', max=40, style=ProgressStyle(description_width='ini…"
      ]
     },
     "metadata": {},
     "output_type": "display_data"
    },
    {
     "data": {
      "application/vnd.jupyter.widget-view+json": {
       "model_id": "",
       "version_major": 2,
       "version_minor": 0
      },
      "text/plain": [
       "HBox(children=(IntProgress(value=0, description='2nd loop', max=40, style=ProgressStyle(description_width='ini…"
      ]
     },
     "metadata": {},
     "output_type": "display_data"
    },
    {
     "data": {
      "application/vnd.jupyter.widget-view+json": {
       "model_id": "",
       "version_major": 2,
       "version_minor": 0
      },
      "text/plain": [
       "HBox(children=(IntProgress(value=0, description='2nd loop', max=40, style=ProgressStyle(description_width='ini…"
      ]
     },
     "metadata": {},
     "output_type": "display_data"
    },
    {
     "data": {
      "application/vnd.jupyter.widget-view+json": {
       "model_id": "",
       "version_major": 2,
       "version_minor": 0
      },
      "text/plain": [
       "HBox(children=(IntProgress(value=0, description='2nd loop', max=40, style=ProgressStyle(description_width='ini…"
      ]
     },
     "metadata": {},
     "output_type": "display_data"
    },
    {
     "data": {
      "application/vnd.jupyter.widget-view+json": {
       "model_id": "",
       "version_major": 2,
       "version_minor": 0
      },
      "text/plain": [
       "HBox(children=(IntProgress(value=0, description='2nd loop', max=40, style=ProgressStyle(description_width='ini…"
      ]
     },
     "metadata": {},
     "output_type": "display_data"
    },
    {
     "data": {
      "application/vnd.jupyter.widget-view+json": {
       "model_id": "",
       "version_major": 2,
       "version_minor": 0
      },
      "text/plain": [
       "HBox(children=(IntProgress(value=0, description='2nd loop', max=40, style=ProgressStyle(description_width='ini…"
      ]
     },
     "metadata": {},
     "output_type": "display_data"
    },
    {
     "data": {
      "application/vnd.jupyter.widget-view+json": {
       "model_id": "",
       "version_major": 2,
       "version_minor": 0
      },
      "text/plain": [
       "HBox(children=(IntProgress(value=0, description='2nd loop', max=40, style=ProgressStyle(description_width='ini…"
      ]
     },
     "metadata": {},
     "output_type": "display_data"
    },
    {
     "data": {
      "application/vnd.jupyter.widget-view+json": {
       "model_id": "",
       "version_major": 2,
       "version_minor": 0
      },
      "text/plain": [
       "HBox(children=(IntProgress(value=0, description='2nd loop', max=40, style=ProgressStyle(description_width='ini…"
      ]
     },
     "metadata": {},
     "output_type": "display_data"
    },
    {
     "data": {
      "application/vnd.jupyter.widget-view+json": {
       "model_id": "",
       "version_major": 2,
       "version_minor": 0
      },
      "text/plain": [
       "HBox(children=(IntProgress(value=0, description='2nd loop', max=40, style=ProgressStyle(description_width='ini…"
      ]
     },
     "metadata": {},
     "output_type": "display_data"
    },
    {
     "data": {
      "application/vnd.jupyter.widget-view+json": {
       "model_id": "",
       "version_major": 2,
       "version_minor": 0
      },
      "text/plain": [
       "HBox(children=(IntProgress(value=0, description='2nd loop', max=40, style=ProgressStyle(description_width='ini…"
      ]
     },
     "metadata": {},
     "output_type": "display_data"
    },
    {
     "data": {
      "application/vnd.jupyter.widget-view+json": {
       "model_id": "",
       "version_major": 2,
       "version_minor": 0
      },
      "text/plain": [
       "HBox(children=(IntProgress(value=0, description='2nd loop', max=40, style=ProgressStyle(description_width='ini…"
      ]
     },
     "metadata": {},
     "output_type": "display_data"
    },
    {
     "data": {
      "application/vnd.jupyter.widget-view+json": {
       "model_id": "",
       "version_major": 2,
       "version_minor": 0
      },
      "text/plain": [
       "HBox(children=(IntProgress(value=0, description='2nd loop', max=40, style=ProgressStyle(description_width='ini…"
      ]
     },
     "metadata": {},
     "output_type": "display_data"
    },
    {
     "data": {
      "application/vnd.jupyter.widget-view+json": {
       "model_id": "",
       "version_major": 2,
       "version_minor": 0
      },
      "text/plain": [
       "HBox(children=(IntProgress(value=0, description='2nd loop', max=40, style=ProgressStyle(description_width='ini…"
      ]
     },
     "metadata": {},
     "output_type": "display_data"
    },
    {
     "data": {
      "application/vnd.jupyter.widget-view+json": {
       "model_id": "",
       "version_major": 2,
       "version_minor": 0
      },
      "text/plain": [
       "HBox(children=(IntProgress(value=0, description='2nd loop', max=40, style=ProgressStyle(description_width='ini…"
      ]
     },
     "metadata": {},
     "output_type": "display_data"
    },
    {
     "data": {
      "application/vnd.jupyter.widget-view+json": {
       "model_id": "",
       "version_major": 2,
       "version_minor": 0
      },
      "text/plain": [
       "HBox(children=(IntProgress(value=0, description='2nd loop', max=40, style=ProgressStyle(description_width='ini…"
      ]
     },
     "metadata": {},
     "output_type": "display_data"
    },
    {
     "data": {
      "application/vnd.jupyter.widget-view+json": {
       "model_id": "",
       "version_major": 2,
       "version_minor": 0
      },
      "text/plain": [
       "HBox(children=(IntProgress(value=0, description='2nd loop', max=40, style=ProgressStyle(description_width='ini…"
      ]
     },
     "metadata": {},
     "output_type": "display_data"
    },
    {
     "data": {
      "application/vnd.jupyter.widget-view+json": {
       "model_id": "",
       "version_major": 2,
       "version_minor": 0
      },
      "text/plain": [
       "HBox(children=(IntProgress(value=0, description='2nd loop', max=40, style=ProgressStyle(description_width='ini…"
      ]
     },
     "metadata": {},
     "output_type": "display_data"
    },
    {
     "data": {
      "application/vnd.jupyter.widget-view+json": {
       "model_id": "",
       "version_major": 2,
       "version_minor": 0
      },
      "text/plain": [
       "HBox(children=(IntProgress(value=0, description='2nd loop', max=40, style=ProgressStyle(description_width='ini…"
      ]
     },
     "metadata": {},
     "output_type": "display_data"
    },
    {
     "data": {
      "application/vnd.jupyter.widget-view+json": {
       "model_id": "",
       "version_major": 2,
       "version_minor": 0
      },
      "text/plain": [
       "HBox(children=(IntProgress(value=0, description='2nd loop', max=40, style=ProgressStyle(description_width='ini…"
      ]
     },
     "metadata": {},
     "output_type": "display_data"
    },
    {
     "data": {
      "application/vnd.jupyter.widget-view+json": {
       "model_id": "",
       "version_major": 2,
       "version_minor": 0
      },
      "text/plain": [
       "HBox(children=(IntProgress(value=0, description='2nd loop', max=40, style=ProgressStyle(description_width='ini…"
      ]
     },
     "metadata": {},
     "output_type": "display_data"
    },
    {
     "data": {
      "application/vnd.jupyter.widget-view+json": {
       "model_id": "",
       "version_major": 2,
       "version_minor": 0
      },
      "text/plain": [
       "HBox(children=(IntProgress(value=0, description='2nd loop', max=40, style=ProgressStyle(description_width='ini…"
      ]
     },
     "metadata": {},
     "output_type": "display_data"
    },
    {
     "data": {
      "application/vnd.jupyter.widget-view+json": {
       "model_id": "",
       "version_major": 2,
       "version_minor": 0
      },
      "text/plain": [
       "HBox(children=(IntProgress(value=0, description='2nd loop', max=40, style=ProgressStyle(description_width='ini…"
      ]
     },
     "metadata": {},
     "output_type": "display_data"
    },
    {
     "data": {
      "application/vnd.jupyter.widget-view+json": {
       "model_id": "",
       "version_major": 2,
       "version_minor": 0
      },
      "text/plain": [
       "HBox(children=(IntProgress(value=0, description='2nd loop', max=40, style=ProgressStyle(description_width='ini…"
      ]
     },
     "metadata": {},
     "output_type": "display_data"
    },
    {
     "data": {
      "application/vnd.jupyter.widget-view+json": {
       "model_id": "",
       "version_major": 2,
       "version_minor": 0
      },
      "text/plain": [
       "HBox(children=(IntProgress(value=0, description='2nd loop', max=40, style=ProgressStyle(description_width='ini…"
      ]
     },
     "metadata": {},
     "output_type": "display_data"
    },
    {
     "data": {
      "application/vnd.jupyter.widget-view+json": {
       "model_id": "",
       "version_major": 2,
       "version_minor": 0
      },
      "text/plain": [
       "HBox(children=(IntProgress(value=0, description='2nd loop', max=40, style=ProgressStyle(description_width='ini…"
      ]
     },
     "metadata": {},
     "output_type": "display_data"
    },
    {
     "data": {
      "application/vnd.jupyter.widget-view+json": {
       "model_id": "",
       "version_major": 2,
       "version_minor": 0
      },
      "text/plain": [
       "HBox(children=(IntProgress(value=0, description='2nd loop', max=40, style=ProgressStyle(description_width='ini…"
      ]
     },
     "metadata": {},
     "output_type": "display_data"
    },
    {
     "data": {
      "application/vnd.jupyter.widget-view+json": {
       "model_id": "",
       "version_major": 2,
       "version_minor": 0
      },
      "text/plain": [
       "HBox(children=(IntProgress(value=0, description='2nd loop', max=40, style=ProgressStyle(description_width='ini…"
      ]
     },
     "metadata": {},
     "output_type": "display_data"
    },
    {
     "data": {
      "application/vnd.jupyter.widget-view+json": {
       "model_id": "",
       "version_major": 2,
       "version_minor": 0
      },
      "text/plain": [
       "HBox(children=(IntProgress(value=0, description='2nd loop', max=40, style=ProgressStyle(description_width='ini…"
      ]
     },
     "metadata": {},
     "output_type": "display_data"
    },
    {
     "data": {
      "application/vnd.jupyter.widget-view+json": {
       "model_id": "",
       "version_major": 2,
       "version_minor": 0
      },
      "text/plain": [
       "HBox(children=(IntProgress(value=0, description='2nd loop', max=40, style=ProgressStyle(description_width='ini…"
      ]
     },
     "metadata": {},
     "output_type": "display_data"
    },
    {
     "data": {
      "application/vnd.jupyter.widget-view+json": {
       "model_id": "",
       "version_major": 2,
       "version_minor": 0
      },
      "text/plain": [
       "HBox(children=(IntProgress(value=0, description='2nd loop', max=40, style=ProgressStyle(description_width='ini…"
      ]
     },
     "metadata": {},
     "output_type": "display_data"
    },
    {
     "data": {
      "application/vnd.jupyter.widget-view+json": {
       "model_id": "",
       "version_major": 2,
       "version_minor": 0
      },
      "text/plain": [
       "HBox(children=(IntProgress(value=0, description='2nd loop', max=40, style=ProgressStyle(description_width='ini…"
      ]
     },
     "metadata": {},
     "output_type": "display_data"
    },
    {
     "data": {
      "application/vnd.jupyter.widget-view+json": {
       "model_id": "",
       "version_major": 2,
       "version_minor": 0
      },
      "text/plain": [
       "HBox(children=(IntProgress(value=0, description='2nd loop', max=40, style=ProgressStyle(description_width='ini…"
      ]
     },
     "metadata": {},
     "output_type": "display_data"
    },
    {
     "data": {
      "application/vnd.jupyter.widget-view+json": {
       "model_id": "",
       "version_major": 2,
       "version_minor": 0
      },
      "text/plain": [
       "HBox(children=(IntProgress(value=0, description='2nd loop', max=40, style=ProgressStyle(description_width='ini…"
      ]
     },
     "metadata": {},
     "output_type": "display_data"
    },
    {
     "data": {
      "application/vnd.jupyter.widget-view+json": {
       "model_id": "",
       "version_major": 2,
       "version_minor": 0
      },
      "text/plain": [
       "HBox(children=(IntProgress(value=0, description='2nd loop', max=40, style=ProgressStyle(description_width='ini…"
      ]
     },
     "metadata": {},
     "output_type": "display_data"
    },
    {
     "data": {
      "application/vnd.jupyter.widget-view+json": {
       "model_id": "",
       "version_major": 2,
       "version_minor": 0
      },
      "text/plain": [
       "HBox(children=(IntProgress(value=0, description='2nd loop', max=40, style=ProgressStyle(description_width='ini…"
      ]
     },
     "metadata": {},
     "output_type": "display_data"
    },
    {
     "data": {
      "application/vnd.jupyter.widget-view+json": {
       "model_id": "",
       "version_major": 2,
       "version_minor": 0
      },
      "text/plain": [
       "HBox(children=(IntProgress(value=0, description='2nd loop', max=40, style=ProgressStyle(description_width='ini…"
      ]
     },
     "metadata": {},
     "output_type": "display_data"
    },
    {
     "data": {
      "application/vnd.jupyter.widget-view+json": {
       "model_id": "",
       "version_major": 2,
       "version_minor": 0
      },
      "text/plain": [
       "HBox(children=(IntProgress(value=0, description='2nd loop', max=40, style=ProgressStyle(description_width='ini…"
      ]
     },
     "metadata": {},
     "output_type": "display_data"
    },
    {
     "data": {
      "application/vnd.jupyter.widget-view+json": {
       "model_id": "",
       "version_major": 2,
       "version_minor": 0
      },
      "text/plain": [
       "HBox(children=(IntProgress(value=0, description='2nd loop', max=40, style=ProgressStyle(description_width='ini…"
      ]
     },
     "metadata": {},
     "output_type": "display_data"
    },
    {
     "data": {
      "application/vnd.jupyter.widget-view+json": {
       "model_id": "",
       "version_major": 2,
       "version_minor": 0
      },
      "text/plain": [
       "HBox(children=(IntProgress(value=0, description='2nd loop', max=40, style=ProgressStyle(description_width='ini…"
      ]
     },
     "metadata": {},
     "output_type": "display_data"
    },
    {
     "data": {
      "application/vnd.jupyter.widget-view+json": {
       "model_id": "",
       "version_major": 2,
       "version_minor": 0
      },
      "text/plain": [
       "HBox(children=(IntProgress(value=0, description='2nd loop', max=40, style=ProgressStyle(description_width='ini…"
      ]
     },
     "metadata": {},
     "output_type": "display_data"
    },
    {
     "data": {
      "application/vnd.jupyter.widget-view+json": {
       "model_id": "",
       "version_major": 2,
       "version_minor": 0
      },
      "text/plain": [
       "HBox(children=(IntProgress(value=0, description='2nd loop', max=40, style=ProgressStyle(description_width='ini…"
      ]
     },
     "metadata": {},
     "output_type": "display_data"
    },
    {
     "data": {
      "application/vnd.jupyter.widget-view+json": {
       "model_id": "",
       "version_major": 2,
       "version_minor": 0
      },
      "text/plain": [
       "HBox(children=(IntProgress(value=0, description='2nd loop', max=40, style=ProgressStyle(description_width='ini…"
      ]
     },
     "metadata": {},
     "output_type": "display_data"
    },
    {
     "data": {
      "application/vnd.jupyter.widget-view+json": {
       "model_id": "",
       "version_major": 2,
       "version_minor": 0
      },
      "text/plain": [
       "HBox(children=(IntProgress(value=0, description='2nd loop', max=40, style=ProgressStyle(description_width='ini…"
      ]
     },
     "metadata": {},
     "output_type": "display_data"
    },
    {
     "data": {
      "application/vnd.jupyter.widget-view+json": {
       "model_id": "",
       "version_major": 2,
       "version_minor": 0
      },
      "text/plain": [
       "HBox(children=(IntProgress(value=0, description='2nd loop', max=40, style=ProgressStyle(description_width='ini…"
      ]
     },
     "metadata": {},
     "output_type": "display_data"
    },
    {
     "data": {
      "application/vnd.jupyter.widget-view+json": {
       "model_id": "",
       "version_major": 2,
       "version_minor": 0
      },
      "text/plain": [
       "HBox(children=(IntProgress(value=0, description='2nd loop', max=40, style=ProgressStyle(description_width='ini…"
      ]
     },
     "metadata": {},
     "output_type": "display_data"
    },
    {
     "data": {
      "application/vnd.jupyter.widget-view+json": {
       "model_id": "",
       "version_major": 2,
       "version_minor": 0
      },
      "text/plain": [
       "HBox(children=(IntProgress(value=0, description='2nd loop', max=40, style=ProgressStyle(description_width='ini…"
      ]
     },
     "metadata": {},
     "output_type": "display_data"
    },
    {
     "data": {
      "application/vnd.jupyter.widget-view+json": {
       "model_id": "",
       "version_major": 2,
       "version_minor": 0
      },
      "text/plain": [
       "HBox(children=(IntProgress(value=0, description='2nd loop', max=40, style=ProgressStyle(description_width='ini…"
      ]
     },
     "metadata": {},
     "output_type": "display_data"
    },
    {
     "data": {
      "application/vnd.jupyter.widget-view+json": {
       "model_id": "",
       "version_major": 2,
       "version_minor": 0
      },
      "text/plain": [
       "HBox(children=(IntProgress(value=0, description='2nd loop', max=40, style=ProgressStyle(description_width='ini…"
      ]
     },
     "metadata": {},
     "output_type": "display_data"
    },
    {
     "data": {
      "application/vnd.jupyter.widget-view+json": {
       "model_id": "",
       "version_major": 2,
       "version_minor": 0
      },
      "text/plain": [
       "HBox(children=(IntProgress(value=0, description='2nd loop', max=40, style=ProgressStyle(description_width='ini…"
      ]
     },
     "metadata": {},
     "output_type": "display_data"
    },
    {
     "data": {
      "application/vnd.jupyter.widget-view+json": {
       "model_id": "",
       "version_major": 2,
       "version_minor": 0
      },
      "text/plain": [
       "HBox(children=(IntProgress(value=0, description='2nd loop', max=40, style=ProgressStyle(description_width='ini…"
      ]
     },
     "metadata": {},
     "output_type": "display_data"
    },
    {
     "data": {
      "application/vnd.jupyter.widget-view+json": {
       "model_id": "",
       "version_major": 2,
       "version_minor": 0
      },
      "text/plain": [
       "HBox(children=(IntProgress(value=0, description='2nd loop', max=40, style=ProgressStyle(description_width='ini…"
      ]
     },
     "metadata": {},
     "output_type": "display_data"
    },
    {
     "data": {
      "application/vnd.jupyter.widget-view+json": {
       "model_id": "",
       "version_major": 2,
       "version_minor": 0
      },
      "text/plain": [
       "HBox(children=(IntProgress(value=0, description='2nd loop', max=40, style=ProgressStyle(description_width='ini…"
      ]
     },
     "metadata": {},
     "output_type": "display_data"
    },
    {
     "data": {
      "application/vnd.jupyter.widget-view+json": {
       "model_id": "",
       "version_major": 2,
       "version_minor": 0
      },
      "text/plain": [
       "HBox(children=(IntProgress(value=0, description='2nd loop', max=40, style=ProgressStyle(description_width='ini…"
      ]
     },
     "metadata": {},
     "output_type": "display_data"
    },
    {
     "data": {
      "application/vnd.jupyter.widget-view+json": {
       "model_id": "",
       "version_major": 2,
       "version_minor": 0
      },
      "text/plain": [
       "HBox(children=(IntProgress(value=0, description='2nd loop', max=40, style=ProgressStyle(description_width='ini…"
      ]
     },
     "metadata": {},
     "output_type": "display_data"
    },
    {
     "data": {
      "application/vnd.jupyter.widget-view+json": {
       "model_id": "",
       "version_major": 2,
       "version_minor": 0
      },
      "text/plain": [
       "HBox(children=(IntProgress(value=0, description='2nd loop', max=40, style=ProgressStyle(description_width='ini…"
      ]
     },
     "metadata": {},
     "output_type": "display_data"
    },
    {
     "data": {
      "application/vnd.jupyter.widget-view+json": {
       "model_id": "",
       "version_major": 2,
       "version_minor": 0
      },
      "text/plain": [
       "HBox(children=(IntProgress(value=0, description='2nd loop', max=40, style=ProgressStyle(description_width='ini…"
      ]
     },
     "metadata": {},
     "output_type": "display_data"
    },
    {
     "data": {
      "application/vnd.jupyter.widget-view+json": {
       "model_id": "",
       "version_major": 2,
       "version_minor": 0
      },
      "text/plain": [
       "HBox(children=(IntProgress(value=0, description='2nd loop', max=40, style=ProgressStyle(description_width='ini…"
      ]
     },
     "metadata": {},
     "output_type": "display_data"
    },
    {
     "data": {
      "application/vnd.jupyter.widget-view+json": {
       "model_id": "",
       "version_major": 2,
       "version_minor": 0
      },
      "text/plain": [
       "HBox(children=(IntProgress(value=0, description='2nd loop', max=40, style=ProgressStyle(description_width='ini…"
      ]
     },
     "metadata": {},
     "output_type": "display_data"
    },
    {
     "data": {
      "application/vnd.jupyter.widget-view+json": {
       "model_id": "",
       "version_major": 2,
       "version_minor": 0
      },
      "text/plain": [
       "HBox(children=(IntProgress(value=0, description='2nd loop', max=40, style=ProgressStyle(description_width='ini…"
      ]
     },
     "metadata": {},
     "output_type": "display_data"
    },
    {
     "data": {
      "application/vnd.jupyter.widget-view+json": {
       "model_id": "",
       "version_major": 2,
       "version_minor": 0
      },
      "text/plain": [
       "HBox(children=(IntProgress(value=0, description='2nd loop', max=40, style=ProgressStyle(description_width='ini…"
      ]
     },
     "metadata": {},
     "output_type": "display_data"
    },
    {
     "data": {
      "application/vnd.jupyter.widget-view+json": {
       "model_id": "",
       "version_major": 2,
       "version_minor": 0
      },
      "text/plain": [
       "HBox(children=(IntProgress(value=0, description='2nd loop', max=40, style=ProgressStyle(description_width='ini…"
      ]
     },
     "metadata": {},
     "output_type": "display_data"
    },
    {
     "data": {
      "application/vnd.jupyter.widget-view+json": {
       "model_id": "",
       "version_major": 2,
       "version_minor": 0
      },
      "text/plain": [
       "HBox(children=(IntProgress(value=0, description='2nd loop', max=40, style=ProgressStyle(description_width='ini…"
      ]
     },
     "metadata": {},
     "output_type": "display_data"
    },
    {
     "data": {
      "application/vnd.jupyter.widget-view+json": {
       "model_id": "",
       "version_major": 2,
       "version_minor": 0
      },
      "text/plain": [
       "HBox(children=(IntProgress(value=0, description='2nd loop', max=40, style=ProgressStyle(description_width='ini…"
      ]
     },
     "metadata": {},
     "output_type": "display_data"
    },
    {
     "data": {
      "application/vnd.jupyter.widget-view+json": {
       "model_id": "",
       "version_major": 2,
       "version_minor": 0
      },
      "text/plain": [
       "HBox(children=(IntProgress(value=0, description='2nd loop', max=40, style=ProgressStyle(description_width='ini…"
      ]
     },
     "metadata": {},
     "output_type": "display_data"
    },
    {
     "data": {
      "application/vnd.jupyter.widget-view+json": {
       "model_id": "",
       "version_major": 2,
       "version_minor": 0
      },
      "text/plain": [
       "HBox(children=(IntProgress(value=0, description='2nd loop', max=40, style=ProgressStyle(description_width='ini…"
      ]
     },
     "metadata": {},
     "output_type": "display_data"
    },
    {
     "data": {
      "application/vnd.jupyter.widget-view+json": {
       "model_id": "",
       "version_major": 2,
       "version_minor": 0
      },
      "text/plain": [
       "HBox(children=(IntProgress(value=0, description='2nd loop', max=40, style=ProgressStyle(description_width='ini…"
      ]
     },
     "metadata": {},
     "output_type": "display_data"
    },
    {
     "data": {
      "application/vnd.jupyter.widget-view+json": {
       "model_id": "",
       "version_major": 2,
       "version_minor": 0
      },
      "text/plain": [
       "HBox(children=(IntProgress(value=0, description='2nd loop', max=40, style=ProgressStyle(description_width='ini…"
      ]
     },
     "metadata": {},
     "output_type": "display_data"
    },
    {
     "data": {
      "application/vnd.jupyter.widget-view+json": {
       "model_id": "",
       "version_major": 2,
       "version_minor": 0
      },
      "text/plain": [
       "HBox(children=(IntProgress(value=0, description='2nd loop', max=40, style=ProgressStyle(description_width='ini…"
      ]
     },
     "metadata": {},
     "output_type": "display_data"
    },
    {
     "data": {
      "application/vnd.jupyter.widget-view+json": {
       "model_id": "",
       "version_major": 2,
       "version_minor": 0
      },
      "text/plain": [
       "HBox(children=(IntProgress(value=0, description='2nd loop', max=40, style=ProgressStyle(description_width='ini…"
      ]
     },
     "metadata": {},
     "output_type": "display_data"
    },
    {
     "data": {
      "application/vnd.jupyter.widget-view+json": {
       "model_id": "",
       "version_major": 2,
       "version_minor": 0
      },
      "text/plain": [
       "HBox(children=(IntProgress(value=0, description='2nd loop', max=40, style=ProgressStyle(description_width='ini…"
      ]
     },
     "metadata": {},
     "output_type": "display_data"
    },
    {
     "data": {
      "application/vnd.jupyter.widget-view+json": {
       "model_id": "",
       "version_major": 2,
       "version_minor": 0
      },
      "text/plain": [
       "HBox(children=(IntProgress(value=0, description='2nd loop', max=40, style=ProgressStyle(description_width='ini…"
      ]
     },
     "metadata": {},
     "output_type": "display_data"
    },
    {
     "data": {
      "application/vnd.jupyter.widget-view+json": {
       "model_id": "",
       "version_major": 2,
       "version_minor": 0
      },
      "text/plain": [
       "HBox(children=(IntProgress(value=0, description='2nd loop', max=40, style=ProgressStyle(description_width='ini…"
      ]
     },
     "metadata": {},
     "output_type": "display_data"
    },
    {
     "data": {
      "application/vnd.jupyter.widget-view+json": {
       "model_id": "",
       "version_major": 2,
       "version_minor": 0
      },
      "text/plain": [
       "HBox(children=(IntProgress(value=0, description='2nd loop', max=40, style=ProgressStyle(description_width='ini…"
      ]
     },
     "metadata": {},
     "output_type": "display_data"
    },
    {
     "data": {
      "application/vnd.jupyter.widget-view+json": {
       "model_id": "",
       "version_major": 2,
       "version_minor": 0
      },
      "text/plain": [
       "HBox(children=(IntProgress(value=0, description='2nd loop', max=40, style=ProgressStyle(description_width='ini…"
      ]
     },
     "metadata": {},
     "output_type": "display_data"
    },
    {
     "data": {
      "application/vnd.jupyter.widget-view+json": {
       "model_id": "",
       "version_major": 2,
       "version_minor": 0
      },
      "text/plain": [
       "HBox(children=(IntProgress(value=0, description='2nd loop', max=40, style=ProgressStyle(description_width='ini…"
      ]
     },
     "metadata": {},
     "output_type": "display_data"
    },
    {
     "data": {
      "application/vnd.jupyter.widget-view+json": {
       "model_id": "",
       "version_major": 2,
       "version_minor": 0
      },
      "text/plain": [
       "HBox(children=(IntProgress(value=0, description='2nd loop', max=40, style=ProgressStyle(description_width='ini…"
      ]
     },
     "metadata": {},
     "output_type": "display_data"
    },
    {
     "data": {
      "application/vnd.jupyter.widget-view+json": {
       "model_id": "",
       "version_major": 2,
       "version_minor": 0
      },
      "text/plain": [
       "HBox(children=(IntProgress(value=0, description='2nd loop', max=40, style=ProgressStyle(description_width='ini…"
      ]
     },
     "metadata": {},
     "output_type": "display_data"
    },
    {
     "data": {
      "application/vnd.jupyter.widget-view+json": {
       "model_id": "",
       "version_major": 2,
       "version_minor": 0
      },
      "text/plain": [
       "HBox(children=(IntProgress(value=0, description='2nd loop', max=40, style=ProgressStyle(description_width='ini…"
      ]
     },
     "metadata": {},
     "output_type": "display_data"
    },
    {
     "data": {
      "application/vnd.jupyter.widget-view+json": {
       "model_id": "",
       "version_major": 2,
       "version_minor": 0
      },
      "text/plain": [
       "HBox(children=(IntProgress(value=0, description='2nd loop', max=40, style=ProgressStyle(description_width='ini…"
      ]
     },
     "metadata": {},
     "output_type": "display_data"
    },
    {
     "data": {
      "application/vnd.jupyter.widget-view+json": {
       "model_id": "",
       "version_major": 2,
       "version_minor": 0
      },
      "text/plain": [
       "HBox(children=(IntProgress(value=0, description='2nd loop', max=40, style=ProgressStyle(description_width='ini…"
      ]
     },
     "metadata": {},
     "output_type": "display_data"
    },
    {
     "data": {
      "application/vnd.jupyter.widget-view+json": {
       "model_id": "",
       "version_major": 2,
       "version_minor": 0
      },
      "text/plain": [
       "HBox(children=(IntProgress(value=0, description='2nd loop', max=40, style=ProgressStyle(description_width='ini…"
      ]
     },
     "metadata": {},
     "output_type": "display_data"
    },
    {
     "data": {
      "application/vnd.jupyter.widget-view+json": {
       "model_id": "",
       "version_major": 2,
       "version_minor": 0
      },
      "text/plain": [
       "HBox(children=(IntProgress(value=0, description='2nd loop', max=40, style=ProgressStyle(description_width='ini…"
      ]
     },
     "metadata": {},
     "output_type": "display_data"
    },
    {
     "data": {
      "application/vnd.jupyter.widget-view+json": {
       "model_id": "",
       "version_major": 2,
       "version_minor": 0
      },
      "text/plain": [
       "HBox(children=(IntProgress(value=0, description='2nd loop', max=40, style=ProgressStyle(description_width='ini…"
      ]
     },
     "metadata": {},
     "output_type": "display_data"
    },
    {
     "data": {
      "application/vnd.jupyter.widget-view+json": {
       "model_id": "",
       "version_major": 2,
       "version_minor": 0
      },
      "text/plain": [
       "HBox(children=(IntProgress(value=0, description='2nd loop', max=40, style=ProgressStyle(description_width='ini…"
      ]
     },
     "metadata": {},
     "output_type": "display_data"
    },
    {
     "data": {
      "application/vnd.jupyter.widget-view+json": {
       "model_id": "",
       "version_major": 2,
       "version_minor": 0
      },
      "text/plain": [
       "HBox(children=(IntProgress(value=0, description='2nd loop', max=40, style=ProgressStyle(description_width='ini…"
      ]
     },
     "metadata": {},
     "output_type": "display_data"
    },
    {
     "data": {
      "application/vnd.jupyter.widget-view+json": {
       "model_id": "",
       "version_major": 2,
       "version_minor": 0
      },
      "text/plain": [
       "HBox(children=(IntProgress(value=0, description='2nd loop', max=40, style=ProgressStyle(description_width='ini…"
      ]
     },
     "metadata": {},
     "output_type": "display_data"
    },
    {
     "data": {
      "application/vnd.jupyter.widget-view+json": {
       "model_id": "",
       "version_major": 2,
       "version_minor": 0
      },
      "text/plain": [
       "HBox(children=(IntProgress(value=0, description='2nd loop', max=40, style=ProgressStyle(description_width='ini…"
      ]
     },
     "metadata": {},
     "output_type": "display_data"
    },
    {
     "data": {
      "application/vnd.jupyter.widget-view+json": {
       "model_id": "",
       "version_major": 2,
       "version_minor": 0
      },
      "text/plain": [
       "HBox(children=(IntProgress(value=0, description='2nd loop', max=40, style=ProgressStyle(description_width='ini…"
      ]
     },
     "metadata": {},
     "output_type": "display_data"
    },
    {
     "data": {
      "application/vnd.jupyter.widget-view+json": {
       "model_id": "",
       "version_major": 2,
       "version_minor": 0
      },
      "text/plain": [
       "HBox(children=(IntProgress(value=0, description='2nd loop', max=40, style=ProgressStyle(description_width='ini…"
      ]
     },
     "metadata": {},
     "output_type": "display_data"
    },
    {
     "data": {
      "application/vnd.jupyter.widget-view+json": {
       "model_id": "",
       "version_major": 2,
       "version_minor": 0
      },
      "text/plain": [
       "HBox(children=(IntProgress(value=0, description='2nd loop', max=40, style=ProgressStyle(description_width='ini…"
      ]
     },
     "metadata": {},
     "output_type": "display_data"
    },
    {
     "data": {
      "application/vnd.jupyter.widget-view+json": {
       "model_id": "",
       "version_major": 2,
       "version_minor": 0
      },
      "text/plain": [
       "HBox(children=(IntProgress(value=0, description='2nd loop', max=40, style=ProgressStyle(description_width='ini…"
      ]
     },
     "metadata": {},
     "output_type": "display_data"
    },
    {
     "data": {
      "application/vnd.jupyter.widget-view+json": {
       "model_id": "",
       "version_major": 2,
       "version_minor": 0
      },
      "text/plain": [
       "HBox(children=(IntProgress(value=0, description='2nd loop', max=40, style=ProgressStyle(description_width='ini…"
      ]
     },
     "metadata": {},
     "output_type": "display_data"
    },
    {
     "data": {
      "application/vnd.jupyter.widget-view+json": {
       "model_id": "",
       "version_major": 2,
       "version_minor": 0
      },
      "text/plain": [
       "HBox(children=(IntProgress(value=0, description='2nd loop', max=40, style=ProgressStyle(description_width='ini…"
      ]
     },
     "metadata": {},
     "output_type": "display_data"
    },
    {
     "data": {
      "application/vnd.jupyter.widget-view+json": {
       "model_id": "",
       "version_major": 2,
       "version_minor": 0
      },
      "text/plain": [
       "HBox(children=(IntProgress(value=0, description='2nd loop', max=40, style=ProgressStyle(description_width='ini…"
      ]
     },
     "metadata": {},
     "output_type": "display_data"
    },
    {
     "data": {
      "application/vnd.jupyter.widget-view+json": {
       "model_id": "",
       "version_major": 2,
       "version_minor": 0
      },
      "text/plain": [
       "HBox(children=(IntProgress(value=0, description='2nd loop', max=40, style=ProgressStyle(description_width='ini…"
      ]
     },
     "metadata": {},
     "output_type": "display_data"
    },
    {
     "data": {
      "application/vnd.jupyter.widget-view+json": {
       "model_id": "",
       "version_major": 2,
       "version_minor": 0
      },
      "text/plain": [
       "HBox(children=(IntProgress(value=0, description='2nd loop', max=40, style=ProgressStyle(description_width='ini…"
      ]
     },
     "metadata": {},
     "output_type": "display_data"
    },
    {
     "data": {
      "application/vnd.jupyter.widget-view+json": {
       "model_id": "",
       "version_major": 2,
       "version_minor": 0
      },
      "text/plain": [
       "HBox(children=(IntProgress(value=0, description='2nd loop', max=40, style=ProgressStyle(description_width='ini…"
      ]
     },
     "metadata": {},
     "output_type": "display_data"
    },
    {
     "name": "stdout",
     "output_type": "stream",
     "text": [
      "Hey, I think you've had enough! Let's stop here.\n"
     ]
    }
   ],
   "source": [
    "#@@@@@@@@@@@@@@@@@@@\n",
    "# Learning variables\n",
    "#@@@@@@@@@@@@@@@@@@@\n",
    "q_values = np.zeros((N_STATES,N_ACTIONS)) #initialize to zero\n",
    "#q_values = np.load(\"Q_values.npy\") # or re-use the one already trained\n",
    "reward_score = np.zeros(MAX_EPOCHS)\n",
    "halite_score = np.zeros(MAX_EPOCHS)\n",
    "shipy_pass = np.zeros(MAX_EPOCHS)\n",
    "epochs = 0\n",
    "eps = EPS_START # starting value of epsilon\n",
    "# generate an adaptive epsilon greedy algorithm, calibrated in order to have epsilon = 10^-4 at the last epoch\n",
    "epsilons = np.array(list(map(lambda i : eps*np.exp(-i*2*np.log(10)/MAX_EPOCHS), np.arange(0,MAX_EPOCHS+1))))\n",
    "\n",
    "\n",
    "# visualize online the results\n",
    "%matplotlib notebook\n",
    "fig = plt.figure(figsize = (8,6))\n",
    "plt.ion()\n",
    "\n",
    "ax1 = fig.add_subplot(221)\n",
    "ax1.set_xlim(0,MAX_EPOCHS+1)\n",
    "#ax1.set_ylim(0,9000)\n",
    "ax1.set_xlabel(\"Epochs\", fontsize = 14)\n",
    "ax1.set_ylabel(\"Halite collected\", fontsize = 14)\n",
    "\n",
    "ax2 = fig.add_subplot(222)\n",
    "ax2.set_xlim(0,MAX_EPOCHS+1)\n",
    "#ax2.set_ylim(-4,5)\n",
    "ax2.set_xlabel(\"Epochs\", fontsize = 14)\n",
    "ax2.set_ylabel(\"Halite per passage\", fontsize = 14)\n",
    "\n",
    "\n",
    "ax3 = fig.add_subplot(223)\n",
    "ax3.set_xlim(0,MAX_EPOCHS+1)\n",
    "ax3.set_ylim(0,0.5)\n",
    "ax3.set_xlabel(\"Epochs\", fontsize = 14)\n",
    "ax3.set_ylabel(\"Epsilon\", fontsize = 14)\n",
    "\n",
    "\n",
    "ax4 = fig.add_subplot(224)\n",
    "ax4.set_xlim(0,MAX_EPOCHS+1)\n",
    "ax4.set_xlabel(\"Epochs\", fontsize = 14)\n",
    "ax4.set_ylabel(\"Shipyard passages\", fontsize = 14)\n",
    "\n",
    "plt.tight_layout()\n",
    "fig.show()\n",
    "fig.canvas.draw()\n",
    "\n",
    "from tqdm import tnrange, trange\n",
    "\n",
    "for k in tnrange(MAX_EPOCHS, desc='1st loop', leave=True):\n",
    "    #@@@@@@@@@@@@@@@@@@@@@@\n",
    "    # here starts an epoch\n",
    "    #@@@@@@@@@@@@@@@@@@@@@@\n",
    "    epochs = epochs + 1\n",
    "    reward_progress = np.zeros(N_BATCH) # bunch of 100 episodes\n",
    "    halite_progress = np.zeros(N_BATCH) # bunch of 100 episodes\n",
    "    shipy_pass_progress = np.zeros(N_BATCH) # bunch of 100 episodes\n",
    "    eps = epsilons[epochs]\n",
    "    # update the dictionary at each epoch with the new epsilon\n",
    "    learning_dict = dict(LEARNING_RATE = 0.1, DISCOUNT_FACTOR = DISCOUNT_FACTOR , eps = eps, STD_REWARD = STD_REWARD)\n",
    "\n",
    "    for i in tnrange(N_BATCH, desc='2nd loop', leave=False):\n",
    "        # here starts an episode\n",
    "        q_values, reward, collected_halite, passages = play_episode(q_values, **env_dict, **state_dict, **learning_dict)\n",
    "        reward_progress[i] = collected_halite/passages\n",
    "        halite_progress[i] = collected_halite\n",
    "        shipy_pass_progress[i] = passages\n",
    "\n",
    "        #break # play just 1 episode\n",
    "\n",
    "    #break # play just 1 epoch\n",
    "\n",
    "    reward_score[epochs-1] = reward_progress.mean()\n",
    "    halite_score[epochs-1] = halite_progress.mean()\n",
    "    shipy_pass[epochs-1] = shipy_pass_progress.mean()\n",
    "    \n",
    "    ax1.scatter(epochs, halite_score[epochs-1], s = 10, color='blue')\n",
    "    ax2.scatter(epochs, reward_score[epochs-1], s = 10,color='blue')\n",
    "    ax3.scatter(epochs, epsilons[epochs], s = 10, color='blue')\n",
    "    ax4.scatter(epochs, shipy_pass[epochs-1], s = 10, color='blue')\n",
    "    fig.canvas.draw()\n",
    "\n",
    "    if epochs >= MAX_EPOCHS:\n",
    "        print(\"Hey, I think you've had enough! Let's stop here.\")\n",
    "        break"
   ]
  },
  {
   "cell_type": "code",
   "execution_count": 13,
   "metadata": {},
   "outputs": [],
   "source": [
    "np.save(\"Q_values/q_values_500penalty_30batches.npy\", q_values)"
   ]
  },
  {
   "cell_type": "code",
   "execution_count": null,
   "metadata": {},
   "outputs": [],
   "source": []
  }
 ],
 "metadata": {
  "kernelspec": {
   "display_name": "python3_halite",
   "language": "python",
   "name": "python3_halite"
  },
  "language_info": {
   "codemirror_mode": {
    "name": "ipython",
    "version": 3
   },
   "file_extension": ".py",
   "mimetype": "text/x-python",
   "name": "python",
   "nbconvert_exporter": "python",
   "pygments_lexer": "ipython3",
   "version": "3.7.4"
  }
 },
 "nbformat": 4,
 "nbformat_minor": 2
}

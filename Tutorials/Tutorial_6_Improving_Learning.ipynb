{
 "cells": [
  {
   "cell_type": "markdown",
   "metadata": {},
   "source": [
    "# Tutorial 6: Improving Learning\n",
    "\n",
    "In this tutorial, that concludes this first series of tutorials on the Halite challenge, we will finally look into the issues of learning this complex taks and propose a method to improve drastically the performances of our agent.\n",
    "\n",
    "\n",
    "## Inefficient collection of halite\n",
    "\n",
    "The training so far has been decent but not satisfactory at all. The evidence of that is that the reward function is not monotonic in the number of epochs, hence a sub-optimal strategy has been adopted.\n",
    "Before saying anything else, let's have another look at some of the results we obtained."
   ]
  },
  {
   "cell_type": "markdown",
   "metadata": {},
   "source": [
    "### Training metrics for halite thresholds = {10,100,1000} and 200 epochs of 10 batches\n",
    "\n",
    "In this first case we can see that a random agent (epoch 1, without knowing the Q-values and with $\\epsilon = 0.5$)\n",
    "has a better performance than the trained model. At the same time we can see that the passages through the shipyard at first they increase and then they saturate between 45 and 60. With an average reward of 6000+ this makes roughly more than 100 of halite deposited for each passage. This is comprehensible since the ship cannot distinguish between 101 and 1000 of cargo, hence every time it goes over 100 of cargo it has learned to go back to the shipyard.\n",
    "\n",
    "<img src=\"Support_material/halite_10_100_1000_10batches.png\" >\n",
    "\n"
   ]
  },
  {
   "cell_type": "markdown",
   "metadata": {},
   "source": [
    "### Training metrics for halite thresholds = {100,500,1000} and 200 epochs of 10 batches\n",
    "\n",
    "This was the most promising agent, since at first had learned to deposit on average around 8000 of halite in 40 passages, hence 200 of cargo for each passage. This is a strange value, because if we assume for semplicity the cargo to be either equal to 100 or to 500, it means that 25% of the times was depositing 500 of halite and the other 75% of the times 100 of halite. In other words it was a peak, but not a stable configuration. At the final level we have on average roughly 42 of cargo for each passage, meaning that it was always in the lowest state of cargo. This is of course a very bad thing.\n",
    "\n",
    "<img src=\"Support_material/halite_100_500_1000_10batches.png\" >\n",
    "\n"
   ]
  },
  {
   "cell_type": "markdown",
   "metadata": {},
   "source": [
    "### Training metrics for halite thresholds = {100,500,1000} and 200 epochs of 30 batches\n",
    "\n",
    "Retraining with the same halite levels but with more batches for epoch has completely changed the behaviour. We would be tempted to say that it reached a stable equilibrium (even if not optimal, 7000 halite, 45 passages, 155 halite for passage), but just before the end the strategy changed again, for the worse.\n",
    "<img src=\"Support_material/halite_100_500_1000_30batches.png\" >"
   ]
  },
  {
   "cell_type": "markdown",
   "metadata": {},
   "source": [
    "## Observations \n",
    "\n",
    "First of all it has become clear that the reward metric at the moment is useless (the amount of halite collected is much more intuitive as a metric) and could be replaced by the average cargo deposited per passage.\n",
    "\n",
    "Secondly, we can clearly see that choosing the intervals of quantization of the halite (both for the map's cells and the cargo) influences a lot the result. \n",
    "\n",
    "## Problems\n",
    "\n",
    "It seems that there are two problems at work here: one is that somehow for the ship is convenient to go back to the shipyard even with the smallest amount of halite and the other one is that this problem is coupled with the fact that the quantization levels of the halite prevent the ship from exploiting efficiently its halite levels.\n",
    "\n",
    "For sure we could try ad infinitum at designing the halite levels in order to get better results, but this would increase the performance without solving some core issues of the learning. Instead we can tackle these issues in a simple and elegant way."
   ]
  },
  {
   "cell_type": "markdown",
   "metadata": {},
   "source": [
    "## Ideas\n",
    "\n",
    "1. Give a more negative baseline for the reward when depositing halite, in order to discourage too many loops (better few but of quality).\n",
    "2. Encode the halite carried with more levels, in order to reduce the stochasticity induced by the quantization of the halite.\n",
    "\n",
    "The first improvement is gratis in terms of algorithmic complexity, whereas the second one if we increase of just one level the cargo quantization we get an increase of $\\frac{4}{3}= 133\\%$ of the state compexity, that is completely managable."
   ]
  },
  {
   "cell_type": "code",
   "execution_count": 16,
   "metadata": {},
   "outputs": [],
   "source": [
    "#import modules and libraries\n",
    "import sys\n",
    "sys.path.insert(0, \"../Environment/\")\n",
    "sys.path.insert(0, \"../Modules/\")\n",
    "import halite_env as Env\n",
    "import encode as cod\n",
    "import ship \n",
    "\n",
    "import numpy as np\n",
    "import matplotlib.pyplot as plt"
   ]
  },
  {
   "cell_type": "markdown",
   "metadata": {},
   "source": [
    "Here we introduce directly the thresholds instead of just the number of levels of quantization and generalize the whole algorithm so that we can vary the thresholds both in quantity and values. Also we decoupled the threshold for the halite in the cells of the map and those for the halite carried. The idea is that the space complexity scales linearly with the quantization levels of the halite carried, whereas if we were to change all the quantiazion levels together it would have been a polynomial dependence of the 6-th order (e.g. from 3 to 4 levels would have made the task the 562% more complex instead of the 133% with just the increase in the cargo levels)."
   ]
  },
  {
   "cell_type": "code",
   "execution_count": 5,
   "metadata": {},
   "outputs": [
    {
     "name": "stdout",
     "output_type": "stream",
     "text": [
      "Total number of states to be experienced:  190512\n"
     ]
    }
   ],
   "source": [
    "#@@@@@@@@@@@@@@@@@@@@@@\n",
    "# Environment variables\n",
    "#@@@@@@@@@@@@@@@@@@@@@@\n",
    "NUM_PLAYERS = 1\n",
    "MAP_SIZE = 7 # 7 x 7 map\n",
    "TOT_TURNS = 400 # number of turns for each episode\n",
    "\n",
    "#@@@@@@@@@@@@@@@@\n",
    "# State variables\n",
    "#@@@@@@@@@@@@@@@@\n",
    "MAP_H_THRESHOLDS = np.array([100,500,1000]) # 3 halite levels for the halite in the map's cells\n",
    "H_LEV = len(MAP_H_THRESHOLDS)\n",
    "CARGO_THRESHOLDS = np.array([100,500,800,1000]) # 4 halite levels for the halite carried (finer granularity)\n",
    "CARGO_LEV = len(CARGO_THRESHOLDS)\n",
    "N_CELLS = MAP_SIZE**2 # number of cells in a square map\n",
    "N_STATES = N_CELLS*(H_LEV**5)*CARGO_LEV*4\n",
    "N_ACTIONS = 5 # no dropoffs, 1 action for staying still, 4 for moving in the cardinal directions\n",
    "print(\"Total number of states to be experienced: \", N_STATES)\n",
    "\n",
    "#@@@@@@@@@@@@@@@@@@@@\n",
    "# Learning parameters\n",
    "#@@@@@@@@@@@@@@@@@@@@\n",
    "N_BATCH = 70 # number of episodes in an epoch\n",
    "MAX_EPOCHS = 200 # max number of epochs played before stopping\n",
    "DISCOUNT_FACTOR = 1 - 1/TOT_TURNS #train ships as if each turn has a probability of 1/tot_turns of ending the game \n",
    "R0 = -0.01 # penalty given each turn to the ship if it doesn't deposit halite in the shipyard (\"cost of the time\")\n",
    "R1 = R0*50 # penalty given to the ship when deposits halite (\"cost of a loop\")\n",
    "LEARNING_RATE = 0.1\n",
    "EPS_START = 0.5"
   ]
  },
  {
   "cell_type": "code",
   "execution_count": 6,
   "metadata": {},
   "outputs": [],
   "source": [
    "# convert all the parameters to dictionaries\n",
    "env_dict = dict(NUM_PLAYERS = NUM_PLAYERS , \n",
    "                TOT_TURNS = TOT_TURNS)\n",
    "\n",
    "state_dict = dict(MAP_SIZE = MAP_SIZE,  \n",
    "                  MAP_H_THRESHOLDS = MAP_H_THRESHOLDS, \n",
    "                  CARGO_THRESHOLDS = CARGO_THRESHOLDS,\n",
    "                  N_ACTIONS = N_ACTIONS)\n",
    "\n",
    "learning_dict = dict(LEARNING_RATE = LEARNING_RATE, \n",
    "                     DISCOUNT_FACTOR = DISCOUNT_FACTOR , \n",
    "                     eps = EPS_START, \n",
    "                     R0 = R0, R1 = R1)"
   ]
  },
  {
   "cell_type": "code",
   "execution_count": 7,
   "metadata": {},
   "outputs": [],
   "source": [
    "#@@@@@@@@@@@@@@@@@@@\n",
    "# Learning variables\n",
    "#@@@@@@@@@@@@@@@@@@@\n",
    "q_values = np.zeros((N_STATES,N_ACTIONS)) #initialize to zero\n",
    "#q_values = np.load(\"Q_values.npy\") # or re-use the one already trained"
   ]
  },
  {
   "cell_type": "markdown",
   "metadata": {},
   "source": [
    "This is the modified function accounting for the new thresholds and the new penalty term. We now call R0 the penalty given to the agent each turn and R1 the penalty for depositing the halite."
   ]
  },
  {
   "cell_type": "code",
   "execution_count": 8,
   "metadata": {},
   "outputs": [],
   "source": [
    "def play_episode_v1(q_values, eps, NUM_PLAYERS, MAP_SIZE, TOT_TURNS, N_ACTIONS, MAP_H_THRESHOLDS, CARGO_THRESHOLDS,\n",
    "                 R0, R1, LEARNING_RATE, DISCOUNT_FACTOR, verbose = False, debug = True):\n",
    "    \"\"\"\n",
    "    Trains the agent by playing one episode of halite.\n",
    "    \n",
    "    Parameters\n",
    "    ----------\n",
    "    q_values         : numpy array \n",
    "        Contains the Q-values\n",
    "    eps              : float \n",
    "        Represents a probability, must be in [0,1], controls the probability of exploring instead of exploting\n",
    "    NUM_PLAYERS      : int\n",
    "    MAP_SIZE         : int\n",
    "    TOT_TURNS        : int\n",
    "    N_ACTIONS        : int\n",
    "    H_LEV            : int\n",
    "    STD_REWARD       : float\n",
    "        Baseline reward given to the agent when does not deposit halite to the shipyard\n",
    "    LEARNING_RATE    : float\n",
    "    DISCOUNT_FACTOR  : float\n",
    "        Must be greater than 0 but smaller than 1. Suggested 1-1/TOT_TURNS or 1\n",
    "    verbose          : bool\n",
    "        Prints halite of the player at each turn of the game\n",
    "        \n",
    "    Returns\n",
    "    -------\n",
    "    q_values         : numpy array \n",
    "        Updated Q-values\n",
    "    reward           : float\n",
    "        Reward obtained in this episode. \n",
    "    collected_halite : float\n",
    "        Halite collected by the agent.\n",
    "    passages         : int\n",
    "        Number of passages of the ship through the shipyard.\n",
    "    \"\"\"\n",
    "    # define some derived constants\n",
    "    H_LEV = len(MAP_H_THRESHOLDS)+1\n",
    "    CARGO_LEV = len(CARGO_THRESHOLDS)+1\n",
    "    \n",
    "    verbose_print = print if verbose else lambda *args, **kwargs : None # define verbose printing function\n",
    "    \n",
    "    env = Env.HaliteEnv(NUM_PLAYERS, MAP_SIZE, episode_lenght = TOT_TURNS) # init environment\n",
    "    steps = 0\n",
    "    reward = 0 # cumulative reward of the episode\n",
    "    passages = 0 # number of times the ship passes through the shipyard\n",
    "    \n",
    "    # first mandatory step\n",
    "    steps = steps + 1\n",
    "    verbose_print(\"\\nStep number %d:\"%steps)\n",
    "    action_matrix = np.full((MAP_SIZE,MAP_SIZE), -1) # no ship, no action\n",
    "    shipyard_action = True # initially always choose to create a ship\n",
    "    # returns the matricial state, the array of players halite and a flag that is true if it's the final turn\n",
    "    state, players_halite, finish, _ = env.step(action_matrix, makeship = shipyard_action) \n",
    "    current_halite = players_halite[0][0]\n",
    "    s_enc = cod.encode_state_v1(state, MAP_H_THRESHOLDS, CARGO_THRESHOLDS, map_size = MAP_SIZE, debug = debug)\n",
    "\n",
    "    while True:\n",
    "        steps = steps + 1\n",
    "        verbose_print(\"\\nStep number %d:\"%steps)\n",
    "        verbose_print(\"Current halite: \", current_halite)\n",
    "        a_enc = ship.e_greedy_policy(s_enc, q_values, eps = eps)\n",
    "        a_mat = cod.scalar_to_matrix_action(a_enc, state, map_size = MAP_SIZE) #convert the action in matricial form\n",
    "\n",
    "        # submit the action and get the new state\n",
    "        state, players_halite, finish, _ = env.step(a_mat, makeship = False) \n",
    "\n",
    "        new_halite = players_halite[0][0]\n",
    "\n",
    "        # compute the 1-ship reward as the halite increment of the player divided by the max halite \n",
    "        # plus a standard negative reward \n",
    "        #---------------------------------------------------------------------------------------------------------\n",
    "        if new_halite == current_halite:\n",
    "            r =  R0\n",
    "        else:\n",
    "            r = (new_halite - current_halite)/1000 + R1 # this is the change in the code\n",
    "        #---------------------------------------------------------------------------------------------------------\n",
    "        sp_enc = cod.encode_state_v1(state, MAP_H_THRESHOLDS, CARGO_THRESHOLDS, map_size = MAP_SIZE, debug = debug)\n",
    "        reward += r # cumulative reward of the episode\n",
    "\n",
    "        # adds 1 to passages if the current position of the ship coincides with that of the shipyard\n",
    "        # whereas the previous position didn't\n",
    "        s_dec = cod.decode3D(s_enc, L1 = MAP_SIZE**2, L2 = CARGO_LEV*H_LEV**5, L3 = N_ACTIONS-1)\n",
    "        sp_dec = cod.decode3D(sp_enc, L1 = MAP_SIZE**2, L2 = CARGO_LEV*H_LEV**5, L3 = N_ACTIONS-1)\n",
    "        shipy_pos = (MAP_SIZE**2-1)/2 #shipyard is at the center of the map\n",
    "        if (sp_dec[0] == shipy_pos and s_dec[0] != shipy_pos):\n",
    "            passages = passages +1\n",
    "                \n",
    "        a_temp_enc = ship.greedy_policy(sp_enc, q_values) # simulate the best action in the new state (before update)\n",
    "\n",
    "        # update Q-values\n",
    "        q_values = ship.update_q_v3(s_enc, a_enc, r, sp_enc, a_temp_enc, q_values, \n",
    "                                    alpha = LEARNING_RATE, gamma = DISCOUNT_FACTOR, map_size = MAP_SIZE, \n",
    "                                    h_lev = H_LEV, cargo_lev = CARGO_LEV, n_actions = N_ACTIONS)\n",
    "\n",
    "        # update states and halite\n",
    "        s_enc = sp_enc\n",
    "        current_halite = new_halite\n",
    "\n",
    "        if (finish == True) or (steps >= 400):\n",
    "            verbose_print(\"\\nEnd episode.\")\n",
    "            break\n",
    "    collected_halite = current_halite - 4000\n",
    "    return q_values, reward, collected_halite, passages"
   ]
  },
  {
   "cell_type": "code",
   "execution_count": 64,
   "metadata": {
    "scrolled": false
   },
   "outputs": [
    {
     "data": {
      "application/javascript": [
       "/* Put everything inside the global mpl namespace */\n",
       "window.mpl = {};\n",
       "\n",
       "\n",
       "mpl.get_websocket_type = function() {\n",
       "    if (typeof(WebSocket) !== 'undefined') {\n",
       "        return WebSocket;\n",
       "    } else if (typeof(MozWebSocket) !== 'undefined') {\n",
       "        return MozWebSocket;\n",
       "    } else {\n",
       "        alert('Your browser does not have WebSocket support. ' +\n",
       "              'Please try Chrome, Safari or Firefox ≥ 6. ' +\n",
       "              'Firefox 4 and 5 are also supported but you ' +\n",
       "              'have to enable WebSockets in about:config.');\n",
       "    };\n",
       "}\n",
       "\n",
       "mpl.figure = function(figure_id, websocket, ondownload, parent_element) {\n",
       "    this.id = figure_id;\n",
       "\n",
       "    this.ws = websocket;\n",
       "\n",
       "    this.supports_binary = (this.ws.binaryType != undefined);\n",
       "\n",
       "    if (!this.supports_binary) {\n",
       "        var warnings = document.getElementById(\"mpl-warnings\");\n",
       "        if (warnings) {\n",
       "            warnings.style.display = 'block';\n",
       "            warnings.textContent = (\n",
       "                \"This browser does not support binary websocket messages. \" +\n",
       "                    \"Performance may be slow.\");\n",
       "        }\n",
       "    }\n",
       "\n",
       "    this.imageObj = new Image();\n",
       "\n",
       "    this.context = undefined;\n",
       "    this.message = undefined;\n",
       "    this.canvas = undefined;\n",
       "    this.rubberband_canvas = undefined;\n",
       "    this.rubberband_context = undefined;\n",
       "    this.format_dropdown = undefined;\n",
       "\n",
       "    this.image_mode = 'full';\n",
       "\n",
       "    this.root = $('<div/>');\n",
       "    this._root_extra_style(this.root)\n",
       "    this.root.attr('style', 'display: inline-block');\n",
       "\n",
       "    $(parent_element).append(this.root);\n",
       "\n",
       "    this._init_header(this);\n",
       "    this._init_canvas(this);\n",
       "    this._init_toolbar(this);\n",
       "\n",
       "    var fig = this;\n",
       "\n",
       "    this.waiting = false;\n",
       "\n",
       "    this.ws.onopen =  function () {\n",
       "            fig.send_message(\"supports_binary\", {value: fig.supports_binary});\n",
       "            fig.send_message(\"send_image_mode\", {});\n",
       "            if (mpl.ratio != 1) {\n",
       "                fig.send_message(\"set_dpi_ratio\", {'dpi_ratio': mpl.ratio});\n",
       "            }\n",
       "            fig.send_message(\"refresh\", {});\n",
       "        }\n",
       "\n",
       "    this.imageObj.onload = function() {\n",
       "            if (fig.image_mode == 'full') {\n",
       "                // Full images could contain transparency (where diff images\n",
       "                // almost always do), so we need to clear the canvas so that\n",
       "                // there is no ghosting.\n",
       "                fig.context.clearRect(0, 0, fig.canvas.width, fig.canvas.height);\n",
       "            }\n",
       "            fig.context.drawImage(fig.imageObj, 0, 0);\n",
       "        };\n",
       "\n",
       "    this.imageObj.onunload = function() {\n",
       "        fig.ws.close();\n",
       "    }\n",
       "\n",
       "    this.ws.onmessage = this._make_on_message_function(this);\n",
       "\n",
       "    this.ondownload = ondownload;\n",
       "}\n",
       "\n",
       "mpl.figure.prototype._init_header = function() {\n",
       "    var titlebar = $(\n",
       "        '<div class=\"ui-dialog-titlebar ui-widget-header ui-corner-all ' +\n",
       "        'ui-helper-clearfix\"/>');\n",
       "    var titletext = $(\n",
       "        '<div class=\"ui-dialog-title\" style=\"width: 100%; ' +\n",
       "        'text-align: center; padding: 3px;\"/>');\n",
       "    titlebar.append(titletext)\n",
       "    this.root.append(titlebar);\n",
       "    this.header = titletext[0];\n",
       "}\n",
       "\n",
       "\n",
       "\n",
       "mpl.figure.prototype._canvas_extra_style = function(canvas_div) {\n",
       "\n",
       "}\n",
       "\n",
       "\n",
       "mpl.figure.prototype._root_extra_style = function(canvas_div) {\n",
       "\n",
       "}\n",
       "\n",
       "mpl.figure.prototype._init_canvas = function() {\n",
       "    var fig = this;\n",
       "\n",
       "    var canvas_div = $('<div/>');\n",
       "\n",
       "    canvas_div.attr('style', 'position: relative; clear: both; outline: 0');\n",
       "\n",
       "    function canvas_keyboard_event(event) {\n",
       "        return fig.key_event(event, event['data']);\n",
       "    }\n",
       "\n",
       "    canvas_div.keydown('key_press', canvas_keyboard_event);\n",
       "    canvas_div.keyup('key_release', canvas_keyboard_event);\n",
       "    this.canvas_div = canvas_div\n",
       "    this._canvas_extra_style(canvas_div)\n",
       "    this.root.append(canvas_div);\n",
       "\n",
       "    var canvas = $('<canvas/>');\n",
       "    canvas.addClass('mpl-canvas');\n",
       "    canvas.attr('style', \"left: 0; top: 0; z-index: 0; outline: 0\")\n",
       "\n",
       "    this.canvas = canvas[0];\n",
       "    this.context = canvas[0].getContext(\"2d\");\n",
       "\n",
       "    var backingStore = this.context.backingStorePixelRatio ||\n",
       "\tthis.context.webkitBackingStorePixelRatio ||\n",
       "\tthis.context.mozBackingStorePixelRatio ||\n",
       "\tthis.context.msBackingStorePixelRatio ||\n",
       "\tthis.context.oBackingStorePixelRatio ||\n",
       "\tthis.context.backingStorePixelRatio || 1;\n",
       "\n",
       "    mpl.ratio = (window.devicePixelRatio || 1) / backingStore;\n",
       "\n",
       "    var rubberband = $('<canvas/>');\n",
       "    rubberband.attr('style', \"position: absolute; left: 0; top: 0; z-index: 1;\")\n",
       "\n",
       "    var pass_mouse_events = true;\n",
       "\n",
       "    canvas_div.resizable({\n",
       "        start: function(event, ui) {\n",
       "            pass_mouse_events = false;\n",
       "        },\n",
       "        resize: function(event, ui) {\n",
       "            fig.request_resize(ui.size.width, ui.size.height);\n",
       "        },\n",
       "        stop: function(event, ui) {\n",
       "            pass_mouse_events = true;\n",
       "            fig.request_resize(ui.size.width, ui.size.height);\n",
       "        },\n",
       "    });\n",
       "\n",
       "    function mouse_event_fn(event) {\n",
       "        if (pass_mouse_events)\n",
       "            return fig.mouse_event(event, event['data']);\n",
       "    }\n",
       "\n",
       "    rubberband.mousedown('button_press', mouse_event_fn);\n",
       "    rubberband.mouseup('button_release', mouse_event_fn);\n",
       "    // Throttle sequential mouse events to 1 every 20ms.\n",
       "    rubberband.mousemove('motion_notify', mouse_event_fn);\n",
       "\n",
       "    rubberband.mouseenter('figure_enter', mouse_event_fn);\n",
       "    rubberband.mouseleave('figure_leave', mouse_event_fn);\n",
       "\n",
       "    canvas_div.on(\"wheel\", function (event) {\n",
       "        event = event.originalEvent;\n",
       "        event['data'] = 'scroll'\n",
       "        if (event.deltaY < 0) {\n",
       "            event.step = 1;\n",
       "        } else {\n",
       "            event.step = -1;\n",
       "        }\n",
       "        mouse_event_fn(event);\n",
       "    });\n",
       "\n",
       "    canvas_div.append(canvas);\n",
       "    canvas_div.append(rubberband);\n",
       "\n",
       "    this.rubberband = rubberband;\n",
       "    this.rubberband_canvas = rubberband[0];\n",
       "    this.rubberband_context = rubberband[0].getContext(\"2d\");\n",
       "    this.rubberband_context.strokeStyle = \"#000000\";\n",
       "\n",
       "    this._resize_canvas = function(width, height) {\n",
       "        // Keep the size of the canvas, canvas container, and rubber band\n",
       "        // canvas in synch.\n",
       "        canvas_div.css('width', width)\n",
       "        canvas_div.css('height', height)\n",
       "\n",
       "        canvas.attr('width', width * mpl.ratio);\n",
       "        canvas.attr('height', height * mpl.ratio);\n",
       "        canvas.attr('style', 'width: ' + width + 'px; height: ' + height + 'px;');\n",
       "\n",
       "        rubberband.attr('width', width);\n",
       "        rubberband.attr('height', height);\n",
       "    }\n",
       "\n",
       "    // Set the figure to an initial 600x600px, this will subsequently be updated\n",
       "    // upon first draw.\n",
       "    this._resize_canvas(600, 600);\n",
       "\n",
       "    // Disable right mouse context menu.\n",
       "    $(this.rubberband_canvas).bind(\"contextmenu\",function(e){\n",
       "        return false;\n",
       "    });\n",
       "\n",
       "    function set_focus () {\n",
       "        canvas.focus();\n",
       "        canvas_div.focus();\n",
       "    }\n",
       "\n",
       "    window.setTimeout(set_focus, 100);\n",
       "}\n",
       "\n",
       "mpl.figure.prototype._init_toolbar = function() {\n",
       "    var fig = this;\n",
       "\n",
       "    var nav_element = $('<div/>');\n",
       "    nav_element.attr('style', 'width: 100%');\n",
       "    this.root.append(nav_element);\n",
       "\n",
       "    // Define a callback function for later on.\n",
       "    function toolbar_event(event) {\n",
       "        return fig.toolbar_button_onclick(event['data']);\n",
       "    }\n",
       "    function toolbar_mouse_event(event) {\n",
       "        return fig.toolbar_button_onmouseover(event['data']);\n",
       "    }\n",
       "\n",
       "    for(var toolbar_ind in mpl.toolbar_items) {\n",
       "        var name = mpl.toolbar_items[toolbar_ind][0];\n",
       "        var tooltip = mpl.toolbar_items[toolbar_ind][1];\n",
       "        var image = mpl.toolbar_items[toolbar_ind][2];\n",
       "        var method_name = mpl.toolbar_items[toolbar_ind][3];\n",
       "\n",
       "        if (!name) {\n",
       "            // put a spacer in here.\n",
       "            continue;\n",
       "        }\n",
       "        var button = $('<button/>');\n",
       "        button.addClass('ui-button ui-widget ui-state-default ui-corner-all ' +\n",
       "                        'ui-button-icon-only');\n",
       "        button.attr('role', 'button');\n",
       "        button.attr('aria-disabled', 'false');\n",
       "        button.click(method_name, toolbar_event);\n",
       "        button.mouseover(tooltip, toolbar_mouse_event);\n",
       "\n",
       "        var icon_img = $('<span/>');\n",
       "        icon_img.addClass('ui-button-icon-primary ui-icon');\n",
       "        icon_img.addClass(image);\n",
       "        icon_img.addClass('ui-corner-all');\n",
       "\n",
       "        var tooltip_span = $('<span/>');\n",
       "        tooltip_span.addClass('ui-button-text');\n",
       "        tooltip_span.html(tooltip);\n",
       "\n",
       "        button.append(icon_img);\n",
       "        button.append(tooltip_span);\n",
       "\n",
       "        nav_element.append(button);\n",
       "    }\n",
       "\n",
       "    var fmt_picker_span = $('<span/>');\n",
       "\n",
       "    var fmt_picker = $('<select/>');\n",
       "    fmt_picker.addClass('mpl-toolbar-option ui-widget ui-widget-content');\n",
       "    fmt_picker_span.append(fmt_picker);\n",
       "    nav_element.append(fmt_picker_span);\n",
       "    this.format_dropdown = fmt_picker[0];\n",
       "\n",
       "    for (var ind in mpl.extensions) {\n",
       "        var fmt = mpl.extensions[ind];\n",
       "        var option = $(\n",
       "            '<option/>', {selected: fmt === mpl.default_extension}).html(fmt);\n",
       "        fmt_picker.append(option);\n",
       "    }\n",
       "\n",
       "    // Add hover states to the ui-buttons\n",
       "    $( \".ui-button\" ).hover(\n",
       "        function() { $(this).addClass(\"ui-state-hover\");},\n",
       "        function() { $(this).removeClass(\"ui-state-hover\");}\n",
       "    );\n",
       "\n",
       "    var status_bar = $('<span class=\"mpl-message\"/>');\n",
       "    nav_element.append(status_bar);\n",
       "    this.message = status_bar[0];\n",
       "}\n",
       "\n",
       "mpl.figure.prototype.request_resize = function(x_pixels, y_pixels) {\n",
       "    // Request matplotlib to resize the figure. Matplotlib will then trigger a resize in the client,\n",
       "    // which will in turn request a refresh of the image.\n",
       "    this.send_message('resize', {'width': x_pixels, 'height': y_pixels});\n",
       "}\n",
       "\n",
       "mpl.figure.prototype.send_message = function(type, properties) {\n",
       "    properties['type'] = type;\n",
       "    properties['figure_id'] = this.id;\n",
       "    this.ws.send(JSON.stringify(properties));\n",
       "}\n",
       "\n",
       "mpl.figure.prototype.send_draw_message = function() {\n",
       "    if (!this.waiting) {\n",
       "        this.waiting = true;\n",
       "        this.ws.send(JSON.stringify({type: \"draw\", figure_id: this.id}));\n",
       "    }\n",
       "}\n",
       "\n",
       "\n",
       "mpl.figure.prototype.handle_save = function(fig, msg) {\n",
       "    var format_dropdown = fig.format_dropdown;\n",
       "    var format = format_dropdown.options[format_dropdown.selectedIndex].value;\n",
       "    fig.ondownload(fig, format);\n",
       "}\n",
       "\n",
       "\n",
       "mpl.figure.prototype.handle_resize = function(fig, msg) {\n",
       "    var size = msg['size'];\n",
       "    if (size[0] != fig.canvas.width || size[1] != fig.canvas.height) {\n",
       "        fig._resize_canvas(size[0], size[1]);\n",
       "        fig.send_message(\"refresh\", {});\n",
       "    };\n",
       "}\n",
       "\n",
       "mpl.figure.prototype.handle_rubberband = function(fig, msg) {\n",
       "    var x0 = msg['x0'] / mpl.ratio;\n",
       "    var y0 = (fig.canvas.height - msg['y0']) / mpl.ratio;\n",
       "    var x1 = msg['x1'] / mpl.ratio;\n",
       "    var y1 = (fig.canvas.height - msg['y1']) / mpl.ratio;\n",
       "    x0 = Math.floor(x0) + 0.5;\n",
       "    y0 = Math.floor(y0) + 0.5;\n",
       "    x1 = Math.floor(x1) + 0.5;\n",
       "    y1 = Math.floor(y1) + 0.5;\n",
       "    var min_x = Math.min(x0, x1);\n",
       "    var min_y = Math.min(y0, y1);\n",
       "    var width = Math.abs(x1 - x0);\n",
       "    var height = Math.abs(y1 - y0);\n",
       "\n",
       "    fig.rubberband_context.clearRect(\n",
       "        0, 0, fig.canvas.width / mpl.ratio, fig.canvas.height / mpl.ratio);\n",
       "\n",
       "    fig.rubberband_context.strokeRect(min_x, min_y, width, height);\n",
       "}\n",
       "\n",
       "mpl.figure.prototype.handle_figure_label = function(fig, msg) {\n",
       "    // Updates the figure title.\n",
       "    fig.header.textContent = msg['label'];\n",
       "}\n",
       "\n",
       "mpl.figure.prototype.handle_cursor = function(fig, msg) {\n",
       "    var cursor = msg['cursor'];\n",
       "    switch(cursor)\n",
       "    {\n",
       "    case 0:\n",
       "        cursor = 'pointer';\n",
       "        break;\n",
       "    case 1:\n",
       "        cursor = 'default';\n",
       "        break;\n",
       "    case 2:\n",
       "        cursor = 'crosshair';\n",
       "        break;\n",
       "    case 3:\n",
       "        cursor = 'move';\n",
       "        break;\n",
       "    }\n",
       "    fig.rubberband_canvas.style.cursor = cursor;\n",
       "}\n",
       "\n",
       "mpl.figure.prototype.handle_message = function(fig, msg) {\n",
       "    fig.message.textContent = msg['message'];\n",
       "}\n",
       "\n",
       "mpl.figure.prototype.handle_draw = function(fig, msg) {\n",
       "    // Request the server to send over a new figure.\n",
       "    fig.send_draw_message();\n",
       "}\n",
       "\n",
       "mpl.figure.prototype.handle_image_mode = function(fig, msg) {\n",
       "    fig.image_mode = msg['mode'];\n",
       "}\n",
       "\n",
       "mpl.figure.prototype.updated_canvas_event = function() {\n",
       "    // Called whenever the canvas gets updated.\n",
       "    this.send_message(\"ack\", {});\n",
       "}\n",
       "\n",
       "// A function to construct a web socket function for onmessage handling.\n",
       "// Called in the figure constructor.\n",
       "mpl.figure.prototype._make_on_message_function = function(fig) {\n",
       "    return function socket_on_message(evt) {\n",
       "        if (evt.data instanceof Blob) {\n",
       "            /* FIXME: We get \"Resource interpreted as Image but\n",
       "             * transferred with MIME type text/plain:\" errors on\n",
       "             * Chrome.  But how to set the MIME type?  It doesn't seem\n",
       "             * to be part of the websocket stream */\n",
       "            evt.data.type = \"image/png\";\n",
       "\n",
       "            /* Free the memory for the previous frames */\n",
       "            if (fig.imageObj.src) {\n",
       "                (window.URL || window.webkitURL).revokeObjectURL(\n",
       "                    fig.imageObj.src);\n",
       "            }\n",
       "\n",
       "            fig.imageObj.src = (window.URL || window.webkitURL).createObjectURL(\n",
       "                evt.data);\n",
       "            fig.updated_canvas_event();\n",
       "            fig.waiting = false;\n",
       "            return;\n",
       "        }\n",
       "        else if (typeof evt.data === 'string' && evt.data.slice(0, 21) == \"data:image/png;base64\") {\n",
       "            fig.imageObj.src = evt.data;\n",
       "            fig.updated_canvas_event();\n",
       "            fig.waiting = false;\n",
       "            return;\n",
       "        }\n",
       "\n",
       "        var msg = JSON.parse(evt.data);\n",
       "        var msg_type = msg['type'];\n",
       "\n",
       "        // Call the  \"handle_{type}\" callback, which takes\n",
       "        // the figure and JSON message as its only arguments.\n",
       "        try {\n",
       "            var callback = fig[\"handle_\" + msg_type];\n",
       "        } catch (e) {\n",
       "            console.log(\"No handler for the '\" + msg_type + \"' message type: \", msg);\n",
       "            return;\n",
       "        }\n",
       "\n",
       "        if (callback) {\n",
       "            try {\n",
       "                // console.log(\"Handling '\" + msg_type + \"' message: \", msg);\n",
       "                callback(fig, msg);\n",
       "            } catch (e) {\n",
       "                console.log(\"Exception inside the 'handler_\" + msg_type + \"' callback:\", e, e.stack, msg);\n",
       "            }\n",
       "        }\n",
       "    };\n",
       "}\n",
       "\n",
       "// from http://stackoverflow.com/questions/1114465/getting-mouse-location-in-canvas\n",
       "mpl.findpos = function(e) {\n",
       "    //this section is from http://www.quirksmode.org/js/events_properties.html\n",
       "    var targ;\n",
       "    if (!e)\n",
       "        e = window.event;\n",
       "    if (e.target)\n",
       "        targ = e.target;\n",
       "    else if (e.srcElement)\n",
       "        targ = e.srcElement;\n",
       "    if (targ.nodeType == 3) // defeat Safari bug\n",
       "        targ = targ.parentNode;\n",
       "\n",
       "    // jQuery normalizes the pageX and pageY\n",
       "    // pageX,Y are the mouse positions relative to the document\n",
       "    // offset() returns the position of the element relative to the document\n",
       "    var x = e.pageX - $(targ).offset().left;\n",
       "    var y = e.pageY - $(targ).offset().top;\n",
       "\n",
       "    return {\"x\": x, \"y\": y};\n",
       "};\n",
       "\n",
       "/*\n",
       " * return a copy of an object with only non-object keys\n",
       " * we need this to avoid circular references\n",
       " * http://stackoverflow.com/a/24161582/3208463\n",
       " */\n",
       "function simpleKeys (original) {\n",
       "  return Object.keys(original).reduce(function (obj, key) {\n",
       "    if (typeof original[key] !== 'object')\n",
       "        obj[key] = original[key]\n",
       "    return obj;\n",
       "  }, {});\n",
       "}\n",
       "\n",
       "mpl.figure.prototype.mouse_event = function(event, name) {\n",
       "    var canvas_pos = mpl.findpos(event)\n",
       "\n",
       "    if (name === 'button_press')\n",
       "    {\n",
       "        this.canvas.focus();\n",
       "        this.canvas_div.focus();\n",
       "    }\n",
       "\n",
       "    var x = canvas_pos.x * mpl.ratio;\n",
       "    var y = canvas_pos.y * mpl.ratio;\n",
       "\n",
       "    this.send_message(name, {x: x, y: y, button: event.button,\n",
       "                             step: event.step,\n",
       "                             guiEvent: simpleKeys(event)});\n",
       "\n",
       "    /* This prevents the web browser from automatically changing to\n",
       "     * the text insertion cursor when the button is pressed.  We want\n",
       "     * to control all of the cursor setting manually through the\n",
       "     * 'cursor' event from matplotlib */\n",
       "    event.preventDefault();\n",
       "    return false;\n",
       "}\n",
       "\n",
       "mpl.figure.prototype._key_event_extra = function(event, name) {\n",
       "    // Handle any extra behaviour associated with a key event\n",
       "}\n",
       "\n",
       "mpl.figure.prototype.key_event = function(event, name) {\n",
       "\n",
       "    // Prevent repeat events\n",
       "    if (name == 'key_press')\n",
       "    {\n",
       "        if (event.which === this._key)\n",
       "            return;\n",
       "        else\n",
       "            this._key = event.which;\n",
       "    }\n",
       "    if (name == 'key_release')\n",
       "        this._key = null;\n",
       "\n",
       "    var value = '';\n",
       "    if (event.ctrlKey && event.which != 17)\n",
       "        value += \"ctrl+\";\n",
       "    if (event.altKey && event.which != 18)\n",
       "        value += \"alt+\";\n",
       "    if (event.shiftKey && event.which != 16)\n",
       "        value += \"shift+\";\n",
       "\n",
       "    value += 'k';\n",
       "    value += event.which.toString();\n",
       "\n",
       "    this._key_event_extra(event, name);\n",
       "\n",
       "    this.send_message(name, {key: value,\n",
       "                             guiEvent: simpleKeys(event)});\n",
       "    return false;\n",
       "}\n",
       "\n",
       "mpl.figure.prototype.toolbar_button_onclick = function(name) {\n",
       "    if (name == 'download') {\n",
       "        this.handle_save(this, null);\n",
       "    } else {\n",
       "        this.send_message(\"toolbar_button\", {name: name});\n",
       "    }\n",
       "};\n",
       "\n",
       "mpl.figure.prototype.toolbar_button_onmouseover = function(tooltip) {\n",
       "    this.message.textContent = tooltip;\n",
       "};\n",
       "mpl.toolbar_items = [[\"Home\", \"Reset original view\", \"fa fa-home icon-home\", \"home\"], [\"Back\", \"Back to previous view\", \"fa fa-arrow-left icon-arrow-left\", \"back\"], [\"Forward\", \"Forward to next view\", \"fa fa-arrow-right icon-arrow-right\", \"forward\"], [\"\", \"\", \"\", \"\"], [\"Pan\", \"Pan axes with left mouse, zoom with right\", \"fa fa-arrows icon-move\", \"pan\"], [\"Zoom\", \"Zoom to rectangle\", \"fa fa-square-o icon-check-empty\", \"zoom\"], [\"\", \"\", \"\", \"\"], [\"Download\", \"Download plot\", \"fa fa-floppy-o icon-save\", \"download\"]];\n",
       "\n",
       "mpl.extensions = [\"eps\", \"jpeg\", \"pdf\", \"png\", \"ps\", \"raw\", \"svg\", \"tif\"];\n",
       "\n",
       "mpl.default_extension = \"png\";var comm_websocket_adapter = function(comm) {\n",
       "    // Create a \"websocket\"-like object which calls the given IPython comm\n",
       "    // object with the appropriate methods. Currently this is a non binary\n",
       "    // socket, so there is still some room for performance tuning.\n",
       "    var ws = {};\n",
       "\n",
       "    ws.close = function() {\n",
       "        comm.close()\n",
       "    };\n",
       "    ws.send = function(m) {\n",
       "        //console.log('sending', m);\n",
       "        comm.send(m);\n",
       "    };\n",
       "    // Register the callback with on_msg.\n",
       "    comm.on_msg(function(msg) {\n",
       "        //console.log('receiving', msg['content']['data'], msg);\n",
       "        // Pass the mpl event to the overridden (by mpl) onmessage function.\n",
       "        ws.onmessage(msg['content']['data'])\n",
       "    });\n",
       "    return ws;\n",
       "}\n",
       "\n",
       "mpl.mpl_figure_comm = function(comm, msg) {\n",
       "    // This is the function which gets called when the mpl process\n",
       "    // starts-up an IPython Comm through the \"matplotlib\" channel.\n",
       "\n",
       "    var id = msg.content.data.id;\n",
       "    // Get hold of the div created by the display call when the Comm\n",
       "    // socket was opened in Python.\n",
       "    var element = $(\"#\" + id);\n",
       "    var ws_proxy = comm_websocket_adapter(comm)\n",
       "\n",
       "    function ondownload(figure, format) {\n",
       "        window.open(figure.imageObj.src);\n",
       "    }\n",
       "\n",
       "    var fig = new mpl.figure(id, ws_proxy,\n",
       "                           ondownload,\n",
       "                           element.get(0));\n",
       "\n",
       "    // Call onopen now - mpl needs it, as it is assuming we've passed it a real\n",
       "    // web socket which is closed, not our websocket->open comm proxy.\n",
       "    ws_proxy.onopen();\n",
       "\n",
       "    fig.parent_element = element.get(0);\n",
       "    fig.cell_info = mpl.find_output_cell(\"<div id='\" + id + \"'></div>\");\n",
       "    if (!fig.cell_info) {\n",
       "        console.error(\"Failed to find cell for figure\", id, fig);\n",
       "        return;\n",
       "    }\n",
       "\n",
       "    var output_index = fig.cell_info[2]\n",
       "    var cell = fig.cell_info[0];\n",
       "\n",
       "};\n",
       "\n",
       "mpl.figure.prototype.handle_close = function(fig, msg) {\n",
       "    var width = fig.canvas.width/mpl.ratio\n",
       "    fig.root.unbind('remove')\n",
       "\n",
       "    // Update the output cell to use the data from the current canvas.\n",
       "    fig.push_to_output();\n",
       "    var dataURL = fig.canvas.toDataURL();\n",
       "    // Re-enable the keyboard manager in IPython - without this line, in FF,\n",
       "    // the notebook keyboard shortcuts fail.\n",
       "    IPython.keyboard_manager.enable()\n",
       "    $(fig.parent_element).html('<img src=\"' + dataURL + '\" width=\"' + width + '\">');\n",
       "    fig.close_ws(fig, msg);\n",
       "}\n",
       "\n",
       "mpl.figure.prototype.close_ws = function(fig, msg){\n",
       "    fig.send_message('closing', msg);\n",
       "    // fig.ws.close()\n",
       "}\n",
       "\n",
       "mpl.figure.prototype.push_to_output = function(remove_interactive) {\n",
       "    // Turn the data on the canvas into data in the output cell.\n",
       "    var width = this.canvas.width/mpl.ratio\n",
       "    var dataURL = this.canvas.toDataURL();\n",
       "    this.cell_info[1]['text/html'] = '<img src=\"' + dataURL + '\" width=\"' + width + '\">';\n",
       "}\n",
       "\n",
       "mpl.figure.prototype.updated_canvas_event = function() {\n",
       "    // Tell IPython that the notebook contents must change.\n",
       "    IPython.notebook.set_dirty(true);\n",
       "    this.send_message(\"ack\", {});\n",
       "    var fig = this;\n",
       "    // Wait a second, then push the new image to the DOM so\n",
       "    // that it is saved nicely (might be nice to debounce this).\n",
       "    setTimeout(function () { fig.push_to_output() }, 1000);\n",
       "}\n",
       "\n",
       "mpl.figure.prototype._init_toolbar = function() {\n",
       "    var fig = this;\n",
       "\n",
       "    var nav_element = $('<div/>');\n",
       "    nav_element.attr('style', 'width: 100%');\n",
       "    this.root.append(nav_element);\n",
       "\n",
       "    // Define a callback function for later on.\n",
       "    function toolbar_event(event) {\n",
       "        return fig.toolbar_button_onclick(event['data']);\n",
       "    }\n",
       "    function toolbar_mouse_event(event) {\n",
       "        return fig.toolbar_button_onmouseover(event['data']);\n",
       "    }\n",
       "\n",
       "    for(var toolbar_ind in mpl.toolbar_items){\n",
       "        var name = mpl.toolbar_items[toolbar_ind][0];\n",
       "        var tooltip = mpl.toolbar_items[toolbar_ind][1];\n",
       "        var image = mpl.toolbar_items[toolbar_ind][2];\n",
       "        var method_name = mpl.toolbar_items[toolbar_ind][3];\n",
       "\n",
       "        if (!name) { continue; };\n",
       "\n",
       "        var button = $('<button class=\"btn btn-default\" href=\"#\" title=\"' + name + '\"><i class=\"fa ' + image + ' fa-lg\"></i></button>');\n",
       "        button.click(method_name, toolbar_event);\n",
       "        button.mouseover(tooltip, toolbar_mouse_event);\n",
       "        nav_element.append(button);\n",
       "    }\n",
       "\n",
       "    // Add the status bar.\n",
       "    var status_bar = $('<span class=\"mpl-message\" style=\"text-align:right; float: right;\"/>');\n",
       "    nav_element.append(status_bar);\n",
       "    this.message = status_bar[0];\n",
       "\n",
       "    // Add the close button to the window.\n",
       "    var buttongrp = $('<div class=\"btn-group inline pull-right\"></div>');\n",
       "    var button = $('<button class=\"btn btn-mini btn-primary\" href=\"#\" title=\"Stop Interaction\"><i class=\"fa fa-power-off icon-remove icon-large\"></i></button>');\n",
       "    button.click(function (evt) { fig.handle_close(fig, {}); } );\n",
       "    button.mouseover('Stop Interaction', toolbar_mouse_event);\n",
       "    buttongrp.append(button);\n",
       "    var titlebar = this.root.find($('.ui-dialog-titlebar'));\n",
       "    titlebar.prepend(buttongrp);\n",
       "}\n",
       "\n",
       "mpl.figure.prototype._root_extra_style = function(el){\n",
       "    var fig = this\n",
       "    el.on(\"remove\", function(){\n",
       "\tfig.close_ws(fig, {});\n",
       "    });\n",
       "}\n",
       "\n",
       "mpl.figure.prototype._canvas_extra_style = function(el){\n",
       "    // this is important to make the div 'focusable\n",
       "    el.attr('tabindex', 0)\n",
       "    // reach out to IPython and tell the keyboard manager to turn it's self\n",
       "    // off when our div gets focus\n",
       "\n",
       "    // location in version 3\n",
       "    if (IPython.notebook.keyboard_manager) {\n",
       "        IPython.notebook.keyboard_manager.register_events(el);\n",
       "    }\n",
       "    else {\n",
       "        // location in version 2\n",
       "        IPython.keyboard_manager.register_events(el);\n",
       "    }\n",
       "\n",
       "}\n",
       "\n",
       "mpl.figure.prototype._key_event_extra = function(event, name) {\n",
       "    var manager = IPython.notebook.keyboard_manager;\n",
       "    if (!manager)\n",
       "        manager = IPython.keyboard_manager;\n",
       "\n",
       "    // Check for shift+enter\n",
       "    if (event.shiftKey && event.which == 13) {\n",
       "        this.canvas_div.blur();\n",
       "        event.shiftKey = false;\n",
       "        // Send a \"J\" for go to next cell\n",
       "        event.which = 74;\n",
       "        event.keyCode = 74;\n",
       "        manager.command_mode();\n",
       "        manager.handle_keydown(event);\n",
       "    }\n",
       "}\n",
       "\n",
       "mpl.figure.prototype.handle_save = function(fig, msg) {\n",
       "    fig.ondownload(fig, null);\n",
       "}\n",
       "\n",
       "\n",
       "mpl.find_output_cell = function(html_output) {\n",
       "    // Return the cell and output element which can be found *uniquely* in the notebook.\n",
       "    // Note - this is a bit hacky, but it is done because the \"notebook_saving.Notebook\"\n",
       "    // IPython event is triggered only after the cells have been serialised, which for\n",
       "    // our purposes (turning an active figure into a static one), is too late.\n",
       "    var cells = IPython.notebook.get_cells();\n",
       "    var ncells = cells.length;\n",
       "    for (var i=0; i<ncells; i++) {\n",
       "        var cell = cells[i];\n",
       "        if (cell.cell_type === 'code'){\n",
       "            for (var j=0; j<cell.output_area.outputs.length; j++) {\n",
       "                var data = cell.output_area.outputs[j];\n",
       "                if (data.data) {\n",
       "                    // IPython >= 3 moved mimebundle to data attribute of output\n",
       "                    data = data.data;\n",
       "                }\n",
       "                if (data['text/html'] == html_output) {\n",
       "                    return [cell, data, j];\n",
       "                }\n",
       "            }\n",
       "        }\n",
       "    }\n",
       "}\n",
       "\n",
       "// Register the function which deals with the matplotlib target/channel.\n",
       "// The kernel may be null if the page has been refreshed.\n",
       "if (IPython.notebook.kernel != null) {\n",
       "    IPython.notebook.kernel.comm_manager.register_target('matplotlib', mpl.mpl_figure_comm);\n",
       "}\n"
      ],
      "text/plain": [
       "<IPython.core.display.Javascript object>"
      ]
     },
     "metadata": {},
     "output_type": "display_data"
    },
    {
     "data": {
      "text/html": [
       "<img src=\"data:image/png;base64,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\" width=\"800\">"
      ],
      "text/plain": [
       "<IPython.core.display.HTML object>"
      ]
     },
     "metadata": {},
     "output_type": "display_data"
    },
    {
     "data": {
      "application/vnd.jupyter.widget-view+json": {
       "model_id": "bc50bc13fa2f4d219b3b7cd8c332486d",
       "version_major": 2,
       "version_minor": 0
      },
      "text/plain": [
       "HBox(children=(IntProgress(value=0, description='1st loop', max=200, style=ProgressStyle(description_width='in…"
      ]
     },
     "metadata": {},
     "output_type": "display_data"
    },
    {
     "data": {
      "application/vnd.jupyter.widget-view+json": {
       "model_id": "",
       "version_major": 2,
       "version_minor": 0
      },
      "text/plain": [
       "HBox(children=(IntProgress(value=0, description='2nd loop', max=70, style=ProgressStyle(description_width='ini…"
      ]
     },
     "metadata": {},
     "output_type": "display_data"
    },
    {
     "data": {
      "application/vnd.jupyter.widget-view+json": {
       "model_id": "",
       "version_major": 2,
       "version_minor": 0
      },
      "text/plain": [
       "HBox(children=(IntProgress(value=0, description='2nd loop', max=70, style=ProgressStyle(description_width='ini…"
      ]
     },
     "metadata": {},
     "output_type": "display_data"
    },
    {
     "data": {
      "application/vnd.jupyter.widget-view+json": {
       "model_id": "",
       "version_major": 2,
       "version_minor": 0
      },
      "text/plain": [
       "HBox(children=(IntProgress(value=0, description='2nd loop', max=70, style=ProgressStyle(description_width='ini…"
      ]
     },
     "metadata": {},
     "output_type": "display_data"
    },
    {
     "data": {
      "application/vnd.jupyter.widget-view+json": {
       "model_id": "",
       "version_major": 2,
       "version_minor": 0
      },
      "text/plain": [
       "HBox(children=(IntProgress(value=0, description='2nd loop', max=70, style=ProgressStyle(description_width='ini…"
      ]
     },
     "metadata": {},
     "output_type": "display_data"
    },
    {
     "data": {
      "application/vnd.jupyter.widget-view+json": {
       "model_id": "",
       "version_major": 2,
       "version_minor": 0
      },
      "text/plain": [
       "HBox(children=(IntProgress(value=0, description='2nd loop', max=70, style=ProgressStyle(description_width='ini…"
      ]
     },
     "metadata": {},
     "output_type": "display_data"
    },
    {
     "data": {
      "application/vnd.jupyter.widget-view+json": {
       "model_id": "",
       "version_major": 2,
       "version_minor": 0
      },
      "text/plain": [
       "HBox(children=(IntProgress(value=0, description='2nd loop', max=70, style=ProgressStyle(description_width='ini…"
      ]
     },
     "metadata": {},
     "output_type": "display_data"
    },
    {
     "data": {
      "application/vnd.jupyter.widget-view+json": {
       "model_id": "",
       "version_major": 2,
       "version_minor": 0
      },
      "text/plain": [
       "HBox(children=(IntProgress(value=0, description='2nd loop', max=70, style=ProgressStyle(description_width='ini…"
      ]
     },
     "metadata": {},
     "output_type": "display_data"
    },
    {
     "data": {
      "application/vnd.jupyter.widget-view+json": {
       "model_id": "",
       "version_major": 2,
       "version_minor": 0
      },
      "text/plain": [
       "HBox(children=(IntProgress(value=0, description='2nd loop', max=70, style=ProgressStyle(description_width='ini…"
      ]
     },
     "metadata": {},
     "output_type": "display_data"
    },
    {
     "data": {
      "application/vnd.jupyter.widget-view+json": {
       "model_id": "",
       "version_major": 2,
       "version_minor": 0
      },
      "text/plain": [
       "HBox(children=(IntProgress(value=0, description='2nd loop', max=70, style=ProgressStyle(description_width='ini…"
      ]
     },
     "metadata": {},
     "output_type": "display_data"
    },
    {
     "data": {
      "application/vnd.jupyter.widget-view+json": {
       "model_id": "",
       "version_major": 2,
       "version_minor": 0
      },
      "text/plain": [
       "HBox(children=(IntProgress(value=0, description='2nd loop', max=70, style=ProgressStyle(description_width='ini…"
      ]
     },
     "metadata": {},
     "output_type": "display_data"
    },
    {
     "data": {
      "application/vnd.jupyter.widget-view+json": {
       "model_id": "",
       "version_major": 2,
       "version_minor": 0
      },
      "text/plain": [
       "HBox(children=(IntProgress(value=0, description='2nd loop', max=70, style=ProgressStyle(description_width='ini…"
      ]
     },
     "metadata": {},
     "output_type": "display_data"
    },
    {
     "data": {
      "application/vnd.jupyter.widget-view+json": {
       "model_id": "",
       "version_major": 2,
       "version_minor": 0
      },
      "text/plain": [
       "HBox(children=(IntProgress(value=0, description='2nd loop', max=70, style=ProgressStyle(description_width='ini…"
      ]
     },
     "metadata": {},
     "output_type": "display_data"
    },
    {
     "data": {
      "application/vnd.jupyter.widget-view+json": {
       "model_id": "",
       "version_major": 2,
       "version_minor": 0
      },
      "text/plain": [
       "HBox(children=(IntProgress(value=0, description='2nd loop', max=70, style=ProgressStyle(description_width='ini…"
      ]
     },
     "metadata": {},
     "output_type": "display_data"
    },
    {
     "data": {
      "application/vnd.jupyter.widget-view+json": {
       "model_id": "",
       "version_major": 2,
       "version_minor": 0
      },
      "text/plain": [
       "HBox(children=(IntProgress(value=0, description='2nd loop', max=70, style=ProgressStyle(description_width='ini…"
      ]
     },
     "metadata": {},
     "output_type": "display_data"
    },
    {
     "data": {
      "application/vnd.jupyter.widget-view+json": {
       "model_id": "",
       "version_major": 2,
       "version_minor": 0
      },
      "text/plain": [
       "HBox(children=(IntProgress(value=0, description='2nd loop', max=70, style=ProgressStyle(description_width='ini…"
      ]
     },
     "metadata": {},
     "output_type": "display_data"
    },
    {
     "data": {
      "application/vnd.jupyter.widget-view+json": {
       "model_id": "",
       "version_major": 2,
       "version_minor": 0
      },
      "text/plain": [
       "HBox(children=(IntProgress(value=0, description='2nd loop', max=70, style=ProgressStyle(description_width='ini…"
      ]
     },
     "metadata": {},
     "output_type": "display_data"
    },
    {
     "data": {
      "application/vnd.jupyter.widget-view+json": {
       "model_id": "",
       "version_major": 2,
       "version_minor": 0
      },
      "text/plain": [
       "HBox(children=(IntProgress(value=0, description='2nd loop', max=70, style=ProgressStyle(description_width='ini…"
      ]
     },
     "metadata": {},
     "output_type": "display_data"
    },
    {
     "data": {
      "application/vnd.jupyter.widget-view+json": {
       "model_id": "",
       "version_major": 2,
       "version_minor": 0
      },
      "text/plain": [
       "HBox(children=(IntProgress(value=0, description='2nd loop', max=70, style=ProgressStyle(description_width='ini…"
      ]
     },
     "metadata": {},
     "output_type": "display_data"
    },
    {
     "data": {
      "application/vnd.jupyter.widget-view+json": {
       "model_id": "",
       "version_major": 2,
       "version_minor": 0
      },
      "text/plain": [
       "HBox(children=(IntProgress(value=0, description='2nd loop', max=70, style=ProgressStyle(description_width='ini…"
      ]
     },
     "metadata": {},
     "output_type": "display_data"
    },
    {
     "data": {
      "application/vnd.jupyter.widget-view+json": {
       "model_id": "",
       "version_major": 2,
       "version_minor": 0
      },
      "text/plain": [
       "HBox(children=(IntProgress(value=0, description='2nd loop', max=70, style=ProgressStyle(description_width='ini…"
      ]
     },
     "metadata": {},
     "output_type": "display_data"
    },
    {
     "data": {
      "application/vnd.jupyter.widget-view+json": {
       "model_id": "",
       "version_major": 2,
       "version_minor": 0
      },
      "text/plain": [
       "HBox(children=(IntProgress(value=0, description='2nd loop', max=70, style=ProgressStyle(description_width='ini…"
      ]
     },
     "metadata": {},
     "output_type": "display_data"
    },
    {
     "data": {
      "application/vnd.jupyter.widget-view+json": {
       "model_id": "",
       "version_major": 2,
       "version_minor": 0
      },
      "text/plain": [
       "HBox(children=(IntProgress(value=0, description='2nd loop', max=70, style=ProgressStyle(description_width='ini…"
      ]
     },
     "metadata": {},
     "output_type": "display_data"
    },
    {
     "data": {
      "application/vnd.jupyter.widget-view+json": {
       "model_id": "",
       "version_major": 2,
       "version_minor": 0
      },
      "text/plain": [
       "HBox(children=(IntProgress(value=0, description='2nd loop', max=70, style=ProgressStyle(description_width='ini…"
      ]
     },
     "metadata": {},
     "output_type": "display_data"
    },
    {
     "data": {
      "application/vnd.jupyter.widget-view+json": {
       "model_id": "",
       "version_major": 2,
       "version_minor": 0
      },
      "text/plain": [
       "HBox(children=(IntProgress(value=0, description='2nd loop', max=70, style=ProgressStyle(description_width='ini…"
      ]
     },
     "metadata": {},
     "output_type": "display_data"
    },
    {
     "data": {
      "application/vnd.jupyter.widget-view+json": {
       "model_id": "",
       "version_major": 2,
       "version_minor": 0
      },
      "text/plain": [
       "HBox(children=(IntProgress(value=0, description='2nd loop', max=70, style=ProgressStyle(description_width='ini…"
      ]
     },
     "metadata": {},
     "output_type": "display_data"
    },
    {
     "data": {
      "application/vnd.jupyter.widget-view+json": {
       "model_id": "",
       "version_major": 2,
       "version_minor": 0
      },
      "text/plain": [
       "HBox(children=(IntProgress(value=0, description='2nd loop', max=70, style=ProgressStyle(description_width='ini…"
      ]
     },
     "metadata": {},
     "output_type": "display_data"
    },
    {
     "data": {
      "application/vnd.jupyter.widget-view+json": {
       "model_id": "",
       "version_major": 2,
       "version_minor": 0
      },
      "text/plain": [
       "HBox(children=(IntProgress(value=0, description='2nd loop', max=70, style=ProgressStyle(description_width='ini…"
      ]
     },
     "metadata": {},
     "output_type": "display_data"
    },
    {
     "data": {
      "application/vnd.jupyter.widget-view+json": {
       "model_id": "",
       "version_major": 2,
       "version_minor": 0
      },
      "text/plain": [
       "HBox(children=(IntProgress(value=0, description='2nd loop', max=70, style=ProgressStyle(description_width='ini…"
      ]
     },
     "metadata": {},
     "output_type": "display_data"
    },
    {
     "data": {
      "application/vnd.jupyter.widget-view+json": {
       "model_id": "",
       "version_major": 2,
       "version_minor": 0
      },
      "text/plain": [
       "HBox(children=(IntProgress(value=0, description='2nd loop', max=70, style=ProgressStyle(description_width='ini…"
      ]
     },
     "metadata": {},
     "output_type": "display_data"
    },
    {
     "data": {
      "application/vnd.jupyter.widget-view+json": {
       "model_id": "",
       "version_major": 2,
       "version_minor": 0
      },
      "text/plain": [
       "HBox(children=(IntProgress(value=0, description='2nd loop', max=70, style=ProgressStyle(description_width='ini…"
      ]
     },
     "metadata": {},
     "output_type": "display_data"
    },
    {
     "data": {
      "application/vnd.jupyter.widget-view+json": {
       "model_id": "",
       "version_major": 2,
       "version_minor": 0
      },
      "text/plain": [
       "HBox(children=(IntProgress(value=0, description='2nd loop', max=70, style=ProgressStyle(description_width='ini…"
      ]
     },
     "metadata": {},
     "output_type": "display_data"
    },
    {
     "data": {
      "application/vnd.jupyter.widget-view+json": {
       "model_id": "",
       "version_major": 2,
       "version_minor": 0
      },
      "text/plain": [
       "HBox(children=(IntProgress(value=0, description='2nd loop', max=70, style=ProgressStyle(description_width='ini…"
      ]
     },
     "metadata": {},
     "output_type": "display_data"
    },
    {
     "data": {
      "application/vnd.jupyter.widget-view+json": {
       "model_id": "",
       "version_major": 2,
       "version_minor": 0
      },
      "text/plain": [
       "HBox(children=(IntProgress(value=0, description='2nd loop', max=70, style=ProgressStyle(description_width='ini…"
      ]
     },
     "metadata": {},
     "output_type": "display_data"
    },
    {
     "data": {
      "application/vnd.jupyter.widget-view+json": {
       "model_id": "",
       "version_major": 2,
       "version_minor": 0
      },
      "text/plain": [
       "HBox(children=(IntProgress(value=0, description='2nd loop', max=70, style=ProgressStyle(description_width='ini…"
      ]
     },
     "metadata": {},
     "output_type": "display_data"
    },
    {
     "data": {
      "application/vnd.jupyter.widget-view+json": {
       "model_id": "",
       "version_major": 2,
       "version_minor": 0
      },
      "text/plain": [
       "HBox(children=(IntProgress(value=0, description='2nd loop', max=70, style=ProgressStyle(description_width='ini…"
      ]
     },
     "metadata": {},
     "output_type": "display_data"
    },
    {
     "data": {
      "application/vnd.jupyter.widget-view+json": {
       "model_id": "",
       "version_major": 2,
       "version_minor": 0
      },
      "text/plain": [
       "HBox(children=(IntProgress(value=0, description='2nd loop', max=70, style=ProgressStyle(description_width='ini…"
      ]
     },
     "metadata": {},
     "output_type": "display_data"
    },
    {
     "data": {
      "application/vnd.jupyter.widget-view+json": {
       "model_id": "",
       "version_major": 2,
       "version_minor": 0
      },
      "text/plain": [
       "HBox(children=(IntProgress(value=0, description='2nd loop', max=70, style=ProgressStyle(description_width='ini…"
      ]
     },
     "metadata": {},
     "output_type": "display_data"
    },
    {
     "data": {
      "application/vnd.jupyter.widget-view+json": {
       "model_id": "",
       "version_major": 2,
       "version_minor": 0
      },
      "text/plain": [
       "HBox(children=(IntProgress(value=0, description='2nd loop', max=70, style=ProgressStyle(description_width='ini…"
      ]
     },
     "metadata": {},
     "output_type": "display_data"
    },
    {
     "data": {
      "application/vnd.jupyter.widget-view+json": {
       "model_id": "",
       "version_major": 2,
       "version_minor": 0
      },
      "text/plain": [
       "HBox(children=(IntProgress(value=0, description='2nd loop', max=70, style=ProgressStyle(description_width='ini…"
      ]
     },
     "metadata": {},
     "output_type": "display_data"
    },
    {
     "data": {
      "application/vnd.jupyter.widget-view+json": {
       "model_id": "",
       "version_major": 2,
       "version_minor": 0
      },
      "text/plain": [
       "HBox(children=(IntProgress(value=0, description='2nd loop', max=70, style=ProgressStyle(description_width='ini…"
      ]
     },
     "metadata": {},
     "output_type": "display_data"
    },
    {
     "data": {
      "application/vnd.jupyter.widget-view+json": {
       "model_id": "",
       "version_major": 2,
       "version_minor": 0
      },
      "text/plain": [
       "HBox(children=(IntProgress(value=0, description='2nd loop', max=70, style=ProgressStyle(description_width='ini…"
      ]
     },
     "metadata": {},
     "output_type": "display_data"
    },
    {
     "data": {
      "application/vnd.jupyter.widget-view+json": {
       "model_id": "",
       "version_major": 2,
       "version_minor": 0
      },
      "text/plain": [
       "HBox(children=(IntProgress(value=0, description='2nd loop', max=70, style=ProgressStyle(description_width='ini…"
      ]
     },
     "metadata": {},
     "output_type": "display_data"
    },
    {
     "data": {
      "application/vnd.jupyter.widget-view+json": {
       "model_id": "",
       "version_major": 2,
       "version_minor": 0
      },
      "text/plain": [
       "HBox(children=(IntProgress(value=0, description='2nd loop', max=70, style=ProgressStyle(description_width='ini…"
      ]
     },
     "metadata": {},
     "output_type": "display_data"
    },
    {
     "data": {
      "application/vnd.jupyter.widget-view+json": {
       "model_id": "",
       "version_major": 2,
       "version_minor": 0
      },
      "text/plain": [
       "HBox(children=(IntProgress(value=0, description='2nd loop', max=70, style=ProgressStyle(description_width='ini…"
      ]
     },
     "metadata": {},
     "output_type": "display_data"
    },
    {
     "data": {
      "application/vnd.jupyter.widget-view+json": {
       "model_id": "",
       "version_major": 2,
       "version_minor": 0
      },
      "text/plain": [
       "HBox(children=(IntProgress(value=0, description='2nd loop', max=70, style=ProgressStyle(description_width='ini…"
      ]
     },
     "metadata": {},
     "output_type": "display_data"
    },
    {
     "data": {
      "application/vnd.jupyter.widget-view+json": {
       "model_id": "",
       "version_major": 2,
       "version_minor": 0
      },
      "text/plain": [
       "HBox(children=(IntProgress(value=0, description='2nd loop', max=70, style=ProgressStyle(description_width='ini…"
      ]
     },
     "metadata": {},
     "output_type": "display_data"
    },
    {
     "data": {
      "application/vnd.jupyter.widget-view+json": {
       "model_id": "",
       "version_major": 2,
       "version_minor": 0
      },
      "text/plain": [
       "HBox(children=(IntProgress(value=0, description='2nd loop', max=70, style=ProgressStyle(description_width='ini…"
      ]
     },
     "metadata": {},
     "output_type": "display_data"
    },
    {
     "data": {
      "application/vnd.jupyter.widget-view+json": {
       "model_id": "",
       "version_major": 2,
       "version_minor": 0
      },
      "text/plain": [
       "HBox(children=(IntProgress(value=0, description='2nd loop', max=70, style=ProgressStyle(description_width='ini…"
      ]
     },
     "metadata": {},
     "output_type": "display_data"
    },
    {
     "data": {
      "application/vnd.jupyter.widget-view+json": {
       "model_id": "",
       "version_major": 2,
       "version_minor": 0
      },
      "text/plain": [
       "HBox(children=(IntProgress(value=0, description='2nd loop', max=70, style=ProgressStyle(description_width='ini…"
      ]
     },
     "metadata": {},
     "output_type": "display_data"
    },
    {
     "data": {
      "application/vnd.jupyter.widget-view+json": {
       "model_id": "",
       "version_major": 2,
       "version_minor": 0
      },
      "text/plain": [
       "HBox(children=(IntProgress(value=0, description='2nd loop', max=70, style=ProgressStyle(description_width='ini…"
      ]
     },
     "metadata": {},
     "output_type": "display_data"
    },
    {
     "data": {
      "application/vnd.jupyter.widget-view+json": {
       "model_id": "",
       "version_major": 2,
       "version_minor": 0
      },
      "text/plain": [
       "HBox(children=(IntProgress(value=0, description='2nd loop', max=70, style=ProgressStyle(description_width='ini…"
      ]
     },
     "metadata": {},
     "output_type": "display_data"
    },
    {
     "data": {
      "application/vnd.jupyter.widget-view+json": {
       "model_id": "",
       "version_major": 2,
       "version_minor": 0
      },
      "text/plain": [
       "HBox(children=(IntProgress(value=0, description='2nd loop', max=70, style=ProgressStyle(description_width='ini…"
      ]
     },
     "metadata": {},
     "output_type": "display_data"
    },
    {
     "data": {
      "application/vnd.jupyter.widget-view+json": {
       "model_id": "",
       "version_major": 2,
       "version_minor": 0
      },
      "text/plain": [
       "HBox(children=(IntProgress(value=0, description='2nd loop', max=70, style=ProgressStyle(description_width='ini…"
      ]
     },
     "metadata": {},
     "output_type": "display_data"
    },
    {
     "data": {
      "application/vnd.jupyter.widget-view+json": {
       "model_id": "",
       "version_major": 2,
       "version_minor": 0
      },
      "text/plain": [
       "HBox(children=(IntProgress(value=0, description='2nd loop', max=70, style=ProgressStyle(description_width='ini…"
      ]
     },
     "metadata": {},
     "output_type": "display_data"
    },
    {
     "data": {
      "application/vnd.jupyter.widget-view+json": {
       "model_id": "",
       "version_major": 2,
       "version_minor": 0
      },
      "text/plain": [
       "HBox(children=(IntProgress(value=0, description='2nd loop', max=70, style=ProgressStyle(description_width='ini…"
      ]
     },
     "metadata": {},
     "output_type": "display_data"
    },
    {
     "data": {
      "application/vnd.jupyter.widget-view+json": {
       "model_id": "",
       "version_major": 2,
       "version_minor": 0
      },
      "text/plain": [
       "HBox(children=(IntProgress(value=0, description='2nd loop', max=70, style=ProgressStyle(description_width='ini…"
      ]
     },
     "metadata": {},
     "output_type": "display_data"
    },
    {
     "data": {
      "application/vnd.jupyter.widget-view+json": {
       "model_id": "",
       "version_major": 2,
       "version_minor": 0
      },
      "text/plain": [
       "HBox(children=(IntProgress(value=0, description='2nd loop', max=70, style=ProgressStyle(description_width='ini…"
      ]
     },
     "metadata": {},
     "output_type": "display_data"
    },
    {
     "data": {
      "application/vnd.jupyter.widget-view+json": {
       "model_id": "",
       "version_major": 2,
       "version_minor": 0
      },
      "text/plain": [
       "HBox(children=(IntProgress(value=0, description='2nd loop', max=70, style=ProgressStyle(description_width='ini…"
      ]
     },
     "metadata": {},
     "output_type": "display_data"
    },
    {
     "data": {
      "application/vnd.jupyter.widget-view+json": {
       "model_id": "",
       "version_major": 2,
       "version_minor": 0
      },
      "text/plain": [
       "HBox(children=(IntProgress(value=0, description='2nd loop', max=70, style=ProgressStyle(description_width='ini…"
      ]
     },
     "metadata": {},
     "output_type": "display_data"
    },
    {
     "data": {
      "application/vnd.jupyter.widget-view+json": {
       "model_id": "",
       "version_major": 2,
       "version_minor": 0
      },
      "text/plain": [
       "HBox(children=(IntProgress(value=0, description='2nd loop', max=70, style=ProgressStyle(description_width='ini…"
      ]
     },
     "metadata": {},
     "output_type": "display_data"
    },
    {
     "data": {
      "application/vnd.jupyter.widget-view+json": {
       "model_id": "",
       "version_major": 2,
       "version_minor": 0
      },
      "text/plain": [
       "HBox(children=(IntProgress(value=0, description='2nd loop', max=70, style=ProgressStyle(description_width='ini…"
      ]
     },
     "metadata": {},
     "output_type": "display_data"
    },
    {
     "data": {
      "application/vnd.jupyter.widget-view+json": {
       "model_id": "",
       "version_major": 2,
       "version_minor": 0
      },
      "text/plain": [
       "HBox(children=(IntProgress(value=0, description='2nd loop', max=70, style=ProgressStyle(description_width='ini…"
      ]
     },
     "metadata": {},
     "output_type": "display_data"
    },
    {
     "data": {
      "application/vnd.jupyter.widget-view+json": {
       "model_id": "",
       "version_major": 2,
       "version_minor": 0
      },
      "text/plain": [
       "HBox(children=(IntProgress(value=0, description='2nd loop', max=70, style=ProgressStyle(description_width='ini…"
      ]
     },
     "metadata": {},
     "output_type": "display_data"
    },
    {
     "data": {
      "application/vnd.jupyter.widget-view+json": {
       "model_id": "",
       "version_major": 2,
       "version_minor": 0
      },
      "text/plain": [
       "HBox(children=(IntProgress(value=0, description='2nd loop', max=70, style=ProgressStyle(description_width='ini…"
      ]
     },
     "metadata": {},
     "output_type": "display_data"
    },
    {
     "data": {
      "application/vnd.jupyter.widget-view+json": {
       "model_id": "",
       "version_major": 2,
       "version_minor": 0
      },
      "text/plain": [
       "HBox(children=(IntProgress(value=0, description='2nd loop', max=70, style=ProgressStyle(description_width='ini…"
      ]
     },
     "metadata": {},
     "output_type": "display_data"
    },
    {
     "data": {
      "application/vnd.jupyter.widget-view+json": {
       "model_id": "",
       "version_major": 2,
       "version_minor": 0
      },
      "text/plain": [
       "HBox(children=(IntProgress(value=0, description='2nd loop', max=70, style=ProgressStyle(description_width='ini…"
      ]
     },
     "metadata": {},
     "output_type": "display_data"
    },
    {
     "data": {
      "application/vnd.jupyter.widget-view+json": {
       "model_id": "",
       "version_major": 2,
       "version_minor": 0
      },
      "text/plain": [
       "HBox(children=(IntProgress(value=0, description='2nd loop', max=70, style=ProgressStyle(description_width='ini…"
      ]
     },
     "metadata": {},
     "output_type": "display_data"
    },
    {
     "data": {
      "application/vnd.jupyter.widget-view+json": {
       "model_id": "",
       "version_major": 2,
       "version_minor": 0
      },
      "text/plain": [
       "HBox(children=(IntProgress(value=0, description='2nd loop', max=70, style=ProgressStyle(description_width='ini…"
      ]
     },
     "metadata": {},
     "output_type": "display_data"
    },
    {
     "data": {
      "application/vnd.jupyter.widget-view+json": {
       "model_id": "",
       "version_major": 2,
       "version_minor": 0
      },
      "text/plain": [
       "HBox(children=(IntProgress(value=0, description='2nd loop', max=70, style=ProgressStyle(description_width='ini…"
      ]
     },
     "metadata": {},
     "output_type": "display_data"
    },
    {
     "data": {
      "application/vnd.jupyter.widget-view+json": {
       "model_id": "",
       "version_major": 2,
       "version_minor": 0
      },
      "text/plain": [
       "HBox(children=(IntProgress(value=0, description='2nd loop', max=70, style=ProgressStyle(description_width='ini…"
      ]
     },
     "metadata": {},
     "output_type": "display_data"
    },
    {
     "data": {
      "application/vnd.jupyter.widget-view+json": {
       "model_id": "",
       "version_major": 2,
       "version_minor": 0
      },
      "text/plain": [
       "HBox(children=(IntProgress(value=0, description='2nd loop', max=70, style=ProgressStyle(description_width='ini…"
      ]
     },
     "metadata": {},
     "output_type": "display_data"
    },
    {
     "data": {
      "application/vnd.jupyter.widget-view+json": {
       "model_id": "",
       "version_major": 2,
       "version_minor": 0
      },
      "text/plain": [
       "HBox(children=(IntProgress(value=0, description='2nd loop', max=70, style=ProgressStyle(description_width='ini…"
      ]
     },
     "metadata": {},
     "output_type": "display_data"
    },
    {
     "data": {
      "application/vnd.jupyter.widget-view+json": {
       "model_id": "",
       "version_major": 2,
       "version_minor": 0
      },
      "text/plain": [
       "HBox(children=(IntProgress(value=0, description='2nd loop', max=70, style=ProgressStyle(description_width='ini…"
      ]
     },
     "metadata": {},
     "output_type": "display_data"
    },
    {
     "data": {
      "application/vnd.jupyter.widget-view+json": {
       "model_id": "",
       "version_major": 2,
       "version_minor": 0
      },
      "text/plain": [
       "HBox(children=(IntProgress(value=0, description='2nd loop', max=70, style=ProgressStyle(description_width='ini…"
      ]
     },
     "metadata": {},
     "output_type": "display_data"
    },
    {
     "data": {
      "application/vnd.jupyter.widget-view+json": {
       "model_id": "",
       "version_major": 2,
       "version_minor": 0
      },
      "text/plain": [
       "HBox(children=(IntProgress(value=0, description='2nd loop', max=70, style=ProgressStyle(description_width='ini…"
      ]
     },
     "metadata": {},
     "output_type": "display_data"
    },
    {
     "data": {
      "application/vnd.jupyter.widget-view+json": {
       "model_id": "",
       "version_major": 2,
       "version_minor": 0
      },
      "text/plain": [
       "HBox(children=(IntProgress(value=0, description='2nd loop', max=70, style=ProgressStyle(description_width='ini…"
      ]
     },
     "metadata": {},
     "output_type": "display_data"
    },
    {
     "data": {
      "application/vnd.jupyter.widget-view+json": {
       "model_id": "",
       "version_major": 2,
       "version_minor": 0
      },
      "text/plain": [
       "HBox(children=(IntProgress(value=0, description='2nd loop', max=70, style=ProgressStyle(description_width='ini…"
      ]
     },
     "metadata": {},
     "output_type": "display_data"
    },
    {
     "data": {
      "application/vnd.jupyter.widget-view+json": {
       "model_id": "",
       "version_major": 2,
       "version_minor": 0
      },
      "text/plain": [
       "HBox(children=(IntProgress(value=0, description='2nd loop', max=70, style=ProgressStyle(description_width='ini…"
      ]
     },
     "metadata": {},
     "output_type": "display_data"
    },
    {
     "data": {
      "application/vnd.jupyter.widget-view+json": {
       "model_id": "",
       "version_major": 2,
       "version_minor": 0
      },
      "text/plain": [
       "HBox(children=(IntProgress(value=0, description='2nd loop', max=70, style=ProgressStyle(description_width='ini…"
      ]
     },
     "metadata": {},
     "output_type": "display_data"
    },
    {
     "data": {
      "application/vnd.jupyter.widget-view+json": {
       "model_id": "",
       "version_major": 2,
       "version_minor": 0
      },
      "text/plain": [
       "HBox(children=(IntProgress(value=0, description='2nd loop', max=70, style=ProgressStyle(description_width='ini…"
      ]
     },
     "metadata": {},
     "output_type": "display_data"
    },
    {
     "data": {
      "application/vnd.jupyter.widget-view+json": {
       "model_id": "",
       "version_major": 2,
       "version_minor": 0
      },
      "text/plain": [
       "HBox(children=(IntProgress(value=0, description='2nd loop', max=70, style=ProgressStyle(description_width='ini…"
      ]
     },
     "metadata": {},
     "output_type": "display_data"
    },
    {
     "data": {
      "application/vnd.jupyter.widget-view+json": {
       "model_id": "",
       "version_major": 2,
       "version_minor": 0
      },
      "text/plain": [
       "HBox(children=(IntProgress(value=0, description='2nd loop', max=70, style=ProgressStyle(description_width='ini…"
      ]
     },
     "metadata": {},
     "output_type": "display_data"
    },
    {
     "data": {
      "application/vnd.jupyter.widget-view+json": {
       "model_id": "",
       "version_major": 2,
       "version_minor": 0
      },
      "text/plain": [
       "HBox(children=(IntProgress(value=0, description='2nd loop', max=70, style=ProgressStyle(description_width='ini…"
      ]
     },
     "metadata": {},
     "output_type": "display_data"
    },
    {
     "data": {
      "application/vnd.jupyter.widget-view+json": {
       "model_id": "",
       "version_major": 2,
       "version_minor": 0
      },
      "text/plain": [
       "HBox(children=(IntProgress(value=0, description='2nd loop', max=70, style=ProgressStyle(description_width='ini…"
      ]
     },
     "metadata": {},
     "output_type": "display_data"
    },
    {
     "data": {
      "application/vnd.jupyter.widget-view+json": {
       "model_id": "",
       "version_major": 2,
       "version_minor": 0
      },
      "text/plain": [
       "HBox(children=(IntProgress(value=0, description='2nd loop', max=70, style=ProgressStyle(description_width='ini…"
      ]
     },
     "metadata": {},
     "output_type": "display_data"
    },
    {
     "data": {
      "application/vnd.jupyter.widget-view+json": {
       "model_id": "",
       "version_major": 2,
       "version_minor": 0
      },
      "text/plain": [
       "HBox(children=(IntProgress(value=0, description='2nd loop', max=70, style=ProgressStyle(description_width='ini…"
      ]
     },
     "metadata": {},
     "output_type": "display_data"
    },
    {
     "data": {
      "application/vnd.jupyter.widget-view+json": {
       "model_id": "",
       "version_major": 2,
       "version_minor": 0
      },
      "text/plain": [
       "HBox(children=(IntProgress(value=0, description='2nd loop', max=70, style=ProgressStyle(description_width='ini…"
      ]
     },
     "metadata": {},
     "output_type": "display_data"
    },
    {
     "data": {
      "application/vnd.jupyter.widget-view+json": {
       "model_id": "",
       "version_major": 2,
       "version_minor": 0
      },
      "text/plain": [
       "HBox(children=(IntProgress(value=0, description='2nd loop', max=70, style=ProgressStyle(description_width='ini…"
      ]
     },
     "metadata": {},
     "output_type": "display_data"
    },
    {
     "data": {
      "application/vnd.jupyter.widget-view+json": {
       "model_id": "",
       "version_major": 2,
       "version_minor": 0
      },
      "text/plain": [
       "HBox(children=(IntProgress(value=0, description='2nd loop', max=70, style=ProgressStyle(description_width='ini…"
      ]
     },
     "metadata": {},
     "output_type": "display_data"
    },
    {
     "data": {
      "application/vnd.jupyter.widget-view+json": {
       "model_id": "",
       "version_major": 2,
       "version_minor": 0
      },
      "text/plain": [
       "HBox(children=(IntProgress(value=0, description='2nd loop', max=70, style=ProgressStyle(description_width='ini…"
      ]
     },
     "metadata": {},
     "output_type": "display_data"
    },
    {
     "data": {
      "application/vnd.jupyter.widget-view+json": {
       "model_id": "",
       "version_major": 2,
       "version_minor": 0
      },
      "text/plain": [
       "HBox(children=(IntProgress(value=0, description='2nd loop', max=70, style=ProgressStyle(description_width='ini…"
      ]
     },
     "metadata": {},
     "output_type": "display_data"
    },
    {
     "data": {
      "application/vnd.jupyter.widget-view+json": {
       "model_id": "",
       "version_major": 2,
       "version_minor": 0
      },
      "text/plain": [
       "HBox(children=(IntProgress(value=0, description='2nd loop', max=70, style=ProgressStyle(description_width='ini…"
      ]
     },
     "metadata": {},
     "output_type": "display_data"
    },
    {
     "data": {
      "application/vnd.jupyter.widget-view+json": {
       "model_id": "",
       "version_major": 2,
       "version_minor": 0
      },
      "text/plain": [
       "HBox(children=(IntProgress(value=0, description='2nd loop', max=70, style=ProgressStyle(description_width='ini…"
      ]
     },
     "metadata": {},
     "output_type": "display_data"
    },
    {
     "data": {
      "application/vnd.jupyter.widget-view+json": {
       "model_id": "",
       "version_major": 2,
       "version_minor": 0
      },
      "text/plain": [
       "HBox(children=(IntProgress(value=0, description='2nd loop', max=70, style=ProgressStyle(description_width='ini…"
      ]
     },
     "metadata": {},
     "output_type": "display_data"
    },
    {
     "data": {
      "application/vnd.jupyter.widget-view+json": {
       "model_id": "",
       "version_major": 2,
       "version_minor": 0
      },
      "text/plain": [
       "HBox(children=(IntProgress(value=0, description='2nd loop', max=70, style=ProgressStyle(description_width='ini…"
      ]
     },
     "metadata": {},
     "output_type": "display_data"
    },
    {
     "data": {
      "application/vnd.jupyter.widget-view+json": {
       "model_id": "",
       "version_major": 2,
       "version_minor": 0
      },
      "text/plain": [
       "HBox(children=(IntProgress(value=0, description='2nd loop', max=70, style=ProgressStyle(description_width='ini…"
      ]
     },
     "metadata": {},
     "output_type": "display_data"
    },
    {
     "data": {
      "application/vnd.jupyter.widget-view+json": {
       "model_id": "",
       "version_major": 2,
       "version_minor": 0
      },
      "text/plain": [
       "HBox(children=(IntProgress(value=0, description='2nd loop', max=70, style=ProgressStyle(description_width='ini…"
      ]
     },
     "metadata": {},
     "output_type": "display_data"
    },
    {
     "data": {
      "application/vnd.jupyter.widget-view+json": {
       "model_id": "",
       "version_major": 2,
       "version_minor": 0
      },
      "text/plain": [
       "HBox(children=(IntProgress(value=0, description='2nd loop', max=70, style=ProgressStyle(description_width='ini…"
      ]
     },
     "metadata": {},
     "output_type": "display_data"
    },
    {
     "data": {
      "application/vnd.jupyter.widget-view+json": {
       "model_id": "",
       "version_major": 2,
       "version_minor": 0
      },
      "text/plain": [
       "HBox(children=(IntProgress(value=0, description='2nd loop', max=70, style=ProgressStyle(description_width='ini…"
      ]
     },
     "metadata": {},
     "output_type": "display_data"
    },
    {
     "data": {
      "application/vnd.jupyter.widget-view+json": {
       "model_id": "",
       "version_major": 2,
       "version_minor": 0
      },
      "text/plain": [
       "HBox(children=(IntProgress(value=0, description='2nd loop', max=70, style=ProgressStyle(description_width='ini…"
      ]
     },
     "metadata": {},
     "output_type": "display_data"
    },
    {
     "data": {
      "application/vnd.jupyter.widget-view+json": {
       "model_id": "",
       "version_major": 2,
       "version_minor": 0
      },
      "text/plain": [
       "HBox(children=(IntProgress(value=0, description='2nd loop', max=70, style=ProgressStyle(description_width='ini…"
      ]
     },
     "metadata": {},
     "output_type": "display_data"
    },
    {
     "data": {
      "application/vnd.jupyter.widget-view+json": {
       "model_id": "",
       "version_major": 2,
       "version_minor": 0
      },
      "text/plain": [
       "HBox(children=(IntProgress(value=0, description='2nd loop', max=70, style=ProgressStyle(description_width='ini…"
      ]
     },
     "metadata": {},
     "output_type": "display_data"
    },
    {
     "data": {
      "application/vnd.jupyter.widget-view+json": {
       "model_id": "",
       "version_major": 2,
       "version_minor": 0
      },
      "text/plain": [
       "HBox(children=(IntProgress(value=0, description='2nd loop', max=70, style=ProgressStyle(description_width='ini…"
      ]
     },
     "metadata": {},
     "output_type": "display_data"
    },
    {
     "data": {
      "application/vnd.jupyter.widget-view+json": {
       "model_id": "",
       "version_major": 2,
       "version_minor": 0
      },
      "text/plain": [
       "HBox(children=(IntProgress(value=0, description='2nd loop', max=70, style=ProgressStyle(description_width='ini…"
      ]
     },
     "metadata": {},
     "output_type": "display_data"
    },
    {
     "data": {
      "application/vnd.jupyter.widget-view+json": {
       "model_id": "",
       "version_major": 2,
       "version_minor": 0
      },
      "text/plain": [
       "HBox(children=(IntProgress(value=0, description='2nd loop', max=70, style=ProgressStyle(description_width='ini…"
      ]
     },
     "metadata": {},
     "output_type": "display_data"
    },
    {
     "data": {
      "application/vnd.jupyter.widget-view+json": {
       "model_id": "",
       "version_major": 2,
       "version_minor": 0
      },
      "text/plain": [
       "HBox(children=(IntProgress(value=0, description='2nd loop', max=70, style=ProgressStyle(description_width='ini…"
      ]
     },
     "metadata": {},
     "output_type": "display_data"
    },
    {
     "data": {
      "application/vnd.jupyter.widget-view+json": {
       "model_id": "",
       "version_major": 2,
       "version_minor": 0
      },
      "text/plain": [
       "HBox(children=(IntProgress(value=0, description='2nd loop', max=70, style=ProgressStyle(description_width='ini…"
      ]
     },
     "metadata": {},
     "output_type": "display_data"
    },
    {
     "data": {
      "application/vnd.jupyter.widget-view+json": {
       "model_id": "",
       "version_major": 2,
       "version_minor": 0
      },
      "text/plain": [
       "HBox(children=(IntProgress(value=0, description='2nd loop', max=70, style=ProgressStyle(description_width='ini…"
      ]
     },
     "metadata": {},
     "output_type": "display_data"
    },
    {
     "data": {
      "application/vnd.jupyter.widget-view+json": {
       "model_id": "",
       "version_major": 2,
       "version_minor": 0
      },
      "text/plain": [
       "HBox(children=(IntProgress(value=0, description='2nd loop', max=70, style=ProgressStyle(description_width='ini…"
      ]
     },
     "metadata": {},
     "output_type": "display_data"
    },
    {
     "data": {
      "application/vnd.jupyter.widget-view+json": {
       "model_id": "",
       "version_major": 2,
       "version_minor": 0
      },
      "text/plain": [
       "HBox(children=(IntProgress(value=0, description='2nd loop', max=70, style=ProgressStyle(description_width='ini…"
      ]
     },
     "metadata": {},
     "output_type": "display_data"
    },
    {
     "data": {
      "application/vnd.jupyter.widget-view+json": {
       "model_id": "",
       "version_major": 2,
       "version_minor": 0
      },
      "text/plain": [
       "HBox(children=(IntProgress(value=0, description='2nd loop', max=70, style=ProgressStyle(description_width='ini…"
      ]
     },
     "metadata": {},
     "output_type": "display_data"
    },
    {
     "data": {
      "application/vnd.jupyter.widget-view+json": {
       "model_id": "",
       "version_major": 2,
       "version_minor": 0
      },
      "text/plain": [
       "HBox(children=(IntProgress(value=0, description='2nd loop', max=70, style=ProgressStyle(description_width='ini…"
      ]
     },
     "metadata": {},
     "output_type": "display_data"
    },
    {
     "data": {
      "application/vnd.jupyter.widget-view+json": {
       "model_id": "",
       "version_major": 2,
       "version_minor": 0
      },
      "text/plain": [
       "HBox(children=(IntProgress(value=0, description='2nd loop', max=70, style=ProgressStyle(description_width='ini…"
      ]
     },
     "metadata": {},
     "output_type": "display_data"
    },
    {
     "data": {
      "application/vnd.jupyter.widget-view+json": {
       "model_id": "",
       "version_major": 2,
       "version_minor": 0
      },
      "text/plain": [
       "HBox(children=(IntProgress(value=0, description='2nd loop', max=70, style=ProgressStyle(description_width='ini…"
      ]
     },
     "metadata": {},
     "output_type": "display_data"
    },
    {
     "data": {
      "application/vnd.jupyter.widget-view+json": {
       "model_id": "",
       "version_major": 2,
       "version_minor": 0
      },
      "text/plain": [
       "HBox(children=(IntProgress(value=0, description='2nd loop', max=70, style=ProgressStyle(description_width='ini…"
      ]
     },
     "metadata": {},
     "output_type": "display_data"
    },
    {
     "data": {
      "application/vnd.jupyter.widget-view+json": {
       "model_id": "",
       "version_major": 2,
       "version_minor": 0
      },
      "text/plain": [
       "HBox(children=(IntProgress(value=0, description='2nd loop', max=70, style=ProgressStyle(description_width='ini…"
      ]
     },
     "metadata": {},
     "output_type": "display_data"
    },
    {
     "data": {
      "application/vnd.jupyter.widget-view+json": {
       "model_id": "",
       "version_major": 2,
       "version_minor": 0
      },
      "text/plain": [
       "HBox(children=(IntProgress(value=0, description='2nd loop', max=70, style=ProgressStyle(description_width='ini…"
      ]
     },
     "metadata": {},
     "output_type": "display_data"
    },
    {
     "data": {
      "application/vnd.jupyter.widget-view+json": {
       "model_id": "",
       "version_major": 2,
       "version_minor": 0
      },
      "text/plain": [
       "HBox(children=(IntProgress(value=0, description='2nd loop', max=70, style=ProgressStyle(description_width='ini…"
      ]
     },
     "metadata": {},
     "output_type": "display_data"
    },
    {
     "data": {
      "application/vnd.jupyter.widget-view+json": {
       "model_id": "",
       "version_major": 2,
       "version_minor": 0
      },
      "text/plain": [
       "HBox(children=(IntProgress(value=0, description='2nd loop', max=70, style=ProgressStyle(description_width='ini…"
      ]
     },
     "metadata": {},
     "output_type": "display_data"
    },
    {
     "data": {
      "application/vnd.jupyter.widget-view+json": {
       "model_id": "",
       "version_major": 2,
       "version_minor": 0
      },
      "text/plain": [
       "HBox(children=(IntProgress(value=0, description='2nd loop', max=70, style=ProgressStyle(description_width='ini…"
      ]
     },
     "metadata": {},
     "output_type": "display_data"
    },
    {
     "data": {
      "application/vnd.jupyter.widget-view+json": {
       "model_id": "",
       "version_major": 2,
       "version_minor": 0
      },
      "text/plain": [
       "HBox(children=(IntProgress(value=0, description='2nd loop', max=70, style=ProgressStyle(description_width='ini…"
      ]
     },
     "metadata": {},
     "output_type": "display_data"
    },
    {
     "data": {
      "application/vnd.jupyter.widget-view+json": {
       "model_id": "",
       "version_major": 2,
       "version_minor": 0
      },
      "text/plain": [
       "HBox(children=(IntProgress(value=0, description='2nd loop', max=70, style=ProgressStyle(description_width='ini…"
      ]
     },
     "metadata": {},
     "output_type": "display_data"
    },
    {
     "data": {
      "application/vnd.jupyter.widget-view+json": {
       "model_id": "",
       "version_major": 2,
       "version_minor": 0
      },
      "text/plain": [
       "HBox(children=(IntProgress(value=0, description='2nd loop', max=70, style=ProgressStyle(description_width='ini…"
      ]
     },
     "metadata": {},
     "output_type": "display_data"
    },
    {
     "data": {
      "application/vnd.jupyter.widget-view+json": {
       "model_id": "",
       "version_major": 2,
       "version_minor": 0
      },
      "text/plain": [
       "HBox(children=(IntProgress(value=0, description='2nd loop', max=70, style=ProgressStyle(description_width='ini…"
      ]
     },
     "metadata": {},
     "output_type": "display_data"
    },
    {
     "data": {
      "application/vnd.jupyter.widget-view+json": {
       "model_id": "",
       "version_major": 2,
       "version_minor": 0
      },
      "text/plain": [
       "HBox(children=(IntProgress(value=0, description='2nd loop', max=70, style=ProgressStyle(description_width='ini…"
      ]
     },
     "metadata": {},
     "output_type": "display_data"
    },
    {
     "data": {
      "application/vnd.jupyter.widget-view+json": {
       "model_id": "",
       "version_major": 2,
       "version_minor": 0
      },
      "text/plain": [
       "HBox(children=(IntProgress(value=0, description='2nd loop', max=70, style=ProgressStyle(description_width='ini…"
      ]
     },
     "metadata": {},
     "output_type": "display_data"
    },
    {
     "data": {
      "application/vnd.jupyter.widget-view+json": {
       "model_id": "",
       "version_major": 2,
       "version_minor": 0
      },
      "text/plain": [
       "HBox(children=(IntProgress(value=0, description='2nd loop', max=70, style=ProgressStyle(description_width='ini…"
      ]
     },
     "metadata": {},
     "output_type": "display_data"
    },
    {
     "data": {
      "application/vnd.jupyter.widget-view+json": {
       "model_id": "",
       "version_major": 2,
       "version_minor": 0
      },
      "text/plain": [
       "HBox(children=(IntProgress(value=0, description='2nd loop', max=70, style=ProgressStyle(description_width='ini…"
      ]
     },
     "metadata": {},
     "output_type": "display_data"
    },
    {
     "data": {
      "application/vnd.jupyter.widget-view+json": {
       "model_id": "",
       "version_major": 2,
       "version_minor": 0
      },
      "text/plain": [
       "HBox(children=(IntProgress(value=0, description='2nd loop', max=70, style=ProgressStyle(description_width='ini…"
      ]
     },
     "metadata": {},
     "output_type": "display_data"
    },
    {
     "data": {
      "application/vnd.jupyter.widget-view+json": {
       "model_id": "",
       "version_major": 2,
       "version_minor": 0
      },
      "text/plain": [
       "HBox(children=(IntProgress(value=0, description='2nd loop', max=70, style=ProgressStyle(description_width='ini…"
      ]
     },
     "metadata": {},
     "output_type": "display_data"
    },
    {
     "data": {
      "application/vnd.jupyter.widget-view+json": {
       "model_id": "",
       "version_major": 2,
       "version_minor": 0
      },
      "text/plain": [
       "HBox(children=(IntProgress(value=0, description='2nd loop', max=70, style=ProgressStyle(description_width='ini…"
      ]
     },
     "metadata": {},
     "output_type": "display_data"
    },
    {
     "data": {
      "application/vnd.jupyter.widget-view+json": {
       "model_id": "",
       "version_major": 2,
       "version_minor": 0
      },
      "text/plain": [
       "HBox(children=(IntProgress(value=0, description='2nd loop', max=70, style=ProgressStyle(description_width='ini…"
      ]
     },
     "metadata": {},
     "output_type": "display_data"
    },
    {
     "data": {
      "application/vnd.jupyter.widget-view+json": {
       "model_id": "",
       "version_major": 2,
       "version_minor": 0
      },
      "text/plain": [
       "HBox(children=(IntProgress(value=0, description='2nd loop', max=70, style=ProgressStyle(description_width='ini…"
      ]
     },
     "metadata": {},
     "output_type": "display_data"
    },
    {
     "data": {
      "application/vnd.jupyter.widget-view+json": {
       "model_id": "",
       "version_major": 2,
       "version_minor": 0
      },
      "text/plain": [
       "HBox(children=(IntProgress(value=0, description='2nd loop', max=70, style=ProgressStyle(description_width='ini…"
      ]
     },
     "metadata": {},
     "output_type": "display_data"
    },
    {
     "data": {
      "application/vnd.jupyter.widget-view+json": {
       "model_id": "",
       "version_major": 2,
       "version_minor": 0
      },
      "text/plain": [
       "HBox(children=(IntProgress(value=0, description='2nd loop', max=70, style=ProgressStyle(description_width='ini…"
      ]
     },
     "metadata": {},
     "output_type": "display_data"
    },
    {
     "data": {
      "application/vnd.jupyter.widget-view+json": {
       "model_id": "",
       "version_major": 2,
       "version_minor": 0
      },
      "text/plain": [
       "HBox(children=(IntProgress(value=0, description='2nd loop', max=70, style=ProgressStyle(description_width='ini…"
      ]
     },
     "metadata": {},
     "output_type": "display_data"
    },
    {
     "data": {
      "application/vnd.jupyter.widget-view+json": {
       "model_id": "",
       "version_major": 2,
       "version_minor": 0
      },
      "text/plain": [
       "HBox(children=(IntProgress(value=0, description='2nd loop', max=70, style=ProgressStyle(description_width='ini…"
      ]
     },
     "metadata": {},
     "output_type": "display_data"
    },
    {
     "data": {
      "application/vnd.jupyter.widget-view+json": {
       "model_id": "",
       "version_major": 2,
       "version_minor": 0
      },
      "text/plain": [
       "HBox(children=(IntProgress(value=0, description='2nd loop', max=70, style=ProgressStyle(description_width='ini…"
      ]
     },
     "metadata": {},
     "output_type": "display_data"
    },
    {
     "data": {
      "application/vnd.jupyter.widget-view+json": {
       "model_id": "",
       "version_major": 2,
       "version_minor": 0
      },
      "text/plain": [
       "HBox(children=(IntProgress(value=0, description='2nd loop', max=70, style=ProgressStyle(description_width='ini…"
      ]
     },
     "metadata": {},
     "output_type": "display_data"
    },
    {
     "data": {
      "application/vnd.jupyter.widget-view+json": {
       "model_id": "",
       "version_major": 2,
       "version_minor": 0
      },
      "text/plain": [
       "HBox(children=(IntProgress(value=0, description='2nd loop', max=70, style=ProgressStyle(description_width='ini…"
      ]
     },
     "metadata": {},
     "output_type": "display_data"
    },
    {
     "data": {
      "application/vnd.jupyter.widget-view+json": {
       "model_id": "",
       "version_major": 2,
       "version_minor": 0
      },
      "text/plain": [
       "HBox(children=(IntProgress(value=0, description='2nd loop', max=70, style=ProgressStyle(description_width='ini…"
      ]
     },
     "metadata": {},
     "output_type": "display_data"
    },
    {
     "data": {
      "application/vnd.jupyter.widget-view+json": {
       "model_id": "",
       "version_major": 2,
       "version_minor": 0
      },
      "text/plain": [
       "HBox(children=(IntProgress(value=0, description='2nd loop', max=70, style=ProgressStyle(description_width='ini…"
      ]
     },
     "metadata": {},
     "output_type": "display_data"
    },
    {
     "data": {
      "application/vnd.jupyter.widget-view+json": {
       "model_id": "",
       "version_major": 2,
       "version_minor": 0
      },
      "text/plain": [
       "HBox(children=(IntProgress(value=0, description='2nd loop', max=70, style=ProgressStyle(description_width='ini…"
      ]
     },
     "metadata": {},
     "output_type": "display_data"
    },
    {
     "data": {
      "application/vnd.jupyter.widget-view+json": {
       "model_id": "",
       "version_major": 2,
       "version_minor": 0
      },
      "text/plain": [
       "HBox(children=(IntProgress(value=0, description='2nd loop', max=70, style=ProgressStyle(description_width='ini…"
      ]
     },
     "metadata": {},
     "output_type": "display_data"
    },
    {
     "data": {
      "application/vnd.jupyter.widget-view+json": {
       "model_id": "",
       "version_major": 2,
       "version_minor": 0
      },
      "text/plain": [
       "HBox(children=(IntProgress(value=0, description='2nd loop', max=70, style=ProgressStyle(description_width='ini…"
      ]
     },
     "metadata": {},
     "output_type": "display_data"
    },
    {
     "data": {
      "application/vnd.jupyter.widget-view+json": {
       "model_id": "",
       "version_major": 2,
       "version_minor": 0
      },
      "text/plain": [
       "HBox(children=(IntProgress(value=0, description='2nd loop', max=70, style=ProgressStyle(description_width='ini…"
      ]
     },
     "metadata": {},
     "output_type": "display_data"
    },
    {
     "data": {
      "application/vnd.jupyter.widget-view+json": {
       "model_id": "",
       "version_major": 2,
       "version_minor": 0
      },
      "text/plain": [
       "HBox(children=(IntProgress(value=0, description='2nd loop', max=70, style=ProgressStyle(description_width='ini…"
      ]
     },
     "metadata": {},
     "output_type": "display_data"
    },
    {
     "data": {
      "application/vnd.jupyter.widget-view+json": {
       "model_id": "",
       "version_major": 2,
       "version_minor": 0
      },
      "text/plain": [
       "HBox(children=(IntProgress(value=0, description='2nd loop', max=70, style=ProgressStyle(description_width='ini…"
      ]
     },
     "metadata": {},
     "output_type": "display_data"
    },
    {
     "data": {
      "application/vnd.jupyter.widget-view+json": {
       "model_id": "",
       "version_major": 2,
       "version_minor": 0
      },
      "text/plain": [
       "HBox(children=(IntProgress(value=0, description='2nd loop', max=70, style=ProgressStyle(description_width='ini…"
      ]
     },
     "metadata": {},
     "output_type": "display_data"
    },
    {
     "data": {
      "application/vnd.jupyter.widget-view+json": {
       "model_id": "",
       "version_major": 2,
       "version_minor": 0
      },
      "text/plain": [
       "HBox(children=(IntProgress(value=0, description='2nd loop', max=70, style=ProgressStyle(description_width='ini…"
      ]
     },
     "metadata": {},
     "output_type": "display_data"
    },
    {
     "data": {
      "application/vnd.jupyter.widget-view+json": {
       "model_id": "",
       "version_major": 2,
       "version_minor": 0
      },
      "text/plain": [
       "HBox(children=(IntProgress(value=0, description='2nd loop', max=70, style=ProgressStyle(description_width='ini…"
      ]
     },
     "metadata": {},
     "output_type": "display_data"
    },
    {
     "data": {
      "application/vnd.jupyter.widget-view+json": {
       "model_id": "",
       "version_major": 2,
       "version_minor": 0
      },
      "text/plain": [
       "HBox(children=(IntProgress(value=0, description='2nd loop', max=70, style=ProgressStyle(description_width='ini…"
      ]
     },
     "metadata": {},
     "output_type": "display_data"
    },
    {
     "data": {
      "application/vnd.jupyter.widget-view+json": {
       "model_id": "",
       "version_major": 2,
       "version_minor": 0
      },
      "text/plain": [
       "HBox(children=(IntProgress(value=0, description='2nd loop', max=70, style=ProgressStyle(description_width='ini…"
      ]
     },
     "metadata": {},
     "output_type": "display_data"
    },
    {
     "data": {
      "application/vnd.jupyter.widget-view+json": {
       "model_id": "",
       "version_major": 2,
       "version_minor": 0
      },
      "text/plain": [
       "HBox(children=(IntProgress(value=0, description='2nd loop', max=70, style=ProgressStyle(description_width='ini…"
      ]
     },
     "metadata": {},
     "output_type": "display_data"
    },
    {
     "data": {
      "application/vnd.jupyter.widget-view+json": {
       "model_id": "",
       "version_major": 2,
       "version_minor": 0
      },
      "text/plain": [
       "HBox(children=(IntProgress(value=0, description='2nd loop', max=70, style=ProgressStyle(description_width='ini…"
      ]
     },
     "metadata": {},
     "output_type": "display_data"
    },
    {
     "data": {
      "application/vnd.jupyter.widget-view+json": {
       "model_id": "",
       "version_major": 2,
       "version_minor": 0
      },
      "text/plain": [
       "HBox(children=(IntProgress(value=0, description='2nd loop', max=70, style=ProgressStyle(description_width='ini…"
      ]
     },
     "metadata": {},
     "output_type": "display_data"
    },
    {
     "data": {
      "application/vnd.jupyter.widget-view+json": {
       "model_id": "",
       "version_major": 2,
       "version_minor": 0
      },
      "text/plain": [
       "HBox(children=(IntProgress(value=0, description='2nd loop', max=70, style=ProgressStyle(description_width='ini…"
      ]
     },
     "metadata": {},
     "output_type": "display_data"
    },
    {
     "data": {
      "application/vnd.jupyter.widget-view+json": {
       "model_id": "",
       "version_major": 2,
       "version_minor": 0
      },
      "text/plain": [
       "HBox(children=(IntProgress(value=0, description='2nd loop', max=70, style=ProgressStyle(description_width='ini…"
      ]
     },
     "metadata": {},
     "output_type": "display_data"
    },
    {
     "data": {
      "application/vnd.jupyter.widget-view+json": {
       "model_id": "",
       "version_major": 2,
       "version_minor": 0
      },
      "text/plain": [
       "HBox(children=(IntProgress(value=0, description='2nd loop', max=70, style=ProgressStyle(description_width='ini…"
      ]
     },
     "metadata": {},
     "output_type": "display_data"
    },
    {
     "data": {
      "application/vnd.jupyter.widget-view+json": {
       "model_id": "",
       "version_major": 2,
       "version_minor": 0
      },
      "text/plain": [
       "HBox(children=(IntProgress(value=0, description='2nd loop', max=70, style=ProgressStyle(description_width='ini…"
      ]
     },
     "metadata": {},
     "output_type": "display_data"
    },
    {
     "data": {
      "application/vnd.jupyter.widget-view+json": {
       "model_id": "",
       "version_major": 2,
       "version_minor": 0
      },
      "text/plain": [
       "HBox(children=(IntProgress(value=0, description='2nd loop', max=70, style=ProgressStyle(description_width='ini…"
      ]
     },
     "metadata": {},
     "output_type": "display_data"
    },
    {
     "data": {
      "application/vnd.jupyter.widget-view+json": {
       "model_id": "",
       "version_major": 2,
       "version_minor": 0
      },
      "text/plain": [
       "HBox(children=(IntProgress(value=0, description='2nd loop', max=70, style=ProgressStyle(description_width='ini…"
      ]
     },
     "metadata": {},
     "output_type": "display_data"
    },
    {
     "data": {
      "application/vnd.jupyter.widget-view+json": {
       "model_id": "",
       "version_major": 2,
       "version_minor": 0
      },
      "text/plain": [
       "HBox(children=(IntProgress(value=0, description='2nd loop', max=70, style=ProgressStyle(description_width='ini…"
      ]
     },
     "metadata": {},
     "output_type": "display_data"
    },
    {
     "data": {
      "application/vnd.jupyter.widget-view+json": {
       "model_id": "",
       "version_major": 2,
       "version_minor": 0
      },
      "text/plain": [
       "HBox(children=(IntProgress(value=0, description='2nd loop', max=70, style=ProgressStyle(description_width='ini…"
      ]
     },
     "metadata": {},
     "output_type": "display_data"
    },
    {
     "data": {
      "application/vnd.jupyter.widget-view+json": {
       "model_id": "",
       "version_major": 2,
       "version_minor": 0
      },
      "text/plain": [
       "HBox(children=(IntProgress(value=0, description='2nd loop', max=70, style=ProgressStyle(description_width='ini…"
      ]
     },
     "metadata": {},
     "output_type": "display_data"
    },
    {
     "data": {
      "application/vnd.jupyter.widget-view+json": {
       "model_id": "",
       "version_major": 2,
       "version_minor": 0
      },
      "text/plain": [
       "HBox(children=(IntProgress(value=0, description='2nd loop', max=70, style=ProgressStyle(description_width='ini…"
      ]
     },
     "metadata": {},
     "output_type": "display_data"
    },
    {
     "data": {
      "application/vnd.jupyter.widget-view+json": {
       "model_id": "",
       "version_major": 2,
       "version_minor": 0
      },
      "text/plain": [
       "HBox(children=(IntProgress(value=0, description='2nd loop', max=70, style=ProgressStyle(description_width='ini…"
      ]
     },
     "metadata": {},
     "output_type": "display_data"
    },
    {
     "data": {
      "application/vnd.jupyter.widget-view+json": {
       "model_id": "",
       "version_major": 2,
       "version_minor": 0
      },
      "text/plain": [
       "HBox(children=(IntProgress(value=0, description='2nd loop', max=70, style=ProgressStyle(description_width='ini…"
      ]
     },
     "metadata": {},
     "output_type": "display_data"
    },
    {
     "data": {
      "application/vnd.jupyter.widget-view+json": {
       "model_id": "",
       "version_major": 2,
       "version_minor": 0
      },
      "text/plain": [
       "HBox(children=(IntProgress(value=0, description='2nd loop', max=70, style=ProgressStyle(description_width='ini…"
      ]
     },
     "metadata": {},
     "output_type": "display_data"
    },
    {
     "data": {
      "application/vnd.jupyter.widget-view+json": {
       "model_id": "",
       "version_major": 2,
       "version_minor": 0
      },
      "text/plain": [
       "HBox(children=(IntProgress(value=0, description='2nd loop', max=70, style=ProgressStyle(description_width='ini…"
      ]
     },
     "metadata": {},
     "output_type": "display_data"
    },
    {
     "data": {
      "application/vnd.jupyter.widget-view+json": {
       "model_id": "",
       "version_major": 2,
       "version_minor": 0
      },
      "text/plain": [
       "HBox(children=(IntProgress(value=0, description='2nd loop', max=70, style=ProgressStyle(description_width='ini…"
      ]
     },
     "metadata": {},
     "output_type": "display_data"
    },
    {
     "data": {
      "application/vnd.jupyter.widget-view+json": {
       "model_id": "",
       "version_major": 2,
       "version_minor": 0
      },
      "text/plain": [
       "HBox(children=(IntProgress(value=0, description='2nd loop', max=70, style=ProgressStyle(description_width='ini…"
      ]
     },
     "metadata": {},
     "output_type": "display_data"
    },
    {
     "data": {
      "application/vnd.jupyter.widget-view+json": {
       "model_id": "",
       "version_major": 2,
       "version_minor": 0
      },
      "text/plain": [
       "HBox(children=(IntProgress(value=0, description='2nd loop', max=70, style=ProgressStyle(description_width='ini…"
      ]
     },
     "metadata": {},
     "output_type": "display_data"
    },
    {
     "data": {
      "application/vnd.jupyter.widget-view+json": {
       "model_id": "",
       "version_major": 2,
       "version_minor": 0
      },
      "text/plain": [
       "HBox(children=(IntProgress(value=0, description='2nd loop', max=70, style=ProgressStyle(description_width='ini…"
      ]
     },
     "metadata": {},
     "output_type": "display_data"
    },
    {
     "data": {
      "application/vnd.jupyter.widget-view+json": {
       "model_id": "",
       "version_major": 2,
       "version_minor": 0
      },
      "text/plain": [
       "HBox(children=(IntProgress(value=0, description='2nd loop', max=70, style=ProgressStyle(description_width='ini…"
      ]
     },
     "metadata": {},
     "output_type": "display_data"
    },
    {
     "data": {
      "application/vnd.jupyter.widget-view+json": {
       "model_id": "",
       "version_major": 2,
       "version_minor": 0
      },
      "text/plain": [
       "HBox(children=(IntProgress(value=0, description='2nd loop', max=70, style=ProgressStyle(description_width='ini…"
      ]
     },
     "metadata": {},
     "output_type": "display_data"
    },
    {
     "data": {
      "application/vnd.jupyter.widget-view+json": {
       "model_id": "",
       "version_major": 2,
       "version_minor": 0
      },
      "text/plain": [
       "HBox(children=(IntProgress(value=0, description='2nd loop', max=70, style=ProgressStyle(description_width='ini…"
      ]
     },
     "metadata": {},
     "output_type": "display_data"
    },
    {
     "data": {
      "application/vnd.jupyter.widget-view+json": {
       "model_id": "",
       "version_major": 2,
       "version_minor": 0
      },
      "text/plain": [
       "HBox(children=(IntProgress(value=0, description='2nd loop', max=70, style=ProgressStyle(description_width='ini…"
      ]
     },
     "metadata": {},
     "output_type": "display_data"
    },
    {
     "data": {
      "application/vnd.jupyter.widget-view+json": {
       "model_id": "",
       "version_major": 2,
       "version_minor": 0
      },
      "text/plain": [
       "HBox(children=(IntProgress(value=0, description='2nd loop', max=70, style=ProgressStyle(description_width='ini…"
      ]
     },
     "metadata": {},
     "output_type": "display_data"
    },
    {
     "data": {
      "application/vnd.jupyter.widget-view+json": {
       "model_id": "",
       "version_major": 2,
       "version_minor": 0
      },
      "text/plain": [
       "HBox(children=(IntProgress(value=0, description='2nd loop', max=70, style=ProgressStyle(description_width='ini…"
      ]
     },
     "metadata": {},
     "output_type": "display_data"
    },
    {
     "data": {
      "application/vnd.jupyter.widget-view+json": {
       "model_id": "",
       "version_major": 2,
       "version_minor": 0
      },
      "text/plain": [
       "HBox(children=(IntProgress(value=0, description='2nd loop', max=70, style=ProgressStyle(description_width='ini…"
      ]
     },
     "metadata": {},
     "output_type": "display_data"
    },
    {
     "data": {
      "application/vnd.jupyter.widget-view+json": {
       "model_id": "",
       "version_major": 2,
       "version_minor": 0
      },
      "text/plain": [
       "HBox(children=(IntProgress(value=0, description='2nd loop', max=70, style=ProgressStyle(description_width='ini…"
      ]
     },
     "metadata": {},
     "output_type": "display_data"
    },
    {
     "data": {
      "application/vnd.jupyter.widget-view+json": {
       "model_id": "",
       "version_major": 2,
       "version_minor": 0
      },
      "text/plain": [
       "HBox(children=(IntProgress(value=0, description='2nd loop', max=70, style=ProgressStyle(description_width='ini…"
      ]
     },
     "metadata": {},
     "output_type": "display_data"
    },
    {
     "data": {
      "application/vnd.jupyter.widget-view+json": {
       "model_id": "",
       "version_major": 2,
       "version_minor": 0
      },
      "text/plain": [
       "HBox(children=(IntProgress(value=0, description='2nd loop', max=70, style=ProgressStyle(description_width='ini…"
      ]
     },
     "metadata": {},
     "output_type": "display_data"
    },
    {
     "data": {
      "application/vnd.jupyter.widget-view+json": {
       "model_id": "",
       "version_major": 2,
       "version_minor": 0
      },
      "text/plain": [
       "HBox(children=(IntProgress(value=0, description='2nd loop', max=70, style=ProgressStyle(description_width='ini…"
      ]
     },
     "metadata": {},
     "output_type": "display_data"
    },
    {
     "data": {
      "application/vnd.jupyter.widget-view+json": {
       "model_id": "",
       "version_major": 2,
       "version_minor": 0
      },
      "text/plain": [
       "HBox(children=(IntProgress(value=0, description='2nd loop', max=70, style=ProgressStyle(description_width='ini…"
      ]
     },
     "metadata": {},
     "output_type": "display_data"
    },
    {
     "data": {
      "application/vnd.jupyter.widget-view+json": {
       "model_id": "",
       "version_major": 2,
       "version_minor": 0
      },
      "text/plain": [
       "HBox(children=(IntProgress(value=0, description='2nd loop', max=70, style=ProgressStyle(description_width='ini…"
      ]
     },
     "metadata": {},
     "output_type": "display_data"
    },
    {
     "data": {
      "application/vnd.jupyter.widget-view+json": {
       "model_id": "",
       "version_major": 2,
       "version_minor": 0
      },
      "text/plain": [
       "HBox(children=(IntProgress(value=0, description='2nd loop', max=70, style=ProgressStyle(description_width='ini…"
      ]
     },
     "metadata": {},
     "output_type": "display_data"
    },
    {
     "data": {
      "application/vnd.jupyter.widget-view+json": {
       "model_id": "",
       "version_major": 2,
       "version_minor": 0
      },
      "text/plain": [
       "HBox(children=(IntProgress(value=0, description='2nd loop', max=70, style=ProgressStyle(description_width='ini…"
      ]
     },
     "metadata": {},
     "output_type": "display_data"
    },
    {
     "data": {
      "application/vnd.jupyter.widget-view+json": {
       "model_id": "",
       "version_major": 2,
       "version_minor": 0
      },
      "text/plain": [
       "HBox(children=(IntProgress(value=0, description='2nd loop', max=70, style=ProgressStyle(description_width='ini…"
      ]
     },
     "metadata": {},
     "output_type": "display_data"
    },
    {
     "data": {
      "application/vnd.jupyter.widget-view+json": {
       "model_id": "",
       "version_major": 2,
       "version_minor": 0
      },
      "text/plain": [
       "HBox(children=(IntProgress(value=0, description='2nd loop', max=70, style=ProgressStyle(description_width='ini…"
      ]
     },
     "metadata": {},
     "output_type": "display_data"
    },
    {
     "data": {
      "application/vnd.jupyter.widget-view+json": {
       "model_id": "",
       "version_major": 2,
       "version_minor": 0
      },
      "text/plain": [
       "HBox(children=(IntProgress(value=0, description='2nd loop', max=70, style=ProgressStyle(description_width='ini…"
      ]
     },
     "metadata": {},
     "output_type": "display_data"
    },
    {
     "data": {
      "application/vnd.jupyter.widget-view+json": {
       "model_id": "",
       "version_major": 2,
       "version_minor": 0
      },
      "text/plain": [
       "HBox(children=(IntProgress(value=0, description='2nd loop', max=70, style=ProgressStyle(description_width='ini…"
      ]
     },
     "metadata": {},
     "output_type": "display_data"
    },
    {
     "data": {
      "application/vnd.jupyter.widget-view+json": {
       "model_id": "",
       "version_major": 2,
       "version_minor": 0
      },
      "text/plain": [
       "HBox(children=(IntProgress(value=0, description='2nd loop', max=70, style=ProgressStyle(description_width='ini…"
      ]
     },
     "metadata": {},
     "output_type": "display_data"
    },
    {
     "data": {
      "application/vnd.jupyter.widget-view+json": {
       "model_id": "",
       "version_major": 2,
       "version_minor": 0
      },
      "text/plain": [
       "HBox(children=(IntProgress(value=0, description='2nd loop', max=70, style=ProgressStyle(description_width='ini…"
      ]
     },
     "metadata": {},
     "output_type": "display_data"
    },
    {
     "data": {
      "application/vnd.jupyter.widget-view+json": {
       "model_id": "",
       "version_major": 2,
       "version_minor": 0
      },
      "text/plain": [
       "HBox(children=(IntProgress(value=0, description='2nd loop', max=70, style=ProgressStyle(description_width='ini…"
      ]
     },
     "metadata": {},
     "output_type": "display_data"
    },
    {
     "data": {
      "application/vnd.jupyter.widget-view+json": {
       "model_id": "",
       "version_major": 2,
       "version_minor": 0
      },
      "text/plain": [
       "HBox(children=(IntProgress(value=0, description='2nd loop', max=70, style=ProgressStyle(description_width='ini…"
      ]
     },
     "metadata": {},
     "output_type": "display_data"
    },
    {
     "data": {
      "application/vnd.jupyter.widget-view+json": {
       "model_id": "",
       "version_major": 2,
       "version_minor": 0
      },
      "text/plain": [
       "HBox(children=(IntProgress(value=0, description='2nd loop', max=70, style=ProgressStyle(description_width='ini…"
      ]
     },
     "metadata": {},
     "output_type": "display_data"
    },
    {
     "data": {
      "application/vnd.jupyter.widget-view+json": {
       "model_id": "",
       "version_major": 2,
       "version_minor": 0
      },
      "text/plain": [
       "HBox(children=(IntProgress(value=0, description='2nd loop', max=70, style=ProgressStyle(description_width='ini…"
      ]
     },
     "metadata": {},
     "output_type": "display_data"
    },
    {
     "data": {
      "application/vnd.jupyter.widget-view+json": {
       "model_id": "",
       "version_major": 2,
       "version_minor": 0
      },
      "text/plain": [
       "HBox(children=(IntProgress(value=0, description='2nd loop', max=70, style=ProgressStyle(description_width='ini…"
      ]
     },
     "metadata": {},
     "output_type": "display_data"
    },
    {
     "name": "stdout",
     "output_type": "stream",
     "text": [
      "Hey, I think you've had enough! Let's stop here.\n"
     ]
    }
   ],
   "source": [
    "#@@@@@@@@@@@@@@@@@@@\n",
    "# Learning variables\n",
    "#@@@@@@@@@@@@@@@@@@@\n",
    "q_values = np.zeros((N_STATES,N_ACTIONS)) #initialize to zero\n",
    "#q_values = np.load(\"Q_values.npy\") # or re-use the one already trained\n",
    "reward_score = np.zeros(MAX_EPOCHS)\n",
    "halite_score = np.zeros(MAX_EPOCHS)\n",
    "shipy_pass = np.zeros(MAX_EPOCHS)\n",
    "epochs = 0\n",
    "eps = EPS_START # starting value of epsilon\n",
    "# generate an adaptive epsilon greedy algorithm, calibrated in order to have epsilon = 10^-4 at the last epoch\n",
    "epsilons = np.array(list(map(lambda i : eps*np.exp(-i*2*np.log(10)/MAX_EPOCHS), np.arange(0,MAX_EPOCHS+1))))\n",
    "\n",
    "\n",
    "# visualize online the results\n",
    "%matplotlib notebook\n",
    "fig = plt.figure(figsize = (8,6))\n",
    "plt.ion()\n",
    "\n",
    "ax1 = fig.add_subplot(221)\n",
    "ax1.set_xlim(0,MAX_EPOCHS+1)\n",
    "#ax1.set_ylim(0,9000)\n",
    "ax1.set_xlabel(\"Epochs\", fontsize = 14)\n",
    "ax1.set_ylabel(\"Halite collected\", fontsize = 14)\n",
    "\n",
    "ax2 = fig.add_subplot(222)\n",
    "ax2.set_xlim(0,MAX_EPOCHS+1)\n",
    "#ax2.set_ylim(-4,5)\n",
    "ax2.set_xlabel(\"Epochs\", fontsize = 14)\n",
    "ax2.set_ylabel(\"Halite per passage\", fontsize = 14)\n",
    "\n",
    "\n",
    "ax3 = fig.add_subplot(223)\n",
    "ax3.set_xlim(0,MAX_EPOCHS+1)\n",
    "ax3.set_ylim(0,0.5)\n",
    "ax3.set_xlabel(\"Epochs\", fontsize = 14)\n",
    "ax3.set_ylabel(\"Epsilon\", fontsize = 14)\n",
    "\n",
    "\n",
    "ax4 = fig.add_subplot(224)\n",
    "ax4.set_xlim(0,MAX_EPOCHS+1)\n",
    "ax4.set_xlabel(\"Epochs\", fontsize = 14)\n",
    "ax4.set_ylabel(\"Shipyard passages\", fontsize = 14)\n",
    "\n",
    "plt.tight_layout()\n",
    "fig.show()\n",
    "fig.canvas.draw()\n",
    "\n",
    "from tqdm import tnrange, trange\n",
    "\n",
    "for k in tnrange(MAX_EPOCHS, desc='1st loop', leave=True):\n",
    "    #@@@@@@@@@@@@@@@@@@@@@@\n",
    "    # here starts an epoch\n",
    "    #@@@@@@@@@@@@@@@@@@@@@@\n",
    "    epochs = epochs + 1\n",
    "    reward_progress = np.zeros(N_BATCH) # bunch of 100 episodes\n",
    "    halite_progress = np.zeros(N_BATCH) # bunch of 100 episodes\n",
    "    shipy_pass_progress = np.zeros(N_BATCH) # bunch of 100 episodes\n",
    "    eps = epsilons[epochs]\n",
    "    # update the dictionary at each epoch with the new epsilon\n",
    "    learning_dict = dict(LEARNING_RATE = LEARNING_RATE, \n",
    "                     DISCOUNT_FACTOR = DISCOUNT_FACTOR , \n",
    "                     eps = eps, \n",
    "                     R0 = R0, R1 = R1)\n",
    "    \n",
    "    for i in tnrange(N_BATCH, desc='2nd loop', leave=False):\n",
    "        # here starts an episode\n",
    "        q_values, reward, collected_halite, passages = ship.play_episode_v1(q_values, **env_dict, **state_dict, **learning_dict)\n",
    "        if passages > 0:\n",
    "            reward_progress[i] = collected_halite/passages\n",
    "        else:\n",
    "            reward_progress[i] = 0\n",
    "        halite_progress[i] = collected_halite\n",
    "        shipy_pass_progress[i] = passages\n",
    "\n",
    "        #break # play just 1 episode\n",
    "\n",
    "    #break # play just 1 epoch\n",
    "\n",
    "    reward_score[epochs-1] = reward_progress.mean()\n",
    "    halite_score[epochs-1] = halite_progress.mean()\n",
    "    shipy_pass[epochs-1] = shipy_pass_progress.mean()\n",
    "    \n",
    "    ax1.scatter(epochs, halite_score[epochs-1], s = 10, color='blue')\n",
    "    ax2.scatter(epochs, reward_score[epochs-1], s = 10,color='blue')\n",
    "    ax3.scatter(epochs, epsilons[epochs], s = 10, color='blue')\n",
    "    ax4.scatter(epochs, shipy_pass[epochs-1], s = 10, color='blue')\n",
    "    fig.canvas.draw()\n",
    "\n",
    "    if epochs >= MAX_EPOCHS:\n",
    "        print(\"Hey, I think you've had enough! Let's stop here.\")\n",
    "        break"
   ]
  },
  {
   "cell_type": "code",
   "execution_count": 69,
   "metadata": {},
   "outputs": [],
   "source": [
    "np.save(\"Q_values/Q_values_new_method.npy\", q_values)"
   ]
  },
  {
   "cell_type": "markdown",
   "metadata": {},
   "source": [
    "## Visualizing the new result\n",
    "\n",
    "As we have done in the previous tutorial, after the training we can see with our own eyes how the agent is performing."
   ]
  },
  {
   "cell_type": "code",
   "execution_count": 10,
   "metadata": {},
   "outputs": [],
   "source": [
    "q_values = np.load(\"Q_values/Q_values_new_method.npy\")"
   ]
  },
  {
   "cell_type": "code",
   "execution_count": 11,
   "metadata": {},
   "outputs": [],
   "source": [
    "# some functions to represent in RGB the halite levels of the map and the ship\n",
    "\n",
    "def color_sea(map_halite):\n",
    "    #color1 = np.array([32,124,157])\n",
    "    sea_colors = np.zeros((1001,3))\n",
    "    for i in range(1001):\n",
    "        sea_colors[i] = [32,20+i/10,50+2*i/10]\n",
    "    N = len(map_halite.flatten())\n",
    "    rgb_map = np.zeros((N,3))\n",
    "    flatten_map = map_halite.flatten()\n",
    "    for i in range(N):\n",
    "        rgb_map[i] = sea_colors[int(flatten_map[i])]\n",
    "    return rgb_map.reshape((map_halite.shape)+(3,))/255\n",
    "\n",
    "def color_ship(cargo):\n",
    "    #color2 = np.array([255,203,119])\n",
    "    ship_colors = np.zeros((1001,3))\n",
    "    for i in range(1001):\n",
    "        ship_colors[i] = [(120+2*i/10)*250/320,(70+2*i/10)*200/270,(90+i/10)*120/210]\n",
    "    return ship_colors[int(cargo)]/255    \n",
    "\n",
    "def decision_map(q_s, x, y, rgb_map, map_size = 7, alpha=0.5):\n",
    "    \n",
    "    def Q_to_color(q_array):\n",
    "        x = (q_array-q_array.min()+ 1e-5)/(q_array.max() - q_array.min() + 1e-5)\n",
    "        color = np.array([[225*(1-xi),225*xi,25] for xi in x])/255\n",
    "        return color\n",
    "    \n",
    "    pos_dict = {0:(0,0), 1:(1,0), 2:(-1,0), 3:(0,1), 4:(0,-1)}\n",
    "    q_colors = Q_to_color(q_s)\n",
    "    pos_dec = (x,y)\n",
    "    for i in range(5):\n",
    "        xi = (pos_dec[0]+pos_dict[i][0])%map_size\n",
    "        yi = (pos_dec[1]+pos_dict[i][1])%map_size\n",
    "        rgb_map[xi,yi] = alpha*q_colors[i]+(1-alpha)*rgb_map[xi,yi]\n",
    "    return rgb_map"
   ]
  },
  {
   "cell_type": "code",
   "execution_count": 13,
   "metadata": {
    "scrolled": false
   },
   "outputs": [
    {
     "data": {
      "application/javascript": [
       "/* Put everything inside the global mpl namespace */\n",
       "window.mpl = {};\n",
       "\n",
       "\n",
       "mpl.get_websocket_type = function() {\n",
       "    if (typeof(WebSocket) !== 'undefined') {\n",
       "        return WebSocket;\n",
       "    } else if (typeof(MozWebSocket) !== 'undefined') {\n",
       "        return MozWebSocket;\n",
       "    } else {\n",
       "        alert('Your browser does not have WebSocket support. ' +\n",
       "              'Please try Chrome, Safari or Firefox ≥ 6. ' +\n",
       "              'Firefox 4 and 5 are also supported but you ' +\n",
       "              'have to enable WebSockets in about:config.');\n",
       "    };\n",
       "}\n",
       "\n",
       "mpl.figure = function(figure_id, websocket, ondownload, parent_element) {\n",
       "    this.id = figure_id;\n",
       "\n",
       "    this.ws = websocket;\n",
       "\n",
       "    this.supports_binary = (this.ws.binaryType != undefined);\n",
       "\n",
       "    if (!this.supports_binary) {\n",
       "        var warnings = document.getElementById(\"mpl-warnings\");\n",
       "        if (warnings) {\n",
       "            warnings.style.display = 'block';\n",
       "            warnings.textContent = (\n",
       "                \"This browser does not support binary websocket messages. \" +\n",
       "                    \"Performance may be slow.\");\n",
       "        }\n",
       "    }\n",
       "\n",
       "    this.imageObj = new Image();\n",
       "\n",
       "    this.context = undefined;\n",
       "    this.message = undefined;\n",
       "    this.canvas = undefined;\n",
       "    this.rubberband_canvas = undefined;\n",
       "    this.rubberband_context = undefined;\n",
       "    this.format_dropdown = undefined;\n",
       "\n",
       "    this.image_mode = 'full';\n",
       "\n",
       "    this.root = $('<div/>');\n",
       "    this._root_extra_style(this.root)\n",
       "    this.root.attr('style', 'display: inline-block');\n",
       "\n",
       "    $(parent_element).append(this.root);\n",
       "\n",
       "    this._init_header(this);\n",
       "    this._init_canvas(this);\n",
       "    this._init_toolbar(this);\n",
       "\n",
       "    var fig = this;\n",
       "\n",
       "    this.waiting = false;\n",
       "\n",
       "    this.ws.onopen =  function () {\n",
       "            fig.send_message(\"supports_binary\", {value: fig.supports_binary});\n",
       "            fig.send_message(\"send_image_mode\", {});\n",
       "            if (mpl.ratio != 1) {\n",
       "                fig.send_message(\"set_dpi_ratio\", {'dpi_ratio': mpl.ratio});\n",
       "            }\n",
       "            fig.send_message(\"refresh\", {});\n",
       "        }\n",
       "\n",
       "    this.imageObj.onload = function() {\n",
       "            if (fig.image_mode == 'full') {\n",
       "                // Full images could contain transparency (where diff images\n",
       "                // almost always do), so we need to clear the canvas so that\n",
       "                // there is no ghosting.\n",
       "                fig.context.clearRect(0, 0, fig.canvas.width, fig.canvas.height);\n",
       "            }\n",
       "            fig.context.drawImage(fig.imageObj, 0, 0);\n",
       "        };\n",
       "\n",
       "    this.imageObj.onunload = function() {\n",
       "        fig.ws.close();\n",
       "    }\n",
       "\n",
       "    this.ws.onmessage = this._make_on_message_function(this);\n",
       "\n",
       "    this.ondownload = ondownload;\n",
       "}\n",
       "\n",
       "mpl.figure.prototype._init_header = function() {\n",
       "    var titlebar = $(\n",
       "        '<div class=\"ui-dialog-titlebar ui-widget-header ui-corner-all ' +\n",
       "        'ui-helper-clearfix\"/>');\n",
       "    var titletext = $(\n",
       "        '<div class=\"ui-dialog-title\" style=\"width: 100%; ' +\n",
       "        'text-align: center; padding: 3px;\"/>');\n",
       "    titlebar.append(titletext)\n",
       "    this.root.append(titlebar);\n",
       "    this.header = titletext[0];\n",
       "}\n",
       "\n",
       "\n",
       "\n",
       "mpl.figure.prototype._canvas_extra_style = function(canvas_div) {\n",
       "\n",
       "}\n",
       "\n",
       "\n",
       "mpl.figure.prototype._root_extra_style = function(canvas_div) {\n",
       "\n",
       "}\n",
       "\n",
       "mpl.figure.prototype._init_canvas = function() {\n",
       "    var fig = this;\n",
       "\n",
       "    var canvas_div = $('<div/>');\n",
       "\n",
       "    canvas_div.attr('style', 'position: relative; clear: both; outline: 0');\n",
       "\n",
       "    function canvas_keyboard_event(event) {\n",
       "        return fig.key_event(event, event['data']);\n",
       "    }\n",
       "\n",
       "    canvas_div.keydown('key_press', canvas_keyboard_event);\n",
       "    canvas_div.keyup('key_release', canvas_keyboard_event);\n",
       "    this.canvas_div = canvas_div\n",
       "    this._canvas_extra_style(canvas_div)\n",
       "    this.root.append(canvas_div);\n",
       "\n",
       "    var canvas = $('<canvas/>');\n",
       "    canvas.addClass('mpl-canvas');\n",
       "    canvas.attr('style', \"left: 0; top: 0; z-index: 0; outline: 0\")\n",
       "\n",
       "    this.canvas = canvas[0];\n",
       "    this.context = canvas[0].getContext(\"2d\");\n",
       "\n",
       "    var backingStore = this.context.backingStorePixelRatio ||\n",
       "\tthis.context.webkitBackingStorePixelRatio ||\n",
       "\tthis.context.mozBackingStorePixelRatio ||\n",
       "\tthis.context.msBackingStorePixelRatio ||\n",
       "\tthis.context.oBackingStorePixelRatio ||\n",
       "\tthis.context.backingStorePixelRatio || 1;\n",
       "\n",
       "    mpl.ratio = (window.devicePixelRatio || 1) / backingStore;\n",
       "\n",
       "    var rubberband = $('<canvas/>');\n",
       "    rubberband.attr('style', \"position: absolute; left: 0; top: 0; z-index: 1;\")\n",
       "\n",
       "    var pass_mouse_events = true;\n",
       "\n",
       "    canvas_div.resizable({\n",
       "        start: function(event, ui) {\n",
       "            pass_mouse_events = false;\n",
       "        },\n",
       "        resize: function(event, ui) {\n",
       "            fig.request_resize(ui.size.width, ui.size.height);\n",
       "        },\n",
       "        stop: function(event, ui) {\n",
       "            pass_mouse_events = true;\n",
       "            fig.request_resize(ui.size.width, ui.size.height);\n",
       "        },\n",
       "    });\n",
       "\n",
       "    function mouse_event_fn(event) {\n",
       "        if (pass_mouse_events)\n",
       "            return fig.mouse_event(event, event['data']);\n",
       "    }\n",
       "\n",
       "    rubberband.mousedown('button_press', mouse_event_fn);\n",
       "    rubberband.mouseup('button_release', mouse_event_fn);\n",
       "    // Throttle sequential mouse events to 1 every 20ms.\n",
       "    rubberband.mousemove('motion_notify', mouse_event_fn);\n",
       "\n",
       "    rubberband.mouseenter('figure_enter', mouse_event_fn);\n",
       "    rubberband.mouseleave('figure_leave', mouse_event_fn);\n",
       "\n",
       "    canvas_div.on(\"wheel\", function (event) {\n",
       "        event = event.originalEvent;\n",
       "        event['data'] = 'scroll'\n",
       "        if (event.deltaY < 0) {\n",
       "            event.step = 1;\n",
       "        } else {\n",
       "            event.step = -1;\n",
       "        }\n",
       "        mouse_event_fn(event);\n",
       "    });\n",
       "\n",
       "    canvas_div.append(canvas);\n",
       "    canvas_div.append(rubberband);\n",
       "\n",
       "    this.rubberband = rubberband;\n",
       "    this.rubberband_canvas = rubberband[0];\n",
       "    this.rubberband_context = rubberband[0].getContext(\"2d\");\n",
       "    this.rubberband_context.strokeStyle = \"#000000\";\n",
       "\n",
       "    this._resize_canvas = function(width, height) {\n",
       "        // Keep the size of the canvas, canvas container, and rubber band\n",
       "        // canvas in synch.\n",
       "        canvas_div.css('width', width)\n",
       "        canvas_div.css('height', height)\n",
       "\n",
       "        canvas.attr('width', width * mpl.ratio);\n",
       "        canvas.attr('height', height * mpl.ratio);\n",
       "        canvas.attr('style', 'width: ' + width + 'px; height: ' + height + 'px;');\n",
       "\n",
       "        rubberband.attr('width', width);\n",
       "        rubberband.attr('height', height);\n",
       "    }\n",
       "\n",
       "    // Set the figure to an initial 600x600px, this will subsequently be updated\n",
       "    // upon first draw.\n",
       "    this._resize_canvas(600, 600);\n",
       "\n",
       "    // Disable right mouse context menu.\n",
       "    $(this.rubberband_canvas).bind(\"contextmenu\",function(e){\n",
       "        return false;\n",
       "    });\n",
       "\n",
       "    function set_focus () {\n",
       "        canvas.focus();\n",
       "        canvas_div.focus();\n",
       "    }\n",
       "\n",
       "    window.setTimeout(set_focus, 100);\n",
       "}\n",
       "\n",
       "mpl.figure.prototype._init_toolbar = function() {\n",
       "    var fig = this;\n",
       "\n",
       "    var nav_element = $('<div/>');\n",
       "    nav_element.attr('style', 'width: 100%');\n",
       "    this.root.append(nav_element);\n",
       "\n",
       "    // Define a callback function for later on.\n",
       "    function toolbar_event(event) {\n",
       "        return fig.toolbar_button_onclick(event['data']);\n",
       "    }\n",
       "    function toolbar_mouse_event(event) {\n",
       "        return fig.toolbar_button_onmouseover(event['data']);\n",
       "    }\n",
       "\n",
       "    for(var toolbar_ind in mpl.toolbar_items) {\n",
       "        var name = mpl.toolbar_items[toolbar_ind][0];\n",
       "        var tooltip = mpl.toolbar_items[toolbar_ind][1];\n",
       "        var image = mpl.toolbar_items[toolbar_ind][2];\n",
       "        var method_name = mpl.toolbar_items[toolbar_ind][3];\n",
       "\n",
       "        if (!name) {\n",
       "            // put a spacer in here.\n",
       "            continue;\n",
       "        }\n",
       "        var button = $('<button/>');\n",
       "        button.addClass('ui-button ui-widget ui-state-default ui-corner-all ' +\n",
       "                        'ui-button-icon-only');\n",
       "        button.attr('role', 'button');\n",
       "        button.attr('aria-disabled', 'false');\n",
       "        button.click(method_name, toolbar_event);\n",
       "        button.mouseover(tooltip, toolbar_mouse_event);\n",
       "\n",
       "        var icon_img = $('<span/>');\n",
       "        icon_img.addClass('ui-button-icon-primary ui-icon');\n",
       "        icon_img.addClass(image);\n",
       "        icon_img.addClass('ui-corner-all');\n",
       "\n",
       "        var tooltip_span = $('<span/>');\n",
       "        tooltip_span.addClass('ui-button-text');\n",
       "        tooltip_span.html(tooltip);\n",
       "\n",
       "        button.append(icon_img);\n",
       "        button.append(tooltip_span);\n",
       "\n",
       "        nav_element.append(button);\n",
       "    }\n",
       "\n",
       "    var fmt_picker_span = $('<span/>');\n",
       "\n",
       "    var fmt_picker = $('<select/>');\n",
       "    fmt_picker.addClass('mpl-toolbar-option ui-widget ui-widget-content');\n",
       "    fmt_picker_span.append(fmt_picker);\n",
       "    nav_element.append(fmt_picker_span);\n",
       "    this.format_dropdown = fmt_picker[0];\n",
       "\n",
       "    for (var ind in mpl.extensions) {\n",
       "        var fmt = mpl.extensions[ind];\n",
       "        var option = $(\n",
       "            '<option/>', {selected: fmt === mpl.default_extension}).html(fmt);\n",
       "        fmt_picker.append(option);\n",
       "    }\n",
       "\n",
       "    // Add hover states to the ui-buttons\n",
       "    $( \".ui-button\" ).hover(\n",
       "        function() { $(this).addClass(\"ui-state-hover\");},\n",
       "        function() { $(this).removeClass(\"ui-state-hover\");}\n",
       "    );\n",
       "\n",
       "    var status_bar = $('<span class=\"mpl-message\"/>');\n",
       "    nav_element.append(status_bar);\n",
       "    this.message = status_bar[0];\n",
       "}\n",
       "\n",
       "mpl.figure.prototype.request_resize = function(x_pixels, y_pixels) {\n",
       "    // Request matplotlib to resize the figure. Matplotlib will then trigger a resize in the client,\n",
       "    // which will in turn request a refresh of the image.\n",
       "    this.send_message('resize', {'width': x_pixels, 'height': y_pixels});\n",
       "}\n",
       "\n",
       "mpl.figure.prototype.send_message = function(type, properties) {\n",
       "    properties['type'] = type;\n",
       "    properties['figure_id'] = this.id;\n",
       "    this.ws.send(JSON.stringify(properties));\n",
       "}\n",
       "\n",
       "mpl.figure.prototype.send_draw_message = function() {\n",
       "    if (!this.waiting) {\n",
       "        this.waiting = true;\n",
       "        this.ws.send(JSON.stringify({type: \"draw\", figure_id: this.id}));\n",
       "    }\n",
       "}\n",
       "\n",
       "\n",
       "mpl.figure.prototype.handle_save = function(fig, msg) {\n",
       "    var format_dropdown = fig.format_dropdown;\n",
       "    var format = format_dropdown.options[format_dropdown.selectedIndex].value;\n",
       "    fig.ondownload(fig, format);\n",
       "}\n",
       "\n",
       "\n",
       "mpl.figure.prototype.handle_resize = function(fig, msg) {\n",
       "    var size = msg['size'];\n",
       "    if (size[0] != fig.canvas.width || size[1] != fig.canvas.height) {\n",
       "        fig._resize_canvas(size[0], size[1]);\n",
       "        fig.send_message(\"refresh\", {});\n",
       "    };\n",
       "}\n",
       "\n",
       "mpl.figure.prototype.handle_rubberband = function(fig, msg) {\n",
       "    var x0 = msg['x0'] / mpl.ratio;\n",
       "    var y0 = (fig.canvas.height - msg['y0']) / mpl.ratio;\n",
       "    var x1 = msg['x1'] / mpl.ratio;\n",
       "    var y1 = (fig.canvas.height - msg['y1']) / mpl.ratio;\n",
       "    x0 = Math.floor(x0) + 0.5;\n",
       "    y0 = Math.floor(y0) + 0.5;\n",
       "    x1 = Math.floor(x1) + 0.5;\n",
       "    y1 = Math.floor(y1) + 0.5;\n",
       "    var min_x = Math.min(x0, x1);\n",
       "    var min_y = Math.min(y0, y1);\n",
       "    var width = Math.abs(x1 - x0);\n",
       "    var height = Math.abs(y1 - y0);\n",
       "\n",
       "    fig.rubberband_context.clearRect(\n",
       "        0, 0, fig.canvas.width / mpl.ratio, fig.canvas.height / mpl.ratio);\n",
       "\n",
       "    fig.rubberband_context.strokeRect(min_x, min_y, width, height);\n",
       "}\n",
       "\n",
       "mpl.figure.prototype.handle_figure_label = function(fig, msg) {\n",
       "    // Updates the figure title.\n",
       "    fig.header.textContent = msg['label'];\n",
       "}\n",
       "\n",
       "mpl.figure.prototype.handle_cursor = function(fig, msg) {\n",
       "    var cursor = msg['cursor'];\n",
       "    switch(cursor)\n",
       "    {\n",
       "    case 0:\n",
       "        cursor = 'pointer';\n",
       "        break;\n",
       "    case 1:\n",
       "        cursor = 'default';\n",
       "        break;\n",
       "    case 2:\n",
       "        cursor = 'crosshair';\n",
       "        break;\n",
       "    case 3:\n",
       "        cursor = 'move';\n",
       "        break;\n",
       "    }\n",
       "    fig.rubberband_canvas.style.cursor = cursor;\n",
       "}\n",
       "\n",
       "mpl.figure.prototype.handle_message = function(fig, msg) {\n",
       "    fig.message.textContent = msg['message'];\n",
       "}\n",
       "\n",
       "mpl.figure.prototype.handle_draw = function(fig, msg) {\n",
       "    // Request the server to send over a new figure.\n",
       "    fig.send_draw_message();\n",
       "}\n",
       "\n",
       "mpl.figure.prototype.handle_image_mode = function(fig, msg) {\n",
       "    fig.image_mode = msg['mode'];\n",
       "}\n",
       "\n",
       "mpl.figure.prototype.updated_canvas_event = function() {\n",
       "    // Called whenever the canvas gets updated.\n",
       "    this.send_message(\"ack\", {});\n",
       "}\n",
       "\n",
       "// A function to construct a web socket function for onmessage handling.\n",
       "// Called in the figure constructor.\n",
       "mpl.figure.prototype._make_on_message_function = function(fig) {\n",
       "    return function socket_on_message(evt) {\n",
       "        if (evt.data instanceof Blob) {\n",
       "            /* FIXME: We get \"Resource interpreted as Image but\n",
       "             * transferred with MIME type text/plain:\" errors on\n",
       "             * Chrome.  But how to set the MIME type?  It doesn't seem\n",
       "             * to be part of the websocket stream */\n",
       "            evt.data.type = \"image/png\";\n",
       "\n",
       "            /* Free the memory for the previous frames */\n",
       "            if (fig.imageObj.src) {\n",
       "                (window.URL || window.webkitURL).revokeObjectURL(\n",
       "                    fig.imageObj.src);\n",
       "            }\n",
       "\n",
       "            fig.imageObj.src = (window.URL || window.webkitURL).createObjectURL(\n",
       "                evt.data);\n",
       "            fig.updated_canvas_event();\n",
       "            fig.waiting = false;\n",
       "            return;\n",
       "        }\n",
       "        else if (typeof evt.data === 'string' && evt.data.slice(0, 21) == \"data:image/png;base64\") {\n",
       "            fig.imageObj.src = evt.data;\n",
       "            fig.updated_canvas_event();\n",
       "            fig.waiting = false;\n",
       "            return;\n",
       "        }\n",
       "\n",
       "        var msg = JSON.parse(evt.data);\n",
       "        var msg_type = msg['type'];\n",
       "\n",
       "        // Call the  \"handle_{type}\" callback, which takes\n",
       "        // the figure and JSON message as its only arguments.\n",
       "        try {\n",
       "            var callback = fig[\"handle_\" + msg_type];\n",
       "        } catch (e) {\n",
       "            console.log(\"No handler for the '\" + msg_type + \"' message type: \", msg);\n",
       "            return;\n",
       "        }\n",
       "\n",
       "        if (callback) {\n",
       "            try {\n",
       "                // console.log(\"Handling '\" + msg_type + \"' message: \", msg);\n",
       "                callback(fig, msg);\n",
       "            } catch (e) {\n",
       "                console.log(\"Exception inside the 'handler_\" + msg_type + \"' callback:\", e, e.stack, msg);\n",
       "            }\n",
       "        }\n",
       "    };\n",
       "}\n",
       "\n",
       "// from http://stackoverflow.com/questions/1114465/getting-mouse-location-in-canvas\n",
       "mpl.findpos = function(e) {\n",
       "    //this section is from http://www.quirksmode.org/js/events_properties.html\n",
       "    var targ;\n",
       "    if (!e)\n",
       "        e = window.event;\n",
       "    if (e.target)\n",
       "        targ = e.target;\n",
       "    else if (e.srcElement)\n",
       "        targ = e.srcElement;\n",
       "    if (targ.nodeType == 3) // defeat Safari bug\n",
       "        targ = targ.parentNode;\n",
       "\n",
       "    // jQuery normalizes the pageX and pageY\n",
       "    // pageX,Y are the mouse positions relative to the document\n",
       "    // offset() returns the position of the element relative to the document\n",
       "    var x = e.pageX - $(targ).offset().left;\n",
       "    var y = e.pageY - $(targ).offset().top;\n",
       "\n",
       "    return {\"x\": x, \"y\": y};\n",
       "};\n",
       "\n",
       "/*\n",
       " * return a copy of an object with only non-object keys\n",
       " * we need this to avoid circular references\n",
       " * http://stackoverflow.com/a/24161582/3208463\n",
       " */\n",
       "function simpleKeys (original) {\n",
       "  return Object.keys(original).reduce(function (obj, key) {\n",
       "    if (typeof original[key] !== 'object')\n",
       "        obj[key] = original[key]\n",
       "    return obj;\n",
       "  }, {});\n",
       "}\n",
       "\n",
       "mpl.figure.prototype.mouse_event = function(event, name) {\n",
       "    var canvas_pos = mpl.findpos(event)\n",
       "\n",
       "    if (name === 'button_press')\n",
       "    {\n",
       "        this.canvas.focus();\n",
       "        this.canvas_div.focus();\n",
       "    }\n",
       "\n",
       "    var x = canvas_pos.x * mpl.ratio;\n",
       "    var y = canvas_pos.y * mpl.ratio;\n",
       "\n",
       "    this.send_message(name, {x: x, y: y, button: event.button,\n",
       "                             step: event.step,\n",
       "                             guiEvent: simpleKeys(event)});\n",
       "\n",
       "    /* This prevents the web browser from automatically changing to\n",
       "     * the text insertion cursor when the button is pressed.  We want\n",
       "     * to control all of the cursor setting manually through the\n",
       "     * 'cursor' event from matplotlib */\n",
       "    event.preventDefault();\n",
       "    return false;\n",
       "}\n",
       "\n",
       "mpl.figure.prototype._key_event_extra = function(event, name) {\n",
       "    // Handle any extra behaviour associated with a key event\n",
       "}\n",
       "\n",
       "mpl.figure.prototype.key_event = function(event, name) {\n",
       "\n",
       "    // Prevent repeat events\n",
       "    if (name == 'key_press')\n",
       "    {\n",
       "        if (event.which === this._key)\n",
       "            return;\n",
       "        else\n",
       "            this._key = event.which;\n",
       "    }\n",
       "    if (name == 'key_release')\n",
       "        this._key = null;\n",
       "\n",
       "    var value = '';\n",
       "    if (event.ctrlKey && event.which != 17)\n",
       "        value += \"ctrl+\";\n",
       "    if (event.altKey && event.which != 18)\n",
       "        value += \"alt+\";\n",
       "    if (event.shiftKey && event.which != 16)\n",
       "        value += \"shift+\";\n",
       "\n",
       "    value += 'k';\n",
       "    value += event.which.toString();\n",
       "\n",
       "    this._key_event_extra(event, name);\n",
       "\n",
       "    this.send_message(name, {key: value,\n",
       "                             guiEvent: simpleKeys(event)});\n",
       "    return false;\n",
       "}\n",
       "\n",
       "mpl.figure.prototype.toolbar_button_onclick = function(name) {\n",
       "    if (name == 'download') {\n",
       "        this.handle_save(this, null);\n",
       "    } else {\n",
       "        this.send_message(\"toolbar_button\", {name: name});\n",
       "    }\n",
       "};\n",
       "\n",
       "mpl.figure.prototype.toolbar_button_onmouseover = function(tooltip) {\n",
       "    this.message.textContent = tooltip;\n",
       "};\n",
       "mpl.toolbar_items = [[\"Home\", \"Reset original view\", \"fa fa-home icon-home\", \"home\"], [\"Back\", \"Back to previous view\", \"fa fa-arrow-left icon-arrow-left\", \"back\"], [\"Forward\", \"Forward to next view\", \"fa fa-arrow-right icon-arrow-right\", \"forward\"], [\"\", \"\", \"\", \"\"], [\"Pan\", \"Pan axes with left mouse, zoom with right\", \"fa fa-arrows icon-move\", \"pan\"], [\"Zoom\", \"Zoom to rectangle\", \"fa fa-square-o icon-check-empty\", \"zoom\"], [\"\", \"\", \"\", \"\"], [\"Download\", \"Download plot\", \"fa fa-floppy-o icon-save\", \"download\"]];\n",
       "\n",
       "mpl.extensions = [\"eps\", \"jpeg\", \"pdf\", \"png\", \"ps\", \"raw\", \"svg\", \"tif\"];\n",
       "\n",
       "mpl.default_extension = \"png\";var comm_websocket_adapter = function(comm) {\n",
       "    // Create a \"websocket\"-like object which calls the given IPython comm\n",
       "    // object with the appropriate methods. Currently this is a non binary\n",
       "    // socket, so there is still some room for performance tuning.\n",
       "    var ws = {};\n",
       "\n",
       "    ws.close = function() {\n",
       "        comm.close()\n",
       "    };\n",
       "    ws.send = function(m) {\n",
       "        //console.log('sending', m);\n",
       "        comm.send(m);\n",
       "    };\n",
       "    // Register the callback with on_msg.\n",
       "    comm.on_msg(function(msg) {\n",
       "        //console.log('receiving', msg['content']['data'], msg);\n",
       "        // Pass the mpl event to the overridden (by mpl) onmessage function.\n",
       "        ws.onmessage(msg['content']['data'])\n",
       "    });\n",
       "    return ws;\n",
       "}\n",
       "\n",
       "mpl.mpl_figure_comm = function(comm, msg) {\n",
       "    // This is the function which gets called when the mpl process\n",
       "    // starts-up an IPython Comm through the \"matplotlib\" channel.\n",
       "\n",
       "    var id = msg.content.data.id;\n",
       "    // Get hold of the div created by the display call when the Comm\n",
       "    // socket was opened in Python.\n",
       "    var element = $(\"#\" + id);\n",
       "    var ws_proxy = comm_websocket_adapter(comm)\n",
       "\n",
       "    function ondownload(figure, format) {\n",
       "        window.open(figure.imageObj.src);\n",
       "    }\n",
       "\n",
       "    var fig = new mpl.figure(id, ws_proxy,\n",
       "                           ondownload,\n",
       "                           element.get(0));\n",
       "\n",
       "    // Call onopen now - mpl needs it, as it is assuming we've passed it a real\n",
       "    // web socket which is closed, not our websocket->open comm proxy.\n",
       "    ws_proxy.onopen();\n",
       "\n",
       "    fig.parent_element = element.get(0);\n",
       "    fig.cell_info = mpl.find_output_cell(\"<div id='\" + id + \"'></div>\");\n",
       "    if (!fig.cell_info) {\n",
       "        console.error(\"Failed to find cell for figure\", id, fig);\n",
       "        return;\n",
       "    }\n",
       "\n",
       "    var output_index = fig.cell_info[2]\n",
       "    var cell = fig.cell_info[0];\n",
       "\n",
       "};\n",
       "\n",
       "mpl.figure.prototype.handle_close = function(fig, msg) {\n",
       "    var width = fig.canvas.width/mpl.ratio\n",
       "    fig.root.unbind('remove')\n",
       "\n",
       "    // Update the output cell to use the data from the current canvas.\n",
       "    fig.push_to_output();\n",
       "    var dataURL = fig.canvas.toDataURL();\n",
       "    // Re-enable the keyboard manager in IPython - without this line, in FF,\n",
       "    // the notebook keyboard shortcuts fail.\n",
       "    IPython.keyboard_manager.enable()\n",
       "    $(fig.parent_element).html('<img src=\"' + dataURL + '\" width=\"' + width + '\">');\n",
       "    fig.close_ws(fig, msg);\n",
       "}\n",
       "\n",
       "mpl.figure.prototype.close_ws = function(fig, msg){\n",
       "    fig.send_message('closing', msg);\n",
       "    // fig.ws.close()\n",
       "}\n",
       "\n",
       "mpl.figure.prototype.push_to_output = function(remove_interactive) {\n",
       "    // Turn the data on the canvas into data in the output cell.\n",
       "    var width = this.canvas.width/mpl.ratio\n",
       "    var dataURL = this.canvas.toDataURL();\n",
       "    this.cell_info[1]['text/html'] = '<img src=\"' + dataURL + '\" width=\"' + width + '\">';\n",
       "}\n",
       "\n",
       "mpl.figure.prototype.updated_canvas_event = function() {\n",
       "    // Tell IPython that the notebook contents must change.\n",
       "    IPython.notebook.set_dirty(true);\n",
       "    this.send_message(\"ack\", {});\n",
       "    var fig = this;\n",
       "    // Wait a second, then push the new image to the DOM so\n",
       "    // that it is saved nicely (might be nice to debounce this).\n",
       "    setTimeout(function () { fig.push_to_output() }, 1000);\n",
       "}\n",
       "\n",
       "mpl.figure.prototype._init_toolbar = function() {\n",
       "    var fig = this;\n",
       "\n",
       "    var nav_element = $('<div/>');\n",
       "    nav_element.attr('style', 'width: 100%');\n",
       "    this.root.append(nav_element);\n",
       "\n",
       "    // Define a callback function for later on.\n",
       "    function toolbar_event(event) {\n",
       "        return fig.toolbar_button_onclick(event['data']);\n",
       "    }\n",
       "    function toolbar_mouse_event(event) {\n",
       "        return fig.toolbar_button_onmouseover(event['data']);\n",
       "    }\n",
       "\n",
       "    for(var toolbar_ind in mpl.toolbar_items){\n",
       "        var name = mpl.toolbar_items[toolbar_ind][0];\n",
       "        var tooltip = mpl.toolbar_items[toolbar_ind][1];\n",
       "        var image = mpl.toolbar_items[toolbar_ind][2];\n",
       "        var method_name = mpl.toolbar_items[toolbar_ind][3];\n",
       "\n",
       "        if (!name) { continue; };\n",
       "\n",
       "        var button = $('<button class=\"btn btn-default\" href=\"#\" title=\"' + name + '\"><i class=\"fa ' + image + ' fa-lg\"></i></button>');\n",
       "        button.click(method_name, toolbar_event);\n",
       "        button.mouseover(tooltip, toolbar_mouse_event);\n",
       "        nav_element.append(button);\n",
       "    }\n",
       "\n",
       "    // Add the status bar.\n",
       "    var status_bar = $('<span class=\"mpl-message\" style=\"text-align:right; float: right;\"/>');\n",
       "    nav_element.append(status_bar);\n",
       "    this.message = status_bar[0];\n",
       "\n",
       "    // Add the close button to the window.\n",
       "    var buttongrp = $('<div class=\"btn-group inline pull-right\"></div>');\n",
       "    var button = $('<button class=\"btn btn-mini btn-primary\" href=\"#\" title=\"Stop Interaction\"><i class=\"fa fa-power-off icon-remove icon-large\"></i></button>');\n",
       "    button.click(function (evt) { fig.handle_close(fig, {}); } );\n",
       "    button.mouseover('Stop Interaction', toolbar_mouse_event);\n",
       "    buttongrp.append(button);\n",
       "    var titlebar = this.root.find($('.ui-dialog-titlebar'));\n",
       "    titlebar.prepend(buttongrp);\n",
       "}\n",
       "\n",
       "mpl.figure.prototype._root_extra_style = function(el){\n",
       "    var fig = this\n",
       "    el.on(\"remove\", function(){\n",
       "\tfig.close_ws(fig, {});\n",
       "    });\n",
       "}\n",
       "\n",
       "mpl.figure.prototype._canvas_extra_style = function(el){\n",
       "    // this is important to make the div 'focusable\n",
       "    el.attr('tabindex', 0)\n",
       "    // reach out to IPython and tell the keyboard manager to turn it's self\n",
       "    // off when our div gets focus\n",
       "\n",
       "    // location in version 3\n",
       "    if (IPython.notebook.keyboard_manager) {\n",
       "        IPython.notebook.keyboard_manager.register_events(el);\n",
       "    }\n",
       "    else {\n",
       "        // location in version 2\n",
       "        IPython.keyboard_manager.register_events(el);\n",
       "    }\n",
       "\n",
       "}\n",
       "\n",
       "mpl.figure.prototype._key_event_extra = function(event, name) {\n",
       "    var manager = IPython.notebook.keyboard_manager;\n",
       "    if (!manager)\n",
       "        manager = IPython.keyboard_manager;\n",
       "\n",
       "    // Check for shift+enter\n",
       "    if (event.shiftKey && event.which == 13) {\n",
       "        this.canvas_div.blur();\n",
       "        event.shiftKey = false;\n",
       "        // Send a \"J\" for go to next cell\n",
       "        event.which = 74;\n",
       "        event.keyCode = 74;\n",
       "        manager.command_mode();\n",
       "        manager.handle_keydown(event);\n",
       "    }\n",
       "}\n",
       "\n",
       "mpl.figure.prototype.handle_save = function(fig, msg) {\n",
       "    fig.ondownload(fig, null);\n",
       "}\n",
       "\n",
       "\n",
       "mpl.find_output_cell = function(html_output) {\n",
       "    // Return the cell and output element which can be found *uniquely* in the notebook.\n",
       "    // Note - this is a bit hacky, but it is done because the \"notebook_saving.Notebook\"\n",
       "    // IPython event is triggered only after the cells have been serialised, which for\n",
       "    // our purposes (turning an active figure into a static one), is too late.\n",
       "    var cells = IPython.notebook.get_cells();\n",
       "    var ncells = cells.length;\n",
       "    for (var i=0; i<ncells; i++) {\n",
       "        var cell = cells[i];\n",
       "        if (cell.cell_type === 'code'){\n",
       "            for (var j=0; j<cell.output_area.outputs.length; j++) {\n",
       "                var data = cell.output_area.outputs[j];\n",
       "                if (data.data) {\n",
       "                    // IPython >= 3 moved mimebundle to data attribute of output\n",
       "                    data = data.data;\n",
       "                }\n",
       "                if (data['text/html'] == html_output) {\n",
       "                    return [cell, data, j];\n",
       "                }\n",
       "            }\n",
       "        }\n",
       "    }\n",
       "}\n",
       "\n",
       "// Register the function which deals with the matplotlib target/channel.\n",
       "// The kernel may be null if the page has been refreshed.\n",
       "if (IPython.notebook.kernel != null) {\n",
       "    IPython.notebook.kernel.comm_manager.register_target('matplotlib', mpl.mpl_figure_comm);\n",
       "}\n"
      ],
      "text/plain": [
       "<IPython.core.display.Javascript object>"
      ]
     },
     "metadata": {},
     "output_type": "display_data"
    },
    {
     "data": {
      "text/html": [
       "<img src=\"data:image/png;base64,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\" width=\"800\">"
      ],
      "text/plain": [
       "<IPython.core.display.HTML object>"
      ]
     },
     "metadata": {},
     "output_type": "display_data"
    }
   ],
   "source": [
    "save = True\n",
    "debug = False\n",
    "verbose = False\n",
    "eps = 0.05\n",
    "\n",
    "%matplotlib notebook\n",
    "\n",
    "fig = plt.figure(figsize = (8,6))\n",
    "\n",
    "# define some derived constants\n",
    "H_LEV = len(MAP_H_THRESHOLDS)\n",
    "CARGO_LEV = len(CARGO_THRESHOLDS)\n",
    "\n",
    "verbose_print = print if verbose else lambda *args, **kwargs : None # define verbose printing function\n",
    "\n",
    "env = Env.HaliteEnv(NUM_PLAYERS, MAP_SIZE, episode_lenght = 100) # init environment\n",
    "steps = 0\n",
    "reward = 0 # cumulative reward of the episode\n",
    "passages = 0 # number of times the ship passes through the shipyard\n",
    "\n",
    "# first mandatory step\n",
    "steps = steps + 1\n",
    "verbose_print(\"\\nStep number %d:\"%steps)\n",
    "action_matrix = np.full((MAP_SIZE,MAP_SIZE), -1) # no ship, no action\n",
    "shipyard_action = True # initially always choose to create a ship\n",
    "# returns the matricial state, the array of players halite and a flag that is true if it's the final turn\n",
    "state, players_halite, finish, _ = env.step(action_matrix, makeship = shipyard_action) \n",
    "current_halite = players_halite[0][0]\n",
    "#----------------------------------------------------------\n",
    "rgb_map = color_sea(state[:,:,0]) # get rgb map of blue tonalities\n",
    "plt.imshow(rgb_map) # show map\n",
    "plt.title(\"Turn: %d    Halite: %d\"%(steps,current_halite))\n",
    "plt.yticks([])\n",
    "plt.xticks([])\n",
    "fig.show()\n",
    "fig.canvas.draw() # update the figure\n",
    "#time.sleep(0.2) #uncomment to slow down for visualization purposes\n",
    "if save:\n",
    "    plt.savefig('.raw_gif/turn%.3d.png'%steps)\n",
    "#-----------------------------------------------------------\n",
    "s_enc = cod.encode_state_v1(state, MAP_H_THRESHOLDS, CARGO_THRESHOLDS, map_size = MAP_SIZE, debug = debug)\n",
    "\n",
    "\n",
    "while True:\n",
    "    steps = steps + 1\n",
    "    verbose_print(\"\\nStep number %d:\"%steps)\n",
    "    verbose_print(\"Current halite: \", current_halite)\n",
    "    a_enc = ship.e_greedy_policy(s_enc, q_values, eps = eps)\n",
    "    a_mat = cod.scalar_to_matrix_action(a_enc, state, map_size = MAP_SIZE) #convert the action in matricial form\n",
    "    s_dec = cod.decode3D(s_enc, L1 = MAP_SIZE**2, L2 = CARGO_LEV*H_LEV**5, L3 = N_ACTIONS-1)\n",
    "    x,y = cod.decode(s_dec[0], L=MAP_SIZE) # position of the ship, used in rendering\n",
    "    ship_cargo = state[x,y,2] # halite in the ship, used in rendering\n",
    "    # submit the action and get the new state\n",
    "    state, players_halite, finish, _ = env.step(a_mat, makeship = False) \n",
    "\n",
    "    new_halite = players_halite[0][0]\n",
    "\n",
    "    # compute the 1-ship reward as the halite increment of the player divided by the max halite \n",
    "    # plus a standard negative reward \n",
    "    #---------------------------------------------------------------------------------------------------------\n",
    "    if new_halite == current_halite:\n",
    "        r =  R0\n",
    "    else:\n",
    "        r = (new_halite - current_halite)/1000 + R1 # this is the change in the code\n",
    "    #---------------------------------------------------------------------------------------------------------\n",
    "    sp_enc = cod.encode_state_v1(state, MAP_H_THRESHOLDS, CARGO_THRESHOLDS, map_size = MAP_SIZE, debug = debug)\n",
    "    reward += r # cumulative reward of the episode\n",
    "\n",
    "    # adds 1 to passages if the current position of the ship coincides with that of the shipyard\n",
    "    # whereas the previous position didn't\n",
    "    \n",
    "    sp_dec = cod.decode3D(sp_enc, L1 = MAP_SIZE**2, L2 = CARGO_LEV*H_LEV**5, L3 = N_ACTIONS-1)\n",
    "    shipy_pos = (MAP_SIZE**2-1)/2 #shipyard is at the center of the map\n",
    "    if (sp_dec[0] == shipy_pos and s_dec[0] != shipy_pos):\n",
    "        passages = passages +1\n",
    "\n",
    "    a_temp_enc = ship.greedy_policy(sp_enc, q_values) # simulate the best action in the new state (before update)\n",
    "\n",
    "    #----------------------------------------------------------\n",
    "    rgb_map = color_sea(state[:,:,0]) # get rgb map of blue tonalities\n",
    "    rgb_map[x ,y,:] = color_ship(ship_cargo) # superimpose the ship pixel with a yellow tonality\n",
    "    plt.cla() # clear current axis from previous drawings -> prevents matplotlib from slowing down\n",
    "    plt.imshow(rgb_map)\n",
    "    plt.title(\"Turn: %d    Halite: %d    Carried: %d\"%(steps,current_halite-4000,ship_cargo))\n",
    "    plt.yticks([]) # remove y ticks\n",
    "    plt.xticks([]) # remove x ticks\n",
    "    fig.canvas.draw() # update the figure\n",
    "    #time.sleep(2) #uncomment to slow down for visualization purposes\n",
    "    if save:\n",
    "        plt.savefig('.raw_gif/turn%.3d.png'%(steps*2))\n",
    "    # shows Q-values projected on the cells adjacent to the ship\n",
    "    rgb_map = decision_map(q_values[s_enc], x, y, rgb_map, MAP_SIZE) \n",
    "    plt.imshow(rgb_map)\n",
    "    #move_dict = {0:'C',1:'S',2:'N',3:'E',4:'W'}\n",
    "    plt.title(\"Turn: %d    Halite: %d    Carried: %d\"%(steps, current_halite-4000, ship_cargo))\n",
    "    #+\"Next action: \"+move_dict[a_enc]) # to print also what the next move will be\n",
    "    plt.yticks([]) # remove y ticks\n",
    "    plt.xticks([]) # remove x ticks\n",
    "    fig.canvas.draw() # update the figure\n",
    "    #time.sleep(2) #uncomment to slow down for visualization purposes\n",
    "    if save:\n",
    "        plt.savefig('.raw_gif/turn%.3d.png'%(steps*2+1))\n",
    "    #-----------------------------------------------------------\n",
    "    \n",
    "    # update Q-values\n",
    "    q_values = ship.update_q_v3(s_enc, a_enc, r, sp_enc, a_temp_enc, q_values, \n",
    "                                alpha = LEARNING_RATE, gamma = DISCOUNT_FACTOR, map_size = MAP_SIZE, \n",
    "                                h_lev = H_LEV, cargo_lev = CARGO_LEV, n_actions = N_ACTIONS)\n",
    "\n",
    "    # update states and halite\n",
    "    s_enc = sp_enc\n",
    "    current_halite = new_halite\n",
    "\n",
    "    if (finish == True) or (steps >= 400):\n",
    "        verbose_print(\"\\nEnd episode.\")\n",
    "        break"
   ]
  },
  {
   "cell_type": "code",
   "execution_count": 14,
   "metadata": {},
   "outputs": [],
   "source": [
    "import os\n",
    "filenames = os.listdir('.raw_gif') # get the names of all the files in .raw_gif directory\n",
    "filenames.sort() # sort them by name (i.e. by turn in our specific case)"
   ]
  },
  {
   "cell_type": "code",
   "execution_count": 15,
   "metadata": {},
   "outputs": [],
   "source": [
    "# ! pip install imageio\n",
    "import imageio\n",
    "images = []\n",
    "for filename in filenames:\n",
    "    images.append(imageio.imread('.raw_gif/'+filename))\n",
    "imageio.mimsave('Support_material/play_episode.gif', images, duration=0.75) # make gif"
   ]
  },
  {
   "cell_type": "markdown",
   "metadata": {},
   "source": [
    "<img src='Support_material/play_episode.gif'>"
   ]
  },
  {
   "cell_type": "markdown",
   "metadata": {},
   "source": [
    "## Final remarks and future developments\n",
    "\n",
    "As you can see, this time the agent has learned to be patient enough to wait until having a cargo of 800 before returning back to the shipyard. \n",
    "\n",
    "We think that, even though with some tricks the performances of the agent could be boosted, the task is qualitatively solved for a single agent. \n",
    "\n",
    "Some future developments are:\n",
    "1. Scaling to multi-agent system (we will probably reduce the number of turns in an episode in order not to finish the halite and maybe also increase a bit the map size to have more space of maneuver).\n",
    "2. Using DeepQ-learning to go beyond tabular methods both in generality and in performances. The most annoying thing of tabular methods is the fact that they do not really understand the space of the game and they just encode it categorically; this is of course the greatest limitation of this method.\n",
    "3. Find some efficient way to use the symmetry of the problem at our advantage. Potentially we could have 8x of the experience with the same number of epochs and this could also help the algorithm to be much more stable.\n",
    "\n",
    "\n",
    "If you've come this far in the tutorials we sincerely thank you for the interest. Please write to us for any comments or informations (you can find our emails at the beginning of the README."
   ]
  }
 ],
 "metadata": {
  "kernelspec": {
   "display_name": "python3_halite",
   "language": "python",
   "name": "python3_halite"
  },
  "language_info": {
   "codemirror_mode": {
    "name": "ipython",
    "version": 3
   },
   "file_extension": ".py",
   "mimetype": "text/x-python",
   "name": "python",
   "nbconvert_exporter": "python",
   "pygments_lexer": "ipython3",
   "version": "3.7.4"
  }
 },
 "nbformat": 4,
 "nbformat_minor": 2
}
